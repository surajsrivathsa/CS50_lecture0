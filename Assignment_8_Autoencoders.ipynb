{
  "nbformat": 4,
  "nbformat_minor": 0,
  "metadata": {
    "colab": {
      "name": "Assignment 8: Autoencoders.ipynb",
      "provenance": [],
      "collapsed_sections": [
        "boxULgyQB4I-",
        "2mEAF-k1Kjhf",
        "X0UzHjUHcvc0",
        "ePmn3D369IjX",
        "_WHw0ZEW9yNn"
      ],
      "authorship_tag": "ABX9TyOh3FAZrBrLe/+peT5vOkHy",
      "include_colab_link": true
    },
    "kernelspec": {
      "name": "python3",
      "display_name": "Python 3"
    },
    "accelerator": "GPU"
  },
  "cells": [
    {
      "cell_type": "markdown",
      "metadata": {
        "id": "view-in-github",
        "colab_type": "text"
      },
      "source": [
        "<a href=\"https://colab.research.google.com/github/surajsrivathsa/ovgu_deeplearning/blob/master/Assignment_8_Autoencoders.ipynb\" target=\"_parent\"><img src=\"https://colab.research.google.com/assets/colab-badge.svg\" alt=\"Open In Colab\"/></a>"
      ]
    },
    {
      "cell_type": "markdown",
      "metadata": {
        "id": "FU_9dD0WiFPt",
        "colab_type": "text"
      },
      "source": [
        "Deep Learning programming task\n",
        "\n",
        "**Assignment 8:** Autoencoders\n",
        "\n",
        "**Team members:**\n",
        "1. Sanjeeth Busnur Indushekar: 224133 : sanjeeth.busnur@st.ovgu.de\n",
        "2. Aditya Dey : 230580 : aditya.dey@st.ovgu.de\n",
        "3. Suraj Shashidhar: 230052 : suraj.shashidhar@st.ovgu.de"
      ]
    },
    {
      "cell_type": "markdown",
      "metadata": {
        "id": "16GTsDxJd8Dt",
        "colab_type": "text"
      },
      "source": [
        "**Experiments**\n",
        "\n",
        "1. **Simple MLP Based Autoencoders**\n",
        "\n",
        "a) Activations: Sigmoid, ReLU, Tanh\n",
        "\n",
        "b) Loss Functions used: Mean squared error\n",
        "2. **Convolutional Autoencoders**\n",
        "\n",
        "a) Use any number of filters and layers, While decoding last layer must have same filters as input image. Conv2DTranspose is the layer at decoder.\n",
        "\n",
        "b) With Upsampling at decoder.\n",
        "\n",
        "c) With FC layer at encoder.\n",
        "\n",
        "3. **Model interpretation (Used MNSIT for interpretability)**\n",
        "\n",
        "a) Display filters\n",
        "\n",
        "b) Changing the encoder states manually and output the image. Analyze it.\n",
        "\n",
        "\n",
        "4. **Unsupervised Pretraining**\n",
        "\n",
        "a) Train autoencoder – freeze encoder – train classifier on top (as described above).\n",
        "\n",
        "b) Train autoencoder – train classifier on top of encoder. Do not freeze the encoder, i.e. the encoder is “fine-tuned” on the labeled subset of data as well.\n",
        "\n",
        "c) Train a classifier directly on the labeled subset; no pretraining. For fairness, it should have the same architecture as the encoder + classifier above.\n",
        "\n",
        "\n"
      ]
    },
    {
      "cell_type": "code",
      "metadata": {
        "id": "Adh3WsE1dmkG",
        "colab_type": "code",
        "colab": {}
      },
      "source": [
        "import os\n",
        "%tensorflow_version 2.x\n",
        "import tensorflow as tf\n",
        "from sklearn import preprocessing\n",
        "from google.colab import files\n",
        "from google.colab import drive\n",
        "import matplotlib.pyplot as plt\n",
        "import pandas as pd\n",
        "import copy\n",
        "import numpy as np\n",
        "import random"
      ],
      "execution_count": 0,
      "outputs": []
    },
    {
      "cell_type": "code",
      "metadata": {
        "id": "59zPOCe1KwKa",
        "colab_type": "code",
        "colab": {
          "base_uri": "https://localhost:8080/",
          "height": 34
        },
        "outputId": "069aed26-fbd3-446b-ee40-2d88613795af"
      },
      "source": [
        "from tensorflow import keras\n",
        "from tensorflow.keras.preprocessing.image import ImageDataGenerator\n",
        "from keras.preprocessing import image\n",
        "from tensorflow.keras import datasets, layers, models\n",
        "from tensorflow.keras import initializers\n",
        "from datasets import MNISTDataset"
      ],
      "execution_count": 4,
      "outputs": [
        {
          "output_type": "stream",
          "text": [
            "Using TensorFlow backend.\n"
          ],
          "name": "stderr"
        }
      ]
    },
    {
      "cell_type": "code",
      "metadata": {
        "id": "-0iZWwrneCIk",
        "colab_type": "code",
        "outputId": "3dd15497-3b10-448f-c919-744b55d857f6",
        "colab": {
          "resources": {
            "http://localhost:8080/nbextensions/google.colab/files.js": {
              "data": "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",
              "ok": true,
              "headers": [
                [
                  "content-type",
                  "application/javascript"
                ]
              ],
              "status": 200,
              "status_text": ""
            }
          },
          "base_uri": "https://localhost:8080/",
          "height": 110
        }
      },
      "source": [
        "files.upload()"
      ],
      "execution_count": 0,
      "outputs": [
        {
          "output_type": "display_data",
          "data": {
            "text/html": [
              "\n",
              "     <input type=\"file\" id=\"files-7f4f298f-230d-43e0-ad7c-a595761bd43b\" name=\"files[]\" multiple disabled />\n",
              "     <output id=\"result-7f4f298f-230d-43e0-ad7c-a595761bd43b\">\n",
              "      Upload widget is only available when the cell has been executed in the\n",
              "      current browser session. Please rerun this cell to enable.\n",
              "      </output>\n",
              "      <script src=\"/nbextensions/google.colab/files.js\"></script> "
            ],
            "text/plain": [
              "<IPython.core.display.HTML object>"
            ]
          },
          "metadata": {
            "tags": []
          }
        },
        {
          "output_type": "stream",
          "text": [
            "Saving datasets.py to datasets.py\n"
          ],
          "name": "stdout"
        },
        {
          "output_type": "execute_result",
          "data": {
            "text/plain": [
              "{'datasets.py': b'import numpy as np\\n\\n\\nclass MNISTDataset:\\n    \"\"\"\\'Bare minimum\\' class to wrap MNIST numpy arrays into a dataset.\"\"\"\\n    def __init__(self, train_imgs, train_lbs, test_imgs, test_lbls, batch_size,\\n                 to01=True, shuffle=True, seed=None):\\n        \"\"\"\\n        Use seed optionally to always get the same shuffling (-> reproducible\\n        results).\\n        \"\"\"\\n        self.batch_size = batch_size\\n        self.train_data = train_imgs\\n        self.train_labels = train_lbs.astype(np.int32)\\n        self.test_data = test_imgs\\n        self.test_labels = test_lbls.astype(np.int32)\\n\\n        if to01:\\n            # int in [0, 255] -> float in [0, 1]\\n            self.train_data = self.train_data.astype(np.float32) / 255\\n            self.test_data = self.test_data.astype(np.float32) / 255\\n\\n        self.size = self.train_data.shape[0]\\n\\n        if seed:\\n            np.random.seed(seed)\\n        if shuffle:\\n            self.shuffle_train()\\n        self.shuffle = shuffle\\n        self.current_pos = 0\\n\\n    def next_batch(self):\\n        \"\"\"Either gets the next batch, or optionally shuffles and starts a\\n        new epoch.\"\"\"\\n        end_pos = self.current_pos + self.batch_size\\n        if end_pos < self.size:\\n            batch = (self.train_data[self.current_pos:end_pos],\\n                     self.train_labels[self.current_pos:end_pos])\\n            self.current_pos += self.batch_size\\n        else:\\n            # we return what\\'s left (-> possibly smaller batch!) and prepare\\n            # the start of a new epoch\\n            batch = (self.train_data[self.current_pos:self.size],\\n                     self.train_labels[self.current_pos:self.size])\\n            if self.shuffle:\\n                self.shuffle_train()\\n            self.current_pos = 0\\n            # print(\"Starting new epoch...\")\\n        return batch\\n\\n    def shuffle_train(self):\\n        shuffled_inds = np.arange(self.train_data.shape[0])\\n        np.random.shuffle(shuffled_inds)\\n        self.train_data = self.train_data[shuffled_inds]\\n        self.train_labels = self.train_labels[shuffled_inds]\\n'}"
            ]
          },
          "metadata": {
            "tags": []
          },
          "execution_count": 2
        }
      ]
    },
    {
      "cell_type": "code",
      "metadata": {
        "id": "nO6eemPNfoat",
        "colab_type": "code",
        "outputId": "4eb40c70-e45a-4220-fd06-46e36b086327",
        "colab": {
          "base_uri": "https://localhost:8080/",
          "height": 52
        }
      },
      "source": [
        "  print(os.getcwd())\n",
        "  print(tf.__version__)"
      ],
      "execution_count": 5,
      "outputs": [
        {
          "output_type": "stream",
          "text": [
            "/content\n",
            "2.2.0\n"
          ],
          "name": "stdout"
        }
      ]
    },
    {
      "cell_type": "code",
      "metadata": {
        "id": "F420Gu-7f3x8",
        "colab_type": "code",
        "colab": {}
      },
      "source": [
        "drive.mount('/content/drive')"
      ],
      "execution_count": 0,
      "outputs": []
    },
    {
      "cell_type": "code",
      "metadata": {
        "id": "676Zm3kMgNJP",
        "colab_type": "code",
        "outputId": "b8db43cf-14e0-4151-bad3-61511d66860e",
        "colab": {
          "base_uri": "https://localhost:8080/",
          "height": 105
        }
      },
      "source": [
        "\n",
        "path = '.'\n",
        " \n",
        "files = os.listdir(path)\n",
        "for name in files:\n",
        "    print(name)"
      ],
      "execution_count": 6,
      "outputs": [
        {
          "output_type": "stream",
          "text": [
            ".config\n",
            "datasets.py\n",
            "conv_model_with_fc_noise.zip\n",
            "__pycache__\n",
            "sample_data\n"
          ],
          "name": "stdout"
        }
      ]
    },
    {
      "cell_type": "markdown",
      "metadata": {
        "id": "boxULgyQB4I-",
        "colab_type": "text"
      },
      "source": [
        "# **Data Preprocessing**"
      ]
    },
    {
      "cell_type": "code",
      "metadata": {
        "id": "G3ihYv6aB7ld",
        "colab_type": "code",
        "outputId": "1d659d4c-c711-4aa5-fe44-9760cf21800f",
        "colab": {
          "base_uri": "https://localhost:8080/",
          "height": 317
        }
      },
      "source": [
        "mnist = tf.keras.datasets.mnist\n",
        "(train_images, train_labels), (test_images, test_labels) = mnist.load_data()\n",
        "plt.imshow(train_images[4], cmap=\"Greys_r\")\n",
        "print(train_labels[1:10])\n",
        "\n",
        "#Normalizing images\n",
        "train_images = train_images / 255.0\n",
        "\n",
        "test_images = test_images / 255.0"
      ],
      "execution_count": 7,
      "outputs": [
        {
          "output_type": "stream",
          "text": [
            "Downloading data from https://storage.googleapis.com/tensorflow/tf-keras-datasets/mnist.npz\n",
            "11493376/11490434 [==============================] - 0s 0us/step\n",
            "[0 4 1 9 2 1 3 1 4]\n"
          ],
          "name": "stdout"
        },
        {
          "output_type": "display_data",
          "data": {
            "image/png": "[encoded data removed]",
            "text/plain": [
              "<Figure size 432x288 with 1 Axes>"
            ]
          },
          "metadata": {
            "tags": [],
            "needs_background": "light"
          }
        }
      ]
    },
    {
      "cell_type": "code",
      "metadata": {
        "id": "M8B2q_L-B7oM",
        "colab_type": "code",
        "outputId": "f0304473-b6a2-4449-d2bc-76037b0668ed",
        "colab": {
          "base_uri": "https://localhost:8080/",
          "height": 34
        }
      },
      "source": [
        "flattened_data = MNISTDataset(train_images.reshape([-1, 784]), train_labels, \n",
        "                    test_images.reshape([-1, 784]), test_labels,\n",
        "                    batch_size=128)\n",
        "print(train_images.reshape([-1, 784]).shape)\n",
        "train_images_flattened = train_images.reshape([-1, 784])\n",
        "test_images_flattened = test_images.reshape([-1, 784])"
      ],
      "execution_count": 8,
      "outputs": [
        {
          "output_type": "stream",
          "text": [
            "(60000, 784)\n"
          ],
          "name": "stdout"
        }
      ]
    },
    {
      "cell_type": "code",
      "metadata": {
        "id": "y2Xm-LxiB7vA",
        "colab_type": "code",
        "outputId": "425e0fd9-f113-48c2-c844-af25a653b780",
        "colab": {
          "base_uri": "https://localhost:8080/",
          "height": 87
        }
      },
      "source": [
        "print(train_images.shape)\n",
        "print(train_labels.shape)\n",
        "print(test_images.shape)\n",
        "print(test_labels.shape)"
      ],
      "execution_count": 9,
      "outputs": [
        {
          "output_type": "stream",
          "text": [
            "(60000, 28, 28)\n",
            "(60000,)\n",
            "(10000, 28, 28)\n",
            "(10000,)\n"
          ],
          "name": "stdout"
        }
      ]
    },
    {
      "cell_type": "markdown",
      "metadata": {
        "id": "2mEAF-k1Kjhf",
        "colab_type": "text"
      },
      "source": [
        "# **Simple MLP Autoencoders**\n",
        "\n",
        "1) Using Mean squared error/MAE with relu, tanh and sigmoid\n",
        "\n",
        "**Summary:**\n",
        "\n",
        "1) Most of the models created did not have any sort of regularization, denoising to prevent network to copying the input to output rather than learning. Even with this models that had sigmoid or tanh in hidden layers did not learn anything (even copying). Instead they cheated by trying to decrease the loss by simply outputing white pixel cluster near centers and block at edges. model_tanh, model_sigmoids output can be seen here as an example.\n",
        "\n",
        "2) Model with relu at hidden and sigmoid at output gave relatively better performance than others, as it learnt to predict/or atleast copy input to output\n",
        "\n",
        "3) Model with relu as hidden and linear at the output gave blurred versions of the images and they were not as clear as with sigmoid at output. This could be because linear at output could have negative values or any other values that don't scale/fit well when converted to pixel values, whilst sigmoids output is between 0/1 makes it better for output layer in this case.\n",
        "\n",
        "4) Same with Model with sigmoid as hidden and linear as out. The images were blurred but also some wrong predictions. For example it was matching anything with stright stroke to 7(1->7, 7-> 7), similary 3 to 8"
      ]
    },
    {
      "cell_type": "code",
      "metadata": {
        "id": "SVybwuXZEqgP",
        "colab_type": "code",
        "colab": {}
      },
      "source": [
        "def create_mlp_model(input_shape=(28, 28), layer_dims=[256,128,64,32,64,128,256,784],output_activation=\"sigmoid\",hidden_activation=\"relu\"):\n",
        "  model = keras.Sequential([keras.layers.Flatten(input_shape=input_shape)])\n",
        "  #Loop till penultimate layer that is the penultimate decoder\n",
        "  for i in range (len(layer_dims)-1):\n",
        "    model.add(tf.keras.layers.Dense(units=layer_dims[i],activation=hidden_activation))\n",
        "  \n",
        "  #Add the output at end\n",
        "  model.add(tf.keras.layers.Dense(units=layer_dims[-1],activation=output_activation)) \n",
        "  return model;\n",
        "\n"
      ],
      "execution_count": 0,
      "outputs": []
    },
    {
      "cell_type": "code",
      "metadata": {
        "id": "Gf3JLqQbJwGb",
        "colab_type": "code",
        "colab": {}
      },
      "source": [
        "model_relu = create_mlp_model(input_shape=(28, 28), layer_dims=[256,128,64,32,64,128,256,784],output_activation=\"sigmoid\",hidden_activation=\"relu\")\n",
        "model_sigmoid = create_mlp_model(input_shape=(28, 28), layer_dims=[256,128,64,32,64,128,256,784],output_activation=\"sigmoid\",hidden_activation=\"sigmoid\")\n",
        "model_tanh = create_mlp_model(input_shape=(28, 28), layer_dims=[256,128,64,32,64,128,256,784],output_activation=\"sigmoid\",hidden_activation=\"tanh\")\n",
        "model_linear = create_mlp_model(input_shape=(28, 28), layer_dims=[256,128,64,32,64,128,256,784],output_activation=\"sigmoid\",hidden_activation=\"linear\")\n"
      ],
      "execution_count": 0,
      "outputs": []
    },
    {
      "cell_type": "code",
      "metadata": {
        "id": "51eKS9-ZVgoD",
        "colab_type": "code",
        "colab": {}
      },
      "source": [
        "model_linear2 = create_mlp_model(input_shape=(28, 28), layer_dims=[256,128,64,32,64,128,256,784],output_activation=\"linear\",hidden_activation=\"sigmoid\")"
      ],
      "execution_count": 0,
      "outputs": []
    },
    {
      "cell_type": "code",
      "metadata": {
        "id": "qOZPQd0BX4H6",
        "colab_type": "code",
        "colab": {}
      },
      "source": [
        "model_linear3 = create_mlp_model(input_shape=(28, 28), layer_dims=[256,128,64,32,64,128,256,784],output_activation=\"linear\",hidden_activation=\"relu\")"
      ],
      "execution_count": 0,
      "outputs": []
    },
    {
      "cell_type": "code",
      "metadata": {
        "id": "2qGY3EHUZchI",
        "colab_type": "code",
        "colab": {}
      },
      "source": [
        "model_relu2 = create_mlp_model(input_shape=(28, 28), layer_dims=[256,128,64,32,64,128,256,784],output_activation=\"sigmoid\",hidden_activation=\"relu\")\n"
      ],
      "execution_count": 0,
      "outputs": []
    },
    {
      "cell_type": "code",
      "metadata": {
        "id": "Q4S3gne4KqDZ",
        "colab_type": "code",
        "outputId": "49874ecb-cb92-406b-a78d-8d24bd465fe0",
        "colab": {
          "base_uri": "https://localhost:8080/",
          "height": 478
        }
      },
      "source": [
        "#Printing model summary to initial check\n",
        "model_relu.summary()"
      ],
      "execution_count": 0,
      "outputs": [
        {
          "output_type": "stream",
          "text": [
            "Model: \"sequential_16\"\n",
            "_________________________________________________________________\n",
            "Layer (type)                 Output Shape              Param #   \n",
            "=================================================================\n",
            "flatten_1 (Flatten)          (None, 784)               0         \n",
            "_________________________________________________________________\n",
            "dense_75 (Dense)             (None, 256)               200960    \n",
            "_________________________________________________________________\n",
            "dense_76 (Dense)             (None, 128)               32896     \n",
            "_________________________________________________________________\n",
            "dense_77 (Dense)             (None, 64)                8256      \n",
            "_________________________________________________________________\n",
            "dense_78 (Dense)             (None, 32)                2080      \n",
            "_________________________________________________________________\n",
            "dense_79 (Dense)             (None, 64)                2112      \n",
            "_________________________________________________________________\n",
            "dense_80 (Dense)             (None, 128)               8320      \n",
            "_________________________________________________________________\n",
            "dense_81 (Dense)             (None, 256)               33024     \n",
            "_________________________________________________________________\n",
            "dense_82 (Dense)             (None, 784)               201488    \n",
            "=================================================================\n",
            "Total params: 489,136\n",
            "Trainable params: 489,136\n",
            "Non-trainable params: 0\n",
            "_________________________________________________________________\n"
          ],
          "name": "stdout"
        }
      ]
    },
    {
      "cell_type": "code",
      "metadata": {
        "id": "b_GpJP8gL0xo",
        "colab_type": "code",
        "colab": {}
      },
      "source": [
        "def compile_mlp_model(model,loss=\"MAE\", metrics=[\"accuracy\"], optimizer = \"adam\"):\n",
        "  if(loss == \"MAE\"):\n",
        "    model.compile(optimizer=optimizer, loss=tf.keras.losses.MAE, metrics=metrics)\n",
        "  elif (loss == \"MSQE\"):\n",
        "    model.compile(optimizer=optimizer, loss=tf.keras.losses.mean_squared_error, metrics=metrics)\n",
        "  else:\n",
        "    model.compile(optimizer=optimizer, loss=tf.keras.losses.binary_crossentropy, metrics=metrics)\n"
      ],
      "execution_count": 0,
      "outputs": []
    },
    {
      "cell_type": "code",
      "metadata": {
        "id": "GbrJEJa5JyCM",
        "colab_type": "code",
        "colab": {}
      },
      "source": [
        "\n",
        "compile_mlp_model(model_linear, loss = \"MSQE\", metrics=[\"accuracy\", tf.keras.metrics.FalseNegatives(), tf.keras.metrics.FalsePositives()])\n",
        "compile_mlp_model(model_tanh, loss = \"MSQE\", metrics=[\"accuracy\", tf.keras.metrics.FalseNegatives(), tf.keras.metrics.FalsePositives()])\n",
        "compile_mlp_model(model_sigmoid, loss = \"MSQE\", metrics=[\"accuracy\", tf.keras.metrics.FalseNegatives(), tf.keras.metrics.FalsePositives()])\n",
        "compile_mlp_model(model_relu, loss = \"MSQE\", metrics=[\"accuracy\", tf.keras.metrics.FalseNegatives(), tf.keras.metrics.FalsePositives()])\n"
      ],
      "execution_count": 0,
      "outputs": []
    },
    {
      "cell_type": "code",
      "metadata": {
        "id": "IaAWx6sqVpG0",
        "colab_type": "code",
        "colab": {}
      },
      "source": [
        "compile_mlp_model(model_linear2, loss = \"MSQE\", metrics=[\"accuracy\"])"
      ],
      "execution_count": 0,
      "outputs": []
    },
    {
      "cell_type": "code",
      "metadata": {
        "id": "UDt5I8fAX1mY",
        "colab_type": "code",
        "colab": {}
      },
      "source": [
        "compile_mlp_model(model_linear2, loss = \"MSQE\", metrics=[\"accuracy\"])"
      ],
      "execution_count": 0,
      "outputs": []
    },
    {
      "cell_type": "code",
      "metadata": {
        "id": "tbQ6p7N3YCl8",
        "colab_type": "code",
        "colab": {}
      },
      "source": [
        "compile_mlp_model(model_linear3, loss = \"MSQE\", metrics=[\"accuracy\"])"
      ],
      "execution_count": 0,
      "outputs": []
    },
    {
      "cell_type": "code",
      "metadata": {
        "id": "esrdEM85ZaX0",
        "colab_type": "code",
        "colab": {}
      },
      "source": [
        "compile_mlp_model(model_sigmoid, loss = \"MSQE\", metrics=[\"accuracy\", tf.keras.metrics.FalseNegatives(), tf.keras.metrics.FalsePositives()])"
      ],
      "execution_count": 0,
      "outputs": []
    },
    {
      "cell_type": "code",
      "metadata": {
        "id": "HFBHzKdpZq_r",
        "colab_type": "code",
        "colab": {}
      },
      "source": [
        "compile_mlp_model(model_relu2, metrics=[\"accuracy\"])"
      ],
      "execution_count": 0,
      "outputs": []
    },
    {
      "cell_type": "code",
      "metadata": {
        "id": "lg2H4wmzWG-s",
        "colab_type": "code",
        "outputId": "6f602839-1d11-4d8c-ad69-613ce3403b45",
        "colab": {
          "base_uri": "https://localhost:8080/",
          "height": 478
        }
      },
      "source": [
        "model_linear2.summary()"
      ],
      "execution_count": 0,
      "outputs": [
        {
          "output_type": "stream",
          "text": [
            "Model: \"sequential_21\"\n",
            "_________________________________________________________________\n",
            "Layer (type)                 Output Shape              Param #   \n",
            "=================================================================\n",
            "flatten_6 (Flatten)          (None, 784)               0         \n",
            "_________________________________________________________________\n",
            "dense_115 (Dense)            (None, 256)               200960    \n",
            "_________________________________________________________________\n",
            "dense_116 (Dense)            (None, 128)               32896     \n",
            "_________________________________________________________________\n",
            "dense_117 (Dense)            (None, 64)                8256      \n",
            "_________________________________________________________________\n",
            "dense_118 (Dense)            (None, 32)                2080      \n",
            "_________________________________________________________________\n",
            "dense_119 (Dense)            (None, 64)                2112      \n",
            "_________________________________________________________________\n",
            "dense_120 (Dense)            (None, 128)               8320      \n",
            "_________________________________________________________________\n",
            "dense_121 (Dense)            (None, 256)               33024     \n",
            "_________________________________________________________________\n",
            "dense_122 (Dense)            (None, 784)               201488    \n",
            "=================================================================\n",
            "Total params: 489,136\n",
            "Trainable params: 489,136\n",
            "Non-trainable params: 0\n",
            "_________________________________________________________________\n"
          ],
          "name": "stdout"
        }
      ]
    },
    {
      "cell_type": "code",
      "metadata": {
        "id": "f8Hi7u0jZxtX",
        "colab_type": "code",
        "outputId": "585aa195-8cf9-48a7-e2d1-66237b6f0652",
        "colab": {
          "base_uri": "https://localhost:8080/",
          "height": 390
        }
      },
      "source": [
        "model_relu2.fit(train_images, train_images_flattened,  epochs=10)"
      ],
      "execution_count": 0,
      "outputs": [
        {
          "output_type": "stream",
          "text": [
            "Epoch 1/10\n",
            "1875/1875 [==============================] - 11s 6ms/step - loss: 33.2768 - accuracy: 0.0148\n",
            "Epoch 2/10\n",
            "1875/1875 [==============================] - 11s 6ms/step - loss: 33.2867 - accuracy: 0.0140\n",
            "Epoch 3/10\n",
            "1875/1875 [==============================] - 11s 6ms/step - loss: 33.2887 - accuracy: 0.0139\n",
            "Epoch 4/10\n",
            "1875/1875 [==============================] - 11s 6ms/step - loss: 33.2864 - accuracy: 0.0145\n",
            "Epoch 5/10\n",
            "1875/1875 [==============================] - 11s 6ms/step - loss: 33.2914 - accuracy: 0.0120\n",
            "Epoch 6/10\n",
            "1875/1875 [==============================] - 11s 6ms/step - loss: 33.2915 - accuracy: 0.0121\n",
            "Epoch 7/10\n",
            "1875/1875 [==============================] - 12s 6ms/step - loss: 33.2915 - accuracy: 0.0121\n",
            "Epoch 8/10\n",
            "1875/1875 [==============================] - 11s 6ms/step - loss: 33.2915 - accuracy: 0.0121\n",
            "Epoch 9/10\n",
            "1875/1875 [==============================] - 11s 6ms/step - loss: 33.2915 - accuracy: 0.0121\n",
            "Epoch 10/10\n",
            "1875/1875 [==============================] - 11s 6ms/step - loss: 33.2915 - accuracy: 0.0121\n"
          ],
          "name": "stdout"
        },
        {
          "output_type": "execute_result",
          "data": {
            "text/plain": [
              "<tensorflow.python.keras.callbacks.History at 0x7fb4910201d0>"
            ]
          },
          "metadata": {
            "tags": []
          },
          "execution_count": 160
        }
      ]
    },
    {
      "cell_type": "code",
      "metadata": {
        "id": "dwAx0lHIYFRI",
        "colab_type": "code",
        "outputId": "f83c7375-48a1-491d-e49d-9cde41c64a32",
        "colab": {
          "base_uri": "https://localhost:8080/",
          "height": 390
        }
      },
      "source": [
        "model_linear3.fit(train_images, train_images_flattened,  epochs=10)"
      ],
      "execution_count": 0,
      "outputs": [
        {
          "output_type": "stream",
          "text": [
            "Epoch 1/10\n",
            "1875/1875 [==============================] - 11s 6ms/step - loss: 1702.9707 - accuracy: 0.0105\n",
            "Epoch 2/10\n",
            "1875/1875 [==============================] - 11s 6ms/step - loss: 1137.7051 - accuracy: 0.0115\n",
            "Epoch 3/10\n",
            "1875/1875 [==============================] - 11s 6ms/step - loss: 1016.9025 - accuracy: 0.0133\n",
            "Epoch 4/10\n",
            "1875/1875 [==============================] - 11s 6ms/step - loss: 952.8574 - accuracy: 0.0125\n",
            "Epoch 5/10\n",
            "1875/1875 [==============================] - 11s 6ms/step - loss: 909.0300 - accuracy: 0.0131\n",
            "Epoch 6/10\n",
            "1875/1875 [==============================] - 11s 6ms/step - loss: 879.6067 - accuracy: 0.0127\n",
            "Epoch 7/10\n",
            "1875/1875 [==============================] - 11s 6ms/step - loss: 855.2213 - accuracy: 0.0121\n",
            "Epoch 8/10\n",
            "1875/1875 [==============================] - 11s 6ms/step - loss: 837.8210 - accuracy: 0.0124\n",
            "Epoch 9/10\n",
            "1875/1875 [==============================] - 11s 6ms/step - loss: 821.3605 - accuracy: 0.0127\n",
            "Epoch 10/10\n",
            "1875/1875 [==============================] - 11s 6ms/step - loss: 800.4500 - accuracy: 0.0133\n"
          ],
          "name": "stdout"
        },
        {
          "output_type": "execute_result",
          "data": {
            "text/plain": [
              "<tensorflow.python.keras.callbacks.History at 0x7fb48dd7eeb8>"
            ]
          },
          "metadata": {
            "tags": []
          },
          "execution_count": 156
        }
      ]
    },
    {
      "cell_type": "code",
      "metadata": {
        "id": "YpEDi7lPVudK",
        "colab_type": "code",
        "outputId": "c6ab142a-f41b-4342-a3d4-6e5aff91bc66",
        "colab": {
          "base_uri": "https://localhost:8080/",
          "height": 390
        }
      },
      "source": [
        "model_linear2.fit(train_images, train_images_flattened,  epochs=10)"
      ],
      "execution_count": 0,
      "outputs": [
        {
          "output_type": "stream",
          "text": [
            "Epoch 1/10\n",
            "1875/1875 [==============================] - 11s 6ms/step - loss: 4604.4775 - accuracy: 0.0137\n",
            "Epoch 2/10\n",
            "1875/1875 [==============================] - 11s 6ms/step - loss: 4374.1289 - accuracy: 0.0146\n",
            "Epoch 3/10\n",
            "1875/1875 [==============================] - 11s 6ms/step - loss: 4350.4541 - accuracy: 0.0127\n",
            "Epoch 4/10\n",
            "1875/1875 [==============================] - 11s 6ms/step - loss: 4157.1177 - accuracy: 0.0116\n",
            "Epoch 5/10\n",
            "1875/1875 [==============================] - 11s 6ms/step - loss: 3947.8176 - accuracy: 0.0113\n",
            "Epoch 6/10\n",
            "1875/1875 [==============================] - 11s 6ms/step - loss: 3832.3359 - accuracy: 0.0114\n",
            "Epoch 7/10\n",
            "1875/1875 [==============================] - 11s 6ms/step - loss: 3754.3936 - accuracy: 0.0116\n",
            "Epoch 8/10\n",
            "1875/1875 [==============================] - 11s 6ms/step - loss: 3697.3875 - accuracy: 0.0123\n",
            "Epoch 9/10\n",
            "1875/1875 [==============================] - 11s 6ms/step - loss: 3639.0488 - accuracy: 0.0146\n",
            "Epoch 10/10\n",
            "1875/1875 [==============================] - 14s 8ms/step - loss: 3519.6956 - accuracy: 0.0191\n"
          ],
          "name": "stdout"
        },
        {
          "output_type": "execute_result",
          "data": {
            "text/plain": [
              "<tensorflow.python.keras.callbacks.History at 0x7fb48c4e9710>"
            ]
          },
          "metadata": {
            "tags": []
          },
          "execution_count": 150
        }
      ]
    },
    {
      "cell_type": "code",
      "metadata": {
        "id": "Z7KSEZTGL4sy",
        "colab_type": "code",
        "outputId": "92ab4b56-ea56-4252-9320-307040ea8c87",
        "colab": {
          "base_uri": "https://localhost:8080/",
          "height": 390
        }
      },
      "source": [
        "model_linear.fit(train_images, train_images_flattened,  epochs=10)"
      ],
      "execution_count": 0,
      "outputs": [
        {
          "output_type": "stream",
          "text": [
            "Epoch 1/10\n",
            "1875/1875 [==============================] - 12s 6ms/step - loss: 7221.9443 - accuracy: 0.0000e+00 - false_negatives: 794109.0000 - false_positives: 13219973.0000\n",
            "Epoch 2/10\n",
            "1875/1875 [==============================] - 12s 6ms/step - loss: 7221.9478 - accuracy: 0.0000e+00 - false_negatives: 794109.0000 - false_positives: 13219973.0000\n",
            "Epoch 3/10\n",
            "1875/1875 [==============================] - 12s 6ms/step - loss: 7221.9409 - accuracy: 0.0000e+00 - false_negatives: 794109.0000 - false_positives: 13219971.0000\n",
            "Epoch 4/10\n",
            "1875/1875 [==============================] - 12s 6ms/step - loss: 7221.9443 - accuracy: 0.0000e+00 - false_negatives: 794112.0000 - false_positives: 13219956.0000\n",
            "Epoch 5/10\n",
            "1875/1875 [==============================] - 12s 6ms/step - loss: 7222.0732 - accuracy: 0.0000e+00 - false_negatives: 813141.0000 - false_positives: 13184653.0000\n",
            "Epoch 6/10\n",
            "1875/1875 [==============================] - 12s 6ms/step - loss: 7222.2314 - accuracy: 0.0000e+00 - false_negatives: 836264.0000 - false_positives: 13142108.0000\n",
            "Epoch 7/10\n",
            "1875/1875 [==============================] - 12s 6ms/step - loss: 7222.2305 - accuracy: 0.0000e+00 - false_negatives: 836264.0000 - false_positives: 13142108.0000\n",
            "Epoch 8/10\n",
            "1875/1875 [==============================] - 12s 6ms/step - loss: 7222.2324 - accuracy: 0.0000e+00 - false_negatives: 836264.0000 - false_positives: 13142108.0000\n",
            "Epoch 9/10\n",
            "1875/1875 [==============================] - 12s 6ms/step - loss: 7222.2236 - accuracy: 0.0000e+00 - false_negatives: 836264.0000 - false_positives: 13142108.0000\n",
            "Epoch 10/10\n",
            "1875/1875 [==============================] - 12s 6ms/step - loss: 7222.2314 - accuracy: 0.0000e+00 - false_negatives: 836264.0000 - false_positives: 13142108.0000\n"
          ],
          "name": "stdout"
        },
        {
          "output_type": "execute_result",
          "data": {
            "text/plain": [
              "<tensorflow.python.keras.callbacks.History at 0x7fb48857fa20>"
            ]
          },
          "metadata": {
            "tags": []
          },
          "execution_count": 114
        }
      ]
    },
    {
      "cell_type": "code",
      "metadata": {
        "id": "MP-yGli8KcLY",
        "colab_type": "code",
        "outputId": "a6e32f2c-8e8d-4b70-8874-1b17456b6688",
        "colab": {
          "base_uri": "https://localhost:8080/",
          "height": 390
        }
      },
      "source": [
        "model_relu.fit(train_images, train_images_flattened,  epochs=10)"
      ],
      "execution_count": 0,
      "outputs": [
        {
          "output_type": "stream",
          "text": [
            "Epoch 1/10\n",
            "1875/1875 [==============================] - 12s 7ms/step - loss: 0.0309 - accuracy: 0.0103 - false_negatives_3: 3736640.0000 - false_positives_3: 453538.0000\n",
            "Epoch 2/10\n",
            "1875/1875 [==============================] - 12s 7ms/step - loss: 0.0173 - accuracy: 0.0105 - false_negatives_3: 3030544.0000 - false_positives_3: 180712.0000\n",
            "Epoch 3/10\n",
            "1875/1875 [==============================] - 12s 7ms/step - loss: 0.0143 - accuracy: 0.0100 - false_negatives_3: 2931204.0000 - false_positives_3: 128835.0000\n",
            "Epoch 4/10\n",
            "1875/1875 [==============================] - 12s 7ms/step - loss: 0.0126 - accuracy: 0.0114 - false_negatives_3: 2878755.0000 - false_positives_3: 101436.0000\n",
            "Epoch 5/10\n",
            "1875/1875 [==============================] - 13s 7ms/step - loss: 0.0114 - accuracy: 0.0123 - false_negatives_3: 2848355.0000 - false_positives_3: 83874.0000\n",
            "Epoch 6/10\n",
            "1875/1875 [==============================] - 12s 7ms/step - loss: 0.0106 - accuracy: 0.0131 - false_negatives_3: 2830101.0000 - false_positives_3: 73312.0000\n",
            "Epoch 7/10\n",
            "1875/1875 [==============================] - 12s 7ms/step - loss: 0.0101 - accuracy: 0.0142 - false_negatives_3: 2817747.0000 - false_positives_3: 65751.0000\n",
            "Epoch 8/10\n",
            "1875/1875 [==============================] - 12s 6ms/step - loss: 0.0096 - accuracy: 0.0147 - false_negatives_3: 2808691.0000 - false_positives_3: 59579.0000\n",
            "Epoch 9/10\n",
            "1875/1875 [==============================] - 12s 7ms/step - loss: 0.0093 - accuracy: 0.0143 - false_negatives_3: 2800667.0000 - false_positives_3: 55233.0000\n",
            "Epoch 10/10\n",
            "1875/1875 [==============================] - 12s 7ms/step - loss: 0.0090 - accuracy: 0.0144 - false_negatives_3: 2796450.0000 - false_positives_3: 52191.0000\n"
          ],
          "name": "stdout"
        },
        {
          "output_type": "execute_result",
          "data": {
            "text/plain": [
              "<tensorflow.python.keras.callbacks.History at 0x7f980daf9c50>"
            ]
          },
          "metadata": {
            "tags": []
          },
          "execution_count": 21
        }
      ]
    },
    {
      "cell_type": "code",
      "metadata": {
        "id": "UxR8Q6QgKcxn",
        "colab_type": "code",
        "outputId": "10ed7826-dea6-4bc1-df32-eae028213c0f",
        "colab": {
          "base_uri": "https://localhost:8080/",
          "height": 390
        }
      },
      "source": [
        "model_sigmoid.fit(train_images, train_images_flattened,  epochs=10)"
      ],
      "execution_count": 0,
      "outputs": [
        {
          "output_type": "stream",
          "text": [
            "Epoch 1/10\n",
            "1875/1875 [==============================] - 12s 6ms/step - loss: 7217.2334 - accuracy: 0.0026 - false_negatives_2: 18343.0000 - false_positives_2: 22896954.0000\n",
            "Epoch 2/10\n",
            "1875/1875 [==============================] - 12s 6ms/step - loss: 7217.0522 - accuracy: 0.0032 - false_negatives_2: 10986.0000 - false_positives_2: 23037136.0000\n",
            "Epoch 3/10\n",
            "1875/1875 [==============================] - 12s 6ms/step - loss: 7217.0483 - accuracy: 0.0032 - false_negatives_2: 10748.0000 - false_positives_2: 23054412.0000\n",
            "Epoch 4/10\n",
            "1875/1875 [==============================] - 12s 6ms/step - loss: 7217.0522 - accuracy: 0.0031 - false_negatives_2: 11118.0000 - false_positives_2: 22959520.0000\n",
            "Epoch 5/10\n",
            "1875/1875 [==============================] - 12s 6ms/step - loss: 7217.0483 - accuracy: 0.0029 - false_negatives_2: 11061.0000 - false_positives_2: 22926828.0000\n",
            "Epoch 6/10\n",
            "1875/1875 [==============================] - 12s 6ms/step - loss: 7217.0527 - accuracy: 0.0026 - false_negatives_2: 11475.0000 - false_positives_2: 22845726.0000\n",
            "Epoch 7/10\n",
            "1875/1875 [==============================] - 12s 7ms/step - loss: 7217.0444 - accuracy: 0.0027 - false_negatives_2: 11349.0000 - false_positives_2: 22850472.0000\n",
            "Epoch 8/10\n",
            "1875/1875 [==============================] - 12s 6ms/step - loss: 7217.0469 - accuracy: 0.0032 - false_negatives_2: 11467.0000 - false_positives_2: 22823620.0000\n",
            "Epoch 9/10\n",
            "1875/1875 [==============================] - 12s 6ms/step - loss: 7217.0405 - accuracy: 0.0038 - false_negatives_2: 11108.0000 - false_positives_2: 22887316.0000\n",
            "Epoch 10/10\n",
            "1875/1875 [==============================] - 12s 7ms/step - loss: 7217.0513 - accuracy: 0.0059 - false_negatives_2: 11170.0000 - false_positives_2: 22852600.0000\n"
          ],
          "name": "stdout"
        },
        {
          "output_type": "execute_result",
          "data": {
            "text/plain": [
              "<tensorflow.python.keras.callbacks.History at 0x7fb4907aba58>"
            ]
          },
          "metadata": {
            "tags": []
          },
          "execution_count": 116
        }
      ]
    },
    {
      "cell_type": "code",
      "metadata": {
        "id": "ZETlfuK_KdJk",
        "colab_type": "code",
        "outputId": "b5e245c7-e700-4e9f-9154-c5aea540947c",
        "colab": {
          "base_uri": "https://localhost:8080/",
          "height": 390
        }
      },
      "source": [
        "model_tanh.fit(train_images, train_images_flattened,  epochs=10)"
      ],
      "execution_count": 0,
      "outputs": [
        {
          "output_type": "stream",
          "text": [
            "Epoch 1/10\n",
            "1875/1875 [==============================] - 12s 6ms/step - loss: 7217.2412 - accuracy: 9.3333e-04 - false_negatives_1: 19685.0000 - false_positives_1: 22893664.0000\n",
            "Epoch 2/10\n",
            "1875/1875 [==============================] - 12s 6ms/step - loss: 7217.0596 - accuracy: 0.0019 - false_negatives_1: 10933.0000 - false_positives_1: 23016404.0000\n",
            "Epoch 3/10\n",
            "1875/1875 [==============================] - 12s 6ms/step - loss: 7217.0474 - accuracy: 0.0032 - false_negatives_1: 10644.0000 - false_positives_1: 23035794.0000\n",
            "Epoch 4/10\n",
            "1875/1875 [==============================] - 12s 6ms/step - loss: 7217.0308 - accuracy: 0.0021 - false_negatives_1: 10113.0000 - false_positives_1: 22167686.0000\n",
            "Epoch 5/10\n",
            "1875/1875 [==============================] - 12s 6ms/step - loss: 7217.0137 - accuracy: 0.0018 - false_negatives_1: 9544.0000 - false_positives_1: 21443900.0000\n",
            "Epoch 6/10\n",
            "1875/1875 [==============================] - 12s 6ms/step - loss: 7216.9995 - accuracy: 0.0049 - false_negatives_1: 9934.0000 - false_positives_1: 20394544.0000\n",
            "Epoch 7/10\n",
            "1875/1875 [==============================] - 12s 6ms/step - loss: 7216.9702 - accuracy: 0.0051 - false_negatives_1: 9246.0000 - false_positives_1: 19508072.0000\n",
            "Epoch 8/10\n",
            "1875/1875 [==============================] - 12s 7ms/step - loss: 7216.9644 - accuracy: 0.0045 - false_negatives_1: 9064.0000 - false_positives_1: 19135574.0000\n",
            "Epoch 9/10\n",
            "1875/1875 [==============================] - 12s 6ms/step - loss: 7216.9570 - accuracy: 0.0052 - false_negatives_1: 9121.0000 - false_positives_1: 19018890.0000\n",
            "Epoch 10/10\n",
            "1875/1875 [==============================] - 12s 6ms/step - loss: 7216.9658 - accuracy: 0.0057 - false_negatives_1: 9960.0000 - false_positives_1: 19213688.0000\n"
          ],
          "name": "stdout"
        },
        {
          "output_type": "execute_result",
          "data": {
            "text/plain": [
              "<tensorflow.python.keras.callbacks.History at 0x7fb49054c9e8>"
            ]
          },
          "metadata": {
            "tags": []
          },
          "execution_count": 117
        }
      ]
    },
    {
      "cell_type": "code",
      "metadata": {
        "id": "NbCJCuurNb2T",
        "colab_type": "code",
        "outputId": "95409c84-c3f5-461d-efd3-fec53624c230",
        "colab": {
          "base_uri": "https://localhost:8080/",
          "height": 54
        }
      },
      "source": [
        "def evaluate_and_output_model(model, test_labels, test_images, reshape_matrix = [-1, 784], image_matrix=[10000,28,28], images_to_be_compared=5):\n",
        "  class_names = ['0', '1', '2', '3', '4','5', '6', '7', '8', '9']\n",
        "  print(test_images.shape)\n",
        "  #test_loss, test_acc = model.evaluate(test_images,  test_labels, verbose=2)\n",
        "  print(test_images.shape)\n",
        "  #print('\\n  Relu Test accuracy:', str(test_acc) + \" test loss: \" + str(test_loss) + \"\\n\")\n",
        "  test_output_model = model.predict(test_images)\n",
        "  model_output_images = test_output_model.reshape(image_matrix)\n",
        "  print(model_output_images.shape)\n",
        "  plt.figure(figsize=(10,10))\n",
        "  j = -1\n",
        "  for i in range(25):\n",
        "      plt.subplot(5,5,i+1)\n",
        "      plt.xticks([])\n",
        "      plt.yticks([])\n",
        "      plt.grid(False)\n",
        "      j = j+1\n",
        "      if(i%2 == 0):\n",
        "        plt.imshow(test_images[i+10], cmap=plt.cm.binary)\n",
        "      elif(j%2 == 1):\n",
        "        \n",
        "        plt.imshow(model_output_images[j-1+10], cmap=\"Greys_r\")\n",
        "      \n",
        "      #plt.xlabel(class_names[test_images[i]])\n",
        "  plt.show()\n",
        "\n",
        "\n",
        "\"\"\"\n",
        "test_loss, test_acc = model.evaluate(test_images.reshape([-1, 784]),  test_labels, verbose=2)\n",
        "test_output_model = model.predict(test_images.reshape([-1, 784]),)\n",
        "model_output_images = test_output_model.reshape([10000,28,28])\n",
        "plt.imshow(model2_output_images[7], cmap=\"Greys_r\")\n",
        "\"\"\""
      ],
      "execution_count": 0,
      "outputs": [
        {
          "output_type": "execute_result",
          "data": {
            "text/plain": [
              "'\\ntest_loss, test_acc = model.evaluate(test_images.reshape([-1, 784]),  test_labels, verbose=2)\\ntest_output_model = model.predict(test_images.reshape([-1, 784]),)\\nmodel_output_images = test_output_model.reshape([10000,28,28])\\nplt.imshow(model2_output_images[7], cmap=\"Greys_r\")\\n'"
            ]
          },
          "metadata": {
            "tags": []
          },
          "execution_count": 22
        }
      ]
    },
    {
      "cell_type": "code",
      "metadata": {
        "id": "sIuqNvAhaZ0a",
        "colab_type": "code",
        "outputId": "7b319fce-06ac-4d94-aaf0-9b395b627046",
        "colab": {
          "base_uri": "https://localhost:8080/",
          "height": 631
        }
      },
      "source": [
        "evaluate_and_output_model(model_relu2, test_labels, test_images)"
      ],
      "execution_count": 0,
      "outputs": [
        {
          "output_type": "stream",
          "text": [
            "(10000, 28, 28)\n",
            "(10000, 28, 28)\n",
            "(10000, 28, 28)\n"
          ],
          "name": "stdout"
        },
        {
          "output_type": "display_data",
          "data": {
            "image/png": "[encoded data removed]",
            "text/plain": [
              "<Figure size 720x720 with 25 Axes>"
            ]
          },
          "metadata": {
            "tags": []
          }
        }
      ]
    },
    {
      "cell_type": "code",
      "metadata": {
        "id": "8c0cHqSdU4PY",
        "colab_type": "code",
        "outputId": "a44b7bfe-bd13-4cbd-d0fb-422f8dff93bb",
        "colab": {
          "base_uri": "https://localhost:8080/",
          "height": 631
        }
      },
      "source": [
        "evaluate_and_output_model(model_linear3, test_labels, test_images)"
      ],
      "execution_count": 0,
      "outputs": [
        {
          "output_type": "stream",
          "text": [
            "(10000, 28, 28)\n",
            "(10000, 28, 28)\n",
            "(10000, 28, 28)\n"
          ],
          "name": "stdout"
        },
        {
          "output_type": "display_data",
          "data": {
            "image/png": "[encoded data removed]",
            "text/plain": [
              "<Figure size 720x720 with 25 Axes>"
            ]
          },
          "metadata": {
            "tags": []
          }
        }
      ]
    },
    {
      "cell_type": "code",
      "metadata": {
        "id": "gNdbqiARU458",
        "colab_type": "code",
        "outputId": "d9aecf02-3e8d-485a-97a1-040c5ebf435b",
        "colab": {
          "base_uri": "https://localhost:8080/",
          "height": 631
        }
      },
      "source": [
        "evaluate_and_output_model(model_relu, test_labels, test_images)"
      ],
      "execution_count": 0,
      "outputs": [
        {
          "output_type": "stream",
          "text": [
            "(10000, 28, 28)\n",
            "(10000, 28, 28)\n",
            "(10000, 28, 28)\n"
          ],
          "name": "stdout"
        },
        {
          "output_type": "display_data",
          "data": {
            "image/png": "[encoded data removed]",
            "text/plain": [
              "<Figure size 720x720 with 25 Axes>"
            ]
          },
          "metadata": {
            "tags": []
          }
        }
      ]
    },
    {
      "cell_type": "code",
      "metadata": {
        "id": "NyjvoGRCU5ak",
        "colab_type": "code",
        "outputId": "7439e687-6a6d-403d-c48f-979d6b28a0ce",
        "colab": {
          "base_uri": "https://localhost:8080/",
          "height": 631
        }
      },
      "source": [
        "evaluate_and_output_model(model_tanh, test_labels, test_images)"
      ],
      "execution_count": 0,
      "outputs": [
        {
          "output_type": "stream",
          "text": [
            "(10000, 28, 28)\n",
            "(10000, 28, 28)\n",
            "(10000, 28, 28)\n"
          ],
          "name": "stdout"
        },
        {
          "output_type": "display_data",
          "data": {
            "image/png": "[encoded data removed]",
            "text/plain": [
              "<Figure size 720x720 with 25 Axes>"
            ]
          },
          "metadata": {
            "tags": []
          }
        }
      ]
    },
    {
      "cell_type": "code",
      "metadata": {
        "id": "7u8J9_HuU5wB",
        "colab_type": "code",
        "outputId": "ae2deb90-5254-400f-e7d6-b05069988baa",
        "colab": {
          "base_uri": "https://localhost:8080/",
          "height": 631
        }
      },
      "source": [
        "evaluate_and_output_model(model_sigmoid, test_labels, test_images)"
      ],
      "execution_count": 0,
      "outputs": [
        {
          "output_type": "stream",
          "text": [
            "(10000, 28, 28)\n",
            "(10000, 28, 28)\n",
            "(10000, 28, 28)\n"
          ],
          "name": "stdout"
        },
        {
          "output_type": "display_data",
          "data": {
            "image/png": "[encoded data removed]",
            "text/plain": [
              "<Figure size 720x720 with 25 Axes>"
            ]
          },
          "metadata": {
            "tags": []
          }
        }
      ]
    },
    {
      "cell_type": "code",
      "metadata": {
        "id": "ONbw-cXnXLCv",
        "colab_type": "code",
        "outputId": "eb6d0721-fb87-4304-d374-09c406b64174",
        "colab": {
          "base_uri": "https://localhost:8080/",
          "height": 631
        }
      },
      "source": [
        "evaluate_and_output_model(model_linear2, test_labels, test_images)"
      ],
      "execution_count": 0,
      "outputs": [
        {
          "output_type": "stream",
          "text": [
            "(10000, 28, 28)\n",
            "(10000, 28, 28)\n",
            "(10000, 28, 28)\n"
          ],
          "name": "stdout"
        },
        {
          "output_type": "display_data",
          "data": {
            "image/png": "[encoded data removed]",
            "text/plain": [
              "<Figure size 720x720 with 25 Axes>"
            ]
          },
          "metadata": {
            "tags": []
          }
        }
      ]
    },
    {
      "cell_type": "code",
      "metadata": {
        "id": "Gzv_neieLjc_",
        "colab_type": "code",
        "outputId": "f9812833-4fc8-4795-d3d0-ca4230a183dd",
        "colab": {
          "base_uri": "https://localhost:8080/",
          "height": 87
        }
      },
      "source": [
        "model_relu.save(filepath=\"/content/model_relu\")\n",
        "model_tanh.save(filepath=\"/content/model_tanh\")\n",
        "model_sigmoid.save(filepath=\"/content/model_sigmoid\")\n",
        "model_linear.save(filepath=\"/content/model_linear\")"
      ],
      "execution_count": 0,
      "outputs": [
        {
          "output_type": "stream",
          "text": [
            "INFO:tensorflow:Assets written to: /content/model_relu/assets\n",
            "INFO:tensorflow:Assets written to: /content/model_tanh/assets\n",
            "INFO:tensorflow:Assets written to: /content/model_sigmoid/assets\n",
            "INFO:tensorflow:Assets written to: /content/model_linear/assets\n"
          ],
          "name": "stdout"
        }
      ]
    },
    {
      "cell_type": "code",
      "metadata": {
        "id": "kKbAVI3bMpoh",
        "colab_type": "code",
        "outputId": "404f75a8-a7a0-4e11-f43a-3b70467aa73f",
        "colab": {
          "base_uri": "https://localhost:8080/",
          "height": 443
        }
      },
      "source": [
        "!zip -r /content/model_relu.zip /content/model_relu\n",
        "!zip -r /content/model_tanh.zip /content/model_tanh\n",
        "!zip -r /content/model_linear.zip /content/model_linear\n",
        "!zip -r /content/model_sigmoid.zip /content/model_sigmoid"
      ],
      "execution_count": 0,
      "outputs": [
        {
          "output_type": "stream",
          "text": [
            "  adding: content/model_relu/ (stored 0%)\n",
            "  adding: content/model_relu/assets/ (stored 0%)\n",
            "  adding: content/model_relu/variables/ (stored 0%)\n",
            "  adding: content/model_relu/variables/variables.index (deflated 69%)\n",
            "  adding: content/model_relu/variables/variables.data-00000-of-00001 (deflated 32%)\n",
            "  adding: content/model_relu/saved_model.pb (deflated 89%)\n",
            "  adding: content/model_tanh/ (stored 0%)\n",
            "  adding: content/model_tanh/assets/ (stored 0%)\n",
            "  adding: content/model_tanh/variables/ (stored 0%)\n",
            "  adding: content/model_tanh/variables/variables.index (deflated 69%)\n",
            "  adding: content/model_tanh/variables/variables.data-00000-of-00001 (deflated 21%)\n",
            "  adding: content/model_tanh/saved_model.pb (deflated 90%)\n",
            "  adding: content/model_linear/ (stored 0%)\n",
            "  adding: content/model_linear/assets/ (stored 0%)\n",
            "  adding: content/model_linear/variables/ (stored 0%)\n",
            "  adding: content/model_linear/variables/variables.index (deflated 70%)\n",
            "  adding: content/model_linear/variables/variables.data-00000-of-00001 (deflated 41%)\n",
            "  adding: content/model_linear/saved_model.pb (deflated 90%)\n",
            "  adding: content/model_sigmoid/ (stored 0%)\n",
            "  adding: content/model_sigmoid/assets/ (stored 0%)\n",
            "  adding: content/model_sigmoid/variables/ (stored 0%)\n",
            "  adding: content/model_sigmoid/variables/variables.index (deflated 69%)\n",
            "  adding: content/model_sigmoid/variables/variables.data-00000-of-00001 (deflated 13%)\n",
            "  adding: content/model_sigmoid/saved_model.pb (deflated 90%)\n"
          ],
          "name": "stdout"
        }
      ]
    },
    {
      "cell_type": "code",
      "metadata": {
        "id": "lRZAdgYNOsoY",
        "colab_type": "code",
        "colab": {}
      },
      "source": [
        "model2 = keras.Sequential([\n",
        "    keras.layers.Dense(256, activation=\"relu\"),\n",
        "    keras.layers.Dense(128, activation=\"relu\"),\n",
        "    keras.layers.Dense(64, activation=\"relu\"),\n",
        "    keras.layers.Dense(256, activation=\"sigmoid\"),\n",
        "    keras.layers.Dense(784)\n",
        "])"
      ],
      "execution_count": 0,
      "outputs": []
    },
    {
      "cell_type": "code",
      "metadata": {
        "id": "dhWkUnzTOsuZ",
        "colab_type": "code",
        "colab": {}
      },
      "source": [
        "model2.compile(optimizer='adam',\n",
        "              loss=tf.keras.losses.MAE, #tf.keras.losses.SparseCategoricalCrossentropy(from_logits=True),\n",
        "              metrics=['accuracy'])"
      ],
      "execution_count": 0,
      "outputs": []
    },
    {
      "cell_type": "code",
      "metadata": {
        "id": "z5COKICMOsrg",
        "colab_type": "code",
        "outputId": "fc116021-d491-4be9-fdad-aa32eb4375be",
        "colab": {
          "base_uri": "https://localhost:8080/",
          "height": 390
        }
      },
      "source": [
        "model2.fit(train_images_flattened, train_images_flattened,  epochs=10)"
      ],
      "execution_count": 0,
      "outputs": [
        {
          "output_type": "stream",
          "text": [
            "Epoch 1/10\n",
            "1875/1875 [==============================] - 10s 5ms/step - loss: 32.2754 - accuracy: 0.0126\n",
            "Epoch 2/10\n",
            "1875/1875 [==============================] - 10s 5ms/step - loss: 31.8131 - accuracy: 0.0150\n",
            "Epoch 3/10\n",
            "1875/1875 [==============================] - 10s 5ms/step - loss: 31.7963 - accuracy: 0.0149\n",
            "Epoch 4/10\n",
            "1875/1875 [==============================] - 10s 5ms/step - loss: 31.7965 - accuracy: 0.0149\n",
            "Epoch 5/10\n",
            "1875/1875 [==============================] - 10s 5ms/step - loss: 31.7962 - accuracy: 0.0148\n",
            "Epoch 6/10\n",
            "1875/1875 [==============================] - 10s 5ms/step - loss: 31.7962 - accuracy: 0.0150\n",
            "Epoch 7/10\n",
            "1875/1875 [==============================] - 10s 5ms/step - loss: 31.7963 - accuracy: 0.0149\n",
            "Epoch 8/10\n",
            "1875/1875 [==============================] - 10s 5ms/step - loss: 31.7964 - accuracy: 0.0152\n",
            "Epoch 9/10\n",
            "1875/1875 [==============================] - 10s 5ms/step - loss: 31.7963 - accuracy: 0.0150\n",
            "Epoch 10/10\n",
            "1875/1875 [==============================] - 10s 5ms/step - loss: 31.7963 - accuracy: 0.0149\n"
          ],
          "name": "stdout"
        },
        {
          "output_type": "execute_result",
          "data": {
            "text/plain": [
              "<tensorflow.python.keras.callbacks.History at 0x7fb48dfdc0f0>"
            ]
          },
          "metadata": {
            "tags": []
          },
          "execution_count": 90
        }
      ]
    },
    {
      "cell_type": "code",
      "metadata": {
        "id": "E8wgsUuZQnZ7",
        "colab_type": "code",
        "colab": {}
      },
      "source": [
        "test_loss, test_acc = model_linear.evaluate(test_images,  test_labels, verbose=2)\n",
        "\n",
        "print('\\n  Relu Test accuracy:', str(test_acc) + \" test loss: \" + str(test_loss) + \"\\n\")\n",
        "\n",
        "test_loss, test_acc = model_relu.evaluate(test_images,  test_images, verbose=2)\n",
        "\n",
        "print('\\n Sigmoid Test accuracy:', str(test_acc) + \" test loss: \" + str(test_loss))"
      ],
      "execution_count": 0,
      "outputs": []
    },
    {
      "cell_type": "code",
      "metadata": {
        "id": "sD_lROHbWRHO",
        "colab_type": "code",
        "colab": {}
      },
      "source": [
        "test_output_model = model.predict(test_images.reshape([-1, 784]),)\n",
        "test_output_model2 = model2.predict(test_images.reshape([-1, 784]),)"
      ],
      "execution_count": 0,
      "outputs": []
    },
    {
      "cell_type": "code",
      "metadata": {
        "id": "d4n2z7uNWn4c",
        "colab_type": "code",
        "outputId": "2b17fdf5-7a08-431c-ba27-f6739586d8a1",
        "colab": {
          "base_uri": "https://localhost:8080/",
          "height": 34
        }
      },
      "source": [
        "test_output_model2.shape\n",
        "#(10000, 28, 28)"
      ],
      "execution_count": 0,
      "outputs": [
        {
          "output_type": "execute_result",
          "data": {
            "text/plain": [
              "(10000, 784)"
            ]
          },
          "metadata": {
            "tags": []
          },
          "execution_count": 93
        }
      ]
    },
    {
      "cell_type": "code",
      "metadata": {
        "id": "UTk6EgnTWzen",
        "colab_type": "code",
        "colab": {}
      },
      "source": [
        "model2_output_images = test_output_model2.reshape([10000,28,28])\n",
        "model_output_images = test_output_model.reshape([10000,28,28])"
      ],
      "execution_count": 0,
      "outputs": []
    },
    {
      "cell_type": "code",
      "metadata": {
        "id": "HjWd7kfOXI6V",
        "colab_type": "code",
        "outputId": "33799b7e-92ce-4dc2-8039-66cf33ea752d",
        "colab": {
          "base_uri": "https://localhost:8080/",
          "height": 282
        }
      },
      "source": [
        "plt.imshow(model2_output_images[7], cmap=\"Greys_r\")\n",
        "#plt.imshow(test_images.reshape([-1, 784])[7], cmap=\"Greys_r\")"
      ],
      "execution_count": 0,
      "outputs": [
        {
          "output_type": "execute_result",
          "data": {
            "text/plain": [
              "<matplotlib.image.AxesImage at 0x7fb49644b400>"
            ]
          },
          "metadata": {
            "tags": []
          },
          "execution_count": 95
        },
        {
          "output_type": "display_data",
          "data": {
            "image/png": "[encoded data removed]",
            "text/plain": [
              "<Figure size 432x288 with 1 Axes>"
            ]
          },
          "metadata": {
            "tags": [],
            "needs_background": "light"
          }
        }
      ]
    },
    {
      "cell_type": "code",
      "metadata": {
        "id": "i7Rqa-IBEHbv",
        "colab_type": "code",
        "outputId": "ec40f344-f972-488c-ac5b-02d77b5852bf",
        "colab": {
          "base_uri": "https://localhost:8080/",
          "height": 282
        }
      },
      "source": [
        "plt.imshow(model2_output_images[12], cmap=\"Greys_r\")"
      ],
      "execution_count": 0,
      "outputs": [
        {
          "output_type": "execute_result",
          "data": {
            "text/plain": [
              "<matplotlib.image.AxesImage at 0x7fb496008080>"
            ]
          },
          "metadata": {
            "tags": []
          },
          "execution_count": 107
        },
        {
          "output_type": "display_data",
          "data": {
            "image/png": "[encoded data removed]",
            "text/plain": [
              "<Figure size 432x288 with 1 Axes>"
            ]
          },
          "metadata": {
            "tags": [],
            "needs_background": "light"
          }
        }
      ]
    },
    {
      "cell_type": "code",
      "metadata": {
        "id": "WepSO_1DXrEc",
        "colab_type": "code",
        "outputId": "c69b8daf-180f-4d66-f56c-91f598fd57d6",
        "colab": {
          "base_uri": "https://localhost:8080/",
          "height": 282
        }
      },
      "source": [
        "plt.imshow(model_output_images[7], cmap=\"Greys_r\")"
      ],
      "execution_count": 0,
      "outputs": [
        {
          "output_type": "execute_result",
          "data": {
            "text/plain": [
              "<matplotlib.image.AxesImage at 0x7fb496489cc0>"
            ]
          },
          "metadata": {
            "tags": []
          },
          "execution_count": 96
        },
        {
          "output_type": "display_data",
          "data": {
            "image/png": "[encoded data removed]",
            "text/plain": [
              "<Figure size 432x288 with 1 Axes>"
            ]
          },
          "metadata": {
            "tags": [],
            "needs_background": "light"
          }
        }
      ]
    },
    {
      "cell_type": "code",
      "metadata": {
        "id": "n6yKNn5eEJ4y",
        "colab_type": "code",
        "outputId": "39416bd0-b74a-4214-e8e9-4d20d1568477",
        "colab": {
          "base_uri": "https://localhost:8080/",
          "height": 282
        }
      },
      "source": [
        "plt.imshow(model_output_images[0], cmap=\"Greys_r\")"
      ],
      "execution_count": 0,
      "outputs": [
        {
          "output_type": "execute_result",
          "data": {
            "text/plain": [
              "<matplotlib.image.AxesImage at 0x7fb49619a240>"
            ]
          },
          "metadata": {
            "tags": []
          },
          "execution_count": 103
        },
        {
          "output_type": "display_data",
          "data": {
            "image/png": "[encoded data removed]",
            "text/plain": [
              "<Figure size 432x288 with 1 Axes>"
            ]
          },
          "metadata": {
            "tags": [],
            "needs_background": "light"
          }
        }
      ]
    },
    {
      "cell_type": "code",
      "metadata": {
        "id": "QN5FAc1SD8SN",
        "colab_type": "code",
        "outputId": "97649673-8ecd-4aaf-a6a4-901231e9de89",
        "colab": {
          "base_uri": "https://localhost:8080/",
          "height": 282
        }
      },
      "source": [
        "plt.imshow(test_images[0], cmap=\"Greys_r\")"
      ],
      "execution_count": 0,
      "outputs": [
        {
          "output_type": "execute_result",
          "data": {
            "text/plain": [
              "<matplotlib.image.AxesImage at 0x7fb49623b6a0>"
            ]
          },
          "metadata": {
            "tags": []
          },
          "execution_count": 102
        },
        {
          "output_type": "display_data",
          "data": {
            "image/png": "[encoded data removed]",
            "text/plain": [
              "<Figure size 432x288 with 1 Axes>"
            ]
          },
          "metadata": {
            "tags": [],
            "needs_background": "light"
          }
        }
      ]
    },
    {
      "cell_type": "markdown",
      "metadata": {
        "id": "X0UzHjUHcvc0",
        "colab_type": "text"
      },
      "source": [
        "# **Convolutional Autoencoders**\n",
        "\n",
        "**1) Normal Convolution and deconvolution:** Without batchnorm, this gives crap results as network gets the data easy. With batch norm we are forcing network to learn or atleast properly copy input to output, So we saw a bit better results with batchnorm and de convolution. Also the numbers 3,9 which had problems in upsampling or FC seems to be looking fine in this setup. Hence we decided to keep batchnorm for rest of the models as default\n",
        "\n",
        "**2) Upscaling:** We can see some minute changes when we observer numbers 3 and 9. The 3 while upscaling has some extra black pixels at the tip of the number making 3 look like 8. Similary the white pixels in middle of number 9 seems to have vanished\n",
        "\n",
        "**3) Fully connected at the middle:** We can see some minute changes when we observer numbers 9. The white pixels in middle of number 9 seems to have vanished. This may be due to compression/FC layer packing all info densely and maybe this white area was redundant info to classify number as 9.\n",
        "\n",
        "\n",
        "**Errors:**  Since we did not model encoder/decoder seperately and stacked them together instead modelled encoder-decoder as part of same model, we faced some issues in decoder part as decoder output was 32 - 32 when it should be 28 - 28. We used valid padding in only first decoder layer and finally got the output dimension to 32*32. In future better way to code would be to stack separate encoder and decoder rather than putting them in same model."
      ]
    },
    {
      "cell_type": "code",
      "metadata": {
        "id": "nkLItd7he5Vu",
        "colab_type": "code",
        "colab": {}
      },
      "source": [
        "(train_images_raw, train_labels_raw), (test_images_raw, test_labels_raw) = mnist.load_data()\n",
        "\n",
        "train_data = tf.data.Dataset.from_tensor_slices(( train_images_raw.astype(np.float32)/255.0, train_images_raw.astype(np.float32)/255.0 ))\n",
        "\n",
        "train_data = train_data.shuffle(buffer_size = train_images_raw.shape[0]).batch(32)\n",
        "\n",
        "#test_data = tf.data.Dataset.from_tensor_slices(( test_images_raw.astype(np.float32)/255.0, test_labels_raw.astype(np.int32) ))\n",
        "test_data = tf.data.Dataset.from_tensor_slices(( test_images_raw.astype(np.float32)/255.0,  test_images_raw.astype(np.float32)/255.0 ))\n",
        "test_data = test_data.batch(32)"
      ],
      "execution_count": 0,
      "outputs": []
    },
    {
      "cell_type": "code",
      "metadata": {
        "id": "WkoWCC0de5bw",
        "colab_type": "code",
        "outputId": "d4c7012e-44c0-4f17-e241-b6eb4081a0c0",
        "colab": {
          "base_uri": "https://localhost:8080/",
          "height": 52
        }
      },
      "source": [
        "input_shape = (train_images_raw.shape[1], train_images_raw.shape[2], 1)\n",
        "print(input_shape)\n",
        "print(train_images_raw.shape)"
      ],
      "execution_count": 0,
      "outputs": [
        {
          "output_type": "stream",
          "text": [
            "(28, 28, 1)\n",
            "(60000, 28, 28)\n"
          ],
          "name": "stdout"
        }
      ]
    },
    {
      "cell_type": "code",
      "metadata": {
        "id": "08SCSKX7oUBx",
        "colab_type": "code",
        "outputId": "8983f10c-aaf8-4036-c393-6c929a189076",
        "colab": {
          "base_uri": "https://localhost:8080/",
          "height": 553
        }
      },
      "source": [
        "\"\"\"\n",
        "def create_model():\n",
        "  model = models.Sequential()\n",
        "  model.add(layers.Conv2D(filters = 32, kernel_size=(3, 3),  padding = \"same\", activation=tf.nn.relu,name = \"conv_enc1\", input_shape = input_shape))\n",
        "  model.add(layers.MaxPool2D(pool_size=(2,2)))\n",
        "  model.add(layers.Conv2D(filters = 64, kernel_size=(3, 3), padding = \"same\", activation = tf.nn.relu, name = \"conv_enc2\"))\n",
        "  model.add(layers.MaxPool2D(pool_size=(2,2)))\n",
        "  model.add(layers.Conv2D(filters = 128, kernel_size=(3, 3),   padding = \"same\", activation = tf.nn.relu, name = \"conv_enc3\"))\n",
        "  model.add(layers.MaxPool2D(pool_size=(2,2)))\n",
        "  model.add(layers.Conv2D(filters = 64, kernel_size=(1, 1),  padding = \"same\", activation = tf.nn.relu, name = \"conv_compression_dim_reduce\"))\n",
        "  model.add(layers.Conv2DTranspose(filters = 32, kernel_size=(3, 3), strides=(2,2),  activation = tf.nn.relu, name = \"conv_dec1\"))\n",
        "  model.add(layers.BatchNormalization())\n",
        "  model.add(layers.Conv2DTranspose(filters = 16, kernel_size=(3, 3), strides=(2,2),  padding = \"same\", activation = tf.nn.relu, name = \"conv_dec2\"))\n",
        "  model.add(layers.BatchNormalization())\n",
        "  model.add(layers.Conv2DTranspose(filters = 1, kernel_size=(3, 3), strides=(2,2), padding = \"same\", activation = tf.nn.sigmoid, name = \"conv_dec3\"))\n",
        "  print(model.summary())\n",
        "  return model;\n",
        "\n",
        "conv_model1 = create_model()\n",
        "\"\"\""
      ],
      "execution_count": 0,
      "outputs": [
        {
          "output_type": "stream",
          "text": [
            "Model: \"sequential_9\"\n",
            "_________________________________________________________________\n",
            "Layer (type)                 Output Shape              Param #   \n",
            "=================================================================\n",
            "conv_enc1 (Conv2D)           (None, 28, 28, 32)        320       \n",
            "_________________________________________________________________\n",
            "max_pooling2d_18 (MaxPooling (None, 14, 14, 32)        0         \n",
            "_________________________________________________________________\n",
            "conv_enc2 (Conv2D)           (None, 14, 14, 64)        18496     \n",
            "_________________________________________________________________\n",
            "max_pooling2d_19 (MaxPooling (None, 7, 7, 64)          0         \n",
            "_________________________________________________________________\n",
            "conv_enc3 (Conv2D)           (None, 7, 7, 128)         73856     \n",
            "_________________________________________________________________\n",
            "max_pooling2d_20 (MaxPooling (None, 3, 3, 128)         0         \n",
            "_________________________________________________________________\n",
            "conv_compression_dim_reduce  (None, 3, 3, 64)          8256      \n",
            "_________________________________________________________________\n",
            "conv_dec1 (Conv2DTranspose)  (None, 7, 7, 32)          18464     \n",
            "_________________________________________________________________\n",
            "batch_normalization_14 (Batc (None, 7, 7, 32)          128       \n",
            "_________________________________________________________________\n",
            "conv_dec2 (Conv2DTranspose)  (None, 14, 14, 16)        4624      \n",
            "_________________________________________________________________\n",
            "batch_normalization_15 (Batc (None, 14, 14, 16)        64        \n",
            "_________________________________________________________________\n",
            "conv_dec3 (Conv2DTranspose)  (None, 28, 28, 1)         145       \n",
            "=================================================================\n",
            "Total params: 124,353\n",
            "Trainable params: 124,257\n",
            "Non-trainable params: 96\n",
            "_________________________________________________________________\n",
            "None\n"
          ],
          "name": "stdout"
        }
      ]
    },
    {
      "cell_type": "code",
      "metadata": {
        "id": "bdjv6lSRf52C",
        "colab_type": "code",
        "outputId": "d5182620-67f0-412b-d6cc-93fbe7387ac8",
        "colab": {
          "base_uri": "https://localhost:8080/",
          "height": 846
        }
      },
      "source": [
        "def create_conv_autoencoder_model(encoder_layer_dims=[32,64,128], compression_layer_dim=64, decoder_layer_dims=[32, 16, 1], input_shape=(28,28,1), ks=3,\n",
        "                 compression_flag=True ,batch_norm_flag=True, dense_latent_rep_flag=False, upsampling_flag = False):\n",
        "  model = models.Sequential()\n",
        "  \n",
        "  #Build encoder part, add batch norm after encoder if batch norm flag is set to true\n",
        "  conv_enc_base_name = \"conv_enc_\"\n",
        "  conv_cmprsn_base_name = \"conv_compress_dims\"\n",
        "  conv_dec_base_name = \"conv_dec_\"\n",
        "  for i in range (len(encoder_layer_dims)):\n",
        "    #For first layer we need to specify shape\n",
        "    if(i == 0):\n",
        "      model.add(layers.Conv2D(filters = encoder_layer_dims[i], kernel_size=(ks, ks),  padding = \"same\", \n",
        "                              activation=tf.nn.relu, name = conv_enc_base_name + str(i), input_shape = input_shape))\n",
        "      if(batch_norm_flag):\n",
        "        model.add(layers.BatchNormalization()) \n",
        "\n",
        "      model.add(layers.MaxPool2D(pool_size=(2,2)))\n",
        "    else:\n",
        "      model.add(layers.Conv2D(filters = encoder_layer_dims[i], kernel_size=(ks, ks),  padding = \"same\", \n",
        "                              activation=tf.nn.relu, name = conv_enc_base_name + str(i)))\n",
        "      \n",
        "      if(batch_norm_flag):\n",
        "        model.add(layers.BatchNormalization()) \n",
        "\n",
        "      model.add(layers.MaxPool2D(pool_size=(2,2)))\n",
        "  \n",
        "  print(\"Encoder has been built, checking for compression flag\")\n",
        "\n",
        "  if(compression_flag):\n",
        "    model.add(layers.Conv2D(filters = compression_layer_dim, kernel_size=(1, 1),  padding = \"same\", activation = tf.nn.relu, name = conv_cmprsn_base_name))\n",
        "\n",
        "  # With one-d dense representation is hardcoded for this one casem without this we can pick dynamically\n",
        "  if(dense_latent_rep_flag):\n",
        "    model.add(layers.Flatten())\n",
        "    model.add(layers.Dense(256,activation=tf.nn.relu))\n",
        "    model.add(layers.Dense(64,activation=tf.nn.leaky_relu))\n",
        "    model.add(layers.Dense(252,activation=tf.nn.relu))\n",
        "    model.add(layers.Reshape((3, 3, 28), input_shape=(252,)))\n",
        "\n",
        "  print(\"FC layer added, printing model summary\")\n",
        "\n",
        "  #print(model.summary())\n",
        "  #Build Decoder , add batch norm before adding conv transpose, Use sigmoid at final layer and relu for others\n",
        "  if(upsampling_flag == False):\n",
        "    for i in range (len(decoder_layer_dims)):\n",
        "      if(i == 0):\n",
        "        if(batch_norm_flag):\n",
        "          model.add(layers.BatchNormalization()) \n",
        "\n",
        "        model.add(layers.Conv2DTranspose(filters = decoder_layer_dims[i], kernel_size=(ks, ks),  strides=(2,2), padding = \"valid\", \n",
        "                                  activation=tf.nn.relu, name = conv_dec_base_name + str(i)))\n",
        "        \n",
        "      elif(i < len(decoder_layer_dims)-1 and i > 0):\n",
        "\n",
        "        if(batch_norm_flag):\n",
        "          model.add(layers.BatchNormalization()) \n",
        "\n",
        "        model.add(layers.Conv2DTranspose(filters = decoder_layer_dims[i], kernel_size=(ks, ks),  strides=(2,2), padding = \"same\", \n",
        "                                  activation=tf.nn.relu, name = conv_dec_base_name + str(i)))\n",
        "      else:\n",
        "        if(batch_norm_flag):\n",
        "          model.add(layers.BatchNormalization())  \n",
        "\n",
        "        model.add(layers.Conv2DTranspose(filters = decoder_layer_dims[i], kernel_size=(ks, ks), strides=(2,2), padding = \"same\", \n",
        "                                  activation=tf.nn.sigmoid, name = conv_dec_base_name + str(i)))\n",
        "        \n",
        "  elif(upsampling_flag == True):\n",
        "      print(\"Upscaling with convolution choosen\")\n",
        "      for i in range (len(decoder_layer_dims)):\n",
        "        if(i == 0):\n",
        "          model.add(layers.UpSampling2D(size=(3, 3)))\n",
        "          if(batch_norm_flag):\n",
        "            model.add(layers.BatchNormalization()) \n",
        "\n",
        "          model.add(layers.Conv2D(filters = decoder_layer_dims[i], kernel_size=(ks, ks), padding = \"valid\", activation=tf.nn.relu, name = conv_dec_base_name + str(i)))\n",
        "          model.add(layers.UpSampling2D())\n",
        "\n",
        "        elif(i < len(decoder_layer_dims)-1 and i > 0):\n",
        "\n",
        "          if(batch_norm_flag):\n",
        "            model.add(layers.BatchNormalization()) \n",
        "\n",
        "          model.add(layers.Conv2D(filters = decoder_layer_dims[i], kernel_size=(ks, ks), padding = \"same\", activation=tf.nn.relu, name = conv_dec_base_name + str(i)))\n",
        "          model.add(layers.UpSampling2D())\n",
        "        else:\n",
        "          if(batch_norm_flag):\n",
        "            model.add(layers.BatchNormalization())  \n",
        "\n",
        "          model.add(layers.Conv2D(filters = decoder_layer_dims[i], kernel_size=(ks, ks),  padding = \"same\", activation=tf.nn.sigmoid, name = conv_dec_base_name + str(i)))\n",
        "        \n",
        "  print(\"Model has been built, printing summary\")\n",
        "  \n",
        "  print(model.summary())\n",
        "  return model;\n",
        "\n",
        "conv_model_with_upsampling = create_conv_autoencoder_model(upsampling_flag=True)"
      ],
      "execution_count": 0,
      "outputs": [
        {
          "output_type": "stream",
          "text": [
            "Encoder has been built, checking for compression flag\n",
            "FC layer added, printing model summary\n",
            "Upscaling with convolution choosen\n",
            "Model has been built, printing summary\n",
            "Model: \"sequential_26\"\n",
            "_________________________________________________________________\n",
            "Layer (type)                 Output Shape              Param #   \n",
            "=================================================================\n",
            "conv_enc_0 (Conv2D)          (None, 28, 28, 32)        320       \n",
            "_________________________________________________________________\n",
            "batch_normalization_93 (Batc (None, 28, 28, 32)        128       \n",
            "_________________________________________________________________\n",
            "max_pooling2d_69 (MaxPooling (None, 14, 14, 32)        0         \n",
            "_________________________________________________________________\n",
            "conv_enc_1 (Conv2D)          (None, 14, 14, 64)        18496     \n",
            "_________________________________________________________________\n",
            "batch_normalization_94 (Batc (None, 14, 14, 64)        256       \n",
            "_________________________________________________________________\n",
            "max_pooling2d_70 (MaxPooling (None, 7, 7, 64)          0         \n",
            "_________________________________________________________________\n",
            "conv_enc_2 (Conv2D)          (None, 7, 7, 128)         73856     \n",
            "_________________________________________________________________\n",
            "batch_normalization_95 (Batc (None, 7, 7, 128)         512       \n",
            "_________________________________________________________________\n",
            "max_pooling2d_71 (MaxPooling (None, 3, 3, 128)         0         \n",
            "_________________________________________________________________\n",
            "conv_compress_dims (Conv2D)  (None, 3, 3, 64)          8256      \n",
            "_________________________________________________________________\n",
            "up_sampling2d_18 (UpSampling (None, 9, 9, 64)          0         \n",
            "_________________________________________________________________\n",
            "batch_normalization_96 (Batc (None, 9, 9, 64)          256       \n",
            "_________________________________________________________________\n",
            "conv_dec_0 (Conv2D)          (None, 7, 7, 32)          18464     \n",
            "_________________________________________________________________\n",
            "up_sampling2d_19 (UpSampling (None, 14, 14, 32)        0         \n",
            "_________________________________________________________________\n",
            "batch_normalization_97 (Batc (None, 14, 14, 32)        128       \n",
            "_________________________________________________________________\n",
            "conv_dec_1 (Conv2D)          (None, 14, 14, 16)        4624      \n",
            "_________________________________________________________________\n",
            "up_sampling2d_20 (UpSampling (None, 28, 28, 16)        0         \n",
            "_________________________________________________________________\n",
            "batch_normalization_98 (Batc (None, 28, 28, 16)        64        \n",
            "_________________________________________________________________\n",
            "conv_dec_2 (Conv2D)          (None, 28, 28, 1)         145       \n",
            "=================================================================\n",
            "Total params: 125,505\n",
            "Trainable params: 124,833\n",
            "Non-trainable params: 672\n",
            "_________________________________________________________________\n",
            "None\n"
          ],
          "name": "stdout"
        }
      ]
    },
    {
      "cell_type": "code",
      "metadata": {
        "id": "AME6JZrM_JjT",
        "colab_type": "code",
        "outputId": "ad90535f-edb3-4891-e97b-58ecb10b1eef",
        "colab": {
          "base_uri": "https://localhost:8080/",
          "height": 765
        }
      },
      "source": [
        "conv_model_with_upsampling.summary()"
      ],
      "execution_count": 0,
      "outputs": [
        {
          "output_type": "stream",
          "text": [
            "Model: \"sequential_26\"\n",
            "_________________________________________________________________\n",
            "Layer (type)                 Output Shape              Param #   \n",
            "=================================================================\n",
            "conv_enc_0 (Conv2D)          (None, 28, 28, 32)        320       \n",
            "_________________________________________________________________\n",
            "batch_normalization_93 (Batc (None, 28, 28, 32)        128       \n",
            "_________________________________________________________________\n",
            "max_pooling2d_69 (MaxPooling (None, 14, 14, 32)        0         \n",
            "_________________________________________________________________\n",
            "conv_enc_1 (Conv2D)          (None, 14, 14, 64)        18496     \n",
            "_________________________________________________________________\n",
            "batch_normalization_94 (Batc (None, 14, 14, 64)        256       \n",
            "_________________________________________________________________\n",
            "max_pooling2d_70 (MaxPooling (None, 7, 7, 64)          0         \n",
            "_________________________________________________________________\n",
            "conv_enc_2 (Conv2D)          (None, 7, 7, 128)         73856     \n",
            "_________________________________________________________________\n",
            "batch_normalization_95 (Batc (None, 7, 7, 128)         512       \n",
            "_________________________________________________________________\n",
            "max_pooling2d_71 (MaxPooling (None, 3, 3, 128)         0         \n",
            "_________________________________________________________________\n",
            "conv_compress_dims (Conv2D)  (None, 3, 3, 64)          8256      \n",
            "_________________________________________________________________\n",
            "up_sampling2d_18 (UpSampling (None, 9, 9, 64)          0         \n",
            "_________________________________________________________________\n",
            "batch_normalization_96 (Batc (None, 9, 9, 64)          256       \n",
            "_________________________________________________________________\n",
            "conv_dec_0 (Conv2D)          (None, 7, 7, 32)          18464     \n",
            "_________________________________________________________________\n",
            "up_sampling2d_19 (UpSampling (None, 14, 14, 32)        0         \n",
            "_________________________________________________________________\n",
            "batch_normalization_97 (Batc (None, 14, 14, 32)        128       \n",
            "_________________________________________________________________\n",
            "conv_dec_1 (Conv2D)          (None, 14, 14, 16)        4624      \n",
            "_________________________________________________________________\n",
            "up_sampling2d_20 (UpSampling (None, 28, 28, 16)        0         \n",
            "_________________________________________________________________\n",
            "batch_normalization_98 (Batc (None, 28, 28, 16)        64        \n",
            "_________________________________________________________________\n",
            "conv_dec_2 (Conv2D)          (None, 28, 28, 1)         145       \n",
            "=================================================================\n",
            "Total params: 125,505\n",
            "Trainable params: 124,833\n",
            "Non-trainable params: 672\n",
            "_________________________________________________________________\n"
          ],
          "name": "stdout"
        }
      ]
    },
    {
      "cell_type": "code",
      "metadata": {
        "id": "JIB-U9526FNc",
        "colab_type": "code",
        "outputId": "aeec537d-5117-4abc-96fd-fb871bea11e0",
        "colab": {
          "base_uri": "https://localhost:8080/",
          "height": 830
        }
      },
      "source": [
        "conv_model_with_fc = create_conv_autoencoder_model(dense_latent_rep_flag=True)\n",
        "conv_model_with_fc.summary()"
      ],
      "execution_count": 0,
      "outputs": [
        {
          "output_type": "stream",
          "text": [
            "Model: \"sequential_18\"\n",
            "_________________________________________________________________\n",
            "Layer (type)                 Output Shape              Param #   \n",
            "=================================================================\n",
            "conv_enc_0 (Conv2D)          (None, 28, 28, 32)        320       \n",
            "_________________________________________________________________\n",
            "batch_normalization_45 (Batc (None, 28, 28, 32)        128       \n",
            "_________________________________________________________________\n",
            "max_pooling2d_45 (MaxPooling (None, 14, 14, 32)        0         \n",
            "_________________________________________________________________\n",
            "conv_enc_1 (Conv2D)          (None, 14, 14, 64)        18496     \n",
            "_________________________________________________________________\n",
            "batch_normalization_46 (Batc (None, 14, 14, 64)        256       \n",
            "_________________________________________________________________\n",
            "max_pooling2d_46 (MaxPooling (None, 7, 7, 64)          0         \n",
            "_________________________________________________________________\n",
            "conv_enc_2 (Conv2D)          (None, 7, 7, 128)         73856     \n",
            "_________________________________________________________________\n",
            "batch_normalization_47 (Batc (None, 7, 7, 128)         512       \n",
            "_________________________________________________________________\n",
            "max_pooling2d_47 (MaxPooling (None, 3, 3, 128)         0         \n",
            "_________________________________________________________________\n",
            "conv_compress_dims (Conv2D)  (None, 3, 3, 64)          8256      \n",
            "_________________________________________________________________\n",
            "flatten_5 (Flatten)          (None, 576)               0         \n",
            "_________________________________________________________________\n",
            "dense_13 (Dense)             (None, 256)               147712    \n",
            "_________________________________________________________________\n",
            "dense_14 (Dense)             (None, 64)                16448     \n",
            "_________________________________________________________________\n",
            "dense_15 (Dense)             (None, 252)               16380     \n",
            "_________________________________________________________________\n",
            "reshape_1 (Reshape)          (None, 3, 3, 28)          0         \n",
            "_________________________________________________________________\n",
            "batch_normalization_48 (Batc (None, 3, 3, 28)          112       \n",
            "_________________________________________________________________\n",
            "conv_dec_0 (Conv2DTranspose) (None, 7, 7, 32)          8096      \n",
            "_________________________________________________________________\n",
            "batch_normalization_49 (Batc (None, 7, 7, 32)          128       \n",
            "_________________________________________________________________\n",
            "conv_dec_1 (Conv2DTranspose) (None, 14, 14, 16)        4624      \n",
            "_________________________________________________________________\n",
            "batch_normalization_50 (Batc (None, 14, 14, 16)        64        \n",
            "_________________________________________________________________\n",
            "conv_dec_2 (Conv2DTranspose) (None, 28, 28, 1)         145       \n",
            "=================================================================\n",
            "Total params: 295,533\n",
            "Trainable params: 294,933\n",
            "Non-trainable params: 600\n",
            "_________________________________________________________________\n"
          ],
          "name": "stdout"
        }
      ]
    },
    {
      "cell_type": "code",
      "metadata": {
        "id": "CodhK5n6wy72",
        "colab_type": "code",
        "outputId": "f20a5f34-9e48-42cf-ff36-192e33848af0",
        "colab": {
          "base_uri": "https://localhost:8080/",
          "height": 667
        }
      },
      "source": [
        "conv_model_with_batchnorm = create_conv_autoencoder_model()\n",
        "conv_model_with_batchnorm.summary()"
      ],
      "execution_count": 0,
      "outputs": [
        {
          "output_type": "stream",
          "text": [
            "Model: \"sequential_11\"\n",
            "_________________________________________________________________\n",
            "Layer (type)                 Output Shape              Param #   \n",
            "=================================================================\n",
            "conv_enc_0 (Conv2D)          (None, 28, 28, 32)        320       \n",
            "_________________________________________________________________\n",
            "batch_normalization_22 (Batc (None, 28, 28, 32)        128       \n",
            "_________________________________________________________________\n",
            "max_pooling2d_24 (MaxPooling (None, 14, 14, 32)        0         \n",
            "_________________________________________________________________\n",
            "conv_enc_1 (Conv2D)          (None, 14, 14, 64)        18496     \n",
            "_________________________________________________________________\n",
            "batch_normalization_23 (Batc (None, 14, 14, 64)        256       \n",
            "_________________________________________________________________\n",
            "max_pooling2d_25 (MaxPooling (None, 7, 7, 64)          0         \n",
            "_________________________________________________________________\n",
            "conv_enc_2 (Conv2D)          (None, 7, 7, 128)         73856     \n",
            "_________________________________________________________________\n",
            "batch_normalization_24 (Batc (None, 7, 7, 128)         512       \n",
            "_________________________________________________________________\n",
            "max_pooling2d_26 (MaxPooling (None, 3, 3, 128)         0         \n",
            "_________________________________________________________________\n",
            "conv_compress_dims (Conv2D)  (None, 3, 3, 64)          8256      \n",
            "_________________________________________________________________\n",
            "batch_normalization_25 (Batc (None, 3, 3, 64)          256       \n",
            "_________________________________________________________________\n",
            "conv_dec_0 (Conv2DTranspose) (None, 7, 7, 32)          18464     \n",
            "_________________________________________________________________\n",
            "batch_normalization_26 (Batc (None, 7, 7, 32)          128       \n",
            "_________________________________________________________________\n",
            "conv_dec_1 (Conv2DTranspose) (None, 14, 14, 16)        4624      \n",
            "_________________________________________________________________\n",
            "batch_normalization_27 (Batc (None, 14, 14, 16)        64        \n",
            "_________________________________________________________________\n",
            "conv_dec_2 (Conv2DTranspose) (None, 28, 28, 1)         145       \n",
            "=================================================================\n",
            "Total params: 125,505\n",
            "Trainable params: 124,833\n",
            "Non-trainable params: 672\n",
            "_________________________________________________________________\n"
          ],
          "name": "stdout"
        }
      ]
    },
    {
      "cell_type": "code",
      "metadata": {
        "id": "tRtj3HG3sQm2",
        "colab_type": "code",
        "outputId": "a8892b2f-a23d-49e1-eb20-c796d002f27e",
        "colab": {
          "base_uri": "https://localhost:8080/",
          "height": 521
        }
      },
      "source": [
        "conv_model_without_batchnorm = create_conv_autoencoder_model(batch_norm_flag=False)"
      ],
      "execution_count": 0,
      "outputs": [
        {
          "output_type": "stream",
          "text": [
            "Encoder has been built, checking for compression flag\n",
            "Model has been built, printing summary\n",
            "Model: \"sequential_12\"\n",
            "_________________________________________________________________\n",
            "Layer (type)                 Output Shape              Param #   \n",
            "=================================================================\n",
            "conv_enc_0 (Conv2D)          (None, 28, 28, 32)        320       \n",
            "_________________________________________________________________\n",
            "max_pooling2d_27 (MaxPooling (None, 14, 14, 32)        0         \n",
            "_________________________________________________________________\n",
            "conv_enc_1 (Conv2D)          (None, 14, 14, 64)        18496     \n",
            "_________________________________________________________________\n",
            "max_pooling2d_28 (MaxPooling (None, 7, 7, 64)          0         \n",
            "_________________________________________________________________\n",
            "conv_enc_2 (Conv2D)          (None, 7, 7, 128)         73856     \n",
            "_________________________________________________________________\n",
            "max_pooling2d_29 (MaxPooling (None, 3, 3, 128)         0         \n",
            "_________________________________________________________________\n",
            "conv_compress_dims (Conv2D)  (None, 3, 3, 64)          8256      \n",
            "_________________________________________________________________\n",
            "conv_dec_0 (Conv2DTranspose) (None, 7, 7, 32)          18464     \n",
            "_________________________________________________________________\n",
            "conv_dec_1 (Conv2DTranspose) (None, 14, 14, 16)        4624      \n",
            "_________________________________________________________________\n",
            "conv_dec_2 (Conv2DTranspose) (None, 28, 28, 1)         145       \n",
            "=================================================================\n",
            "Total params: 124,161\n",
            "Trainable params: 124,161\n",
            "Non-trainable params: 0\n",
            "_________________________________________________________________\n",
            "None\n"
          ],
          "name": "stdout"
        }
      ]
    },
    {
      "cell_type": "code",
      "metadata": {
        "id": "qukIFCUmvDKn",
        "colab_type": "code",
        "colab": {}
      },
      "source": [
        "conv_model_with_batchnorm.compile(optimizer=\"adam\", loss=tf.keras.losses.MeanAbsoluteError(), metrics=[\"accuracy\"])\n",
        "conv_model_without_batchnorm.compile(optimizer=\"adam\", loss=tf.keras.losses.MeanAbsoluteError(), metrics=[\"accuracy\"])"
      ],
      "execution_count": 0,
      "outputs": []
    },
    {
      "cell_type": "code",
      "metadata": {
        "id": "QRIeyttX3JWF",
        "colab_type": "code",
        "colab": {}
      },
      "source": [
        "conv_model_with_fc.compile(optimizer=\"adam\", loss=tf.keras.losses.MeanAbsoluteError(), metrics=[\"accuracy\"])"
      ],
      "execution_count": 0,
      "outputs": []
    },
    {
      "cell_type": "code",
      "metadata": {
        "id": "L7er_SXx_Mll",
        "colab_type": "code",
        "colab": {}
      },
      "source": [
        "conv_model_with_upsampling.compile(optimizer=\"adam\", loss=tf.keras.losses.MeanAbsoluteError(), metrics=[\"accuracy\"])"
      ],
      "execution_count": 0,
      "outputs": []
    },
    {
      "cell_type": "code",
      "metadata": {
        "id": "nCEyoAeJyShw",
        "colab_type": "code",
        "outputId": "412ad824-e0ea-4fff-f018-fe5eda8466fb",
        "colab": {
          "base_uri": "https://localhost:8080/",
          "height": 50
        }
      },
      "source": [
        "x = tf.expand_dims(train_images_raw.astype(np.float32)/255.0 , -1)\n",
        "y = tf.expand_dims(train_images_raw.astype(np.float32)/255.0, -1)\n",
        "print(x.shape)\n",
        "print(x.dtype)"
      ],
      "execution_count": 0,
      "outputs": [
        {
          "output_type": "stream",
          "text": [
            "(60000, 28, 28, 1)\n",
            "<dtype: 'float32'>\n"
          ],
          "name": "stdout"
        }
      ]
    },
    {
      "cell_type": "code",
      "metadata": {
        "id": "yclHvm5QsjhD",
        "colab_type": "code",
        "outputId": "2fc73b57-aa4c-4e48-f770-e47cb9e363be",
        "colab": {
          "base_uri": "https://localhost:8080/",
          "height": 488
        }
      },
      "source": [
        "conv_model_with_batchnorm.fit(x=x, y=y, epochs = 7)\n",
        "conv_model_without_batchnorm.fit(x=x, y=y, epochs = 7)"
      ],
      "execution_count": 0,
      "outputs": [
        {
          "output_type": "stream",
          "text": [
            "Epoch 1/7\n",
            "1875/1875 [==============================] - 14s 8ms/step - loss: 0.0497 - accuracy: 0.8055\n",
            "Epoch 2/7\n",
            "1875/1875 [==============================] - 14s 7ms/step - loss: 0.0179 - accuracy: 0.8153\n",
            "Epoch 3/7\n",
            "1875/1875 [==============================] - 14s 7ms/step - loss: 0.0157 - accuracy: 0.8154\n",
            "Epoch 4/7\n",
            "1875/1875 [==============================] - 14s 7ms/step - loss: 0.0147 - accuracy: 0.8154\n",
            "Epoch 5/7\n",
            "1875/1875 [==============================] - 14s 7ms/step - loss: 0.0139 - accuracy: 0.8154\n",
            "Epoch 6/7\n",
            "1875/1875 [==============================] - 14s 7ms/step - loss: 0.0133 - accuracy: 0.8154\n",
            "Epoch 7/7\n",
            "1875/1875 [==============================] - 13s 7ms/step - loss: 0.0128 - accuracy: 0.8154\n",
            "Epoch 1/7\n",
            "1875/1875 [==============================] - 11s 6ms/step - loss: 0.1338 - accuracy: 0.8074\n",
            "Epoch 2/7\n",
            "1875/1875 [==============================] - 11s 6ms/step - loss: 0.1307 - accuracy: 0.8088\n",
            "Epoch 3/7\n",
            "1875/1875 [==============================] - 11s 6ms/step - loss: 0.1307 - accuracy: 0.8088\n",
            "Epoch 4/7\n",
            "1875/1875 [==============================] - 11s 6ms/step - loss: 0.1307 - accuracy: 0.8088\n",
            "Epoch 5/7\n",
            "1875/1875 [==============================] - 12s 6ms/step - loss: 0.1307 - accuracy: 0.8088\n",
            "Epoch 6/7\n",
            "1875/1875 [==============================] - 11s 6ms/step - loss: 0.1307 - accuracy: 0.8088\n",
            "Epoch 7/7\n",
            "1875/1875 [==============================] - 11s 6ms/step - loss: 0.1307 - accuracy: 0.8088\n"
          ],
          "name": "stdout"
        },
        {
          "output_type": "execute_result",
          "data": {
            "text/plain": [
              "<tensorflow.python.keras.callbacks.History at 0x7f9148298ac8>"
            ]
          },
          "metadata": {
            "tags": []
          },
          "execution_count": 37
        }
      ]
    },
    {
      "cell_type": "code",
      "metadata": {
        "id": "RhOKAvca3T2E",
        "colab_type": "code",
        "outputId": "9d90b735-6de9-42fe-9461-d17728d133dd",
        "colab": {
          "base_uri": "https://localhost:8080/",
          "height": 261
        }
      },
      "source": [
        "conv_model_with_fc.fit(x=x, y=y, epochs=7)"
      ],
      "execution_count": 0,
      "outputs": [
        {
          "output_type": "stream",
          "text": [
            "Epoch 1/7\n",
            "1875/1875 [==============================] - 15s 8ms/step - loss: 0.0787 - accuracy: 0.7871\n",
            "Epoch 2/7\n",
            "1875/1875 [==============================] - 14s 8ms/step - loss: 0.0303 - accuracy: 0.8138\n",
            "Epoch 3/7\n",
            "1875/1875 [==============================] - 15s 8ms/step - loss: 0.0266 - accuracy: 0.8144\n",
            "Epoch 4/7\n",
            "1875/1875 [==============================] - 15s 8ms/step - loss: 0.0247 - accuracy: 0.8147\n",
            "Epoch 5/7\n",
            "1875/1875 [==============================] - 15s 8ms/step - loss: 0.0234 - accuracy: 0.8148\n",
            "Epoch 6/7\n",
            "1875/1875 [==============================] - 15s 8ms/step - loss: 0.0224 - accuracy: 0.8149\n",
            "Epoch 7/7\n",
            "1875/1875 [==============================] - 15s 8ms/step - loss: 0.0217 - accuracy: 0.8150\n"
          ],
          "name": "stdout"
        },
        {
          "output_type": "execute_result",
          "data": {
            "text/plain": [
              "<tensorflow.python.keras.callbacks.History at 0x7f9142a93d68>"
            ]
          },
          "metadata": {
            "tags": []
          },
          "execution_count": 52
        }
      ]
    },
    {
      "cell_type": "code",
      "metadata": {
        "id": "mvMdGQaN_RPj",
        "colab_type": "code",
        "outputId": "b9dbee69-74f0-4701-c877-95d23395f7c7",
        "colab": {
          "base_uri": "https://localhost:8080/",
          "height": 261
        }
      },
      "source": [
        "conv_model_with_upsampling.fit(x=x, y=y, epochs=7)"
      ],
      "execution_count": 0,
      "outputs": [
        {
          "output_type": "stream",
          "text": [
            "Epoch 1/7\n",
            "1875/1875 [==============================] - 16s 9ms/step - loss: 0.0476 - accuracy: 0.8051\n",
            "Epoch 2/7\n",
            "1875/1875 [==============================] - 16s 8ms/step - loss: 0.0249 - accuracy: 0.8146\n",
            "Epoch 3/7\n",
            "1875/1875 [==============================] - 16s 9ms/step - loss: 0.0218 - accuracy: 0.8150\n",
            "Epoch 4/7\n",
            "1875/1875 [==============================] - 16s 9ms/step - loss: 0.0203 - accuracy: 0.8151\n",
            "Epoch 5/7\n",
            "1875/1875 [==============================] - 16s 9ms/step - loss: 0.0192 - accuracy: 0.8152\n",
            "Epoch 6/7\n",
            "1875/1875 [==============================] - 16s 9ms/step - loss: 0.0184 - accuracy: 0.8153\n",
            "Epoch 7/7\n",
            "1875/1875 [==============================] - 16s 9ms/step - loss: 0.0178 - accuracy: 0.8153\n"
          ],
          "name": "stdout"
        },
        {
          "output_type": "execute_result",
          "data": {
            "text/plain": [
              "<tensorflow.python.keras.callbacks.History at 0x7f9147dafd30>"
            ]
          },
          "metadata": {
            "tags": []
          },
          "execution_count": 68
        }
      ]
    },
    {
      "cell_type": "code",
      "metadata": {
        "id": "5m24wEYi2hWC",
        "colab_type": "code",
        "colab": {}
      },
      "source": [
        "def evaluate_and_output_model(model, test_images, images_to_be_compared=5):\n",
        "  class_names = ['0', '1', '2', '3', '4','5', '6', '7', '8', '9']\n",
        "  print(test_images.shape)\n",
        "  #test_loss, test_acc = model.evaluate(test_images,  test_labels, verbose=2)\n",
        "  print(test_images.shape)\n",
        "  #print('\\n  Relu Test accuracy:', str(test_acc) + \" test loss: \" + str(test_loss) + \"\\n\")\n",
        "  model_output_images = model.predict(test_images)\n",
        "  print(model_output_images.shape)\n",
        "  plt.figure(figsize=(10,10))\n",
        "  j = -1\n",
        "  for i in range(25):\n",
        "      plt.subplot(5,5,i+1)\n",
        "      plt.xticks([])\n",
        "      plt.yticks([])\n",
        "      plt.grid(False)\n",
        "      j = j+1\n",
        "      if(i%2 == 0):\n",
        "        plt.imshow(test_images[i+10][:,:,0], cmap=plt.cm.binary)\n",
        "      elif(j%2 == 1):\n",
        "        \n",
        "        plt.imshow(model_output_images[j-1+10][:,:,0], cmap=plt.cm.binary)\n",
        "      \n",
        "      #plt.xlabel(class_names[test_images[i]])\n",
        "  plt.show()"
      ],
      "execution_count": 0,
      "outputs": []
    },
    {
      "cell_type": "code",
      "metadata": {
        "id": "7jypdb0Ntaeo",
        "colab_type": "code",
        "outputId": "04d317d6-15db-4ade-b78f-71fe08fcc600",
        "colab": {
          "base_uri": "https://localhost:8080/",
          "height": 626
        }
      },
      "source": [
        "evaluate_and_output_model(conv_model_without_batchnorm, tf.expand_dims(test_images_raw.astype(np.float32)/255.0, -1))"
      ],
      "execution_count": 0,
      "outputs": [
        {
          "output_type": "stream",
          "text": [
            "(10000, 28, 28, 1)\n",
            "(10000, 28, 28, 1)\n",
            "(10000, 28, 28, 1)\n"
          ],
          "name": "stdout"
        },
        {
          "output_type": "display_data",
          "data": {
            "image/png": "[encoded data removed]",
            "text/plain": [
              "<Figure size 720x720 with 25 Axes>"
            ]
          },
          "metadata": {
            "tags": []
          }
        }
      ]
    },
    {
      "cell_type": "code",
      "metadata": {
        "id": "bAS5I5ZYtgTB",
        "colab_type": "code",
        "outputId": "60cddc2c-fbc3-4c59-872c-85cc9edc06cd",
        "colab": {
          "base_uri": "https://localhost:8080/",
          "height": 626
        }
      },
      "source": [
        "evaluate_and_output_model(conv_model_with_batchnorm, tf.expand_dims(test_images_raw.astype(np.float32)/255.0, -1))"
      ],
      "execution_count": 0,
      "outputs": [
        {
          "output_type": "stream",
          "text": [
            "(10000, 28, 28, 1)\n",
            "(10000, 28, 28, 1)\n",
            "(10000, 28, 28, 1)\n"
          ],
          "name": "stdout"
        },
        {
          "output_type": "display_data",
          "data": {
            "image/png": "[encoded data removed]",
            "text/plain": [
              "<Figure size 720x720 with 25 Axes>"
            ]
          },
          "metadata": {
            "tags": []
          }
        }
      ]
    },
    {
      "cell_type": "code",
      "metadata": {
        "id": "u_qWaRqO30x_",
        "colab_type": "code",
        "outputId": "072a2d91-6f98-48b9-cad4-4cba82312e38",
        "colab": {
          "base_uri": "https://localhost:8080/",
          "height": 626
        }
      },
      "source": [
        "evaluate_and_output_model(conv_model_with_fc, tf.expand_dims(test_images_raw.astype(np.float32)/255.0, -1))"
      ],
      "execution_count": 0,
      "outputs": [
        {
          "output_type": "stream",
          "text": [
            "(10000, 28, 28, 1)\n",
            "(10000, 28, 28, 1)\n",
            "(10000, 28, 28, 1)\n"
          ],
          "name": "stdout"
        },
        {
          "output_type": "display_data",
          "data": {
            "image/png": "[encoded data removed]",
            "text/plain": [
              "<Figure size 720x720 with 25 Axes>"
            ]
          },
          "metadata": {
            "tags": []
          }
        }
      ]
    },
    {
      "cell_type": "code",
      "metadata": {
        "id": "2807lXHY_yQq",
        "colab_type": "code",
        "outputId": "f7bcfeab-f981-46b0-ce36-8aee19614955",
        "colab": {
          "base_uri": "https://localhost:8080/",
          "height": 626
        }
      },
      "source": [
        "evaluate_and_output_model(conv_model_with_upsampling, tf.expand_dims(test_images_raw.astype(np.float32)/255.0, -1))"
      ],
      "execution_count": 0,
      "outputs": [
        {
          "output_type": "stream",
          "text": [
            "(10000, 28, 28, 1)\n",
            "(10000, 28, 28, 1)\n",
            "(10000, 28, 28, 1)\n"
          ],
          "name": "stdout"
        },
        {
          "output_type": "display_data",
          "data": {
            "image/png": "[encoded data removed]",
            "text/plain": [
              "<Figure size 720x720 with 25 Axes>"
            ]
          },
          "metadata": {
            "tags": []
          }
        }
      ]
    },
    {
      "cell_type": "code",
      "metadata": {
        "id": "N4KNKpIfALTD",
        "colab_type": "code",
        "colab": {}
      },
      "source": [
        "!mkdir \"/content/conv_model_without_batchnorm\"\n",
        "!mkdir \"/content/conv_model_with_batchnorm\"\n",
        "!mkdir \"/content/conv_model_with_upsampling\"\n",
        "!mkdir \"/content/conv_model_with_fc\""
      ],
      "execution_count": 0,
      "outputs": []
    },
    {
      "cell_type": "code",
      "metadata": {
        "id": "8SXspJn0AfIO",
        "colab_type": "code",
        "outputId": "38f639f8-229c-4841-9f62-7e44d7075511",
        "colab": {
          "base_uri": "https://localhost:8080/",
          "height": 151
        }
      },
      "source": [
        "conv_model_without_batchnorm.save(\"/content/conv_model_without_batchnorm\")\n",
        "conv_model_with_batchnorm.save(\"/content/conv_model_with_batchnorm\")\n",
        "conv_model_with_upsampling.save(\"/content/conv_model_with_upsampling\")\n",
        "conv_model_with_fc.save(\"/content/conv_model_with_fc\")"
      ],
      "execution_count": 0,
      "outputs": [
        {
          "output_type": "stream",
          "text": [
            "WARNING:tensorflow:From /usr/local/lib/python3.6/dist-packages/tensorflow/python/ops/resource_variable_ops.py:1817: calling BaseResourceVariable.__init__ (from tensorflow.python.ops.resource_variable_ops) with constraint is deprecated and will be removed in a future version.\n",
            "Instructions for updating:\n",
            "If using Keras pass *_constraint arguments to layers.\n",
            "INFO:tensorflow:Assets written to: /content/conv_model_without_batchnorm/assets\n",
            "INFO:tensorflow:Assets written to: /content/conv_model_with_batchnorm/assets\n",
            "INFO:tensorflow:Assets written to: /content/conv_model_with_upsampling/assets\n",
            "INFO:tensorflow:Assets written to: /content/conv_model_with_fc/assets\n"
          ],
          "name": "stdout"
        }
      ]
    },
    {
      "cell_type": "code",
      "metadata": {
        "id": "h99FxlEZAv5v",
        "colab_type": "code",
        "outputId": "a8a0d7aa-1b58-4801-cf86-75ac83deb563",
        "colab": {
          "base_uri": "https://localhost:8080/",
          "height": 472
        }
      },
      "source": [
        "!zip -r /content/conv_model_without_batchnorm.zip /content/conv_model_without_batchnorm\n",
        "!zip -r /content/conv_model_with_batchnorm.zip /content/conv_model_with_batchnorm\n",
        "!zip -r /content/conv_model_with_upsampling.zip /content/conv_model_with_upsampling\n",
        "!zip -r /content/conv_model_with_fc.zip /content/conv_model_with_fc"
      ],
      "execution_count": 0,
      "outputs": [
        {
          "output_type": "stream",
          "text": [
            "updating: content/conv_model_without_batchnorm/ (stored 0%)\n",
            "updating: content/conv_model_without_batchnorm/assets/ (stored 0%)\n",
            "updating: content/conv_model_without_batchnorm/saved_model.pb (deflated 90%)\n",
            "updating: content/conv_model_without_batchnorm/variables/ (stored 0%)\n",
            "updating: content/conv_model_without_batchnorm/variables/variables.index (deflated 70%)\n",
            "updating: content/conv_model_without_batchnorm/variables/variables.data-00001-of-00002 (deflated 19%)\n",
            "updating: content/conv_model_without_batchnorm/variables/variables.data-00000-of-00002 (deflated 82%)\n",
            "updating: content/conv_model_with_batchnorm/ (stored 0%)\n",
            "updating: content/conv_model_with_batchnorm/assets/ (stored 0%)\n",
            "updating: content/conv_model_with_batchnorm/saved_model.pb (deflated 91%)\n",
            "updating: content/conv_model_with_batchnorm/variables/ (stored 0%)\n",
            "updating: content/conv_model_with_batchnorm/variables/variables.index (deflated 75%)\n",
            "updating: content/conv_model_with_batchnorm/variables/variables.data-00001-of-00002 (deflated 8%)\n",
            "updating: content/conv_model_with_batchnorm/variables/variables.data-00000-of-00002 (deflated 83%)\n",
            "updating: content/conv_model_with_upsampling/ (stored 0%)\n",
            "updating: content/conv_model_with_upsampling/assets/ (stored 0%)\n",
            "updating: content/conv_model_with_upsampling/saved_model.pb (deflated 91%)\n",
            "updating: content/conv_model_with_upsampling/variables/ (stored 0%)\n",
            "updating: content/conv_model_with_upsampling/variables/variables.index (deflated 75%)\n",
            "updating: content/conv_model_with_upsampling/variables/variables.data-00001-of-00002 (deflated 8%)\n",
            "updating: content/conv_model_with_upsampling/variables/variables.data-00000-of-00002 (deflated 82%)\n",
            "updating: content/conv_model_with_fc/ (stored 0%)\n",
            "updating: content/conv_model_with_fc/assets/ (stored 0%)\n",
            "updating: content/conv_model_with_fc/saved_model.pb (deflated 91%)\n",
            "updating: content/conv_model_with_fc/variables/ (stored 0%)\n",
            "updating: content/conv_model_with_fc/variables/variables.index (deflated 74%)\n",
            "updating: content/conv_model_with_fc/variables/variables.data-00001-of-00002 (deflated 14%)\n",
            "updating: content/conv_model_with_fc/variables/variables.data-00000-of-00002 (deflated 83%)\n"
          ],
          "name": "stdout"
        }
      ]
    },
    {
      "cell_type": "code",
      "metadata": {
        "id": "o_bKN8gHB4LW",
        "colab_type": "code",
        "colab": {}
      },
      "source": [
        "from google.colab import files\n",
        "files.download(\"/content/file.zip\")"
      ],
      "execution_count": 0,
      "outputs": []
    },
    {
      "cell_type": "code",
      "metadata": {
        "id": "nB-5_RuN9HWy",
        "colab_type": "code",
        "colab": {}
      },
      "source": [
        ""
      ],
      "execution_count": 0,
      "outputs": []
    },
    {
      "cell_type": "markdown",
      "metadata": {
        "id": "ePmn3D369IjX",
        "colab_type": "text"
      },
      "source": [
        "# **Learnings of Autoencoder**\n",
        "\n",
        "1) **Visualize filters of the last decoder. Reshape it into a 28,28 image and visualize some of them.(Used simple MLP based autoencoder)**\n",
        "\n",
        "As the MLP model was not trained with batch norm, we see that network has mostly learnt to copy rather than learning really. Its giving weird pixel weights which are incoherent. However if we pick only argmax pixel(winner takes all) column wise then some patterns seem to emerge. Especially at decoder side we can see some thick straight line strokes signifying numbers such as 7, 1,  9. Similary we can see pattern signifying 8, 5. But it is pretty clear that this network is a bit weak learner, hence some sort of additional noise, batch nor or dropout should be provided.\n",
        "\n",
        "2) **Manipulate encoder output, Use manipulated encoder output as input for decoder. Check the results. (Used convolutional autoecoder with FC)**\n",
        "\n",
        "Since batch norm was used we see this network as a bit better learner than others. We tried two things. \n",
        "\n",
        "a) Blocking some encoding  present in particular value range and displaying imge iteratively for some steps. We can see some changes in stroke thickness of number 7, if some encoding whose values between 50-30 not present\n",
        "\n",
        "b) Blocking all encoding not present in particular value range and displaying iteratively. We see that again pixels between 30-40 is somewhat singlehandedly producing the thick straight stroke, eventhough it couldn't complete the number 7. hence encodings in range of values 30-40 seems important.\n",
        "\n",
        "\n",
        "**Credits:** \n",
        "adding gaussian noise - https://stackoverflow.com/questions/43382045/keras-realtime-augmentation-adding-noise-and-contrast\n",
        "\n",
        "Image augemntation library: https://github.com/aleju/imgaug/tree/master/imgaug\n",
        "\n",
        "\n",
        "\n"
      ]
    },
    {
      "cell_type": "code",
      "metadata": {
        "id": "wTmuth8k5NOs",
        "colab_type": "code",
        "colab": {}
      },
      "source": [
        "(train_images_raw, train_labels_raw), (test_images_raw, test_labels_raw) = mnist.load_data()\n",
        "\n",
        "train_data = tf.data.Dataset.from_tensor_slices(( train_images_raw.astype(np.float32)/255.0, train_images_raw.astype(np.float32)/255.0 ))\n",
        "\n",
        "train_data = train_data.shuffle(buffer_size = train_images_raw.shape[0]).batch(32)\n",
        "\n",
        "#test_data = tf.data.Dataset.from_tensor_slices(( test_images_raw.astype(np.float32)/255.0, test_labels_raw.astype(np.int32) ))\n",
        "test_data = tf.data.Dataset.from_tensor_slices(( test_images_raw.astype(np.float32)/255.0,  test_images_raw.astype(np.float32)/255.0 ))\n",
        "test_data = test_data.batch(32)"
      ],
      "execution_count": 0,
      "outputs": []
    },
    {
      "cell_type": "code",
      "metadata": {
        "id": "-Q5_oZq2B_2t",
        "colab_type": "code",
        "outputId": "488e27c5-b9d2-46ea-e7ad-ed678e415b92",
        "colab": {
          "base_uri": "https://localhost:8080/",
          "height": 514
        }
      },
      "source": [
        "!unzip /content/model_relu.zip -d /content/model_relu\n",
        "!unzip /content/conv_model_with_fc.zip -d /content/conv_model_with_fc"
      ],
      "execution_count": 0,
      "outputs": [
        {
          "output_type": "stream",
          "text": [
            "Archive:  /content/model_relu.zip\n",
            "   creating: /content/model_relu/variables/\n",
            "  inflating: /content/model_relu/variables/variables.data-00000-of-00001  \n",
            "   creating: /content/model_relu/__MACOSX/\n",
            "   creating: /content/model_relu/__MACOSX/variables/\n",
            "  inflating: /content/model_relu/__MACOSX/variables/._variables.data-00000-of-00001  \n",
            "  inflating: /content/model_relu/variables/variables.index  \n",
            "  inflating: /content/model_relu/__MACOSX/variables/._variables.index  \n",
            "  inflating: /content/model_relu/__MACOSX/._variables  \n",
            "  inflating: /content/model_relu/saved_model.pb  \n",
            "  inflating: /content/model_relu/__MACOSX/._saved_model.pb  \n",
            "   creating: /content/model_relu/assets/\n",
            "  inflating: /content/model_relu/__MACOSX/._assets  \n",
            "Archive:  /content/conv_model_with_fc.zip\n",
            "   creating: /content/conv_model_with_fc/variables/\n",
            "  inflating: /content/conv_model_with_fc/variables/variables.index  \n",
            "   creating: /content/conv_model_with_fc/__MACOSX/\n",
            "   creating: /content/conv_model_with_fc/__MACOSX/variables/\n",
            "  inflating: /content/conv_model_with_fc/__MACOSX/variables/._variables.index  \n",
            "  inflating: /content/conv_model_with_fc/variables/variables.data-00000-of-00002  \n",
            "  inflating: /content/conv_model_with_fc/__MACOSX/variables/._variables.data-00000-of-00002  \n",
            "  inflating: /content/conv_model_with_fc/variables/variables.data-00001-of-00002  \n",
            "  inflating: /content/conv_model_with_fc/__MACOSX/variables/._variables.data-00001-of-00002  \n",
            "  inflating: /content/conv_model_with_fc/__MACOSX/._variables  \n",
            "  inflating: /content/conv_model_with_fc/saved_model.pb  \n",
            "  inflating: /content/conv_model_with_fc/__MACOSX/._saved_model.pb  \n",
            "   creating: /content/conv_model_with_fc/assets/\n",
            "  inflating: /content/conv_model_with_fc/__MACOSX/._assets  \n"
          ],
          "name": "stdout"
        }
      ]
    },
    {
      "cell_type": "code",
      "metadata": {
        "id": "jfTiMUb4D_yd",
        "colab_type": "code",
        "colab": {}
      },
      "source": [
        "%rm -rf /content/model_relu\n",
        "%rm -rf /content/conv_model_with_fc"
      ],
      "execution_count": 0,
      "outputs": []
    },
    {
      "cell_type": "code",
      "metadata": {
        "id": "S4V_L8VC9jWZ",
        "colab_type": "code",
        "colab": {}
      },
      "source": [
        "mlp_model = tf.keras.models.load_model('/content/model_relu')\n",
        "conv_with_fc_model = tf.keras.models.load_model('/content/conv_model_with_fc')"
      ],
      "execution_count": 0,
      "outputs": []
    },
    {
      "cell_type": "code",
      "metadata": {
        "id": "rtRomUJ99je2",
        "colab_type": "code",
        "outputId": "2349960b-c383-4433-cb48-85e08a9b77c3",
        "colab": {
          "base_uri": "https://localhost:8080/",
          "height": 478
        }
      },
      "source": [
        "mlp_model.summary()"
      ],
      "execution_count": 0,
      "outputs": [
        {
          "output_type": "stream",
          "text": [
            "Model: \"sequential_16\"\n",
            "_________________________________________________________________\n",
            "Layer (type)                 Output Shape              Param #   \n",
            "=================================================================\n",
            "flatten_1 (Flatten)          (None, 784)               0         \n",
            "_________________________________________________________________\n",
            "dense_75 (Dense)             (None, 256)               200960    \n",
            "_________________________________________________________________\n",
            "dense_76 (Dense)             (None, 128)               32896     \n",
            "_________________________________________________________________\n",
            "dense_77 (Dense)             (None, 64)                8256      \n",
            "_________________________________________________________________\n",
            "dense_78 (Dense)             (None, 32)                2080      \n",
            "_________________________________________________________________\n",
            "dense_79 (Dense)             (None, 64)                2112      \n",
            "_________________________________________________________________\n",
            "dense_80 (Dense)             (None, 128)               8320      \n",
            "_________________________________________________________________\n",
            "dense_81 (Dense)             (None, 256)               33024     \n",
            "_________________________________________________________________\n",
            "dense_82 (Dense)             (None, 784)               201488    \n",
            "=================================================================\n",
            "Total params: 489,136\n",
            "Trainable params: 489,136\n",
            "Non-trainable params: 0\n",
            "_________________________________________________________________\n"
          ],
          "name": "stdout"
        }
      ]
    },
    {
      "cell_type": "code",
      "metadata": {
        "id": "Zy6JBbui9jc0",
        "colab_type": "code",
        "outputId": "100669e3-e670-4ea1-f6fe-c272cfe2b583",
        "colab": {
          "base_uri": "https://localhost:8080/",
          "height": 196
        }
      },
      "source": [
        "for layer in mlp_model.layers: \n",
        "  print(layer.get_config())\n",
        "\n",
        "weights = mlp_model.get_weights()"
      ],
      "execution_count": 0,
      "outputs": [
        {
          "output_type": "stream",
          "text": [
            "{'name': 'flatten_1', 'trainable': True, 'batch_input_shape': (None, 28, 28), 'dtype': 'float32', 'data_format': 'channels_last'}\n",
            "{'name': 'dense_75', 'trainable': True, 'dtype': 'float32', 'units': 256, 'activation': 'relu', 'use_bias': True, 'kernel_initializer': {'class_name': 'GlorotUniform', 'config': {'seed': None}}, 'bias_initializer': {'class_name': 'Zeros', 'config': {}}, 'kernel_regularizer': None, 'bias_regularizer': None, 'activity_regularizer': None, 'kernel_constraint': None, 'bias_constraint': None}\n",
            "{'name': 'dense_76', 'trainable': True, 'dtype': 'float32', 'units': 128, 'activation': 'relu', 'use_bias': True, 'kernel_initializer': {'class_name': 'GlorotUniform', 'config': {'seed': None}}, 'bias_initializer': {'class_name': 'Zeros', 'config': {}}, 'kernel_regularizer': None, 'bias_regularizer': None, 'activity_regularizer': None, 'kernel_constraint': None, 'bias_constraint': None}\n",
            "{'name': 'dense_77', 'trainable': True, 'dtype': 'float32', 'units': 64, 'activation': 'relu', 'use_bias': True, 'kernel_initializer': {'class_name': 'GlorotUniform', 'config': {'seed': None}}, 'bias_initializer': {'class_name': 'Zeros', 'config': {}}, 'kernel_regularizer': None, 'bias_regularizer': None, 'activity_regularizer': None, 'kernel_constraint': None, 'bias_constraint': None}\n",
            "{'name': 'dense_78', 'trainable': True, 'dtype': 'float32', 'units': 32, 'activation': 'relu', 'use_bias': True, 'kernel_initializer': {'class_name': 'GlorotUniform', 'config': {'seed': None}}, 'bias_initializer': {'class_name': 'Zeros', 'config': {}}, 'kernel_regularizer': None, 'bias_regularizer': None, 'activity_regularizer': None, 'kernel_constraint': None, 'bias_constraint': None}\n",
            "{'name': 'dense_79', 'trainable': True, 'dtype': 'float32', 'units': 64, 'activation': 'relu', 'use_bias': True, 'kernel_initializer': {'class_name': 'GlorotUniform', 'config': {'seed': None}}, 'bias_initializer': {'class_name': 'Zeros', 'config': {}}, 'kernel_regularizer': None, 'bias_regularizer': None, 'activity_regularizer': None, 'kernel_constraint': None, 'bias_constraint': None}\n",
            "{'name': 'dense_80', 'trainable': True, 'dtype': 'float32', 'units': 128, 'activation': 'relu', 'use_bias': True, 'kernel_initializer': {'class_name': 'GlorotUniform', 'config': {'seed': None}}, 'bias_initializer': {'class_name': 'Zeros', 'config': {}}, 'kernel_regularizer': None, 'bias_regularizer': None, 'activity_regularizer': None, 'kernel_constraint': None, 'bias_constraint': None}\n",
            "{'name': 'dense_81', 'trainable': True, 'dtype': 'float32', 'units': 256, 'activation': 'relu', 'use_bias': True, 'kernel_initializer': {'class_name': 'GlorotUniform', 'config': {'seed': None}}, 'bias_initializer': {'class_name': 'Zeros', 'config': {}}, 'kernel_regularizer': None, 'bias_regularizer': None, 'activity_regularizer': None, 'kernel_constraint': None, 'bias_constraint': None}\n",
            "{'name': 'dense_82', 'trainable': True, 'dtype': 'float32', 'units': 784, 'activation': 'sigmoid', 'use_bias': True, 'kernel_initializer': {'class_name': 'GlorotUniform', 'config': {'seed': None}}, 'bias_initializer': {'class_name': 'Zeros', 'config': {}}, 'kernel_regularizer': None, 'bias_regularizer': None, 'activity_regularizer': None, 'kernel_constraint': None, 'bias_constraint': None}\n"
          ],
          "name": "stdout"
        }
      ]
    },
    {
      "cell_type": "code",
      "metadata": {
        "id": "6XtVVmoYypoz",
        "colab_type": "code",
        "colab": {}
      },
      "source": [
        "print(first_layer_encoder_weights.shape)\n",
        "print(last_layer_decoder_weights.shape)"
      ],
      "execution_count": 0,
      "outputs": []
    },
    {
      "cell_type": "code",
      "metadata": {
        "id": "Xr-nIL1jIlYv",
        "colab_type": "code",
        "colab": {}
      },
      "source": [
        "encoder_img = np.reshape(first_layer_encoder_weights[:,0], newshape=(28, 28))\n",
        "decoder_img = np.reshape(last_layer_decoder_weights[0,:], newshape=(28, 28))"
      ],
      "execution_count": 0,
      "outputs": []
    },
    {
      "cell_type": "code",
      "metadata": {
        "id": "XbdtMhZyNKK8",
        "colab_type": "code",
        "colab": {}
      },
      "source": [
        "def maskMatrix(inp_tensor):\n",
        "  max_indices = tf.TensorArray(tf.dtypes.int64, 0, True)\n",
        "  #values, indices = tf.math.top_k(inp_tensor, k=2, sorted=True)\n",
        "  for x, i in enumerate(tf.math.argmax(inp_tensor, axis= 1).numpy()):\n",
        "    max_indices = max_indices.write(x, [x,i])\n",
        "  values = tf.ones(inp_tensor.shape[0], tf.dtypes.int64)\n",
        "  return tf.sparse.to_dense(tf.sparse.SparseTensor(max_indices.stack(), values, inp_tensor.shape))"
      ],
      "execution_count": 0,
      "outputs": []
    },
    {
      "cell_type": "code",
      "metadata": {
        "id": "ExNaK-2mMK_5",
        "colab_type": "code",
        "colab": {}
      },
      "source": [
        "encoder_img_tnsr = tf.convert_to_tensor(encoder_img, dtype=tf.dtypes.float32)\n",
        "#arg_max_encoder = tf.math.top_k(encoder_img_tnsr, k=2, sorted=True, name=None)\n",
        "arg_max_mask_encoder = maskMatrix(encoder_img_tnsr).numpy()"
      ],
      "execution_count": 0,
      "outputs": []
    },
    {
      "cell_type": "code",
      "metadata": {
        "id": "r6rIbZ3YPKzZ",
        "colab_type": "code",
        "outputId": "b39a0689-8703-41c5-b4b3-692bad7fae75",
        "colab": {
          "base_uri": "https://localhost:8080/",
          "height": 34
        }
      },
      "source": [
        "np.shape(arg_max_mask_encoder)"
      ],
      "execution_count": 0,
      "outputs": [
        {
          "output_type": "execute_result",
          "data": {
            "text/plain": [
              "(28, 28)"
            ]
          },
          "metadata": {
            "tags": []
          },
          "execution_count": 21
        }
      ]
    },
    {
      "cell_type": "code",
      "metadata": {
        "id": "QjUXNL-dPTi3",
        "colab_type": "code",
        "outputId": "afd7db09-3287-4254-bb3b-6f067b3ba335",
        "colab": {
          "base_uri": "https://localhost:8080/",
          "height": 282
        }
      },
      "source": [
        "plt.imshow(arg_max_mask_encoder, cmap=plt.cm.binary)"
      ],
      "execution_count": 0,
      "outputs": [
        {
          "output_type": "execute_result",
          "data": {
            "text/plain": [
              "<matplotlib.image.AxesImage at 0x7f761efe4668>"
            ]
          },
          "metadata": {
            "tags": []
          },
          "execution_count": 22
        },
        {
          "output_type": "display_data",
          "data": {
            "image/png": "[encoded data removed]",
            "text/plain": [
              "<Figure size 432x288 with 1 Axes>"
            ]
          },
          "metadata": {
            "tags": [],
            "needs_background": "light"
          }
        }
      ]
    },
    {
      "cell_type": "code",
      "metadata": {
        "id": "l8EUWP9uKvAH",
        "colab_type": "code",
        "colab": {}
      },
      "source": [
        "decoder_img"
      ],
      "execution_count": 0,
      "outputs": []
    },
    {
      "cell_type": "code",
      "metadata": {
        "id": "aSTZp2X5HWRW",
        "colab_type": "code",
        "outputId": "c4151289-7e8f-44fe-fd2b-7217db28885c",
        "colab": {
          "base_uri": "https://localhost:8080/",
          "height": 282
        }
      },
      "source": [
        "plt.imshow(np.reshape(first_layer_encoder_weights[:,2], newshape=(28, 28)), cmap=plt.cm.binary)"
      ],
      "execution_count": 0,
      "outputs": [
        {
          "output_type": "execute_result",
          "data": {
            "text/plain": [
              "<matplotlib.image.AxesImage at 0x7f761ef48978>"
            ]
          },
          "metadata": {
            "tags": []
          },
          "execution_count": 23
        },
        {
          "output_type": "display_data",
          "data": {
            "image/png": "[encoded data removed]",
            "text/plain": [
              "<Figure size 432x288 with 1 Axes>"
            ]
          },
          "metadata": {
            "tags": [],
            "needs_background": "light"
          }
        }
      ]
    },
    {
      "cell_type": "code",
      "metadata": {
        "id": "OOyLsuYjHWLk",
        "colab_type": "code",
        "outputId": "3f609bca-6b2d-4983-b1c8-d87239ab88f5",
        "colab": {
          "base_uri": "https://localhost:8080/",
          "height": 282
        }
      },
      "source": [
        "plt.imshow(np.reshape(last_layer_decoder_weights[2,:], newshape=(28, 28)), cmap=plt.cm.binary)"
      ],
      "execution_count": 0,
      "outputs": [
        {
          "output_type": "execute_result",
          "data": {
            "text/plain": [
              "<matplotlib.image.AxesImage at 0x7f56346b9dd8>"
            ]
          },
          "metadata": {
            "tags": []
          },
          "execution_count": 44
        },
        {
          "output_type": "display_data",
          "data": {
            "image/png": "[encoded data removed]",
            "text/plain": [
              "<Figure size 432x288 with 1 Axes>"
            ]
          },
          "metadata": {
            "tags": [],
            "needs_background": "light"
          }
        }
      ]
    },
    {
      "cell_type": "markdown",
      "metadata": {
        "id": "4Hwha3EitfuK",
        "colab_type": "text"
      },
      "source": [
        "**Looks like the encoders are not learning anything, too much clutter and crappy output, cannot see any pattern. We see the same pattern in decoder too down below. Maybe we need to mask and get the top pixel in every row/column and visualize**"
      ]
    },
    {
      "cell_type": "code",
      "metadata": {
        "id": "DztcdpN3qDw2",
        "colab_type": "code",
        "outputId": "a5bfa739-c7d9-4f74-9260-50a8fff57b98",
        "colab": {
          "base_uri": "https://localhost:8080/",
          "height": 686
        }
      },
      "source": [
        "def output_model_encoders(weights, encoder_layer_num=0, filter_shape = (28, 28), images_to_be_compared=5):\n",
        "  #Get the encoder output for each layer\n",
        "  \n",
        "  plt.figure(figsize=(12,12))\n",
        "\n",
        "  for i in range(25):\n",
        "      plt.subplot(5,5,i+1)\n",
        "      plt.xticks([])\n",
        "      plt.yticks([])\n",
        "      plt.grid(False)\n",
        "      filter_image = np.reshape(weights[encoder_layer_num][:,i], newshape=filter_shape)\n",
        "      plt.imshow(filter_image, cmap=plt.cm.binary)      \n",
        "      #plt.xlabel(class_names[test_images[i]])\n",
        "  plt.show()\n",
        "\n",
        "output_model_encoders(weights) \n"
      ],
      "execution_count": 0,
      "outputs": [
        {
          "output_type": "display_data",
          "data": {
            "image/png": "[encoded data removed]",
            "text/plain": [
              "<Figure size 864x864 with 25 Axes>"
            ]
          },
          "metadata": {
            "tags": []
          }
        }
      ]
    },
    {
      "cell_type": "code",
      "metadata": {
        "id": "w4cEW0hctxfM",
        "colab_type": "code",
        "outputId": "df16b0d3-9f19-4fca-8615-3f6114c9fa77",
        "colab": {
          "base_uri": "https://localhost:8080/",
          "height": 686
        }
      },
      "source": [
        "def output_model_decoders(weights, decoder_layer_num=14, filter_shape = (28, 28), images_to_be_compared=5):\n",
        "  #Get the decoder output for each layer\n",
        "  \n",
        "  plt.figure(figsize=(12,12))\n",
        "\n",
        "  for i in range(25):\n",
        "      plt.subplot(5,5,i+1)\n",
        "      plt.xticks([])\n",
        "      plt.yticks([])\n",
        "      plt.grid(False)\n",
        "      filter_image = np.reshape(weights[decoder_layer_num][i,:], newshape=filter_shape)\n",
        "      plt.imshow(filter_image, cmap=plt.cm.binary)      \n",
        "      #plt.xlabel(class_names[test_images[i]])\n",
        "  plt.show()\n",
        "\n",
        "output_model_decoders(weights) "
      ],
      "execution_count": 0,
      "outputs": [
        {
          "output_type": "display_data",
          "data": {
            "image/png": "[encoded data removed]",
            "text/plain": [
              "<Figure size 864x864 with 25 Axes>"
            ]
          },
          "metadata": {
            "tags": []
          }
        }
      ]
    },
    {
      "cell_type": "markdown",
      "metadata": {
        "id": "MdxO-jiSwIWj",
        "colab_type": "text"
      },
      "source": [
        "**Get the best brightest pixel at every column, instead of a single pixel for entire matrix(winner takes all at column level).** \n",
        "\n",
        "**Encoder side**: Some pattern seems to emerge, especially ther 6th image looks a lot like number 8. But it seems like this is also not completely clear. Our encoder might have learnt nothing useful(You are free to imagine whatever shape you can think of from the filters!)\n",
        "\n",
        "**Decoder side**: It seems there are some patterns in decoder , especially the last two images which seems like firing for numbers 3 and 8. Also the 8th image represents a straight line seen for numbers 1 and 7. This straight line pattern wasn't found for examined images in encoder side"
      ]
    },
    {
      "cell_type": "code",
      "metadata": {
        "id": "clkqnc-Suher",
        "colab_type": "code",
        "colab": {}
      },
      "source": [
        "def maskMatrix(inp_tensor):\n",
        "  max_indices = tf.TensorArray(tf.dtypes.int64, 0, True)\n",
        "  #values, indices = tf.math.top_k(inp_tensor, k=2, sorted=True)\n",
        "  for x, i in enumerate(tf.math.argmax(inp_tensor, axis= 1).numpy()):\n",
        "    max_indices = max_indices.write(x, [x,i])\n",
        "  values = tf.ones(inp_tensor.shape[0], tf.dtypes.int64)\n",
        "  return tf.sparse.to_dense(tf.sparse.SparseTensor(max_indices.stack(), values, inp_tensor.shape))"
      ],
      "execution_count": 0,
      "outputs": []
    },
    {
      "cell_type": "code",
      "metadata": {
        "id": "3Tkd78u4uhxg",
        "colab_type": "code",
        "outputId": "3e48d2e1-e934-4430-83a8-7c943989eb5c",
        "colab": {
          "base_uri": "https://localhost:8080/",
          "height": 686
        }
      },
      "source": [
        "def output_model_encoders_with_argmax(weights, encoder_layer_num=0, filter_shape = (28, 28), images_to_be_compared=5):\n",
        "  #Get the encoder output for each layer\n",
        "  \n",
        "  plt.figure(figsize=(12,12))\n",
        "\n",
        "  for i in range(36):\n",
        "      plt.subplot(6,6,i+1)\n",
        "      plt.xticks([])\n",
        "      plt.yticks([])\n",
        "      plt.grid(False)\n",
        "      \n",
        "      numpy_filter_image = np.reshape(weights[encoder_layer_num][:,i], newshape=filter_shape)\n",
        "\n",
        "      #Convert numpy to tensor for the argmax function, convert it back to numpy after recieving output from function\n",
        "      encoder_img_tnsr = tf.convert_to_tensor(numpy_filter_image, dtype=tf.dtypes.float32)\n",
        "      arg_max_mask_encoder = maskMatrix(encoder_img_tnsr).numpy()\n",
        "      plt.imshow(arg_max_mask_encoder, cmap=plt.cm.binary)     \n",
        "\n",
        "\n",
        "      #plt.xlabel(class_names[test_images[i]])\n",
        "  plt.show()\n",
        "\n",
        "output_model_encoders_with_argmax(weights) "
      ],
      "execution_count": 0,
      "outputs": [
        {
          "output_type": "display_data",
          "data": {
            "image/png": "[encoded data removed]",
            "text/plain": [
              "<Figure size 864x864 with 36 Axes>"
            ]
          },
          "metadata": {
            "tags": []
          }
        }
      ]
    },
    {
      "cell_type": "code",
      "metadata": {
        "id": "6wkBilsquhup",
        "colab_type": "code",
        "outputId": "4fc510bc-122e-470a-9d40-3a04a4e582a2",
        "colab": {
          "base_uri": "https://localhost:8080/",
          "height": 686
        }
      },
      "source": [
        "def output_model_decoders_with_argmax(weights, decoder_layer_num=14, filter_shape = (28, 28), images_to_be_compared=5):\n",
        "  #Get the decoder output for each layer\n",
        "  \n",
        "  plt.figure(figsize=(12,12))\n",
        "\n",
        "  for i in range(36):\n",
        "      plt.subplot(6,6,i+1)\n",
        "      plt.xticks([])\n",
        "      plt.yticks([])\n",
        "      plt.grid(False)\n",
        "      \n",
        "      numpy_filter_image = np.reshape(weights[decoder_layer_num][i,:], newshape=filter_shape)\n",
        "\n",
        "      #Convert numpy to tensor for the argmax function, convert it back to numpy after recieving output from function\n",
        "      decoder_img_tnsr = tf.convert_to_tensor(numpy_filter_image, dtype=tf.dtypes.float32)\n",
        "      arg_max_mask_decoder = maskMatrix(decoder_img_tnsr).numpy()\n",
        "      plt.imshow(arg_max_mask_decoder, cmap=plt.cm.binary)     \n",
        "\n",
        "\n",
        "      #plt.xlabel(class_names[test_images[i]])\n",
        "  plt.show()\n",
        "\n",
        "output_model_decoders_with_argmax(weights) "
      ],
      "execution_count": 0,
      "outputs": [
        {
          "output_type": "display_data",
          "data": {
            "image/png": "[encoded data removed]",
            "text/plain": [
              "<Figure size 864x864 with 36 Axes>"
            ]
          },
          "metadata": {
            "tags": []
          }
        }
      ]
    },
    {
      "cell_type": "markdown",
      "metadata": {
        "id": "s2OHWWhVzg_7",
        "colab_type": "text"
      },
      "source": [
        "**Moving on to convolutional encoders**\n",
        "\n",
        "We pick the conv model with FC layer in between, this removes any confusion regardig which dimension should we change as FC has only one dimension for all the records in the batch(1, 64). We cannot split the last part of decoder model, so create a new model and transfer the weights of the decoder part only.\n",
        "Next time we can follow the coding guidelines mentioned in https://stackoverflow.com/questions/48603328/how-do-i-split-an-convolutional-autoencoder/48612403#48612403 to build a splittable model from scratch\n",
        "\n",
        "\n",
        "**Steps:**\n",
        "\n",
        "1) Split the Input-Encoder-Decoder-Output model to Input-Encoder and Decoder-Output model.\n",
        "\n",
        "2) Get the output of encoder for test images and pick a single image of dimension (1,64) from 10000 encodings.\n",
        "\n",
        "3) Change some values of the activations\n",
        "\n",
        "4) Pipe this as input  for decoder-Output network model\n",
        "\n",
        "5) Analyze the output.\n",
        "\n",
        "Steps 3,4,5 can be doe in a loop or a separate function"
      ]
    },
    {
      "cell_type": "code",
      "metadata": {
        "id": "21TMJgipuhrv",
        "colab_type": "code",
        "outputId": "0981ffd8-9072-4712-ee4f-f425e5fa0622",
        "colab": {
          "base_uri": "https://localhost:8080/",
          "height": 427
        }
      },
      "source": [
        "for layer in conv_with_fc_model.layers: \n",
        "  print(layer.get_config())\n",
        "\n",
        "conv_with_fc_weights = conv_with_fc_model.get_weights()\n",
        "len(conv_with_fc_weights)"
      ],
      "execution_count": 0,
      "outputs": [
        {
          "output_type": "stream",
          "text": [
            "{'name': 'conv_enc_0', 'trainable': True, 'batch_input_shape': (None, 28, 28, 1), 'dtype': 'float32', 'filters': 32, 'kernel_size': (3, 3), 'strides': (1, 1), 'padding': 'same', 'data_format': 'channels_last', 'dilation_rate': (1, 1), 'activation': 'relu', 'use_bias': True, 'kernel_initializer': {'class_name': 'GlorotUniform', 'config': {'seed': None}}, 'bias_initializer': {'class_name': 'Zeros', 'config': {}}, 'kernel_regularizer': None, 'bias_regularizer': None, 'activity_regularizer': None, 'kernel_constraint': None, 'bias_constraint': None}\n",
            "{'name': 'batch_normalization_45', 'trainable': True, 'dtype': 'float32', 'axis': ListWrapper([3]), 'momentum': 0.99, 'epsilon': 0.001, 'center': True, 'scale': True, 'beta_initializer': {'class_name': 'Zeros', 'config': {}}, 'gamma_initializer': {'class_name': 'Ones', 'config': {}}, 'moving_mean_initializer': {'class_name': 'Zeros', 'config': {}}, 'moving_variance_initializer': {'class_name': 'Ones', 'config': {}}, 'beta_regularizer': None, 'gamma_regularizer': None, 'beta_constraint': None, 'gamma_constraint': None}\n",
            "{'name': 'max_pooling2d_45', 'trainable': True, 'dtype': 'float32', 'pool_size': (2, 2), 'padding': 'valid', 'strides': (2, 2), 'data_format': 'channels_last'}\n",
            "{'name': 'conv_enc_1', 'trainable': True, 'dtype': 'float32', 'filters': 64, 'kernel_size': (3, 3), 'strides': (1, 1), 'padding': 'same', 'data_format': 'channels_last', 'dilation_rate': (1, 1), 'activation': 'relu', 'use_bias': True, 'kernel_initializer': {'class_name': 'GlorotUniform', 'config': {'seed': None}}, 'bias_initializer': {'class_name': 'Zeros', 'config': {}}, 'kernel_regularizer': None, 'bias_regularizer': None, 'activity_regularizer': None, 'kernel_constraint': None, 'bias_constraint': None}\n",
            "{'name': 'batch_normalization_46', 'trainable': True, 'dtype': 'float32', 'axis': ListWrapper([3]), 'momentum': 0.99, 'epsilon': 0.001, 'center': True, 'scale': True, 'beta_initializer': {'class_name': 'Zeros', 'config': {}}, 'gamma_initializer': {'class_name': 'Ones', 'config': {}}, 'moving_mean_initializer': {'class_name': 'Zeros', 'config': {}}, 'moving_variance_initializer': {'class_name': 'Ones', 'config': {}}, 'beta_regularizer': None, 'gamma_regularizer': None, 'beta_constraint': None, 'gamma_constraint': None}\n",
            "{'name': 'max_pooling2d_46', 'trainable': True, 'dtype': 'float32', 'pool_size': (2, 2), 'padding': 'valid', 'strides': (2, 2), 'data_format': 'channels_last'}\n",
            "{'name': 'conv_enc_2', 'trainable': True, 'dtype': 'float32', 'filters': 128, 'kernel_size': (3, 3), 'strides': (1, 1), 'padding': 'same', 'data_format': 'channels_last', 'dilation_rate': (1, 1), 'activation': 'relu', 'use_bias': True, 'kernel_initializer': {'class_name': 'GlorotUniform', 'config': {'seed': None}}, 'bias_initializer': {'class_name': 'Zeros', 'config': {}}, 'kernel_regularizer': None, 'bias_regularizer': None, 'activity_regularizer': None, 'kernel_constraint': None, 'bias_constraint': None}\n",
            "{'name': 'batch_normalization_47', 'trainable': True, 'dtype': 'float32', 'axis': ListWrapper([3]), 'momentum': 0.99, 'epsilon': 0.001, 'center': True, 'scale': True, 'beta_initializer': {'class_name': 'Zeros', 'config': {}}, 'gamma_initializer': {'class_name': 'Ones', 'config': {}}, 'moving_mean_initializer': {'class_name': 'Zeros', 'config': {}}, 'moving_variance_initializer': {'class_name': 'Ones', 'config': {}}, 'beta_regularizer': None, 'gamma_regularizer': None, 'beta_constraint': None, 'gamma_constraint': None}\n",
            "{'name': 'max_pooling2d_47', 'trainable': True, 'dtype': 'float32', 'pool_size': (2, 2), 'padding': 'valid', 'strides': (2, 2), 'data_format': 'channels_last'}\n",
            "{'name': 'conv_compress_dims', 'trainable': True, 'dtype': 'float32', 'filters': 64, 'kernel_size': (1, 1), 'strides': (1, 1), 'padding': 'same', 'data_format': 'channels_last', 'dilation_rate': (1, 1), 'activation': 'relu', 'use_bias': True, 'kernel_initializer': {'class_name': 'GlorotUniform', 'config': {'seed': None}}, 'bias_initializer': {'class_name': 'Zeros', 'config': {}}, 'kernel_regularizer': None, 'bias_regularizer': None, 'activity_regularizer': None, 'kernel_constraint': None, 'bias_constraint': None}\n",
            "{'name': 'flatten_5', 'trainable': True, 'dtype': 'float32', 'data_format': 'channels_last'}\n",
            "{'name': 'dense_13', 'trainable': True, 'dtype': 'float32', 'units': 256, 'activation': 'relu', 'use_bias': True, 'kernel_initializer': {'class_name': 'GlorotUniform', 'config': {'seed': None}}, 'bias_initializer': {'class_name': 'Zeros', 'config': {}}, 'kernel_regularizer': None, 'bias_regularizer': None, 'activity_regularizer': None, 'kernel_constraint': None, 'bias_constraint': None}\n",
            "{'name': 'dense_14', 'trainable': True, 'dtype': 'float32', 'units': 64, 'activation': 'leaky_relu', 'use_bias': True, 'kernel_initializer': {'class_name': 'GlorotUniform', 'config': {'seed': None}}, 'bias_initializer': {'class_name': 'Zeros', 'config': {}}, 'kernel_regularizer': None, 'bias_regularizer': None, 'activity_regularizer': None, 'kernel_constraint': None, 'bias_constraint': None}\n",
            "{'name': 'dense_15', 'trainable': True, 'dtype': 'float32', 'units': 252, 'activation': 'relu', 'use_bias': True, 'kernel_initializer': {'class_name': 'GlorotUniform', 'config': {'seed': None}}, 'bias_initializer': {'class_name': 'Zeros', 'config': {}}, 'kernel_regularizer': None, 'bias_regularizer': None, 'activity_regularizer': None, 'kernel_constraint': None, 'bias_constraint': None}\n",
            "{'name': 'reshape_1', 'trainable': True, 'batch_input_shape': (None, 252), 'dtype': 'float32', 'target_shape': (3, 3, 28)}\n",
            "{'name': 'batch_normalization_48', 'trainable': True, 'dtype': 'float32', 'axis': ListWrapper([3]), 'momentum': 0.99, 'epsilon': 0.001, 'center': True, 'scale': True, 'beta_initializer': {'class_name': 'Zeros', 'config': {}}, 'gamma_initializer': {'class_name': 'Ones', 'config': {}}, 'moving_mean_initializer': {'class_name': 'Zeros', 'config': {}}, 'moving_variance_initializer': {'class_name': 'Ones', 'config': {}}, 'beta_regularizer': None, 'gamma_regularizer': None, 'beta_constraint': None, 'gamma_constraint': None}\n",
            "{'name': 'conv_dec_0', 'trainable': True, 'dtype': 'float32', 'filters': 32, 'kernel_size': (3, 3), 'strides': (2, 2), 'padding': 'valid', 'data_format': 'channels_last', 'dilation_rate': (1, 1), 'activation': 'relu', 'use_bias': True, 'kernel_initializer': {'class_name': 'GlorotUniform', 'config': {'seed': None}}, 'bias_initializer': {'class_name': 'Zeros', 'config': {}}, 'kernel_regularizer': None, 'bias_regularizer': None, 'activity_regularizer': None, 'kernel_constraint': None, 'bias_constraint': None, 'output_padding': None}\n",
            "{'name': 'batch_normalization_49', 'trainable': True, 'dtype': 'float32', 'axis': ListWrapper([3]), 'momentum': 0.99, 'epsilon': 0.001, 'center': True, 'scale': True, 'beta_initializer': {'class_name': 'Zeros', 'config': {}}, 'gamma_initializer': {'class_name': 'Ones', 'config': {}}, 'moving_mean_initializer': {'class_name': 'Zeros', 'config': {}}, 'moving_variance_initializer': {'class_name': 'Ones', 'config': {}}, 'beta_regularizer': None, 'gamma_regularizer': None, 'beta_constraint': None, 'gamma_constraint': None}\n",
            "{'name': 'conv_dec_1', 'trainable': True, 'dtype': 'float32', 'filters': 16, 'kernel_size': (3, 3), 'strides': (2, 2), 'padding': 'same', 'data_format': 'channels_last', 'dilation_rate': (1, 1), 'activation': 'relu', 'use_bias': True, 'kernel_initializer': {'class_name': 'GlorotUniform', 'config': {'seed': None}}, 'bias_initializer': {'class_name': 'Zeros', 'config': {}}, 'kernel_regularizer': None, 'bias_regularizer': None, 'activity_regularizer': None, 'kernel_constraint': None, 'bias_constraint': None, 'output_padding': None}\n",
            "{'name': 'batch_normalization_50', 'trainable': True, 'dtype': 'float32', 'axis': ListWrapper([3]), 'momentum': 0.99, 'epsilon': 0.001, 'center': True, 'scale': True, 'beta_initializer': {'class_name': 'Zeros', 'config': {}}, 'gamma_initializer': {'class_name': 'Ones', 'config': {}}, 'moving_mean_initializer': {'class_name': 'Zeros', 'config': {}}, 'moving_variance_initializer': {'class_name': 'Ones', 'config': {}}, 'beta_regularizer': None, 'gamma_regularizer': None, 'beta_constraint': None, 'gamma_constraint': None}\n",
            "{'name': 'conv_dec_2', 'trainable': True, 'dtype': 'float32', 'filters': 1, 'kernel_size': (3, 3), 'strides': (2, 2), 'padding': 'same', 'data_format': 'channels_last', 'dilation_rate': (1, 1), 'activation': 'sigmoid', 'use_bias': True, 'kernel_initializer': {'class_name': 'GlorotUniform', 'config': {'seed': None}}, 'bias_initializer': {'class_name': 'Zeros', 'config': {}}, 'kernel_regularizer': None, 'bias_regularizer': None, 'activity_regularizer': None, 'kernel_constraint': None, 'bias_constraint': None, 'output_padding': None}\n"
          ],
          "name": "stdout"
        },
        {
          "output_type": "execute_result",
          "data": {
            "text/plain": [
              "44"
            ]
          },
          "metadata": {
            "tags": []
          },
          "execution_count": 50
        }
      ]
    },
    {
      "cell_type": "code",
      "metadata": {
        "id": "5pC4AdqBuho3",
        "colab_type": "code",
        "colab": {}
      },
      "source": [
        "def evaluate_and_output_model(model, test_images, images_to_be_compared=5):\n",
        "  class_names = ['0', '1', '2', '3', '4','5', '6', '7', '8', '9']\n",
        "  print(test_images.shape)\n",
        "  #test_loss, test_acc = model.evaluate(test_images,  test_labels, verbose=2)\n",
        "  print(test_images.shape)\n",
        "  #print('\\n  Relu Test accuracy:', str(test_acc) + \" test loss: \" + str(test_loss) + \"\\n\")\n",
        "  model_output_images = model.predict(test_images)\n",
        "  print(model_output_images.shape)\n",
        "  plt.figure(figsize=(10,10))\n",
        "  j = -1\n",
        "  for i in range(25):\n",
        "      plt.subplot(5,5,i+1)\n",
        "      plt.xticks([])\n",
        "      plt.yticks([])\n",
        "      plt.grid(False)\n",
        "      j = j+1\n",
        "      if(i%2 == 0):\n",
        "        plt.imshow(test_images[i+10][:,:,0], cmap=plt.cm.binary)\n",
        "      elif(j%2 == 1):\n",
        "        \n",
        "        plt.imshow(model_output_images[j-1+10][:,:,0], cmap=plt.cm.binary)\n",
        "      \n",
        "      #plt.xlabel(class_names[test_images[i]])\n",
        "  plt.show()"
      ],
      "execution_count": 0,
      "outputs": []
    },
    {
      "cell_type": "code",
      "metadata": {
        "id": "jIYDojGvuhm5",
        "colab_type": "code",
        "colab": {}
      },
      "source": [
        "conv_with_fc_model_output_images = conv_with_fc_model.predict(tf.expand_dims(test_images_raw.astype(np.float32)/255.0, -1))"
      ],
      "execution_count": 0,
      "outputs": []
    },
    {
      "cell_type": "code",
      "metadata": {
        "id": "3pSJEKz68oPu",
        "colab_type": "code",
        "outputId": "b288af20-c09b-4760-f12d-5988b1796ca0",
        "colab": {
          "base_uri": "https://localhost:8080/",
          "height": 905
        }
      },
      "source": [
        "conv_with_fc_model.summary()"
      ],
      "execution_count": 0,
      "outputs": [
        {
          "output_type": "stream",
          "text": [
            "Model: \"sequential_18\"\n",
            "_________________________________________________________________\n",
            "Layer (type)                 Output Shape              Param #   \n",
            "=================================================================\n",
            "conv_enc_0 (Conv2D)          (None, 28, 28, 32)        320       \n",
            "_________________________________________________________________\n",
            "batch_normalization_45 (Batc (None, 28, 28, 32)        128       \n",
            "_________________________________________________________________\n",
            "max_pooling2d_45 (MaxPooling (None, 14, 14, 32)        0         \n",
            "_________________________________________________________________\n",
            "conv_enc_1 (Conv2D)          (None, 14, 14, 64)        18496     \n",
            "_________________________________________________________________\n",
            "batch_normalization_46 (Batc (None, 14, 14, 64)        256       \n",
            "_________________________________________________________________\n",
            "max_pooling2d_46 (MaxPooling (None, 7, 7, 64)          0         \n",
            "_________________________________________________________________\n",
            "conv_enc_2 (Conv2D)          (None, 7, 7, 128)         73856     \n",
            "_________________________________________________________________\n",
            "batch_normalization_47 (Batc (None, 7, 7, 128)         512       \n",
            "_________________________________________________________________\n",
            "max_pooling2d_47 (MaxPooling (None, 3, 3, 128)         0         \n",
            "_________________________________________________________________\n",
            "conv_compress_dims (Conv2D)  (None, 3, 3, 64)          8256      \n",
            "_________________________________________________________________\n",
            "flatten_5 (Flatten)          (None, 576)               0         \n",
            "_________________________________________________________________\n",
            "dense_13 (Dense)             (None, 256)               147712    \n",
            "_________________________________________________________________\n",
            "dense_14 (Dense)             (None, 64)                16448     \n",
            "_________________________________________________________________\n",
            "dense_15 (Dense)             (None, 252)               16380     \n",
            "_________________________________________________________________\n",
            "reshape_1 (Reshape)          (None, 3, 3, 28)          0         \n",
            "_________________________________________________________________\n",
            "batch_normalization_48 (Batc (None, 3, 3, 28)          112       \n",
            "_________________________________________________________________\n",
            "conv_dec_0 (Conv2DTranspose) (None, 7, 7, 32)          8096      \n",
            "_________________________________________________________________\n",
            "batch_normalization_49 (Batc (None, 7, 7, 32)          128       \n",
            "_________________________________________________________________\n",
            "conv_dec_1 (Conv2DTranspose) (None, 14, 14, 16)        4624      \n",
            "_________________________________________________________________\n",
            "batch_normalization_50 (Batc (None, 14, 14, 16)        64        \n",
            "_________________________________________________________________\n",
            "conv_dec_2 (Conv2DTranspose) (None, 28, 28, 1)         145       \n",
            "=================================================================\n",
            "Total params: 295,533\n",
            "Trainable params: 294,933\n",
            "Non-trainable params: 600\n",
            "_________________________________________________________________\n"
          ],
          "name": "stdout"
        }
      ]
    },
    {
      "cell_type": "code",
      "metadata": {
        "id": "tssy8QSkuhjd",
        "colab_type": "code",
        "colab": {}
      },
      "source": [
        "layer_name = 'dense_14'\n",
        "encoder_model = keras.Model(inputs=conv_with_fc_model.input, outputs=conv_with_fc_model.get_layer(layer_name).output)\n",
        "intermediate_encoder_output = encoder_model(tf.expand_dims(test_images_raw.astype(np.float32)/255.0, -1))"
      ],
      "execution_count": 0,
      "outputs": []
    },
    {
      "cell_type": "code",
      "metadata": {
        "id": "1VMQ2T5-9JBT",
        "colab_type": "code",
        "outputId": "bf3d245b-3900-4968-f76b-814291ed28cd",
        "colab": {
          "base_uri": "https://localhost:8080/",
          "height": 34
        }
      },
      "source": [
        "intermediate_encoder_output.shape"
      ],
      "execution_count": 0,
      "outputs": [
        {
          "output_type": "execute_result",
          "data": {
            "text/plain": [
              "TensorShape([10000, 64])"
            ]
          },
          "metadata": {
            "tags": []
          },
          "execution_count": 37
        }
      ]
    },
    {
      "cell_type": "code",
      "metadata": {
        "id": "BcFwuetfD8ZX",
        "colab_type": "code",
        "outputId": "a944316f-193f-4451-db87-4c48b5d59d56",
        "colab": {
          "base_uri": "https://localhost:8080/",
          "height": 443
        }
      },
      "source": [
        "#  decoder_layer_dims=[32, 16, 1]\n",
        "#decoder_model.add(layers.Dense(64,input_shape = (None,64)))\n",
        "#model = keras.Sequential([keras.layers.Flatten(input_shape=input_shape)])\n",
        "\n",
        "decoder_model = models.Sequential()\n",
        "decoder_model.add(tf.keras.layers.InputLayer(input_shape=(64,)))\n",
        "decoder_model.add(layers.Dense(252,activation=tf.nn.relu))\n",
        "decoder_model.add(layers.Reshape((3, 3, 28), input_shape=(252,)))\n",
        "decoder_model.add(layers.BatchNormalization()) \n",
        "decoder_model.add(layers.Conv2DTranspose(filters = 32, kernel_size=(3, 3),  strides=(2,2), padding = \"valid\", activation=tf.nn.relu))\n",
        "decoder_model.add(layers.BatchNormalization()) \n",
        "decoder_model.add(layers.Conv2DTranspose(filters = 16, kernel_size=(3, 3),  strides=(2,2), padding = \"same\",  activation=tf.nn.relu))\n",
        "decoder_model.add(layers.BatchNormalization())  \n",
        "decoder_model.add(layers.Conv2DTranspose(filters = 1, kernel_size=(3, 3), strides=(2,2), padding = \"same\",  activation=tf.nn.sigmoid))\n",
        "\n",
        "decoder_model.summary()"
      ],
      "execution_count": 0,
      "outputs": [
        {
          "output_type": "stream",
          "text": [
            "Model: \"sequential_5\"\n",
            "_________________________________________________________________\n",
            "Layer (type)                 Output Shape              Param #   \n",
            "=================================================================\n",
            "dense_7 (Dense)              (None, 252)               16380     \n",
            "_________________________________________________________________\n",
            "reshape_3 (Reshape)          (None, 3, 3, 28)          0         \n",
            "_________________________________________________________________\n",
            "batch_normalization_9 (Batch (None, 3, 3, 28)          112       \n",
            "_________________________________________________________________\n",
            "conv2d_transpose_9 (Conv2DTr (None, 7, 7, 32)          8096      \n",
            "_________________________________________________________________\n",
            "batch_normalization_10 (Batc (None, 7, 7, 32)          128       \n",
            "_________________________________________________________________\n",
            "conv2d_transpose_10 (Conv2DT (None, 14, 14, 16)        4624      \n",
            "_________________________________________________________________\n",
            "batch_normalization_11 (Batc (None, 14, 14, 16)        64        \n",
            "_________________________________________________________________\n",
            "conv2d_transpose_11 (Conv2DT (None, 28, 28, 1)         145       \n",
            "=================================================================\n",
            "Total params: 29,549\n",
            "Trainable params: 29,397\n",
            "Non-trainable params: 152\n",
            "_________________________________________________________________\n"
          ],
          "name": "stdout"
        }
      ]
    },
    {
      "cell_type": "code",
      "metadata": {
        "id": "FM5EItpTKJoV",
        "colab_type": "code",
        "outputId": "422c90e7-df3e-46d1-cfff-459f2f26d522",
        "colab": {
          "base_uri": "https://localhost:8080/",
          "height": 798
        }
      },
      "source": [
        "#tf.shape(conv_with_fc_weights[33])\n",
        "for i in range(len(conv_with_fc_weights)):\n",
        "  print(\"index: \" + str(i) + \" | \" + str(tf.shape(conv_with_fc_weights[i])))"
      ],
      "execution_count": 0,
      "outputs": [
        {
          "output_type": "stream",
          "text": [
            "index: 0 | tf.Tensor([ 3  3  1 32], shape=(4,), dtype=int32)\n",
            "index: 1 | tf.Tensor([32], shape=(1,), dtype=int32)\n",
            "index: 2 | tf.Tensor([32], shape=(1,), dtype=int32)\n",
            "index: 3 | tf.Tensor([32], shape=(1,), dtype=int32)\n",
            "index: 4 | tf.Tensor([32], shape=(1,), dtype=int32)\n",
            "index: 5 | tf.Tensor([32], shape=(1,), dtype=int32)\n",
            "index: 6 | tf.Tensor([ 3  3 32 64], shape=(4,), dtype=int32)\n",
            "index: 7 | tf.Tensor([64], shape=(1,), dtype=int32)\n",
            "index: 8 | tf.Tensor([64], shape=(1,), dtype=int32)\n",
            "index: 9 | tf.Tensor([64], shape=(1,), dtype=int32)\n",
            "index: 10 | tf.Tensor([64], shape=(1,), dtype=int32)\n",
            "index: 11 | tf.Tensor([64], shape=(1,), dtype=int32)\n",
            "index: 12 | tf.Tensor([  3   3  64 128], shape=(4,), dtype=int32)\n",
            "index: 13 | tf.Tensor([128], shape=(1,), dtype=int32)\n",
            "index: 14 | tf.Tensor([128], shape=(1,), dtype=int32)\n",
            "index: 15 | tf.Tensor([128], shape=(1,), dtype=int32)\n",
            "index: 16 | tf.Tensor([128], shape=(1,), dtype=int32)\n",
            "index: 17 | tf.Tensor([128], shape=(1,), dtype=int32)\n",
            "index: 18 | tf.Tensor([  1   1 128  64], shape=(4,), dtype=int32)\n",
            "index: 19 | tf.Tensor([64], shape=(1,), dtype=int32)\n",
            "index: 20 | tf.Tensor([576 256], shape=(2,), dtype=int32)\n",
            "index: 21 | tf.Tensor([256], shape=(1,), dtype=int32)\n",
            "index: 22 | tf.Tensor([256  64], shape=(2,), dtype=int32)\n",
            "index: 23 | tf.Tensor([64], shape=(1,), dtype=int32)\n",
            "index: 24 | tf.Tensor([ 64 252], shape=(2,), dtype=int32)\n",
            "index: 25 | tf.Tensor([252], shape=(1,), dtype=int32)\n",
            "index: 26 | tf.Tensor([28], shape=(1,), dtype=int32)\n",
            "index: 27 | tf.Tensor([28], shape=(1,), dtype=int32)\n",
            "index: 28 | tf.Tensor([28], shape=(1,), dtype=int32)\n",
            "index: 29 | tf.Tensor([28], shape=(1,), dtype=int32)\n",
            "index: 30 | tf.Tensor([ 3  3 32 28], shape=(4,), dtype=int32)\n",
            "index: 31 | tf.Tensor([32], shape=(1,), dtype=int32)\n",
            "index: 32 | tf.Tensor([32], shape=(1,), dtype=int32)\n",
            "index: 33 | tf.Tensor([32], shape=(1,), dtype=int32)\n",
            "index: 34 | tf.Tensor([32], shape=(1,), dtype=int32)\n",
            "index: 35 | tf.Tensor([32], shape=(1,), dtype=int32)\n",
            "index: 36 | tf.Tensor([ 3  3 16 32], shape=(4,), dtype=int32)\n",
            "index: 37 | tf.Tensor([16], shape=(1,), dtype=int32)\n",
            "index: 38 | tf.Tensor([16], shape=(1,), dtype=int32)\n",
            "index: 39 | tf.Tensor([16], shape=(1,), dtype=int32)\n",
            "index: 40 | tf.Tensor([16], shape=(1,), dtype=int32)\n",
            "index: 41 | tf.Tensor([16], shape=(1,), dtype=int32)\n",
            "index: 42 | tf.Tensor([ 3  3  1 16], shape=(4,), dtype=int32)\n",
            "index: 43 | tf.Tensor([1], shape=(1,), dtype=int32)\n"
          ],
          "name": "stdout"
        }
      ]
    },
    {
      "cell_type": "markdown",
      "metadata": {
        "id": "Nz8CAc2-SjwD",
        "colab_type": "text"
      },
      "source": [
        "Set the weights of the decoder network to last half of the original network"
      ]
    },
    {
      "cell_type": "code",
      "metadata": {
        "id": "gl3KSE6XLuwO",
        "colab_type": "code",
        "colab": {}
      },
      "source": [
        "decoder_model.set_weights(conv_with_fc_weights[24:])"
      ],
      "execution_count": 0,
      "outputs": []
    },
    {
      "cell_type": "code",
      "metadata": {
        "id": "cq7ttZ95AJAJ",
        "colab_type": "code",
        "colab": {}
      },
      "source": [
        "\"\"\"\n",
        "in_layer_name = 'dense_14'\n",
        "out_layer_name = 'conv_dec_2'\n",
        "decoder_model = keras.Model(inputs=conv_with_fc_model.get_layer(in_layer_name).output, outputs=conv_with_fc_model.get_layer(out_layer_name).output)\n",
        "final_decoder_output = decoder_model(intermediate_encoder_output)\n",
        "\"\"\""
      ],
      "execution_count": 0,
      "outputs": []
    },
    {
      "cell_type": "code",
      "metadata": {
        "id": "x5n8xX1AAI5u",
        "colab_type": "code",
        "colab": {}
      },
      "source": [
        "def evaluate_decoder_output(model, test_images, images_to_be_compared=5):\n",
        "  print(test_images.shape)\n",
        "  #test_loss, test_acc = model.evaluate(test_images,  test_labels, verbose=2)\n",
        "  #print('\\n  Relu Test accuracy:', str(test_acc) + \" test loss: \" + str(test_loss) + \"\\n\")\n",
        "  model_output_images = model.predict(test_images)\n",
        "  print(model_output_images.shape)\n",
        "  plt.figure(figsize=(10,10))\n",
        "  for i in range(25):\n",
        "      plt.subplot(5,5,i+1)\n",
        "      plt.xticks([])\n",
        "      plt.yticks([])\n",
        "      plt.grid(False)\n",
        "      plt.imshow(model_output_images[i][:,:,0], cmap=plt.cm.binary)\n",
        "  plt.show()"
      ],
      "execution_count": 0,
      "outputs": []
    },
    {
      "cell_type": "code",
      "metadata": {
        "id": "IL_9bcDdRvrm",
        "colab_type": "code",
        "outputId": "95038fa1-c15a-4929-92a0-cd49e0d1bfb9",
        "colab": {
          "base_uri": "https://localhost:8080/",
          "height": 613
        }
      },
      "source": [
        "evaluate_decoder_output(decoder_model,intermediate_encoder_output)"
      ],
      "execution_count": 0,
      "outputs": [
        {
          "output_type": "stream",
          "text": [
            "(10000, 64)\n",
            "(10000, 28, 28, 1)\n"
          ],
          "name": "stdout"
        },
        {
          "output_type": "display_data",
          "data": {
            "image/png": "[encoded data removed]",
            "text/plain": [
              "<Figure size 720x720 with 25 Axes>"
            ]
          },
          "metadata": {
            "tags": []
          }
        }
      ]
    },
    {
      "cell_type": "code",
      "metadata": {
        "id": "cIBlUc4LSvi9",
        "colab_type": "code",
        "outputId": "a7995c5f-406d-4f29-c311-08ada5a9c1d6",
        "colab": {
          "base_uri": "https://localhost:8080/",
          "height": 265
        }
      },
      "source": [
        "intermediate_encoder_output[0,:]"
      ],
      "execution_count": 0,
      "outputs": [
        {
          "output_type": "execute_result",
          "data": {
            "text/plain": [
              "<tf.Tensor: shape=(64,), dtype=float32, numpy=\n",
              "array([13.453639  , 31.630007  , 18.185455  , 35.50594   , -4.5379257 ,\n",
              "       -5.4144473 , 26.704481  , -7.1359696 , 32.901005  , 12.701061  ,\n",
              "       -7.1228943 ,  5.684326  , 32.59292   , 60.896988  ,  8.365037  ,\n",
              "        6.3924403 , 13.184331  , -7.024774  , 17.711899  , -0.44040972,\n",
              "       42.78759   , 14.10446   , 10.690807  , 45.10075   , 11.143951  ,\n",
              "       15.829571  , 36.0637    ,  5.4546623 , 58.81245   , 36.271484  ,\n",
              "       18.38586   , 37.012257  , 28.428572  , 15.633062  ,  6.103594  ,\n",
              "       21.474867  , 41.364563  , -2.7767713 , -0.59911764,  0.79074156,\n",
              "        5.509033  , 10.828833  , 38.360165  , 38.817566  , -0.9899268 ,\n",
              "       32.919807  ,  4.8763657 , 14.283403  , 14.318804  , 54.393093  ,\n",
              "       32.04976   , 30.06166   , 25.769444  , -1.8114014 , 21.5779    ,\n",
              "       35.061848  , -5.9616585 , 27.752203  , 25.972221  , 54.787918  ,\n",
              "       -0.6382202 , 22.784504  , 29.357204  , 20.013067  ], dtype=float32)>"
            ]
          },
          "metadata": {
            "tags": []
          },
          "execution_count": 73
        }
      ]
    },
    {
      "cell_type": "markdown",
      "metadata": {
        "id": "ljyQe5-awrTQ",
        "colab_type": "text"
      },
      "source": [
        "**Just inverted all the encoding values by multiplying with -1. As ecpected we see that the pixels around the edges are getting activated and not the pixels in between as numbers are mostly present in middle of the picture**"
      ]
    },
    {
      "cell_type": "code",
      "metadata": {
        "id": "2Rw2jZq7Svm5",
        "colab_type": "code",
        "outputId": "be775467-47fa-4bb0-e7c1-00c74e5f32aa",
        "colab": {
          "base_uri": "https://localhost:8080/",
          "height": 34
        }
      },
      "source": [
        "changed_encoder_input = tf.expand_dims(tf.multiply(intermediate_encoder_output[0,:] , -1), 0)\n",
        "changed_encoder_input.shape"
      ],
      "execution_count": 0,
      "outputs": [
        {
          "output_type": "execute_result",
          "data": {
            "text/plain": [
              "TensorShape([1, 64])"
            ]
          },
          "metadata": {
            "tags": []
          },
          "execution_count": 82
        }
      ]
    },
    {
      "cell_type": "code",
      "metadata": {
        "id": "Ce_jgg5LXUrk",
        "colab_type": "code",
        "outputId": "42daf6af-a4d5-42a3-cef2-ba0fa446367b",
        "colab": {
          "base_uri": "https://localhost:8080/",
          "height": 264
        }
      },
      "source": [
        "ic = decoder_model.predict(changed_encoder_input)\n",
        "plt.figure(figsize=(4,4))\n",
        "plt.imshow(ic[0][:,:,0], cmap=plt.cm.binary)\n",
        "plt.show()"
      ],
      "execution_count": 0,
      "outputs": [
        {
          "output_type": "display_data",
          "data": {
            "image/png": "[encoded data removed]",
            "text/plain": [
              "<Figure size 288x288 with 1 Axes>"
            ]
          },
          "metadata": {
            "tags": [],
            "needs_background": "light"
          }
        }
      ]
    },
    {
      "cell_type": "code",
      "metadata": {
        "id": "cuHgokwwbDLR",
        "colab_type": "code",
        "outputId": "361cc37c-d67e-44e4-fa2a-90c4e5056b79",
        "colab": {
          "base_uri": "https://localhost:8080/",
          "height": 283
        }
      },
      "source": [
        "changed_encoder_input = tf.multiply(changed_encoder_input,-1)\n",
        "\n",
        "changed_encoder_input"
      ],
      "execution_count": 0,
      "outputs": [
        {
          "output_type": "execute_result",
          "data": {
            "text/plain": [
              "<tf.Tensor: shape=(1, 64), dtype=float32, numpy=\n",
              "array([[13.453639  , 31.630007  , 18.185455  , 35.50594   , -4.5379257 ,\n",
              "        -5.4144473 , 26.704481  , -7.1359696 , 32.901005  , 12.701061  ,\n",
              "        -7.1228943 ,  5.684326  , 32.59292   , 60.896988  ,  8.365037  ,\n",
              "         6.3924403 , 13.184331  , -7.024774  , 17.711899  , -0.44040972,\n",
              "        42.78759   , 14.10446   , 10.690807  , 45.10075   , 11.143951  ,\n",
              "        15.829571  , 36.0637    ,  5.4546623 , 58.81245   , 36.271484  ,\n",
              "        18.38586   , 37.012257  , 28.428572  , 15.633062  ,  6.103594  ,\n",
              "        21.474867  , 41.364563  , -2.7767713 , -0.59911764,  0.79074156,\n",
              "         5.509033  , 10.828833  , 38.360165  , 38.817566  , -0.9899268 ,\n",
              "        32.919807  ,  4.8763657 , 14.283403  , 14.318804  , 54.393093  ,\n",
              "        32.04976   , 30.06166   , 25.769444  , -1.8114014 , 21.5779    ,\n",
              "        35.061848  , -5.9616585 , 27.752203  , 25.972221  , 54.787918  ,\n",
              "        -0.6382202 , 22.784504  , 29.357204  , 20.013067  ]],\n",
              "      dtype=float32)>"
            ]
          },
          "metadata": {
            "tags": []
          },
          "execution_count": 91
        }
      ]
    },
    {
      "cell_type": "code",
      "metadata": {
        "id": "Umtlq44pcgHa",
        "colab_type": "code",
        "outputId": "038698b2-ed09-4269-ff7c-7763f1500716",
        "colab": {
          "base_uri": "https://localhost:8080/",
          "height": 283
        }
      },
      "source": [
        "lower_tensor = tf.greater(changed_encoder_input,y=40)\n",
        "upper_tensor = tf.less(changed_encoder_input, y=100)\n",
        "in_range = tf.logical_not(tf.logical_and(lower_tensor, upper_tensor))\n",
        "in_range\n",
        "new_encoder_state = tf.where(in_range, x=changed_encoder_input, y=0)\n",
        "new_encoder_state"
      ],
      "execution_count": 0,
      "outputs": [
        {
          "output_type": "execute_result",
          "data": {
            "text/plain": [
              "<tf.Tensor: shape=(1, 64), dtype=float32, numpy=\n",
              "array([[13.453639  , 31.630007  , 18.185455  , 35.50594   , -4.5379257 ,\n",
              "        -5.4144473 , 26.704481  , -7.1359696 , 32.901005  , 12.701061  ,\n",
              "        -7.1228943 ,  5.684326  , 32.59292   ,  0.        ,  8.365037  ,\n",
              "         6.3924403 , 13.184331  , -7.024774  , 17.711899  , -0.44040972,\n",
              "         0.        , 14.10446   , 10.690807  ,  0.        , 11.143951  ,\n",
              "        15.829571  , 36.0637    ,  5.4546623 ,  0.        , 36.271484  ,\n",
              "        18.38586   , 37.012257  , 28.428572  , 15.633062  ,  6.103594  ,\n",
              "        21.474867  ,  0.        , -2.7767713 , -0.59911764,  0.79074156,\n",
              "         5.509033  , 10.828833  , 38.360165  , 38.817566  , -0.9899268 ,\n",
              "        32.919807  ,  4.8763657 , 14.283403  , 14.318804  ,  0.        ,\n",
              "        32.04976   , 30.06166   , 25.769444  , -1.8114014 , 21.5779    ,\n",
              "        35.061848  , -5.9616585 , 27.752203  , 25.972221  ,  0.        ,\n",
              "        -0.6382202 , 22.784504  , 29.357204  , 20.013067  ]],\n",
              "      dtype=float32)>"
            ]
          },
          "metadata": {
            "tags": []
          },
          "execution_count": 99
        }
      ]
    },
    {
      "cell_type": "code",
      "metadata": {
        "id": "U2dDIcf0c-_U",
        "colab_type": "code",
        "outputId": "e0bfe11d-b3a6-4e3e-b829-3dcdc27d8289",
        "colab": {
          "base_uri": "https://localhost:8080/",
          "height": 264
        }
      },
      "source": [
        "ic1 = decoder_model.predict(new_encoder_state)\n",
        "plt.figure(figsize=(4,4))\n",
        "plt.imshow(ic1[0][:,:,0], cmap=plt.cm.binary)\n",
        "plt.show()"
      ],
      "execution_count": 0,
      "outputs": [
        {
          "output_type": "display_data",
          "data": {
            "image/png": "[encoded data removed]",
            "text/plain": [
              "<Figure size 288x288 with 1 Axes>"
            ]
          },
          "metadata": {
            "tags": [],
            "needs_background": "light"
          }
        }
      ]
    },
    {
      "cell_type": "markdown",
      "metadata": {
        "id": "J581vqOJkweW",
        "colab_type": "text"
      },
      "source": [
        "**inside range images:** Check out the stroke thickness changes of 7 which is particularly evident for images present at subplot 2,5,6,7. Especially image at 6 has some part cutoff. Hence encoding whoise value between 30-35 seems important \n",
        "\n",
        "**outside range images:** We again see that just with encoding values between 30-40, that is image at subplot position 3 seems to have figured out the straight line stroke which is necessary for numbers 9,1,7"
      ]
    },
    {
      "cell_type": "code",
      "metadata": {
        "id": "CPHqh01IevQE",
        "colab_type": "code",
        "outputId": "06eaf3fc-f19f-4bf1-bd1a-7081ea5dfa62",
        "colab": {
          "base_uri": "https://localhost:8080/",
          "height": 986
        }
      },
      "source": [
        "encoding = tf.expand_dims(intermediate_encoder_output[0,:] , 0)\n",
        "\n",
        "def evaluate_decoder_output(decoder_model=decoder_model, encoding=encoding, manipulation_range=[-30,60], images_to_be_compared=5):\n",
        "  print(encoding.shape)\n",
        "  steps = round((-1 * manipulation_range[0] + manipulation_range[1])/25)\n",
        "  num_itr = round((-1 * manipulation_range[0] + manipulation_range[1])/steps)\n",
        "\n",
        "  upper_limit = manipulation_range[1]\n",
        "  lower_limit = manipulation_range[1]-steps\n",
        "  plt.figure(figsize=(10,10))\n",
        "\n",
        "  for i in range(num_itr):\n",
        "      \n",
        "    print(\"Upper limit and lower limit encoding state: \" + str(upper_limit) + \" : \" + str(lower_limit))\n",
        "    lower_tensor = tf.greater(encoding,y=lower_limit)\n",
        "    upper_tensor = tf.less(encoding, y=upper_limit)\n",
        "    in_range = tf.logical_not(tf.logical_and(lower_tensor, upper_tensor))\n",
        "    not_in_range = tf.logical_and(lower_tensor, upper_tensor)\n",
        "\n",
        "    new_encoder_state_inside_range = tf.where(in_range, x=encoding, y=0)\n",
        "    new_encoder_state_outside_range = tf.where(not_in_range, x=encoding, y=0)\n",
        "    \n",
        "    model_output_images_inside_range = decoder_model.predict(new_encoder_state_inside_range)\n",
        "    model_output_images_outside_range = decoder_model.predict(new_encoder_state_outside_range)\n",
        "  \n",
        "    plt.subplot(5,5,i+1)\n",
        "    plt.xticks([])\n",
        "    plt.yticks([])\n",
        "    plt.grid(False)\n",
        "    plt.imshow(model_output_images_inside_range[0][:,:,0], cmap=plt.cm.binary)\n",
        "    \n",
        "    upper_limit = lower_limit\n",
        "    lower_limit = lower_limit - steps\n",
        "\n",
        "  plt.show()\n",
        "\n",
        "  return;\n",
        "\n",
        "\"\"\"\n",
        "    plt.subplot(5,5,i+2)\n",
        "    \n",
        "    plt.xticks([])\n",
        "    plt.yticks([])\n",
        "    plt.grid(False)\n",
        "    plt.imshow(model_output_images_outside_range[0][:,:,0], cmap=\"Greys_r\")\n",
        "\"\"\"\n",
        "\n",
        "  \n",
        "evaluate_decoder_output()"
      ],
      "execution_count": 0,
      "outputs": [
        {
          "output_type": "stream",
          "text": [
            "(1, 64)\n",
            "Upper limit and lower limit encoding state: 60 : 56\n",
            "Upper limit and lower limit encoding state: 56 : 52\n",
            "Upper limit and lower limit encoding state: 52 : 48\n",
            "Upper limit and lower limit encoding state: 48 : 44\n",
            "Upper limit and lower limit encoding state: 44 : 40\n",
            "Upper limit and lower limit encoding state: 40 : 36\n",
            "Upper limit and lower limit encoding state: 36 : 32\n",
            "Upper limit and lower limit encoding state: 32 : 28\n",
            "Upper limit and lower limit encoding state: 28 : 24\n",
            "Upper limit and lower limit encoding state: 24 : 20\n",
            "Upper limit and lower limit encoding state: 20 : 16\n",
            "Upper limit and lower limit encoding state: 16 : 12\n",
            "Upper limit and lower limit encoding state: 12 : 8\n",
            "Upper limit and lower limit encoding state: 8 : 4\n",
            "Upper limit and lower limit encoding state: 4 : 0\n",
            "Upper limit and lower limit encoding state: 0 : -4\n",
            "Upper limit and lower limit encoding state: -4 : -8\n",
            "Upper limit and lower limit encoding state: -8 : -12\n",
            "Upper limit and lower limit encoding state: -12 : -16\n",
            "Upper limit and lower limit encoding state: -16 : -20\n",
            "Upper limit and lower limit encoding state: -20 : -24\n",
            "Upper limit and lower limit encoding state: -24 : -28\n"
          ],
          "name": "stdout"
        },
        {
          "output_type": "display_data",
          "data": {
            "image/png": "[encoded data removed]",
            "text/plain": [
              "<Figure size 720x720 with 22 Axes>"
            ]
          },
          "metadata": {
            "tags": []
          }
        }
      ]
    },
    {
      "cell_type": "code",
      "metadata": {
        "id": "MI-lwwXesyCz",
        "colab_type": "code",
        "outputId": "985e5f70-7cf5-44d8-af30-877c9e026e99",
        "colab": {
          "base_uri": "https://localhost:8080/",
          "height": 436
        }
      },
      "source": [
        "encoding = tf.expand_dims(intermediate_encoder_output[0,:] , 0)\n",
        "\n",
        "def evaluate_decoder_output(decoder_model=decoder_model, encoding=encoding, manipulation_range=[-30,60], images_to_be_compared=5):\n",
        "  print(encoding.shape)\n",
        "  steps = round((-1 * manipulation_range[0] + manipulation_range[1])/10)\n",
        "  num_itr = round((-1 * manipulation_range[0] + manipulation_range[1])/steps)\n",
        "\n",
        "  upper_limit = manipulation_range[1]\n",
        "  lower_limit = manipulation_range[1]-steps\n",
        "  plt.figure(figsize=(10,10))\n",
        "\n",
        "  for i in range(num_itr):\n",
        "      \n",
        "    print(\"Upper limit and lower limit encoding state: \" + str(upper_limit) + \" : \" + str(lower_limit))\n",
        "    lower_tensor = tf.greater(encoding,y=lower_limit)\n",
        "    upper_tensor = tf.less(encoding, y=upper_limit)\n",
        "    in_range = tf.logical_not(tf.logical_and(lower_tensor, upper_tensor))\n",
        "    not_in_range = tf.logical_and(lower_tensor, upper_tensor)\n",
        "\n",
        "    new_encoder_state_inside_range = tf.where(in_range, x=encoding, y=0)\n",
        "    new_encoder_state_outside_range = tf.where(not_in_range, x=encoding, y=0)\n",
        "    \n",
        "    model_output_images_inside_range = decoder_model.predict(new_encoder_state_inside_range)\n",
        "    model_output_images_outside_range = decoder_model.predict(new_encoder_state_outside_range)\n",
        "  \n",
        "    plt.subplot(5,5,i+1)\n",
        "    plt.xticks([])\n",
        "    plt.yticks([])\n",
        "    plt.grid(False)\n",
        "    plt.imshow(model_output_images_outside_range[0][:,:,0], cmap=plt.cm.binary)\n",
        "    \n",
        "    upper_limit = lower_limit\n",
        "    lower_limit = lower_limit - steps\n",
        "\n",
        "  plt.show()\n",
        "\n",
        "  return;\n",
        "\n",
        "\"\"\"\n",
        "    plt.subplot(5,5,i+2)\n",
        "    \n",
        "    plt.xticks([])\n",
        "    plt.yticks([])\n",
        "    plt.grid(False)\n",
        "    plt.imshow(model_output_images_outside_range[0][:,:,0], cmap=\"Greys_r\")\n",
        "\"\"\"\n",
        "\n",
        "  \n",
        "evaluate_decoder_output()"
      ],
      "execution_count": 0,
      "outputs": [
        {
          "output_type": "stream",
          "text": [
            "(1, 64)\n",
            "Upper limit and lower limit encoding state: 60 : 51\n",
            "Upper limit and lower limit encoding state: 51 : 42\n",
            "Upper limit and lower limit encoding state: 42 : 33\n",
            "Upper limit and lower limit encoding state: 33 : 24\n",
            "Upper limit and lower limit encoding state: 24 : 15\n",
            "Upper limit and lower limit encoding state: 15 : 6\n",
            "Upper limit and lower limit encoding state: 6 : -3\n",
            "Upper limit and lower limit encoding state: -3 : -12\n",
            "Upper limit and lower limit encoding state: -12 : -21\n",
            "Upper limit and lower limit encoding state: -21 : -30\n"
          ],
          "name": "stdout"
        },
        {
          "output_type": "display_data",
          "data": {
            "image/png": "[encoded data removed]",
            "text/plain": [
              "<Figure size 720x720 with 10 Axes>"
            ]
          },
          "metadata": {
            "tags": []
          }
        }
      ]
    },
    {
      "cell_type": "markdown",
      "metadata": {
        "id": "_WHw0ZEW9yNn",
        "colab_type": "text"
      },
      "source": [
        "# **Unsupervised Pretraining**\n",
        "\n",
        "1) Train autoencoder – freeze encoder – train classifier on top (as described above).\n",
        "\n",
        "2) Train autoencoder – train classifier on top of encoder. Do not freeze the encoder, i.e. the encoder is “fine-tuned” on the labeled subset of data as well.\n",
        "\n",
        "3) Train a classifier directly on the labeled subset; no pretraining. For fairness, it should have the same architecture as the encoder + classifier above.\n",
        "\n",
        "**Credits:**\n",
        "Logistic regression using Keras - https://medium.com/hackernoon/logistic-regression-with-tensorflow-and-keras-83d2487aed89\n",
        "\n",
        "**Summary:**\n",
        "\n",
        "**Option 1:** Provided the worst accuracy where freezed encoder output was used to train a neural network classifier. Accuracy around 68% and loss did not drop well.\n",
        "\n",
        "**Option 2:** When encoder was stacked on top of classifier and trained with it on dataset, we saw validation accuracy go up till 98-99% which was greater compared to simpler classifier. hence encoder was finetuned on the data. Also the loss decreased and saturated to much lower value than it did for freezed encoder Option 1.\n",
        "\n",
        "**Option 3:** Simple neural network classifier gave 96% validation accuracy\n",
        "\n",
        "**Error: **ResourceExhaustedError: OOM when allocating tensor with shape[60000,32,28,28] and type float on /job:localhost/replica:0/task:0/device:GPU:0 by allocator GPU_0_bfc [Op:Conv2D]\n",
        "\n",
        "The dataset may be too huge to fit/predict. do batchwise prediction manually and concatenate the results"
      ]
    },
    {
      "cell_type": "markdown",
      "metadata": {
        "id": "wDHqnwo2K3XT",
        "colab_type": "text"
      },
      "source": [
        "**Option 3:** **Training a Logistic regression classifier**"
      ]
    },
    {
      "cell_type": "code",
      "metadata": {
        "id": "wvLwPEm0KlSv",
        "colab_type": "code",
        "colab": {}
      },
      "source": [
        "mnist = tf.keras.datasets.mnist\n",
        "(train_images, train_labels), (test_images, test_labels) = mnist.load_data()\n",
        "train_images, test_images = train_images / 255.0, test_images / 255.0"
      ],
      "execution_count": 0,
      "outputs": []
    },
    {
      "cell_type": "code",
      "metadata": {
        "id": "wM0dFlGeK8Y5",
        "colab_type": "code",
        "colab": {}
      },
      "source": [
        "logistic_regression_model = tf.keras.models.Sequential([\n",
        "tf.keras.layers.Flatten(),\n",
        "tf.keras.layers.Dense(32, activation=tf.nn.relu),\n",
        "tf.keras.layers.Dense(16, activation=tf.nn.relu),\n",
        "tf.keras.layers.Dense(10, activation=tf.nn.softmax)\n",
        "])"
      ],
      "execution_count": 0,
      "outputs": []
    },
    {
      "cell_type": "code",
      "metadata": {
        "id": "BVH4D_l0K8eb",
        "colab_type": "code",
        "colab": {}
      },
      "source": [
        "logistic_regression_model.compile(optimizer='adam', loss='sparse_categorical_crossentropy',metrics=['accuracy'])"
      ],
      "execution_count": 0,
      "outputs": []
    },
    {
      "cell_type": "code",
      "metadata": {
        "id": "hNnkislDK8bw",
        "colab_type": "code",
        "outputId": "65228fb4-585f-4682-fa29-7116e1d370f9",
        "colab": {
          "base_uri": "https://localhost:8080/",
          "height": 283
        }
      },
      "source": [
        "logistic_regression_model.fit(train_images, train_labels, epochs=7, validation_data=(test_images, test_labels))"
      ],
      "execution_count": 13,
      "outputs": [
        {
          "output_type": "stream",
          "text": [
            "Epoch 1/7\n",
            "1875/1875 [==============================] - 4s 2ms/step - loss: 0.3829 - accuracy: 0.8886 - val_loss: 0.2128 - val_accuracy: 0.9384\n",
            "Epoch 2/7\n",
            "1875/1875 [==============================] - 4s 2ms/step - loss: 0.1897 - accuracy: 0.9443 - val_loss: 0.1628 - val_accuracy: 0.9515\n",
            "Epoch 3/7\n",
            "1875/1875 [==============================] - 4s 2ms/step - loss: 0.1505 - accuracy: 0.9556 - val_loss: 0.1464 - val_accuracy: 0.9561\n",
            "Epoch 4/7\n",
            "1875/1875 [==============================] - 4s 2ms/step - loss: 0.1255 - accuracy: 0.9623 - val_loss: 0.1413 - val_accuracy: 0.9552\n",
            "Epoch 5/7\n",
            "1875/1875 [==============================] - 4s 2ms/step - loss: 0.1097 - accuracy: 0.9670 - val_loss: 0.1225 - val_accuracy: 0.9629\n",
            "Epoch 6/7\n",
            "1875/1875 [==============================] - 4s 2ms/step - loss: 0.0968 - accuracy: 0.9710 - val_loss: 0.1297 - val_accuracy: 0.9618\n",
            "Epoch 7/7\n",
            "1875/1875 [==============================] - 4s 2ms/step - loss: 0.0868 - accuracy: 0.9731 - val_loss: 0.1326 - val_accuracy: 0.9626\n"
          ],
          "name": "stdout"
        },
        {
          "output_type": "execute_result",
          "data": {
            "text/plain": [
              "<tensorflow.python.keras.callbacks.History at 0x7f022015f9b0>"
            ]
          },
          "metadata": {
            "tags": []
          },
          "execution_count": 13
        }
      ]
    },
    {
      "cell_type": "code",
      "metadata": {
        "id": "zQ2KygPSjP3x",
        "colab_type": "code",
        "colab": {
          "base_uri": "https://localhost:8080/",
          "height": 143
        },
        "outputId": "56a5db19-1dc9-4a87-db4d-b9ca2c5e0855"
      },
      "source": [
        "logitstic_regresssion_model_output = logistic_regression_model(test_images)"
      ],
      "execution_count": 16,
      "outputs": [
        {
          "output_type": "stream",
          "text": [
            "WARNING:tensorflow:Layer flatten is casting an input tensor from dtype float64 to the layer's dtype of float32, which is new behavior in TensorFlow 2.  The layer has dtype float32 because it's dtype defaults to floatx.\n",
            "\n",
            "If you intended to run this layer in float32, you can safely ignore this warning. If in doubt, this warning is likely only an issue if you are porting a TensorFlow 1.X model to TensorFlow 2.\n",
            "\n",
            "To change all layers to have dtype float64 by default, call `tf.keras.backend.set_floatx('float64')`. To change just this layer, pass dtype='float64' to the layer constructor. If you are the author of this layer, you can disable autocasting by passing autocast=False to the base Layer constructor.\n",
            "\n"
          ],
          "name": "stdout"
        }
      ]
    },
    {
      "cell_type": "markdown",
      "metadata": {
        "id": "VPsRIXnWMZJN",
        "colab_type": "text"
      },
      "source": [
        "**Option 1: Stacking freezed encoder output as input to new logistic regression model. Checking the metrics**"
      ]
    },
    {
      "cell_type": "code",
      "metadata": {
        "id": "APUXmtjuMG-t",
        "colab_type": "code",
        "colab": {}
      },
      "source": [
        "stacked_logistic_regression_model = tf.keras.models.Sequential([\n",
        "tf.keras.layers.Flatten(),\n",
        "tf.keras.layers.Dense(32, activation=tf.nn.relu),\n",
        "tf.keras.layers.Dense(16, activation=tf.nn.relu),\n",
        "tf.keras.layers.Dense(10, activation=tf.nn.softmax)\n",
        "])"
      ],
      "execution_count": 0,
      "outputs": []
    },
    {
      "cell_type": "code",
      "metadata": {
        "id": "ZdM27IWLMHQ7",
        "colab_type": "code",
        "colab": {}
      },
      "source": [
        "stacked_logistic_regression_model.compile(optimizer='adam', loss='sparse_categorical_crossentropy',metrics=['accuracy'])"
      ],
      "execution_count": 0,
      "outputs": []
    },
    {
      "cell_type": "code",
      "metadata": {
        "id": "VuCQfL-NM-ba",
        "colab_type": "code",
        "outputId": "c8085a66-8d9b-4b00-f2b2-3d09e21aa5ba",
        "colab": {
          "base_uri": "https://localhost:8080/",
          "height": 247
        }
      },
      "source": [
        "!unzip /content/conv_model_with_fc_noise.zip -d /content/conv_model_with_fc_noise\n",
        "conv_with_fc_model_noise = tf.keras.models.load_model('/content/conv_model_with_fc_noise')"
      ],
      "execution_count": 46,
      "outputs": [
        {
          "output_type": "stream",
          "text": [
            "Archive:  /content/conv_model_with_fc_noise.zip\n",
            "replace /content/conv_model_with_fc_noise/variables/variables.index? [y]es, [n]o, [A]ll, [N]one, [r]ename: y\n",
            "  inflating: /content/conv_model_with_fc_noise/variables/variables.index  \n",
            "replace /content/conv_model_with_fc_noise/__MACOSX/variables/._variables.index? [y]es, [n]o, [A]ll, [N]one, [r]ename: A\n",
            "  inflating: /content/conv_model_with_fc_noise/__MACOSX/variables/._variables.index  \n",
            "  inflating: /content/conv_model_with_fc_noise/variables/variables.data-00000-of-00002  \n",
            "  inflating: /content/conv_model_with_fc_noise/__MACOSX/variables/._variables.data-00000-of-00002  \n",
            "  inflating: /content/conv_model_with_fc_noise/variables/variables.data-00001-of-00002  \n",
            "  inflating: /content/conv_model_with_fc_noise/__MACOSX/variables/._variables.data-00001-of-00002  \n",
            "  inflating: /content/conv_model_with_fc_noise/__MACOSX/._variables  \n",
            "  inflating: /content/conv_model_with_fc_noise/saved_model.pb  \n",
            "  inflating: /content/conv_model_with_fc_noise/__MACOSX/._saved_model.pb  \n",
            "  inflating: /content/conv_model_with_fc_noise/__MACOSX/._assets  \n"
          ],
          "name": "stdout"
        }
      ]
    },
    {
      "cell_type": "code",
      "metadata": {
        "id": "lu5RBc2-M-hO",
        "colab_type": "code",
        "outputId": "ce54095c-df1d-4914-cd88-a7e20e88d88d",
        "colab": {
          "base_uri": "https://localhost:8080/",
          "height": 427
        }
      },
      "source": [
        "for layer in conv_with_fc_model_noise.layers: \n",
        "  print(layer.get_config())\n",
        "\n",
        "conv_with_fc_noise_weights = conv_with_fc_model_noise.get_weights()\n",
        "len(conv_with_fc_noise_weights)"
      ],
      "execution_count": 47,
      "outputs": [
        {
          "output_type": "stream",
          "text": [
            "{'name': 'conv_enc_0', 'trainable': True, 'batch_input_shape': (None, 28, 28, 1), 'dtype': 'float32', 'filters': 32, 'kernel_size': (3, 3), 'strides': (1, 1), 'padding': 'same', 'data_format': 'channels_last', 'dilation_rate': (1, 1), 'activation': 'relu', 'use_bias': True, 'kernel_initializer': {'class_name': 'GlorotUniform', 'config': {'seed': None}}, 'bias_initializer': {'class_name': 'Zeros', 'config': {}}, 'kernel_regularizer': None, 'bias_regularizer': None, 'activity_regularizer': None, 'kernel_constraint': None, 'bias_constraint': None}\n",
            "{'name': 'batch_normalization_6', 'trainable': True, 'dtype': 'float32', 'axis': ListWrapper([3]), 'momentum': 0.99, 'epsilon': 0.001, 'center': True, 'scale': True, 'beta_initializer': {'class_name': 'Zeros', 'config': {}}, 'gamma_initializer': {'class_name': 'Ones', 'config': {}}, 'moving_mean_initializer': {'class_name': 'Zeros', 'config': {}}, 'moving_variance_initializer': {'class_name': 'Ones', 'config': {}}, 'beta_regularizer': None, 'gamma_regularizer': None, 'beta_constraint': None, 'gamma_constraint': None}\n",
            "{'name': 'max_pooling2d_3', 'trainable': True, 'dtype': 'float32', 'pool_size': (2, 2), 'padding': 'valid', 'strides': (2, 2), 'data_format': 'channels_last'}\n",
            "{'name': 'conv_enc_1', 'trainable': True, 'dtype': 'float32', 'filters': 64, 'kernel_size': (3, 3), 'strides': (1, 1), 'padding': 'same', 'data_format': 'channels_last', 'dilation_rate': (1, 1), 'activation': 'relu', 'use_bias': True, 'kernel_initializer': {'class_name': 'GlorotUniform', 'config': {'seed': None}}, 'bias_initializer': {'class_name': 'Zeros', 'config': {}}, 'kernel_regularizer': None, 'bias_regularizer': None, 'activity_regularizer': None, 'kernel_constraint': None, 'bias_constraint': None}\n",
            "{'name': 'batch_normalization_7', 'trainable': True, 'dtype': 'float32', 'axis': ListWrapper([3]), 'momentum': 0.99, 'epsilon': 0.001, 'center': True, 'scale': True, 'beta_initializer': {'class_name': 'Zeros', 'config': {}}, 'gamma_initializer': {'class_name': 'Ones', 'config': {}}, 'moving_mean_initializer': {'class_name': 'Zeros', 'config': {}}, 'moving_variance_initializer': {'class_name': 'Ones', 'config': {}}, 'beta_regularizer': None, 'gamma_regularizer': None, 'beta_constraint': None, 'gamma_constraint': None}\n",
            "{'name': 'max_pooling2d_4', 'trainable': True, 'dtype': 'float32', 'pool_size': (2, 2), 'padding': 'valid', 'strides': (2, 2), 'data_format': 'channels_last'}\n",
            "{'name': 'conv_enc_2', 'trainable': True, 'dtype': 'float32', 'filters': 128, 'kernel_size': (3, 3), 'strides': (1, 1), 'padding': 'same', 'data_format': 'channels_last', 'dilation_rate': (1, 1), 'activation': 'relu', 'use_bias': True, 'kernel_initializer': {'class_name': 'GlorotUniform', 'config': {'seed': None}}, 'bias_initializer': {'class_name': 'Zeros', 'config': {}}, 'kernel_regularizer': None, 'bias_regularizer': None, 'activity_regularizer': None, 'kernel_constraint': None, 'bias_constraint': None}\n",
            "{'name': 'batch_normalization_8', 'trainable': True, 'dtype': 'float32', 'axis': ListWrapper([3]), 'momentum': 0.99, 'epsilon': 0.001, 'center': True, 'scale': True, 'beta_initializer': {'class_name': 'Zeros', 'config': {}}, 'gamma_initializer': {'class_name': 'Ones', 'config': {}}, 'moving_mean_initializer': {'class_name': 'Zeros', 'config': {}}, 'moving_variance_initializer': {'class_name': 'Ones', 'config': {}}, 'beta_regularizer': None, 'gamma_regularizer': None, 'beta_constraint': None, 'gamma_constraint': None}\n",
            "{'name': 'max_pooling2d_5', 'trainable': True, 'dtype': 'float32', 'pool_size': (2, 2), 'padding': 'valid', 'strides': (2, 2), 'data_format': 'channels_last'}\n",
            "{'name': 'conv_compress_dims', 'trainable': True, 'dtype': 'float32', 'filters': 64, 'kernel_size': (1, 1), 'strides': (1, 1), 'padding': 'same', 'data_format': 'channels_last', 'dilation_rate': (1, 1), 'activation': 'relu', 'use_bias': True, 'kernel_initializer': {'class_name': 'GlorotUniform', 'config': {'seed': None}}, 'bias_initializer': {'class_name': 'Zeros', 'config': {}}, 'kernel_regularizer': None, 'bias_regularizer': None, 'activity_regularizer': None, 'kernel_constraint': None, 'bias_constraint': None}\n",
            "{'name': 'flatten_1', 'trainable': True, 'dtype': 'float32', 'data_format': 'channels_last'}\n",
            "{'name': 'dense_3', 'trainable': True, 'dtype': 'float32', 'units': 256, 'activation': 'relu', 'use_bias': True, 'kernel_initializer': {'class_name': 'GlorotUniform', 'config': {'seed': None}}, 'bias_initializer': {'class_name': 'Zeros', 'config': {}}, 'kernel_regularizer': None, 'bias_regularizer': None, 'activity_regularizer': None, 'kernel_constraint': None, 'bias_constraint': None}\n",
            "{'name': 'dense_4', 'trainable': True, 'dtype': 'float32', 'units': 64, 'activation': 'leaky_relu', 'use_bias': True, 'kernel_initializer': {'class_name': 'GlorotUniform', 'config': {'seed': None}}, 'bias_initializer': {'class_name': 'Zeros', 'config': {}}, 'kernel_regularizer': None, 'bias_regularizer': None, 'activity_regularizer': None, 'kernel_constraint': None, 'bias_constraint': None}\n",
            "{'name': 'dense_5', 'trainable': True, 'dtype': 'float32', 'units': 252, 'activation': 'relu', 'use_bias': True, 'kernel_initializer': {'class_name': 'GlorotUniform', 'config': {'seed': None}}, 'bias_initializer': {'class_name': 'Zeros', 'config': {}}, 'kernel_regularizer': None, 'bias_regularizer': None, 'activity_regularizer': None, 'kernel_constraint': None, 'bias_constraint': None}\n",
            "{'name': 'reshape_1', 'trainable': True, 'batch_input_shape': (None, 252), 'dtype': 'float32', 'target_shape': (3, 3, 28)}\n",
            "{'name': 'batch_normalization_9', 'trainable': True, 'dtype': 'float32', 'axis': ListWrapper([3]), 'momentum': 0.99, 'epsilon': 0.001, 'center': True, 'scale': True, 'beta_initializer': {'class_name': 'Zeros', 'config': {}}, 'gamma_initializer': {'class_name': 'Ones', 'config': {}}, 'moving_mean_initializer': {'class_name': 'Zeros', 'config': {}}, 'moving_variance_initializer': {'class_name': 'Ones', 'config': {}}, 'beta_regularizer': None, 'gamma_regularizer': None, 'beta_constraint': None, 'gamma_constraint': None}\n",
            "{'name': 'conv_dec_0', 'trainable': True, 'dtype': 'float32', 'filters': 32, 'kernel_size': (3, 3), 'strides': (2, 2), 'padding': 'valid', 'data_format': 'channels_last', 'dilation_rate': (1, 1), 'activation': 'relu', 'use_bias': True, 'kernel_initializer': {'class_name': 'GlorotUniform', 'config': {'seed': None}}, 'bias_initializer': {'class_name': 'Zeros', 'config': {}}, 'kernel_regularizer': None, 'bias_regularizer': None, 'activity_regularizer': None, 'kernel_constraint': None, 'bias_constraint': None, 'output_padding': None}\n",
            "{'name': 'batch_normalization_10', 'trainable': True, 'dtype': 'float32', 'axis': ListWrapper([3]), 'momentum': 0.99, 'epsilon': 0.001, 'center': True, 'scale': True, 'beta_initializer': {'class_name': 'Zeros', 'config': {}}, 'gamma_initializer': {'class_name': 'Ones', 'config': {}}, 'moving_mean_initializer': {'class_name': 'Zeros', 'config': {}}, 'moving_variance_initializer': {'class_name': 'Ones', 'config': {}}, 'beta_regularizer': None, 'gamma_regularizer': None, 'beta_constraint': None, 'gamma_constraint': None}\n",
            "{'name': 'conv_dec_1', 'trainable': True, 'dtype': 'float32', 'filters': 16, 'kernel_size': (3, 3), 'strides': (2, 2), 'padding': 'same', 'data_format': 'channels_last', 'dilation_rate': (1, 1), 'activation': 'relu', 'use_bias': True, 'kernel_initializer': {'class_name': 'GlorotUniform', 'config': {'seed': None}}, 'bias_initializer': {'class_name': 'Zeros', 'config': {}}, 'kernel_regularizer': None, 'bias_regularizer': None, 'activity_regularizer': None, 'kernel_constraint': None, 'bias_constraint': None, 'output_padding': None}\n",
            "{'name': 'batch_normalization_11', 'trainable': True, 'dtype': 'float32', 'axis': ListWrapper([3]), 'momentum': 0.99, 'epsilon': 0.001, 'center': True, 'scale': True, 'beta_initializer': {'class_name': 'Zeros', 'config': {}}, 'gamma_initializer': {'class_name': 'Ones', 'config': {}}, 'moving_mean_initializer': {'class_name': 'Zeros', 'config': {}}, 'moving_variance_initializer': {'class_name': 'Ones', 'config': {}}, 'beta_regularizer': None, 'gamma_regularizer': None, 'beta_constraint': None, 'gamma_constraint': None}\n",
            "{'name': 'conv_dec_2', 'trainable': True, 'dtype': 'float32', 'filters': 1, 'kernel_size': (3, 3), 'strides': (2, 2), 'padding': 'same', 'data_format': 'channels_last', 'dilation_rate': (1, 1), 'activation': 'sigmoid', 'use_bias': True, 'kernel_initializer': {'class_name': 'GlorotUniform', 'config': {'seed': None}}, 'bias_initializer': {'class_name': 'Zeros', 'config': {}}, 'kernel_regularizer': None, 'bias_regularizer': None, 'activity_regularizer': None, 'kernel_constraint': None, 'bias_constraint': None, 'output_padding': None}\n"
          ],
          "name": "stdout"
        },
        {
          "output_type": "execute_result",
          "data": {
            "text/plain": [
              "44"
            ]
          },
          "metadata": {
            "tags": []
          },
          "execution_count": 47
        }
      ]
    },
    {
      "cell_type": "code",
      "metadata": {
        "id": "F3Ul3GwvM-mS",
        "colab_type": "code",
        "colab": {}
      },
      "source": [
        "conv_with_fc_model_noise_output_images = conv_with_fc_model_noise.predict(tf.expand_dims(test_images.astype(np.float32), -1))"
      ],
      "execution_count": 0,
      "outputs": []
    },
    {
      "cell_type": "code",
      "metadata": {
        "id": "8A64DQnZTY-t",
        "colab_type": "code",
        "colab": {
          "base_uri": "https://localhost:8080/",
          "height": 34
        },
        "outputId": "9109107f-ec8c-453d-ce40-454428870c1d"
      },
      "source": [
        "tf.expand_dims(test_images.astype(np.float32), -1).shape"
      ],
      "execution_count": 22,
      "outputs": [
        {
          "output_type": "execute_result",
          "data": {
            "text/plain": [
              "TensorShape([10000, 28, 28, 1])"
            ]
          },
          "metadata": {
            "tags": []
          },
          "execution_count": 22
        }
      ]
    },
    {
      "cell_type": "code",
      "metadata": {
        "id": "xIfQ-g6GM-eT",
        "colab_type": "code",
        "outputId": "cef5657a-fd80-43bd-d3a3-3ac3dd6e1e00",
        "colab": {
          "base_uri": "https://localhost:8080/",
          "height": 34
        }
      },
      "source": [
        "layer_name = 'dense_4'\n",
        "encoder_model = keras.Model(inputs=conv_with_fc_model_noise.input, outputs=conv_with_fc_model_noise.get_layer(layer_name).output)\n",
        "intermediate_encoder_test_output = encoder_model(tf.expand_dims(test_images.astype(np.float32), -1))\n",
        "intermediate_encoder_test_output.shape"
      ],
      "execution_count": 34,
      "outputs": [
        {
          "output_type": "execute_result",
          "data": {
            "text/plain": [
              "TensorShape([10000, 64])"
            ]
          },
          "metadata": {
            "tags": []
          },
          "execution_count": 34
        }
      ]
    },
    {
      "cell_type": "code",
      "metadata": {
        "id": "YRtooTsoUCh8",
        "colab_type": "code",
        "colab": {
          "base_uri": "https://localhost:8080/",
          "height": 656
        },
        "outputId": "cf551193-d8fc-4695-9092-c75228cd903b"
      },
      "source": [
        "encoder_model.summary()"
      ],
      "execution_count": 35,
      "outputs": [
        {
          "output_type": "stream",
          "text": [
            "Model: \"model_1\"\n",
            "_________________________________________________________________\n",
            "Layer (type)                 Output Shape              Param #   \n",
            "=================================================================\n",
            "input_1 (InputLayer)         [(None, 28, 28, 1)]       0         \n",
            "_________________________________________________________________\n",
            "conv_enc_0 (Conv2D)          (None, 28, 28, 32)        320       \n",
            "_________________________________________________________________\n",
            "batch_normalization_6 (Batch (None, 28, 28, 32)        128       \n",
            "_________________________________________________________________\n",
            "max_pooling2d_3 (MaxPooling2 (None, 14, 14, 32)        0         \n",
            "_________________________________________________________________\n",
            "conv_enc_1 (Conv2D)          (None, 14, 14, 64)        18496     \n",
            "_________________________________________________________________\n",
            "batch_normalization_7 (Batch (None, 14, 14, 64)        256       \n",
            "_________________________________________________________________\n",
            "max_pooling2d_4 (MaxPooling2 (None, 7, 7, 64)          0         \n",
            "_________________________________________________________________\n",
            "conv_enc_2 (Conv2D)          (None, 7, 7, 128)         73856     \n",
            "_________________________________________________________________\n",
            "batch_normalization_8 (Batch (None, 7, 7, 128)         512       \n",
            "_________________________________________________________________\n",
            "max_pooling2d_5 (MaxPooling2 (None, 3, 3, 128)         0         \n",
            "_________________________________________________________________\n",
            "conv_compress_dims (Conv2D)  (None, 3, 3, 64)          8256      \n",
            "_________________________________________________________________\n",
            "flatten_1 (Flatten)          (None, 576)               0         \n",
            "_________________________________________________________________\n",
            "dense_3 (Dense)              (None, 256)               147712    \n",
            "_________________________________________________________________\n",
            "dense_4 (Dense)              (None, 64)                16448     \n",
            "=================================================================\n",
            "Total params: 265,984\n",
            "Trainable params: 265,536\n",
            "Non-trainable params: 448\n",
            "_________________________________________________________________\n"
          ],
          "name": "stdout"
        }
      ]
    },
    {
      "cell_type": "code",
      "metadata": {
        "id": "8IWE6XEDU84G",
        "colab_type": "code",
        "colab": {}
      },
      "source": [
        "all_train_images = tf.expand_dims(train_images.astype(np.float32), -1)\n",
        "train_images_1 = all_train_images[0:10000,:,:,:]\n",
        "train_images_2 = all_train_images[10000:20000,:,:,:]\n",
        "train_images_3 = all_train_images[20000:30000,:,:,:]\n",
        "train_images_4 = all_train_images[30000:40000,:,:,:]\n",
        "train_images_5 = all_train_images[40000:50000,:,:,:]\n",
        "train_images_6 = all_train_images[50000:60000,:,:,:]"
      ],
      "execution_count": 0,
      "outputs": []
    },
    {
      "cell_type": "code",
      "metadata": {
        "id": "-xsS542AVer2",
        "colab_type": "code",
        "colab": {}
      },
      "source": [
        "intermediate_encoder_train_output_1 = encoder_model(train_images_1)\n",
        "intermediate_encoder_train_output_2 = encoder_model(train_images_2)\n",
        "intermediate_encoder_train_output_3 = encoder_model(train_images_3)\n",
        "intermediate_encoder_train_output_4 = encoder_model(train_images_4)\n",
        "intermediate_encoder_train_output_5 = encoder_model(train_images_5)\n",
        "intermediate_encoder_train_output_6 = encoder_model(train_images_6)"
      ],
      "execution_count": 0,
      "outputs": []
    },
    {
      "cell_type": "code",
      "metadata": {
        "id": "rm8p_otSVent",
        "colab_type": "code",
        "colab": {}
      },
      "source": [
        "intermediate_encoder_train_output = tf.concat(values=[intermediate_encoder_train_output_1, intermediate_encoder_train_output_2, \n",
        "                                                      intermediate_encoder_train_output_3, intermediate_encoder_train_output_4, intermediate_encoder_train_output_5,\n",
        "                                                      intermediate_encoder_train_output_6], axis = 0)"
      ],
      "execution_count": 0,
      "outputs": []
    },
    {
      "cell_type": "code",
      "metadata": {
        "id": "nqTjVHzCT1Kj",
        "colab_type": "code",
        "colab": {
          "base_uri": "https://localhost:8080/",
          "height": 52
        },
        "outputId": "ebe937bc-eebd-49ed-e404-cc309c05e1c1"
      },
      "source": [
        "#intermediate_encoder_train_output = encoder_model()\n",
        "print(intermediate_encoder_test_output.shape)\n",
        "print(intermediate_encoder_train_output.shape)"
      ],
      "execution_count": 51,
      "outputs": [
        {
          "output_type": "stream",
          "text": [
            "(10000, 64)\n",
            "(60000, 64)\n"
          ],
          "name": "stdout"
        }
      ]
    },
    {
      "cell_type": "code",
      "metadata": {
        "id": "6SLakBqxTPag",
        "colab_type": "code",
        "colab": {
          "base_uri": "https://localhost:8080/",
          "height": 34
        },
        "outputId": "1830efca-4889-4826-cfda-fae0b81838fb"
      },
      "source": [
        "tf.expand_dims(train_images.astype(np.float32), -1).shape"
      ],
      "execution_count": 52,
      "outputs": [
        {
          "output_type": "execute_result",
          "data": {
            "text/plain": [
              "TensorShape([60000, 28, 28, 1])"
            ]
          },
          "metadata": {
            "tags": []
          },
          "execution_count": 52
        }
      ]
    },
    {
      "cell_type": "code",
      "metadata": {
        "id": "Vj5tLPXbM1A0",
        "colab_type": "code",
        "outputId": "853b61c7-eb7a-4028-e11a-c921922fd468",
        "colab": {
          "base_uri": "https://localhost:8080/",
          "height": 745
        }
      },
      "source": [
        "stacked_logistic_regression_model.fit(intermediate_encoder_train_output, train_labels, epochs=20, validation_data=(intermediate_encoder_test_output, test_labels))"
      ],
      "execution_count": 56,
      "outputs": [
        {
          "output_type": "stream",
          "text": [
            "Epoch 1/20\n",
            "1875/1875 [==============================] - 4s 2ms/step - loss: 1.4402 - accuracy: 0.4576 - val_loss: 1.3489 - val_accuracy: 0.5003\n",
            "Epoch 2/20\n",
            "1875/1875 [==============================] - 4s 2ms/step - loss: 1.4060 - accuracy: 0.4769 - val_loss: 1.3264 - val_accuracy: 0.5282\n",
            "Epoch 3/20\n",
            "1875/1875 [==============================] - 4s 2ms/step - loss: 1.3592 - accuracy: 0.5081 - val_loss: 1.2455 - val_accuracy: 0.5602\n",
            "Epoch 4/20\n",
            "1875/1875 [==============================] - 4s 2ms/step - loss: 1.3059 - accuracy: 0.5416 - val_loss: 1.2705 - val_accuracy: 0.5425\n",
            "Epoch 5/20\n",
            "1875/1875 [==============================] - 4s 2ms/step - loss: 1.2265 - accuracy: 0.5799 - val_loss: 1.3537 - val_accuracy: 0.5027\n",
            "Epoch 6/20\n",
            "1875/1875 [==============================] - 4s 2ms/step - loss: 1.1492 - accuracy: 0.6105 - val_loss: 1.0433 - val_accuracy: 0.6453\n",
            "Epoch 7/20\n",
            "1875/1875 [==============================] - 4s 2ms/step - loss: 1.1045 - accuracy: 0.6256 - val_loss: 1.1280 - val_accuracy: 0.6170\n",
            "Epoch 8/20\n",
            "1875/1875 [==============================] - 4s 2ms/step - loss: 1.0841 - accuracy: 0.6302 - val_loss: 0.9920 - val_accuracy: 0.6623\n",
            "Epoch 9/20\n",
            "1875/1875 [==============================] - 4s 2ms/step - loss: 1.0571 - accuracy: 0.6413 - val_loss: 0.9988 - val_accuracy: 0.6421\n",
            "Epoch 10/20\n",
            "1875/1875 [==============================] - 4s 2ms/step - loss: 1.0440 - accuracy: 0.6445 - val_loss: 0.9829 - val_accuracy: 0.6646\n",
            "Epoch 11/20\n",
            "1875/1875 [==============================] - 4s 2ms/step - loss: 1.0309 - accuracy: 0.6482 - val_loss: 0.9645 - val_accuracy: 0.6717\n",
            "Epoch 12/20\n",
            "1875/1875 [==============================] - 4s 2ms/step - loss: 1.0203 - accuracy: 0.6544 - val_loss: 1.0605 - val_accuracy: 0.6235\n",
            "Epoch 13/20\n",
            "1875/1875 [==============================] - 4s 2ms/step - loss: 1.0228 - accuracy: 0.6507 - val_loss: 1.0369 - val_accuracy: 0.6356\n",
            "Epoch 14/20\n",
            "1875/1875 [==============================] - 4s 2ms/step - loss: 1.0022 - accuracy: 0.6572 - val_loss: 0.9349 - val_accuracy: 0.6863\n",
            "Epoch 15/20\n",
            "1875/1875 [==============================] - 4s 2ms/step - loss: 0.9969 - accuracy: 0.6611 - val_loss: 1.3347 - val_accuracy: 0.5606\n",
            "Epoch 16/20\n",
            "1875/1875 [==============================] - 4s 2ms/step - loss: 0.9851 - accuracy: 0.6639 - val_loss: 0.9343 - val_accuracy: 0.6830\n",
            "Epoch 17/20\n",
            "1875/1875 [==============================] - 4s 2ms/step - loss: 0.9823 - accuracy: 0.6642 - val_loss: 0.9137 - val_accuracy: 0.6937\n",
            "Epoch 18/20\n",
            "1875/1875 [==============================] - 4s 2ms/step - loss: 0.9766 - accuracy: 0.6666 - val_loss: 0.9623 - val_accuracy: 0.6714\n",
            "Epoch 19/20\n",
            "1875/1875 [==============================] - 4s 2ms/step - loss: 0.9666 - accuracy: 0.6704 - val_loss: 0.9380 - val_accuracy: 0.6859\n",
            "Epoch 20/20\n",
            "1875/1875 [==============================] - 4s 2ms/step - loss: 0.9620 - accuracy: 0.6718 - val_loss: 0.9195 - val_accuracy: 0.6808\n"
          ],
          "name": "stdout"
        },
        {
          "output_type": "execute_result",
          "data": {
            "text/plain": [
              "<tensorflow.python.keras.callbacks.History at 0x7f01c02bb7f0>"
            ]
          },
          "metadata": {
            "tags": []
          },
          "execution_count": 56
        }
      ]
    },
    {
      "cell_type": "code",
      "metadata": {
        "id": "1k3nCGnWM1HE",
        "colab_type": "code",
        "colab": {}
      },
      "source": [
        "test_output = stacked_logistic_regression_model.predict(intermediate_encoder_test_output)"
      ],
      "execution_count": 0,
      "outputs": []
    },
    {
      "cell_type": "code",
      "metadata": {
        "id": "rZ6wD8KjU0HW",
        "colab_type": "code",
        "outputId": "10fcf111-c3ca-4a05-b367-6ec12fb17186",
        "colab": {
          "base_uri": "https://localhost:8080/",
          "height": 34
        }
      },
      "source": [
        "tf.math.argmax(test_output[:], axis=0)"
      ],
      "execution_count": 59,
      "outputs": [
        {
          "output_type": "execute_result",
          "data": {
            "text/plain": [
              "<tf.Tensor: shape=(10,), dtype=int64, numpy=array([9060, 2706, 5761, 9006, 7886, 7622, 8499, 7098, 7735, 4505])>"
            ]
          },
          "metadata": {
            "tags": []
          },
          "execution_count": 59
        }
      ]
    },
    {
      "cell_type": "code",
      "metadata": {
        "id": "VLE0NQW7We2B",
        "colab_type": "code",
        "outputId": "39ef0b3a-f7c0-46e5-9d7f-28edcb78471d",
        "colab": {
          "base_uri": "https://localhost:8080/",
          "height": 70
        }
      },
      "source": [
        "test_output[0,:]"
      ],
      "execution_count": 60,
      "outputs": [
        {
          "output_type": "execute_result",
          "data": {
            "text/plain": [
              "array([8.3514471e-03, 2.4995202e-04, 3.2485509e-03, 6.3309461e-02,\n",
              "       2.6432124e-05, 5.7151191e-02, 2.4524304e-06, 8.5127425e-01,\n",
              "       4.1699256e-03, 1.2216434e-02], dtype=float32)"
            ]
          },
          "metadata": {
            "tags": []
          },
          "execution_count": 60
        }
      ]
    },
    {
      "cell_type": "code",
      "metadata": {
        "id": "vwW6d8w6M1ET",
        "colab_type": "code",
        "outputId": "b6fce29a-8784-47d2-b4a2-ca362d831302",
        "colab": {
          "base_uri": "https://localhost:8080/",
          "height": 247
        }
      },
      "source": [
        "def display_model_output_with_actual_test_labels(model_output, actual_labels):\n",
        "  images to be compared = 10\n",
        "  "
      ],
      "execution_count": 0,
      "outputs": [
        {
          "output_type": "execute_result",
          "data": {
            "text/plain": [
              "array([[0.10646329, 0.2668148 , 0.0400741 , ..., 0.08671366, 0.05830615,\n",
              "        0.07980853],\n",
              "       [0.11828209, 0.25999004, 0.0400731 , ..., 0.08917951, 0.05847553,\n",
              "        0.08011828],\n",
              "       [0.09121314, 0.2740859 , 0.04089353, ..., 0.08289477, 0.05898764,\n",
              "        0.07978667],\n",
              "       ...,\n",
              "       [0.0871958 , 0.26466927, 0.04268398, ..., 0.08071279, 0.05920096,\n",
              "        0.0845837 ],\n",
              "       [0.0939716 , 0.2625935 , 0.04204065, ..., 0.08204732, 0.05899849,\n",
              "        0.0825301 ],\n",
              "       [0.10860542, 0.24563655, 0.04175898, ..., 0.08154271, 0.05780326,\n",
              "        0.08091093]], dtype=float32)"
            ]
          },
          "metadata": {
            "tags": []
          },
          "execution_count": 34
        }
      ]
    },
    {
      "cell_type": "code",
      "metadata": {
        "id": "Vf8XL4a5omg-",
        "colab_type": "code",
        "colab": {}
      },
      "source": [
        "stacked_logistic_regression_model2 = tf.keras.models.Sequential([\n",
        "encoder_model,\n",
        "tf.keras.layers.Dense(32, activation=tf.nn.relu),\n",
        "tf.keras.layers.Dense(16, activation=tf.nn.relu),\n",
        "tf.keras.layers.Dense(10, activation=tf.nn.softmax)\n",
        "])\n",
        "stacked_logistic_regression_model2.compile(optimizer='adam', loss='sparse_categorical_crossentropy',metrics=['accuracy'])"
      ],
      "execution_count": 0,
      "outputs": []
    },
    {
      "cell_type": "code",
      "metadata": {
        "id": "ThFRkiJNomeV",
        "colab_type": "code",
        "colab": {
          "base_uri": "https://localhost:8080/",
          "height": 283
        },
        "outputId": "5acdd057-27e9-4277-be2d-3b9f310a2809"
      },
      "source": [
        "stacked_logistic_regression_model2.fit(train_images, train_labels, epochs=7, validation_data=(test_images, test_labels))"
      ],
      "execution_count": 70,
      "outputs": [
        {
          "output_type": "stream",
          "text": [
            "Epoch 1/7\n",
            "1875/1875 [==============================] - 7s 4ms/step - loss: 0.5237 - accuracy: 0.8862 - val_loss: 0.0865 - val_accuracy: 0.9733\n",
            "Epoch 2/7\n",
            "1875/1875 [==============================] - 7s 4ms/step - loss: 0.0655 - accuracy: 0.9804 - val_loss: 0.0794 - val_accuracy: 0.9782\n",
            "Epoch 3/7\n",
            "1875/1875 [==============================] - 7s 4ms/step - loss: 0.0481 - accuracy: 0.9861 - val_loss: 0.0513 - val_accuracy: 0.9856\n",
            "Epoch 4/7\n",
            "1875/1875 [==============================] - 7s 4ms/step - loss: 0.0384 - accuracy: 0.9887 - val_loss: 0.0482 - val_accuracy: 0.9856\n",
            "Epoch 5/7\n",
            "1875/1875 [==============================] - 7s 4ms/step - loss: 0.0339 - accuracy: 0.9901 - val_loss: 0.0817 - val_accuracy: 0.9788\n",
            "Epoch 6/7\n",
            "1875/1875 [==============================] - 7s 4ms/step - loss: 0.0277 - accuracy: 0.9918 - val_loss: 0.0410 - val_accuracy: 0.9885\n",
            "Epoch 7/7\n",
            "1875/1875 [==============================] - 7s 4ms/step - loss: 0.0242 - accuracy: 0.9930 - val_loss: 0.0473 - val_accuracy: 0.9887\n"
          ],
          "name": "stdout"
        },
        {
          "output_type": "execute_result",
          "data": {
            "text/plain": [
              "<tensorflow.python.keras.callbacks.History at 0x7effa45dd9b0>"
            ]
          },
          "metadata": {
            "tags": []
          },
          "execution_count": 70
        }
      ]
    },
    {
      "cell_type": "code",
      "metadata": {
        "id": "ATIJjMsJuosQ",
        "colab_type": "code",
        "colab": {}
      },
      "source": [
        "option_2_output = stacked_logistic_regression_model2.predict(test_images)"
      ],
      "execution_count": 0,
      "outputs": []
    },
    {
      "cell_type": "code",
      "metadata": {
        "id": "EjIi7Wapombq",
        "colab_type": "code",
        "colab": {}
      },
      "source": [
        "def compare_models(test_labels=test_labels,option_1_output = test_output, option_2_output=option_2_output, option_3_output = logistic_regression_model):\n",
        "\n",
        "  option_1_preds = tf.argmax(option_1_output, axis=1,output_type=tf.int32)\n",
        "  option_1_acc = tf.reduce_mean(tf.cast(tf.equal(option_1_preds, test_labels),tf.float32))\n",
        "  print(\"Accuracy of Option 1 set: \" + str(option_1_acc.numpy()))\n",
        "\n",
        "  option_2_preds = tf.argmax(option_2_output, axis=1,output_type=tf.int32)\n",
        "  option_2_acc = tf.reduce_mean(tf.cast(tf.equal(option_2_preds, test_labels),tf.float32))\n",
        "  print(\"Accuracy of Option 2 set: \" + str(option_2_acc.numpy()))\n",
        "  \n",
        "  option_3_preds = tf.argmax(option_3_output, axis=1,output_type=tf.int32)\n",
        "  option_3_acc = tf.reduce_mean(tf.cast(tf.equal(option_3_preds, test_labels),tf.float32))\n",
        "  print(\"Accuracy of Option 3 set: \" + str(option_3_acc.numpy()))\n",
        "\n",
        "  return ;"
      ],
      "execution_count": 0,
      "outputs": []
    },
    {
      "cell_type": "code",
      "metadata": {
        "id": "RYcH0LIoomYw",
        "colab_type": "code",
        "colab": {
          "base_uri": "https://localhost:8080/",
          "height": 70
        },
        "outputId": "d59a72d3-1f0a-4c13-a64a-1ddb1ce6f3c5"
      },
      "source": [
        "compare_models(test_labels, option_1_output = test_output, option_3_output = logitstic_regresssion_model_output)"
      ],
      "execution_count": 73,
      "outputs": [
        {
          "output_type": "stream",
          "text": [
            "Accuracy of Option 1 set: 0.6808\n",
            "Accuracy of Option 2 set: 0.9887\n",
            "Accuracy of Option 3 set: 0.9626\n"
          ],
          "name": "stdout"
        }
      ]
    },
    {
      "cell_type": "code",
      "metadata": {
        "id": "wB7sDJfmukcL",
        "colab_type": "code",
        "colab": {}
      },
      "source": [
        ""
      ],
      "execution_count": 0,
      "outputs": []
    },
    {
      "cell_type": "code",
      "metadata": {
        "id": "VId2QuKc7Hwi",
        "colab_type": "code",
        "colab": {}
      },
      "source": [
        ""
      ],
      "execution_count": 0,
      "outputs": []
    },
    {
      "cell_type": "code",
      "metadata": {
        "id": "3SOUr4e0XMsQ",
        "colab_type": "code",
        "colab": {}
      },
      "source": [
        "(train_images_raw, train_labels_raw), (test_images_raw, test_labels_raw) = mnist.load_data()\n",
        "\n",
        "train_data = tf.data.Dataset.from_tensor_slices(( train_images_raw.astype(np.float32)/255.0, train_images_raw.astype(np.float32)/255.0 ))\n",
        "\n",
        "train_data = train_data.shuffle(buffer_size = train_images_raw.shape[0]).batch(32)\n",
        "\n",
        "#test_data = tf.data.Dataset.from_tensor_slices(( test_images_raw.astype(np.float32)/255.0, test_labels_raw.astype(np.int32) ))\n",
        "test_data = tf.data.Dataset.from_tensor_slices(( test_images_raw.astype(np.float32)/255.0,  test_images_raw.astype(np.float32)/255.0 ))\n",
        "test_data = test_data.batch(32)"
      ],
      "execution_count": 0,
      "outputs": []
    },
    {
      "cell_type": "code",
      "metadata": {
        "id": "pfk-xmlVcKiq",
        "colab_type": "code",
        "colab": {}
      },
      "source": [
        "\n",
        "def add_noise(img):\n",
        "    '''Add random noise to an image'''\n",
        "    VARIABILITY = 25\n",
        "    deviation = VARIABILITY*random.random()\n",
        "    noise = np.random.normal(0, deviation, img.shape)\n",
        "    img += noise\n",
        "    np.clip(img, 0., 255.)\n",
        "    return img"
      ],
      "execution_count": 0,
      "outputs": []
    },
    {
      "cell_type": "code",
      "metadata": {
        "id": "LPZHgGHAWQWm",
        "colab_type": "code",
        "colab": {}
      },
      "source": [
        "datagen = ImageDataGenerator(rotation_range = 15, horizontal_flip = True, width_shift_range = 0.1, height_shift_range = 0.1, zoom_range = 0.2, shear_range = 15, preprocessing_function=add_noise )\n"
      ],
      "execution_count": 0,
      "outputs": []
    },
    {
      "cell_type": "code",
      "metadata": {
        "id": "0GKbY-mvWQds",
        "colab_type": "code",
        "colab": {}
      },
      "source": [
        "def create_conv_autoencoder_model(encoder_layer_dims=[32,64,128], compression_layer_dim=64, decoder_layer_dims=[32, 16, 1], input_shape=(28,28,1), ks=3,\n",
        "                 compression_flag=True ,batch_norm_flag=True, dense_latent_rep_flag=False, upsampling_flag = False):\n",
        "  model = models.Sequential()\n",
        "  \n",
        "  #Build encoder part, add batch norm after encoder if batch norm flag is set to true\n",
        "  conv_enc_base_name = \"conv_enc_\"\n",
        "  conv_cmprsn_base_name = \"conv_compress_dims\"\n",
        "  conv_dec_base_name = \"conv_dec_\"\n",
        "  for i in range (len(encoder_layer_dims)):\n",
        "    #For first layer we need to specify shape\n",
        "    if(i == 0):\n",
        "      model.add(layers.Conv2D(filters = encoder_layer_dims[i], kernel_size=(ks, ks),  padding = \"same\", \n",
        "                              activation=tf.nn.relu, name = conv_enc_base_name + str(i), input_shape = input_shape))\n",
        "      if(batch_norm_flag):\n",
        "        model.add(layers.BatchNormalization()) \n",
        "\n",
        "      model.add(layers.MaxPool2D(pool_size=(2,2)))\n",
        "    else:\n",
        "      model.add(layers.Conv2D(filters = encoder_layer_dims[i], kernel_size=(ks, ks),  padding = \"same\", \n",
        "                              activation=tf.nn.relu, name = conv_enc_base_name + str(i)))\n",
        "      \n",
        "      if(batch_norm_flag):\n",
        "        model.add(layers.BatchNormalization()) \n",
        "\n",
        "      model.add(layers.MaxPool2D(pool_size=(2,2)))\n",
        "  \n",
        "  print(\"Encoder has been built, checking for compression flag\")\n",
        "\n",
        "  if(compression_flag):\n",
        "    model.add(layers.Conv2D(filters = compression_layer_dim, kernel_size=(1, 1),  padding = \"same\", activation = tf.nn.relu, name = conv_cmprsn_base_name))\n",
        "\n",
        "  # With one-d dense representation is hardcoded for this one casem without this we can pick dynamically\n",
        "  if(dense_latent_rep_flag):\n",
        "    model.add(layers.Flatten())\n",
        "    model.add(layers.Dense(256,activation=tf.nn.relu))\n",
        "    model.add(layers.Dense(64,activation=tf.nn.leaky_relu))\n",
        "    model.add(layers.Dense(252,activation=tf.nn.relu))\n",
        "    model.add(layers.Reshape((3, 3, 28), input_shape=(252,)))\n",
        "\n",
        "  print(\"FC layer added, printing model summary\")\n",
        "\n",
        "  #print(model.summary())\n",
        "  #Build Decoder , add batch norm before adding conv transpose, Use sigmoid at final layer and relu for others\n",
        "  if(upsampling_flag == False):\n",
        "    for i in range (len(decoder_layer_dims)):\n",
        "      if(i == 0):\n",
        "        if(batch_norm_flag):\n",
        "          model.add(layers.BatchNormalization()) \n",
        "\n",
        "        model.add(layers.Conv2DTranspose(filters = decoder_layer_dims[i], kernel_size=(ks, ks),  strides=(2,2), padding = \"valid\", \n",
        "                                  activation=tf.nn.relu, name = conv_dec_base_name + str(i)))\n",
        "        \n",
        "      elif(i < len(decoder_layer_dims)-1 and i > 0):\n",
        "\n",
        "        if(batch_norm_flag):\n",
        "          model.add(layers.BatchNormalization()) \n",
        "\n",
        "        model.add(layers.Conv2DTranspose(filters = decoder_layer_dims[i], kernel_size=(ks, ks),  strides=(2,2), padding = \"same\", \n",
        "                                  activation=tf.nn.relu, name = conv_dec_base_name + str(i)))\n",
        "      else:\n",
        "        if(batch_norm_flag):\n",
        "          model.add(layers.BatchNormalization())  \n",
        "\n",
        "        model.add(layers.Conv2DTranspose(filters = decoder_layer_dims[i], kernel_size=(ks, ks), strides=(2,2), padding = \"same\", \n",
        "                                  activation=tf.nn.sigmoid, name = conv_dec_base_name + str(i)))\n",
        "        \n",
        "  elif(upsampling_flag == True):\n",
        "      print(\"Upscaling with convolution choosen\")\n",
        "      for i in range (len(decoder_layer_dims)):\n",
        "        if(i == 0):\n",
        "          model.add(layers.UpSampling2D(size=(3, 3)))\n",
        "          if(batch_norm_flag):\n",
        "            model.add(layers.BatchNormalization()) \n",
        "\n",
        "          model.add(layers.Conv2D(filters = decoder_layer_dims[i], kernel_size=(ks, ks), padding = \"valid\", activation=tf.nn.relu, name = conv_dec_base_name + str(i)))\n",
        "          model.add(layers.UpSampling2D())\n",
        "\n",
        "        elif(i < len(decoder_layer_dims)-1 and i > 0):\n",
        "\n",
        "          if(batch_norm_flag):\n",
        "            model.add(layers.BatchNormalization()) \n",
        "\n",
        "          model.add(layers.Conv2D(filters = decoder_layer_dims[i], kernel_size=(ks, ks), padding = \"same\", activation=tf.nn.relu, name = conv_dec_base_name + str(i)))\n",
        "          model.add(layers.UpSampling2D())\n",
        "        else:\n",
        "          if(batch_norm_flag):\n",
        "            model.add(layers.BatchNormalization())  \n",
        "\n",
        "          model.add(layers.Conv2D(filters = decoder_layer_dims[i], kernel_size=(ks, ks),  padding = \"same\", activation=tf.nn.sigmoid, name = conv_dec_base_name + str(i)))\n",
        "        \n",
        "  print(\"Model has been built, printing summary\")\n",
        "  \n",
        "  print(model.summary())\n",
        "  return model;"
      ],
      "execution_count": 0,
      "outputs": []
    },
    {
      "cell_type": "code",
      "metadata": {
        "id": "mT7N9-PaWQkG",
        "colab_type": "code",
        "outputId": "0c536753-1ddb-42cb-e84d-f54b24259f0d",
        "colab": {
          "base_uri": "https://localhost:8080/",
          "height": 1000
        }
      },
      "source": [
        "conv_model_with_fc = create_conv_autoencoder_model(dense_latent_rep_flag=True)\n",
        "conv_model_with_fc.summary()"
      ],
      "execution_count": 0,
      "outputs": [
        {
          "output_type": "stream",
          "text": [
            "Encoder has been built, checking for compression flag\n",
            "FC layer added, printing model summary\n",
            "Model has been built, printing summary\n",
            "Model: \"sequential_1\"\n",
            "_________________________________________________________________\n",
            "Layer (type)                 Output Shape              Param #   \n",
            "=================================================================\n",
            "conv_enc_0 (Conv2D)          (None, 28, 28, 32)        320       \n",
            "_________________________________________________________________\n",
            "batch_normalization_6 (Batch (None, 28, 28, 32)        128       \n",
            "_________________________________________________________________\n",
            "max_pooling2d_3 (MaxPooling2 (None, 14, 14, 32)        0         \n",
            "_________________________________________________________________\n",
            "conv_enc_1 (Conv2D)          (None, 14, 14, 64)        18496     \n",
            "_________________________________________________________________\n",
            "batch_normalization_7 (Batch (None, 14, 14, 64)        256       \n",
            "_________________________________________________________________\n",
            "max_pooling2d_4 (MaxPooling2 (None, 7, 7, 64)          0         \n",
            "_________________________________________________________________\n",
            "conv_enc_2 (Conv2D)          (None, 7, 7, 128)         73856     \n",
            "_________________________________________________________________\n",
            "batch_normalization_8 (Batch (None, 7, 7, 128)         512       \n",
            "_________________________________________________________________\n",
            "max_pooling2d_5 (MaxPooling2 (None, 3, 3, 128)         0         \n",
            "_________________________________________________________________\n",
            "conv_compress_dims (Conv2D)  (None, 3, 3, 64)          8256      \n",
            "_________________________________________________________________\n",
            "flatten_1 (Flatten)          (None, 576)               0         \n",
            "_________________________________________________________________\n",
            "dense_3 (Dense)              (None, 256)               147712    \n",
            "_________________________________________________________________\n",
            "dense_4 (Dense)              (None, 64)                16448     \n",
            "_________________________________________________________________\n",
            "dense_5 (Dense)              (None, 252)               16380     \n",
            "_________________________________________________________________\n",
            "reshape_1 (Reshape)          (None, 3, 3, 28)          0         \n",
            "_________________________________________________________________\n",
            "batch_normalization_9 (Batch (None, 3, 3, 28)          112       \n",
            "_________________________________________________________________\n",
            "conv_dec_0 (Conv2DTranspose) (None, 7, 7, 32)          8096      \n",
            "_________________________________________________________________\n",
            "batch_normalization_10 (Batc (None, 7, 7, 32)          128       \n",
            "_________________________________________________________________\n",
            "conv_dec_1 (Conv2DTranspose) (None, 14, 14, 16)        4624      \n",
            "_________________________________________________________________\n",
            "batch_normalization_11 (Batc (None, 14, 14, 16)        64        \n",
            "_________________________________________________________________\n",
            "conv_dec_2 (Conv2DTranspose) (None, 28, 28, 1)         145       \n",
            "=================================================================\n",
            "Total params: 295,533\n",
            "Trainable params: 294,933\n",
            "Non-trainable params: 600\n",
            "_________________________________________________________________\n",
            "None\n",
            "Model: \"sequential_1\"\n",
            "_________________________________________________________________\n",
            "Layer (type)                 Output Shape              Param #   \n",
            "=================================================================\n",
            "conv_enc_0 (Conv2D)          (None, 28, 28, 32)        320       \n",
            "_________________________________________________________________\n",
            "batch_normalization_6 (Batch (None, 28, 28, 32)        128       \n",
            "_________________________________________________________________\n",
            "max_pooling2d_3 (MaxPooling2 (None, 14, 14, 32)        0         \n",
            "_________________________________________________________________\n",
            "conv_enc_1 (Conv2D)          (None, 14, 14, 64)        18496     \n",
            "_________________________________________________________________\n",
            "batch_normalization_7 (Batch (None, 14, 14, 64)        256       \n",
            "_________________________________________________________________\n",
            "max_pooling2d_4 (MaxPooling2 (None, 7, 7, 64)          0         \n",
            "_________________________________________________________________\n",
            "conv_enc_2 (Conv2D)          (None, 7, 7, 128)         73856     \n",
            "_________________________________________________________________\n",
            "batch_normalization_8 (Batch (None, 7, 7, 128)         512       \n",
            "_________________________________________________________________\n",
            "max_pooling2d_5 (MaxPooling2 (None, 3, 3, 128)         0         \n",
            "_________________________________________________________________\n",
            "conv_compress_dims (Conv2D)  (None, 3, 3, 64)          8256      \n",
            "_________________________________________________________________\n",
            "flatten_1 (Flatten)          (None, 576)               0         \n",
            "_________________________________________________________________\n",
            "dense_3 (Dense)              (None, 256)               147712    \n",
            "_________________________________________________________________\n",
            "dense_4 (Dense)              (None, 64)                16448     \n",
            "_________________________________________________________________\n",
            "dense_5 (Dense)              (None, 252)               16380     \n",
            "_________________________________________________________________\n",
            "reshape_1 (Reshape)          (None, 3, 3, 28)          0         \n",
            "_________________________________________________________________\n",
            "batch_normalization_9 (Batch (None, 3, 3, 28)          112       \n",
            "_________________________________________________________________\n",
            "conv_dec_0 (Conv2DTranspose) (None, 7, 7, 32)          8096      \n",
            "_________________________________________________________________\n",
            "batch_normalization_10 (Batc (None, 7, 7, 32)          128       \n",
            "_________________________________________________________________\n",
            "conv_dec_1 (Conv2DTranspose) (None, 14, 14, 16)        4624      \n",
            "_________________________________________________________________\n",
            "batch_normalization_11 (Batc (None, 14, 14, 16)        64        \n",
            "_________________________________________________________________\n",
            "conv_dec_2 (Conv2DTranspose) (None, 28, 28, 1)         145       \n",
            "=================================================================\n",
            "Total params: 295,533\n",
            "Trainable params: 294,933\n",
            "Non-trainable params: 600\n",
            "_________________________________________________________________\n"
          ],
          "name": "stdout"
        }
      ]
    },
    {
      "cell_type": "code",
      "metadata": {
        "id": "KvaaXpzCWQqm",
        "colab_type": "code",
        "colab": {}
      },
      "source": [
        "conv_model_with_fc.compile(optimizer=\"adam\", loss=tf.keras.losses.MeanAbsoluteError(), metrics=[\"accuracy\"])"
      ],
      "execution_count": 0,
      "outputs": []
    },
    {
      "cell_type": "code",
      "metadata": {
        "id": "KQauJldCWQou",
        "colab_type": "code",
        "outputId": "a04e2a6e-1813-4fc9-da14-3b639297b723",
        "colab": {
          "base_uri": "https://localhost:8080/",
          "height": 52
        }
      },
      "source": [
        "x = tf.expand_dims(train_images_raw.astype(np.float32)/255.0 , -1)\n",
        "y = tf.expand_dims(train_images_raw.astype(np.float32)/255.0, -1)\n",
        "print(x.shape)\n",
        "print(x.dtype)"
      ],
      "execution_count": 0,
      "outputs": [
        {
          "output_type": "stream",
          "text": [
            "(60000, 28, 28, 1)\n",
            "<dtype: 'float32'>\n"
          ],
          "name": "stdout"
        }
      ]
    },
    {
      "cell_type": "code",
      "metadata": {
        "id": "csboTMzyWQiY",
        "colab_type": "code",
        "colab": {}
      },
      "source": [
        "#conv_model_with_fc.fit(x=x, y=y, epochs=7)"
      ],
      "execution_count": 0,
      "outputs": []
    },
    {
      "cell_type": "code",
      "metadata": {
        "id": "ExSKuaJzbNL1",
        "colab_type": "code",
        "colab": {}
      },
      "source": [
        "test_data = tf.expand_dims(test_images_raw.astype(np.float32)/255.0 , -1)\n",
        "#steps_per_epoch =  x.shape[0]/128,"
      ],
      "execution_count": 0,
      "outputs": []
    },
    {
      "cell_type": "code",
      "metadata": {
        "id": "LIvg7Tc_aK38",
        "colab_type": "code",
        "outputId": "49db6919-b1ea-4a67-dd22-4c0576a34a20",
        "colab": {
          "base_uri": "https://localhost:8080/",
          "height": 390
        }
      },
      "source": [
        "conv_model_with_fc.fit(datagen.flow(x, y, batch_size=128,shuffle=True), batch_size=128,  epochs = 10 ,validation_data =(test_data, test_data))"
      ],
      "execution_count": 0,
      "outputs": [
        {
          "output_type": "stream",
          "text": [
            "Epoch 1/10\n",
            "469/469 [==============================] - 35s 75ms/step - loss: 0.1471 - accuracy: 0.7639 - val_loss: 0.1431 - val_accuracy: 0.7629\n",
            "Epoch 2/10\n",
            "469/469 [==============================] - 35s 75ms/step - loss: 0.1309 - accuracy: 0.7934 - val_loss: 0.1276 - val_accuracy: 0.8070\n",
            "Epoch 3/10\n",
            "469/469 [==============================] - 35s 74ms/step - loss: 0.1261 - accuracy: 0.7997 - val_loss: 0.1325 - val_accuracy: 0.7802\n",
            "Epoch 4/10\n",
            "469/469 [==============================] - 34s 73ms/step - loss: 0.1253 - accuracy: 0.8004 - val_loss: 0.1247 - val_accuracy: 0.8045\n",
            "Epoch 5/10\n",
            "469/469 [==============================] - 35s 74ms/step - loss: 0.1248 - accuracy: 0.8002 - val_loss: 0.1194 - val_accuracy: 0.8013\n",
            "Epoch 6/10\n",
            "469/469 [==============================] - 35s 74ms/step - loss: 0.1246 - accuracy: 0.8003 - val_loss: 0.1175 - val_accuracy: 0.7950\n",
            "Epoch 7/10\n",
            "469/469 [==============================] - 35s 75ms/step - loss: 0.1244 - accuracy: 0.8003 - val_loss: 0.1159 - val_accuracy: 0.8034\n",
            "Epoch 8/10\n",
            "469/469 [==============================] - 35s 74ms/step - loss: 0.1243 - accuracy: 0.8003 - val_loss: 0.1167 - val_accuracy: 0.8021\n",
            "Epoch 9/10\n",
            "469/469 [==============================] - 35s 74ms/step - loss: 0.1239 - accuracy: 0.8004 - val_loss: 0.1110 - val_accuracy: 0.7946\n",
            "Epoch 10/10\n",
            "469/469 [==============================] - 36s 76ms/step - loss: 0.1239 - accuracy: 0.8005 - val_loss: 0.1134 - val_accuracy: 0.7874\n"
          ],
          "name": "stdout"
        },
        {
          "output_type": "execute_result",
          "data": {
            "text/plain": [
              "<tensorflow.python.keras.callbacks.History at 0x7fd3c77d2b00>"
            ]
          },
          "metadata": {
            "tags": []
          },
          "execution_count": 29
        }
      ]
    },
    {
      "cell_type": "code",
      "metadata": {
        "id": "s4O6LctxkNqH",
        "colab_type": "code",
        "colab": {}
      },
      "source": [
        "final_output = conv_model_with_fc.predict(test_data)"
      ],
      "execution_count": 0,
      "outputs": []
    },
    {
      "cell_type": "code",
      "metadata": {
        "id": "kE08RTgBka8H",
        "colab_type": "code",
        "outputId": "903830d1-e0f7-4ffb-a0ca-ea68a172090c",
        "colab": {
          "base_uri": "https://localhost:8080/",
          "height": 34
        }
      },
      "source": [
        "final_output.shape"
      ],
      "execution_count": 0,
      "outputs": [
        {
          "output_type": "execute_result",
          "data": {
            "text/plain": [
              "(10000, 28, 28, 1)"
            ]
          },
          "metadata": {
            "tags": []
          },
          "execution_count": 37
        }
      ]
    },
    {
      "cell_type": "code",
      "metadata": {
        "id": "vODPesnDbG_5",
        "colab_type": "code",
        "outputId": "3161fb1f-bb43-4162-fb23-2f6dc7ff42cb",
        "colab": {
          "base_uri": "https://localhost:8080/",
          "height": 232
        }
      },
      "source": [
        "conv_model_with_fc.save(\"/content/conv_model_with_fc_noise\")\n",
        "!zip -r /content/conv_model_with_fc_noise.zip /content/conv_model_with_fc_noise"
      ],
      "execution_count": 0,
      "outputs": [
        {
          "output_type": "stream",
          "text": [
            "WARNING:tensorflow:From /usr/local/lib/python3.6/dist-packages/tensorflow/python/ops/resource_variable_ops.py:1817: calling BaseResourceVariable.__init__ (from tensorflow.python.ops.resource_variable_ops) with constraint is deprecated and will be removed in a future version.\n",
            "Instructions for updating:\n",
            "If using Keras pass *_constraint arguments to layers.\n",
            "INFO:tensorflow:Assets written to: /content/conv_model_with_fc_noise/assets\n",
            "  adding: content/conv_model_with_fc_noise/ (stored 0%)\n",
            "  adding: content/conv_model_with_fc_noise/saved_model.pb (deflated 91%)\n",
            "  adding: content/conv_model_with_fc_noise/assets/ (stored 0%)\n",
            "  adding: content/conv_model_with_fc_noise/variables/ (stored 0%)\n",
            "  adding: content/conv_model_with_fc_noise/variables/variables.index (deflated 74%)\n",
            "  adding: content/conv_model_with_fc_noise/variables/variables.data-00000-of-00002 (deflated 83%)\n",
            "  adding: content/conv_model_with_fc_noise/variables/variables.data-00001-of-00002 (deflated 14%)\n"
          ],
          "name": "stdout"
        }
      ]
    },
    {
      "cell_type": "code",
      "metadata": {
        "id": "nZXQkF09WQbR",
        "colab_type": "code",
        "colab": {}
      },
      "source": [
        "#model_config1.fit(datagen.flow(x_train, y_train, batch_size), steps_per_epoch = 3*x_train.shape[0]/batch_size, \n",
        "#epochs = 10 ,validation_data =(x_test, y_test))"
      ],
      "execution_count": 0,
      "outputs": []
    },
    {
      "cell_type": "code",
      "metadata": {
        "id": "K_U1z85ziqj5",
        "colab_type": "code",
        "outputId": "31a3b5b6-53ae-4ce9-ba8b-009f30fc0a70",
        "colab": {
          "base_uri": "https://localhost:8080/",
          "height": 480
        }
      },
      "source": [
        "print(train_images_raw.shape)\n",
        "layer_name = 'dense_4'\n",
        "encoder_model_fc_noise = keras.Model(inputs=conv_model_with_fc.input, outputs=conv_model_with_fc.get_layer(layer_name).output)\n",
        "#intermediate_encoder_fc_noise_output = encoder_model_fc_noise(tf.expand_dims(train_images_raw.astype(np.float32)/255.0, -1))\n",
        "intermediate_encoder_fc_noise_output = encoder_model_fc_noise(train_images_raw.astype(np.float32))"
      ],
      "execution_count": 0,
      "outputs": [
        {
          "output_type": "stream",
          "text": [
            "(60000, 28, 28)\n"
          ],
          "name": "stdout"
        },
        {
          "output_type": "error",
          "ename": "ResourceExhaustedError",
          "evalue": "ignored",
          "traceback": [
            "\u001b[0;31m---------------------------------------------------------------------------\u001b[0m",
            "\u001b[0;31m_FallbackException\u001b[0m                        Traceback (most recent call last)",
            "\u001b[0;32m/usr/local/lib/python3.6/dist-packages/tensorflow/python/ops/gen_nn_ops.py\u001b[0m in \u001b[0;36mconv2d\u001b[0;34m(input, filter, strides, padding, use_cudnn_on_gpu, explicit_paddings, data_format, dilations, name)\u001b[0m\n\u001b[1;32m    925\u001b[0m         \u001b[0;34m\"explicit_paddings\"\u001b[0m\u001b[0;34m,\u001b[0m \u001b[0mexplicit_paddings\u001b[0m\u001b[0;34m,\u001b[0m \u001b[0;34m\"data_format\"\u001b[0m\u001b[0;34m,\u001b[0m \u001b[0mdata_format\u001b[0m\u001b[0;34m,\u001b[0m\u001b[0;34m\u001b[0m\u001b[0;34m\u001b[0m\u001b[0m\n\u001b[0;32m--> 926\u001b[0;31m         \"dilations\", dilations)\n\u001b[0m\u001b[1;32m    927\u001b[0m       \u001b[0;32mreturn\u001b[0m \u001b[0m_result\u001b[0m\u001b[0;34m\u001b[0m\u001b[0;34m\u001b[0m\u001b[0m\n",
            "\u001b[0;31m_FallbackException\u001b[0m: Expecting int64_t value for attr strides, got numpy.int32",
            "\nDuring handling of the above exception, another exception occurred:\n",
            "\u001b[0;31mResourceExhaustedError\u001b[0m                    Traceback (most recent call last)",
            "\u001b[0;32m<ipython-input-35-706c2fa6ba36>\u001b[0m in \u001b[0;36m<module>\u001b[0;34m()\u001b[0m\n\u001b[1;32m      3\u001b[0m \u001b[0mencoder_model_fc_noise\u001b[0m \u001b[0;34m=\u001b[0m \u001b[0mkeras\u001b[0m\u001b[0;34m.\u001b[0m\u001b[0mModel\u001b[0m\u001b[0;34m(\u001b[0m\u001b[0minputs\u001b[0m\u001b[0;34m=\u001b[0m\u001b[0mconv_model_with_fc\u001b[0m\u001b[0;34m.\u001b[0m\u001b[0minput\u001b[0m\u001b[0;34m,\u001b[0m \u001b[0moutputs\u001b[0m\u001b[0;34m=\u001b[0m\u001b[0mconv_model_with_fc\u001b[0m\u001b[0;34m.\u001b[0m\u001b[0mget_layer\u001b[0m\u001b[0;34m(\u001b[0m\u001b[0mlayer_name\u001b[0m\u001b[0;34m)\u001b[0m\u001b[0;34m.\u001b[0m\u001b[0moutput\u001b[0m\u001b[0;34m)\u001b[0m\u001b[0;34m\u001b[0m\u001b[0;34m\u001b[0m\u001b[0m\n\u001b[1;32m      4\u001b[0m \u001b[0;31m#intermediate_encoder_fc_noise_output = encoder_model_fc_noise(tf.expand_dims(train_images_raw.astype(np.float32)/255.0, -1))\u001b[0m\u001b[0;34m\u001b[0m\u001b[0;34m\u001b[0m\u001b[0;34m\u001b[0m\u001b[0m\n\u001b[0;32m----> 5\u001b[0;31m \u001b[0mintermediate_encoder_fc_noise_output\u001b[0m \u001b[0;34m=\u001b[0m \u001b[0mencoder_model_fc_noise\u001b[0m\u001b[0;34m(\u001b[0m\u001b[0mtrain_images_raw\u001b[0m\u001b[0;34m.\u001b[0m\u001b[0mastype\u001b[0m\u001b[0;34m(\u001b[0m\u001b[0mnp\u001b[0m\u001b[0;34m.\u001b[0m\u001b[0mfloat32\u001b[0m\u001b[0;34m)\u001b[0m\u001b[0;34m)\u001b[0m\u001b[0;34m\u001b[0m\u001b[0;34m\u001b[0m\u001b[0m\n\u001b[0m",
            "\u001b[0;32m/usr/local/lib/python3.6/dist-packages/tensorflow/python/keras/engine/base_layer.py\u001b[0m in \u001b[0;36m__call__\u001b[0;34m(self, *args, **kwargs)\u001b[0m\n\u001b[1;32m    966\u001b[0m           with base_layer_utils.autocast_context_manager(\n\u001b[1;32m    967\u001b[0m               self._compute_dtype):\n\u001b[0;32m--> 968\u001b[0;31m             \u001b[0moutputs\u001b[0m \u001b[0;34m=\u001b[0m \u001b[0mself\u001b[0m\u001b[0;34m.\u001b[0m\u001b[0mcall\u001b[0m\u001b[0;34m(\u001b[0m\u001b[0mcast_inputs\u001b[0m\u001b[0;34m,\u001b[0m \u001b[0;34m*\u001b[0m\u001b[0margs\u001b[0m\u001b[0;34m,\u001b[0m \u001b[0;34m**\u001b[0m\u001b[0mkwargs\u001b[0m\u001b[0;34m)\u001b[0m\u001b[0;34m\u001b[0m\u001b[0;34m\u001b[0m\u001b[0m\n\u001b[0m\u001b[1;32m    969\u001b[0m           \u001b[0mself\u001b[0m\u001b[0;34m.\u001b[0m\u001b[0m_handle_activity_regularization\u001b[0m\u001b[0;34m(\u001b[0m\u001b[0minputs\u001b[0m\u001b[0;34m,\u001b[0m \u001b[0moutputs\u001b[0m\u001b[0;34m)\u001b[0m\u001b[0;34m\u001b[0m\u001b[0;34m\u001b[0m\u001b[0m\n\u001b[1;32m    970\u001b[0m           \u001b[0mself\u001b[0m\u001b[0;34m.\u001b[0m\u001b[0m_set_mask_metadata\u001b[0m\u001b[0;34m(\u001b[0m\u001b[0minputs\u001b[0m\u001b[0;34m,\u001b[0m \u001b[0moutputs\u001b[0m\u001b[0;34m,\u001b[0m \u001b[0minput_masks\u001b[0m\u001b[0;34m)\u001b[0m\u001b[0;34m\u001b[0m\u001b[0;34m\u001b[0m\u001b[0m\n",
            "\u001b[0;32m/usr/local/lib/python3.6/dist-packages/tensorflow/python/keras/engine/network.py\u001b[0m in \u001b[0;36mcall\u001b[0;34m(self, inputs, training, mask)\u001b[0m\n\u001b[1;32m    717\u001b[0m     return self._run_internal_graph(\n\u001b[1;32m    718\u001b[0m         \u001b[0minputs\u001b[0m\u001b[0;34m,\u001b[0m \u001b[0mtraining\u001b[0m\u001b[0;34m=\u001b[0m\u001b[0mtraining\u001b[0m\u001b[0;34m,\u001b[0m \u001b[0mmask\u001b[0m\u001b[0;34m=\u001b[0m\u001b[0mmask\u001b[0m\u001b[0;34m,\u001b[0m\u001b[0;34m\u001b[0m\u001b[0;34m\u001b[0m\u001b[0m\n\u001b[0;32m--> 719\u001b[0;31m         convert_kwargs_to_constants=base_layer_utils.call_context().saving)\n\u001b[0m\u001b[1;32m    720\u001b[0m \u001b[0;34m\u001b[0m\u001b[0m\n\u001b[1;32m    721\u001b[0m   \u001b[0;32mdef\u001b[0m \u001b[0mcompute_output_shape\u001b[0m\u001b[0;34m(\u001b[0m\u001b[0mself\u001b[0m\u001b[0;34m,\u001b[0m \u001b[0minput_shape\u001b[0m\u001b[0;34m)\u001b[0m\u001b[0;34m:\u001b[0m\u001b[0;34m\u001b[0m\u001b[0;34m\u001b[0m\u001b[0m\n",
            "\u001b[0;32m/usr/local/lib/python3.6/dist-packages/tensorflow/python/keras/engine/network.py\u001b[0m in \u001b[0;36m_run_internal_graph\u001b[0;34m(self, inputs, training, mask, convert_kwargs_to_constants)\u001b[0m\n\u001b[1;32m    886\u001b[0m \u001b[0;34m\u001b[0m\u001b[0m\n\u001b[1;32m    887\u001b[0m           \u001b[0;31m# Compute outputs.\u001b[0m\u001b[0;34m\u001b[0m\u001b[0;34m\u001b[0m\u001b[0;34m\u001b[0m\u001b[0m\n\u001b[0;32m--> 888\u001b[0;31m           \u001b[0moutput_tensors\u001b[0m \u001b[0;34m=\u001b[0m \u001b[0mlayer\u001b[0m\u001b[0;34m(\u001b[0m\u001b[0mcomputed_tensors\u001b[0m\u001b[0;34m,\u001b[0m \u001b[0;34m**\u001b[0m\u001b[0mkwargs\u001b[0m\u001b[0;34m)\u001b[0m\u001b[0;34m\u001b[0m\u001b[0;34m\u001b[0m\u001b[0m\n\u001b[0m\u001b[1;32m    889\u001b[0m \u001b[0;34m\u001b[0m\u001b[0m\n\u001b[1;32m    890\u001b[0m           \u001b[0;31m# Update tensor_dict.\u001b[0m\u001b[0;34m\u001b[0m\u001b[0;34m\u001b[0m\u001b[0;34m\u001b[0m\u001b[0m\n",
            "\u001b[0;32m/usr/local/lib/python3.6/dist-packages/tensorflow/python/keras/engine/base_layer.py\u001b[0m in \u001b[0;36m__call__\u001b[0;34m(self, *args, **kwargs)\u001b[0m\n\u001b[1;32m    966\u001b[0m           with base_layer_utils.autocast_context_manager(\n\u001b[1;32m    967\u001b[0m               self._compute_dtype):\n\u001b[0;32m--> 968\u001b[0;31m             \u001b[0moutputs\u001b[0m \u001b[0;34m=\u001b[0m \u001b[0mself\u001b[0m\u001b[0;34m.\u001b[0m\u001b[0mcall\u001b[0m\u001b[0;34m(\u001b[0m\u001b[0mcast_inputs\u001b[0m\u001b[0;34m,\u001b[0m \u001b[0;34m*\u001b[0m\u001b[0margs\u001b[0m\u001b[0;34m,\u001b[0m \u001b[0;34m**\u001b[0m\u001b[0mkwargs\u001b[0m\u001b[0;34m)\u001b[0m\u001b[0;34m\u001b[0m\u001b[0;34m\u001b[0m\u001b[0m\n\u001b[0m\u001b[1;32m    969\u001b[0m           \u001b[0mself\u001b[0m\u001b[0;34m.\u001b[0m\u001b[0m_handle_activity_regularization\u001b[0m\u001b[0;34m(\u001b[0m\u001b[0minputs\u001b[0m\u001b[0;34m,\u001b[0m \u001b[0moutputs\u001b[0m\u001b[0;34m)\u001b[0m\u001b[0;34m\u001b[0m\u001b[0;34m\u001b[0m\u001b[0m\n\u001b[1;32m    970\u001b[0m           \u001b[0mself\u001b[0m\u001b[0;34m.\u001b[0m\u001b[0m_set_mask_metadata\u001b[0m\u001b[0;34m(\u001b[0m\u001b[0minputs\u001b[0m\u001b[0;34m,\u001b[0m \u001b[0moutputs\u001b[0m\u001b[0;34m,\u001b[0m \u001b[0minput_masks\u001b[0m\u001b[0;34m)\u001b[0m\u001b[0;34m\u001b[0m\u001b[0;34m\u001b[0m\u001b[0m\n",
            "\u001b[0;32m/usr/local/lib/python3.6/dist-packages/tensorflow/python/keras/layers/convolutional.py\u001b[0m in \u001b[0;36mcall\u001b[0;34m(self, inputs)\u001b[0m\n\u001b[1;32m    205\u001b[0m       \u001b[0minputs\u001b[0m \u001b[0;34m=\u001b[0m \u001b[0marray_ops\u001b[0m\u001b[0;34m.\u001b[0m\u001b[0mpad\u001b[0m\u001b[0;34m(\u001b[0m\u001b[0minputs\u001b[0m\u001b[0;34m,\u001b[0m \u001b[0mself\u001b[0m\u001b[0;34m.\u001b[0m\u001b[0m_compute_causal_padding\u001b[0m\u001b[0;34m(\u001b[0m\u001b[0;34m)\u001b[0m\u001b[0;34m)\u001b[0m\u001b[0;34m\u001b[0m\u001b[0;34m\u001b[0m\u001b[0m\n\u001b[1;32m    206\u001b[0m \u001b[0;34m\u001b[0m\u001b[0m\n\u001b[0;32m--> 207\u001b[0;31m     \u001b[0moutputs\u001b[0m \u001b[0;34m=\u001b[0m \u001b[0mself\u001b[0m\u001b[0;34m.\u001b[0m\u001b[0m_convolution_op\u001b[0m\u001b[0;34m(\u001b[0m\u001b[0minputs\u001b[0m\u001b[0;34m,\u001b[0m \u001b[0mself\u001b[0m\u001b[0;34m.\u001b[0m\u001b[0mkernel\u001b[0m\u001b[0;34m)\u001b[0m\u001b[0;34m\u001b[0m\u001b[0;34m\u001b[0m\u001b[0m\n\u001b[0m\u001b[1;32m    208\u001b[0m \u001b[0;34m\u001b[0m\u001b[0m\n\u001b[1;32m    209\u001b[0m     \u001b[0;32mif\u001b[0m \u001b[0mself\u001b[0m\u001b[0;34m.\u001b[0m\u001b[0muse_bias\u001b[0m\u001b[0;34m:\u001b[0m\u001b[0;34m\u001b[0m\u001b[0;34m\u001b[0m\u001b[0m\n",
            "\u001b[0;32m/usr/local/lib/python3.6/dist-packages/tensorflow/python/ops/nn_ops.py\u001b[0m in \u001b[0;36m__call__\u001b[0;34m(self, inp, filter)\u001b[0m\n\u001b[1;32m   1104\u001b[0m           call_from_convolution=False)\n\u001b[1;32m   1105\u001b[0m     \u001b[0;32melse\u001b[0m\u001b[0;34m:\u001b[0m\u001b[0;34m\u001b[0m\u001b[0;34m\u001b[0m\u001b[0m\n\u001b[0;32m-> 1106\u001b[0;31m       \u001b[0;32mreturn\u001b[0m \u001b[0mself\u001b[0m\u001b[0;34m.\u001b[0m\u001b[0mconv_op\u001b[0m\u001b[0;34m(\u001b[0m\u001b[0minp\u001b[0m\u001b[0;34m,\u001b[0m \u001b[0mfilter\u001b[0m\u001b[0;34m)\u001b[0m\u001b[0;34m\u001b[0m\u001b[0;34m\u001b[0m\u001b[0m\n\u001b[0m\u001b[1;32m   1107\u001b[0m \u001b[0;34m\u001b[0m\u001b[0m\n\u001b[1;32m   1108\u001b[0m \u001b[0;34m\u001b[0m\u001b[0m\n",
            "\u001b[0;32m/usr/local/lib/python3.6/dist-packages/tensorflow/python/ops/nn_ops.py\u001b[0m in \u001b[0;36m__call__\u001b[0;34m(self, inp, filter)\u001b[0m\n\u001b[1;32m    636\u001b[0m \u001b[0;34m\u001b[0m\u001b[0m\n\u001b[1;32m    637\u001b[0m   \u001b[0;32mdef\u001b[0m \u001b[0m__call__\u001b[0m\u001b[0;34m(\u001b[0m\u001b[0mself\u001b[0m\u001b[0;34m,\u001b[0m \u001b[0minp\u001b[0m\u001b[0;34m,\u001b[0m \u001b[0mfilter\u001b[0m\u001b[0;34m)\u001b[0m\u001b[0;34m:\u001b[0m  \u001b[0;31m# pylint: disable=redefined-builtin\u001b[0m\u001b[0;34m\u001b[0m\u001b[0;34m\u001b[0m\u001b[0m\n\u001b[0;32m--> 638\u001b[0;31m     \u001b[0;32mreturn\u001b[0m \u001b[0mself\u001b[0m\u001b[0;34m.\u001b[0m\u001b[0mcall\u001b[0m\u001b[0;34m(\u001b[0m\u001b[0minp\u001b[0m\u001b[0;34m,\u001b[0m \u001b[0mfilter\u001b[0m\u001b[0;34m)\u001b[0m\u001b[0;34m\u001b[0m\u001b[0;34m\u001b[0m\u001b[0m\n\u001b[0m\u001b[1;32m    639\u001b[0m \u001b[0;34m\u001b[0m\u001b[0m\n\u001b[1;32m    640\u001b[0m \u001b[0;34m\u001b[0m\u001b[0m\n",
            "\u001b[0;32m/usr/local/lib/python3.6/dist-packages/tensorflow/python/ops/nn_ops.py\u001b[0m in \u001b[0;36m__call__\u001b[0;34m(self, inp, filter)\u001b[0m\n\u001b[1;32m    235\u001b[0m         \u001b[0mpadding\u001b[0m\u001b[0;34m=\u001b[0m\u001b[0mself\u001b[0m\u001b[0;34m.\u001b[0m\u001b[0mpadding\u001b[0m\u001b[0;34m,\u001b[0m\u001b[0;34m\u001b[0m\u001b[0;34m\u001b[0m\u001b[0m\n\u001b[1;32m    236\u001b[0m         \u001b[0mdata_format\u001b[0m\u001b[0;34m=\u001b[0m\u001b[0mself\u001b[0m\u001b[0;34m.\u001b[0m\u001b[0mdata_format\u001b[0m\u001b[0;34m,\u001b[0m\u001b[0;34m\u001b[0m\u001b[0;34m\u001b[0m\u001b[0m\n\u001b[0;32m--> 237\u001b[0;31m         name=self.name)\n\u001b[0m\u001b[1;32m    238\u001b[0m \u001b[0;34m\u001b[0m\u001b[0m\n\u001b[1;32m    239\u001b[0m \u001b[0;34m\u001b[0m\u001b[0m\n",
            "\u001b[0;32m/usr/local/lib/python3.6/dist-packages/tensorflow/python/ops/nn_ops.py\u001b[0m in \u001b[0;36mconv2d\u001b[0;34m(input, filter, strides, padding, use_cudnn_on_gpu, data_format, dilations, name, filters)\u001b[0m\n\u001b[1;32m   2012\u001b[0m                            \u001b[0mdata_format\u001b[0m\u001b[0;34m=\u001b[0m\u001b[0mdata_format\u001b[0m\u001b[0;34m,\u001b[0m\u001b[0;34m\u001b[0m\u001b[0;34m\u001b[0m\u001b[0m\n\u001b[1;32m   2013\u001b[0m                            \u001b[0mdilations\u001b[0m\u001b[0;34m=\u001b[0m\u001b[0mdilations\u001b[0m\u001b[0;34m,\u001b[0m\u001b[0;34m\u001b[0m\u001b[0;34m\u001b[0m\u001b[0m\n\u001b[0;32m-> 2014\u001b[0;31m                            name=name)\n\u001b[0m\u001b[1;32m   2015\u001b[0m \u001b[0;34m\u001b[0m\u001b[0m\n\u001b[1;32m   2016\u001b[0m \u001b[0;34m\u001b[0m\u001b[0m\n",
            "\u001b[0;32m/usr/local/lib/python3.6/dist-packages/tensorflow/python/ops/gen_nn_ops.py\u001b[0m in \u001b[0;36mconv2d\u001b[0;34m(input, filter, strides, padding, use_cudnn_on_gpu, explicit_paddings, data_format, dilations, name)\u001b[0m\n\u001b[1;32m    931\u001b[0m             \u001b[0minput\u001b[0m\u001b[0;34m,\u001b[0m \u001b[0mfilter\u001b[0m\u001b[0;34m,\u001b[0m \u001b[0mstrides\u001b[0m\u001b[0;34m=\u001b[0m\u001b[0mstrides\u001b[0m\u001b[0;34m,\u001b[0m \u001b[0muse_cudnn_on_gpu\u001b[0m\u001b[0;34m=\u001b[0m\u001b[0muse_cudnn_on_gpu\u001b[0m\u001b[0;34m,\u001b[0m\u001b[0;34m\u001b[0m\u001b[0;34m\u001b[0m\u001b[0m\n\u001b[1;32m    932\u001b[0m             \u001b[0mpadding\u001b[0m\u001b[0;34m=\u001b[0m\u001b[0mpadding\u001b[0m\u001b[0;34m,\u001b[0m \u001b[0mexplicit_paddings\u001b[0m\u001b[0;34m=\u001b[0m\u001b[0mexplicit_paddings\u001b[0m\u001b[0;34m,\u001b[0m\u001b[0;34m\u001b[0m\u001b[0;34m\u001b[0m\u001b[0m\n\u001b[0;32m--> 933\u001b[0;31m             data_format=data_format, dilations=dilations, name=name, ctx=_ctx)\n\u001b[0m\u001b[1;32m    934\u001b[0m       \u001b[0;32mexcept\u001b[0m \u001b[0m_core\u001b[0m\u001b[0;34m.\u001b[0m\u001b[0m_SymbolicException\u001b[0m\u001b[0;34m:\u001b[0m\u001b[0;34m\u001b[0m\u001b[0;34m\u001b[0m\u001b[0m\n\u001b[1;32m    935\u001b[0m         \u001b[0;32mpass\u001b[0m  \u001b[0;31m# Add nodes to the TensorFlow graph.\u001b[0m\u001b[0;34m\u001b[0m\u001b[0;34m\u001b[0m\u001b[0m\n",
            "\u001b[0;32m/usr/local/lib/python3.6/dist-packages/tensorflow/python/ops/gen_nn_ops.py\u001b[0m in \u001b[0;36mconv2d_eager_fallback\u001b[0;34m(input, filter, strides, padding, use_cudnn_on_gpu, explicit_paddings, data_format, dilations, name, ctx)\u001b[0m\n\u001b[1;32m   1020\u001b[0m   explicit_paddings, \"data_format\", data_format, \"dilations\", dilations)\n\u001b[1;32m   1021\u001b[0m   _result = _execute.execute(b\"Conv2D\", 1, inputs=_inputs_flat, attrs=_attrs,\n\u001b[0;32m-> 1022\u001b[0;31m                              ctx=ctx, name=name)\n\u001b[0m\u001b[1;32m   1023\u001b[0m   \u001b[0;32mif\u001b[0m \u001b[0m_execute\u001b[0m\u001b[0;34m.\u001b[0m\u001b[0mmust_record_gradient\u001b[0m\u001b[0;34m(\u001b[0m\u001b[0;34m)\u001b[0m\u001b[0;34m:\u001b[0m\u001b[0;34m\u001b[0m\u001b[0;34m\u001b[0m\u001b[0m\n\u001b[1;32m   1024\u001b[0m     _execute.record_gradient(\n",
            "\u001b[0;32m/usr/local/lib/python3.6/dist-packages/tensorflow/python/eager/execute.py\u001b[0m in \u001b[0;36mquick_execute\u001b[0;34m(op_name, num_outputs, inputs, attrs, ctx, name)\u001b[0m\n\u001b[1;32m     58\u001b[0m     \u001b[0mctx\u001b[0m\u001b[0;34m.\u001b[0m\u001b[0mensure_initialized\u001b[0m\u001b[0;34m(\u001b[0m\u001b[0;34m)\u001b[0m\u001b[0;34m\u001b[0m\u001b[0;34m\u001b[0m\u001b[0m\n\u001b[1;32m     59\u001b[0m     tensors = pywrap_tfe.TFE_Py_Execute(ctx._handle, device_name, op_name,\n\u001b[0;32m---> 60\u001b[0;31m                                         inputs, attrs, num_outputs)\n\u001b[0m\u001b[1;32m     61\u001b[0m   \u001b[0;32mexcept\u001b[0m \u001b[0mcore\u001b[0m\u001b[0;34m.\u001b[0m\u001b[0m_NotOkStatusException\u001b[0m \u001b[0;32mas\u001b[0m \u001b[0me\u001b[0m\u001b[0;34m:\u001b[0m\u001b[0;34m\u001b[0m\u001b[0;34m\u001b[0m\u001b[0m\n\u001b[1;32m     62\u001b[0m     \u001b[0;32mif\u001b[0m \u001b[0mname\u001b[0m \u001b[0;32mis\u001b[0m \u001b[0;32mnot\u001b[0m \u001b[0;32mNone\u001b[0m\u001b[0;34m:\u001b[0m\u001b[0;34m\u001b[0m\u001b[0;34m\u001b[0m\u001b[0m\n",
            "\u001b[0;31mResourceExhaustedError\u001b[0m: OOM when allocating tensor with shape[60000,32,28,28] and type float on /job:localhost/replica:0/task:0/device:GPU:0 by allocator GPU_0_bfc [Op:Conv2D]"
          ]
        }
      ]
    }
  ]
}