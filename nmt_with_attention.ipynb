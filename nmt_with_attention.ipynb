{
  "nbformat": 4,
  "nbformat_minor": 0,
  "metadata": {
    "accelerator": "GPU",
    "colab": {
      "name": "nmt_with_attention.ipynb",
      "provenance": [],
      "collapsed_sections": [
        "ZOHDgy_HnxgM",
        "J0Qjg6vuaHNt",
        "3sDnKUx4H0VI",
        "lDPuMf0OHmpa",
        "aHkONf09GyP_",
        "gpjJ0BJRG6dC",
        "_ch_71VbIRfK",
        "DMVWzzsfNl4e",
        "hhXR8MJkGiC7",
        "S0d-WnrZfY4F",
        "UjLVZ5HIGmsq",
        "icQEKLBHfKvz",
        "WJWsFcn3Kzne",
        "9jZXOBaHKy-k"
      ],
      "toc_visible": true,
      "include_colab_link": true
    },
    "kernelspec": {
      "display_name": "Python 3",
      "name": "python3"
    }
  },
  "cells": [
    {
      "cell_type": "markdown",
      "metadata": {
        "id": "view-in-github",
        "colab_type": "text"
      },
      "source": [
        "<a href=\"https://colab.research.google.com/github/surajsrivathsa/ovgu_deeplearning/blob/master/nmt_with_attention.ipynb\" target=\"_parent\"><img src=\"https://colab.research.google.com/assets/colab-badge.svg\" alt=\"Open In Colab\"/></a>"
      ]
    },
    {
      "cell_type": "markdown",
      "metadata": {
        "id": "iaeAiRarxs1o"
      },
      "source": [
        "**Project Assignment 5:** Attention-based Neural Machine Translation\n",
        "\n",
        "**Team members:**\n",
        "1. Sanjeeth Busnur Indushekar: 224133 : sanjeeth.busnur@st.ovgu.de\n",
        "2. Suraj Shashidhar: 230052 : suraj.shashidhar@st.ovgu.de\n",
        "3. Himanshi Bajaj: 225827  : himanshi.bajaj@st.ovgu.de"
      ]
    },
    {
      "cell_type": "markdown",
      "metadata": {
        "id": "AD92sbxrxyF_"
      },
      "source": [
        "**Tasks to be done**\n",
        "\n",
        "- Use English-German Language as it is mostly known.\n",
        "- Train the Attention based NMT for Bahadanau model and store it.\n",
        "- Train the Attention based NMT for Luong model and store it.\n",
        "- Train the Attention based NMT for dot product model and store it.\n",
        "- Compare attention weights(qualitative differences) of three different mechanism for chosen two examples.\n",
        "\n",
        "Bahadanu Attention: \n",
        "- Is the model attending to correct tokens in the sequence between three attention mechanisms.\n"
      ]
    },
    {
      "cell_type": "markdown",
      "metadata": {
        "id": "FmyOBshu0u08"
      },
      "source": [
        "**Questions and Answers**\n",
        "\n",
        "1. Which parts of the sentence are used as a token? Each character, each word, or are some words split up?\n",
        "\n",
        "**Word level tokenization, but doesn't consider apostrophes in words. Like \"can't\"/\"don't\" will be considerd as don + t or can + t two separate tokens.**\n",
        "\n",
        "2. Do the same tokens in different language have the same ID?\n",
        "e.g. Would the same token index map to the German word die and to the English word die?\n",
        "\n",
        "**We are calling tokenize methods separately for two languages, this results in different ID being assigned to each token. But there may be a chance that same tokens like \"die\" in english and \"die\" in german may be allocated same ID.**\n",
        "\n",
        "3. What is the relation between the encoder output and the encoder hidden state which is used to initialize the decoder hidden state?\n",
        "(for the architecture used in the tutorial)\n",
        "\n",
        "**Encoder output depends on encoder hidden state which contains some sort of lossy summary of other states. This will be used in conjunction with encoder input to calculate current output.**\n",
        "\n",
        "4. Is the decoder attending to all previous positions, including the previous decoder predictions?\n",
        "\n",
        "**Decoder has access to all encoder positions and last decoder position.**\n",
        "\n",
        "\n",
        "5. Does the Encoder output change in different decoding steps?\n",
        "\n",
        "**Encoder output will not change, but what decoder sees from it changes according to attention(like wearing different lenses on same object).**\n",
        "\n",
        "6. Does the context vector change in different decoding steps?\n",
        "\n",
        "**Context vector changes according to query of decoder as it can focus on required positions.**\n",
        "\n",
        "7. The decoder uses teacher forcing. Does this mean the time steps can be computed in parallel?\n",
        "\n",
        "**If Deocder was not using Hidden states for computation, then we could have parallelized the prediction process, But decoder hidden states depends on previous decoder hidden states and are not available in parallel. Hence for this program we cannot parallelize it.**\n",
        "\n",
        "# Teacher forcing - feeding the target as the next input\n",
        "    for t in range(1, targ.shape[1]):\n",
        "      # passing enc_output to the decoder\n",
        "      predictions, dec_hidden, _ = decoder(dec_input, dec_hidden, enc_output)\n",
        "\n",
        "\n",
        "8. Why is a mask applied to the loss function?\n",
        "\n",
        "**This is somewhat similar to 6th assignment of deep learning. Without masking we will be calculating the loss for padded sequence position, This is wrong as they are not real characters but artificial and introduced by us.**"
      ]
    },
    {
      "cell_type": "markdown",
      "metadata": {
        "id": "ZOHDgy_HnxgM"
      },
      "source": [
        "# **Comparision of attention mechanism**"
      ]
    },
    {
      "cell_type": "markdown",
      "metadata": {
        "id": "V57_uNIpnv5U"
      },
      "source": [
        "1. **Do you see qualitative differences in the attention weights between different attention mechanisms?**\n",
        "\n",
        "**Bahadanu attention**\n",
        "- As we can see, Bahadanu attention seems to be hit/miss on correct translations as it did not translate second sentence.\n",
        "\n",
        "- In first sentence can't is correctly focussing on Kann Nicht\n",
        "- Second sentence about flowers gave wrong translations.\n",
        "\n",
        "**Luong attention**\n",
        "- The translations for 1,3 sentences were correct but 2nd sentence was wrong.\n",
        "- From attention weights it is evident that the focus was on wrong things.\n",
        "\n",
        "**Dot Product Attention**\n",
        "- The translations for 1,3 sentences were correct but 2nd sentence was wrong.\n",
        "- From attention weights it is evident that the focus was on wrong things.\n",
        "\n",
        "2. **Do you think that the model attends to the correct tokens in the input language? (if you understand both languages)**\n",
        "\n",
        "- No for Dot product and Luong it seems like it was not attending to proper tokens."
      ]
    },
    {
      "cell_type": "markdown",
      "metadata": {
        "id": "J0Qjg6vuaHNt"
      },
      "source": [
        "# Preprocessing and tokenization"
      ]
    },
    {
      "cell_type": "code",
      "metadata": {
        "id": "tnxXKDjq3jEL"
      },
      "source": [
        "import tensorflow as tf\n",
        "\n",
        "import matplotlib.pyplot as plt\n",
        "import matplotlib.ticker as ticker\n",
        "from sklearn.model_selection import train_test_split\n",
        "\n",
        "import unicodedata\n",
        "import re\n",
        "import numpy as np\n",
        "import os\n",
        "import io\n",
        "import time"
      ],
      "execution_count": 1,
      "outputs": []
    },
    {
      "cell_type": "code",
      "metadata": {
        "id": "Spg1xB8T2qwM",
        "outputId": "85b4ac2b-9be6-4198-fb49-6827113bed6d",
        "colab": {
          "base_uri": "https://localhost:8080/",
          "height": 33
        }
      },
      "source": [
        "from google.colab import drive\n",
        "drive.mount('/content/drive')"
      ],
      "execution_count": 3,
      "outputs": [
        {
          "output_type": "stream",
          "text": [
            "Mounted at /content/drive\n"
          ],
          "name": "stdout"
        }
      ]
    },
    {
      "cell_type": "code",
      "metadata": {
        "id": "kRVATYOgJs1b"
      },
      "source": [
        "path_to_file = \"/content/drive/My Drive/Colab Notebooks\"+\"/deu-eng/deu.txt\""
      ],
      "execution_count": 4,
      "outputs": []
    },
    {
      "cell_type": "code",
      "metadata": {
        "id": "rd0jw-eC3jEh"
      },
      "source": [
        "\n",
        "def unicode_to_ascii(s):\n",
        "  return ''.join(c for c in unicodedata.normalize('NFD', s)\n",
        "      if unicodedata.category(c) != 'Mn')\n",
        "\n",
        "\n",
        "def preprocess_sentence(w):\n",
        "  w = unicode_to_ascii(w.lower().strip())\n",
        "  w = re.sub(r\"([?.!,¿])\", r\" \\1 \", w)\n",
        "  w = re.sub(r'[\" \"]+', \" \", w)\n",
        "  w = re.sub(r\"[^a-zA-Z?.!,¿]+\", \" \", w)\n",
        "  w = w.strip()\n",
        "  w = '<start> ' + w + ' <end>'\n",
        "  return w"
      ],
      "execution_count": 8,
      "outputs": []
    },
    {
      "cell_type": "code",
      "metadata": {
        "id": "opI2GzOt479E",
        "outputId": "b40046e0-1fb3-4c42-fe4a-964747786488",
        "colab": {
          "base_uri": "https://localhost:8080/",
          "height": 50
        }
      },
      "source": [
        "en_sentence = u\"This can't be happening.\"\n",
        "ge_sentence = u\"Das kann nicht passieren.\"\n",
        "print(preprocess_sentence(en_sentence))\n",
        "print(preprocess_sentence(ge_sentence).encode('utf-8'))"
      ],
      "execution_count": 7,
      "outputs": [
        {
          "output_type": "stream",
          "text": [
            "<start> this can t be happening . <end>\n",
            "b'<start> das kann nicht passieren . <end>'\n"
          ],
          "name": "stdout"
        }
      ]
    },
    {
      "cell_type": "code",
      "metadata": {
        "id": "ytRhijkKAJYu",
        "outputId": "35f372f2-925e-446f-c2f7-5e277f759172",
        "colab": {
          "base_uri": "https://localhost:8080/",
          "height": 50
        }
      },
      "source": [
        "en_sentence = u\"The flower die at night.\"\n",
        "ge_sentence = u\"Die Blume stirbt nachts\"\n",
        "print(preprocess_sentence(en_sentence))\n",
        "print(preprocess_sentence(ge_sentence).encode('utf-8'))"
      ],
      "execution_count": 46,
      "outputs": [
        {
          "output_type": "stream",
          "text": [
            "<start> the flower die at night . <end>\n",
            "b'<start> die blume stirbt nachts <end>'\n"
          ],
          "name": "stdout"
        }
      ]
    },
    {
      "cell_type": "markdown",
      "metadata": {
        "id": "bO7nN-bG3pTW"
      },
      "source": [
        "**As we can see the tokens are split at word level, but can't, don't etcwords that have apostrophes are not translated to cannot/do not and split. hence there seems to be extra token left**"
      ]
    },
    {
      "cell_type": "code",
      "metadata": {
        "id": "OHn4Dct23jEm"
      },
      "source": [
        "# 1. Remove the accents\n",
        "# 2. Clean the sentences\n",
        "# 3. Return word pairs in the format: [ENGLISH, GERMAN]\n",
        "def create_dataset(path, num_examples):\n",
        "  lines = io.open(path, encoding='UTF-8').read().strip().split('\\n')\n",
        "\n",
        "  word_pairs = [[preprocess_sentence(w) for w in l.split('\\t')]  for l in lines[:num_examples]]\n",
        "\n",
        "  return zip(*word_pairs)"
      ],
      "execution_count": 9,
      "outputs": []
    },
    {
      "cell_type": "code",
      "metadata": {
        "id": "cTbSbBz55QtF",
        "outputId": "dadcd07b-d697-4bfb-ffe7-e94ece7c5e19",
        "colab": {
          "base_uri": "https://localhost:8080/",
          "height": 70
        }
      },
      "source": [
        "en, ge, _ = create_dataset(path_to_file , None)\n",
        "print(en[3])\n",
        "print(ge[3])"
      ],
      "execution_count": 10,
      "outputs": [
        {
          "output_type": "stream",
          "text": [
            "<start> doubtless there exists in this world precisely the right woman for any given man to marry and vice versa but when you consider that a human being has the opportunity of being acquainted with only a few hundred people , and out of the few hundred that there are but a dozen or less whom he knows intimately , and out of the dozen , one or two friends at most , it will easily be seen , when we remember the number of millions who inhabit this world , that probably , since the earth was created , the right man has never yet met the right woman . <end>\n",
            "<start> ohne zweifel findet sich auf dieser welt zu jedem mann genau die richtige ehefrau und umgekehrt wenn man jedoch in betracht zieht , dass ein mensch nur gelegenheit hat , mit ein paar hundert anderen bekannt zu sein , von denen ihm nur ein dutzend oder weniger nahesteht , darunter hochstens ein oder zwei freunde , dann erahnt man eingedenk der millionen einwohner dieser welt leicht , dass seit erschaffung ebenderselben wohl noch nie der richtige mann der richtigen frau begegnet ist . <end>\n"
          ],
          "name": "stdout"
        }
      ]
    },
    {
      "cell_type": "code",
      "metadata": {
        "id": "8b1Z3VX34iR8",
        "outputId": "eb2329cb-1975-4b47-91e4-669204bbc9c5",
        "colab": {
          "base_uri": "https://localhost:8080/",
          "height": 82
        }
      },
      "source": [
        "print(len(en))\n",
        "print(len(ge))\n",
        "print(en[3])\n",
        "print(ge[3])"
      ],
      "execution_count": 12,
      "outputs": [
        {
          "output_type": "stream",
          "text": [
            "221533\n",
            "221533\n",
            "<start> run ! <end>\n",
            "<start> lauf ! <end>\n"
          ],
          "name": "stdout"
        }
      ]
    },
    {
      "cell_type": "code",
      "metadata": {
        "id": "bIOn8RCNDJXG"
      },
      "source": [
        "def tokenize(lang):\n",
        "  lang_tokenizer = tf.keras.preprocessing.text.Tokenizer(filters='')\n",
        "  lang_tokenizer.fit_on_texts(lang)\n",
        "  tensor = lang_tokenizer.texts_to_sequences(lang)\n",
        "  tensor = tf.keras.preprocessing.sequence.pad_sequences(tensor,padding='post')\n",
        "  return tensor, lang_tokenizer"
      ],
      "execution_count": 13,
      "outputs": []
    },
    {
      "cell_type": "code",
      "metadata": {
        "id": "eAY9k49G3jE_"
      },
      "source": [
        "def load_dataset(path, num_examples=None):\n",
        "  targ_lang, inp_lang , _= create_dataset(path, num_examples)\n",
        "  input_tensor, inp_lang_tokenizer = tokenize(inp_lang)\n",
        "  target_tensor, targ_lang_tokenizer = tokenize(targ_lang)\n",
        "  return input_tensor, target_tensor, inp_lang_tokenizer, targ_lang_tokenizer"
      ],
      "execution_count": 14,
      "outputs": []
    },
    {
      "cell_type": "markdown",
      "metadata": {
        "id": "PR0NF-f_5CDg"
      },
      "source": [
        "Number of examples to be used for training. More the examples more is the training time and resources, but better is the translation quality.\n",
        "\n",
        "Find the max length of tensors this can be used in padding"
      ]
    },
    {
      "cell_type": "code",
      "metadata": {
        "id": "cnxC7q-j3jFD"
      },
      "source": [
        "num_examples = 60000\n",
        "input_tensor, target_tensor, inp_lang, targ_lang = load_dataset(path_to_file, num_examples)\n",
        "max_length_targ, max_length_inp = target_tensor.shape[1], input_tensor.shape[1]"
      ],
      "execution_count": 15,
      "outputs": []
    },
    {
      "cell_type": "code",
      "metadata": {
        "id": "E5znG783R21Z",
        "outputId": "8f63d127-719e-41a4-a902-e04082f77cfa",
        "colab": {
          "base_uri": "https://localhost:8080/",
          "height": 50
        }
      },
      "source": [
        "print(max_length_inp)\n",
        "print(max_length_targ)"
      ],
      "execution_count": 102,
      "outputs": [
        {
          "output_type": "stream",
          "text": [
            "22\n",
            "11\n"
          ],
          "name": "stdout"
        }
      ]
    },
    {
      "cell_type": "markdown",
      "metadata": {
        "id": "4cd93Ncm541A"
      },
      "source": [
        "**One can see the padding of \"0\" and also the difference between english and german. The length of sentences need not be the same.**"
      ]
    },
    {
      "cell_type": "code",
      "metadata": {
        "id": "MgRf-2025Xk9",
        "outputId": "7d0de7d3-4b06-42f1-f438-d283f07b4b6f",
        "colab": {
          "base_uri": "https://localhost:8080/",
          "height": 50
        }
      },
      "source": [
        "print(input_tensor[9],target_tensor[9])"
      ],
      "execution_count": 21,
      "outputs": [
        {
          "output_type": "stream",
          "text": [
            "[   1   20 6530   13    2    0    0    0    0    0    0    0    0    0\n",
            "    0    0    0    0    0    0    0    0] [ 1 72 50  2  0  0  0  0  0  0  0]\n"
          ],
          "name": "stdout"
        }
      ]
    },
    {
      "cell_type": "code",
      "metadata": {
        "id": "7HYbh_ihA-cH",
        "outputId": "21a71247-d79a-483d-e93e-27eb0ce6b053",
        "colab": {
          "base_uri": "https://localhost:8080/",
          "height": 50
        }
      },
      "source": [
        "print(input_tensor[650],target_tensor[650])"
      ],
      "execution_count": 47,
      "outputs": [
        {
          "output_type": "stream",
          "text": [
            "[   1 1179   10   13    2    0    0    0    0    0    0    0    0    0\n",
            "    0    0    0    0    0    0    0    0] [  1  27  11 259   3   2   0   0   0   0   0]\n"
          ],
          "name": "stdout"
        }
      ]
    },
    {
      "cell_type": "code",
      "metadata": {
        "id": "4QILQkOs3jFG",
        "outputId": "f20debdb-d748-4a67-b383-c2c45bd1a132",
        "colab": {
          "base_uri": "https://localhost:8080/",
          "height": 33
        }
      },
      "source": [
        "# Creating training and validation sets using an 90-10 split\n",
        "input_tensor_train, input_tensor_val, target_tensor_train, target_tensor_val = train_test_split(input_tensor, target_tensor, test_size=0.1)\n",
        "\n",
        "# Show length\n",
        "print(len(input_tensor_train), len(target_tensor_train), len(input_tensor_val), len(target_tensor_val))"
      ],
      "execution_count": 23,
      "outputs": [
        {
          "output_type": "stream",
          "text": [
            "54000 54000 6000 6000\n"
          ],
          "name": "stdout"
        }
      ]
    },
    {
      "cell_type": "code",
      "metadata": {
        "id": "lJPmLZGMeD5q"
      },
      "source": [
        "def convert(lang, tensor):\n",
        "  for t in tensor:\n",
        "    if t!=0:\n",
        "      print (\"%d ----> %s\" % (t, lang.index_word[t]))"
      ],
      "execution_count": 24,
      "outputs": []
    },
    {
      "cell_type": "code",
      "metadata": {
        "id": "VXukARTDd7MT",
        "outputId": "d5f285b4-5faa-4b58-fb06-2752fe6f93d0",
        "colab": {
          "base_uri": "https://localhost:8080/",
          "height": 277
        }
      },
      "source": [
        "print (\"Input Language; index to word mapping\")\n",
        "convert(inp_lang, input_tensor_train[0])\n",
        "print ()\n",
        "print (\"Target Language; index to word mapping\")\n",
        "convert(targ_lang, target_tensor_train[0])"
      ],
      "execution_count": 25,
      "outputs": [
        {
          "output_type": "stream",
          "text": [
            "Input Language; index to word mapping\n",
            "1 ----> <start>\n",
            "245 ----> ware\n",
            "8 ----> das\n",
            "4 ----> tom\n",
            "7 ----> ?\n",
            "2 ----> <end>\n",
            "\n",
            "Target Language; index to word mapping\n",
            "1 ----> <start>\n",
            "180 ----> would\n",
            "15 ----> that\n",
            "38 ----> be\n",
            "4 ----> tom\n",
            "7 ----> ?\n",
            "2 ----> <end>\n"
          ],
          "name": "stdout"
        }
      ]
    },
    {
      "cell_type": "code",
      "metadata": {
        "id": "TqHsArVZ3jFS"
      },
      "source": [
        "BUFFER_SIZE = len(input_tensor_train)\n",
        "BATCH_SIZE = 64\n",
        "steps_per_epoch = len(input_tensor_train)//BATCH_SIZE\n",
        "embedding_dim = 256\n",
        "units = 1024\n",
        "vocab_inp_size = len(inp_lang.word_index)+1\n",
        "vocab_tar_size = len(targ_lang.word_index)+1\n",
        "\n",
        "dataset = tf.data.Dataset.from_tensor_slices((input_tensor_train, target_tensor_train)).shuffle(BUFFER_SIZE)\n",
        "dataset = dataset.batch(BATCH_SIZE, drop_remainder=True)"
      ],
      "execution_count": 26,
      "outputs": []
    },
    {
      "cell_type": "code",
      "metadata": {
        "id": "qc6-NK1GtWQt",
        "outputId": "b86e0584-7434-4ec2-d7ff-f72457bdd0d9",
        "colab": {
          "base_uri": "https://localhost:8080/",
          "height": 33
        }
      },
      "source": [
        "example_input_batch, example_target_batch = next(iter(dataset))\n",
        "example_input_batch.shape, example_target_batch.shape"
      ],
      "execution_count": 27,
      "outputs": [
        {
          "output_type": "execute_result",
          "data": {
            "text/plain": [
              "(TensorShape([64, 22]), TensorShape([64, 11]))"
            ]
          },
          "metadata": {
            "tags": []
          },
          "execution_count": 27
        }
      ]
    },
    {
      "cell_type": "code",
      "metadata": {
        "id": "nZ2rI24i3jFg"
      },
      "source": [
        "class Encoder(tf.keras.Model):\n",
        "  def __init__(self, vocab_size, embedding_dim, enc_units, batch_sz):\n",
        "    super(Encoder, self).__init__()\n",
        "    self.batch_sz = batch_sz\n",
        "    self.enc_units = enc_units\n",
        "    self.embedding = tf.keras.layers.Embedding(vocab_size, embedding_dim)\n",
        "    self.gru = tf.keras.layers.GRU(self.enc_units,\n",
        "                                   return_sequences=True,\n",
        "                                   return_state=True,\n",
        "                                   recurrent_initializer='glorot_uniform')\n",
        "\n",
        "  def call(self, x, hidden):\n",
        "    x = self.embedding(x)\n",
        "    output, state = self.gru(x, initial_state = hidden)\n",
        "    return output, state\n",
        "\n",
        "  def initialize_hidden_state(self):\n",
        "    return tf.zeros((self.batch_sz, self.enc_units))"
      ],
      "execution_count": 28,
      "outputs": []
    },
    {
      "cell_type": "code",
      "metadata": {
        "id": "60gSVh05Jl6l",
        "outputId": "75a3ed77-2225-49ae-e82e-5c6787547f4f",
        "colab": {
          "base_uri": "https://localhost:8080/",
          "height": 50
        }
      },
      "source": [
        "encoder = Encoder(vocab_inp_size, embedding_dim, units, BATCH_SIZE)\n",
        "sample_hidden = encoder.initialize_hidden_state()\n",
        "sample_output, sample_hidden = encoder(example_input_batch, sample_hidden)\n",
        "print ('Encoder output shape: (batch size, sequence length, units) {}'.format(sample_output.shape))\n",
        "print ('Encoder Hidden state shape: (batch size, units) {}'.format(sample_hidden.shape))"
      ],
      "execution_count": 29,
      "outputs": [
        {
          "output_type": "stream",
          "text": [
            "Encoder output shape: (batch size, sequence length, units) (64, 22, 1024)\n",
            "Encoder Hidden state shape: (batch size, units) (64, 1024)\n"
          ],
          "name": "stdout"
        }
      ]
    },
    {
      "cell_type": "markdown",
      "metadata": {
        "id": "3sDnKUx4H0VI"
      },
      "source": [
        "# Bahadanu Attention mechanism and Decoder"
      ]
    },
    {
      "cell_type": "markdown",
      "metadata": {
        "id": "NghpCKmt7qe2"
      },
      "source": [
        "**Bahadanu Attention taken from google NMT Notebook**"
      ]
    },
    {
      "cell_type": "code",
      "metadata": {
        "id": "umohpBN2OM94"
      },
      "source": [
        "class BahdanauAttention(tf.keras.layers.Layer):\n",
        "  def __init__(self, units):\n",
        "    super(BahdanauAttention, self).__init__()\n",
        "    self.W1 = tf.keras.layers.Dense(units)\n",
        "    self.W2 = tf.keras.layers.Dense(units)\n",
        "    self.V = tf.keras.layers.Dense(1)\n",
        "\n",
        "  def call(self, query, values):\n",
        "    # query hidden state shape == (batch_size, hidden size)\n",
        "    # query_with_time_axis shape == (batch_size, 1, hidden size)\n",
        "    # values shape == (batch_size, max_len, hidden size)\n",
        "    # we are doing this to broadcast addition along the time axis to calculate the score\n",
        "    query_with_time_axis = tf.expand_dims(query, 1)\n",
        "\n",
        "    # score shape == (batch_size, max_length, 1)\n",
        "    # we get 1 at the last axis because we are applying score to self.V\n",
        "    # the shape of the tensor before applying self.V is (batch_size, max_length, units)\n",
        "    score = self.V(tf.nn.tanh(self.W1(query_with_time_axis) + self.W2(values)))\n",
        "\n",
        "    # attention_weights shape == (batch_size, max_length, 1)\n",
        "    attention_weights = tf.nn.softmax(score, axis=1)\n",
        "\n",
        "    # context_vector shape after sum == (batch_size, hidden_size)\n",
        "    context_vector = attention_weights * values\n",
        "    context_vector = tf.reduce_sum(context_vector, axis=1)\n",
        "\n",
        "    return context_vector, attention_weights"
      ],
      "execution_count": 30,
      "outputs": []
    },
    {
      "cell_type": "code",
      "metadata": {
        "id": "k534zTHiDjQU",
        "outputId": "b6501450-5906-42dd-c15c-fe972caff317",
        "colab": {
          "base_uri": "https://localhost:8080/",
          "height": 50
        }
      },
      "source": [
        "attention_layer = BahdanauAttention(10)\n",
        "attention_result, attention_weights = attention_layer(sample_hidden, sample_output)\n",
        "\n",
        "print(\"Attention result shape: (batch size, units) {}\".format(attention_result.shape))\n",
        "print(\"Attention weights shape: (batch_size, sequence_length, 1) {}\".format(attention_weights.shape))"
      ],
      "execution_count": 31,
      "outputs": [
        {
          "output_type": "stream",
          "text": [
            "Attention result shape: (batch size, units) (64, 1024)\n",
            "Attention weights shape: (batch_size, sequence_length, 1) (64, 22, 1)\n"
          ],
          "name": "stdout"
        }
      ]
    },
    {
      "cell_type": "code",
      "metadata": {
        "id": "yJ_B3mhW3jFk"
      },
      "source": [
        "class Decoder(tf.keras.Model):\n",
        "  def __init__(self, vocab_size, embedding_dim, dec_units, batch_sz):\n",
        "    super(Decoder, self).__init__()\n",
        "    self.batch_sz = batch_sz\n",
        "    self.dec_units = dec_units\n",
        "    self.embedding = tf.keras.layers.Embedding(vocab_size, embedding_dim)\n",
        "    self.gru = tf.keras.layers.GRU(self.dec_units,\n",
        "                                   return_sequences=True,\n",
        "                                   return_state=True,\n",
        "                                   recurrent_initializer='glorot_uniform')\n",
        "    self.fc = tf.keras.layers.Dense(vocab_size)\n",
        "\n",
        "    # used for attention\n",
        "    self.attention = BahdanauAttention(self.dec_units)\n",
        "\n",
        "  def call(self, x, hidden, enc_output):\n",
        "    # enc_output shape == (batch_size, max_length, hidden_size)\n",
        "    context_vector, attention_weights = self.attention(hidden, enc_output)\n",
        "\n",
        "    # x shape after passing through embedding == (batch_size, 1, embedding_dim)\n",
        "    x = self.embedding(x)\n",
        "\n",
        "    # x shape after concatenation == (batch_size, 1, embedding_dim + hidden_size)\n",
        "    x = tf.concat([tf.expand_dims(context_vector, 1), x], axis=-1)\n",
        "\n",
        "    # passing the concatenated vector to the GRU\n",
        "    output, state = self.gru(x)\n",
        "\n",
        "    # output shape == (batch_size * 1, hidden_size)\n",
        "    output = tf.reshape(output, (-1, output.shape[2]))\n",
        "\n",
        "    # output shape == (batch_size, vocab)\n",
        "    x = self.fc(output)\n",
        "\n",
        "    return x, state, attention_weights"
      ],
      "execution_count": 32,
      "outputs": []
    },
    {
      "cell_type": "code",
      "metadata": {
        "id": "P5UY8wko3jFp",
        "outputId": "55131c7c-882f-4343-9c9f-0dc6dda395d0",
        "colab": {
          "base_uri": "https://localhost:8080/",
          "height": 33
        }
      },
      "source": [
        "decoder = Decoder(vocab_tar_size, embedding_dim, units, BATCH_SIZE)\n",
        "\n",
        "sample_decoder_output, _, _ = decoder(tf.random.uniform((BATCH_SIZE, 1)),\n",
        "                                      sample_hidden, sample_output)\n",
        "\n",
        "print ('Decoder output shape: (batch_size, vocab size) {}'.format(sample_decoder_output.shape))"
      ],
      "execution_count": 33,
      "outputs": [
        {
          "output_type": "stream",
          "text": [
            "Decoder output shape: (batch_size, vocab size) (64, 6701)\n"
          ],
          "name": "stdout"
        }
      ]
    },
    {
      "cell_type": "markdown",
      "metadata": {
        "id": "lDPuMf0OHmpa"
      },
      "source": [
        "# Luong attention mechanism and decoder"
      ]
    },
    {
      "cell_type": "code",
      "metadata": {
        "id": "zvcBCety7zij"
      },
      "source": [
        "class LuongAttention(tf.keras.layers.Layer):\n",
        "  def __init__(self,units, max_len_inp):\n",
        "    super(LuongAttention,self).__init__()\n",
        "    self.W_a = tf.keras.layers.Dense(units)\n",
        "    self.L = tf.keras.layers.Dense(max_len_inp)\n",
        "  \n",
        "  def call(self, query, values):\n",
        "    query_with_time_axis = tf.expand_dims(query, 1)\n",
        "    #print(\"query with time axis shape: {}\".format(query_with_time_axis.shape))\n",
        "    #print(\"values shape: {}\".format(values.shape))\n",
        "    #print(\"inner dot product shape: {}\".format(tf.multiply(values,query_with_time_axis).shape))\n",
        "    #print(\"dot product sum shape: {}\".format(tf.reduce_sum( tf.multiply(values,query_with_time_axis), 2).shape))\n",
        "\n",
        "    new_tnsr = tf.matmul(self.W_a(query_with_time_axis), values, transpose_b=True)   \n",
        "    product_score = tf.transpose(new_tnsr, [0, 2, 1])\n",
        "    \n",
        "    #print(\"luong mat mul new attention shape before.: {}\".format(new_tnsr.shape))\n",
        "    #print(\"luong mat mul new attention shape after.: {}\".format(product_score.shape))\n",
        "\n",
        "    #product_score = self.L(tf.reduce_sum( tf.multiply(values,query_with_time_axis), 2))\n",
        "    #print(\"product score shape before: {}\".format(product_score.shape))\n",
        "    \n",
        "    #product_score = tf.expand_dims(product_score,2)\n",
        "    #print(\"product score shape after: {}\".format(product_score.shape))\n",
        "    attention_weights = tf.nn.softmax(product_score,axis = 1)\n",
        "    #print(\"attention weights shape: {}\".format(attention_weights.shape))\n",
        "    context = attention_weights*values\n",
        "    #print(\"context weight before: {}\".format(context.shape))\n",
        "    context = tf.reduce_sum(context, axis=1)\n",
        "    #print(\"context weight after: {}\".format(context.shape))\n",
        "    return context, attention_weights"
      ],
      "execution_count": 161,
      "outputs": []
    },
    {
      "cell_type": "code",
      "metadata": {
        "id": "3YycvfXD7zoQ",
        "outputId": "ba2582ca-1e6d-4d66-849d-5e0d93bf7288",
        "colab": {
          "base_uri": "https://localhost:8080/",
          "height": 228
        }
      },
      "source": [
        "luong_attention_layer = LuongAttention(1024, 22)\n",
        "print(\"sample hidden shape: {}\".format(sample_hidden.shape))\n",
        "print(\"sample output shape: {}\".format(sample_output.shape))\n",
        "luongcontext,luongattention = luong_attention_layer(sample_hidden,sample_output)\n",
        "\n",
        "print(\"Luong Attention result shape: (batch size, units) {}\".format(luongcontext.shape))\n",
        "print(\"Luong Attention weights shape: (batch_size, sequence_length, 1) {}\".format(luongattention.shape))"
      ],
      "execution_count": 153,
      "outputs": [
        {
          "output_type": "stream",
          "text": [
            "sample hidden shape: (64, 1024)\n",
            "sample output shape: (64, 22, 1024)\n",
            "query with time axis shape: (64, 1, 1024)\n",
            "values shape: (64, 22, 1024)\n",
            "inner dot product shape: (64, 22, 1024)\n",
            "dot product sum shape: (64, 22)\n",
            "luong mat mul new attention shape before.: (64, 1, 22)\n",
            "luong mat mul new attention shape after.: (64, 22, 1)\n",
            "attention weights shape: (64, 22, 1)\n",
            "context weight before: (64, 22, 1024)\n",
            "context weight after: (64, 1024)\n",
            "Luong Attention result shape: (batch size, units) (64, 1024)\n",
            "Luong Attention weights shape: (batch_size, sequence_length, 1) (64, 22, 1)\n"
          ],
          "name": "stdout"
        }
      ]
    },
    {
      "cell_type": "code",
      "metadata": {
        "id": "yoXPHO0TgV52",
        "outputId": "4a88c11a-fd49-450c-91ed-4fdcbc8286bd",
        "colab": {
          "base_uri": "https://localhost:8080/",
          "height": 82
        }
      },
      "source": [
        "luong_attention_layer = LuongAttention(1024, 22)\n",
        "print(\"sample hidden shape: {}\".format(sample_hidden.shape))\n",
        "print(\"sample output shape: {}\".format(sample_output.shape))\n",
        "luongcontext,luongattention = luong_attention_layer(sample_hidden,sample_output)\n",
        "\n",
        "print(\"Luong Attention result shape: (batch size, units) {}\".format(luongcontext.shape))\n",
        "print(\"Luong Attention weights shape: (batch_size, sequence_length, 1) {}\".format(luongattention.shape))"
      ],
      "execution_count": 162,
      "outputs": [
        {
          "output_type": "stream",
          "text": [
            "sample hidden shape: (64, 1024)\n",
            "sample output shape: (64, 22, 1024)\n",
            "Luong Attention result shape: (batch size, units) (64, 1024)\n",
            "Luong Attention weights shape: (batch_size, sequence_length, 1) (64, 22, 1)\n"
          ],
          "name": "stdout"
        }
      ]
    },
    {
      "cell_type": "code",
      "metadata": {
        "id": "f_Vmevk8HbkH"
      },
      "source": [
        "class LuongDecoder(tf.keras.Model):\n",
        "  def __init__(self, vocab_size, embedding_dim, dec_units, batch_sz):\n",
        "    super(LuongDecoder, self).__init__()\n",
        "    self.batch_sz = batch_sz\n",
        "    self.dec_units = dec_units\n",
        "    self.embedding = tf.keras.layers.Embedding(vocab_size, embedding_dim)\n",
        "    self.gru = tf.keras.layers.GRU(self.dec_units,\n",
        "                                   return_sequences=True,\n",
        "                                   return_state=True,\n",
        "                                   recurrent_initializer='glorot_uniform')\n",
        "    \n",
        "    #This depends on dataset, we have printed this variable out in earlier cell and got this value\n",
        "    self.max_input_length = 22\n",
        "    self.fc = tf.keras.layers.Dense(vocab_size)\n",
        "\n",
        "    # used for attention\n",
        "    self.attention = LuongAttention(self.dec_units, self.max_input_length)\n",
        "\n",
        "  def call(self, x, hidden, enc_output):\n",
        "    # enc_output shape == (batch_size, max_length, hidden_size)\n",
        "    context_vector, attention_weights = self.attention(hidden, enc_output)\n",
        "\n",
        "    # x shape after passing through embedding == (batch_size, 1, embedding_dim)\n",
        "    x = self.embedding(x)\n",
        "\n",
        "    # x shape after concatenation == (batch_size, 1, embedding_dim + hidden_size)\n",
        "    x = tf.concat([tf.expand_dims(context_vector, 1), x], axis=-1)\n",
        "\n",
        "    # passing the concatenated vector to the GRU\n",
        "    output, state = self.gru(x)\n",
        "\n",
        "    # output shape == (batch_size * 1, hidden_size)\n",
        "    output = tf.reshape(output, (-1, output.shape[2]))\n",
        "\n",
        "    # output shape == (batch_size, vocab)\n",
        "    x = self.fc(output)\n",
        "\n",
        "    return x, state, attention_weights"
      ],
      "execution_count": 163,
      "outputs": []
    },
    {
      "cell_type": "code",
      "metadata": {
        "id": "mfERONqcHboB",
        "outputId": "71aa4354-8e89-4d04-9382-11c42a8ef34c",
        "colab": {
          "base_uri": "https://localhost:8080/",
          "height": 33
        }
      },
      "source": [
        "luongdecoder = LuongDecoder(vocab_tar_size, embedding_dim, units, BATCH_SIZE)\n",
        "\n",
        "luong_sample_decoder_output, _, _ = luongdecoder(tf.random.uniform((BATCH_SIZE, 1)),\n",
        "                                      sample_hidden, sample_output)\n",
        "\n",
        "print ('Luong Decoder output shape: (batch_size, vocab size) {}'.format(luong_sample_decoder_output.shape))"
      ],
      "execution_count": 174,
      "outputs": [
        {
          "output_type": "stream",
          "text": [
            "Luong Decoder output shape: (batch_size, vocab size) (64, 6701)\n"
          ],
          "name": "stdout"
        }
      ]
    },
    {
      "cell_type": "markdown",
      "metadata": {
        "id": "aHkONf09GyP_"
      },
      "source": [
        "# Dot product attention and Decoder"
      ]
    },
    {
      "cell_type": "code",
      "metadata": {
        "id": "JQ9EdLCj7zuN"
      },
      "source": [
        "class DotProductAttention(tf.keras.layers.Layer):\n",
        "  def __init__(self,units):\n",
        "    super(DotProductAttention,self).__init__()\n",
        "  \n",
        "  def call(self, query, values):\n",
        "    query_with_time_axis = tf.expand_dims(query, 1)\n",
        "    dot_product_score = (tf.reduce_sum( tf.multiply(values,query_with_time_axis), 2))\n",
        "    dot_product_score = tf.expand_dims(dot_product_score,2)\n",
        "    dot_attention_weights = tf.nn.softmax(dot_product_score,axis = 1)\n",
        "    context = dot_attention_weights*values\n",
        "    context = tf.reduce_sum(context, axis=1)\n",
        "    return context, dot_attention_weights"
      ],
      "execution_count": 48,
      "outputs": []
    },
    {
      "cell_type": "code",
      "metadata": {
        "id": "d-UXA77a7z2H",
        "outputId": "e97f947e-5634-44cd-a6ee-2595cca586a5",
        "colab": {
          "base_uri": "https://localhost:8080/",
          "height": 33
        }
      },
      "source": [
        "attention_layer = DotProductAttention(10)\n",
        "context,attention = attention_layer(sample_hidden,sample_output)\n",
        "\n",
        "print(context.shape,attention.shape)"
      ],
      "execution_count": 49,
      "outputs": [
        {
          "output_type": "stream",
          "text": [
            "(64, 1024) (64, 22, 1)\n"
          ],
          "name": "stdout"
        }
      ]
    },
    {
      "cell_type": "code",
      "metadata": {
        "id": "ct8ZN5XcB50C"
      },
      "source": [
        "class DotproductDecoder(tf.keras.Model):\n",
        "  def __init__(self, vocab_size, embedding_dim, dec_units, batch_sz):\n",
        "    super(DotproductDecoder, self).__init__()\n",
        "    self.batch_sz = batch_sz\n",
        "    self.dec_units = dec_units\n",
        "    self.embedding = tf.keras.layers.Embedding(vocab_size, embedding_dim)\n",
        "    self.gru = tf.keras.layers.GRU(self.dec_units,\n",
        "                                   return_sequences=True,\n",
        "                                   return_state=True,\n",
        "                                   recurrent_initializer='glorot_uniform')\n",
        "    self.fc = tf.keras.layers.Dense(vocab_size)\n",
        "\n",
        "    # used for attention\n",
        "    self.attention = DotProductAttention(self.dec_units)\n",
        "\n",
        "  def call(self, x, hidden, enc_output):\n",
        "    # enc_output shape == (batch_size, max_length, hidden_size)\n",
        "    context_vector, attention_weights = self.attention(hidden, enc_output)\n",
        "\n",
        "    # x shape after passing through embedding == (batch_size, 1, embedding_dim)\n",
        "    x = self.embedding(x)\n",
        "\n",
        "    # x shape after concatenation == (batch_size, 1, embedding_dim + hidden_size)\n",
        "    x = tf.concat([tf.expand_dims(context_vector, 1), x], axis=-1)\n",
        "\n",
        "    # passing the concatenated vector to the GRU\n",
        "    output, state = self.gru(x)\n",
        "\n",
        "    # output shape == (batch_size * 1, hidden_size)\n",
        "    output = tf.reshape(output, (-1, output.shape[2]))\n",
        "\n",
        "    # output shape == (batch_size, vocab)\n",
        "    x = self.fc(output)\n",
        "\n",
        "    return x, state, attention_weights"
      ],
      "execution_count": 58,
      "outputs": []
    },
    {
      "cell_type": "code",
      "metadata": {
        "id": "SR6Eqn5fB56g",
        "outputId": "10b7d3d5-e745-4c5c-8beb-479b26acefef",
        "colab": {
          "base_uri": "https://localhost:8080/",
          "height": 33
        }
      },
      "source": [
        "dotproduct_decoder = DotproductDecoder(vocab_tar_size, embedding_dim, units, BATCH_SIZE)\n",
        "\n",
        "sample_decoder_output, _, _ = dotproduct_decoder(tf.random.uniform((BATCH_SIZE, 1)),\n",
        "                                      sample_hidden, sample_output)\n",
        "\n",
        "print ('Decoder output shape: (batch_size, vocab size) {}'.format(sample_decoder_output.shape))"
      ],
      "execution_count": 67,
      "outputs": [
        {
          "output_type": "stream",
          "text": [
            "Decoder output shape: (batch_size, vocab size) (64, 6701)\n"
          ],
          "name": "stdout"
        }
      ]
    },
    {
      "cell_type": "code",
      "metadata": {
        "id": "NymRJD7xB6Cp"
      },
      "source": [
        ""
      ],
      "execution_count": null,
      "outputs": []
    },
    {
      "cell_type": "code",
      "metadata": {
        "id": "ZG8wH3hTB6Km"
      },
      "source": [
        ""
      ],
      "execution_count": null,
      "outputs": []
    },
    {
      "cell_type": "markdown",
      "metadata": {
        "id": "gpjJ0BJRG6dC"
      },
      "source": [
        "# Optimizers, loss function and checkpoints"
      ]
    },
    {
      "cell_type": "markdown",
      "metadata": {
        "id": "_ch_71VbIRfK"
      },
      "source": [
        "## Define the optimizer and the loss function"
      ]
    },
    {
      "cell_type": "code",
      "metadata": {
        "id": "WmTHr5iV3jFr"
      },
      "source": [
        "optimizer = tf.keras.optimizers.Adam()\n",
        "loss_object = tf.keras.losses.SparseCategoricalCrossentropy(\n",
        "    from_logits=True, reduction='none')\n",
        "\n",
        "def loss_function(real, pred):\n",
        "  mask = tf.math.logical_not(tf.math.equal(real, 0))\n",
        "  loss_ = loss_object(real, pred)\n",
        "\n",
        "  mask = tf.cast(mask, dtype=loss_.dtype)\n",
        "  loss_ *= mask\n",
        "\n",
        "  return tf.reduce_mean(loss_)"
      ],
      "execution_count": 34,
      "outputs": []
    },
    {
      "cell_type": "markdown",
      "metadata": {
        "id": "DMVWzzsfNl4e"
      },
      "source": [
        "## Checkpoints for all three attention mechanism"
      ]
    },
    {
      "cell_type": "code",
      "metadata": {
        "id": "Zj8bXQTgNwrF"
      },
      "source": [
        "checkpoint_dir = './bahadanu_training_checkpoints'\n",
        "checkpoint_prefix = os.path.join(checkpoint_dir, \"ckpt\")\n",
        "checkpoint = tf.train.Checkpoint(optimizer=optimizer,encoder=encoder,decoder=decoder)"
      ],
      "execution_count": 35,
      "outputs": []
    },
    {
      "cell_type": "code",
      "metadata": {
        "id": "rZgnTqfgCUt_"
      },
      "source": [
        "luong_checkpoint_dir = './luong_training_checkpoints'\n",
        "luong_checkpoint_prefix = os.path.join(luong_checkpoint_dir, \"ckpt\")\n",
        "luong_checkpoint = tf.train.Checkpoint(optimizer=optimizer,encoder=encoder,decoder=luongdecoder)"
      ],
      "execution_count": 175,
      "outputs": []
    },
    {
      "cell_type": "code",
      "metadata": {
        "id": "obEx2VNKCUyP"
      },
      "source": [
        "dotproduct_checkpoint_dir = './dotproduct_training_checkpoints'\n",
        "dotproduct_checkpoint_prefix = os.path.join(dotproduct_checkpoint_dir, \"ckpt\")\n",
        "dotproduct_checkpoint = tf.train.Checkpoint(optimizer=optimizer,encoder=encoder,decoder=decoder)"
      ],
      "execution_count": 60,
      "outputs": []
    },
    {
      "cell_type": "markdown",
      "metadata": {
        "id": "hhXR8MJkGiC7"
      },
      "source": [
        "# Bahadanu Training"
      ]
    },
    {
      "cell_type": "code",
      "metadata": {
        "id": "sC9ArXSsVfqn"
      },
      "source": [
        "@tf.function\n",
        "def train_step(inp, targ, enc_hidden):\n",
        "  loss = 0\n",
        "\n",
        "  with tf.GradientTape() as tape:\n",
        "    enc_output, enc_hidden = encoder(inp, enc_hidden)\n",
        "\n",
        "    dec_hidden = enc_hidden\n",
        "\n",
        "    dec_input = tf.expand_dims([targ_lang.word_index['<start>']] * BATCH_SIZE, 1)\n",
        "\n",
        "    # Teacher forcing - feeding the target as the next input\n",
        "    for t in range(1, targ.shape[1]):\n",
        "      # passing enc_output to the decoder\n",
        "      predictions, dec_hidden, _ = decoder(dec_input, dec_hidden, enc_output)\n",
        "\n",
        "      loss += loss_function(targ[:, t], predictions)\n",
        "\n",
        "      # using teacher forcing\n",
        "      dec_input = tf.expand_dims(targ[:, t], 1)\n",
        "\n",
        "  batch_loss = (loss / int(targ.shape[1]))\n",
        "\n",
        "  variables = encoder.trainable_variables + decoder.trainable_variables\n",
        "\n",
        "  gradients = tape.gradient(loss, variables)\n",
        "\n",
        "  optimizer.apply_gradients(zip(gradients, variables))\n",
        "\n",
        "  return batch_loss"
      ],
      "execution_count": 36,
      "outputs": []
    },
    {
      "cell_type": "code",
      "metadata": {
        "id": "ddefjBMa3jF0",
        "outputId": "91bcc9ec-d4a0-4ee4-c60f-47ba30e49786",
        "colab": {
          "base_uri": "https://localhost:8080/",
          "height": 1000
        }
      },
      "source": [
        "EPOCHS = 10\n",
        "\n",
        "for epoch in range(EPOCHS):\n",
        "  start = time.time()\n",
        "\n",
        "  enc_hidden = encoder.initialize_hidden_state()\n",
        "  total_loss = 0\n",
        "\n",
        "  for (batch, (inp, targ)) in enumerate(dataset.take(steps_per_epoch)):\n",
        "    batch_loss = train_step(inp, targ, enc_hidden)\n",
        "    total_loss += batch_loss\n",
        "\n",
        "    if batch % 100 == 0:\n",
        "      print('Epoch {} Batch {} Loss {:.4f}'.format(epoch + 1,\n",
        "                                                   batch,\n",
        "                                                   batch_loss.numpy()))\n",
        "  # saving (checkpoint) the model every 2 epochs\n",
        "  if (epoch + 1) % 2 == 0:\n",
        "    checkpoint.save(file_prefix = checkpoint_prefix)\n",
        "\n",
        "  print('Epoch {} Loss {:.4f}'.format(epoch + 1,\n",
        "                                      total_loss / steps_per_epoch))\n",
        "  print('Time taken for 1 epoch {} sec\\n'.format(time.time() - start))"
      ],
      "execution_count": 37,
      "outputs": [
        {
          "output_type": "stream",
          "text": [
            "Epoch 1 Batch 0 Loss 4.6803\n",
            "Epoch 1 Batch 100 Loss 2.2226\n",
            "Epoch 1 Batch 200 Loss 1.9139\n",
            "Epoch 1 Batch 300 Loss 1.8550\n",
            "Epoch 1 Batch 400 Loss 1.5151\n",
            "Epoch 1 Batch 500 Loss 1.5162\n",
            "Epoch 1 Batch 600 Loss 1.3272\n",
            "Epoch 1 Batch 700 Loss 1.3847\n",
            "Epoch 1 Batch 800 Loss 1.2458\n",
            "Epoch 1 Loss 1.7103\n",
            "Time taken for 1 epoch 101.5291075706482 sec\n",
            "\n",
            "Epoch 2 Batch 0 Loss 1.0822\n",
            "Epoch 2 Batch 100 Loss 1.0066\n",
            "Epoch 2 Batch 200 Loss 1.1500\n",
            "Epoch 2 Batch 300 Loss 0.9390\n",
            "Epoch 2 Batch 400 Loss 0.9020\n",
            "Epoch 2 Batch 500 Loss 0.9523\n",
            "Epoch 2 Batch 600 Loss 0.8083\n",
            "Epoch 2 Batch 700 Loss 0.9101\n",
            "Epoch 2 Batch 800 Loss 0.7276\n",
            "Epoch 2 Loss 0.9169\n",
            "Time taken for 1 epoch 92.74819421768188 sec\n",
            "\n",
            "Epoch 3 Batch 0 Loss 0.6704\n",
            "Epoch 3 Batch 100 Loss 0.5957\n",
            "Epoch 3 Batch 200 Loss 0.6474\n",
            "Epoch 3 Batch 300 Loss 0.5088\n",
            "Epoch 3 Batch 400 Loss 0.5309\n",
            "Epoch 3 Batch 500 Loss 0.5424\n",
            "Epoch 3 Batch 600 Loss 0.4711\n",
            "Epoch 3 Batch 700 Loss 0.5526\n",
            "Epoch 3 Batch 800 Loss 0.4470\n",
            "Epoch 3 Loss 0.5680\n",
            "Time taken for 1 epoch 91.57316851615906 sec\n",
            "\n",
            "Epoch 4 Batch 0 Loss 0.3590\n",
            "Epoch 4 Batch 100 Loss 0.4081\n",
            "Epoch 4 Batch 200 Loss 0.4457\n",
            "Epoch 4 Batch 300 Loss 0.3819\n",
            "Epoch 4 Batch 400 Loss 0.3619\n",
            "Epoch 4 Batch 500 Loss 0.4279\n",
            "Epoch 4 Batch 600 Loss 0.3840\n",
            "Epoch 4 Batch 700 Loss 0.3092\n",
            "Epoch 4 Batch 800 Loss 0.3780\n",
            "Epoch 4 Loss 0.3785\n",
            "Time taken for 1 epoch 92.40200757980347 sec\n",
            "\n",
            "Epoch 5 Batch 0 Loss 0.2414\n",
            "Epoch 5 Batch 100 Loss 0.2894\n",
            "Epoch 5 Batch 200 Loss 0.2585\n",
            "Epoch 5 Batch 300 Loss 0.2998\n",
            "Epoch 5 Batch 400 Loss 0.3370\n",
            "Epoch 5 Batch 500 Loss 0.2387\n",
            "Epoch 5 Batch 600 Loss 0.2697\n",
            "Epoch 5 Batch 700 Loss 0.2683\n",
            "Epoch 5 Batch 800 Loss 0.3164\n",
            "Epoch 5 Loss 0.2664\n",
            "Time taken for 1 epoch 91.45624732971191 sec\n",
            "\n",
            "Epoch 6 Batch 0 Loss 0.1493\n",
            "Epoch 6 Batch 100 Loss 0.1903\n",
            "Epoch 6 Batch 200 Loss 0.2439\n",
            "Epoch 6 Batch 300 Loss 0.2082\n",
            "Epoch 6 Batch 400 Loss 0.2160\n",
            "Epoch 6 Batch 500 Loss 0.1876\n",
            "Epoch 6 Batch 600 Loss 0.1809\n",
            "Epoch 6 Batch 700 Loss 0.2560\n",
            "Epoch 6 Batch 800 Loss 0.2449\n",
            "Epoch 6 Loss 0.1989\n",
            "Time taken for 1 epoch 91.98409247398376 sec\n",
            "\n",
            "Epoch 7 Batch 0 Loss 0.1423\n",
            "Epoch 7 Batch 100 Loss 0.1824\n",
            "Epoch 7 Batch 200 Loss 0.1481\n",
            "Epoch 7 Batch 300 Loss 0.1375\n",
            "Epoch 7 Batch 400 Loss 0.1605\n",
            "Epoch 7 Batch 500 Loss 0.1428\n",
            "Epoch 7 Batch 600 Loss 0.1797\n",
            "Epoch 7 Batch 700 Loss 0.1558\n",
            "Epoch 7 Batch 800 Loss 0.1581\n",
            "Epoch 7 Loss 0.1564\n",
            "Time taken for 1 epoch 91.62349057197571 sec\n",
            "\n",
            "Epoch 8 Batch 0 Loss 0.1411\n",
            "Epoch 8 Batch 100 Loss 0.1764\n",
            "Epoch 8 Batch 200 Loss 0.1268\n",
            "Epoch 8 Batch 300 Loss 0.1296\n",
            "Epoch 8 Batch 400 Loss 0.1420\n",
            "Epoch 8 Batch 500 Loss 0.1086\n",
            "Epoch 8 Batch 600 Loss 0.1925\n",
            "Epoch 8 Batch 700 Loss 0.1414\n",
            "Epoch 8 Batch 800 Loss 0.1630\n",
            "Epoch 8 Loss 0.1297\n",
            "Time taken for 1 epoch 92.14787554740906 sec\n",
            "\n",
            "Epoch 9 Batch 0 Loss 0.1078\n",
            "Epoch 9 Batch 100 Loss 0.0898\n",
            "Epoch 9 Batch 200 Loss 0.0651\n",
            "Epoch 9 Batch 300 Loss 0.0799\n",
            "Epoch 9 Batch 400 Loss 0.1474\n",
            "Epoch 9 Batch 500 Loss 0.1481\n",
            "Epoch 9 Batch 600 Loss 0.1030\n",
            "Epoch 9 Batch 700 Loss 0.1610\n",
            "Epoch 9 Batch 800 Loss 0.1371\n",
            "Epoch 9 Loss 0.1122\n",
            "Time taken for 1 epoch 91.51104593276978 sec\n",
            "\n",
            "Epoch 10 Batch 0 Loss 0.0654\n",
            "Epoch 10 Batch 100 Loss 0.0758\n",
            "Epoch 10 Batch 200 Loss 0.0703\n",
            "Epoch 10 Batch 300 Loss 0.0629\n",
            "Epoch 10 Batch 400 Loss 0.1018\n",
            "Epoch 10 Batch 500 Loss 0.0852\n",
            "Epoch 10 Batch 600 Loss 0.0841\n",
            "Epoch 10 Batch 700 Loss 0.1163\n",
            "Epoch 10 Batch 800 Loss 0.1150\n",
            "Epoch 10 Loss 0.0991\n",
            "Time taken for 1 epoch 92.03957414627075 sec\n",
            "\n"
          ],
          "name": "stdout"
        }
      ]
    },
    {
      "cell_type": "markdown",
      "metadata": {
        "id": "S0d-WnrZfY4F"
      },
      "source": [
        "# Luong Attention Training"
      ]
    },
    {
      "cell_type": "code",
      "metadata": {
        "id": "9tw2FiBzfY4G"
      },
      "source": [
        "@tf.function\n",
        "def luong_train_step(inp, targ, enc_hidden):\n",
        "  loss = 0\n",
        "\n",
        "  with tf.GradientTape() as tape:\n",
        "    enc_output, enc_hidden = encoder(inp, enc_hidden)\n",
        "\n",
        "    dec_hidden = enc_hidden\n",
        "\n",
        "    dec_input = tf.expand_dims([targ_lang.word_index['<start>']] * BATCH_SIZE, 1)\n",
        "\n",
        "    # Teacher forcing - feeding the target as the next input\n",
        "    for t in range(1, targ.shape[1]):\n",
        "      # passing enc_output to the decoder\n",
        "      predictions, dec_hidden, _ = luongdecoder(dec_input, dec_hidden, enc_output)\n",
        "\n",
        "      loss += loss_function(targ[:, t], predictions)\n",
        "\n",
        "      # using teacher forcing\n",
        "      dec_input = tf.expand_dims(targ[:, t], 1)\n",
        "\n",
        "  batch_loss = (loss / int(targ.shape[1]))\n",
        "\n",
        "  #There is no trainable parameters in dot product attention, but decoder has some\n",
        "  variables = encoder.trainable_variables + luongdecoder.trainable_variables\n",
        "\n",
        "  gradients = tape.gradient(loss, variables)\n",
        "\n",
        "  optimizer.apply_gradients(zip(gradients, variables))\n",
        "\n",
        "  return batch_loss"
      ],
      "execution_count": 176,
      "outputs": []
    },
    {
      "cell_type": "code",
      "metadata": {
        "id": "1hh8l_8pfY4J",
        "outputId": "ee1e1ee9-55f0-488d-e314-9dc920642ed7",
        "colab": {
          "base_uri": "https://localhost:8080/",
          "height": 1000
        }
      },
      "source": [
        "EPOCHS = 10\n",
        "\n",
        "for epoch in range(EPOCHS):\n",
        "  start = time.time()\n",
        "\n",
        "  enc_hidden = encoder.initialize_hidden_state()\n",
        "  total_loss = 0\n",
        "\n",
        "  for (batch, (inp, targ)) in enumerate(dataset.take(steps_per_epoch)):\n",
        "    batch_loss = luong_train_step(inp, targ, enc_hidden)\n",
        "    total_loss += batch_loss\n",
        "\n",
        "    if batch % 100 == 0:\n",
        "      print('Epoch {} Batch {} Loss {:.4f}'.format(epoch + 1,\n",
        "                                                   batch,\n",
        "                                                   batch_loss.numpy()))\n",
        "  # saving (checkpoint) the model every 2 epochs\n",
        "  if (epoch + 1) % 2 == 0:\n",
        "    luong_checkpoint.save(file_prefix = luong_checkpoint_prefix)\n",
        "\n",
        "  print('Epoch {} Loss {:.4f}'.format(epoch + 1,\n",
        "                                      total_loss / steps_per_epoch))\n",
        "  print('Time taken for 1 epoch {} sec\\n'.format(time.time() - start))"
      ],
      "execution_count": 177,
      "outputs": [
        {
          "output_type": "stream",
          "text": [
            "Epoch 1 Batch 0 Loss 4.8161\n",
            "Epoch 1 Batch 100 Loss 1.5287\n",
            "Epoch 1 Batch 200 Loss 1.2935\n",
            "Epoch 1 Batch 300 Loss 0.8767\n",
            "Epoch 1 Batch 400 Loss 0.9651\n",
            "Epoch 1 Batch 500 Loss 0.8474\n",
            "Epoch 1 Batch 600 Loss 0.7478\n",
            "Epoch 1 Batch 700 Loss 0.7989\n",
            "Epoch 1 Batch 800 Loss 0.6811\n",
            "Epoch 1 Loss 1.1132\n",
            "Time taken for 1 epoch 83.10695600509644 sec\n",
            "\n",
            "Epoch 2 Batch 0 Loss 0.4276\n",
            "Epoch 2 Batch 100 Loss 0.5700\n",
            "Epoch 2 Batch 200 Loss 0.4289\n",
            "Epoch 2 Batch 300 Loss 0.4930\n",
            "Epoch 2 Batch 400 Loss 0.5821\n",
            "Epoch 2 Batch 500 Loss 0.4487\n",
            "Epoch 2 Batch 600 Loss 0.4196\n",
            "Epoch 2 Batch 700 Loss 0.4373\n",
            "Epoch 2 Batch 800 Loss 0.4604\n",
            "Epoch 2 Loss 0.4765\n",
            "Time taken for 1 epoch 73.54482626914978 sec\n",
            "\n",
            "Epoch 3 Batch 0 Loss 0.3564\n",
            "Epoch 3 Batch 100 Loss 0.3458\n",
            "Epoch 3 Batch 200 Loss 0.3842\n",
            "Epoch 3 Batch 300 Loss 0.2754\n",
            "Epoch 3 Batch 400 Loss 0.2395\n",
            "Epoch 3 Batch 500 Loss 0.3615\n",
            "Epoch 3 Batch 600 Loss 0.3246\n",
            "Epoch 3 Batch 700 Loss 0.2796\n",
            "Epoch 3 Batch 800 Loss 0.3028\n",
            "Epoch 3 Loss 0.3111\n",
            "Time taken for 1 epoch 75.07558131217957 sec\n",
            "\n",
            "Epoch 4 Batch 0 Loss 0.1856\n",
            "Epoch 4 Batch 100 Loss 0.1899\n",
            "Epoch 4 Batch 200 Loss 0.3135\n",
            "Epoch 4 Batch 300 Loss 0.2183\n",
            "Epoch 4 Batch 400 Loss 0.2275\n",
            "Epoch 4 Batch 500 Loss 0.1853\n",
            "Epoch 4 Batch 600 Loss 0.2390\n",
            "Epoch 4 Batch 700 Loss 0.2281\n",
            "Epoch 4 Batch 800 Loss 0.2272\n",
            "Epoch 4 Loss 0.2353\n",
            "Time taken for 1 epoch 75.88890886306763 sec\n",
            "\n",
            "Epoch 5 Batch 0 Loss 0.1745\n",
            "Epoch 5 Batch 100 Loss 0.1812\n",
            "Epoch 5 Batch 200 Loss 0.2012\n",
            "Epoch 5 Batch 300 Loss 0.2381\n",
            "Epoch 5 Batch 400 Loss 0.1771\n",
            "Epoch 5 Batch 500 Loss 0.1756\n",
            "Epoch 5 Batch 600 Loss 0.2257\n",
            "Epoch 5 Batch 700 Loss 0.2341\n",
            "Epoch 5 Batch 800 Loss 0.2107\n",
            "Epoch 5 Loss 0.2003\n",
            "Time taken for 1 epoch 75.57575964927673 sec\n",
            "\n",
            "Epoch 6 Batch 0 Loss 0.1630\n",
            "Epoch 6 Batch 100 Loss 0.1726\n",
            "Epoch 6 Batch 200 Loss 0.2291\n",
            "Epoch 6 Batch 300 Loss 0.2451\n",
            "Epoch 6 Batch 400 Loss 0.1164\n",
            "Epoch 6 Batch 500 Loss 0.2106\n",
            "Epoch 6 Batch 600 Loss 0.1689\n",
            "Epoch 6 Batch 700 Loss 0.1454\n",
            "Epoch 6 Batch 800 Loss 0.2034\n",
            "Epoch 6 Loss 0.1907\n",
            "Time taken for 1 epoch 75.87489986419678 sec\n",
            "\n",
            "Epoch 7 Batch 0 Loss 0.2418\n",
            "Epoch 7 Batch 100 Loss 0.1278\n",
            "Epoch 7 Batch 200 Loss 0.1500\n",
            "Epoch 7 Batch 300 Loss 0.1541\n",
            "Epoch 7 Batch 400 Loss 0.1141\n",
            "Epoch 7 Batch 500 Loss 0.1371\n",
            "Epoch 7 Batch 600 Loss 0.1400\n",
            "Epoch 7 Batch 700 Loss 0.1526\n",
            "Epoch 7 Batch 800 Loss 0.1913\n",
            "Epoch 7 Loss 0.1526\n",
            "Time taken for 1 epoch 75.50476002693176 sec\n",
            "\n",
            "Epoch 8 Batch 0 Loss 0.1845\n",
            "Epoch 8 Batch 100 Loss 0.0904\n",
            "Epoch 8 Batch 200 Loss 0.1200\n",
            "Epoch 8 Batch 300 Loss 0.1127\n",
            "Epoch 8 Batch 400 Loss 0.1554\n",
            "Epoch 8 Batch 500 Loss 0.2002\n",
            "Epoch 8 Batch 600 Loss 0.1653\n",
            "Epoch 8 Batch 700 Loss 0.1727\n",
            "Epoch 8 Batch 800 Loss 0.1451\n",
            "Epoch 8 Loss 0.1458\n",
            "Time taken for 1 epoch 76.0176784992218 sec\n",
            "\n",
            "Epoch 9 Batch 0 Loss 0.1309\n",
            "Epoch 9 Batch 100 Loss 0.1255\n",
            "Epoch 9 Batch 200 Loss 0.0970\n",
            "Epoch 9 Batch 300 Loss 0.0977\n",
            "Epoch 9 Batch 400 Loss 0.2185\n",
            "Epoch 9 Batch 500 Loss 0.1361\n",
            "Epoch 9 Batch 600 Loss 0.1055\n",
            "Epoch 9 Batch 700 Loss 0.1697\n",
            "Epoch 9 Batch 800 Loss 0.1240\n",
            "Epoch 9 Loss 0.1272\n",
            "Time taken for 1 epoch 75.51902604103088 sec\n",
            "\n",
            "Epoch 10 Batch 0 Loss 0.0910\n",
            "Epoch 10 Batch 100 Loss 0.1006\n",
            "Epoch 10 Batch 200 Loss 0.0686\n",
            "Epoch 10 Batch 300 Loss 0.1131\n",
            "Epoch 10 Batch 400 Loss 0.0855\n",
            "Epoch 10 Batch 500 Loss 0.1389\n",
            "Epoch 10 Batch 600 Loss 0.1343\n",
            "Epoch 10 Batch 700 Loss 0.1003\n",
            "Epoch 10 Batch 800 Loss 0.1180\n",
            "Epoch 10 Loss 0.1064\n",
            "Time taken for 1 epoch 76.50189423561096 sec\n",
            "\n"
          ],
          "name": "stdout"
        }
      ]
    },
    {
      "cell_type": "code",
      "metadata": {
        "id": "1ZrEqjiKfY4M",
        "outputId": "5384c89d-a3ed-455c-82be-78ced0b4a195",
        "colab": {
          "base_uri": "https://localhost:8080/",
          "height": 212
        }
      },
      "source": [
        "!zip -r \"luong_training_checkpoints.zip\" \"/content/luong_training_checkpoints\""
      ],
      "execution_count": 178,
      "outputs": [
        {
          "output_type": "stream",
          "text": [
            "  adding: content/luong_training_checkpoints/ (stored 0%)\n",
            "  adding: content/luong_training_checkpoints/ckpt-3.data-00000-of-00001 (deflated 15%)\n",
            "  adding: content/luong_training_checkpoints/ckpt-2.index (deflated 68%)\n",
            "  adding: content/luong_training_checkpoints/ckpt-5.data-00000-of-00001 (deflated 15%)\n",
            "  adding: content/luong_training_checkpoints/ckpt-1.index (deflated 68%)\n",
            "  adding: content/luong_training_checkpoints/checkpoint (deflated 38%)\n",
            "  adding: content/luong_training_checkpoints/ckpt-1.data-00000-of-00001 (deflated 16%)\n",
            "  adding: content/luong_training_checkpoints/ckpt-3.index (deflated 68%)\n",
            "  adding: content/luong_training_checkpoints/ckpt-4.data-00000-of-00001 (deflated 15%)\n",
            "  adding: content/luong_training_checkpoints/ckpt-4.index (deflated 68%)\n",
            "  adding: content/luong_training_checkpoints/ckpt-2.data-00000-of-00001 (deflated 15%)\n",
            "  adding: content/luong_training_checkpoints/ckpt-5.index (deflated 68%)\n"
          ],
          "name": "stdout"
        }
      ]
    },
    {
      "cell_type": "markdown",
      "metadata": {
        "id": "UjLVZ5HIGmsq"
      },
      "source": [
        "# Dot Product Training"
      ]
    },
    {
      "cell_type": "code",
      "metadata": {
        "id": "3a0mJDeiCqJw"
      },
      "source": [
        "@tf.function\n",
        "def dotproduct_train_step(inp, targ, enc_hidden):\n",
        "  loss = 0\n",
        "\n",
        "  with tf.GradientTape() as tape:\n",
        "    enc_output, enc_hidden = encoder(inp, enc_hidden)\n",
        "\n",
        "    dec_hidden = enc_hidden\n",
        "\n",
        "    dec_input = tf.expand_dims([targ_lang.word_index['<start>']] * BATCH_SIZE, 1)\n",
        "\n",
        "    # Teacher forcing - feeding the target as the next input\n",
        "    for t in range(1, targ.shape[1]):\n",
        "      # passing enc_output to the decoder\n",
        "      predictions, dec_hidden, _ = dotproduct_decoder(dec_input, dec_hidden, enc_output)\n",
        "\n",
        "      loss += loss_function(targ[:, t], predictions)\n",
        "\n",
        "      # using teacher forcing\n",
        "      dec_input = tf.expand_dims(targ[:, t], 1)\n",
        "\n",
        "  batch_loss = (loss / int(targ.shape[1]))\n",
        "\n",
        "  #There is no trainable parameters in dot product attention, but decoder has some\n",
        "  variables = encoder.trainable_variables + dotproduct_decoder.trainable_variables\n",
        "\n",
        "  gradients = tape.gradient(loss, variables)\n",
        "\n",
        "  optimizer.apply_gradients(zip(gradients, variables))\n",
        "\n",
        "  return batch_loss"
      ],
      "execution_count": 69,
      "outputs": []
    },
    {
      "cell_type": "code",
      "metadata": {
        "id": "uVicaLt_CqTR",
        "outputId": "1ffd69cf-d0a6-47f9-b255-abcaa31e7521",
        "colab": {
          "base_uri": "https://localhost:8080/",
          "height": 1000
        }
      },
      "source": [
        "EPOCHS = 10\n",
        "\n",
        "for epoch in range(EPOCHS):\n",
        "  start = time.time()\n",
        "\n",
        "  enc_hidden = encoder.initialize_hidden_state()\n",
        "  total_loss = 0\n",
        "\n",
        "  for (batch, (inp, targ)) in enumerate(dataset.take(steps_per_epoch)):\n",
        "    batch_loss = dotproduct_train_step(inp, targ, enc_hidden)\n",
        "    total_loss += batch_loss\n",
        "\n",
        "    if batch % 100 == 0:\n",
        "      print('Epoch {} Batch {} Loss {:.4f}'.format(epoch + 1,\n",
        "                                                   batch,\n",
        "                                                   batch_loss.numpy()))\n",
        "  # saving (checkpoint) the model every 2 epochs\n",
        "  if (epoch + 1) % 2 == 0:\n",
        "    checkpoint.save(file_prefix = dotproduct_checkpoint_prefix)\n",
        "\n",
        "  print('Epoch {} Loss {:.4f}'.format(epoch + 1,\n",
        "                                      total_loss / steps_per_epoch))\n",
        "  print('Time taken for 1 epoch {} sec\\n'.format(time.time() - start))"
      ],
      "execution_count": 70,
      "outputs": [
        {
          "output_type": "stream",
          "text": [
            "Epoch 1 Batch 0 Loss 4.8742\n",
            "Epoch 1 Batch 100 Loss 1.9220\n",
            "Epoch 1 Batch 200 Loss 1.5580\n",
            "Epoch 1 Batch 300 Loss 1.4169\n",
            "Epoch 1 Batch 400 Loss 1.1690\n",
            "Epoch 1 Batch 500 Loss 1.1467\n",
            "Epoch 1 Batch 600 Loss 0.8516\n",
            "Epoch 1 Batch 700 Loss 0.9973\n",
            "Epoch 1 Batch 800 Loss 0.8158\n",
            "Epoch 1 Loss 1.3453\n",
            "Time taken for 1 epoch 81.01361179351807 sec\n",
            "\n",
            "Epoch 2 Batch 0 Loss 0.7765\n",
            "Epoch 2 Batch 100 Loss 0.6597\n",
            "Epoch 2 Batch 200 Loss 0.6066\n",
            "Epoch 2 Batch 300 Loss 0.5129\n",
            "Epoch 2 Batch 400 Loss 0.6118\n",
            "Epoch 2 Batch 500 Loss 0.5734\n",
            "Epoch 2 Batch 600 Loss 0.6416\n",
            "Epoch 2 Batch 700 Loss 0.5817\n",
            "Epoch 2 Batch 800 Loss 0.5866\n",
            "Epoch 2 Loss 0.6124\n",
            "Time taken for 1 epoch 72.2137463092804 sec\n",
            "\n",
            "Epoch 3 Batch 0 Loss 0.2598\n",
            "Epoch 3 Batch 100 Loss 0.3725\n",
            "Epoch 3 Batch 200 Loss 0.4173\n",
            "Epoch 3 Batch 300 Loss 0.3314\n",
            "Epoch 3 Batch 400 Loss 0.4056\n",
            "Epoch 3 Batch 500 Loss 0.3791\n",
            "Epoch 3 Batch 600 Loss 0.3675\n",
            "Epoch 3 Batch 700 Loss 0.3242\n",
            "Epoch 3 Batch 800 Loss 0.3651\n",
            "Epoch 3 Loss 0.3667\n",
            "Time taken for 1 epoch 70.81332421302795 sec\n",
            "\n",
            "Epoch 4 Batch 0 Loss 0.2788\n",
            "Epoch 4 Batch 100 Loss 0.2325\n",
            "Epoch 4 Batch 200 Loss 0.2959\n",
            "Epoch 4 Batch 300 Loss 0.2903\n",
            "Epoch 4 Batch 400 Loss 0.1758\n",
            "Epoch 4 Batch 500 Loss 0.2372\n",
            "Epoch 4 Batch 600 Loss 0.3257\n",
            "Epoch 4 Batch 700 Loss 0.3025\n",
            "Epoch 4 Batch 800 Loss 0.2968\n",
            "Epoch 4 Loss 0.2428\n",
            "Time taken for 1 epoch 72.82357883453369 sec\n",
            "\n",
            "Epoch 5 Batch 0 Loss 0.1714\n",
            "Epoch 5 Batch 100 Loss 0.1332\n",
            "Epoch 5 Batch 200 Loss 0.1269\n",
            "Epoch 5 Batch 300 Loss 0.1510\n",
            "Epoch 5 Batch 400 Loss 0.1591\n",
            "Epoch 5 Batch 500 Loss 0.1904\n",
            "Epoch 5 Batch 600 Loss 0.1964\n",
            "Epoch 5 Batch 700 Loss 0.1950\n",
            "Epoch 5 Batch 800 Loss 0.2639\n",
            "Epoch 5 Loss 0.1761\n",
            "Time taken for 1 epoch 72.91116142272949 sec\n",
            "\n",
            "Epoch 6 Batch 0 Loss 0.1727\n",
            "Epoch 6 Batch 100 Loss 0.1081\n",
            "Epoch 6 Batch 200 Loss 0.1393\n",
            "Epoch 6 Batch 300 Loss 0.1224\n",
            "Epoch 6 Batch 400 Loss 0.1655\n",
            "Epoch 6 Batch 500 Loss 0.1281\n",
            "Epoch 6 Batch 600 Loss 0.1359\n",
            "Epoch 6 Batch 700 Loss 0.1533\n",
            "Epoch 6 Batch 800 Loss 0.1540\n",
            "Epoch 6 Loss 0.1430\n",
            "Time taken for 1 epoch 73.88860249519348 sec\n",
            "\n",
            "Epoch 7 Batch 0 Loss 0.1154\n",
            "Epoch 7 Batch 100 Loss 0.0867\n",
            "Epoch 7 Batch 200 Loss 0.0810\n",
            "Epoch 7 Batch 300 Loss 0.1494\n",
            "Epoch 7 Batch 400 Loss 0.1286\n",
            "Epoch 7 Batch 500 Loss 0.1501\n",
            "Epoch 7 Batch 600 Loss 0.1373\n",
            "Epoch 7 Batch 700 Loss 0.1471\n",
            "Epoch 7 Batch 800 Loss 0.1661\n",
            "Epoch 7 Loss 0.1204\n",
            "Time taken for 1 epoch 73.1776773929596 sec\n",
            "\n",
            "Epoch 8 Batch 0 Loss 0.0882\n",
            "Epoch 8 Batch 100 Loss 0.1256\n",
            "Epoch 8 Batch 200 Loss 0.1228\n",
            "Epoch 8 Batch 300 Loss 0.1125\n",
            "Epoch 8 Batch 400 Loss 0.1003\n",
            "Epoch 8 Batch 500 Loss 0.1554\n",
            "Epoch 8 Batch 600 Loss 0.0849\n",
            "Epoch 8 Batch 700 Loss 0.1188\n",
            "Epoch 8 Batch 800 Loss 0.1219\n",
            "Epoch 8 Loss 0.1053\n",
            "Time taken for 1 epoch 73.04360389709473 sec\n",
            "\n",
            "Epoch 9 Batch 0 Loss 0.0874\n",
            "Epoch 9 Batch 100 Loss 0.1121\n",
            "Epoch 9 Batch 200 Loss 0.0825\n",
            "Epoch 9 Batch 300 Loss 0.0656\n",
            "Epoch 9 Batch 400 Loss 0.1172\n",
            "Epoch 9 Batch 500 Loss 0.1247\n",
            "Epoch 9 Batch 600 Loss 0.1044\n",
            "Epoch 9 Batch 700 Loss 0.0622\n",
            "Epoch 9 Batch 800 Loss 0.0978\n",
            "Epoch 9 Loss 0.0966\n",
            "Time taken for 1 epoch 72.91043591499329 sec\n",
            "\n",
            "Epoch 10 Batch 0 Loss 0.0727\n",
            "Epoch 10 Batch 100 Loss 0.0534\n",
            "Epoch 10 Batch 200 Loss 0.0867\n",
            "Epoch 10 Batch 300 Loss 0.0600\n",
            "Epoch 10 Batch 400 Loss 0.1324\n",
            "Epoch 10 Batch 500 Loss 0.0986\n",
            "Epoch 10 Batch 600 Loss 0.1060\n",
            "Epoch 10 Batch 700 Loss 0.1251\n",
            "Epoch 10 Batch 800 Loss 0.1212\n",
            "Epoch 10 Loss 0.0918\n",
            "Time taken for 1 epoch 73.09067797660828 sec\n",
            "\n"
          ],
          "name": "stdout"
        }
      ]
    },
    {
      "cell_type": "code",
      "metadata": {
        "id": "A-s6STe_CqQY"
      },
      "source": [
        "!zip -r \"bahadanau_training_checkpoints.zip\" \"/content/bahadanu_training_checkpoints\""
      ],
      "execution_count": null,
      "outputs": []
    },
    {
      "cell_type": "code",
      "metadata": {
        "id": "e_kc5jHCCqNj"
      },
      "source": [
        ""
      ],
      "execution_count": null,
      "outputs": []
    },
    {
      "cell_type": "markdown",
      "metadata": {
        "id": "icQEKLBHfKvz"
      },
      "source": [
        "# Restore latest check point of bahadanu attention and evaluate"
      ]
    },
    {
      "cell_type": "markdown",
      "metadata": {
        "id": "ZfJbeEqP-5W2"
      },
      "source": [
        "**Added clim=[0,1] to the plotting function**"
      ]
    },
    {
      "cell_type": "code",
      "metadata": {
        "id": "EbQpyYs13jF_"
      },
      "source": [
        "def evaluate(sentence):\n",
        "  attention_plot = np.zeros((max_length_targ, max_length_inp))\n",
        "\n",
        "  sentence = preprocess_sentence(sentence)\n",
        "\n",
        "  inputs = [inp_lang.word_index[i] for i in sentence.split(' ')]\n",
        "  inputs = tf.keras.preprocessing.sequence.pad_sequences([inputs],\n",
        "                                                         maxlen=max_length_inp,\n",
        "                                                         padding='post')\n",
        "  inputs = tf.convert_to_tensor(inputs)\n",
        "\n",
        "  result = ''\n",
        "\n",
        "  hidden = [tf.zeros((1, units))]\n",
        "  enc_out, enc_hidden = encoder(inputs, hidden)\n",
        "\n",
        "  dec_hidden = enc_hidden\n",
        "  dec_input = tf.expand_dims([targ_lang.word_index['<start>']], 0)\n",
        "\n",
        "  for t in range(max_length_targ):\n",
        "    predictions, dec_hidden, attention_weights = decoder(dec_input,\n",
        "                                                         dec_hidden,\n",
        "                                                         enc_out)\n",
        "\n",
        "    # storing the attention weights to plot later on\n",
        "    attention_weights = tf.reshape(attention_weights, (-1, ))\n",
        "    attention_plot[t] = attention_weights.numpy()\n",
        "\n",
        "    predicted_id = tf.argmax(predictions[0]).numpy()\n",
        "\n",
        "    result += targ_lang.index_word[predicted_id] + ' '\n",
        "\n",
        "    if targ_lang.index_word[predicted_id] == '<end>':\n",
        "      return result, sentence, attention_plot\n",
        "\n",
        "    # the predicted ID is fed back into the model\n",
        "    dec_input = tf.expand_dims([predicted_id], 0)\n",
        "\n",
        "  return result, sentence, attention_plot"
      ],
      "execution_count": 38,
      "outputs": []
    },
    {
      "cell_type": "code",
      "metadata": {
        "id": "s5hQWlbN3jGF"
      },
      "source": [
        "# function for plotting the attention weights\n",
        "def plot_attention(attention, sentence, predicted_sentence):\n",
        "  fig = plt.figure(figsize=(10,10))\n",
        "  ax = fig.add_subplot(1, 1, 1)\n",
        "  ax.matshow(attention, cmap='viridis',clim=[0,1])\n",
        "\n",
        "  fontdict = {'fontsize': 14}\n",
        "\n",
        "  ax.set_xticklabels([''] + sentence, fontdict=fontdict, rotation=90)\n",
        "  ax.set_yticklabels([''] + predicted_sentence, fontdict=fontdict)\n",
        "\n",
        "  ax.xaxis.set_major_locator(ticker.MultipleLocator(1))\n",
        "  ax.yaxis.set_major_locator(ticker.MultipleLocator(1))\n",
        "\n",
        "  plt.show()"
      ],
      "execution_count": 40,
      "outputs": []
    },
    {
      "cell_type": "code",
      "metadata": {
        "id": "sl9zUHzg3jGI"
      },
      "source": [
        "def translate(sentence):\n",
        "  result, sentence, attention_plot = evaluate(sentence)\n",
        "\n",
        "  print('Input: %s' % (sentence))\n",
        "  print('Predicted translation: {}'.format(result))\n",
        "\n",
        "  attention_plot = attention_plot[:len(result.split(' ')), :len(sentence.split(' '))]\n",
        "  plot_attention(attention_plot, sentence.split(' '), result.split(' '))"
      ],
      "execution_count": 41,
      "outputs": []
    },
    {
      "cell_type": "code",
      "metadata": {
        "id": "UJpT9D5_OgP6",
        "outputId": "37e36a4e-1c33-4532-cb4b-26bd5cb04f06",
        "colab": {
          "base_uri": "https://localhost:8080/",
          "height": 33
        }
      },
      "source": [
        "# restoring the latest checkpoint in checkpoint_dir\n",
        "checkpoint.restore(tf.train.latest_checkpoint(checkpoint_dir))"
      ],
      "execution_count": 42,
      "outputs": [
        {
          "output_type": "execute_result",
          "data": {
            "text/plain": [
              "<tensorflow.python.training.tracking.util.CheckpointLoadStatus at 0x7f6536cacd68>"
            ]
          },
          "metadata": {
            "tags": []
          },
          "execution_count": 42
        }
      ]
    },
    {
      "cell_type": "code",
      "metadata": {
        "id": "WrAM0FDomq3E",
        "outputId": "477607dd-0894-47ed-c54f-3d0470d08c7d",
        "colab": {
          "base_uri": "https://localhost:8080/",
          "height": 685
        }
      },
      "source": [
        "translate(u'Das kann nicht passieren.')"
      ],
      "execution_count": 43,
      "outputs": [
        {
          "output_type": "stream",
          "text": [
            "Input: <start> das kann nicht passieren . <end>\n",
            "Predicted translation: that cannot do it . <end> \n"
          ],
          "name": "stdout"
        },
        {
          "output_type": "display_data",
          "data": {
            "image/png": "[encoded data removed]",
            "text/plain": [
              "<Figure size 720x720 with 1 Axes>"
            ]
          },
          "metadata": {
            "tags": [],
            "needs_background": "light"
          }
        }
      ]
    },
    {
      "cell_type": "code",
      "metadata": {
        "id": "zSx2iM36EZQZ",
        "outputId": "0117b0b9-43fd-4ae4-e232-c9e2059a68ba",
        "colab": {
          "base_uri": "https://localhost:8080/",
          "height": 568
        }
      },
      "source": [
        "translate(u'Die Blume fällt während der Nacht.')"
      ],
      "execution_count": 45,
      "outputs": [
        {
          "output_type": "stream",
          "text": [
            "Input: <start> die blume fallt wahrend der nacht . <end>\n",
            "Predicted translation: the honeymoon is over . <end> \n"
          ],
          "name": "stdout"
        },
        {
          "output_type": "display_data",
          "data": {
            "image/png": "[encoded data removed]",
            "text/plain": [
              "<Figure size 720x720 with 1 Axes>"
            ]
          },
          "metadata": {
            "tags": [],
            "needs_background": "light"
          }
        }
      ]
    },
    {
      "cell_type": "code",
      "metadata": {
        "id": "Hp-wE9bk3BPH",
        "outputId": "4e3ac237-a0d4-43b8-f92e-e54018b206cb",
        "colab": {
          "base_uri": "https://localhost:8080/",
          "height": 212
        }
      },
      "source": [
        "!zip -r \"training_checkpoints.zip\" \"/content/training_checkpoints\""
      ],
      "execution_count": null,
      "outputs": [
        {
          "output_type": "stream",
          "text": [
            "  adding: content/training_checkpoints/ (stored 0%)\n",
            "  adding: content/training_checkpoints/ckpt-5.data-00000-of-00001 (deflated 17%)\n",
            "  adding: content/training_checkpoints/ckpt-5.index (deflated 70%)\n",
            "  adding: content/training_checkpoints/ckpt-2.data-00000-of-00001 (deflated 17%)\n",
            "  adding: content/training_checkpoints/ckpt-1.data-00000-of-00001 (deflated 17%)\n",
            "  adding: content/training_checkpoints/ckpt-4.data-00000-of-00001 (deflated 17%)\n",
            "  adding: content/training_checkpoints/ckpt-1.index (deflated 70%)\n",
            "  adding: content/training_checkpoints/ckpt-3.index (deflated 70%)\n",
            "  adding: content/training_checkpoints/ckpt-2.index (deflated 70%)\n",
            "  adding: content/training_checkpoints/checkpoint (deflated 38%)\n",
            "  adding: content/training_checkpoints/ckpt-3.data-00000-of-00001 (deflated 17%)\n",
            "  adding: content/training_checkpoints/ckpt-4.index (deflated 70%)\n"
          ],
          "name": "stdout"
        }
      ]
    },
    {
      "cell_type": "code",
      "metadata": {
        "id": "cLGLXA0ALQ86",
        "outputId": "364cda8e-511e-42d9-85bb-ff65a5307968",
        "colab": {
          "base_uri": "https://localhost:8080/",
          "height": 212
        }
      },
      "source": [
        "!zip -r \"bahadanau_training_checkpoints.zip\" \"/content/bahadanu_training_checkpoints\""
      ],
      "execution_count": 97,
      "outputs": [
        {
          "output_type": "stream",
          "text": [
            "  adding: content/bahadanu_training_checkpoints/ (stored 0%)\n",
            "  adding: content/bahadanu_training_checkpoints/ckpt-3.data-00000-of-00001 (deflated 15%)\n",
            "  adding: content/bahadanu_training_checkpoints/ckpt-2.index (deflated 69%)\n",
            "  adding: content/bahadanu_training_checkpoints/ckpt-5.data-00000-of-00001 (deflated 15%)\n",
            "  adding: content/bahadanu_training_checkpoints/ckpt-1.index (deflated 69%)\n",
            "  adding: content/bahadanu_training_checkpoints/checkpoint (deflated 38%)\n",
            "  adding: content/bahadanu_training_checkpoints/ckpt-1.data-00000-of-00001 (deflated 15%)\n",
            "  adding: content/bahadanu_training_checkpoints/ckpt-3.index (deflated 69%)\n",
            "  adding: content/bahadanu_training_checkpoints/ckpt-4.data-00000-of-00001 (deflated 15%)\n",
            "  adding: content/bahadanu_training_checkpoints/ckpt-4.index (deflated 69%)\n",
            "  adding: content/bahadanu_training_checkpoints/ckpt-2.data-00000-of-00001 (deflated 15%)\n",
            "  adding: content/bahadanu_training_checkpoints/ckpt-5.index (deflated 69%)\n"
          ],
          "name": "stdout"
        }
      ]
    },
    {
      "cell_type": "markdown",
      "metadata": {
        "id": "WJWsFcn3Kzne"
      },
      "source": [
        "# Restore the latest checkpoint of luong attention and evaluating"
      ]
    },
    {
      "cell_type": "code",
      "metadata": {
        "id": "zMgrYNKkLxLB"
      },
      "source": [
        "def luong_evaluate(sentence):\n",
        "  attention_plot = np.zeros((max_length_targ, max_length_inp))\n",
        "\n",
        "  sentence = preprocess_sentence(sentence)\n",
        "\n",
        "  inputs = [inp_lang.word_index[i] for i in sentence.split(' ')]\n",
        "  inputs = tf.keras.preprocessing.sequence.pad_sequences([inputs],\n",
        "                                                         maxlen=max_length_inp,\n",
        "                                                         padding='post')\n",
        "  inputs = tf.convert_to_tensor(inputs)\n",
        "\n",
        "  result = ''\n",
        "\n",
        "  hidden = [tf.zeros((1, units))]\n",
        "  enc_out, enc_hidden = encoder(inputs, hidden)\n",
        "\n",
        "  dec_hidden = enc_hidden\n",
        "  dec_input = tf.expand_dims([targ_lang.word_index['<start>']], 0)\n",
        "\n",
        "  for t in range(max_length_targ):\n",
        "    predictions, dec_hidden, attention_weights = luongdecoder(dec_input,\n",
        "                                                         dec_hidden,\n",
        "                                                         enc_out)\n",
        "\n",
        "    # storing the attention weights to plot later on\n",
        "    attention_weights = tf.reshape(attention_weights, (-1, ))\n",
        "    attention_plot[t] = attention_weights.numpy()\n",
        "\n",
        "    predicted_id = tf.argmax(predictions[0]).numpy()\n",
        "\n",
        "    result += targ_lang.index_word[predicted_id] + ' '\n",
        "\n",
        "    if targ_lang.index_word[predicted_id] == '<end>':\n",
        "      return result, sentence, attention_plot\n",
        "\n",
        "    # the predicted ID is fed back into the model\n",
        "    dec_input = tf.expand_dims([predicted_id], 0)\n",
        "\n",
        "  return result, sentence, attention_plot"
      ],
      "execution_count": 184,
      "outputs": []
    },
    {
      "cell_type": "code",
      "metadata": {
        "id": "Le5H7Dq8LxPv"
      },
      "source": [
        "# function for plotting the attention weights\n",
        "def luong_plot_attention(attention, sentence, predicted_sentence):\n",
        "  fig = plt.figure(figsize=(10,10))\n",
        "  ax = fig.add_subplot(1, 1, 1)\n",
        "  ax.matshow(attention, cmap='viridis',clim=[0,1])\n",
        "\n",
        "  fontdict = {'fontsize': 14}\n",
        "\n",
        "  ax.set_xticklabels([''] + sentence, fontdict=fontdict, rotation=90)\n",
        "  ax.set_yticklabels([''] + predicted_sentence, fontdict=fontdict)\n",
        "\n",
        "  ax.xaxis.set_major_locator(ticker.MultipleLocator(1))\n",
        "  ax.yaxis.set_major_locator(ticker.MultipleLocator(1))\n",
        "\n",
        "  plt.show()"
      ],
      "execution_count": 183,
      "outputs": []
    },
    {
      "cell_type": "code",
      "metadata": {
        "id": "1HVgpfTshBUL"
      },
      "source": [
        "def luong_translate(sentence):\n",
        "  result, sentence, attention_plot = luong_evaluate(sentence)\n",
        "\n",
        "  print('Input: %s' % (sentence))\n",
        "  print('Predicted translation: {}'.format(result))\n",
        "\n",
        "  attention_plot = attention_plot[:len(result.split(' ')), :len(sentence.split(' '))]\n",
        "  luong_plot_attention(attention_plot, sentence.split(' '), result.split(' '))"
      ],
      "execution_count": 182,
      "outputs": []
    },
    {
      "cell_type": "code",
      "metadata": {
        "id": "zNjw0oAdhBX8",
        "outputId": "7b22466a-6f83-460b-dcae-305249c3f83e",
        "colab": {
          "base_uri": "https://localhost:8080/",
          "height": 33
        }
      },
      "source": [
        "luong_checkpoint.restore(tf.train.latest_checkpoint(luong_checkpoint_dir))"
      ],
      "execution_count": 185,
      "outputs": [
        {
          "output_type": "execute_result",
          "data": {
            "text/plain": [
              "<tensorflow.python.training.tracking.util.CheckpointLoadStatus at 0x7f64c46518d0>"
            ]
          },
          "metadata": {
            "tags": []
          },
          "execution_count": 185
        }
      ]
    },
    {
      "cell_type": "code",
      "metadata": {
        "id": "3yzovWf5hI1P",
        "outputId": "e8341cf4-d550-4eb0-c02d-4252099fbf76",
        "colab": {
          "base_uri": "https://localhost:8080/",
          "height": 685
        }
      },
      "source": [
        "luong_translate(u'Das kann nicht passieren.')"
      ],
      "execution_count": 186,
      "outputs": [
        {
          "output_type": "stream",
          "text": [
            "Input: <start> das kann nicht passieren . <end>\n",
            "Predicted translation: that can t happen . <end> \n"
          ],
          "name": "stdout"
        },
        {
          "output_type": "display_data",
          "data": {
            "image/png": "[encoded data removed]",
            "text/plain": [
              "<Figure size 720x720 with 1 Axes>"
            ]
          },
          "metadata": {
            "tags": [],
            "needs_background": "light"
          }
        }
      ]
    },
    {
      "cell_type": "code",
      "metadata": {
        "id": "f5nAOrvZhI5g",
        "outputId": "b81b05b2-555a-43b9-a40f-7f9f4095c7ae",
        "colab": {
          "base_uri": "https://localhost:8080/",
          "height": 445
        }
      },
      "source": [
        "luong_translate(u'Die Blume fällt während der Nacht.')"
      ],
      "execution_count": 187,
      "outputs": [
        {
          "output_type": "stream",
          "text": [
            "Input: <start> die blume fallt wahrend der nacht . <end>\n",
            "Predicted translation: the birds . <end> \n"
          ],
          "name": "stdout"
        },
        {
          "output_type": "display_data",
          "data": {
            "image/png": "[encoded data removed]",
            "text/plain": [
              "<Figure size 720x720 with 1 Axes>"
            ]
          },
          "metadata": {
            "tags": [],
            "needs_background": "light"
          }
        }
      ]
    },
    {
      "cell_type": "code",
      "metadata": {
        "id": "lVhx2NVuhR8J",
        "outputId": "7f8010da-1a6e-4832-c6e0-bcbe56a53ee6",
        "colab": {
          "base_uri": "https://localhost:8080/",
          "height": 623
        }
      },
      "source": [
        "luong_translate(u'Er ist gestern gestorben.')"
      ],
      "execution_count": 188,
      "outputs": [
        {
          "output_type": "stream",
          "text": [
            "Input: <start> er ist gestern gestorben . <end>\n",
            "Predicted translation: he died yesterday . <end> \n"
          ],
          "name": "stdout"
        },
        {
          "output_type": "display_data",
          "data": {
            "image/png": "[encoded data removed]",
            "text/plain": [
              "<Figure size 720x720 with 1 Axes>"
            ]
          },
          "metadata": {
            "tags": [],
            "needs_background": "light"
          }
        }
      ]
    },
    {
      "cell_type": "markdown",
      "metadata": {
        "id": "9jZXOBaHKy-k"
      },
      "source": [
        "# Restore the latest checkpoint of dot product attention and evaluating"
      ]
    },
    {
      "cell_type": "code",
      "metadata": {
        "id": "-YPvM4BUMUOe"
      },
      "source": [
        "def dotproduct_evaluate(sentence):\n",
        "  attention_plot = np.zeros((max_length_targ, max_length_inp))\n",
        "\n",
        "  sentence = preprocess_sentence(sentence)\n",
        "\n",
        "  inputs = [inp_lang.word_index[i] for i in sentence.split(' ')]\n",
        "  inputs = tf.keras.preprocessing.sequence.pad_sequences([inputs],\n",
        "                                                         maxlen=max_length_inp,\n",
        "                                                         padding='post')\n",
        "  inputs = tf.convert_to_tensor(inputs)\n",
        "\n",
        "  result = ''\n",
        "\n",
        "  hidden = [tf.zeros((1, units))]\n",
        "  enc_out, enc_hidden = encoder(inputs, hidden)\n",
        "\n",
        "  dec_hidden = enc_hidden\n",
        "  dec_input = tf.expand_dims([targ_lang.word_index['<start>']], 0)\n",
        "\n",
        "  for t in range(max_length_targ):\n",
        "    predictions, dec_hidden, attention_weights = dotproduct_decoder(dec_input,\n",
        "                                                         dec_hidden,\n",
        "                                                         enc_out)\n",
        "\n",
        "    # storing the attention weights to plot later on\n",
        "    attention_weights = tf.reshape(attention_weights, (-1, ))\n",
        "    attention_plot[t] = attention_weights.numpy()\n",
        "\n",
        "    predicted_id = tf.argmax(predictions[0]).numpy()\n",
        "\n",
        "    result += targ_lang.index_word[predicted_id] + ' '\n",
        "\n",
        "    if targ_lang.index_word[predicted_id] == '<end>':\n",
        "      return result, sentence, attention_plot\n",
        "\n",
        "    # the predicted ID is fed back into the model\n",
        "    dec_input = tf.expand_dims([predicted_id], 0)\n",
        "\n",
        "  return result, sentence, attention_plot"
      ],
      "execution_count": 77,
      "outputs": []
    },
    {
      "cell_type": "code",
      "metadata": {
        "id": "hpmwtgp6MURs"
      },
      "source": [
        "# function for plotting the attention weights\n",
        "def dotproduct_plot_attention(attention, sentence, predicted_sentence):\n",
        "  fig = plt.figure(figsize=(10,10))\n",
        "  ax = fig.add_subplot(1, 1, 1)\n",
        "  ax.matshow(attention, cmap='viridis',clim=[0,1])\n",
        "\n",
        "  fontdict = {'fontsize': 14}\n",
        "\n",
        "  ax.set_xticklabels([''] + sentence, fontdict=fontdict, rotation=90)\n",
        "  ax.set_yticklabels([''] + predicted_sentence, fontdict=fontdict)\n",
        "\n",
        "  ax.xaxis.set_major_locator(ticker.MultipleLocator(1))\n",
        "  ax.yaxis.set_major_locator(ticker.MultipleLocator(1))\n",
        "\n",
        "  plt.show()"
      ],
      "execution_count": 84,
      "outputs": []
    },
    {
      "cell_type": "code",
      "metadata": {
        "id": "KsAJdoMeMUXo"
      },
      "source": [
        "def dotproduct_translate(sentence):\n",
        "  result, sentence, attention_plot = dotproduct_evaluate(sentence)\n",
        "\n",
        "  print('Input: %s' % (sentence))\n",
        "  print('Predicted translation: {}'.format(result))\n",
        "\n",
        "  attention_plot = attention_plot[:len(result.split(' ')), :len(sentence.split(' '))]\n",
        "  dotproduct_plot_attention(attention_plot, sentence.split(' '), result.split(' '))"
      ],
      "execution_count": 93,
      "outputs": []
    },
    {
      "cell_type": "code",
      "metadata": {
        "id": "dVy9X4ezK-53",
        "outputId": "7adc9cb7-143e-4b53-b3e6-7fa627193c06",
        "colab": {
          "base_uri": "https://localhost:8080/",
          "height": 33
        }
      },
      "source": [
        "dotproduct_checkpoint.restore(tf.train.latest_checkpoint(dotproduct_checkpoint_dir))"
      ],
      "execution_count": 91,
      "outputs": [
        {
          "output_type": "execute_result",
          "data": {
            "text/plain": [
              "<tensorflow.python.training.tracking.util.CheckpointLoadStatus at 0x7f64cc4efba8>"
            ]
          },
          "metadata": {
            "tags": []
          },
          "execution_count": 91
        }
      ]
    },
    {
      "cell_type": "code",
      "metadata": {
        "id": "sHYlg999LQ_p",
        "outputId": "92908aa2-5534-4c19-cb97-91ef343cb67a",
        "colab": {
          "base_uri": "https://localhost:8080/",
          "height": 685
        }
      },
      "source": [
        "dotproduct_translate(u'Das kann nicht passieren.')"
      ],
      "execution_count": 94,
      "outputs": [
        {
          "output_type": "stream",
          "text": [
            "Input: <start> das kann nicht passieren . <end>\n",
            "Predicted translation: that can t happen . <end> \n"
          ],
          "name": "stdout"
        },
        {
          "output_type": "display_data",
          "data": {
            "image/png": "[encoded data removed]",
            "text/plain": [
              "<Figure size 720x720 with 1 Axes>"
            ]
          },
          "metadata": {
            "tags": [],
            "needs_background": "light"
          }
        }
      ]
    },
    {
      "cell_type": "code",
      "metadata": {
        "id": "Ng4b_7ERLRD6",
        "outputId": "f6056636-57fa-42ae-cfaf-b2af45121a82",
        "colab": {
          "base_uri": "https://localhost:8080/",
          "height": 630
        }
      },
      "source": [
        "dotproduct_translate(u'Die Blume fällt während der Nacht.')"
      ],
      "execution_count": 95,
      "outputs": [
        {
          "output_type": "stream",
          "text": [
            "Input: <start> die blume fallt wahrend der nacht . <end>\n",
            "Predicted translation: the theater is final night . <end> \n"
          ],
          "name": "stdout"
        },
        {
          "output_type": "display_data",
          "data": {
            "image/png": "[encoded data removed]",
            "text/plain": [
              "<Figure size 720x720 with 1 Axes>"
            ]
          },
          "metadata": {
            "tags": [],
            "needs_background": "light"
          }
        }
      ]
    },
    {
      "cell_type": "code",
      "metadata": {
        "id": "ziI7tchXOanD",
        "outputId": "19cefcb0-b788-4c22-cfe6-a8aac0835cf3",
        "colab": {
          "base_uri": "https://localhost:8080/",
          "height": 623
        }
      },
      "source": [
        "dotproduct_translate(u'Er ist gestern gestorben.')"
      ],
      "execution_count": 96,
      "outputs": [
        {
          "output_type": "stream",
          "text": [
            "Input: <start> er ist gestern gestorben . <end>\n",
            "Predicted translation: he died yesterday . <end> \n"
          ],
          "name": "stdout"
        },
        {
          "output_type": "display_data",
          "data": {
            "image/png": "[encoded data removed]",
            "text/plain": [
              "<Figure size 720x720 with 1 Axes>"
            ]
          },
          "metadata": {
            "tags": [],
            "needs_background": "light"
          }
        }
      ]
    },
    {
      "cell_type": "code",
      "metadata": {
        "id": "SDVItX04PqQA",
        "outputId": "8bac01bf-cda7-4b79-91a4-e04decf0336f",
        "colab": {
          "base_uri": "https://localhost:8080/",
          "height": 212
        }
      },
      "source": [
        "!zip -r \"dotproduct_training_checkpoints.zip\" \"/content/dotproduct_training_checkpoints\""
      ],
      "execution_count": 98,
      "outputs": [
        {
          "output_type": "stream",
          "text": [
            "  adding: content/dotproduct_training_checkpoints/ (stored 0%)\n",
            "  adding: content/dotproduct_training_checkpoints/ckpt-3.data-00000-of-00001 (deflated 53%)\n",
            "  adding: content/dotproduct_training_checkpoints/ckpt-2.index (deflated 71%)\n",
            "  adding: content/dotproduct_training_checkpoints/ckpt-5.data-00000-of-00001 (deflated 53%)\n",
            "  adding: content/dotproduct_training_checkpoints/ckpt-1.index (deflated 71%)\n",
            "  adding: content/dotproduct_training_checkpoints/checkpoint (deflated 38%)\n",
            "  adding: content/dotproduct_training_checkpoints/ckpt-1.data-00000-of-00001 (deflated 53%)\n",
            "  adding: content/dotproduct_training_checkpoints/ckpt-3.index (deflated 71%)\n",
            "  adding: content/dotproduct_training_checkpoints/ckpt-4.data-00000-of-00001 (deflated 53%)\n",
            "  adding: content/dotproduct_training_checkpoints/ckpt-4.index (deflated 72%)\n",
            "  adding: content/dotproduct_training_checkpoints/ckpt-2.data-00000-of-00001 (deflated 53%)\n",
            "  adding: content/dotproduct_training_checkpoints/ckpt-5.index (deflated 71%)\n"
          ],
          "name": "stdout"
        }
      ]
    }
  ]
}