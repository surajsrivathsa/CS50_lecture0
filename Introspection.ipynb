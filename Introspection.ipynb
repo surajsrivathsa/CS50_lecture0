{
  "nbformat": 4,
  "nbformat_minor": 0,
  "metadata": {
    "colab": {
      "name": "Introspection.ipynb",
      "provenance": [],
      "collapsed_sections": [
        "exQzRKEpMaVQ",
        "dd0hyp2_MaZb",
        "fmSIB_Dufl9j"
      ],
      "authorship_tag": "ABX9TyO2p9d989RDpwa+1IKkLJNK",
      "include_colab_link": true
    },
    "kernelspec": {
      "name": "python3",
      "display_name": "Python 3"
    },
    "accelerator": "GPU"
  },
  "cells": [
    {
      "cell_type": "markdown",
      "metadata": {
        "id": "view-in-github",
        "colab_type": "text"
      },
      "source": [
        "<a href=\"https://colab.research.google.com/github/surajsrivathsa/ovgu_deeplearning/blob/master/Introspection.ipynb\" target=\"_parent\"><img src=\"https://colab.research.google.com/assets/colab-badge.svg\" alt=\"Open In Colab\"/></a>"
      ]
    },
    {
      "cell_type": "markdown",
      "metadata": {
        "id": "UNGZH5mPFjbf",
        "colab_type": "text"
      },
      "source": [
        "**Project Assignment 4:** Introspection\n",
        "\n",
        "**Team members:**\n",
        "1. Sanjeeth Busnur Indushekar: 224133 : sanjeeth.busnur@st.ovgu.de\n",
        "2. Suraj Shashidhar: 230052 : suraj.shashidhar@st.ovgu.de"
      ]
    },
    {
      "cell_type": "markdown",
      "metadata": {
        "id": "FcIEgqJpG3kH",
        "colab_type": "text"
      },
      "source": [
        "Tasks To be done\n",
        "\n",
        "4.1 gradient-based saliency map (sensitivity analysis)\n",
        "\n",
        "- - Run a batch of inputs through the trained model.\n",
        "\n",
        "Wrap this in a GradientTape where you watch the input batch.\n",
        "(batch size can be 1 if you just like to produce a single saliency map)\n",
        "Compute the gradient for a particular logit or its softmax output with respect to the input.\n",
        "\n",
        "- This tells us how a change in each input pixel would affect the class output.\n",
        "\n",
        "- This already gives you a batch of gradient-based saliency maps!\n",
        "\n",
        "- Plot the saliency map next to the original image or superimpose it.\n",
        "\n",
        "- Do the saliency maps seem to make sense? How would you interpret them?\n",
        "\n",
        "Hint: It makes sense to take the sign of the gradient into account when interpreting them.\n",
        "\n",
        "Negative gradients indicate a decrease in output value, positive gradients an increase.\n",
        "\n",
        "4.2 Activation Maximization\n",
        "\n",
        "Extend the code from 4.1 to create an optimal input for a particular class.\n",
        "\n",
        "- Add the gradients (i.e. the saliency map) to the input. You should multiply the gradients with a small constant (like a learning rate) to make sure the inputs aren’t changed too much.\n",
        "\n",
        "- Do multiple update steps to make the input more optimal for the chosen output class.\n",
        "(I recommend implementing your own update step, but you are allowed to use a keras training loop to optimize the input.)\n",
        "\n",
        "- Does the resulting input look natural?\n",
        "\n",
        "- How does the inputs change when applying many steps of optimization?\n",
        "\n",
        "- How do the optimal inputs differ when initializing the optimization with random noise instead of real examples?\n",
        "\n",
        "Bonus: Apply regularization strategies to make the optimal input more natural-looking.\n",
        "\n"
      ]
    },
    {
      "cell_type": "code",
      "metadata": {
        "id": "Tm-7nvSF4Jbd",
        "colab_type": "code",
        "colab": {}
      },
      "source": [
        "import os\n",
        "%tensorflow_version 2.x\n",
        "import tensorflow as tf\n",
        "from sklearn import preprocessing\n",
        "from google.colab import files\n",
        "from google.colab import drive\n",
        "import matplotlib.pyplot as plt\n",
        "import pandas as pd\n",
        "import copy\n",
        "import numpy as np\n",
        "from datasets import MNISTDataset"
      ],
      "execution_count": 1,
      "outputs": []
    },
    {
      "cell_type": "code",
      "metadata": {
        "id": "tJzT37jxLvHH",
        "colab_type": "code",
        "colab": {}
      },
      "source": [
        "from tensorflow import keras\n",
        "from tensorflow.keras.preprocessing.image import ImageDataGenerator\n",
        "from keras.preprocessing import image\n",
        "from tensorflow.keras import datasets, layers, models\n",
        "from tensorflow.keras import initializers\n",
        "import tensorboard\n",
        "import time\n",
        "from datetime import datetime\n",
        "from keras import backend as K"
      ],
      "execution_count": 2,
      "outputs": []
    },
    {
      "cell_type": "code",
      "metadata": {
        "id": "wQ2-hrUA4qdc",
        "colab_type": "code",
        "colab": {
          "base_uri": "https://localhost:8080/",
          "height": 51
        },
        "outputId": "bca1899b-c948-4e72-db13-1df0dec587f4"
      },
      "source": [
        "print('tensorflow {}'.format(tf.__version__))\n",
        "print(\"keras {}\".format(keras.__version__))"
      ],
      "execution_count": 3,
      "outputs": [
        {
          "output_type": "stream",
          "text": [
            "tensorflow 2.3.0\n",
            "keras 2.4.0\n"
          ],
          "name": "stdout"
        }
      ]
    },
    {
      "cell_type": "code",
      "metadata": {
        "id": "hW-aKSx5MTHc",
        "colab_type": "code",
        "colab": {
          "base_uri": "https://localhost:8080/",
          "height": 316
        },
        "outputId": "841c5084-df37-4d56-f830-52a4949ce657"
      },
      "source": [
        "mnist = tf.keras.datasets.mnist\n",
        "(train_images, train_labels), (test_images, test_labels) = mnist.load_data()\n",
        "plt.imshow(train_images[4], cmap=\"Greys_r\")\n",
        "print(train_labels[1:10])"
      ],
      "execution_count": 4,
      "outputs": [
        {
          "output_type": "stream",
          "text": [
            "Downloading data from https://storage.googleapis.com/tensorflow/tf-keras-datasets/mnist.npz\n",
            "11493376/11490434 [==============================] - 0s 0us/step\n",
            "[0 4 1 9 2 1 3 1 4]\n"
          ],
          "name": "stdout"
        },
        {
          "output_type": "display_data",
          "data": {
            "image/png": "[encoded data removed]",
            "text/plain": [
              "<Figure size 432x288 with 1 Axes>"
            ]
          },
          "metadata": {
            "tags": [],
            "needs_background": "light"
          }
        }
      ]
    },
    {
      "cell_type": "code",
      "metadata": {
        "id": "uRR5LQ-0MTKK",
        "colab_type": "code",
        "colab": {
          "base_uri": "https://localhost:8080/",
          "height": 34
        },
        "outputId": "d68cf43e-aa51-4f8c-9d57-e680f2cd28e9"
      },
      "source": [
        "data = MNISTDataset(train_images.reshape([-1, 784]), train_labels, \n",
        "                    test_images.reshape([-1, 784]), test_labels,\n",
        "                    batch_size=128)\n",
        "print(train_images.reshape([-1, 784]).shape)"
      ],
      "execution_count": 5,
      "outputs": [
        {
          "output_type": "stream",
          "text": [
            "(60000, 784)\n"
          ],
          "name": "stdout"
        }
      ]
    },
    {
      "cell_type": "code",
      "metadata": {
        "id": "0l0lWO8bMTQX",
        "colab_type": "code",
        "colab": {
          "base_uri": "https://localhost:8080/",
          "height": 85
        },
        "outputId": "72e48cfb-7773-4ec8-ac70-09bd31e82ce2"
      },
      "source": [
        "print(train_images.shape)\n",
        "print(train_labels.shape)\n",
        "print(test_images.shape)\n",
        "print(test_labels.shape)"
      ],
      "execution_count": 6,
      "outputs": [
        {
          "output_type": "stream",
          "text": [
            "(60000, 28, 28)\n",
            "(60000,)\n",
            "(10000, 28, 28)\n",
            "(10000,)\n"
          ],
          "name": "stdout"
        }
      ]
    },
    {
      "cell_type": "code",
      "metadata": {
        "id": "_S2qT04PTNsj",
        "colab_type": "code",
        "colab": {
          "base_uri": "https://localhost:8080/",
          "height": 52
        },
        "outputId": "ecd487dd-429d-4a97-8121-911aaf1eda4f"
      },
      "source": [
        "new_train_images = tf.cast(tf.expand_dims(train_images, axis = -1),dtype=\"float32\")\n",
        "print(new_train_images.shape)\n",
        "\n",
        "new_test_images = tf.cast(tf.expand_dims(test_images, axis=-1 ),dtype=\"float32\")\n",
        "print(new_test_images.shape)"
      ],
      "execution_count": null,
      "outputs": [
        {
          "output_type": "stream",
          "text": [
            "(60000, 28, 28, 1)\n",
            "(10000, 28, 28, 1)\n"
          ],
          "name": "stdout"
        }
      ]
    },
    {
      "cell_type": "code",
      "metadata": {
        "id": "25bDbj07nu_u",
        "colab_type": "code",
        "colab": {}
      },
      "source": [
        "introspection_training_images = tf.cast(tf.expand_dims(train_images, axis = -1),dtype=\"float32\")\n",
        "introspection_testing_images = tf.cast(tf.expand_dims(test_images, axis=-1 ),dtype=\"float32\")\n",
        "\n",
        "introspection_training_labels = tf.convert_to_tensor(train_labels, dtype=tf.float32)\n",
        "introspection_testing_labels = tf.convert_to_tensor(test_labels, dtype=tf.float32)"
      ],
      "execution_count": 7,
      "outputs": []
    },
    {
      "cell_type": "markdown",
      "metadata": {
        "id": "exQzRKEpMaVQ",
        "colab_type": "text"
      },
      "source": [
        "# Pretrain a simple CNN model"
      ]
    },
    {
      "cell_type": "code",
      "metadata": {
        "id": "819hgv8_MnGS",
        "colab_type": "code",
        "colab": {}
      },
      "source": [
        "def create_cnn_model():\n",
        "  model = keras.Sequential()\n",
        "  model.add(layers.Conv2D(filters=8,kernel_size=(3,3),padding=\"same\",activation=\"relu\" , input_shape=(28, 28, 1), ))\n",
        "  model.add(layers.BatchNormalization())\n",
        "  model.add(layers.Conv2D(filters=16,kernel_size=(3,3),padding=\"same\",activation=\"relu\" ))\n",
        "  model.add(layers.BatchNormalization())\n",
        "  model.add(layers.MaxPool2D(pool_size=(2,2), strides=2))\n",
        "  model.add(layers.Conv2D(filters=32,kernel_size=(3,3),padding=\"same\", activation=\"relu\"))\n",
        "  model.add(layers.BatchNormalization())\n",
        "  model.add(layers.Conv2D(filters=64,kernel_size=(3,3),padding=\"same\", activation=\"relu\"))\n",
        "  model.add(layers.BatchNormalization())\n",
        "  model.add(layers.MaxPool2D(pool_size=(2,2), strides=2))\n",
        "  model.add(layers.Conv2D(filters=128,kernel_size=(3,3),padding=\"same\", activation=\"relu\"))\n",
        "  model.add(layers.BatchNormalization())\n",
        "  model.add(layers.Conv2D(filters=256,kernel_size=(3,3),padding=\"same\", activation=\"relu\"))\n",
        "  model.add(layers.BatchNormalization())\n",
        "  model.add(layers.MaxPool2D(pool_size=(2,2), strides=2))\n",
        "  model.add(layers.Conv2D(filters=512,kernel_size=(3,3),padding=\"same\", activation=\"relu\"))\n",
        "  model.add(layers.BatchNormalization())\n",
        "  model.add(layers.Conv2D(filters=64,kernel_size=(1,1),padding=\"same\", activation=\"relu\"))\n",
        "  model.add(layers.BatchNormalization())\n",
        "  model.add(layers.Flatten(input_shape=(3,3,64)))\n",
        "  model.add(layers.Dense(units=256, activation=\"relu\"))\n",
        "  model.add(layers.Dense(units=10,activation=\"softmax\"))\n",
        "  model.summary()\n",
        "  return model;"
      ],
      "execution_count": null,
      "outputs": []
    },
    {
      "cell_type": "code",
      "metadata": {
        "id": "LDMdOqWeMnMC",
        "colab_type": "code",
        "colab": {
          "base_uri": "https://localhost:8080/",
          "height": 941
        },
        "outputId": "c6ec18ea-363e-414f-c65b-1f007c5aa4bd"
      },
      "source": [
        "vgg_cnn_model = create_cnn_model()"
      ],
      "execution_count": null,
      "outputs": [
        {
          "output_type": "stream",
          "text": [
            "Model: \"sequential\"\n",
            "_________________________________________________________________\n",
            "Layer (type)                 Output Shape              Param #   \n",
            "=================================================================\n",
            "conv2d (Conv2D)              (None, 28, 28, 8)         80        \n",
            "_________________________________________________________________\n",
            "batch_normalization (BatchNo (None, 28, 28, 8)         32        \n",
            "_________________________________________________________________\n",
            "conv2d_1 (Conv2D)            (None, 28, 28, 16)        1168      \n",
            "_________________________________________________________________\n",
            "batch_normalization_1 (Batch (None, 28, 28, 16)        64        \n",
            "_________________________________________________________________\n",
            "max_pooling2d (MaxPooling2D) (None, 14, 14, 16)        0         \n",
            "_________________________________________________________________\n",
            "conv2d_2 (Conv2D)            (None, 14, 14, 32)        4640      \n",
            "_________________________________________________________________\n",
            "batch_normalization_2 (Batch (None, 14, 14, 32)        128       \n",
            "_________________________________________________________________\n",
            "conv2d_3 (Conv2D)            (None, 14, 14, 64)        18496     \n",
            "_________________________________________________________________\n",
            "batch_normalization_3 (Batch (None, 14, 14, 64)        256       \n",
            "_________________________________________________________________\n",
            "max_pooling2d_1 (MaxPooling2 (None, 7, 7, 64)          0         \n",
            "_________________________________________________________________\n",
            "conv2d_4 (Conv2D)            (None, 7, 7, 128)         73856     \n",
            "_________________________________________________________________\n",
            "batch_normalization_4 (Batch (None, 7, 7, 128)         512       \n",
            "_________________________________________________________________\n",
            "conv2d_5 (Conv2D)            (None, 7, 7, 256)         295168    \n",
            "_________________________________________________________________\n",
            "batch_normalization_5 (Batch (None, 7, 7, 256)         1024      \n",
            "_________________________________________________________________\n",
            "max_pooling2d_2 (MaxPooling2 (None, 3, 3, 256)         0         \n",
            "_________________________________________________________________\n",
            "conv2d_6 (Conv2D)            (None, 3, 3, 512)         1180160   \n",
            "_________________________________________________________________\n",
            "batch_normalization_6 (Batch (None, 3, 3, 512)         2048      \n",
            "_________________________________________________________________\n",
            "conv2d_7 (Conv2D)            (None, 3, 3, 64)          32832     \n",
            "_________________________________________________________________\n",
            "batch_normalization_7 (Batch (None, 3, 3, 64)          256       \n",
            "_________________________________________________________________\n",
            "flatten (Flatten)            (None, 576)               0         \n",
            "_________________________________________________________________\n",
            "dense (Dense)                (None, 256)               147712    \n",
            "_________________________________________________________________\n",
            "dense_1 (Dense)              (None, 10)                2570      \n",
            "=================================================================\n",
            "Total params: 1,761,002\n",
            "Trainable params: 1,758,842\n",
            "Non-trainable params: 2,160\n",
            "_________________________________________________________________\n"
          ],
          "name": "stdout"
        }
      ]
    },
    {
      "cell_type": "code",
      "metadata": {
        "id": "OcCP4CupMnJX",
        "colab_type": "code",
        "colab": {}
      },
      "source": [
        "vgg_cnn_model.compile(optimizer=\"adam\", loss = tf.keras.losses.sparse_categorical_crossentropy, metrics=[\"accuracy\"])"
      ],
      "execution_count": null,
      "outputs": []
    },
    {
      "cell_type": "code",
      "metadata": {
        "id": "EKrKfFvjSs-7",
        "colab_type": "code",
        "colab": {
          "base_uri": "https://localhost:8080/",
          "height": 141
        },
        "outputId": "3de9058e-91ca-441d-de51-a37771c67fc5"
      },
      "source": [
        "vgg_cnn_model.fit(new_train_images, train_labels,  epochs=3, batch_size=128, validation_data= (new_test_images, test_labels))"
      ],
      "execution_count": null,
      "outputs": [
        {
          "output_type": "stream",
          "text": [
            "Epoch 1/3\n",
            "469/469 [==============================] - 5s 11ms/step - loss: 0.1188 - accuracy: 0.9636 - val_loss: 0.0642 - val_accuracy: 0.9797\n",
            "Epoch 2/3\n",
            "469/469 [==============================] - 5s 10ms/step - loss: 0.0348 - accuracy: 0.9891 - val_loss: 0.0317 - val_accuracy: 0.9904\n",
            "Epoch 3/3\n",
            "469/469 [==============================] - 5s 10ms/step - loss: 0.0269 - accuracy: 0.9919 - val_loss: 0.0397 - val_accuracy: 0.9884\n"
          ],
          "name": "stdout"
        },
        {
          "output_type": "execute_result",
          "data": {
            "text/plain": [
              "<tensorflow.python.keras.callbacks.History at 0x7f249e7a7390>"
            ]
          },
          "metadata": {
            "tags": []
          },
          "execution_count": 103
        }
      ]
    },
    {
      "cell_type": "code",
      "metadata": {
        "id": "CNqID72rStCD",
        "colab_type": "code",
        "colab": {
          "base_uri": "https://localhost:8080/",
          "height": 34
        },
        "outputId": "16b8b6fc-def2-408d-9d5e-3ad2916b5f26"
      },
      "source": [
        "vgg_cnn_model.save(\"/content/vgg_cnn_model_introspection\")"
      ],
      "execution_count": null,
      "outputs": [
        {
          "output_type": "stream",
          "text": [
            "INFO:tensorflow:Assets written to: /content/vgg_cnn_model_introspection/assets\n"
          ],
          "name": "stdout"
        }
      ]
    },
    {
      "cell_type": "code",
      "metadata": {
        "id": "Qhi1ZRboyGsF",
        "colab_type": "code",
        "colab": {
          "base_uri": "https://localhost:8080/",
          "height": 141
        },
        "outputId": "d5b6adc2-0983-4136-f299-db37279a57ea"
      },
      "source": [
        "!zip -r vgg_cnn_model_introspection.zip /content/vgg_cnn_model_introspection"
      ],
      "execution_count": null,
      "outputs": [
        {
          "output_type": "stream",
          "text": [
            "  adding: content/vgg_cnn_model_introspection/ (stored 0%)\n",
            "  adding: content/vgg_cnn_model_introspection/saved_model.pb (deflated 91%)\n",
            "  adding: content/vgg_cnn_model_introspection/variables/ (stored 0%)\n",
            "  adding: content/vgg_cnn_model_introspection/variables/variables.data-00001-of-00002 (deflated 8%)\n",
            "  adding: content/vgg_cnn_model_introspection/variables/variables.index (deflated 75%)\n",
            "  adding: content/vgg_cnn_model_introspection/variables/variables.data-00000-of-00002 (deflated 83%)\n",
            "  adding: content/vgg_cnn_model_introspection/assets/ (stored 0%)\n"
          ],
          "name": "stdout"
        }
      ]
    },
    {
      "cell_type": "code",
      "metadata": {
        "id": "nsQayqwxyGwE",
        "colab_type": "code",
        "colab": {}
      },
      "source": [
        ""
      ],
      "execution_count": null,
      "outputs": []
    },
    {
      "cell_type": "markdown",
      "metadata": {
        "id": "dd0hyp2_MaZb",
        "colab_type": "text"
      },
      "source": [
        "# Saliency Maps\n",
        "\n",
        "This is the side by side comparision of images with mask of number one applied.\n",
        "\n",
        "**Process**\n",
        "\n",
        "- Predict the softmax output of the model.\n",
        "\n",
        "- Apply mask on softmax/logits output. For example if we want to find the output number ones contribution or sensitivity then except number one softmax make everything zero, same way do for other numbers separately. Hence we end up with 10 masks.\n",
        "\n",
        "- Apply these masks on softmax output and find the losses. Obviously losses will be high for most of the numbers as we have masked the relvenat part of softmax out\n",
        "\n",
        "- Backpropagate and now find the derivative of masked softmax wrt input image, Since all softmax output positions except one position is zero gradient can only flow back through this position.\n",
        "\n",
        "- This is not guided backprop as we are not applying subsequent relu masks on intermeditate layers featuremaps but only on output.\n",
        "\n",
        "- At the end get the gradients and plot them side by side wrt to input image\n",
        "\n",
        "**Sensitivity analysis for number 1**\n",
        "\n",
        "- We can see that numbers **6, 8, 0** which doesn't have stick shape has no bearing or contribution of softmax(even a little softmax of one is not present in these numbers). S**o these numbers are insensitive to the number one.**\n",
        "\n",
        "- For some numbers like **3, 9 and 4** we can see a slight presence of one when the numbers are slanted. **Less sensitivity**\n",
        "\n",
        "- For number **7** the presence of softmax ones contribution can be clearly seen especially at last image. **Some sensitivity.**\n",
        "\n",
        "- **For contribution of one to one itself, we can see some strong sensitivity.** But thing to note here is for the second one(the one in 3rd row which is really straight and not slant) **it is surprising to see that one is getting recognized due to sensitivity of irrelvenat pixels rather the stick like figure, for one that are slant the activations are from stick.** **Same pattern is present in 7 too if we can see at the last 7 where slnated 7 is getting recognized.**\n",
        "\n",
        "- **This clearly demonstrates that CNN based detection models are non-human like, even though we think them to be. Even after 50 - 60k examples CNN was not able to learn the context better than humans where humans have lower resolution than machines. This is a clear demonstration that we need Better models than CNNs in the future**.\n",
        "\n",
        "**Sensitivity analysis for number 8**\n",
        "\n",
        "- Surprisingly number 1 and 7 which are least related to number 8 are getting activated. Seems like slanted stick like pattern is getting activated everytime.\n",
        "\n",
        "- Numbers 9 are getting activated which are no surprise as upper part of 9 looks like a half of 8. But 9 was activated mainly due to its lower part and garbage pixels. which raises doubts on ability of CNN to understand semantic meaning of images.\n",
        "\n",
        "- 3 should have been activated as it looks like a half of 8, but it dod not happen."
      ]
    },
    {
      "cell_type": "code",
      "metadata": {
        "id": "pRQ7FCvieioU",
        "colab_type": "code",
        "colab": {
          "base_uri": "https://localhost:8080/",
          "height": 158
        },
        "outputId": "a8baa0f0-6eb6-4423-9d1c-905f684a5962"
      },
      "source": [
        "!unzip \"/content/vgg_cnn_model_introspection.zip\" "
      ],
      "execution_count": null,
      "outputs": [
        {
          "output_type": "stream",
          "text": [
            "Archive:  /content/vgg_cnn_model_introspection.zip\n",
            "   creating: content/vgg_cnn_model_introspection/\n",
            "  inflating: content/vgg_cnn_model_introspection/saved_model.pb  \n",
            "   creating: content/vgg_cnn_model_introspection/variables/\n",
            "  inflating: content/vgg_cnn_model_introspection/variables/variables.data-00001-of-00002  \n",
            "  inflating: content/vgg_cnn_model_introspection/variables/variables.index  \n",
            "  inflating: content/vgg_cnn_model_introspection/variables/variables.data-00000-of-00002  \n",
            "   creating: content/vgg_cnn_model_introspection/assets/\n"
          ],
          "name": "stdout"
        }
      ]
    },
    {
      "cell_type": "code",
      "metadata": {
        "id": "-8MyMib4evMg",
        "colab_type": "code",
        "colab": {}
      },
      "source": [
        "vgg_cnn_model = keras.models.load_model(filepath=\"/content/content/vgg_cnn_model_introspection\")\n"
      ],
      "execution_count": null,
      "outputs": []
    },
    {
      "cell_type": "code",
      "metadata": {
        "id": "k2BVHCAdfFhS",
        "colab_type": "code",
        "colab": {
          "base_uri": "https://localhost:8080/",
          "height": 941
        },
        "outputId": "47d28550-6479-4da7-c437-1c26504a5881"
      },
      "source": [
        "vgg_cnn_model.summary()"
      ],
      "execution_count": null,
      "outputs": [
        {
          "output_type": "stream",
          "text": [
            "Model: \"sequential\"\n",
            "_________________________________________________________________\n",
            "Layer (type)                 Output Shape              Param #   \n",
            "=================================================================\n",
            "conv2d (Conv2D)              (None, 28, 28, 8)         80        \n",
            "_________________________________________________________________\n",
            "batch_normalization (BatchNo (None, 28, 28, 8)         32        \n",
            "_________________________________________________________________\n",
            "conv2d_1 (Conv2D)            (None, 28, 28, 16)        1168      \n",
            "_________________________________________________________________\n",
            "batch_normalization_1 (Batch (None, 28, 28, 16)        64        \n",
            "_________________________________________________________________\n",
            "max_pooling2d (MaxPooling2D) (None, 14, 14, 16)        0         \n",
            "_________________________________________________________________\n",
            "conv2d_2 (Conv2D)            (None, 14, 14, 32)        4640      \n",
            "_________________________________________________________________\n",
            "batch_normalization_2 (Batch (None, 14, 14, 32)        128       \n",
            "_________________________________________________________________\n",
            "conv2d_3 (Conv2D)            (None, 14, 14, 64)        18496     \n",
            "_________________________________________________________________\n",
            "batch_normalization_3 (Batch (None, 14, 14, 64)        256       \n",
            "_________________________________________________________________\n",
            "max_pooling2d_1 (MaxPooling2 (None, 7, 7, 64)          0         \n",
            "_________________________________________________________________\n",
            "conv2d_4 (Conv2D)            (None, 7, 7, 128)         73856     \n",
            "_________________________________________________________________\n",
            "batch_normalization_4 (Batch (None, 7, 7, 128)         512       \n",
            "_________________________________________________________________\n",
            "conv2d_5 (Conv2D)            (None, 7, 7, 256)         295168    \n",
            "_________________________________________________________________\n",
            "batch_normalization_5 (Batch (None, 7, 7, 256)         1024      \n",
            "_________________________________________________________________\n",
            "max_pooling2d_2 (MaxPooling2 (None, 3, 3, 256)         0         \n",
            "_________________________________________________________________\n",
            "conv2d_6 (Conv2D)            (None, 3, 3, 512)         1180160   \n",
            "_________________________________________________________________\n",
            "batch_normalization_6 (Batch (None, 3, 3, 512)         2048      \n",
            "_________________________________________________________________\n",
            "conv2d_7 (Conv2D)            (None, 3, 3, 64)          32832     \n",
            "_________________________________________________________________\n",
            "batch_normalization_7 (Batch (None, 3, 3, 64)          256       \n",
            "_________________________________________________________________\n",
            "flatten (Flatten)            (None, 576)               0         \n",
            "_________________________________________________________________\n",
            "dense (Dense)                (None, 256)               147712    \n",
            "_________________________________________________________________\n",
            "dense_1 (Dense)              (None, 10)                2570      \n",
            "=================================================================\n",
            "Total params: 1,761,002\n",
            "Trainable params: 1,758,842\n",
            "Non-trainable params: 2,160\n",
            "_________________________________________________________________\n"
          ],
          "name": "stdout"
        }
      ]
    },
    {
      "cell_type": "code",
      "metadata": {
        "id": "8vdf0iOgMTOU",
        "colab_type": "code",
        "colab": {
          "base_uri": "https://localhost:8080/",
          "height": 282
        },
        "outputId": "572275fe-eda7-49a9-f077-8733682dec4a"
      },
      "source": [
        "introspection_image = introspection_testing_images[0, :, :, :]\n",
        "plt.imshow(introspection_image[:, :, 0], cmap=\"binary\")"
      ],
      "execution_count": null,
      "outputs": [
        {
          "output_type": "execute_result",
          "data": {
            "text/plain": [
              "<matplotlib.image.AxesImage at 0x7fc30012bc88>"
            ]
          },
          "metadata": {
            "tags": []
          },
          "execution_count": 20
        },
        {
          "output_type": "display_data",
          "data": {
            "image/png": "[encoded data removed]",
            "text/plain": [
              "<Figure size 432x288 with 1 Axes>"
            ]
          },
          "metadata": {
            "tags": [],
            "needs_background": "light"
          }
        }
      ]
    },
    {
      "cell_type": "code",
      "metadata": {
        "id": "oCrh0JPkH3Tl",
        "colab_type": "code",
        "colab": {
          "base_uri": "https://localhost:8080/",
          "height": 34
        },
        "outputId": "5b7f8b82-4dbb-40a5-e33b-eef7aa161d0a"
      },
      "source": [
        "introspection_prediction = vgg_cnn_model.predict(introspection_testing_images[0:8, :, :, :])\n",
        "introspection_prediction.shape"
      ],
      "execution_count": null,
      "outputs": [
        {
          "output_type": "execute_result",
          "data": {
            "text/plain": [
              "(8, 10)"
            ]
          },
          "metadata": {
            "tags": []
          },
          "execution_count": 12
        }
      ]
    },
    {
      "cell_type": "code",
      "metadata": {
        "id": "dUPiezuj4YBx",
        "colab_type": "code",
        "colab": {
          "base_uri": "https://localhost:8080/",
          "height": 282
        },
        "outputId": "96c62155-5455-4186-f3f7-ecfffe273e0a"
      },
      "source": [
        "plt.imshow(introspection_testing_images[7,:,:,0], cmap=\"binary\")"
      ],
      "execution_count": null,
      "outputs": [
        {
          "output_type": "execute_result",
          "data": {
            "text/plain": [
              "<matplotlib.image.AxesImage at 0x7fbddff894a8>"
            ]
          },
          "metadata": {
            "tags": []
          },
          "execution_count": 13
        },
        {
          "output_type": "display_data",
          "data": {
            "image/png": "[encoded data removed]",
            "text/plain": [
              "<Figure size 432x288 with 1 Axes>"
            ]
          },
          "metadata": {
            "tags": [],
            "needs_background": "light"
          }
        }
      ]
    },
    {
      "cell_type": "code",
      "metadata": {
        "id": "CQBtBmspH3Rf",
        "colab_type": "code",
        "colab": {
          "base_uri": "https://localhost:8080/",
          "height": 70
        },
        "outputId": "746e0e33-dac2-41ac-ef9b-272fad414a23"
      },
      "source": [
        "introspection_prediction[7]"
      ],
      "execution_count": null,
      "outputs": [
        {
          "output_type": "execute_result",
          "data": {
            "text/plain": [
              "array([7.5519985e-08, 2.8737236e-06, 5.9842296e-07, 2.4699690e-07,\n",
              "       4.1525485e-03, 2.5558572e-06, 4.9045508e-07, 1.7699102e-07,\n",
              "       8.8364504e-06, 9.9583167e-01], dtype=float32)"
            ]
          },
          "metadata": {
            "tags": []
          },
          "execution_count": 14
        }
      ]
    },
    {
      "cell_type": "code",
      "metadata": {
        "id": "aCHdBqxsH3Ph",
        "colab_type": "code",
        "colab": {
          "base_uri": "https://localhost:8080/",
          "height": 282
        },
        "outputId": "11087fcc-e818-42c7-844b-57c3c8d74e6e"
      },
      "source": [
        "plt.imshow(introspection_testing_images[7, :, :, 0], cmap=\"binary\")"
      ],
      "execution_count": null,
      "outputs": [
        {
          "output_type": "execute_result",
          "data": {
            "text/plain": [
              "<matplotlib.image.AxesImage at 0x7fbe01f9b6d8>"
            ]
          },
          "metadata": {
            "tags": []
          },
          "execution_count": 15
        },
        {
          "output_type": "display_data",
          "data": {
            "image/png": "[encoded data removed]",
            "text/plain": [
              "<Figure size 432x288 with 1 Axes>"
            ]
          },
          "metadata": {
            "tags": [],
            "needs_background": "light"
          }
        }
      ]
    },
    {
      "cell_type": "code",
      "metadata": {
        "id": "r6AeBpM76BM0",
        "colab_type": "code",
        "colab": {}
      },
      "source": [
        "zero_mask = tf.tile(tf.Variable(initial_value=tf.constant([1,0,0,0,0,0,0,0,0,0], dtype=\"float32\", shape=(1,10))) , multiples=[10000,1])\n",
        "one_mask =  tf.tile(tf.Variable(initial_value=tf.constant([0,1,0,0,0,0,0,0,0,0], dtype=\"float32\", shape=(1,10))) , multiples=[10000,1])\n",
        "two_mask =  tf.tile(tf.Variable(initial_value=tf.constant([0,0,1,0,0,0,0,0,0,0], dtype=\"float32\", shape=(1,10))) , multiples=[10000,1])\n",
        "three_mask = tf.tile(tf.Variable(initial_value=tf.constant([0,0,0,1,0,0,0,0,0,0], dtype=\"float32\", shape=(1,10))) , multiples=[10000,1])\n",
        "four_mask =  tf.tile(tf.Variable(initial_value=tf.constant([0,0,0,0,1,0,0,0,0,0], dtype=\"float32\", shape=(1,10))) , multiples=[10000,1])\n",
        "five_mask =  tf.tile(tf.Variable(initial_value=tf.constant([0,0,0,0,0,1,0,0,0,0], dtype=\"float32\", shape=(1,10))) , multiples=[10000,1])\n",
        "six_mask = tf.tile(tf.Variable(initial_value=tf.constant([0,0,0,0,0,0,1,0,0,0], dtype=\"float32\", shape=(1,10))) , multiples=[10000,1])\n",
        "seven_mask = tf.tile(tf.Variable(initial_value=tf.constant([0,0,0,0,0,0,0,1,0,0], dtype=\"float32\", shape=(1,10))) , multiples=[10000,1])\n",
        "eight_mask =  tf.tile(tf.Variable(initial_value=tf.constant([0,0,0,0,0,0,0,0,1,0], dtype=\"float32\", shape=(1,10))) , multiples=[10000,1])\n",
        "nine_mask =  tf.tile(tf.Variable(initial_value=tf.constant([0,0,0,0,0,0,0,0,0,1], dtype=\"float32\", shape=(1,10))) , multiples=[10000,1])\n",
        "\n",
        "\n"
      ],
      "execution_count": null,
      "outputs": []
    },
    {
      "cell_type": "code",
      "metadata": {
        "id": "MajrUJH46BFC",
        "colab_type": "code",
        "colab": {}
      },
      "source": [
        "\n",
        "def record_tape(introspection_testing_images, introspection_testing_labels, mask_list=[zero_mask]):\n",
        "  with tf.GradientTape() as tape:\n",
        "    tape.watch(introspection_testing_labels)\n",
        "    tape.watch(introspection_testing_images)\n",
        "    introspection_prediction = vgg_cnn_model(introspection_testing_images)\n",
        "    print(introspection_prediction.shape)\n",
        "    masked_output = []\n",
        "    masked_loss = []\n",
        "\n",
        "    # We need to find the loss only wrt one logits, hence set all the other logits output to zero by multiplying with binary mask\n",
        "    for msk in mask_list:\n",
        "      masked_output.append(tf.multiply(msk, introspection_prediction))\n",
        "\n",
        "    #zero_position_output = tf.multiply(zero_mask,introspection_prediction)\n",
        "    #ones_position_output = tf.multiply(one_mask,introspection_prediction)\n",
        "    \n",
        "    #Not used anywhere, just there for simple cross check\n",
        "    complete_loss = tf.keras.losses.sparse_categorical_crossentropy(introspection_testing_labels, introspection_prediction)\n",
        "    \n",
        "\n",
        "    #masked loss corresponding to the each masked output\n",
        "    \"\"\"\n",
        "    For example: if picture is of number 5 and mask of 5 is applied then every position except 5 is made zero so gradient doesn't flow back.\n",
        "    , for mask of any other number we have higher losss as it doesn't correspond to 5.\n",
        "    Loss will be high for other numbers than picture\n",
        "    \"\"\"\n",
        "    for msk_op in masked_output:\n",
        "      masked_loss.append(tf.keras.losses.sparse_categorical_crossentropy(introspection_testing_labels, msk_op))\n",
        "\n",
        "    #ones_grad_loss = tf.keras.losses.sparse_categorical_crossentropy(test_labels,ones_position_output)\n",
        "\n",
        "  return [tape, masked_loss];\n",
        "\n",
        "#grads = tape.gradient(zero_grad_loss,introspection_testing_images)\n"
      ],
      "execution_count": null,
      "outputs": []
    },
    {
      "cell_type": "code",
      "metadata": {
        "id": "kunOBN0urNMG",
        "colab_type": "code",
        "colab": {
          "base_uri": "https://localhost:8080/",
          "height": 34
        },
        "outputId": "603ad6d4-e18f-4baf-f5c8-a9bb6e93f8ab"
      },
      "source": [
        "tape, masked_loss = record_tape(introspection_testing_images, introspection_testing_labels, mask_list=[one_mask])"
      ],
      "execution_count": null,
      "outputs": [
        {
          "output_type": "stream",
          "text": [
            "(10000, 10)\n"
          ],
          "name": "stdout"
        }
      ]
    },
    {
      "cell_type": "code",
      "metadata": {
        "id": "XsK6ItIEkjqa",
        "colab_type": "code",
        "colab": {}
      },
      "source": [
        "def calculate_masked_grads(introspection_testing_images, introspection_testing_labels, tape, masked_loss):\n",
        "  masked_grads = []\n",
        "\n",
        "  for msk_loss in masked_loss:\n",
        "    masked_grads.append(tape.gradient(msk_loss,introspection_testing_images))\n",
        "  \n",
        "  return masked_grads;"
      ],
      "execution_count": null,
      "outputs": []
    },
    {
      "cell_type": "code",
      "metadata": {
        "id": "_AHlmi7Hkvbw",
        "colab_type": "code",
        "colab": {}
      },
      "source": [
        "masked_grads = calculate_masked_grads(introspection_testing_images, introspection_testing_labels, tape, masked_loss)"
      ],
      "execution_count": null,
      "outputs": []
    },
    {
      "cell_type": "code",
      "metadata": {
        "id": "BsbT7NtAuIND",
        "colab_type": "code",
        "colab": {
          "base_uri": "https://localhost:8080/",
          "height": 34
        },
        "outputId": "88ae4cca-e95e-4ba2-d24d-1a44090d31c3"
      },
      "source": [
        "masked_grads[0].shape"
      ],
      "execution_count": null,
      "outputs": [
        {
          "output_type": "execute_result",
          "data": {
            "text/plain": [
              "TensorShape([10000, 28, 28, 1])"
            ]
          },
          "metadata": {
            "tags": []
          },
          "execution_count": 26
        }
      ]
    },
    {
      "cell_type": "code",
      "metadata": {
        "id": "UXYIPTimxchN",
        "colab_type": "code",
        "colab": {}
      },
      "source": [
        "masked_grads[0][2,:,:,:]"
      ],
      "execution_count": null,
      "outputs": []
    },
    {
      "cell_type": "code",
      "metadata": {
        "id": "ckr5WiSGxEYt",
        "colab_type": "code",
        "colab": {
          "base_uri": "https://localhost:8080/",
          "height": 282
        },
        "outputId": "93f0dd26-63cd-48d7-8754-c8c20cc77475"
      },
      "source": [
        "plt.imshow(tf.nn.relu(masked_grads[0][2,:,:,0]), cmap = \"binary\")"
      ],
      "execution_count": null,
      "outputs": [
        {
          "output_type": "execute_result",
          "data": {
            "text/plain": [
              "<matplotlib.image.AxesImage at 0x7fc30ce37cf8>"
            ]
          },
          "metadata": {
            "tags": []
          },
          "execution_count": 27
        },
        {
          "output_type": "display_data",
          "data": {
            "image/png": "[encoded data removed]",
            "text/plain": [
              "<Figure size 432x288 with 1 Axes>"
            ]
          },
          "metadata": {
            "tags": [],
            "needs_background": "light"
          }
        }
      ]
    },
    {
      "cell_type": "code",
      "metadata": {
        "id": "Gyp9nSDgx8gq",
        "colab_type": "code",
        "colab": {
          "base_uri": "https://localhost:8080/",
          "height": 282
        },
        "outputId": "5914c0f2-7507-45bf-8daf-0053e76f7a50"
      },
      "source": [
        "plt.imshow(introspection_testing_images[1,:,:,0], cmap = \"binary\")"
      ],
      "execution_count": null,
      "outputs": [
        {
          "output_type": "execute_result",
          "data": {
            "text/plain": [
              "<matplotlib.image.AxesImage at 0x7fc2b2fef630>"
            ]
          },
          "metadata": {
            "tags": []
          },
          "execution_count": 28
        },
        {
          "output_type": "display_data",
          "data": {
            "image/png": "[encoded data removed]",
            "text/plain": [
              "<Figure size 432x288 with 1 Axes>"
            ]
          },
          "metadata": {
            "tags": [],
            "needs_background": "light"
          }
        }
      ]
    },
    {
      "cell_type": "code",
      "metadata": {
        "id": "DUlF-AKHoju1",
        "colab_type": "code",
        "colab": {}
      },
      "source": [
        "def plot_figures(introspection_testing_images, masked_grads, num_images=25):\n",
        "  x_subplots = tf.math.sqrt(tf.constant(num_images, dtype = tf.float32))\n",
        "  plt.figure(figsize=(10,10))\n",
        "  j = -1\n",
        "  for i in range(0, num_images):\n",
        "      plt.subplot(6, 6,i+1)\n",
        "      plt.xticks([])\n",
        "      plt.yticks([])\n",
        "      plt.grid(False)\n",
        "      j = j + 1\n",
        "      if(i % 2 == 0):  \n",
        "        plt.imshow(introspection_testing_images[i, :, :, 0], cmap=plt.cm.binary)\n",
        "        #print(i)\n",
        "      elif(j%2 == 1):      \n",
        "        plt.imshow(tf.nn.relu(masked_grads[0][j-1, :, :, 0]), cmap=\"Greys_r\")\n",
        "        #print(j-1)\n",
        "      \n",
        "      #plt.xlabel(class_names[test_images[i]])\n",
        "  plt.show()"
      ],
      "execution_count": null,
      "outputs": []
    },
    {
      "cell_type": "code",
      "metadata": {
        "id": "_EsPKQR2sPdU",
        "colab_type": "code",
        "colab": {
          "base_uri": "https://localhost:8080/",
          "height": 282
        },
        "outputId": "d7696223-3e01-4d0b-ff67-43c161291309"
      },
      "source": [
        "plt.imshow(masked_grads[0][8, :, :, 0], cmap=plt.cm.binary)"
      ],
      "execution_count": null,
      "outputs": [
        {
          "output_type": "execute_result",
          "data": {
            "text/plain": [
              "<matplotlib.image.AxesImage at 0x7fc2b2f527f0>"
            ]
          },
          "metadata": {
            "tags": []
          },
          "execution_count": 30
        },
        {
          "output_type": "display_data",
          "data": {
            "image/png": "[encoded data removed]",
            "text/plain": [
              "<Figure size 432x288 with 1 Axes>"
            ]
          },
          "metadata": {
            "tags": [],
            "needs_background": "light"
          }
        }
      ]
    },
    {
      "cell_type": "markdown",
      "metadata": {
        "id": "EIXLXp52uOit",
        "colab_type": "text"
      },
      "source": [
        "This is the side by side comparision of images with mask of number one applied\n",
        "\n",
        "- We can see that numbers **6, 8, 0** which doesn't have stick shape has no bearing or contribution of softmax(even a little softmax of one is not present in these numbers). S**o these numbers are insensitive to the number one.**\n",
        "\n",
        "- For some numbers like **3, 9 and 4** we can see a slight presence of one when the numbers are slanted. **Less sensitivity**\n",
        "\n",
        "- For number **7** the presence of softmax ones contribution can be clearly seen especially at last image. **Some sensitivity.**\n",
        "\n",
        "- **For contribution of one to one itself, we can see some strong sensitivity.** But thing to note here is for the second one(the one in 3rd row which is really straight and not slant) **it is surprising to see that one is getting recognized due to sensitivity of irrelvenat pixels rather the stick like figure, for one that are slant the activations are from stick.** **Same pattern is present in 7 too if we can see at the last 7 where slnated 7 is getting recognized.**\n",
        "\n",
        "- **This clearly demonstrates that CNN based detection models are non-human like, even though we think them to be. Even after 50 - 60k examples CNN was not able to learn the context better than humans where humans have lower resolution than machines. This is a clear demonstration that we need Better models than CNNs in the future**."
      ]
    },
    {
      "cell_type": "code",
      "metadata": {
        "id": "BilQ4oROqMEP",
        "colab_type": "code",
        "colab": {
          "base_uri": "https://localhost:8080/",
          "height": 577
        },
        "outputId": "22cbf0c7-efe1-488c-9d9a-8c3488de9895"
      },
      "source": [
        "plot_figures(introspection_testing_images, masked_grads, num_images=36)"
      ],
      "execution_count": null,
      "outputs": [
        {
          "output_type": "display_data",
          "data": {
            "image/png": "[encoded data removed]",
            "text/plain": [
              "<Figure size 720x720 with 36 Axes>"
            ]
          },
          "metadata": {
            "tags": []
          }
        }
      ]
    },
    {
      "cell_type": "markdown",
      "metadata": {
        "id": "4tBmaWUmxfBl",
        "colab_type": "text"
      },
      "source": [
        "**Sensitivity analysis for number 8**\n",
        "\n",
        "- Surprisingly number 1 and 7 which are least related to number 8 are getting activated. Seems like slanted stick like pattern is getting activated everytime.\n",
        "\n",
        "- Numbers 9 are getting activated which are no surprise as upper part of 9 looks like a half of 8. But 9 was activated mainly due to its lower part and garbage pixels. which raises doubts on ability of CNN to understand semantic meaning of images.\n",
        "\n",
        "- 3 should have been activated as it looks like a half of 8, but it dod not happen."
      ]
    },
    {
      "cell_type": "code",
      "metadata": {
        "id": "LvBVCSTEw9hO",
        "colab_type": "code",
        "colab": {}
      },
      "source": [
        "tape, masked_loss = record_tape(introspection_testing_images, introspection_testing_labels, mask_list=[eight_mask])\n",
        "masked_grads = calculate_masked_grads(introspection_testing_images, introspection_testing_labels, tape, masked_loss)\n"
      ],
      "execution_count": null,
      "outputs": []
    },
    {
      "cell_type": "code",
      "metadata": {
        "id": "OrEzb-ohxRsx",
        "colab_type": "code",
        "colab": {
          "base_uri": "https://localhost:8080/",
          "height": 577
        },
        "outputId": "5d49accd-0efa-4401-9d13-2af91de88624"
      },
      "source": [
        "plot_figures(introspection_testing_images, masked_grads, num_images=36)"
      ],
      "execution_count": null,
      "outputs": [
        {
          "output_type": "display_data",
          "data": {
            "image/png": "[encoded data removed]",
            "text/plain": [
              "<Figure size 720x720 with 36 Axes>"
            ]
          },
          "metadata": {
            "tags": []
          }
        }
      ]
    },
    {
      "cell_type": "markdown",
      "metadata": {
        "id": "fmSIB_Dufl9j",
        "colab_type": "text"
      },
      "source": [
        "# Activation Maximization\n",
        "\n",
        "**Summary**\n",
        "\n",
        "- Due to black and white natureof mnsit image, the bright colored high frequency colors are not present. Hence the difference visible is very less.\n",
        "\n",
        "- However when we take a difference between modified image and actual image, we see a change in order of e-4. This along with increase in correct classifications of 1 t from 550 to 606 confirms the activation maximization"
      ]
    },
    {
      "cell_type": "code",
      "metadata": {
        "id": "E1-e6iGlDLTl",
        "colab_type": "code",
        "colab": {
          "base_uri": "https://localhost:8080/",
          "height": 153
        },
        "outputId": "6507b833-d0d0-4695-a7d2-90b583a9adf9"
      },
      "source": [
        "!unzip \"/content/vgg_cnn_model_introspection.zip\" "
      ],
      "execution_count": 8,
      "outputs": [
        {
          "output_type": "stream",
          "text": [
            "Archive:  /content/vgg_cnn_model_introspection.zip\n",
            "   creating: content/vgg_cnn_model_introspection/\n",
            "  inflating: content/vgg_cnn_model_introspection/saved_model.pb  \n",
            "   creating: content/vgg_cnn_model_introspection/variables/\n",
            "  inflating: content/vgg_cnn_model_introspection/variables/variables.data-00001-of-00002  \n",
            "  inflating: content/vgg_cnn_model_introspection/variables/variables.index  \n",
            "  inflating: content/vgg_cnn_model_introspection/variables/variables.data-00000-of-00002  \n",
            "   creating: content/vgg_cnn_model_introspection/assets/\n"
          ],
          "name": "stdout"
        }
      ]
    },
    {
      "cell_type": "code",
      "metadata": {
        "id": "EE5o6hWTDMLy",
        "colab_type": "code",
        "colab": {}
      },
      "source": [
        "vgg_cnn_model = keras.models.load_model(filepath=\"/content/content/vgg_cnn_model_introspection\")"
      ],
      "execution_count": 9,
      "outputs": []
    },
    {
      "cell_type": "code",
      "metadata": {
        "id": "MxSSC-Qdfq9L",
        "colab_type": "code",
        "colab": {
          "base_uri": "https://localhost:8080/",
          "height": 85
        },
        "outputId": "848df356-c529-4af7-8365-bad34ca29e82"
      },
      "source": [
        "adverserial_training_images_batch = tf.convert_to_tensor(train_images[0:1024, :, :], dtype=tf.float32)\n",
        "adverserial_test_images_batch = tf.convert_to_tensor(test_images[0:1024, :, :], dtype=tf.float32)\n",
        "adverserial_training_labels_batch = tf.convert_to_tensor(train_labels[0:1024], dtype=tf.float32)\n",
        "adverserial_test_labels_batch = tf.convert_to_tensor(test_labels[0:1024], dtype=tf.float32)\n",
        "print(adverserial_training_images_batch.shape)\n",
        "print(adverserial_test_images_batch.shape)\n",
        "print(adverserial_training_labels_batch.shape)\n",
        "print(adverserial_test_labels_batch.shape)"
      ],
      "execution_count": 10,
      "outputs": [
        {
          "output_type": "stream",
          "text": [
            "(1024, 28, 28)\n",
            "(1024, 28, 28)\n",
            "(1024,)\n",
            "(1024,)\n"
          ],
          "name": "stdout"
        }
      ]
    },
    {
      "cell_type": "code",
      "metadata": {
        "id": "yRgKH1hyfrAv",
        "colab_type": "code",
        "colab": {
          "base_uri": "https://localhost:8080/",
          "height": 170
        },
        "outputId": "2dfc388c-b30c-44a2-fbe4-8800371cedaf"
      },
      "source": [
        "test_onehot = tf.one_hot(indices = tf.cast(adverserial_test_labels_batch, dtype=tf.dtypes.int64), depth=10)\n",
        "print(test_onehot)\n",
        "test_onehot.shape"
      ],
      "execution_count": 11,
      "outputs": [
        {
          "output_type": "stream",
          "text": [
            "tf.Tensor(\n",
            "[[0. 0. 0. ... 1. 0. 0.]\n",
            " [0. 0. 1. ... 0. 0. 0.]\n",
            " [0. 1. 0. ... 0. 0. 0.]\n",
            " ...\n",
            " [0. 0. 0. ... 1. 0. 0.]\n",
            " [0. 0. 0. ... 0. 0. 0.]\n",
            " [0. 0. 0. ... 0. 0. 0.]], shape=(1024, 10), dtype=float32)\n"
          ],
          "name": "stdout"
        },
        {
          "output_type": "execute_result",
          "data": {
            "text/plain": [
              "TensorShape([1024, 10])"
            ]
          },
          "metadata": {
            "tags": []
          },
          "execution_count": 11
        }
      ]
    },
    {
      "cell_type": "code",
      "metadata": {
        "id": "r4MAFMOfCrei",
        "colab_type": "code",
        "colab": {}
      },
      "source": [
        "zero_mask = tf.tile(tf.Variable(initial_value=tf.constant([1,0,0,0,0,0,0,0,0,0], dtype=\"float32\", shape=(1,10))) , multiples=[1024,1])\n",
        "one_mask =  tf.tile(tf.Variable(initial_value=tf.constant([0,1,0,0,0,0,0,0,0,0], dtype=\"float32\", shape=(1,10))) , multiples=[1024,1])\n",
        "two_mask =  tf.tile(tf.Variable(initial_value=tf.constant([0,0,1,0,0,0,0,0,0,0], dtype=\"float32\", shape=(1,10))) , multiples=[1024,1])\n",
        "three_mask = tf.tile(tf.Variable(initial_value=tf.constant([0,0,0,1,0,0,0,0,0,0], dtype=\"float32\", shape=(1,10))) , multiples=[1024,1])\n",
        "four_mask =  tf.tile(tf.Variable(initial_value=tf.constant([0,0,0,0,1,0,0,0,0,0], dtype=\"float32\", shape=(1,10))) , multiples=[1024,1])\n",
        "five_mask =  tf.tile(tf.Variable(initial_value=tf.constant([0,0,0,0,0,1,0,0,0,0], dtype=\"float32\", shape=(1,10))) , multiples=[1024,1])\n",
        "six_mask = tf.tile(tf.Variable(initial_value=tf.constant([0,0,0,0,0,0,1,0,0,0], dtype=\"float32\", shape=(1,10))) , multiples=[1024,1])\n",
        "seven_mask = tf.tile(tf.Variable(initial_value=tf.constant([0,0,0,0,0,0,0,1,0,0], dtype=\"float32\", shape=(1,10))) , multiples=[1024,1])\n",
        "eight_mask =  tf.tile(tf.Variable(initial_value=tf.constant([0,0,0,0,0,0,0,0,1,0], dtype=\"float32\", shape=(1,10))) , multiples=[1024,1])\n",
        "nine_mask =  tf.tile(tf.Variable(initial_value=tf.constant([0,0,0,0,0,0,0,0,0,1], dtype=\"float32\", shape=(1,10))) , multiples=[1024,1])"
      ],
      "execution_count": 12,
      "outputs": []
    },
    {
      "cell_type": "code",
      "metadata": {
        "id": "7esQ-JSjAWQk",
        "colab_type": "code",
        "colab": {}
      },
      "source": [
        "def create_adversarial_pattern(adverserial_training_images_batch, adverserial_training_labels_batch, perturbation_type=\"multiply\", \n",
        "                               attack_type = \"untargeted\", targeted_attack_images = None, loss_fnc = \"CCE\", lmbda = 0.05, multiply_factor=1000000, mask = one_mask):\n",
        "  with tf.GradientTape() as tape:\n",
        "    tape.watch(adverserial_training_images_batch)\n",
        "    prediction = vgg_cnn_model(adverserial_training_images_batch)\n",
        "    masked_prediction = tf.multiply(mask, prediction)\n",
        "    #print(masked_prediction[0:5,:])\n",
        "    #Two loss functions for targeted and untargeted, used masked loss\n",
        "    if(attack_type == \"untargeted\" and loss_fnc == \"CCE\"):\n",
        "      loss = tf.keras.losses.sparse_categorical_crossentropy(adverserial_training_labels_batch, masked_prediction)\n",
        "    elif(attack_type == \"untargeted\" and loss_fnc == \"MSE\"):\n",
        "      one_hot_test_labels = tf.one_hot(indices = tf.cast(adverserial_training_labels_batch, dtype=tf.dtypes.int64), depth=10)\n",
        "      loss = tf.keras.losses.mean_squared_error(one_hot_test_labels, prediction)\n",
        "    elif(attack_type == \"targeted\" and loss_fnc == \"MSE\"):\n",
        "      one_hot_test_labels = tf.one_hot(indices = tf.cast(adverserial_training_labels_batch, dtype=tf.dtypes.int64), depth=10)\n",
        "      \n",
        "      y_loss = lmbda * tf.keras.losses.mean_squared_error(adverserial_training_images_batch, targeted_attack_images)\n",
        "      \n",
        "      targeting_image_loss = tf.reduce_sum(y_loss,axis = 1)\n",
        "      \n",
        "      loss = tf.keras.losses.mean_squared_error(one_hot_test_labels, prediction) + targeting_image_loss\n",
        "    else:\n",
        "      print(\"Only two types of attacks are possible untargeted and targeted, you have given {}. Aborting\".format(attack_type))\n",
        "      return [None, None]\n",
        "\n",
        "  # Get the gradients of the loss w.r.t to the input image.\n",
        "  #print(loss[0:5])\n",
        "  gradient = tape.gradient(loss,adverserial_training_images_batch)\n",
        "  # Get the sign of the gradients to create the perturbation\n",
        "  #print(gradient.shape)\n",
        "  if(perturbation_type == \"multiply\"):\n",
        "    perturbations = multiply_factor * gradient\n",
        "  elif(perturbation_type == \"unit_vector\"):\n",
        "    z = gradient\n",
        "    norm = tf.sqrt(tf.reduce_sum(tf.square(z), axis=[-1,-2], keepdims=True))\n",
        "    perturbations = z/norm\n",
        "  elif(perturbation_type == \"gradient_sign\"):\n",
        "    perturbations = tf.sign(gradient)\n",
        "  else:\n",
        "    perturbations = gradient\n",
        "  return [gradient, perturbations];"
      ],
      "execution_count": 27,
      "outputs": []
    },
    {
      "cell_type": "code",
      "metadata": {
        "id": "RinVq3wGAWVy",
        "colab_type": "code",
        "colab": {
          "base_uri": "https://localhost:8080/",
          "height": 238
        },
        "outputId": "32bd2ab4-0792-4df4-b704-9740eca0874f"
      },
      "source": [
        "gradient, perturbations = create_adversarial_pattern(adverserial_training_images_batch, adverserial_training_labels_batch, mask=one_mask)"
      ],
      "execution_count": 18,
      "outputs": [
        {
          "output_type": "stream",
          "text": [
            "tf.Tensor(\n",
            "[[0.0000000e+00 5.4422884e-07 0.0000000e+00 0.0000000e+00 0.0000000e+00\n",
            "  0.0000000e+00 0.0000000e+00 0.0000000e+00 0.0000000e+00 0.0000000e+00]\n",
            " [0.0000000e+00 2.0251712e-11 0.0000000e+00 0.0000000e+00 0.0000000e+00\n",
            "  0.0000000e+00 0.0000000e+00 0.0000000e+00 0.0000000e+00 0.0000000e+00]\n",
            " [0.0000000e+00 6.1249075e-06 0.0000000e+00 0.0000000e+00 0.0000000e+00\n",
            "  0.0000000e+00 0.0000000e+00 0.0000000e+00 0.0000000e+00 0.0000000e+00]\n",
            " [0.0000000e+00 9.9999344e-01 0.0000000e+00 0.0000000e+00 0.0000000e+00\n",
            "  0.0000000e+00 0.0000000e+00 0.0000000e+00 0.0000000e+00 0.0000000e+00]\n",
            " [0.0000000e+00 1.4561766e-03 0.0000000e+00 0.0000000e+00 0.0000000e+00\n",
            "  0.0000000e+00 0.0000000e+00 0.0000000e+00 0.0000000e+00 0.0000000e+00]], shape=(5, 10), dtype=float32)\n",
            "tf.Tensor([2.6701605e+00 2.3025851e+00 4.2520466e+00 1.0728830e-06 9.5867729e+00], shape=(5,), dtype=float32)\n",
            "(1024, 28, 28)\n"
          ],
          "name": "stdout"
        }
      ]
    },
    {
      "cell_type": "code",
      "metadata": {
        "id": "oA5r49s-AWkK",
        "colab_type": "code",
        "colab": {
          "base_uri": "https://localhost:8080/",
          "height": 34
        },
        "outputId": "c6d2c103-842c-4919-8361-7a1fa58fcb9c"
      },
      "source": [
        "perturbations.shape"
      ],
      "execution_count": 19,
      "outputs": [
        {
          "output_type": "execute_result",
          "data": {
            "text/plain": [
              "TensorShape([1024, 28, 28])"
            ]
          },
          "metadata": {
            "tags": []
          },
          "execution_count": 19
        }
      ]
    },
    {
      "cell_type": "code",
      "metadata": {
        "id": "51eBYd1WELw0",
        "colab_type": "code",
        "colab": {
          "base_uri": "https://localhost:8080/",
          "height": 282
        },
        "outputId": "b7d05ff0-5b92-4d12-ae1c-af9e3a768ca4"
      },
      "source": [
        "plt.imshow(adverserial_training_images_batch[3,:,:], cmap=plt.cm.binary)"
      ],
      "execution_count": 20,
      "outputs": [
        {
          "output_type": "execute_result",
          "data": {
            "text/plain": [
              "<matplotlib.image.AxesImage at 0x7feb7ab1bda0>"
            ]
          },
          "metadata": {
            "tags": []
          },
          "execution_count": 20
        },
        {
          "output_type": "display_data",
          "data": {
            "image/png": "[encoded data removed]",
            "text/plain": [
              "<Figure size 432x288 with 1 Axes>"
            ]
          },
          "metadata": {
            "tags": [],
            "needs_background": "light"
          }
        }
      ]
    },
    {
      "cell_type": "code",
      "metadata": {
        "id": "w9zr2FFnAfiF",
        "colab_type": "code",
        "colab": {}
      },
      "source": [
        "plt.imshow(perturbations[0,:,:], cmap=plt.cm.binary)\n",
        "print(perturbations[3,:,:])\n",
        "print(gradient[3:, :, :])"
      ],
      "execution_count": null,
      "outputs": []
    },
    {
      "cell_type": "code",
      "metadata": {
        "id": "yxsmp2M8Afnw",
        "colab_type": "code",
        "colab": {}
      },
      "source": [
        "def activation_maximization(adverserial_training_images_batch, adverserial_training_labels_batch,  perturbation_type=\"multiply\", index_of_num=3,\n",
        "                      attack_type = \"untargeted\", targeted_attack_images = None, loss_fnc = \"CCE\"):\n",
        "  \n",
        "  plt.figure(figsize=(10,10))\n",
        "  for i in range(25):\n",
        "    plt.subplot(5,5,i+1)\n",
        "    plt.xticks([])\n",
        "    plt.yticks([])\n",
        "    plt.grid(False)\n",
        "    \n",
        "    for j in range(20):\n",
        "      #Get the weighted gradient/maximum change of the individual image pixel wrt output prediction. weighted by 0.071\n",
        "      if(i == 0):\n",
        "        gradient, perturbations = create_adversarial_pattern(adverserial_training_images_batch, adverserial_training_labels_batch, perturbation_type, attack_type, loss_fnc=loss_fnc)\n",
        "      elif(i > 0):\n",
        "        gradient, perturbations = create_adversarial_pattern(adverserial_training_images_batch_modified, modified_predictions_2, perturbation_type, attack_type, loss_fnc=loss_fnc)\n",
        "\n",
        "      #Add the gradient instead of subtracting it as we are trying to maximize the loss and moving in opposite direction of convex optimization hill.\n",
        "      if(i == 0):\n",
        "        adverserial_training_images_batch_modified = tf.subtract(adverserial_training_images_batch, 1 * perturbations)\n",
        "      elif(i > 0):\n",
        "        adverserial_training_images_batch_modified = tf.subtract(adverserial_training_images_batch_modified, 1 * perturbations)\n",
        "\n",
        "      #Get the new predictions for each change\n",
        "      modified_predictions = vgg_cnn_model(adverserial_training_images_batch_modified)\n",
        "      modified_predictions_2 =  tf.cast(tf.argmax(modified_predictions, axis=1),  dtype=tf.dtypes.float32)\n",
        "\n",
        "      #Get the number of correct classifications to monitor misclassifications and see gradual changes\n",
        "      x = tf.equal(adverserial_training_labels_batch, modified_predictions_2)\n",
        "      print(\"Number of correct classifications, prediction of first image and counter are: {}, {} and {}\".format(tf.reduce_sum(tf.cast(x, tf.int32)), modified_predictions_2[index_of_num], i))\n",
        "      #print(\"Prediction of first image is : {}\".format(modified_predictions_2[0]))\n",
        "    plt.imshow(adverserial_training_images_batch_modified[index_of_num], cmap=plt.cm.binary)\n",
        "  \n",
        "  return adverserial_training_images_batch_modified;"
      ],
      "execution_count": 39,
      "outputs": []
    },
    {
      "cell_type": "code",
      "metadata": {
        "id": "BsJVB08LAfk7",
        "colab_type": "code",
        "colab": {
          "base_uri": "https://localhost:8080/",
          "height": 1000
        },
        "outputId": "686654f5-f089-4941-d6ef-daf86ba9912f"
      },
      "source": [
        "adverserial_training_images_batch_modified = activation_maximization(adverserial_training_images_batch, adverserial_training_labels_batch,  perturbation_type=\"multiply\")"
      ],
      "execution_count": 40,
      "outputs": [
        {
          "output_type": "stream",
          "text": [
            "Number of correct classifications, prediction of first image and counter are: 606, 1.0 and 0\n",
            "Number of correct classifications, prediction of first image and counter are: 606, 1.0 and 0\n",
            "Number of correct classifications, prediction of first image and counter are: 606, 1.0 and 0\n",
            "Number of correct classifications, prediction of first image and counter are: 606, 1.0 and 0\n",
            "Number of correct classifications, prediction of first image and counter are: 606, 1.0 and 0\n",
            "Number of correct classifications, prediction of first image and counter are: 606, 1.0 and 0\n",
            "Number of correct classifications, prediction of first image and counter are: 606, 1.0 and 0\n",
            "Number of correct classifications, prediction of first image and counter are: 606, 1.0 and 0\n",
            "Number of correct classifications, prediction of first image and counter are: 606, 1.0 and 0\n",
            "Number of correct classifications, prediction of first image and counter are: 606, 1.0 and 0\n",
            "Number of correct classifications, prediction of first image and counter are: 606, 1.0 and 0\n",
            "Number of correct classifications, prediction of first image and counter are: 606, 1.0 and 0\n",
            "Number of correct classifications, prediction of first image and counter are: 606, 1.0 and 0\n",
            "Number of correct classifications, prediction of first image and counter are: 606, 1.0 and 0\n",
            "Number of correct classifications, prediction of first image and counter are: 606, 1.0 and 0\n",
            "Number of correct classifications, prediction of first image and counter are: 606, 1.0 and 0\n",
            "Number of correct classifications, prediction of first image and counter are: 606, 1.0 and 0\n",
            "Number of correct classifications, prediction of first image and counter are: 606, 1.0 and 0\n",
            "Number of correct classifications, prediction of first image and counter are: 606, 1.0 and 0\n",
            "Number of correct classifications, prediction of first image and counter are: 606, 1.0 and 0\n",
            "Number of correct classifications, prediction of first image and counter are: 606, 1.0 and 1\n",
            "Number of correct classifications, prediction of first image and counter are: 606, 1.0 and 1\n",
            "Number of correct classifications, prediction of first image and counter are: 606, 1.0 and 1\n",
            "Number of correct classifications, prediction of first image and counter are: 606, 1.0 and 1\n",
            "Number of correct classifications, prediction of first image and counter are: 606, 1.0 and 1\n",
            "Number of correct classifications, prediction of first image and counter are: 606, 1.0 and 1\n",
            "Number of correct classifications, prediction of first image and counter are: 606, 1.0 and 1\n",
            "Number of correct classifications, prediction of first image and counter are: 606, 1.0 and 1\n",
            "Number of correct classifications, prediction of first image and counter are: 606, 1.0 and 1\n",
            "Number of correct classifications, prediction of first image and counter are: 606, 1.0 and 1\n",
            "Number of correct classifications, prediction of first image and counter are: 606, 1.0 and 1\n",
            "Number of correct classifications, prediction of first image and counter are: 606, 1.0 and 1\n",
            "Number of correct classifications, prediction of first image and counter are: 606, 1.0 and 1\n",
            "Number of correct classifications, prediction of first image and counter are: 606, 1.0 and 1\n",
            "Number of correct classifications, prediction of first image and counter are: 606, 1.0 and 1\n",
            "Number of correct classifications, prediction of first image and counter are: 606, 1.0 and 1\n",
            "Number of correct classifications, prediction of first image and counter are: 606, 1.0 and 1\n",
            "Number of correct classifications, prediction of first image and counter are: 606, 1.0 and 1\n",
            "Number of correct classifications, prediction of first image and counter are: 606, 1.0 and 1\n",
            "Number of correct classifications, prediction of first image and counter are: 606, 1.0 and 1\n",
            "Number of correct classifications, prediction of first image and counter are: 606, 1.0 and 2\n",
            "Number of correct classifications, prediction of first image and counter are: 606, 1.0 and 2\n",
            "Number of correct classifications, prediction of first image and counter are: 606, 1.0 and 2\n",
            "Number of correct classifications, prediction of first image and counter are: 606, 1.0 and 2\n",
            "Number of correct classifications, prediction of first image and counter are: 606, 1.0 and 2\n",
            "Number of correct classifications, prediction of first image and counter are: 606, 1.0 and 2\n",
            "Number of correct classifications, prediction of first image and counter are: 606, 1.0 and 2\n",
            "Number of correct classifications, prediction of first image and counter are: 606, 1.0 and 2\n",
            "Number of correct classifications, prediction of first image and counter are: 606, 1.0 and 2\n",
            "Number of correct classifications, prediction of first image and counter are: 606, 1.0 and 2\n",
            "Number of correct classifications, prediction of first image and counter are: 606, 1.0 and 2\n",
            "Number of correct classifications, prediction of first image and counter are: 606, 1.0 and 2\n",
            "Number of correct classifications, prediction of first image and counter are: 606, 1.0 and 2\n",
            "Number of correct classifications, prediction of first image and counter are: 606, 1.0 and 2\n",
            "Number of correct classifications, prediction of first image and counter are: 606, 1.0 and 2\n",
            "Number of correct classifications, prediction of first image and counter are: 606, 1.0 and 2\n",
            "Number of correct classifications, prediction of first image and counter are: 606, 1.0 and 2\n",
            "Number of correct classifications, prediction of first image and counter are: 606, 1.0 and 2\n",
            "Number of correct classifications, prediction of first image and counter are: 606, 1.0 and 2\n",
            "Number of correct classifications, prediction of first image and counter are: 606, 1.0 and 2\n",
            "Number of correct classifications, prediction of first image and counter are: 606, 1.0 and 3\n",
            "Number of correct classifications, prediction of first image and counter are: 606, 1.0 and 3\n",
            "Number of correct classifications, prediction of first image and counter are: 606, 1.0 and 3\n",
            "Number of correct classifications, prediction of first image and counter are: 606, 1.0 and 3\n",
            "Number of correct classifications, prediction of first image and counter are: 606, 1.0 and 3\n",
            "Number of correct classifications, prediction of first image and counter are: 606, 1.0 and 3\n",
            "Number of correct classifications, prediction of first image and counter are: 606, 1.0 and 3\n",
            "Number of correct classifications, prediction of first image and counter are: 606, 1.0 and 3\n",
            "Number of correct classifications, prediction of first image and counter are: 606, 1.0 and 3\n",
            "Number of correct classifications, prediction of first image and counter are: 606, 1.0 and 3\n",
            "Number of correct classifications, prediction of first image and counter are: 606, 1.0 and 3\n",
            "Number of correct classifications, prediction of first image and counter are: 606, 1.0 and 3\n",
            "Number of correct classifications, prediction of first image and counter are: 606, 1.0 and 3\n",
            "Number of correct classifications, prediction of first image and counter are: 606, 1.0 and 3\n",
            "Number of correct classifications, prediction of first image and counter are: 606, 1.0 and 3\n",
            "Number of correct classifications, prediction of first image and counter are: 606, 1.0 and 3\n",
            "Number of correct classifications, prediction of first image and counter are: 606, 1.0 and 3\n",
            "Number of correct classifications, prediction of first image and counter are: 606, 1.0 and 3\n",
            "Number of correct classifications, prediction of first image and counter are: 606, 1.0 and 3\n",
            "Number of correct classifications, prediction of first image and counter are: 606, 1.0 and 3\n",
            "Number of correct classifications, prediction of first image and counter are: 606, 1.0 and 4\n",
            "Number of correct classifications, prediction of first image and counter are: 606, 1.0 and 4\n",
            "Number of correct classifications, prediction of first image and counter are: 606, 1.0 and 4\n",
            "Number of correct classifications, prediction of first image and counter are: 606, 1.0 and 4\n",
            "Number of correct classifications, prediction of first image and counter are: 606, 1.0 and 4\n",
            "Number of correct classifications, prediction of first image and counter are: 606, 1.0 and 4\n",
            "Number of correct classifications, prediction of first image and counter are: 606, 1.0 and 4\n",
            "Number of correct classifications, prediction of first image and counter are: 606, 1.0 and 4\n",
            "Number of correct classifications, prediction of first image and counter are: 606, 1.0 and 4\n",
            "Number of correct classifications, prediction of first image and counter are: 606, 1.0 and 4\n",
            "Number of correct classifications, prediction of first image and counter are: 606, 1.0 and 4\n",
            "Number of correct classifications, prediction of first image and counter are: 606, 1.0 and 4\n",
            "Number of correct classifications, prediction of first image and counter are: 606, 1.0 and 4\n",
            "Number of correct classifications, prediction of first image and counter are: 606, 1.0 and 4\n",
            "Number of correct classifications, prediction of first image and counter are: 606, 1.0 and 4\n",
            "Number of correct classifications, prediction of first image and counter are: 606, 1.0 and 4\n",
            "Number of correct classifications, prediction of first image and counter are: 606, 1.0 and 4\n",
            "Number of correct classifications, prediction of first image and counter are: 606, 1.0 and 4\n",
            "Number of correct classifications, prediction of first image and counter are: 606, 1.0 and 4\n",
            "Number of correct classifications, prediction of first image and counter are: 606, 1.0 and 4\n",
            "Number of correct classifications, prediction of first image and counter are: 606, 1.0 and 5\n",
            "Number of correct classifications, prediction of first image and counter are: 606, 1.0 and 5\n",
            "Number of correct classifications, prediction of first image and counter are: 606, 1.0 and 5\n",
            "Number of correct classifications, prediction of first image and counter are: 606, 1.0 and 5\n",
            "Number of correct classifications, prediction of first image and counter are: 606, 1.0 and 5\n",
            "Number of correct classifications, prediction of first image and counter are: 606, 1.0 and 5\n",
            "Number of correct classifications, prediction of first image and counter are: 606, 1.0 and 5\n",
            "Number of correct classifications, prediction of first image and counter are: 606, 1.0 and 5\n",
            "Number of correct classifications, prediction of first image and counter are: 606, 1.0 and 5\n",
            "Number of correct classifications, prediction of first image and counter are: 606, 1.0 and 5\n",
            "Number of correct classifications, prediction of first image and counter are: 606, 1.0 and 5\n",
            "Number of correct classifications, prediction of first image and counter are: 606, 1.0 and 5\n",
            "Number of correct classifications, prediction of first image and counter are: 606, 1.0 and 5\n",
            "Number of correct classifications, prediction of first image and counter are: 606, 1.0 and 5\n",
            "Number of correct classifications, prediction of first image and counter are: 606, 1.0 and 5\n",
            "Number of correct classifications, prediction of first image and counter are: 606, 1.0 and 5\n",
            "Number of correct classifications, prediction of first image and counter are: 606, 1.0 and 5\n",
            "Number of correct classifications, prediction of first image and counter are: 606, 1.0 and 5\n",
            "Number of correct classifications, prediction of first image and counter are: 606, 1.0 and 5\n",
            "Number of correct classifications, prediction of first image and counter are: 606, 1.0 and 5\n",
            "Number of correct classifications, prediction of first image and counter are: 606, 1.0 and 6\n",
            "Number of correct classifications, prediction of first image and counter are: 606, 1.0 and 6\n",
            "Number of correct classifications, prediction of first image and counter are: 606, 1.0 and 6\n",
            "Number of correct classifications, prediction of first image and counter are: 606, 1.0 and 6\n",
            "Number of correct classifications, prediction of first image and counter are: 606, 1.0 and 6\n",
            "Number of correct classifications, prediction of first image and counter are: 606, 1.0 and 6\n",
            "Number of correct classifications, prediction of first image and counter are: 606, 1.0 and 6\n",
            "Number of correct classifications, prediction of first image and counter are: 606, 1.0 and 6\n",
            "Number of correct classifications, prediction of first image and counter are: 606, 1.0 and 6\n",
            "Number of correct classifications, prediction of first image and counter are: 606, 1.0 and 6\n",
            "Number of correct classifications, prediction of first image and counter are: 606, 1.0 and 6\n",
            "Number of correct classifications, prediction of first image and counter are: 606, 1.0 and 6\n",
            "Number of correct classifications, prediction of first image and counter are: 606, 1.0 and 6\n",
            "Number of correct classifications, prediction of first image and counter are: 606, 1.0 and 6\n",
            "Number of correct classifications, prediction of first image and counter are: 606, 1.0 and 6\n",
            "Number of correct classifications, prediction of first image and counter are: 606, 1.0 and 6\n",
            "Number of correct classifications, prediction of first image and counter are: 606, 1.0 and 6\n",
            "Number of correct classifications, prediction of first image and counter are: 606, 1.0 and 6\n",
            "Number of correct classifications, prediction of first image and counter are: 606, 1.0 and 6\n",
            "Number of correct classifications, prediction of first image and counter are: 606, 1.0 and 6\n",
            "Number of correct classifications, prediction of first image and counter are: 606, 1.0 and 7\n",
            "Number of correct classifications, prediction of first image and counter are: 606, 1.0 and 7\n",
            "Number of correct classifications, prediction of first image and counter are: 606, 1.0 and 7\n",
            "Number of correct classifications, prediction of first image and counter are: 606, 1.0 and 7\n",
            "Number of correct classifications, prediction of first image and counter are: 606, 1.0 and 7\n",
            "Number of correct classifications, prediction of first image and counter are: 606, 1.0 and 7\n",
            "Number of correct classifications, prediction of first image and counter are: 606, 1.0 and 7\n",
            "Number of correct classifications, prediction of first image and counter are: 606, 1.0 and 7\n",
            "Number of correct classifications, prediction of first image and counter are: 606, 1.0 and 7\n",
            "Number of correct classifications, prediction of first image and counter are: 606, 1.0 and 7\n",
            "Number of correct classifications, prediction of first image and counter are: 606, 1.0 and 7\n",
            "Number of correct classifications, prediction of first image and counter are: 606, 1.0 and 7\n",
            "Number of correct classifications, prediction of first image and counter are: 606, 1.0 and 7\n",
            "Number of correct classifications, prediction of first image and counter are: 606, 1.0 and 7\n",
            "Number of correct classifications, prediction of first image and counter are: 606, 1.0 and 7\n",
            "Number of correct classifications, prediction of first image and counter are: 606, 1.0 and 7\n",
            "Number of correct classifications, prediction of first image and counter are: 606, 1.0 and 7\n",
            "Number of correct classifications, prediction of first image and counter are: 606, 1.0 and 7\n",
            "Number of correct classifications, prediction of first image and counter are: 606, 1.0 and 7\n",
            "Number of correct classifications, prediction of first image and counter are: 606, 1.0 and 7\n",
            "Number of correct classifications, prediction of first image and counter are: 606, 1.0 and 8\n",
            "Number of correct classifications, prediction of first image and counter are: 606, 1.0 and 8\n",
            "Number of correct classifications, prediction of first image and counter are: 606, 1.0 and 8\n",
            "Number of correct classifications, prediction of first image and counter are: 606, 1.0 and 8\n",
            "Number of correct classifications, prediction of first image and counter are: 606, 1.0 and 8\n",
            "Number of correct classifications, prediction of first image and counter are: 606, 1.0 and 8\n",
            "Number of correct classifications, prediction of first image and counter are: 606, 1.0 and 8\n",
            "Number of correct classifications, prediction of first image and counter are: 606, 1.0 and 8\n",
            "Number of correct classifications, prediction of first image and counter are: 606, 1.0 and 8\n",
            "Number of correct classifications, prediction of first image and counter are: 606, 1.0 and 8\n",
            "Number of correct classifications, prediction of first image and counter are: 606, 1.0 and 8\n",
            "Number of correct classifications, prediction of first image and counter are: 606, 1.0 and 8\n",
            "Number of correct classifications, prediction of first image and counter are: 606, 1.0 and 8\n",
            "Number of correct classifications, prediction of first image and counter are: 606, 1.0 and 8\n",
            "Number of correct classifications, prediction of first image and counter are: 606, 1.0 and 8\n",
            "Number of correct classifications, prediction of first image and counter are: 606, 1.0 and 8\n",
            "Number of correct classifications, prediction of first image and counter are: 606, 1.0 and 8\n",
            "Number of correct classifications, prediction of first image and counter are: 606, 1.0 and 8\n",
            "Number of correct classifications, prediction of first image and counter are: 606, 1.0 and 8\n",
            "Number of correct classifications, prediction of first image and counter are: 606, 1.0 and 8\n",
            "Number of correct classifications, prediction of first image and counter are: 606, 1.0 and 9\n",
            "Number of correct classifications, prediction of first image and counter are: 606, 1.0 and 9\n",
            "Number of correct classifications, prediction of first image and counter are: 606, 1.0 and 9\n",
            "Number of correct classifications, prediction of first image and counter are: 606, 1.0 and 9\n",
            "Number of correct classifications, prediction of first image and counter are: 606, 1.0 and 9\n",
            "Number of correct classifications, prediction of first image and counter are: 606, 1.0 and 9\n",
            "Number of correct classifications, prediction of first image and counter are: 606, 1.0 and 9\n",
            "Number of correct classifications, prediction of first image and counter are: 606, 1.0 and 9\n",
            "Number of correct classifications, prediction of first image and counter are: 606, 1.0 and 9\n",
            "Number of correct classifications, prediction of first image and counter are: 606, 1.0 and 9\n",
            "Number of correct classifications, prediction of first image and counter are: 606, 1.0 and 9\n",
            "Number of correct classifications, prediction of first image and counter are: 606, 1.0 and 9\n",
            "Number of correct classifications, prediction of first image and counter are: 606, 1.0 and 9\n",
            "Number of correct classifications, prediction of first image and counter are: 606, 1.0 and 9\n",
            "Number of correct classifications, prediction of first image and counter are: 606, 1.0 and 9\n",
            "Number of correct classifications, prediction of first image and counter are: 606, 1.0 and 9\n",
            "Number of correct classifications, prediction of first image and counter are: 606, 1.0 and 9\n",
            "Number of correct classifications, prediction of first image and counter are: 606, 1.0 and 9\n",
            "Number of correct classifications, prediction of first image and counter are: 606, 1.0 and 9\n",
            "Number of correct classifications, prediction of first image and counter are: 606, 1.0 and 9\n",
            "Number of correct classifications, prediction of first image and counter are: 606, 1.0 and 10\n",
            "Number of correct classifications, prediction of first image and counter are: 606, 1.0 and 10\n",
            "Number of correct classifications, prediction of first image and counter are: 606, 1.0 and 10\n",
            "Number of correct classifications, prediction of first image and counter are: 606, 1.0 and 10\n",
            "Number of correct classifications, prediction of first image and counter are: 606, 1.0 and 10\n",
            "Number of correct classifications, prediction of first image and counter are: 606, 1.0 and 10\n",
            "Number of correct classifications, prediction of first image and counter are: 606, 1.0 and 10\n",
            "Number of correct classifications, prediction of first image and counter are: 606, 1.0 and 10\n",
            "Number of correct classifications, prediction of first image and counter are: 606, 1.0 and 10\n",
            "Number of correct classifications, prediction of first image and counter are: 606, 1.0 and 10\n",
            "Number of correct classifications, prediction of first image and counter are: 606, 1.0 and 10\n",
            "Number of correct classifications, prediction of first image and counter are: 606, 1.0 and 10\n",
            "Number of correct classifications, prediction of first image and counter are: 606, 1.0 and 10\n",
            "Number of correct classifications, prediction of first image and counter are: 606, 1.0 and 10\n",
            "Number of correct classifications, prediction of first image and counter are: 606, 1.0 and 10\n",
            "Number of correct classifications, prediction of first image and counter are: 606, 1.0 and 10\n",
            "Number of correct classifications, prediction of first image and counter are: 606, 1.0 and 10\n",
            "Number of correct classifications, prediction of first image and counter are: 606, 1.0 and 10\n",
            "Number of correct classifications, prediction of first image and counter are: 606, 1.0 and 10\n",
            "Number of correct classifications, prediction of first image and counter are: 606, 1.0 and 10\n",
            "Number of correct classifications, prediction of first image and counter are: 606, 1.0 and 11\n",
            "Number of correct classifications, prediction of first image and counter are: 606, 1.0 and 11\n",
            "Number of correct classifications, prediction of first image and counter are: 606, 1.0 and 11\n",
            "Number of correct classifications, prediction of first image and counter are: 606, 1.0 and 11\n",
            "Number of correct classifications, prediction of first image and counter are: 606, 1.0 and 11\n",
            "Number of correct classifications, prediction of first image and counter are: 606, 1.0 and 11\n",
            "Number of correct classifications, prediction of first image and counter are: 606, 1.0 and 11\n",
            "Number of correct classifications, prediction of first image and counter are: 606, 1.0 and 11\n",
            "Number of correct classifications, prediction of first image and counter are: 606, 1.0 and 11\n",
            "Number of correct classifications, prediction of first image and counter are: 606, 1.0 and 11\n",
            "Number of correct classifications, prediction of first image and counter are: 606, 1.0 and 11\n",
            "Number of correct classifications, prediction of first image and counter are: 606, 1.0 and 11\n",
            "Number of correct classifications, prediction of first image and counter are: 606, 1.0 and 11\n",
            "Number of correct classifications, prediction of first image and counter are: 606, 1.0 and 11\n",
            "Number of correct classifications, prediction of first image and counter are: 606, 1.0 and 11\n",
            "Number of correct classifications, prediction of first image and counter are: 606, 1.0 and 11\n",
            "Number of correct classifications, prediction of first image and counter are: 606, 1.0 and 11\n",
            "Number of correct classifications, prediction of first image and counter are: 606, 1.0 and 11\n",
            "Number of correct classifications, prediction of first image and counter are: 606, 1.0 and 11\n",
            "Number of correct classifications, prediction of first image and counter are: 606, 1.0 and 11\n",
            "Number of correct classifications, prediction of first image and counter are: 606, 1.0 and 12\n",
            "Number of correct classifications, prediction of first image and counter are: 606, 1.0 and 12\n",
            "Number of correct classifications, prediction of first image and counter are: 606, 1.0 and 12\n",
            "Number of correct classifications, prediction of first image and counter are: 606, 1.0 and 12\n",
            "Number of correct classifications, prediction of first image and counter are: 606, 1.0 and 12\n",
            "Number of correct classifications, prediction of first image and counter are: 606, 1.0 and 12\n",
            "Number of correct classifications, prediction of first image and counter are: 606, 1.0 and 12\n",
            "Number of correct classifications, prediction of first image and counter are: 606, 1.0 and 12\n",
            "Number of correct classifications, prediction of first image and counter are: 606, 1.0 and 12\n",
            "Number of correct classifications, prediction of first image and counter are: 606, 1.0 and 12\n",
            "Number of correct classifications, prediction of first image and counter are: 606, 1.0 and 12\n",
            "Number of correct classifications, prediction of first image and counter are: 606, 1.0 and 12\n",
            "Number of correct classifications, prediction of first image and counter are: 606, 1.0 and 12\n",
            "Number of correct classifications, prediction of first image and counter are: 606, 1.0 and 12\n",
            "Number of correct classifications, prediction of first image and counter are: 606, 1.0 and 12\n",
            "Number of correct classifications, prediction of first image and counter are: 606, 1.0 and 12\n",
            "Number of correct classifications, prediction of first image and counter are: 606, 1.0 and 12\n",
            "Number of correct classifications, prediction of first image and counter are: 606, 1.0 and 12\n",
            "Number of correct classifications, prediction of first image and counter are: 606, 1.0 and 12\n",
            "Number of correct classifications, prediction of first image and counter are: 606, 1.0 and 12\n",
            "Number of correct classifications, prediction of first image and counter are: 606, 1.0 and 13\n",
            "Number of correct classifications, prediction of first image and counter are: 606, 1.0 and 13\n",
            "Number of correct classifications, prediction of first image and counter are: 606, 1.0 and 13\n",
            "Number of correct classifications, prediction of first image and counter are: 606, 1.0 and 13\n",
            "Number of correct classifications, prediction of first image and counter are: 606, 1.0 and 13\n",
            "Number of correct classifications, prediction of first image and counter are: 606, 1.0 and 13\n",
            "Number of correct classifications, prediction of first image and counter are: 606, 1.0 and 13\n",
            "Number of correct classifications, prediction of first image and counter are: 606, 1.0 and 13\n",
            "Number of correct classifications, prediction of first image and counter are: 606, 1.0 and 13\n",
            "Number of correct classifications, prediction of first image and counter are: 606, 1.0 and 13\n",
            "Number of correct classifications, prediction of first image and counter are: 606, 1.0 and 13\n",
            "Number of correct classifications, prediction of first image and counter are: 606, 1.0 and 13\n",
            "Number of correct classifications, prediction of first image and counter are: 606, 1.0 and 13\n",
            "Number of correct classifications, prediction of first image and counter are: 606, 1.0 and 13\n",
            "Number of correct classifications, prediction of first image and counter are: 606, 1.0 and 13\n",
            "Number of correct classifications, prediction of first image and counter are: 606, 1.0 and 13\n",
            "Number of correct classifications, prediction of first image and counter are: 606, 1.0 and 13\n",
            "Number of correct classifications, prediction of first image and counter are: 606, 1.0 and 13\n",
            "Number of correct classifications, prediction of first image and counter are: 606, 1.0 and 13\n",
            "Number of correct classifications, prediction of first image and counter are: 606, 1.0 and 13\n",
            "Number of correct classifications, prediction of first image and counter are: 606, 1.0 and 14\n",
            "Number of correct classifications, prediction of first image and counter are: 606, 1.0 and 14\n",
            "Number of correct classifications, prediction of first image and counter are: 606, 1.0 and 14\n",
            "Number of correct classifications, prediction of first image and counter are: 606, 1.0 and 14\n",
            "Number of correct classifications, prediction of first image and counter are: 606, 1.0 and 14\n",
            "Number of correct classifications, prediction of first image and counter are: 606, 1.0 and 14\n",
            "Number of correct classifications, prediction of first image and counter are: 606, 1.0 and 14\n",
            "Number of correct classifications, prediction of first image and counter are: 606, 1.0 and 14\n",
            "Number of correct classifications, prediction of first image and counter are: 606, 1.0 and 14\n",
            "Number of correct classifications, prediction of first image and counter are: 606, 1.0 and 14\n",
            "Number of correct classifications, prediction of first image and counter are: 606, 1.0 and 14\n",
            "Number of correct classifications, prediction of first image and counter are: 606, 1.0 and 14\n",
            "Number of correct classifications, prediction of first image and counter are: 606, 1.0 and 14\n",
            "Number of correct classifications, prediction of first image and counter are: 606, 1.0 and 14\n",
            "Number of correct classifications, prediction of first image and counter are: 606, 1.0 and 14\n",
            "Number of correct classifications, prediction of first image and counter are: 606, 1.0 and 14\n",
            "Number of correct classifications, prediction of first image and counter are: 606, 1.0 and 14\n",
            "Number of correct classifications, prediction of first image and counter are: 606, 1.0 and 14\n",
            "Number of correct classifications, prediction of first image and counter are: 606, 1.0 and 14\n",
            "Number of correct classifications, prediction of first image and counter are: 606, 1.0 and 14\n",
            "Number of correct classifications, prediction of first image and counter are: 606, 1.0 and 15\n",
            "Number of correct classifications, prediction of first image and counter are: 606, 1.0 and 15\n",
            "Number of correct classifications, prediction of first image and counter are: 606, 1.0 and 15\n",
            "Number of correct classifications, prediction of first image and counter are: 606, 1.0 and 15\n",
            "Number of correct classifications, prediction of first image and counter are: 606, 1.0 and 15\n",
            "Number of correct classifications, prediction of first image and counter are: 606, 1.0 and 15\n",
            "Number of correct classifications, prediction of first image and counter are: 606, 1.0 and 15\n",
            "Number of correct classifications, prediction of first image and counter are: 606, 1.0 and 15\n",
            "Number of correct classifications, prediction of first image and counter are: 606, 1.0 and 15\n",
            "Number of correct classifications, prediction of first image and counter are: 606, 1.0 and 15\n",
            "Number of correct classifications, prediction of first image and counter are: 606, 1.0 and 15\n",
            "Number of correct classifications, prediction of first image and counter are: 606, 1.0 and 15\n",
            "Number of correct classifications, prediction of first image and counter are: 606, 1.0 and 15\n",
            "Number of correct classifications, prediction of first image and counter are: 606, 1.0 and 15\n",
            "Number of correct classifications, prediction of first image and counter are: 606, 1.0 and 15\n",
            "Number of correct classifications, prediction of first image and counter are: 606, 1.0 and 15\n",
            "Number of correct classifications, prediction of first image and counter are: 606, 1.0 and 15\n",
            "Number of correct classifications, prediction of first image and counter are: 606, 1.0 and 15\n",
            "Number of correct classifications, prediction of first image and counter are: 606, 1.0 and 15\n",
            "Number of correct classifications, prediction of first image and counter are: 606, 1.0 and 15\n",
            "Number of correct classifications, prediction of first image and counter are: 606, 1.0 and 16\n",
            "Number of correct classifications, prediction of first image and counter are: 606, 1.0 and 16\n",
            "Number of correct classifications, prediction of first image and counter are: 606, 1.0 and 16\n",
            "Number of correct classifications, prediction of first image and counter are: 606, 1.0 and 16\n",
            "Number of correct classifications, prediction of first image and counter are: 606, 1.0 and 16\n",
            "Number of correct classifications, prediction of first image and counter are: 606, 1.0 and 16\n",
            "Number of correct classifications, prediction of first image and counter are: 606, 1.0 and 16\n",
            "Number of correct classifications, prediction of first image and counter are: 606, 1.0 and 16\n",
            "Number of correct classifications, prediction of first image and counter are: 606, 1.0 and 16\n",
            "Number of correct classifications, prediction of first image and counter are: 606, 1.0 and 16\n",
            "Number of correct classifications, prediction of first image and counter are: 606, 1.0 and 16\n",
            "Number of correct classifications, prediction of first image and counter are: 606, 1.0 and 16\n",
            "Number of correct classifications, prediction of first image and counter are: 606, 1.0 and 16\n",
            "Number of correct classifications, prediction of first image and counter are: 606, 1.0 and 16\n",
            "Number of correct classifications, prediction of first image and counter are: 606, 1.0 and 16\n",
            "Number of correct classifications, prediction of first image and counter are: 606, 1.0 and 16\n",
            "Number of correct classifications, prediction of first image and counter are: 606, 1.0 and 16\n",
            "Number of correct classifications, prediction of first image and counter are: 606, 1.0 and 16\n",
            "Number of correct classifications, prediction of first image and counter are: 606, 1.0 and 16\n",
            "Number of correct classifications, prediction of first image and counter are: 606, 1.0 and 16\n",
            "Number of correct classifications, prediction of first image and counter are: 606, 1.0 and 17\n",
            "Number of correct classifications, prediction of first image and counter are: 606, 1.0 and 17\n",
            "Number of correct classifications, prediction of first image and counter are: 606, 1.0 and 17\n",
            "Number of correct classifications, prediction of first image and counter are: 606, 1.0 and 17\n",
            "Number of correct classifications, prediction of first image and counter are: 606, 1.0 and 17\n",
            "Number of correct classifications, prediction of first image and counter are: 606, 1.0 and 17\n",
            "Number of correct classifications, prediction of first image and counter are: 606, 1.0 and 17\n",
            "Number of correct classifications, prediction of first image and counter are: 606, 1.0 and 17\n",
            "Number of correct classifications, prediction of first image and counter are: 606, 1.0 and 17\n",
            "Number of correct classifications, prediction of first image and counter are: 606, 1.0 and 17\n",
            "Number of correct classifications, prediction of first image and counter are: 606, 1.0 and 17\n",
            "Number of correct classifications, prediction of first image and counter are: 606, 1.0 and 17\n",
            "Number of correct classifications, prediction of first image and counter are: 606, 1.0 and 17\n",
            "Number of correct classifications, prediction of first image and counter are: 606, 1.0 and 17\n",
            "Number of correct classifications, prediction of first image and counter are: 606, 1.0 and 17\n",
            "Number of correct classifications, prediction of first image and counter are: 606, 1.0 and 17\n",
            "Number of correct classifications, prediction of first image and counter are: 606, 1.0 and 17\n",
            "Number of correct classifications, prediction of first image and counter are: 606, 1.0 and 17\n",
            "Number of correct classifications, prediction of first image and counter are: 606, 1.0 and 17\n",
            "Number of correct classifications, prediction of first image and counter are: 606, 1.0 and 17\n",
            "Number of correct classifications, prediction of first image and counter are: 606, 1.0 and 18\n",
            "Number of correct classifications, prediction of first image and counter are: 606, 1.0 and 18\n",
            "Number of correct classifications, prediction of first image and counter are: 606, 1.0 and 18\n",
            "Number of correct classifications, prediction of first image and counter are: 606, 1.0 and 18\n",
            "Number of correct classifications, prediction of first image and counter are: 606, 1.0 and 18\n",
            "Number of correct classifications, prediction of first image and counter are: 606, 1.0 and 18\n",
            "Number of correct classifications, prediction of first image and counter are: 606, 1.0 and 18\n",
            "Number of correct classifications, prediction of first image and counter are: 606, 1.0 and 18\n",
            "Number of correct classifications, prediction of first image and counter are: 606, 1.0 and 18\n",
            "Number of correct classifications, prediction of first image and counter are: 606, 1.0 and 18\n",
            "Number of correct classifications, prediction of first image and counter are: 606, 1.0 and 18\n",
            "Number of correct classifications, prediction of first image and counter are: 606, 1.0 and 18\n",
            "Number of correct classifications, prediction of first image and counter are: 606, 1.0 and 18\n",
            "Number of correct classifications, prediction of first image and counter are: 606, 1.0 and 18\n",
            "Number of correct classifications, prediction of first image and counter are: 606, 1.0 and 18\n",
            "Number of correct classifications, prediction of first image and counter are: 606, 1.0 and 18\n",
            "Number of correct classifications, prediction of first image and counter are: 606, 1.0 and 18\n",
            "Number of correct classifications, prediction of first image and counter are: 606, 1.0 and 18\n",
            "Number of correct classifications, prediction of first image and counter are: 606, 1.0 and 18\n",
            "Number of correct classifications, prediction of first image and counter are: 606, 1.0 and 18\n",
            "Number of correct classifications, prediction of first image and counter are: 606, 1.0 and 19\n",
            "Number of correct classifications, prediction of first image and counter are: 606, 1.0 and 19\n",
            "Number of correct classifications, prediction of first image and counter are: 606, 1.0 and 19\n",
            "Number of correct classifications, prediction of first image and counter are: 606, 1.0 and 19\n",
            "Number of correct classifications, prediction of first image and counter are: 606, 1.0 and 19\n",
            "Number of correct classifications, prediction of first image and counter are: 606, 1.0 and 19\n",
            "Number of correct classifications, prediction of first image and counter are: 606, 1.0 and 19\n",
            "Number of correct classifications, prediction of first image and counter are: 606, 1.0 and 19\n",
            "Number of correct classifications, prediction of first image and counter are: 606, 1.0 and 19\n",
            "Number of correct classifications, prediction of first image and counter are: 606, 1.0 and 19\n",
            "Number of correct classifications, prediction of first image and counter are: 606, 1.0 and 19\n",
            "Number of correct classifications, prediction of first image and counter are: 606, 1.0 and 19\n",
            "Number of correct classifications, prediction of first image and counter are: 606, 1.0 and 19\n",
            "Number of correct classifications, prediction of first image and counter are: 606, 1.0 and 19\n",
            "Number of correct classifications, prediction of first image and counter are: 606, 1.0 and 19\n",
            "Number of correct classifications, prediction of first image and counter are: 606, 1.0 and 19\n",
            "Number of correct classifications, prediction of first image and counter are: 606, 1.0 and 19\n",
            "Number of correct classifications, prediction of first image and counter are: 606, 1.0 and 19\n",
            "Number of correct classifications, prediction of first image and counter are: 606, 1.0 and 19\n",
            "Number of correct classifications, prediction of first image and counter are: 606, 1.0 and 19\n",
            "Number of correct classifications, prediction of first image and counter are: 606, 1.0 and 20\n",
            "Number of correct classifications, prediction of first image and counter are: 606, 1.0 and 20\n",
            "Number of correct classifications, prediction of first image and counter are: 606, 1.0 and 20\n",
            "Number of correct classifications, prediction of first image and counter are: 606, 1.0 and 20\n",
            "Number of correct classifications, prediction of first image and counter are: 606, 1.0 and 20\n",
            "Number of correct classifications, prediction of first image and counter are: 606, 1.0 and 20\n",
            "Number of correct classifications, prediction of first image and counter are: 606, 1.0 and 20\n",
            "Number of correct classifications, prediction of first image and counter are: 606, 1.0 and 20\n",
            "Number of correct classifications, prediction of first image and counter are: 606, 1.0 and 20\n",
            "Number of correct classifications, prediction of first image and counter are: 606, 1.0 and 20\n",
            "Number of correct classifications, prediction of first image and counter are: 606, 1.0 and 20\n",
            "Number of correct classifications, prediction of first image and counter are: 606, 1.0 and 20\n",
            "Number of correct classifications, prediction of first image and counter are: 606, 1.0 and 20\n",
            "Number of correct classifications, prediction of first image and counter are: 606, 1.0 and 20\n",
            "Number of correct classifications, prediction of first image and counter are: 606, 1.0 and 20\n",
            "Number of correct classifications, prediction of first image and counter are: 606, 1.0 and 20\n",
            "Number of correct classifications, prediction of first image and counter are: 606, 1.0 and 20\n",
            "Number of correct classifications, prediction of first image and counter are: 606, 1.0 and 20\n",
            "Number of correct classifications, prediction of first image and counter are: 606, 1.0 and 20\n",
            "Number of correct classifications, prediction of first image and counter are: 606, 1.0 and 20\n",
            "Number of correct classifications, prediction of first image and counter are: 606, 1.0 and 21\n",
            "Number of correct classifications, prediction of first image and counter are: 606, 1.0 and 21\n",
            "Number of correct classifications, prediction of first image and counter are: 606, 1.0 and 21\n",
            "Number of correct classifications, prediction of first image and counter are: 606, 1.0 and 21\n",
            "Number of correct classifications, prediction of first image and counter are: 606, 1.0 and 21\n",
            "Number of correct classifications, prediction of first image and counter are: 606, 1.0 and 21\n",
            "Number of correct classifications, prediction of first image and counter are: 606, 1.0 and 21\n",
            "Number of correct classifications, prediction of first image and counter are: 606, 1.0 and 21\n",
            "Number of correct classifications, prediction of first image and counter are: 606, 1.0 and 21\n",
            "Number of correct classifications, prediction of first image and counter are: 606, 1.0 and 21\n",
            "Number of correct classifications, prediction of first image and counter are: 606, 1.0 and 21\n",
            "Number of correct classifications, prediction of first image and counter are: 606, 1.0 and 21\n",
            "Number of correct classifications, prediction of first image and counter are: 606, 1.0 and 21\n",
            "Number of correct classifications, prediction of first image and counter are: 606, 1.0 and 21\n",
            "Number of correct classifications, prediction of first image and counter are: 606, 1.0 and 21\n",
            "Number of correct classifications, prediction of first image and counter are: 606, 1.0 and 21\n",
            "Number of correct classifications, prediction of first image and counter are: 606, 1.0 and 21\n",
            "Number of correct classifications, prediction of first image and counter are: 606, 1.0 and 21\n",
            "Number of correct classifications, prediction of first image and counter are: 606, 1.0 and 21\n",
            "Number of correct classifications, prediction of first image and counter are: 606, 1.0 and 21\n",
            "Number of correct classifications, prediction of first image and counter are: 606, 1.0 and 22\n",
            "Number of correct classifications, prediction of first image and counter are: 606, 1.0 and 22\n",
            "Number of correct classifications, prediction of first image and counter are: 606, 1.0 and 22\n",
            "Number of correct classifications, prediction of first image and counter are: 606, 1.0 and 22\n",
            "Number of correct classifications, prediction of first image and counter are: 606, 1.0 and 22\n",
            "Number of correct classifications, prediction of first image and counter are: 606, 1.0 and 22\n",
            "Number of correct classifications, prediction of first image and counter are: 606, 1.0 and 22\n",
            "Number of correct classifications, prediction of first image and counter are: 606, 1.0 and 22\n",
            "Number of correct classifications, prediction of first image and counter are: 606, 1.0 and 22\n",
            "Number of correct classifications, prediction of first image and counter are: 606, 1.0 and 22\n",
            "Number of correct classifications, prediction of first image and counter are: 606, 1.0 and 22\n",
            "Number of correct classifications, prediction of first image and counter are: 606, 1.0 and 22\n",
            "Number of correct classifications, prediction of first image and counter are: 606, 1.0 and 22\n",
            "Number of correct classifications, prediction of first image and counter are: 606, 1.0 and 22\n",
            "Number of correct classifications, prediction of first image and counter are: 606, 1.0 and 22\n",
            "Number of correct classifications, prediction of first image and counter are: 606, 1.0 and 22\n",
            "Number of correct classifications, prediction of first image and counter are: 606, 1.0 and 22\n",
            "Number of correct classifications, prediction of first image and counter are: 606, 1.0 and 22\n",
            "Number of correct classifications, prediction of first image and counter are: 606, 1.0 and 22\n",
            "Number of correct classifications, prediction of first image and counter are: 606, 1.0 and 22\n",
            "Number of correct classifications, prediction of first image and counter are: 606, 1.0 and 23\n",
            "Number of correct classifications, prediction of first image and counter are: 606, 1.0 and 23\n",
            "Number of correct classifications, prediction of first image and counter are: 606, 1.0 and 23\n",
            "Number of correct classifications, prediction of first image and counter are: 606, 1.0 and 23\n",
            "Number of correct classifications, prediction of first image and counter are: 606, 1.0 and 23\n",
            "Number of correct classifications, prediction of first image and counter are: 606, 1.0 and 23\n",
            "Number of correct classifications, prediction of first image and counter are: 606, 1.0 and 23\n",
            "Number of correct classifications, prediction of first image and counter are: 606, 1.0 and 23\n",
            "Number of correct classifications, prediction of first image and counter are: 606, 1.0 and 23\n",
            "Number of correct classifications, prediction of first image and counter are: 606, 1.0 and 23\n",
            "Number of correct classifications, prediction of first image and counter are: 606, 1.0 and 23\n",
            "Number of correct classifications, prediction of first image and counter are: 606, 1.0 and 23\n",
            "Number of correct classifications, prediction of first image and counter are: 606, 1.0 and 23\n",
            "Number of correct classifications, prediction of first image and counter are: 606, 1.0 and 23\n",
            "Number of correct classifications, prediction of first image and counter are: 606, 1.0 and 23\n",
            "Number of correct classifications, prediction of first image and counter are: 606, 1.0 and 23\n",
            "Number of correct classifications, prediction of first image and counter are: 606, 1.0 and 23\n",
            "Number of correct classifications, prediction of first image and counter are: 606, 1.0 and 23\n",
            "Number of correct classifications, prediction of first image and counter are: 606, 1.0 and 23\n",
            "Number of correct classifications, prediction of first image and counter are: 606, 1.0 and 23\n",
            "Number of correct classifications, prediction of first image and counter are: 606, 1.0 and 24\n",
            "Number of correct classifications, prediction of first image and counter are: 606, 1.0 and 24\n",
            "Number of correct classifications, prediction of first image and counter are: 606, 1.0 and 24\n",
            "Number of correct classifications, prediction of first image and counter are: 606, 1.0 and 24\n",
            "Number of correct classifications, prediction of first image and counter are: 606, 1.0 and 24\n",
            "Number of correct classifications, prediction of first image and counter are: 606, 1.0 and 24\n",
            "Number of correct classifications, prediction of first image and counter are: 606, 1.0 and 24\n",
            "Number of correct classifications, prediction of first image and counter are: 606, 1.0 and 24\n",
            "Number of correct classifications, prediction of first image and counter are: 606, 1.0 and 24\n",
            "Number of correct classifications, prediction of first image and counter are: 606, 1.0 and 24\n",
            "Number of correct classifications, prediction of first image and counter are: 606, 1.0 and 24\n",
            "Number of correct classifications, prediction of first image and counter are: 606, 1.0 and 24\n",
            "Number of correct classifications, prediction of first image and counter are: 606, 1.0 and 24\n",
            "Number of correct classifications, prediction of first image and counter are: 606, 1.0 and 24\n",
            "Number of correct classifications, prediction of first image and counter are: 606, 1.0 and 24\n",
            "Number of correct classifications, prediction of first image and counter are: 606, 1.0 and 24\n",
            "Number of correct classifications, prediction of first image and counter are: 606, 1.0 and 24\n",
            "Number of correct classifications, prediction of first image and counter are: 606, 1.0 and 24\n",
            "Number of correct classifications, prediction of first image and counter are: 606, 1.0 and 24\n",
            "Number of correct classifications, prediction of first image and counter are: 606, 1.0 and 24\n"
          ],
          "name": "stdout"
        },
        {
          "output_type": "display_data",
          "data": {
            "image/png": "[encoded data removed]",
            "text/plain": [
              "<Figure size 720x720 with 25 Axes>"
            ]
          },
          "metadata": {
            "tags": []
          }
        }
      ]
    },
    {
      "cell_type": "code",
      "metadata": {
        "id": "BP2D-QM5IXps",
        "colab_type": "code",
        "colab": {}
      },
      "source": [
        "difference_between_images = tf.subtract(adverserial_training_images_batch_modified[3,:,:], train_images[3,:,:])"
      ],
      "execution_count": 41,
      "outputs": []
    },
    {
      "cell_type": "code",
      "metadata": {
        "id": "Rpp2qK0XIljQ",
        "colab_type": "code",
        "colab": {
          "base_uri": "https://localhost:8080/",
          "height": 1000
        },
        "outputId": "d2ad457c-3402-42ff-967b-cded3b5fedba"
      },
      "source": [
        "difference_between_images"
      ],
      "execution_count": 42,
      "outputs": [
        {
          "output_type": "execute_result",
          "data": {
            "text/plain": [
              "<tf.Tensor: shape=(28, 28), dtype=float32, numpy=\n",
              "array([[ 2.38417124e-06,  4.41849943e-06,  1.99540182e-06,\n",
              "        -1.59136744e-06,  6.60301794e-07,  2.59791955e-06,\n",
              "        -5.02706712e-07, -3.71205306e-06,  8.93047982e-05,\n",
              "         1.50695341e-05, -1.87625919e-04,  2.17212219e-05,\n",
              "        -8.01666465e-04, -2.38224660e-04, -2.28213830e-04,\n",
              "        -1.33787107e-04,  5.39062021e-05, -6.50173228e-04,\n",
              "        -5.95099846e-05, -2.16779692e-04,  8.96194324e-05,\n",
              "        -2.75785733e-05,  1.15444050e-06,  5.08311189e-07,\n",
              "         4.31255939e-05,  3.53241194e-05, -1.16408715e-04,\n",
              "        -3.01041964e-05],\n",
              "       [-3.17463855e-06, -2.38019584e-06, -2.66156280e-06,\n",
              "         1.85344129e-06,  2.05220113e-06,  4.45841124e-06,\n",
              "        -2.27090254e-06,  3.91269805e-06,  4.67858918e-05,\n",
              "         9.15504916e-06,  7.99205918e-06,  3.74566589e-04,\n",
              "        -1.11554179e-03, -7.20557466e-04, -5.32063597e-04,\n",
              "        -4.23532183e-04,  1.95943154e-04, -4.48371255e-04,\n",
              "         6.59516882e-05, -1.11770903e-04,  1.82604690e-05,\n",
              "         6.91184832e-05,  5.36575556e-07,  1.70600447e-06,\n",
              "         4.08960950e-05,  4.51386150e-05, -1.29323831e-04,\n",
              "        -1.34153852e-05],\n",
              "       [ 7.00870942e-06,  3.01974387e-06,  5.44697423e-06,\n",
              "         2.98194664e-06,  1.68010752e-06,  1.03279208e-05,\n",
              "         8.98197777e-06,  6.35378865e-06,  2.01631747e-06,\n",
              "        -4.75581032e-07,  2.31301819e-04,  5.16186003e-04,\n",
              "        -8.01059825e-04, -8.76053004e-04, -3.96553252e-04,\n",
              "        -1.05973589e-03,  1.05378160e-04,  2.15998822e-04,\n",
              "         2.93571880e-04,  1.43399913e-04,  6.56439579e-06,\n",
              "         3.82912003e-06,  1.50581184e-06,  5.22484527e-07,\n",
              "         1.50414162e-05,  2.76943028e-05, -6.58118297e-05,\n",
              "         5.81098720e-06],\n",
              "       [ 2.00995260e-06,  4.00741783e-06,  2.32527213e-06,\n",
              "         1.12625903e-05,  3.56662417e-06,  2.93343351e-06,\n",
              "        -3.34434162e-06,  5.44474551e-06,  4.05369110e-06,\n",
              "         1.20915329e-05,  1.27171108e-04,  4.18122945e-04,\n",
              "        -3.99805896e-04, -5.55583159e-04, -2.79914908e-04,\n",
              "        -2.18485016e-03, -4.17409989e-04, -1.61167045e-04,\n",
              "         4.26066836e-04,  3.24346503e-04, -1.81684447e-06,\n",
              "         2.20156267e-06,  1.90551248e-06,  4.61659283e-06,\n",
              "        -3.73783564e-06,  6.12533950e-06, -7.33068873e-06,\n",
              "         1.44166745e-06],\n",
              "       [ 2.81262101e-06,  6.40702297e-07,  4.49815298e-06,\n",
              "         7.15162685e-07, -3.12838210e-06,  2.42184228e-06,\n",
              "         4.07696916e-06, -8.37449352e-06, -6.47482648e-06,\n",
              "         5.11612279e-06, -4.37769103e-07,  2.23386291e-04,\n",
              "         1.45978483e-04, -5.57014428e-04,  6.75661868e-05,\n",
              "        -2.73448299e-03,  3.63539548e-05, -9.85990860e-04,\n",
              "         2.94902857e-05,  5.46028377e-06,  8.20943205e-06,\n",
              "         2.83335635e-06,  1.11118325e-07,  2.51560391e-06,\n",
              "        -4.26613497e-07,  2.81606253e-06,  1.58695148e-05,\n",
              "         3.31929095e-06],\n",
              "       [ 1.19797130e-06, -6.66334302e-07,  5.58595093e-06,\n",
              "         5.73346779e-06,  2.97215479e-06,  1.72403600e-06,\n",
              "         8.50920514e-06, -6.40235839e-07,  6.30604154e-06,\n",
              "         4.37912211e-04,  2.99544132e-04,  5.72863908e-04,\n",
              "         4.41140146e-04, -6.64344872e-04, -2.49445759e-04,\n",
              "        -1.53750461e-03, -3.91459143e-05, -3.77063516e-05,\n",
              "         0.00000000e+00,  0.00000000e+00,  0.00000000e+00,\n",
              "         0.00000000e+00, -2.85413165e-07, -1.24799351e-06,\n",
              "        -1.80251948e-06,  4.44088755e-06,  1.05000086e-04,\n",
              "         7.23307021e-05],\n",
              "       [ 2.37362178e-06,  2.65527092e-06,  2.63218817e-06,\n",
              "         5.62258992e-06,  3.64711468e-07,  1.37697125e-05,\n",
              "         2.73852834e-06,  1.34895608e-05,  7.93680520e-05,\n",
              "         1.04652638e-04, -6.22274587e-04, -3.63983272e-04,\n",
              "        -9.39043472e-04, -1.52543804e-03, -1.07597793e-03,\n",
              "        -6.02335786e-04, -2.89486459e-04,  0.00000000e+00,\n",
              "         0.00000000e+00,  0.00000000e+00,  0.00000000e+00,\n",
              "         0.00000000e+00,  2.12043687e-06, -7.64712968e-06,\n",
              "         2.85128772e-05,  1.53404544e-05, -3.65924498e-05,\n",
              "        -1.20691635e-04],\n",
              "       [-9.67274786e-07,  1.86738828e-06,  7.34009700e-06,\n",
              "         4.81542838e-06,  2.98418945e-06,  1.12582120e-05,\n",
              "         1.02937847e-05,  1.99495946e-04,  3.24716792e-04,\n",
              "        -8.30756675e-04, -8.64239817e-04, -4.16561030e-03,\n",
              "        -2.58763297e-03, -3.62666300e-03, -8.13948514e-04,\n",
              "        -9.26184875e-04, -7.72275325e-06,  0.00000000e+00,\n",
              "         0.00000000e+00,  0.00000000e+00,  0.00000000e+00,\n",
              "         0.00000000e+00,  8.38332198e-06,  2.42503233e-06,\n",
              "         4.41558768e-05,  2.33141818e-05, -1.30982560e-04,\n",
              "         2.63034217e-05],\n",
              "       [ 1.72985915e-06, -1.13609310e-07, -2.31438158e-08,\n",
              "         2.75665201e-07, -2.37101449e-06, -7.61654519e-07,\n",
              "         5.64867196e-06,  3.92839778e-04,  4.12311318e-04,\n",
              "        -1.26641628e-03, -6.55540265e-04, -4.84503666e-03,\n",
              "        -3.09827318e-03, -3.67109198e-03, -7.69593171e-04,\n",
              "        -1.73414937e-05,  0.00000000e+00,  0.00000000e+00,\n",
              "         0.00000000e+00,  0.00000000e+00,  0.00000000e+00,\n",
              "         0.00000000e+00,  1.00354046e-05,  3.25155111e-06,\n",
              "         2.83524078e-05,  2.10075650e-05, -5.00802344e-05,\n",
              "         1.45878876e-05],\n",
              "       [ 1.94237441e-06, -4.71599350e-07,  3.97145277e-06,\n",
              "         3.78539994e-06, -3.71054762e-06,  1.14364329e-05,\n",
              "         4.80952622e-06,  2.97001679e-04,  3.27934889e-04,\n",
              "        -1.01771322e-03, -3.74122668e-04, -3.08263046e-03,\n",
              "        -2.18932307e-03, -8.63476540e-04, -1.17845193e-03,\n",
              "         0.00000000e+00,  0.00000000e+00,  0.00000000e+00,\n",
              "         0.00000000e+00,  0.00000000e+00,  5.19057551e-07,\n",
              "         2.42129363e-06,  6.62440107e-06,  4.73764021e-06,\n",
              "         5.35958975e-07,  1.89247567e-05,  8.12378858e-05,\n",
              "         9.31625709e-06],\n",
              "       [ 1.67928636e-06,  6.27118970e-06,  6.98363829e-06,\n",
              "        -7.42349641e-07,  1.33600531e-06,  4.68039752e-06,\n",
              "         4.11356632e-06,  8.06831449e-05,  2.91785313e-04,\n",
              "        -2.95798091e-04, -6.25444867e-04, -1.91875108e-04,\n",
              "        -1.56920590e-03,  2.87584640e-04, -7.97664234e-06,\n",
              "         0.00000000e+00,  0.00000000e+00,  0.00000000e+00,\n",
              "         0.00000000e+00, -5.31195747e-06,  5.41572854e-06,\n",
              "         4.07670171e-07,  6.36173536e-06,  1.13181579e-06,\n",
              "         1.27302030e-06,  1.68931672e-06,  1.88682623e-06,\n",
              "         1.31966465e-06],\n",
              "       [-4.10986836e-08,  2.20498282e-06,  6.20452738e-06,\n",
              "         4.90261755e-06, -3.26577833e-06,  1.76586691e-05,\n",
              "         1.10379824e-06,  7.73110969e-06,  2.78985157e-04,\n",
              "         2.21156733e-04, -6.23242231e-04,  3.59108904e-04,\n",
              "        -1.21348479e-04,  4.52214881e-05,  0.00000000e+00,\n",
              "         0.00000000e+00,  0.00000000e+00,  0.00000000e+00,\n",
              "         0.00000000e+00,  2.96380654e-06,  6.38684287e-06,\n",
              "         2.42000465e-06,  8.08613322e-07, -3.49142283e-06,\n",
              "        -4.20901233e-06,  7.79496804e-06,  5.48312619e-06,\n",
              "         4.41493376e-06],\n",
              "       [ 8.85585621e-07,  2.40054624e-06,  3.74529827e-06,\n",
              "         2.70834107e-06,  5.08895118e-06,  7.61228830e-06,\n",
              "        -2.17079233e-07, -5.21489255e-06,  1.95821820e-04,\n",
              "         2.18180881e-04, -3.03256675e-04, -1.37659163e-05,\n",
              "        -1.27031482e-04,  0.00000000e+00,  0.00000000e+00,\n",
              "         0.00000000e+00,  0.00000000e+00,  0.00000000e+00,\n",
              "         8.05235140e-06,  6.90311890e-06,  7.90521062e-06,\n",
              "         3.62969672e-06,  4.50257949e-06,  6.67243876e-06,\n",
              "        -1.26565807e-08,  3.25985320e-06, -2.52601410e-07,\n",
              "         3.34916024e-07],\n",
              "       [ 5.10639347e-06,  2.00993281e-06,  1.83809746e-07,\n",
              "         8.72930832e-06, -2.49739628e-06,  1.80863317e-05,\n",
              "         3.08789276e-05,  1.63216551e-04, -1.62069009e-05,\n",
              "        -8.02456125e-05, -9.74669165e-05,  1.84580877e-05,\n",
              "         1.60317049e-05,  0.00000000e+00,  0.00000000e+00,\n",
              "         0.00000000e+00,  0.00000000e+00,  0.00000000e+00,\n",
              "         1.13194423e-04,  4.11303336e-04,  5.71476412e-04,\n",
              "         4.88216523e-04,  4.42400196e-04,  2.23005598e-04,\n",
              "         6.41849256e-05,  1.12969181e-04,  2.88199517e-04,\n",
              "         1.74119123e-04],\n",
              "       [ 3.42486192e-06,  3.85049634e-06,  1.09621387e-05,\n",
              "         1.11680893e-05,  4.65607218e-06,  4.28551266e-06,\n",
              "         6.87813808e-05,  8.62512534e-05, -4.48467530e-04,\n",
              "        -3.00220862e-08, -2.38507870e-04,  1.49953103e-05,\n",
              "         0.00000000e+00,  0.00000000e+00,  0.00000000e+00,\n",
              "         0.00000000e+00,  0.00000000e+00,  5.30545040e-05,\n",
              "        -1.44968071e-04,  3.05343099e-04,  2.60768749e-04,\n",
              "         3.26970512e-05, -2.40209320e-05,  3.31919364e-05,\n",
              "         4.24236641e-04,  8.31433790e-05, -2.14534175e-05,\n",
              "        -6.54494506e-05],\n",
              "       [ 5.50408004e-05,  5.00670103e-05,  1.42585224e-04,\n",
              "         9.25253116e-05,  3.02095887e-05,  1.34545335e-04,\n",
              "         2.23614872e-04, -1.64460653e-04, -5.09953708e-04,\n",
              "        -2.21061637e-04, -1.18221797e-04,  0.00000000e+00,\n",
              "         0.00000000e+00,  0.00000000e+00,  0.00000000e+00,\n",
              "         0.00000000e+00, -9.78325959e-04, -1.64715585e-03,\n",
              "        -3.00160935e-03, -1.52391323e-03, -1.86619372e-03,\n",
              "        -1.46700174e-03, -1.20641617e-03, -5.26940741e-04,\n",
              "        -3.71593691e-04, -4.06461826e-04, -3.67998931e-04,\n",
              "        -3.96303774e-04],\n",
              "       [ 5.69409858e-05, -1.11185305e-04,  1.59465184e-04,\n",
              "         1.61666539e-04,  1.76486719e-04,  2.15120424e-04,\n",
              "         2.02591880e-04, -1.97209039e-04, -5.19506611e-05,\n",
              "        -1.77999507e-04, -9.62848662e-06,  0.00000000e+00,\n",
              "         0.00000000e+00,  0.00000000e+00,  0.00000000e+00,\n",
              "         0.00000000e+00, -2.55599921e-03, -2.49400083e-03,\n",
              "        -5.60127245e-03, -3.28078959e-03, -4.29602433e-03,\n",
              "        -2.04797322e-03, -1.60152558e-03, -5.11893188e-04,\n",
              "        -4.95753302e-05, -9.39669902e-04, -6.07438502e-04,\n",
              "        -2.61430774e-04],\n",
              "       [-3.62370483e-04, -3.00618649e-05, -7.13977090e-04,\n",
              "        -2.39910543e-04, -5.18051325e-04, -4.55749192e-04,\n",
              "        -3.13611759e-04,  7.05073035e-05,  2.44231342e-04,\n",
              "         6.47708148e-05,  0.00000000e+00,  0.00000000e+00,\n",
              "         0.00000000e+00,  0.00000000e+00,  0.00000000e+00,\n",
              "        -6.53022667e-04, -4.07554489e-03, -2.67942599e-03,\n",
              "        -6.03577727e-03, -1.76185940e-03, -3.67341423e-03,\n",
              "        -1.01177045e-03, -1.60376460e-03, -3.47555178e-05,\n",
              "        -2.35956599e-04, -8.06799144e-05, -2.54992192e-04,\n",
              "        -2.43842573e-04],\n",
              "       [-4.48930514e-04,  3.03005683e-04, -1.22246577e-03,\n",
              "         1.10855712e-04, -9.90218716e-04, -1.86791900e-03,\n",
              "        -4.34217771e-04, -3.28292692e-04,  1.15284194e-04,\n",
              "         2.98747938e-04,  0.00000000e+00,  0.00000000e+00,\n",
              "         0.00000000e+00,  0.00000000e+00,  0.00000000e+00,\n",
              "        -8.84149864e-04, -3.50971427e-03, -2.56881281e-03,\n",
              "        -4.31421772e-03, -1.00473326e-03, -2.19287118e-03,\n",
              "        -2.14491665e-04, -1.12340436e-03,  1.73033026e-04,\n",
              "         2.31637052e-04, -1.20832592e-04, -1.22956379e-04,\n",
              "        -1.81186202e-04],\n",
              "       [-1.64751909e-04,  2.87840696e-04, -4.03846236e-04,\n",
              "         1.44586433e-04, -5.01978269e-04, -8.98983912e-04,\n",
              "        -3.92110320e-04, -5.18206725e-05, -7.19262825e-05,\n",
              "         3.20561048e-06,  0.00000000e+00,  0.00000000e+00,\n",
              "         0.00000000e+00,  0.00000000e+00,  1.23798251e-04,\n",
              "        -4.60483512e-04, -2.47955183e-03, -1.75033836e-03,\n",
              "        -2.53093429e-03, -6.05396519e-04, -9.33935691e-04,\n",
              "        -1.95168061e-04, -1.09527144e-04,  3.52344068e-06,\n",
              "         1.75404304e-04, -4.59152885e-04, -3.95127194e-04,\n",
              "        -1.63109464e-04],\n",
              "       [ 1.10846653e-04, -6.65910557e-06, -8.37201078e-05,\n",
              "         1.65364094e-04, -2.95329286e-04,  1.21003119e-04,\n",
              "        -9.54475472e-05,  1.86296966e-04, -1.58345538e-05,\n",
              "         0.00000000e+00,  0.00000000e+00,  0.00000000e+00,\n",
              "         0.00000000e+00,  0.00000000e+00,  3.10491916e-04,\n",
              "        -4.56044771e-04, -1.48589839e-03, -2.31732009e-03,\n",
              "        -1.39376509e-03, -1.29734946e-03, -7.05384242e-04,\n",
              "        -4.76177753e-04,  1.75909241e-04,  2.61098990e-04,\n",
              "        -1.25420265e-04, -5.24618139e-04, -4.42423247e-04,\n",
              "        -1.75947920e-04],\n",
              "       [-2.36422366e-05,  5.89136871e-05, -1.29413020e-04,\n",
              "         7.16576906e-05, -7.27907945e-07,  2.15303022e-04,\n",
              "         8.87796996e-05,  1.36610606e-06,  0.00000000e+00,\n",
              "         0.00000000e+00,  0.00000000e+00,  0.00000000e+00,\n",
              "         0.00000000e+00,  0.00000000e+00,  4.51731088e-04,\n",
              "        -7.64629338e-04, -8.38970882e-04, -1.96052319e-03,\n",
              "        -1.50229060e-03, -9.20393039e-04, -6.56890101e-04,\n",
              "        -1.95896471e-04, -1.40476637e-04, -1.23455320e-04,\n",
              "        -3.18636827e-04, -2.09625039e-04, -1.81482246e-04,\n",
              "        -1.23178339e-04],\n",
              "       [-4.23105375e-05, -6.01352394e-06, -4.69012011e-05,\n",
              "         6.08010014e-05,  9.99401964e-05,  8.34095772e-06,\n",
              "         2.68804774e-06,  3.10534961e-06,  0.00000000e+00,\n",
              "         0.00000000e+00,  0.00000000e+00,  0.00000000e+00,\n",
              "        -4.97107976e-04, -6.04832487e-04, -2.80714274e-04,\n",
              "        -7.50359788e-04, -2.35190368e-04, -9.36042226e-04,\n",
              "        -4.36913106e-04, -3.07536422e-04, -1.04465878e-04,\n",
              "        -4.98887093e-04, -2.93588964e-04, -1.97756366e-04,\n",
              "        -8.22307193e-04, -6.55911397e-04, -5.42560709e-04,\n",
              "        -1.73211738e-04],\n",
              "       [ 1.88800902e-06, -3.35108125e-05,  5.09826750e-05,\n",
              "         2.86207160e-06,  3.19537753e-06,  4.87654745e-07,\n",
              "        -2.48373340e-06,  3.24801431e-06,  0.00000000e+00,\n",
              "         0.00000000e+00,  0.00000000e+00,  0.00000000e+00,\n",
              "        -3.53955635e-04, -7.22881057e-04, -1.03670161e-03,\n",
              "        -2.53574661e-04,  3.67402281e-05, -3.96821997e-04,\n",
              "         1.97281493e-04, -5.84936861e-05,  2.22780800e-04,\n",
              "        -6.54771749e-04, -1.20657016e-04, -7.96479813e-04,\n",
              "        -5.10215643e-04, -1.05444854e-03, -7.95793661e-04,\n",
              "        -4.69818595e-04],\n",
              "       [ 1.12712787e-05, -3.72199270e-06,  4.79196206e-06,\n",
              "         5.84631516e-06,  4.64119103e-06,  1.98800331e-06,\n",
              "        -1.78544985e-06, -5.79592097e-07,  0.00000000e+00,\n",
              "         0.00000000e+00,  0.00000000e+00,  0.00000000e+00,\n",
              "         2.81640823e-04, -8.42214446e-04,  4.15268529e-04,\n",
              "        -1.94100692e-04,  3.33770149e-04,  7.32619810e-05,\n",
              "         1.33203444e-04,  1.32799149e-04, -4.47149723e-05,\n",
              "        -2.10129045e-04, -9.47529315e-06, -4.54673864e-04,\n",
              "        -7.65038247e-04, -6.06216723e-04, -6.55140437e-04,\n",
              "        -1.62318000e-04],\n",
              "       [-1.30099215e-06,  6.99313068e-06,  3.97853728e-06,\n",
              "         2.92679783e-06,  6.68736629e-06,  1.69827285e-06,\n",
              "         1.94512631e-06,  3.12246698e-06,  2.94960114e-06,\n",
              "         2.52167956e-06, -3.76422554e-06,  2.21465916e-06,\n",
              "         4.17107774e-04, -1.75837529e-04,  1.72617059e-04,\n",
              "         3.24445195e-04,  1.03373250e-05,  7.34305604e-06,\n",
              "         6.55304029e-06,  5.55773840e-05,  3.99662931e-05,\n",
              "         1.37947340e-04,  1.43450579e-05, -3.09389070e-05,\n",
              "        -2.81277491e-04, -2.30680322e-04, -1.96822759e-04,\n",
              "        -3.75094351e-06],\n",
              "       [-1.74270781e-06,  1.06685502e-06,  2.09919199e-06,\n",
              "         1.94186828e-06,  8.82281199e-07,  1.72172463e-06,\n",
              "         2.16045692e-06,  8.07519336e-06,  3.44243381e-06,\n",
              "        -3.29629552e-06,  3.46647494e-06, -1.14440422e-06,\n",
              "        -2.41458338e-06,  1.38419928e-04,  6.07661013e-06,\n",
              "         7.57186399e-06,  5.23045219e-06,  1.37681172e-06,\n",
              "        -1.13375145e-05,  4.99932230e-06,  7.49597821e-05,\n",
              "         1.29517503e-04, -5.60939088e-06, -1.22831061e-05,\n",
              "        -3.00862575e-05,  1.08246684e-04,  8.73652243e-05,\n",
              "         4.89418999e-05],\n",
              "       [-5.70338386e-07, -2.18968194e-06,  1.92323819e-06,\n",
              "         8.35033177e-07,  1.54741781e-06,  1.30238436e-06,\n",
              "         3.50786263e-06,  1.28244767e-06,  7.13609552e-06,\n",
              "         6.75239153e-06,  4.43264753e-06,  1.91155414e-06,\n",
              "         8.50822232e-07,  1.97168310e-06,  3.03524166e-06,\n",
              "         4.94222331e-06,  2.59726085e-06, -1.73247972e-05,\n",
              "        -1.80550649e-06, -1.87676615e-05,  2.91953211e-06,\n",
              "         8.46762838e-09,  5.37648191e-07,  6.42320229e-05,\n",
              "         2.41096532e-05,  4.04855928e-05,  4.83413824e-05,\n",
              "         5.06310062e-06]], dtype=float32)>"
            ]
          },
          "metadata": {
            "tags": []
          },
          "execution_count": 42
        }
      ]
    },
    {
      "cell_type": "code",
      "metadata": {
        "id": "APOUFKGLAWoK",
        "colab_type": "code",
        "colab": {
          "base_uri": "https://localhost:8080/",
          "height": 282
        },
        "outputId": "5fbed36c-89b2-4143-96a2-ade38f6db5d4"
      },
      "source": [
        "plt.imshow(adverserial_training_images_batch_modified[3,:,:])"
      ],
      "execution_count": 44,
      "outputs": [
        {
          "output_type": "execute_result",
          "data": {
            "text/plain": [
              "<matplotlib.image.AxesImage at 0x7feb831b6358>"
            ]
          },
          "metadata": {
            "tags": []
          },
          "execution_count": 44
        },
        {
          "output_type": "display_data",
          "data": {
            "image/png": "[encoded data removed]",
            "text/plain": [
              "<Figure size 432x288 with 1 Axes>"
            ]
          },
          "metadata": {
            "tags": [],
            "needs_background": "light"
          }
        }
      ]
    },
    {
      "cell_type": "code",
      "metadata": {
        "id": "-jIhEaS-IN-G",
        "colab_type": "code",
        "colab": {
          "base_uri": "https://localhost:8080/",
          "height": 283
        },
        "outputId": "e4851fcb-f11e-461b-d497-915176f7fd78"
      },
      "source": [
        "plt.imshow(train_images[3,:,:])"
      ],
      "execution_count": 45,
      "outputs": [
        {
          "output_type": "execute_result",
          "data": {
            "text/plain": [
              "<matplotlib.image.AxesImage at 0x7feb832b1f98>"
            ]
          },
          "metadata": {
            "tags": []
          },
          "execution_count": 45
        },
        {
          "output_type": "display_data",
          "data": {
            "image/png": "[encoded data removed]",
            "text/plain": [
              "<Figure size 432x288 with 1 Axes>"
            ]
          },
          "metadata": {
            "tags": [],
            "needs_background": "light"
          }
        }
      ]
    },
    {
      "cell_type": "code",
      "metadata": {
        "id": "UqYzgnpmAWiV",
        "colab_type": "code",
        "colab": {}
      },
      "source": [
        ""
      ],
      "execution_count": null,
      "outputs": []
    },
    {
      "cell_type": "code",
      "metadata": {
        "id": "4d76gAJaAWfH",
        "colab_type": "code",
        "colab": {}
      },
      "source": [
        ""
      ],
      "execution_count": null,
      "outputs": []
    },
    {
      "cell_type": "code",
      "metadata": {
        "id": "WoVfiDfaAWbw",
        "colab_type": "code",
        "colab": {}
      },
      "source": [
        ""
      ],
      "execution_count": null,
      "outputs": []
    },
    {
      "cell_type": "code",
      "metadata": {
        "id": "TXCWHuShAWaR",
        "colab_type": "code",
        "colab": {}
      },
      "source": [
        ""
      ],
      "execution_count": null,
      "outputs": []
    },
    {
      "cell_type": "code",
      "metadata": {
        "id": "U7awl4RmAWTr",
        "colab_type": "code",
        "colab": {}
      },
      "source": [
        ""
      ],
      "execution_count": null,
      "outputs": []
    }
  ]
}