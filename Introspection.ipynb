{
  "nbformat": 4,
  "nbformat_minor": 0,
  "metadata": {
    "colab": {
      "name": "Introspection.ipynb",
      "provenance": [],
      "collapsed_sections": [
        "exQzRKEpMaVQ"
      ],
      "authorship_tag": "ABX9TyOGna9kBk+9J6yXVAtxQ8yj",
      "include_colab_link": true
    },
    "kernelspec": {
      "name": "python3",
      "display_name": "Python 3"
    },
    "accelerator": "GPU"
  },
  "cells": [
    {
      "cell_type": "markdown",
      "metadata": {
        "id": "view-in-github",
        "colab_type": "text"
      },
      "source": [
        "<a href=\"https://colab.research.google.com/github/surajsrivathsa/ovgu_deeplearning/blob/master/Introspection.ipynb\" target=\"_parent\"><img src=\"https://colab.research.google.com/assets/colab-badge.svg\" alt=\"Open In Colab\"/></a>"
      ]
    },
    {
      "cell_type": "markdown",
      "metadata": {
        "id": "UNGZH5mPFjbf",
        "colab_type": "text"
      },
      "source": [
        "**Project Assignment 4:** Introspection\n",
        "\n",
        "**Team members:**\n",
        "1. Sanjeeth Busnur Indushekar: 224133 : sanjeeth.busnur@st.ovgu.de\n",
        "2. Suraj Shashidhar: 230052 : suraj.shashidhar@st.ovgu.de"
      ]
    },
    {
      "cell_type": "markdown",
      "metadata": {
        "id": "FcIEgqJpG3kH",
        "colab_type": "text"
      },
      "source": [
        "Tasks To be done\n",
        "\n",
        "4.1 gradient-based saliency map (sensitivity analysis)\n",
        "\n",
        "- - Run a batch of inputs through the trained model.\n",
        "\n",
        "Wrap this in a GradientTape where you watch the input batch.\n",
        "(batch size can be 1 if you just like to produce a single saliency map)\n",
        "Compute the gradient for a particular logit or its softmax output with respect to the input.\n",
        "\n",
        "- This tells us how a change in each input pixel would affect the class output.\n",
        "\n",
        "- This already gives you a batch of gradient-based saliency maps!\n",
        "\n",
        "- Plot the saliency map next to the original image or superimpose it.\n",
        "\n",
        "- Do the saliency maps seem to make sense? How would you interpret them?\n",
        "\n",
        "Hint: It makes sense to take the sign of the gradient into account when interpreting them.\n",
        "\n",
        "Negative gradients indicate a decrease in output value, positive gradients an increase.\n",
        "\n",
        "4.2 Activation Maximization\n",
        "\n",
        "Extend the code from 4.1 to create an optimal input for a particular class.\n",
        "\n",
        "- Add the gradients (i.e. the saliency map) to the input. You should multiply the gradients with a small constant (like a learning rate) to make sure the inputs aren’t changed too much.\n",
        "\n",
        "- Do multiple update steps to make the input more optimal for the chosen output class.\n",
        "(I recommend implementing your own update step, but you are allowed to use a keras training loop to optimize the input.)\n",
        "\n",
        "- Does the resulting input look natural?\n",
        "\n",
        "- How does the inputs change when applying many steps of optimization?\n",
        "\n",
        "- How do the optimal inputs differ when initializing the optimization with random noise instead of real examples?\n",
        "\n",
        "Bonus: Apply regularization strategies to make the optimal input more natural-looking.\n",
        "\n"
      ]
    },
    {
      "cell_type": "code",
      "metadata": {
        "id": "Tm-7nvSF4Jbd",
        "colab_type": "code",
        "colab": {}
      },
      "source": [
        "import os\n",
        "%tensorflow_version 2.x\n",
        "import tensorflow as tf\n",
        "from sklearn import preprocessing\n",
        "from google.colab import files\n",
        "from google.colab import drive\n",
        "import matplotlib.pyplot as plt\n",
        "import pandas as pd\n",
        "import copy\n",
        "import numpy as np\n",
        "from datasets import MNISTDataset"
      ],
      "execution_count": 1,
      "outputs": []
    },
    {
      "cell_type": "code",
      "metadata": {
        "id": "tJzT37jxLvHH",
        "colab_type": "code",
        "colab": {
          "base_uri": "https://localhost:8080/",
          "height": 34
        },
        "outputId": "20ed64a5-ef8c-407b-e676-30cd8590fc6d"
      },
      "source": [
        "from tensorflow import keras\n",
        "from tensorflow.keras.preprocessing.image import ImageDataGenerator\n",
        "from keras.preprocessing import image\n",
        "from tensorflow.keras import datasets, layers, models\n",
        "from tensorflow.keras import initializers\n",
        "import tensorboard\n",
        "import time\n",
        "from datetime import datetime\n",
        "from keras import backend as K"
      ],
      "execution_count": 2,
      "outputs": [
        {
          "output_type": "stream",
          "text": [
            "Using TensorFlow backend.\n"
          ],
          "name": "stderr"
        }
      ]
    },
    {
      "cell_type": "code",
      "metadata": {
        "id": "wQ2-hrUA4qdc",
        "colab_type": "code",
        "colab": {
          "base_uri": "https://localhost:8080/",
          "height": 52
        },
        "outputId": "0d48cbdd-5563-497b-9dc3-7d41005d743d"
      },
      "source": [
        "print('tensorflow {}'.format(tf.__version__))\n",
        "print(\"keras {}\".format(keras.__version__))"
      ],
      "execution_count": 4,
      "outputs": [
        {
          "output_type": "stream",
          "text": [
            "tensorflow 2.2.0\n",
            "keras 2.3.0-tf\n"
          ],
          "name": "stdout"
        }
      ]
    },
    {
      "cell_type": "code",
      "metadata": {
        "id": "hW-aKSx5MTHc",
        "colab_type": "code",
        "colab": {
          "base_uri": "https://localhost:8080/",
          "height": 317
        },
        "outputId": "56e3a5a4-c2c0-40a5-b516-189b98884cf6"
      },
      "source": [
        "mnist = tf.keras.datasets.mnist\n",
        "(train_images, train_labels), (test_images, test_labels) = mnist.load_data()\n",
        "plt.imshow(train_images[4], cmap=\"Greys_r\")\n",
        "print(train_labels[1:10])"
      ],
      "execution_count": 5,
      "outputs": [
        {
          "output_type": "stream",
          "text": [
            "Downloading data from https://storage.googleapis.com/tensorflow/tf-keras-datasets/mnist.npz\n",
            "11493376/11490434 [==============================] - 0s 0us/step\n",
            "[0 4 1 9 2 1 3 1 4]\n"
          ],
          "name": "stdout"
        },
        {
          "output_type": "display_data",
          "data": {
            "image/png": "[encoded data removed]",
            "text/plain": [
              "<Figure size 432x288 with 1 Axes>"
            ]
          },
          "metadata": {
            "tags": [],
            "needs_background": "light"
          }
        }
      ]
    },
    {
      "cell_type": "code",
      "metadata": {
        "id": "uRR5LQ-0MTKK",
        "colab_type": "code",
        "colab": {
          "base_uri": "https://localhost:8080/",
          "height": 34
        },
        "outputId": "a9d5745a-69fe-4f70-ff9a-eb5547d1c439"
      },
      "source": [
        "data = MNISTDataset(train_images.reshape([-1, 784]), train_labels, \n",
        "                    test_images.reshape([-1, 784]), test_labels,\n",
        "                    batch_size=128)\n",
        "print(train_images.reshape([-1, 784]).shape)"
      ],
      "execution_count": 6,
      "outputs": [
        {
          "output_type": "stream",
          "text": [
            "(60000, 784)\n"
          ],
          "name": "stdout"
        }
      ]
    },
    {
      "cell_type": "code",
      "metadata": {
        "id": "0l0lWO8bMTQX",
        "colab_type": "code",
        "colab": {
          "base_uri": "https://localhost:8080/",
          "height": 87
        },
        "outputId": "1d652648-5c05-4467-8115-1984d174ed10"
      },
      "source": [
        "print(train_images.shape)\n",
        "print(train_labels.shape)\n",
        "print(test_images.shape)\n",
        "print(test_labels.shape)"
      ],
      "execution_count": 7,
      "outputs": [
        {
          "output_type": "stream",
          "text": [
            "(60000, 28, 28)\n",
            "(60000,)\n",
            "(10000, 28, 28)\n",
            "(10000,)\n"
          ],
          "name": "stdout"
        }
      ]
    },
    {
      "cell_type": "code",
      "metadata": {
        "id": "_S2qT04PTNsj",
        "colab_type": "code",
        "colab": {
          "base_uri": "https://localhost:8080/",
          "height": 52
        },
        "outputId": "ecd487dd-429d-4a97-8121-911aaf1eda4f"
      },
      "source": [
        "new_train_images = tf.cast(tf.expand_dims(train_images, axis = -1),dtype=\"float32\")\n",
        "print(new_train_images.shape)\n",
        "\n",
        "new_test_images = tf.cast(tf.expand_dims(test_images, axis=-1 ),dtype=\"float32\")\n",
        "print(new_test_images.shape)"
      ],
      "execution_count": null,
      "outputs": [
        {
          "output_type": "stream",
          "text": [
            "(60000, 28, 28, 1)\n",
            "(10000, 28, 28, 1)\n"
          ],
          "name": "stdout"
        }
      ]
    },
    {
      "cell_type": "code",
      "metadata": {
        "id": "25bDbj07nu_u",
        "colab_type": "code",
        "colab": {}
      },
      "source": [
        "introspection_training_images = tf.cast(tf.expand_dims(train_images, axis = -1),dtype=\"float32\")\n",
        "introspection_testing_images = tf.cast(tf.expand_dims(test_images, axis=-1 ),dtype=\"float32\")\n",
        "\n",
        "introspection_training_labels = tf.convert_to_tensor(train_labels, dtype=tf.float32)\n",
        "introspection_testing_labels = tf.convert_to_tensor(test_labels, dtype=tf.float32)"
      ],
      "execution_count": 8,
      "outputs": []
    },
    {
      "cell_type": "markdown",
      "metadata": {
        "id": "exQzRKEpMaVQ",
        "colab_type": "text"
      },
      "source": [
        "# Pretrain a simple CNN model"
      ]
    },
    {
      "cell_type": "code",
      "metadata": {
        "id": "819hgv8_MnGS",
        "colab_type": "code",
        "colab": {}
      },
      "source": [
        "def create_cnn_model():\n",
        "  model = keras.Sequential()\n",
        "  model.add(layers.Conv2D(filters=8,kernel_size=(3,3),padding=\"same\",activation=\"relu\" , input_shape=(28, 28, 1), ))\n",
        "  model.add(layers.BatchNormalization())\n",
        "  model.add(layers.Conv2D(filters=16,kernel_size=(3,3),padding=\"same\",activation=\"relu\" ))\n",
        "  model.add(layers.BatchNormalization())\n",
        "  model.add(layers.MaxPool2D(pool_size=(2,2), strides=2))\n",
        "  model.add(layers.Conv2D(filters=32,kernel_size=(3,3),padding=\"same\", activation=\"relu\"))\n",
        "  model.add(layers.BatchNormalization())\n",
        "  model.add(layers.Conv2D(filters=64,kernel_size=(3,3),padding=\"same\", activation=\"relu\"))\n",
        "  model.add(layers.BatchNormalization())\n",
        "  model.add(layers.MaxPool2D(pool_size=(2,2), strides=2))\n",
        "  model.add(layers.Conv2D(filters=128,kernel_size=(3,3),padding=\"same\", activation=\"relu\"))\n",
        "  model.add(layers.BatchNormalization())\n",
        "  model.add(layers.Conv2D(filters=256,kernel_size=(3,3),padding=\"same\", activation=\"relu\"))\n",
        "  model.add(layers.BatchNormalization())\n",
        "  model.add(layers.MaxPool2D(pool_size=(2,2), strides=2))\n",
        "  model.add(layers.Conv2D(filters=512,kernel_size=(3,3),padding=\"same\", activation=\"relu\"))\n",
        "  model.add(layers.BatchNormalization())\n",
        "  model.add(layers.Conv2D(filters=64,kernel_size=(1,1),padding=\"same\", activation=\"relu\"))\n",
        "  model.add(layers.BatchNormalization())\n",
        "  model.add(layers.Flatten(input_shape=(3,3,64)))\n",
        "  model.add(layers.Dense(units=256, activation=\"relu\"))\n",
        "  model.add(layers.Dense(units=10,activation=\"softmax\"))\n",
        "  model.summary()\n",
        "  return model;"
      ],
      "execution_count": null,
      "outputs": []
    },
    {
      "cell_type": "code",
      "metadata": {
        "id": "LDMdOqWeMnMC",
        "colab_type": "code",
        "colab": {
          "base_uri": "https://localhost:8080/",
          "height": 941
        },
        "outputId": "c6ec18ea-363e-414f-c65b-1f007c5aa4bd"
      },
      "source": [
        "vgg_cnn_model = create_cnn_model()"
      ],
      "execution_count": null,
      "outputs": [
        {
          "output_type": "stream",
          "text": [
            "Model: \"sequential\"\n",
            "_________________________________________________________________\n",
            "Layer (type)                 Output Shape              Param #   \n",
            "=================================================================\n",
            "conv2d (Conv2D)              (None, 28, 28, 8)         80        \n",
            "_________________________________________________________________\n",
            "batch_normalization (BatchNo (None, 28, 28, 8)         32        \n",
            "_________________________________________________________________\n",
            "conv2d_1 (Conv2D)            (None, 28, 28, 16)        1168      \n",
            "_________________________________________________________________\n",
            "batch_normalization_1 (Batch (None, 28, 28, 16)        64        \n",
            "_________________________________________________________________\n",
            "max_pooling2d (MaxPooling2D) (None, 14, 14, 16)        0         \n",
            "_________________________________________________________________\n",
            "conv2d_2 (Conv2D)            (None, 14, 14, 32)        4640      \n",
            "_________________________________________________________________\n",
            "batch_normalization_2 (Batch (None, 14, 14, 32)        128       \n",
            "_________________________________________________________________\n",
            "conv2d_3 (Conv2D)            (None, 14, 14, 64)        18496     \n",
            "_________________________________________________________________\n",
            "batch_normalization_3 (Batch (None, 14, 14, 64)        256       \n",
            "_________________________________________________________________\n",
            "max_pooling2d_1 (MaxPooling2 (None, 7, 7, 64)          0         \n",
            "_________________________________________________________________\n",
            "conv2d_4 (Conv2D)            (None, 7, 7, 128)         73856     \n",
            "_________________________________________________________________\n",
            "batch_normalization_4 (Batch (None, 7, 7, 128)         512       \n",
            "_________________________________________________________________\n",
            "conv2d_5 (Conv2D)            (None, 7, 7, 256)         295168    \n",
            "_________________________________________________________________\n",
            "batch_normalization_5 (Batch (None, 7, 7, 256)         1024      \n",
            "_________________________________________________________________\n",
            "max_pooling2d_2 (MaxPooling2 (None, 3, 3, 256)         0         \n",
            "_________________________________________________________________\n",
            "conv2d_6 (Conv2D)            (None, 3, 3, 512)         1180160   \n",
            "_________________________________________________________________\n",
            "batch_normalization_6 (Batch (None, 3, 3, 512)         2048      \n",
            "_________________________________________________________________\n",
            "conv2d_7 (Conv2D)            (None, 3, 3, 64)          32832     \n",
            "_________________________________________________________________\n",
            "batch_normalization_7 (Batch (None, 3, 3, 64)          256       \n",
            "_________________________________________________________________\n",
            "flatten (Flatten)            (None, 576)               0         \n",
            "_________________________________________________________________\n",
            "dense (Dense)                (None, 256)               147712    \n",
            "_________________________________________________________________\n",
            "dense_1 (Dense)              (None, 10)                2570      \n",
            "=================================================================\n",
            "Total params: 1,761,002\n",
            "Trainable params: 1,758,842\n",
            "Non-trainable params: 2,160\n",
            "_________________________________________________________________\n"
          ],
          "name": "stdout"
        }
      ]
    },
    {
      "cell_type": "code",
      "metadata": {
        "id": "OcCP4CupMnJX",
        "colab_type": "code",
        "colab": {}
      },
      "source": [
        "vgg_cnn_model.compile(optimizer=\"adam\", loss = tf.keras.losses.sparse_categorical_crossentropy, metrics=[\"accuracy\"])"
      ],
      "execution_count": null,
      "outputs": []
    },
    {
      "cell_type": "code",
      "metadata": {
        "id": "EKrKfFvjSs-7",
        "colab_type": "code",
        "colab": {
          "base_uri": "https://localhost:8080/",
          "height": 141
        },
        "outputId": "3de9058e-91ca-441d-de51-a37771c67fc5"
      },
      "source": [
        "vgg_cnn_model.fit(new_train_images, train_labels,  epochs=3, batch_size=128, validation_data= (new_test_images, test_labels))"
      ],
      "execution_count": null,
      "outputs": [
        {
          "output_type": "stream",
          "text": [
            "Epoch 1/3\n",
            "469/469 [==============================] - 5s 11ms/step - loss: 0.1188 - accuracy: 0.9636 - val_loss: 0.0642 - val_accuracy: 0.9797\n",
            "Epoch 2/3\n",
            "469/469 [==============================] - 5s 10ms/step - loss: 0.0348 - accuracy: 0.9891 - val_loss: 0.0317 - val_accuracy: 0.9904\n",
            "Epoch 3/3\n",
            "469/469 [==============================] - 5s 10ms/step - loss: 0.0269 - accuracy: 0.9919 - val_loss: 0.0397 - val_accuracy: 0.9884\n"
          ],
          "name": "stdout"
        },
        {
          "output_type": "execute_result",
          "data": {
            "text/plain": [
              "<tensorflow.python.keras.callbacks.History at 0x7f249e7a7390>"
            ]
          },
          "metadata": {
            "tags": []
          },
          "execution_count": 103
        }
      ]
    },
    {
      "cell_type": "code",
      "metadata": {
        "id": "CNqID72rStCD",
        "colab_type": "code",
        "colab": {
          "base_uri": "https://localhost:8080/",
          "height": 34
        },
        "outputId": "16b8b6fc-def2-408d-9d5e-3ad2916b5f26"
      },
      "source": [
        "vgg_cnn_model.save(\"/content/vgg_cnn_model_introspection\")"
      ],
      "execution_count": null,
      "outputs": [
        {
          "output_type": "stream",
          "text": [
            "INFO:tensorflow:Assets written to: /content/vgg_cnn_model_introspection/assets\n"
          ],
          "name": "stdout"
        }
      ]
    },
    {
      "cell_type": "code",
      "metadata": {
        "id": "Qhi1ZRboyGsF",
        "colab_type": "code",
        "colab": {
          "base_uri": "https://localhost:8080/",
          "height": 141
        },
        "outputId": "d5b6adc2-0983-4136-f299-db37279a57ea"
      },
      "source": [
        "!zip -r vgg_cnn_model_introspection.zip /content/vgg_cnn_model_introspection"
      ],
      "execution_count": null,
      "outputs": [
        {
          "output_type": "stream",
          "text": [
            "  adding: content/vgg_cnn_model_introspection/ (stored 0%)\n",
            "  adding: content/vgg_cnn_model_introspection/saved_model.pb (deflated 91%)\n",
            "  adding: content/vgg_cnn_model_introspection/variables/ (stored 0%)\n",
            "  adding: content/vgg_cnn_model_introspection/variables/variables.data-00001-of-00002 (deflated 8%)\n",
            "  adding: content/vgg_cnn_model_introspection/variables/variables.index (deflated 75%)\n",
            "  adding: content/vgg_cnn_model_introspection/variables/variables.data-00000-of-00002 (deflated 83%)\n",
            "  adding: content/vgg_cnn_model_introspection/assets/ (stored 0%)\n"
          ],
          "name": "stdout"
        }
      ]
    },
    {
      "cell_type": "code",
      "metadata": {
        "id": "nsQayqwxyGwE",
        "colab_type": "code",
        "colab": {}
      },
      "source": [
        ""
      ],
      "execution_count": null,
      "outputs": []
    },
    {
      "cell_type": "markdown",
      "metadata": {
        "id": "dd0hyp2_MaZb",
        "colab_type": "text"
      },
      "source": [
        "# Saliency Maps"
      ]
    },
    {
      "cell_type": "code",
      "metadata": {
        "id": "pRQ7FCvieioU",
        "colab_type": "code",
        "colab": {
          "base_uri": "https://localhost:8080/",
          "height": 158
        },
        "outputId": "b0312641-112b-43e5-e8d0-7e2035e0a194"
      },
      "source": [
        "!unzip \"/content/vgg_cnn_model_introspection.zip\" "
      ],
      "execution_count": 12,
      "outputs": [
        {
          "output_type": "stream",
          "text": [
            "Archive:  /content/vgg_cnn_model_introspection.zip\n",
            "   creating: content/vgg_cnn_model_introspection/\n",
            "  inflating: content/vgg_cnn_model_introspection/saved_model.pb  \n",
            "   creating: content/vgg_cnn_model_introspection/variables/\n",
            "  inflating: content/vgg_cnn_model_introspection/variables/variables.data-00001-of-00002  \n",
            "  inflating: content/vgg_cnn_model_introspection/variables/variables.index  \n",
            "  inflating: content/vgg_cnn_model_introspection/variables/variables.data-00000-of-00002  \n",
            "   creating: content/vgg_cnn_model_introspection/assets/\n"
          ],
          "name": "stdout"
        }
      ]
    },
    {
      "cell_type": "code",
      "metadata": {
        "id": "-8MyMib4evMg",
        "colab_type": "code",
        "colab": {}
      },
      "source": [
        "vgg_cnn_model = keras.models.load_model(filepath=\"/content/content/vgg_cnn_model_introspection\")\n"
      ],
      "execution_count": 13,
      "outputs": []
    },
    {
      "cell_type": "code",
      "metadata": {
        "id": "k2BVHCAdfFhS",
        "colab_type": "code",
        "colab": {
          "base_uri": "https://localhost:8080/",
          "height": 941
        },
        "outputId": "0d7cc1c5-3580-4b4a-aa50-afd845818647"
      },
      "source": [
        "vgg_cnn_model.summary()"
      ],
      "execution_count": 14,
      "outputs": [
        {
          "output_type": "stream",
          "text": [
            "Model: \"sequential\"\n",
            "_________________________________________________________________\n",
            "Layer (type)                 Output Shape              Param #   \n",
            "=================================================================\n",
            "conv2d (Conv2D)              (None, 28, 28, 8)         80        \n",
            "_________________________________________________________________\n",
            "batch_normalization (BatchNo (None, 28, 28, 8)         32        \n",
            "_________________________________________________________________\n",
            "conv2d_1 (Conv2D)            (None, 28, 28, 16)        1168      \n",
            "_________________________________________________________________\n",
            "batch_normalization_1 (Batch (None, 28, 28, 16)        64        \n",
            "_________________________________________________________________\n",
            "max_pooling2d (MaxPooling2D) (None, 14, 14, 16)        0         \n",
            "_________________________________________________________________\n",
            "conv2d_2 (Conv2D)            (None, 14, 14, 32)        4640      \n",
            "_________________________________________________________________\n",
            "batch_normalization_2 (Batch (None, 14, 14, 32)        128       \n",
            "_________________________________________________________________\n",
            "conv2d_3 (Conv2D)            (None, 14, 14, 64)        18496     \n",
            "_________________________________________________________________\n",
            "batch_normalization_3 (Batch (None, 14, 14, 64)        256       \n",
            "_________________________________________________________________\n",
            "max_pooling2d_1 (MaxPooling2 (None, 7, 7, 64)          0         \n",
            "_________________________________________________________________\n",
            "conv2d_4 (Conv2D)            (None, 7, 7, 128)         73856     \n",
            "_________________________________________________________________\n",
            "batch_normalization_4 (Batch (None, 7, 7, 128)         512       \n",
            "_________________________________________________________________\n",
            "conv2d_5 (Conv2D)            (None, 7, 7, 256)         295168    \n",
            "_________________________________________________________________\n",
            "batch_normalization_5 (Batch (None, 7, 7, 256)         1024      \n",
            "_________________________________________________________________\n",
            "max_pooling2d_2 (MaxPooling2 (None, 3, 3, 256)         0         \n",
            "_________________________________________________________________\n",
            "conv2d_6 (Conv2D)            (None, 3, 3, 512)         1180160   \n",
            "_________________________________________________________________\n",
            "batch_normalization_6 (Batch (None, 3, 3, 512)         2048      \n",
            "_________________________________________________________________\n",
            "conv2d_7 (Conv2D)            (None, 3, 3, 64)          32832     \n",
            "_________________________________________________________________\n",
            "batch_normalization_7 (Batch (None, 3, 3, 64)          256       \n",
            "_________________________________________________________________\n",
            "flatten (Flatten)            (None, 576)               0         \n",
            "_________________________________________________________________\n",
            "dense (Dense)                (None, 256)               147712    \n",
            "_________________________________________________________________\n",
            "dense_1 (Dense)              (None, 10)                2570      \n",
            "=================================================================\n",
            "Total params: 1,761,002\n",
            "Trainable params: 1,758,842\n",
            "Non-trainable params: 2,160\n",
            "_________________________________________________________________\n"
          ],
          "name": "stdout"
        }
      ]
    },
    {
      "cell_type": "code",
      "metadata": {
        "id": "8vdf0iOgMTOU",
        "colab_type": "code",
        "colab": {
          "base_uri": "https://localhost:8080/",
          "height": 282
        },
        "outputId": "2ae2aa94-eac3-499d-fddd-726d6431a10d"
      },
      "source": [
        "introspection_image = introspection_testing_images[0, :, :, :]\n",
        "plt.imshow(introspection_image[:, :, 0], cmap=\"binary\")"
      ],
      "execution_count": 15,
      "outputs": [
        {
          "output_type": "execute_result",
          "data": {
            "text/plain": [
              "<matplotlib.image.AxesImage at 0x7fcc60ffc860>"
            ]
          },
          "metadata": {
            "tags": []
          },
          "execution_count": 15
        },
        {
          "output_type": "display_data",
          "data": {
            "image/png": "[encoded data removed]",
            "text/plain": [
              "<Figure size 432x288 with 1 Axes>"
            ]
          },
          "metadata": {
            "tags": [],
            "needs_background": "light"
          }
        }
      ]
    },
    {
      "cell_type": "code",
      "metadata": {
        "id": "oCrh0JPkH3Tl",
        "colab_type": "code",
        "colab": {
          "base_uri": "https://localhost:8080/",
          "height": 34
        },
        "outputId": "f3b8c49f-e919-409b-8b39-59b0776b3f65"
      },
      "source": [
        "introspection_prediction = vgg_cnn_model.predict(introspection_testing_images[0:8, :, :, :])\n",
        "introspection_prediction.shape"
      ],
      "execution_count": 16,
      "outputs": [
        {
          "output_type": "execute_result",
          "data": {
            "text/plain": [
              "(8, 10)"
            ]
          },
          "metadata": {
            "tags": []
          },
          "execution_count": 16
        }
      ]
    },
    {
      "cell_type": "code",
      "metadata": {
        "id": "dUPiezuj4YBx",
        "colab_type": "code",
        "colab": {
          "base_uri": "https://localhost:8080/",
          "height": 282
        },
        "outputId": "a17721e7-7339-46aa-a0a3-89b533412995"
      },
      "source": [
        "plt.imshow(introspection_testing_images[7,:,:,0], cmap=\"binary\")"
      ],
      "execution_count": 18,
      "outputs": [
        {
          "output_type": "execute_result",
          "data": {
            "text/plain": [
              "<matplotlib.image.AxesImage at 0x7fcc5e442d30>"
            ]
          },
          "metadata": {
            "tags": []
          },
          "execution_count": 18
        },
        {
          "output_type": "display_data",
          "data": {
            "image/png": "[encoded data removed]",
            "text/plain": [
              "<Figure size 432x288 with 1 Axes>"
            ]
          },
          "metadata": {
            "tags": [],
            "needs_background": "light"
          }
        }
      ]
    },
    {
      "cell_type": "code",
      "metadata": {
        "id": "CQBtBmspH3Rf",
        "colab_type": "code",
        "colab": {
          "base_uri": "https://localhost:8080/",
          "height": 70
        },
        "outputId": "7636e670-8300-4541-cc54-00e81b4f8a55"
      },
      "source": [
        "introspection_prediction[7]"
      ],
      "execution_count": null,
      "outputs": [
        {
          "output_type": "execute_result",
          "data": {
            "text/plain": [
              "array([7.5517782e-08, 2.8742018e-06, 5.9832570e-07, 2.4698878e-07,\n",
              "       4.1548577e-03, 2.5558513e-06, 4.9061151e-07, 1.7694200e-07,\n",
              "       8.8357128e-06, 9.9582928e-01], dtype=float32)"
            ]
          },
          "metadata": {
            "tags": []
          },
          "execution_count": 110
        }
      ]
    },
    {
      "cell_type": "code",
      "metadata": {
        "id": "aCHdBqxsH3Ph",
        "colab_type": "code",
        "colab": {
          "base_uri": "https://localhost:8080/",
          "height": 282
        },
        "outputId": "a79e767a-4ecf-439f-9d45-7e3e67002a15"
      },
      "source": [
        "plt.imshow(new_test_images[7, :, :, 0], cmap=\"binary\")"
      ],
      "execution_count": null,
      "outputs": [
        {
          "output_type": "execute_result",
          "data": {
            "text/plain": [
              "<matplotlib.image.AxesImage at 0x7f249bc4b2b0>"
            ]
          },
          "metadata": {
            "tags": []
          },
          "execution_count": 111
        },
        {
          "output_type": "display_data",
          "data": {
            "image/png": "[encoded data removed]",
            "text/plain": [
              "<Figure size 432x288 with 1 Axes>"
            ]
          },
          "metadata": {
            "tags": [],
            "needs_background": "light"
          }
        }
      ]
    },
    {
      "cell_type": "code",
      "metadata": {
        "id": "r6AeBpM76BM0",
        "colab_type": "code",
        "colab": {}
      },
      "source": [
        "zero_mask = tf.tile(tf.Variable(initial_value=tf.constant([1,0,0,0,0,0,0,0,0,0], dtype=\"float32\", shape=(1,10))) , multiples=[10000,1])\n",
        "one_mask =  tf.tile(tf.Variable(initial_value=tf.constant([0,1,0,0,0,0,0,0,0,0], dtype=\"float32\", shape=(1,10))) , multiples=[10000,1])\n",
        "two_mask =  tf.tile(tf.Variable(initial_value=tf.constant([0,0,1,0,0,0,0,0,0,0], dtype=\"float32\", shape=(1,10))) , multiples=[10000,1])\n",
        "three_mask = tf.tile(tf.Variable(initial_value=tf.constant([0,0,0,1,0,0,0,0,0,0], dtype=\"float32\", shape=(1,10))) , multiples=[10000,1])\n",
        "four_mask =  tf.tile(tf.Variable(initial_value=tf.constant([0,0,0,0,1,0,0,0,0,0], dtype=\"float32\", shape=(1,10))) , multiples=[10000,1])\n",
        "five_mask =  tf.tile(tf.Variable(initial_value=tf.constant([0,0,0,0,0,1,0,0,0,0], dtype=\"float32\", shape=(1,10))) , multiples=[10000,1])\n",
        "six_mask = tf.tile(tf.Variable(initial_value=tf.constant([0,0,0,0,0,0,1,0,0,0], dtype=\"float32\", shape=(1,10))) , multiples=[10000,1])\n",
        "seven_mask = tf.tile(tf.Variable(initial_value=tf.constant([0,0,0,0,0,0,0,1,0,0], dtype=\"float32\", shape=(1,10))) , multiples=[10000,1])\n",
        "eight_mask =  tf.tile(tf.Variable(initial_value=tf.constant([0,0,0,0,0,0,0,0,1,0], dtype=\"float32\", shape=(1,10))) , multiples=[10000,1])\n",
        "nine_mask =  tf.tile(tf.Variable(initial_value=tf.constant([0,0,0,0,0,0,0,0,0,1], dtype=\"float32\", shape=(1,10))) , multiples=[10000,1])\n",
        "\n",
        "\n"
      ],
      "execution_count": 49,
      "outputs": []
    },
    {
      "cell_type": "code",
      "metadata": {
        "id": "MajrUJH46BFC",
        "colab_type": "code",
        "colab": {
          "base_uri": "https://localhost:8080/",
          "height": 34
        },
        "outputId": "c0223496-8d8e-4f90-a4bd-465ea0219afc"
      },
      "source": [
        "\n",
        "with tf.GradientTape() as tape:\n",
        "  tape.watch(introspection_testing_labels)\n",
        "  tape.watch(introspection_testing_images)\n",
        "  introspection_prediction = vgg_cnn_model(introspection_testing_images)\n",
        "  print(introspection_prediction.shape)\n",
        "  zero_position_output = tf.multiply(zero_mask,introspection_prediction)\n",
        "  #ones_position_output = tf.multiply(one_mask,introspection_prediction)\n",
        "  complete_loss = tf.keras.losses.sparse_categorical_crossentropy(introspection_testing_labels, introspection_prediction)\n",
        "  zero_grad_loss = tf.keras.losses.sparse_categorical_crossentropy(introspection_testing_labels, zero_position_output)\n",
        "  #ones_grad_loss = tf.keras.losses.sparse_categorical_crossentropy(test_labels,ones_position_output)\n",
        "\n",
        "grads = tape.gradient(zero_grad_loss,introspection_testing_images)\n"
      ],
      "execution_count": 50,
      "outputs": [
        {
          "output_type": "stream",
          "text": [
            "(10000, 10)\n"
          ],
          "name": "stdout"
        }
      ]
    },
    {
      "cell_type": "code",
      "metadata": {
        "id": "BsbT7NtAuIND",
        "colab_type": "code",
        "colab": {
          "base_uri": "https://localhost:8080/",
          "height": 34
        },
        "outputId": "02e0b9d9-ccef-4c2a-954d-b313e2526d51"
      },
      "source": [
        "grads.shape"
      ],
      "execution_count": 30,
      "outputs": [
        {
          "output_type": "execute_result",
          "data": {
            "text/plain": [
              "TensorShape([10000, 28, 28, 1])"
            ]
          },
          "metadata": {
            "tags": []
          },
          "execution_count": 30
        }
      ]
    },
    {
      "cell_type": "code",
      "metadata": {
        "id": "UXYIPTimxchN",
        "colab_type": "code",
        "colab": {
          "base_uri": "https://localhost:8080/",
          "height": 1000
        },
        "outputId": "9de183e7-9052-42e0-da7c-07f28309581d"
      },
      "source": [
        "grads[0,:,:,:]"
      ],
      "execution_count": 35,
      "outputs": [
        {
          "output_type": "execute_result",
          "data": {
            "text/plain": [
              "<tf.Tensor: shape=(28, 28, 1), dtype=float32, numpy=\n",
              "array([[[-3.7344172e-10],\n",
              "        [-2.6963465e-10],\n",
              "        [-9.0461449e-10],\n",
              "        [-5.2344129e-10],\n",
              "        [ 7.7073736e-10],\n",
              "        [ 9.8358499e-10],\n",
              "        [-1.2354824e-09],\n",
              "        [-5.2310201e-10],\n",
              "        [ 7.2022044e-10],\n",
              "        [ 1.2051624e-09],\n",
              "        [ 5.1838867e-10],\n",
              "        [-1.9751087e-09],\n",
              "        [-9.1592872e-10],\n",
              "        [ 6.6577410e-10],\n",
              "        [ 5.9647309e-10],\n",
              "        [ 3.1860550e-09],\n",
              "        [ 1.9253030e-09],\n",
              "        [-8.2342000e-10],\n",
              "        [ 1.7935171e-09],\n",
              "        [ 8.9976748e-10],\n",
              "        [-1.5017838e-09],\n",
              "        [-2.0604407e-10],\n",
              "        [ 5.7793975e-10],\n",
              "        [ 3.9226786e-10],\n",
              "        [-1.8037008e-10],\n",
              "        [-1.1708634e-10],\n",
              "        [-1.1452404e-10],\n",
              "        [-1.4401286e-11]],\n",
              "\n",
              "       [[-5.2461224e-10],\n",
              "        [ 2.7839123e-10],\n",
              "        [-8.2907703e-10],\n",
              "        [-6.4809080e-10],\n",
              "        [-6.9454842e-10],\n",
              "        [ 7.9998530e-10],\n",
              "        [ 2.0400632e-09],\n",
              "        [ 1.4755142e-09],\n",
              "        [-3.2308265e-09],\n",
              "        [ 5.5525429e-10],\n",
              "        [ 2.0686477e-09],\n",
              "        [ 1.1406396e-09],\n",
              "        [ 7.2601085e-09],\n",
              "        [ 1.1118524e-09],\n",
              "        [-1.5383561e-09],\n",
              "        [-3.4611902e-09],\n",
              "        [ 2.5197140e-09],\n",
              "        [ 2.7731889e-10],\n",
              "        [ 3.5554291e-09],\n",
              "        [ 6.0595806e-10],\n",
              "        [ 2.6380376e-09],\n",
              "        [ 8.3793805e-10],\n",
              "        [-1.3920607e-09],\n",
              "        [ 7.0738848e-10],\n",
              "        [-1.1038079e-09],\n",
              "        [-1.5097774e-09],\n",
              "        [-1.2197601e-09],\n",
              "        [-8.1174301e-10]],\n",
              "\n",
              "       [[ 2.4357766e-11],\n",
              "        [-1.0770096e-09],\n",
              "        [ 1.1699881e-09],\n",
              "        [ 1.3443604e-09],\n",
              "        [-1.1769863e-09],\n",
              "        [ 3.7942538e-09],\n",
              "        [-2.5126337e-09],\n",
              "        [ 4.6543556e-09],\n",
              "        [-2.6970637e-10],\n",
              "        [ 3.7670098e-09],\n",
              "        [-1.0920426e-09],\n",
              "        [-1.3052515e-09],\n",
              "        [ 4.8010955e-09],\n",
              "        [-3.8700723e-09],\n",
              "        [ 9.1009671e-09],\n",
              "        [-2.4186988e-09],\n",
              "        [ 2.9840725e-09],\n",
              "        [-2.3084072e-09],\n",
              "        [ 3.1900209e-09],\n",
              "        [-1.8044876e-09],\n",
              "        [-2.0286057e-09],\n",
              "        [ 3.4957799e-09],\n",
              "        [ 1.4384152e-09],\n",
              "        [ 8.3527707e-10],\n",
              "        [ 6.2325994e-10],\n",
              "        [-5.5863708e-10],\n",
              "        [ 3.6596728e-10],\n",
              "        [ 7.4013007e-10]],\n",
              "\n",
              "       [[ 3.6205089e-10],\n",
              "        [ 8.2588714e-10],\n",
              "        [ 2.0127560e-09],\n",
              "        [ 1.2141514e-09],\n",
              "        [ 3.9791179e-09],\n",
              "        [ 3.0154081e-09],\n",
              "        [ 3.1560980e-09],\n",
              "        [-1.6463262e-09],\n",
              "        [-1.0197656e-09],\n",
              "        [ 4.0310928e-09],\n",
              "        [-2.7211255e-09],\n",
              "        [-5.5040639e-10],\n",
              "        [-5.7831664e-09],\n",
              "        [-4.1198889e-09],\n",
              "        [-5.7994862e-09],\n",
              "        [-2.7122464e-09],\n",
              "        [ 3.3006331e-09],\n",
              "        [ 6.1964323e-10],\n",
              "        [-2.1619102e-09],\n",
              "        [ 1.4119319e-09],\n",
              "        [-1.5056449e-09],\n",
              "        [-5.1082061e-10],\n",
              "        [-1.0523480e-09],\n",
              "        [ 8.9855345e-11],\n",
              "        [ 9.9688058e-10],\n",
              "        [-3.4827141e-11],\n",
              "        [ 2.1617279e-09],\n",
              "        [ 1.2641409e-09]],\n",
              "\n",
              "       [[ 8.9853125e-11],\n",
              "        [ 4.3001902e-10],\n",
              "        [-4.1293235e-10],\n",
              "        [ 1.0232000e-09],\n",
              "        [ 3.9099883e-09],\n",
              "        [ 3.8803747e-09],\n",
              "        [-3.9390473e-09],\n",
              "        [ 4.8165250e-09],\n",
              "        [-5.3975513e-09],\n",
              "        [-5.3026437e-09],\n",
              "        [-2.6329017e-09],\n",
              "        [-3.6811230e-09],\n",
              "        [-2.4563751e-09],\n",
              "        [-2.8974865e-09],\n",
              "        [-1.0021893e-09],\n",
              "        [-2.1697810e-09],\n",
              "        [-1.8715056e-09],\n",
              "        [-8.8513419e-10],\n",
              "        [-3.0649550e-10],\n",
              "        [-4.0190882e-09],\n",
              "        [ 2.5794151e-09],\n",
              "        [-1.7972543e-09],\n",
              "        [-2.5638538e-09],\n",
              "        [-2.1231206e-09],\n",
              "        [-1.2534061e-10],\n",
              "        [-3.7595516e-10],\n",
              "        [-1.7630181e-10],\n",
              "        [ 6.8574074e-10]],\n",
              "\n",
              "       [[ 5.5752125e-10],\n",
              "        [-9.5101427e-10],\n",
              "        [ 8.6617469e-10],\n",
              "        [-1.7534818e-10],\n",
              "        [ 1.6319179e-10],\n",
              "        [-8.4318916e-09],\n",
              "        [-3.6120869e-09],\n",
              "        [-1.7268538e-09],\n",
              "        [-2.7834455e-09],\n",
              "        [ 1.2241707e-09],\n",
              "        [ 2.2918258e-09],\n",
              "        [ 3.2034402e-09],\n",
              "        [ 7.5647955e-10],\n",
              "        [ 6.6848904e-09],\n",
              "        [ 3.0303409e-09],\n",
              "        [ 2.3616167e-09],\n",
              "        [ 2.5467415e-09],\n",
              "        [-9.1576591e-10],\n",
              "        [-1.4783501e-09],\n",
              "        [ 1.1017186e-09],\n",
              "        [-3.8358838e-10],\n",
              "        [-9.9969133e-10],\n",
              "        [ 1.5966816e-09],\n",
              "        [-1.1601183e-09],\n",
              "        [ 4.7953524e-10],\n",
              "        [-3.0895397e-11],\n",
              "        [-4.5669346e-10],\n",
              "        [-6.9039813e-10]],\n",
              "\n",
              "       [[ 1.2861534e-10],\n",
              "        [-7.6822726e-10],\n",
              "        [-2.0722113e-10],\n",
              "        [-7.1783024e-10],\n",
              "        [-5.2956368e-09],\n",
              "        [-9.5665396e-09],\n",
              "        [-1.5112212e-08],\n",
              "        [-5.3262266e-09],\n",
              "        [-3.8751224e-10],\n",
              "        [ 3.7178676e-09],\n",
              "        [ 5.7827041e-09],\n",
              "        [ 7.3537554e-10],\n",
              "        [ 2.8324050e-09],\n",
              "        [ 6.9414086e-10],\n",
              "        [ 6.5030736e-10],\n",
              "        [-3.4818362e-09],\n",
              "        [-7.9059675e-10],\n",
              "        [ 1.0576099e-09],\n",
              "        [ 2.6666027e-09],\n",
              "        [-6.0960170e-10],\n",
              "        [ 4.3080579e-09],\n",
              "        [-1.6462227e-09],\n",
              "        [-2.1430593e-09],\n",
              "        [-2.0806370e-09],\n",
              "        [-5.3224197e-10],\n",
              "        [-1.5358987e-09],\n",
              "        [-1.0857311e-09],\n",
              "        [-5.6582905e-10]],\n",
              "\n",
              "       [[ 4.6151200e-10],\n",
              "        [ 8.0888829e-10],\n",
              "        [ 2.8728855e-09],\n",
              "        [-4.5779158e-09],\n",
              "        [-9.9440385e-09],\n",
              "        [-1.2627697e-08],\n",
              "        [-7.2539450e-09],\n",
              "        [-1.0564640e-09],\n",
              "        [ 2.1608526e-09],\n",
              "        [-2.2217792e-09],\n",
              "        [ 2.3923485e-09],\n",
              "        [ 1.1823508e-09],\n",
              "        [ 1.3394029e-09],\n",
              "        [-1.2413179e-09],\n",
              "        [ 1.5809161e-09],\n",
              "        [-9.2338942e-10],\n",
              "        [-4.1351100e-09],\n",
              "        [ 3.1293017e-09],\n",
              "        [ 8.0031537e-12],\n",
              "        [-1.7768773e-09],\n",
              "        [ 8.6359020e-10],\n",
              "        [-6.6020706e-10],\n",
              "        [ 1.9570785e-09],\n",
              "        [-1.7904505e-09],\n",
              "        [ 4.5509807e-10],\n",
              "        [-2.1139801e-10],\n",
              "        [-4.1737896e-10],\n",
              "        [ 4.6306672e-10]],\n",
              "\n",
              "       [[ 1.5647411e-10],\n",
              "        [-2.9894123e-09],\n",
              "        [ 1.9740309e-09],\n",
              "        [-5.9198535e-11],\n",
              "        [-6.9603665e-09],\n",
              "        [ 1.3960334e-09],\n",
              "        [-2.2122646e-09],\n",
              "        [ 2.1194427e-10],\n",
              "        [-4.1942871e-10],\n",
              "        [-4.0379589e-10],\n",
              "        [-2.0967086e-09],\n",
              "        [-4.8972613e-09],\n",
              "        [-1.2802341e-09],\n",
              "        [-7.2714945e-10],\n",
              "        [-2.6498705e-09],\n",
              "        [-2.1789637e-09],\n",
              "        [-1.0246313e-09],\n",
              "        [ 6.9390782e-10],\n",
              "        [ 4.0554204e-10],\n",
              "        [-1.2560114e-09],\n",
              "        [ 5.2504112e-12],\n",
              "        [-1.2233475e-10],\n",
              "        [ 2.4042734e-10],\n",
              "        [-1.5870596e-09],\n",
              "        [ 4.0266528e-09],\n",
              "        [-1.0165798e-09],\n",
              "        [ 2.0807328e-10],\n",
              "        [-3.5833753e-10]],\n",
              "\n",
              "       [[ 5.4679994e-10],\n",
              "        [-4.6647997e-10],\n",
              "        [ 1.1804407e-10],\n",
              "        [-9.3282431e-09],\n",
              "        [-9.7447139e-10],\n",
              "        [-6.3650729e-10],\n",
              "        [ 5.6681886e-09],\n",
              "        [-2.3948787e-09],\n",
              "        [ 1.7741958e-09],\n",
              "        [ 7.2149819e-10],\n",
              "        [-3.7042178e-09],\n",
              "        [-7.5596631e-09],\n",
              "        [-1.3555359e-09],\n",
              "        [ 3.1419123e-10],\n",
              "        [-2.2536133e-09],\n",
              "        [ 4.9702509e-10],\n",
              "        [ 3.0160199e-09],\n",
              "        [ 9.0391805e-10],\n",
              "        [ 4.7910254e-10],\n",
              "        [ 5.1960225e-10],\n",
              "        [-1.1312219e-09],\n",
              "        [-7.6744650e-10],\n",
              "        [ 6.4871991e-10],\n",
              "        [-1.2439986e-09],\n",
              "        [-6.0290684e-10],\n",
              "        [-1.4717532e-09],\n",
              "        [ 2.3889135e-10],\n",
              "        [-1.3381821e-10]],\n",
              "\n",
              "       [[-1.8277720e-10],\n",
              "        [-4.1725121e-10],\n",
              "        [ 3.3599505e-09],\n",
              "        [-1.1598551e-09],\n",
              "        [-2.2473297e-09],\n",
              "        [-5.2145528e-09],\n",
              "        [-3.8767096e-09],\n",
              "        [ 3.7272372e-09],\n",
              "        [ 5.7244955e-09],\n",
              "        [ 6.0797207e-09],\n",
              "        [ 4.9110374e-09],\n",
              "        [ 5.7404548e-10],\n",
              "        [ 5.2518931e-09],\n",
              "        [ 3.7335823e-09],\n",
              "        [-1.0484598e-09],\n",
              "        [ 7.2459931e-09],\n",
              "        [ 2.3010962e-09],\n",
              "        [ 8.9164942e-10],\n",
              "        [ 2.0146849e-09],\n",
              "        [ 1.0750001e-09],\n",
              "        [ 8.6616314e-10],\n",
              "        [ 3.3964931e-10],\n",
              "        [-1.6622053e-09],\n",
              "        [-2.2263766e-09],\n",
              "        [ 4.4570705e-10],\n",
              "        [ 4.3193049e-10],\n",
              "        [-1.2606853e-09],\n",
              "        [ 7.4893008e-11]],\n",
              "\n",
              "       [[ 1.7327021e-09],\n",
              "        [ 5.1742688e-10],\n",
              "        [-1.6729567e-09],\n",
              "        [ 3.0314604e-09],\n",
              "        [-2.2034532e-09],\n",
              "        [ 6.3888156e-10],\n",
              "        [ 5.1708353e-09],\n",
              "        [ 1.8371120e-09],\n",
              "        [ 1.0307910e-09],\n",
              "        [ 9.7409050e-09],\n",
              "        [ 2.5207614e-09],\n",
              "        [ 7.3411659e-09],\n",
              "        [ 2.0018431e-11],\n",
              "        [-1.5166381e-09],\n",
              "        [ 4.7984647e-09],\n",
              "        [ 2.3218756e-09],\n",
              "        [ 4.9889937e-10],\n",
              "        [ 5.0342557e-09],\n",
              "        [-1.7167725e-09],\n",
              "        [-3.8645340e-09],\n",
              "        [-9.7174546e-10],\n",
              "        [-3.3387149e-10],\n",
              "        [-7.2921336e-11],\n",
              "        [ 1.6346170e-09],\n",
              "        [-2.2949027e-09],\n",
              "        [ 1.3744557e-09],\n",
              "        [ 1.2197626e-09],\n",
              "        [-1.0220187e-09]],\n",
              "\n",
              "       [[-7.9791457e-10],\n",
              "        [ 2.4514659e-09],\n",
              "        [-1.4917589e-09],\n",
              "        [-1.1561910e-10],\n",
              "        [ 3.5017593e-09],\n",
              "        [-3.9537995e-09],\n",
              "        [-3.6670336e-10],\n",
              "        [ 2.1912578e-09],\n",
              "        [-5.3992473e-09],\n",
              "        [ 2.9440848e-09],\n",
              "        [-5.1664601e-09],\n",
              "        [-9.2654995e-09],\n",
              "        [ 4.2098440e-09],\n",
              "        [ 5.4710476e-09],\n",
              "        [-2.4191391e-09],\n",
              "        [ 2.1960205e-09],\n",
              "        [-8.0944584e-09],\n",
              "        [-8.8577643e-09],\n",
              "        [ 7.5998779e-10],\n",
              "        [-1.3236663e-09],\n",
              "        [ 4.2487425e-10],\n",
              "        [ 1.5475544e-09],\n",
              "        [-2.6602760e-09],\n",
              "        [ 2.1896740e-09],\n",
              "        [-2.0353338e-10],\n",
              "        [ 2.8619090e-10],\n",
              "        [-2.0449340e-09],\n",
              "        [-7.1848660e-10]],\n",
              "\n",
              "       [[-1.2479304e-09],\n",
              "        [-1.5166937e-09],\n",
              "        [-2.6037434e-09],\n",
              "        [ 1.8514779e-09],\n",
              "        [-2.5453490e-09],\n",
              "        [ 7.8993823e-10],\n",
              "        [-6.8283496e-10],\n",
              "        [-4.6583066e-09],\n",
              "        [-3.2375931e-09],\n",
              "        [-2.7442353e-09],\n",
              "        [-8.4604581e-09],\n",
              "        [-1.8854007e-09],\n",
              "        [-9.4415169e-09],\n",
              "        [-4.7049227e-09],\n",
              "        [ 1.5582427e-10],\n",
              "        [-9.9778852e-09],\n",
              "        [-3.4894851e-09],\n",
              "        [-4.4240772e-10],\n",
              "        [-2.5001832e-09],\n",
              "        [ 3.6690651e-12],\n",
              "        [ 1.9938615e-09],\n",
              "        [-8.8421126e-10],\n",
              "        [ 6.9870493e-10],\n",
              "        [ 1.0556200e-09],\n",
              "        [-3.7963952e-09],\n",
              "        [ 1.1486471e-09],\n",
              "        [-2.7326186e-09],\n",
              "        [ 2.4303004e-10]],\n",
              "\n",
              "       [[ 3.8529915e-11],\n",
              "        [ 4.0380779e-10],\n",
              "        [-1.7704098e-09],\n",
              "        [ 1.3476171e-09],\n",
              "        [ 4.0683623e-10],\n",
              "        [-3.8932253e-09],\n",
              "        [ 6.3795227e-09],\n",
              "        [-1.9651121e-09],\n",
              "        [-2.5067317e-09],\n",
              "        [-1.4293839e-09],\n",
              "        [-2.2355569e-09],\n",
              "        [ 2.7767799e-10],\n",
              "        [-1.8409025e-09],\n",
              "        [ 6.5374217e-10],\n",
              "        [-1.7041810e-09],\n",
              "        [ 2.1836430e-09],\n",
              "        [ 4.5642450e-09],\n",
              "        [-5.9790101e-10],\n",
              "        [-2.7068119e-09],\n",
              "        [-5.5553908e-09],\n",
              "        [-2.6687519e-09],\n",
              "        [-4.6423831e-10],\n",
              "        [-1.8108253e-09],\n",
              "        [ 2.5515601e-09],\n",
              "        [-4.1023226e-11],\n",
              "        [ 9.1938757e-10],\n",
              "        [-3.4434661e-10],\n",
              "        [ 2.0818355e-10]],\n",
              "\n",
              "       [[-5.1082516e-10],\n",
              "        [-2.0776190e-09],\n",
              "        [ 4.0369410e-09],\n",
              "        [-3.0095546e-09],\n",
              "        [ 8.3340668e-11],\n",
              "        [-2.4800642e-09],\n",
              "        [-1.1291141e-09],\n",
              "        [-3.2081175e-09],\n",
              "        [ 3.1389089e-09],\n",
              "        [-4.2071484e-09],\n",
              "        [-4.2278381e-09],\n",
              "        [ 5.5466671e-09],\n",
              "        [ 9.2778157e-10],\n",
              "        [ 3.2304350e-09],\n",
              "        [ 1.1571424e-08],\n",
              "        [ 8.4437488e-09],\n",
              "        [-1.3028107e-09],\n",
              "        [-2.0116262e-09],\n",
              "        [ 2.2424322e-09],\n",
              "        [-1.2531702e-09],\n",
              "        [ 8.7654695e-10],\n",
              "        [ 6.2703609e-10],\n",
              "        [-2.7268313e-10],\n",
              "        [ 4.4983888e-09],\n",
              "        [-3.8549857e-09],\n",
              "        [-1.1704836e-09],\n",
              "        [ 1.1694437e-09],\n",
              "        [ 4.3378923e-10]],\n",
              "\n",
              "       [[ 9.8409714e-10],\n",
              "        [ 3.0347418e-09],\n",
              "        [ 1.7197289e-09],\n",
              "        [-1.9065314e-09],\n",
              "        [-2.1956492e-10],\n",
              "        [-2.2591469e-09],\n",
              "        [ 8.2399847e-09],\n",
              "        [-5.5934497e-09],\n",
              "        [-3.1194528e-10],\n",
              "        [ 3.0561902e-09],\n",
              "        [-2.7980613e-09],\n",
              "        [ 3.4502883e-09],\n",
              "        [-2.9669950e-10],\n",
              "        [ 9.1952090e-09],\n",
              "        [ 7.1773218e-09],\n",
              "        [-2.3252542e-09],\n",
              "        [ 2.3684330e-09],\n",
              "        [-2.7038296e-09],\n",
              "        [ 1.2869070e-09],\n",
              "        [ 3.5320336e-10],\n",
              "        [-8.6806273e-10],\n",
              "        [ 3.2991299e-09],\n",
              "        [-2.8160613e-10],\n",
              "        [ 1.2006832e-09],\n",
              "        [-9.9712183e-10],\n",
              "        [-1.7750465e-10],\n",
              "        [ 1.7579861e-10],\n",
              "        [ 6.0715566e-10]],\n",
              "\n",
              "       [[ 9.6504271e-10],\n",
              "        [ 1.2017495e-09],\n",
              "        [ 4.3081210e-09],\n",
              "        [-8.8526397e-10],\n",
              "        [ 6.9077979e-09],\n",
              "        [ 2.6620519e-09],\n",
              "        [ 6.9706063e-09],\n",
              "        [ 2.8909859e-09],\n",
              "        [ 7.1422139e-09],\n",
              "        [ 3.1316432e-09],\n",
              "        [ 1.5029900e-09],\n",
              "        [ 8.5294154e-09],\n",
              "        [ 4.1337409e-09],\n",
              "        [ 2.6190183e-09],\n",
              "        [-5.9052896e-09],\n",
              "        [-6.4804437e-09],\n",
              "        [-9.0155600e-10],\n",
              "        [-4.0587783e-10],\n",
              "        [ 1.8416773e-09],\n",
              "        [-1.5675873e-09],\n",
              "        [ 2.2657398e-09],\n",
              "        [ 1.0414850e-09],\n",
              "        [ 2.1529317e-10],\n",
              "        [-2.6178921e-09],\n",
              "        [ 2.4485014e-10],\n",
              "        [-2.1779287e-09],\n",
              "        [ 2.5234270e-09],\n",
              "        [ 1.1551801e-09]],\n",
              "\n",
              "       [[-6.0500593e-10],\n",
              "        [ 1.1877244e-09],\n",
              "        [-3.1404910e-09],\n",
              "        [ 3.5035839e-09],\n",
              "        [-3.8807507e-10],\n",
              "        [ 4.6207731e-09],\n",
              "        [-3.7314984e-10],\n",
              "        [-3.0063609e-09],\n",
              "        [ 7.3603912e-10],\n",
              "        [-1.4373834e-09],\n",
              "        [ 3.0123881e-09],\n",
              "        [ 1.2441259e-08],\n",
              "        [ 1.4261196e-08],\n",
              "        [ 9.9685582e-10],\n",
              "        [-2.0401616e-09],\n",
              "        [ 2.4279261e-09],\n",
              "        [-2.0437141e-09],\n",
              "        [-3.2870315e-09],\n",
              "        [-2.8624925e-10],\n",
              "        [-3.7524572e-10],\n",
              "        [-5.0314752e-09],\n",
              "        [-3.3385950e-09],\n",
              "        [ 7.1242701e-10],\n",
              "        [-3.1313827e-09],\n",
              "        [ 4.6958165e-10],\n",
              "        [-1.3299122e-10],\n",
              "        [-1.8894661e-10],\n",
              "        [-6.3705918e-10]],\n",
              "\n",
              "       [[ 1.0894430e-09],\n",
              "        [-2.0690638e-09],\n",
              "        [ 3.2066938e-09],\n",
              "        [-1.8761053e-09],\n",
              "        [ 3.2395358e-09],\n",
              "        [-1.2859325e-09],\n",
              "        [-3.7648973e-09],\n",
              "        [ 2.9478584e-09],\n",
              "        [-2.8599243e-09],\n",
              "        [-5.6038765e-09],\n",
              "        [-1.6899425e-09],\n",
              "        [ 1.0120930e-08],\n",
              "        [ 9.1507903e-09],\n",
              "        [-2.2710351e-09],\n",
              "        [ 1.7395385e-09],\n",
              "        [ 1.8793189e-10],\n",
              "        [ 1.5928543e-09],\n",
              "        [-1.5853583e-09],\n",
              "        [ 9.4644059e-10],\n",
              "        [-1.9772413e-09],\n",
              "        [-8.3537194e-10],\n",
              "        [-2.1877389e-09],\n",
              "        [-2.2797919e-09],\n",
              "        [-2.6600389e-09],\n",
              "        [ 1.5176769e-09],\n",
              "        [-2.4808178e-09],\n",
              "        [ 2.2146469e-09],\n",
              "        [-2.2699165e-10]],\n",
              "\n",
              "       [[ 7.9543350e-10],\n",
              "        [ 2.7097604e-09],\n",
              "        [ 4.5251238e-09],\n",
              "        [-2.1621727e-09],\n",
              "        [ 5.5341229e-09],\n",
              "        [ 1.4946577e-10],\n",
              "        [-2.7191165e-09],\n",
              "        [-6.9550188e-10],\n",
              "        [ 1.1191048e-10],\n",
              "        [ 3.8662029e-10],\n",
              "        [-3.8860719e-09],\n",
              "        [ 4.2199986e-09],\n",
              "        [ 5.9094716e-09],\n",
              "        [-6.7255632e-09],\n",
              "        [ 6.8740957e-10],\n",
              "        [ 3.4604255e-09],\n",
              "        [-1.2923648e-09],\n",
              "        [-1.1578256e-09],\n",
              "        [ 3.5499953e-10],\n",
              "        [-8.1048857e-10],\n",
              "        [ 2.3286328e-10],\n",
              "        [ 1.0852599e-09],\n",
              "        [ 2.0348543e-09],\n",
              "        [-1.2960842e-09],\n",
              "        [ 3.6078240e-10],\n",
              "        [-6.9944961e-10],\n",
              "        [-6.1404493e-11],\n",
              "        [-8.5216112e-11]],\n",
              "\n",
              "       [[-2.2691755e-09],\n",
              "        [ 1.6708759e-10],\n",
              "        [-3.8358197e-09],\n",
              "        [ 1.4773687e-09],\n",
              "        [-1.3566014e-09],\n",
              "        [-6.8365935e-10],\n",
              "        [-1.7013104e-09],\n",
              "        [-5.5770291e-09],\n",
              "        [-8.9204144e-10],\n",
              "        [-6.5883021e-10],\n",
              "        [ 1.5514036e-09],\n",
              "        [-6.3355010e-10],\n",
              "        [ 2.5615310e-10],\n",
              "        [-4.4919046e-10],\n",
              "        [-1.3391875e-09],\n",
              "        [-5.3865401e-10],\n",
              "        [-1.1969368e-09],\n",
              "        [ 4.3082493e-10],\n",
              "        [-1.3113305e-10],\n",
              "        [ 1.9367654e-09],\n",
              "        [ 3.3952432e-09],\n",
              "        [ 1.3685196e-09],\n",
              "        [ 1.4402589e-09],\n",
              "        [-3.3007599e-10],\n",
              "        [-8.1876117e-11],\n",
              "        [-4.1563575e-10],\n",
              "        [ 1.9608750e-09],\n",
              "        [ 3.7761511e-10]],\n",
              "\n",
              "       [[-3.1239031e-09],\n",
              "        [-2.9319556e-09],\n",
              "        [-5.1715210e-09],\n",
              "        [-7.1443906e-10],\n",
              "        [-1.3610884e-09],\n",
              "        [-4.5696291e-09],\n",
              "        [ 4.5769566e-10],\n",
              "        [ 1.4913377e-09],\n",
              "        [ 1.6955417e-09],\n",
              "        [-2.9210254e-09],\n",
              "        [-4.6085402e-09],\n",
              "        [-2.9475429e-09],\n",
              "        [ 2.1647306e-09],\n",
              "        [-1.4957092e-09],\n",
              "        [-1.1616295e-09],\n",
              "        [-1.9644231e-10],\n",
              "        [-2.1052635e-09],\n",
              "        [ 6.8946526e-10],\n",
              "        [-2.5515146e-12],\n",
              "        [ 2.8230038e-09],\n",
              "        [ 1.5689539e-10],\n",
              "        [ 6.7366113e-11],\n",
              "        [-5.0850907e-10],\n",
              "        [-2.5920368e-09],\n",
              "        [ 1.3887689e-09],\n",
              "        [-1.4122667e-09],\n",
              "        [ 1.1039130e-09],\n",
              "        [-2.0698483e-09]],\n",
              "\n",
              "       [[-2.3684482e-10],\n",
              "        [-6.7138489e-11],\n",
              "        [-2.2218720e-09],\n",
              "        [-2.1215529e-09],\n",
              "        [-5.1897948e-09],\n",
              "        [-5.9676681e-09],\n",
              "        [-3.7689829e-10],\n",
              "        [-3.6213785e-09],\n",
              "        [-1.2959522e-10],\n",
              "        [-3.4554759e-10],\n",
              "        [-3.2494767e-09],\n",
              "        [ 1.2984248e-09],\n",
              "        [-8.6686114e-10],\n",
              "        [-7.1684725e-10],\n",
              "        [-1.5448369e-09],\n",
              "        [-8.7698998e-10],\n",
              "        [-3.4150063e-09],\n",
              "        [ 4.8430371e-10],\n",
              "        [-1.1129121e-09],\n",
              "        [ 7.9010998e-10],\n",
              "        [-2.3401379e-09],\n",
              "        [-8.8242053e-10],\n",
              "        [ 1.7039870e-10],\n",
              "        [ 1.2066259e-09],\n",
              "        [-1.6844263e-09],\n",
              "        [ 1.6901691e-09],\n",
              "        [-1.4536838e-09],\n",
              "        [ 4.5681101e-10]],\n",
              "\n",
              "       [[-1.7937591e-09],\n",
              "        [-3.0187541e-09],\n",
              "        [-8.1343837e-10],\n",
              "        [-2.5441795e-09],\n",
              "        [-9.7491193e-10],\n",
              "        [-8.2786966e-10],\n",
              "        [-1.4371782e-10],\n",
              "        [ 7.0421197e-11],\n",
              "        [-5.1835314e-10],\n",
              "        [ 1.4348875e-09],\n",
              "        [ 1.1304863e-09],\n",
              "        [ 1.6182842e-09],\n",
              "        [ 3.1371350e-10],\n",
              "        [ 1.4861063e-09],\n",
              "        [ 1.6774627e-09],\n",
              "        [-1.8300117e-10],\n",
              "        [ 3.5329700e-10],\n",
              "        [ 4.3052566e-09],\n",
              "        [ 2.2792594e-09],\n",
              "        [ 1.7302230e-09],\n",
              "        [-1.0130692e-09],\n",
              "        [-8.6046931e-10],\n",
              "        [ 1.5575171e-09],\n",
              "        [-1.3524498e-10],\n",
              "        [ 1.0135743e-09],\n",
              "        [ 7.6447843e-10],\n",
              "        [ 5.4418420e-10],\n",
              "        [-1.3944743e-09]],\n",
              "\n",
              "       [[-2.8830172e-10],\n",
              "        [-4.1828585e-10],\n",
              "        [-1.2012140e-09],\n",
              "        [ 1.9390312e-10],\n",
              "        [ 1.2431833e-09],\n",
              "        [-1.6016091e-09],\n",
              "        [-7.8516993e-10],\n",
              "        [ 5.7147176e-10],\n",
              "        [ 1.6765583e-09],\n",
              "        [-7.7265694e-12],\n",
              "        [ 6.0189143e-10],\n",
              "        [-1.4961063e-09],\n",
              "        [ 9.4972097e-10],\n",
              "        [ 1.6896581e-09],\n",
              "        [ 3.0092249e-09],\n",
              "        [ 1.7872845e-09],\n",
              "        [ 8.7597074e-10],\n",
              "        [ 3.4885368e-09],\n",
              "        [ 2.7045113e-09],\n",
              "        [ 1.0079554e-09],\n",
              "        [ 1.0913080e-09],\n",
              "        [-3.7521258e-10],\n",
              "        [ 1.5291406e-09],\n",
              "        [ 1.2817646e-09],\n",
              "        [ 1.0095795e-09],\n",
              "        [-1.5036601e-09],\n",
              "        [-2.2883386e-09],\n",
              "        [-9.1687158e-10]],\n",
              "\n",
              "       [[-5.3011323e-10],\n",
              "        [-4.1946632e-10],\n",
              "        [ 4.3087756e-11],\n",
              "        [-4.8632653e-10],\n",
              "        [ 1.3525001e-09],\n",
              "        [ 9.5629149e-10],\n",
              "        [ 1.4829152e-09],\n",
              "        [-7.8180240e-10],\n",
              "        [ 3.2447358e-09],\n",
              "        [-3.0588132e-10],\n",
              "        [ 1.2949984e-09],\n",
              "        [-4.2670956e-10],\n",
              "        [-5.0770277e-11],\n",
              "        [ 9.0295327e-11],\n",
              "        [-1.2998269e-11],\n",
              "        [ 4.3178305e-09],\n",
              "        [ 2.0618565e-09],\n",
              "        [ 2.2398652e-09],\n",
              "        [-4.1741155e-10],\n",
              "        [-3.2151308e-09],\n",
              "        [-2.5347324e-10],\n",
              "        [-1.8473308e-09],\n",
              "        [-3.2866582e-10],\n",
              "        [-1.3241985e-10],\n",
              "        [ 7.1815354e-10],\n",
              "        [ 4.5291382e-10],\n",
              "        [ 3.1067904e-10],\n",
              "        [ 5.1698357e-10]],\n",
              "\n",
              "       [[-4.2048032e-11],\n",
              "        [ 8.1217444e-10],\n",
              "        [-3.3625147e-10],\n",
              "        [ 1.5134571e-10],\n",
              "        [ 3.4815284e-10],\n",
              "        [-1.8751489e-09],\n",
              "        [ 2.4411315e-09],\n",
              "        [-1.0966350e-09],\n",
              "        [ 8.6146951e-10],\n",
              "        [-6.6278893e-10],\n",
              "        [-1.3529489e-09],\n",
              "        [-2.8294957e-09],\n",
              "        [-1.2206480e-10],\n",
              "        [-2.1865237e-10],\n",
              "        [ 2.0671627e-09],\n",
              "        [ 7.9038109e-11],\n",
              "        [ 1.7217687e-09],\n",
              "        [-1.3944024e-10],\n",
              "        [-1.2953325e-09],\n",
              "        [-1.9064328e-09],\n",
              "        [ 3.0353597e-10],\n",
              "        [-9.0237695e-10],\n",
              "        [ 2.2738533e-10],\n",
              "        [-1.2960744e-11],\n",
              "        [ 7.2612294e-10],\n",
              "        [ 2.2697116e-10],\n",
              "        [ 2.2565783e-10],\n",
              "        [ 5.0655102e-10]]], dtype=float32)>"
            ]
          },
          "metadata": {
            "tags": []
          },
          "execution_count": 35
        }
      ]
    },
    {
      "cell_type": "code",
      "metadata": {
        "id": "ckr5WiSGxEYt",
        "colab_type": "code",
        "colab": {
          "base_uri": "https://localhost:8080/",
          "height": 282
        },
        "outputId": "19da44d6-d191-43bf-cd81-1f1b0f14c64d"
      },
      "source": [
        "plt.imshow(tf.nn.relu(grads[4,:,:,0]), cmap = \"binary\")"
      ],
      "execution_count": 59,
      "outputs": [
        {
          "output_type": "execute_result",
          "data": {
            "text/plain": [
              "<matplotlib.image.AxesImage at 0x7fcc5d051160>"
            ]
          },
          "metadata": {
            "tags": []
          },
          "execution_count": 59
        },
        {
          "output_type": "display_data",
          "data": {
            "image/png": "[encoded data removed]",
            "text/plain": [
              "<Figure size 432x288 with 1 Axes>"
            ]
          },
          "metadata": {
            "tags": [],
            "needs_background": "light"
          }
        }
      ]
    },
    {
      "cell_type": "code",
      "metadata": {
        "id": "Gyp9nSDgx8gq",
        "colab_type": "code",
        "colab": {
          "base_uri": "https://localhost:8080/",
          "height": 282
        },
        "outputId": "a6e8e972-0b5d-4b75-8eef-b830f3d57b36"
      },
      "source": [
        "plt.imshow(introspection_testing_images[4,:,:,0], cmap = \"binary\")"
      ],
      "execution_count": 60,
      "outputs": [
        {
          "output_type": "execute_result",
          "data": {
            "text/plain": [
              "<matplotlib.image.AxesImage at 0x7fcc5ceab7f0>"
            ]
          },
          "metadata": {
            "tags": []
          },
          "execution_count": 60
        },
        {
          "output_type": "display_data",
          "data": {
            "image/png": "[encoded data removed]",
            "text/plain": [
              "<Figure size 432x288 with 1 Axes>"
            ]
          },
          "metadata": {
            "tags": [],
            "needs_background": "light"
          }
        }
      ]
    },
    {
      "cell_type": "code",
      "metadata": {
        "id": "3GDog1VVq8YI",
        "colab_type": "code",
        "colab": {
          "base_uri": "https://localhost:8080/",
          "height": 70
        },
        "outputId": "d504a3cd-cb93-4ef4-9579-66a4ee2fe67c"
      },
      "source": [
        "complete_loss"
      ],
      "execution_count": 25,
      "outputs": [
        {
          "output_type": "execute_result",
          "data": {
            "text/plain": [
              "<tf.Tensor: shape=(10000,), dtype=float32, numpy=\n",
              "array([2.3841831e-06, 1.3232144e-05, 1.6569955e-05, ..., 1.0728830e-06,\n",
              "       1.3113013e-06, 2.9380774e-04], dtype=float32)>"
            ]
          },
          "metadata": {
            "tags": []
          },
          "execution_count": 25
        }
      ]
    },
    {
      "cell_type": "code",
      "metadata": {
        "id": "LAOD2i8Htbsi",
        "colab_type": "code",
        "colab": {
          "base_uri": "https://localhost:8080/",
          "height": 70
        },
        "outputId": "b1fa20aa-44c6-4a82-f992-9000e3bbdeb1"
      },
      "source": [
        "zero_grad_loss"
      ],
      "execution_count": null,
      "outputs": [
        {
          "output_type": "execute_result",
          "data": {
            "text/plain": [
              "<tf.Tensor: shape=(10000,), dtype=float32, numpy=\n",
              "array([2.317216 , 2.632033 , 2.4992614, ..., 2.3025851, 2.3025851,\n",
              "       3.0723395], dtype=float32)>"
            ]
          },
          "metadata": {
            "tags": []
          },
          "execution_count": 116
        }
      ]
    },
    {
      "cell_type": "code",
      "metadata": {
        "id": "YthPQ5Khtrux",
        "colab_type": "code",
        "colab": {}
      },
      "source": [
        "new_test_images = tf.cast(new_test_images,dtype=\"float32\")"
      ],
      "execution_count": null,
      "outputs": []
    },
    {
      "cell_type": "code",
      "metadata": {
        "id": "ijQbBQyKs6L1",
        "colab_type": "code",
        "colab": {
          "base_uri": "https://localhost:8080/",
          "height": 34
        },
        "outputId": "709089dc-f26d-4159-f811-f2208d586c05"
      },
      "source": [
        "complete_loss[4]"
      ],
      "execution_count": null,
      "outputs": [
        {
          "output_type": "execute_result",
          "data": {
            "text/plain": [
              "<tf.Tensor: shape=(), dtype=float32, numpy=1.7881378e-06>"
            ]
          },
          "metadata": {
            "tags": []
          },
          "execution_count": 136
        }
      ]
    },
    {
      "cell_type": "code",
      "metadata": {
        "id": "WzxXiik4s6QB",
        "colab_type": "code",
        "colab": {
          "base_uri": "https://localhost:8080/",
          "height": 168
        },
        "outputId": "e7ae1d35-c23d-47d9-8bed-a9906c79c614"
      },
      "source": [
        "zero_grad_pos.shape"
      ],
      "execution_count": null,
      "outputs": [
        {
          "output_type": "error",
          "ename": "AttributeError",
          "evalue": "ignored",
          "traceback": [
            "\u001b[0;31m---------------------------------------------------------------------------\u001b[0m",
            "\u001b[0;31mAttributeError\u001b[0m                            Traceback (most recent call last)",
            "\u001b[0;32m<ipython-input-124-984556f5c954>\u001b[0m in \u001b[0;36m<module>\u001b[0;34m()\u001b[0m\n\u001b[0;32m----> 1\u001b[0;31m \u001b[0mzero_grad_pos\u001b[0m\u001b[0;34m.\u001b[0m\u001b[0mshape\u001b[0m\u001b[0;34m\u001b[0m\u001b[0;34m\u001b[0m\u001b[0m\n\u001b[0m",
            "\u001b[0;31mAttributeError\u001b[0m: 'NoneType' object has no attribute 'shape'"
          ]
        }
      ]
    },
    {
      "cell_type": "code",
      "metadata": {
        "id": "HzW8-zq4qJOJ",
        "colab_type": "code",
        "colab": {
          "base_uri": "https://localhost:8080/",
          "height": 52
        },
        "outputId": "6c5a6ea8-5eb3-453b-f7fb-4f93634862af"
      },
      "source": [
        "print(zero_grad_loss[1])\n",
        "print(ones_grad_loss[1])"
      ],
      "execution_count": null,
      "outputs": [
        {
          "output_type": "stream",
          "text": [
            "tf.Tensor(2.3025851, shape=(), dtype=float32)\n",
            "tf.Tensor(2.3025851, shape=(), dtype=float32)\n"
          ],
          "name": "stdout"
        }
      ]
    },
    {
      "cell_type": "code",
      "metadata": {
        "id": "Rz0MAN6C6BPS",
        "colab_type": "code",
        "colab": {
          "base_uri": "https://localhost:8080/",
          "height": 34
        },
        "outputId": "76864e04-0572-40f7-b499-8fecfe511b85"
      },
      "source": [
        "introspection_prediction.shape"
      ],
      "execution_count": null,
      "outputs": [
        {
          "output_type": "execute_result",
          "data": {
            "text/plain": [
              "(10000, 10)"
            ]
          },
          "metadata": {
            "tags": []
          },
          "execution_count": 24
        }
      ]
    },
    {
      "cell_type": "code",
      "metadata": {
        "id": "VoyvPpg_6BKj",
        "colab_type": "code",
        "colab": {
          "base_uri": "https://localhost:8080/",
          "height": 34
        },
        "outputId": "e197edd8-000b-448d-fc63-83cc1cb47df8"
      },
      "source": [
        "b.shape"
      ],
      "execution_count": null,
      "outputs": [
        {
          "output_type": "execute_result",
          "data": {
            "text/plain": [
              "TensorShape([10000, 10])"
            ]
          },
          "metadata": {
            "tags": []
          },
          "execution_count": 28
        }
      ]
    },
    {
      "cell_type": "code",
      "metadata": {
        "id": "s52MsrtjomNa",
        "colab_type": "code",
        "colab": {
          "base_uri": "https://localhost:8080/",
          "height": 34
        },
        "outputId": "3a527cce-951d-4ba2-d4a7-e84828ea51ab"
      },
      "source": [
        "b[1,:]"
      ],
      "execution_count": null,
      "outputs": [
        {
          "output_type": "execute_result",
          "data": {
            "text/plain": [
              "<tf.Tensor: shape=(10,), dtype=float32, numpy=array([1., 0., 0., 0., 0., 0., 0., 0., 0., 0.], dtype=float32)>"
            ]
          },
          "metadata": {
            "tags": []
          },
          "execution_count": 30
        }
      ]
    },
    {
      "cell_type": "code",
      "metadata": {
        "id": "ALTIIY1D6BH0",
        "colab_type": "code",
        "colab": {}
      },
      "source": [
        "zero_grad_loss = tf.multiply(zero_mask,introspection_prediction)"
      ],
      "execution_count": null,
      "outputs": []
    },
    {
      "cell_type": "code",
      "metadata": {
        "id": "b5nep0cFo1tW",
        "colab_type": "code",
        "colab": {
          "base_uri": "https://localhost:8080/",
          "height": 87
        },
        "outputId": "80615d83-7a30-44c2-f71e-919fa506c8cd"
      },
      "source": [
        "zero_grad_loss[4,:]"
      ],
      "execution_count": null,
      "outputs": [
        {
          "output_type": "execute_result",
          "data": {
            "text/plain": [
              "<tf.Tensor: shape=(10,), dtype=float32, numpy=\n",
              "array([1.3879997e-10, 0.0000000e+00, 0.0000000e+00, 0.0000000e+00,\n",
              "       0.0000000e+00, 0.0000000e+00, 0.0000000e+00, 0.0000000e+00,\n",
              "       0.0000000e+00, 0.0000000e+00], dtype=float32)>"
            ]
          },
          "metadata": {
            "tags": []
          },
          "execution_count": 37
        }
      ]
    },
    {
      "cell_type": "code",
      "metadata": {
        "id": "b52lBKQyo7RU",
        "colab_type": "code",
        "colab": {}
      },
      "source": [
        ""
      ],
      "execution_count": null,
      "outputs": []
    }
  ]
}