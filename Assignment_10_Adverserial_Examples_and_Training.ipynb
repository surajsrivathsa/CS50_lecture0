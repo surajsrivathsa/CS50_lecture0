{
  "nbformat": 4,
  "nbformat_minor": 0,
  "metadata": {
    "colab": {
      "name": "Assignment 10: Adverserial Examples and Training",
      "provenance": [],
      "collapsed_sections": [
        "tZjF59CPq60r",
        "8Y41tY3itxPW",
        "eCWlwpc92EWb"
      ],
      "authorship_tag": "ABX9TyN4zK0iDjNv8TGIlmLX7vwf",
      "include_colab_link": true
    },
    "kernelspec": {
      "name": "python3",
      "display_name": "Python 3"
    },
    "accelerator": "GPU"
  },
  "cells": [
    {
      "cell_type": "markdown",
      "metadata": {
        "id": "view-in-github",
        "colab_type": "text"
      },
      "source": [
        "<a href=\"https://colab.research.google.com/github/surajsrivathsa/ovgu_deeplearning/blob/master/Assignment_10_Adverserial_Examples_and_Training.ipynb\" target=\"_parent\"><img src=\"https://colab.research.google.com/assets/colab-badge.svg\" alt=\"Open In Colab\"/></a>"
      ]
    },
    {
      "cell_type": "markdown",
      "metadata": {
        "id": "s7_srjHczvnv",
        "colab_type": "text"
      },
      "source": [
        "Deep Learning programming task\n",
        "\n",
        "**Assignment 10:** Adverserial Examples and Training\n",
        "\n",
        "**Team members:**\n",
        "1. Sanjeeth Busnur Indushekar: 224133 : sanjeeth.busnur@st.ovgu.de\n",
        "2. Aditya Dey : 230580 : aditya.dey@st.ovgu.de\n",
        "3. Suraj Shashidhar: 230052 : suraj.shashidhar@st.ovgu.de"
      ]
    },
    {
      "cell_type": "markdown",
      "metadata": {
        "id": "oILvN6rO_vef",
        "colab_type": "text"
      },
      "source": [
        "**We have not completely done the introspection part of maximizing activations, we have tried to cover this stuff with limited capacity**\n",
        "\n",
        "**Tasks to be done**\n",
        "\n",
        "1) **Creating Adverserial examples**\n",
        "\n",
        "**White box attacks: Attack models by using its parameters or learned knowledge**\n",
        "\n",
        "**Non-targeted adversarial attack:** the most general type of attack when all you want to do is to make the classifier give an incorrect result.\n",
        "\n",
        "**Targeted adversarial attack:** A slightly more difficult attack which aims to receive a particular class for your input.\n",
        "\n",
        "a) **Untargeted Attack**: We don't apply any distinction on which type of input we are trying to morph and also what it should be morphed into. For example: 3 could be morphed to 0 and another 3 could be morphed to 1, there is no targeting. Hence we simply device methods to increase loss through out inputs rather than picking a distinct input/output mapping.\n",
        "\n",
        "- Train the simple mlp based model on MNSIT(because MNSIT is simple and has only one channel)\n",
        "\n",
        "- After training, Take a batch of inputs that were used in training(preferably the batch that has all the class labels).\n",
        "\n",
        "- Run it through a customized gradient tape, where you calculate loss between input image vs output prediction and not between output prediction vs actual label. This is similar to whats done in neural style transfer where we update input image pixel values based on gradients.\n",
        "\n",
        "- Instead of reducing the loss from input we would be somewhat increasing it by adding the weighted computed gradient to input image. If we subtract the gradients we would not be targeting rather than making input much better for classifictaion. We also weigh the gradients by learning rate so that the applied loss doesn't change the image too much visually\n",
        "\n",
        "- We can have different types of weighing schemes instead of multiplying with a learning rate. First one is normalize each gradienbt of the pixel to a unit vector or some vector with constant magnitude. We can also do a gradient sign method. Any other schemes are alo welcome?\n",
        "\n",
        "- Normalize the image pixels values again to be inside [0,1] range.\n",
        "\n",
        "- Run it through the prediction to see the wrongly classified images.\n",
        "\n",
        "b) **Targeted attack**: Make the network break for specific type of inputs-output mapping. for example make all inputs to be classified as 1 or 7.\n",
        "\n",
        "**Black box attacks:** Attack the model without knowing its parameters or gradients **Check reference 6**\n",
        "\n",
        "Black-box Adversarial Attacks with Limited Queries and Information : https://arxiv.org/pdf/1804.08598.pdf\n",
        "\n",
        "- Do adversarial attacks actually pose a threat to DL-systems in the real-world **Check Reference 1**\n",
        "\n",
        "- Introspection with Activation maximization\n",
        "\n",
        "2) **Adverserial Training**\n",
        "\n",
        "- Integrate adverserial examples into training loop. First run a batch of input and compute loss(predicted vs actual class). Create adverserial examples for the same batch using loss(predicted label vs input image). Do a normal backprop using both the losses or only adverseril loss through ther network.\n",
        "\n",
        "- Test the network with similar but new adverserial examples and see its performance improves.\n",
        "\n",
        "- See if the untargeted adverserial training is robust against the targeted training examples or some other method such as multiple gradient steps.\n",
        "\n",
        "**Cross Model Attacks** \n",
        "\n",
        "**Horizontal Attacks:** This makes adverserial attacks too hard to defend across multiple models as the same adverserial image is more likely to fool multiple network withou much changes. Some of the images that corrput VGG based CNN can also corrupt Densenets/Inception net without much effort.\n",
        "\n",
        "This is also true for NLP models like RNNs, Transformers.\n",
        "\n",
        "**Vertical Attacks:** Especially in transfer learning as most of the production applications are transfer learnt from VGG/DEnse net/Inception net. If we break one we can break its vertical.\n",
        "\n",
        "It is exteremly tricky as if we can corrupt transformers then we can surely corrput GPT, BERT and any model thats running currently that has been fine tuned on these models.\n",
        "\n",
        "**Poisioning Bert model:** https://www.linkedin.com/posts/huggingface_nlproc-machinelearning-datascience-activity-6682314900712275968-tdUZ\n",
        "\n",
        "**Strategies used to defend against adverserial attacks:**\n",
        "\n",
        "p) **Reactive strategy:** Next to our normal classifier, train another adverserial classfier. Run input through both of them, if the adverserial classifies this as false input then throw away the predicted results. This strategy is problematic as we need infrastructure to handle both the models and also need to retrain both of them periodically.\n",
        "\n",
        "q) **Proactive strategy:** Generate adverserial example from the input image and use them in training loop again. We would have only one model, but more training is required than reactive one. \n",
        "\n",
        "**References:**\n",
        "\n",
        "1) **Overview blog 1**: https://medium.com/@ml.at.berkeley/tricking-neural-networks-create-your-own-adversarial-examples-a61eb7620fd8 | https://blog.ycombinator.com/how-adversarial-attacks-work/\n",
        "\n",
        "2) **Overview Blog 2**: https://openai.com/blog/adversarial-example-research/#:~:text=Machine%20Learning-,with%20Adversarial,like%20optical%20illusions%20for%20machines.  | https://distill.pub/2018/building-blocks/\n",
        "\n",
        "3) **Book**: https://christophm.github.io/interpretable-ml-book/\n",
        "\n",
        "4) **Library for adverserial attacks**: https://github.com/tensorflow/cleverhans\n",
        "\n",
        "5) **Untargeted attack Gradient sign**: https://www.tensorflow.org/tutorials/generative/adversarial_fgsm\n",
        "\n",
        "6) **Blackbox attack**: https://christophm.github.io/interpretable-ml-book/adversarial.html\n",
        "\n",
        "7) **Activation maximization**: https://distill.pub/2017/feature-visualization/\n",
        "\n",
        "8) **Does adverserial training hurts the original data?**: https://arxiv.org/pdf/1906.06032.pdf\n",
        "\n",
        "9) **Explaining and harnessing adverserial examples:** https://arxiv.org/abs/1412.6572\n",
        "\n",
        "10) **Adversarial Examples: Opportunities and Challenges:** https://arxiv.org/abs/1809.04790\n",
        "\n",
        "11) **Overview blog 3:** https://github.com/dangeng/Simple_Adversarial_Examples\n",
        "\n",
        "12) **One Pixel attack for fooling neural networks:** https://arxiv.org/pdf/1710.08864.pdf. | https://distill.pub/2019/advex-bugs-discussion/"
      ]
    },
    {
      "cell_type": "code",
      "metadata": {
        "id": "mguiDMXxJ2Dx",
        "colab_type": "code",
        "colab": {}
      },
      "source": [
        "import os\n",
        "%tensorflow_version 2.x\n",
        "import tensorflow as tf\n",
        "from sklearn import preprocessing\n",
        "from google.colab import files\n",
        "from google.colab import drive\n",
        "import matplotlib.pyplot as plt\n",
        "import pandas as pd\n",
        "import copy\n",
        "import numpy as np\n",
        "from datasets import MNISTDataset"
      ],
      "execution_count": null,
      "outputs": []
    },
    {
      "cell_type": "code",
      "metadata": {
        "id": "ZAX0l1Wto3ME",
        "colab_type": "code",
        "colab": {
          "base_uri": "https://localhost:8080/",
          "height": 33
        },
        "outputId": "75a562f9-7616-48c7-c018-fc7e3b33a7e3"
      },
      "source": [
        "\n",
        "from tensorflow import keras\n",
        "from tensorflow.keras.preprocessing.image import ImageDataGenerator\n",
        "from keras.preprocessing import image\n",
        "from tensorflow.keras import datasets, layers, models\n",
        "from tensorflow.keras import initializers\n",
        "import tensorboard\n",
        "import time\n",
        "from datetime import datetime\n",
        "from keras import backend as K"
      ],
      "execution_count": null,
      "outputs": [
        {
          "output_type": "stream",
          "text": [
            "Using TensorFlow backend.\n"
          ],
          "name": "stderr"
        }
      ]
    },
    {
      "cell_type": "code",
      "metadata": {
        "id": "QxVO1w-yosvD",
        "colab_type": "code",
        "colab": {
          "base_uri": "https://localhost:8080/",
          "height": 313
        },
        "outputId": "dca47ede-19d0-4810-adb3-9db32d6b6327"
      },
      "source": [
        "mnist = tf.keras.datasets.mnist\n",
        "(train_images, train_labels), (test_images, test_labels) = mnist.load_data()\n",
        "plt.imshow(train_images[4], cmap=\"Greys_r\")\n",
        "print(train_labels[1:10])"
      ],
      "execution_count": null,
      "outputs": [
        {
          "output_type": "stream",
          "text": [
            "Downloading data from https://storage.googleapis.com/tensorflow/tf-keras-datasets/mnist.npz\n",
            "11493376/11490434 [==============================] - 0s 0us/step\n",
            "[0 4 1 9 2 1 3 1 4]\n"
          ],
          "name": "stdout"
        },
        {
          "output_type": "display_data",
          "data": {
            "image/png": "[encoded data removed]",
            "text/plain": [
              "<Figure size 432x288 with 1 Axes>"
            ]
          },
          "metadata": {
            "tags": [],
            "needs_background": "light"
          }
        }
      ]
    },
    {
      "cell_type": "code",
      "metadata": {
        "id": "c6TNcVRQoy3w",
        "colab_type": "code",
        "colab": {
          "base_uri": "https://localhost:8080/",
          "height": 33
        },
        "outputId": "aed8737c-92c7-4da1-bc67-1eece73ff157"
      },
      "source": [
        "data = MNISTDataset(train_images.reshape([-1, 784]), train_labels, \n",
        "                    test_images.reshape([-1, 784]), test_labels,\n",
        "                    batch_size=128)\n",
        "print(train_images.reshape([-1, 784]).shape)"
      ],
      "execution_count": null,
      "outputs": [
        {
          "output_type": "stream",
          "text": [
            "(60000, 784)\n"
          ],
          "name": "stdout"
        }
      ]
    },
    {
      "cell_type": "code",
      "metadata": {
        "id": "-c1ukvSzo0tN",
        "colab_type": "code",
        "colab": {
          "base_uri": "https://localhost:8080/",
          "height": 82
        },
        "outputId": "c44a80f7-c553-40d9-8d7f-79354df31c76"
      },
      "source": [
        "print(train_images.shape)\n",
        "print(train_labels.shape)\n",
        "print(test_images.shape)\n",
        "print(test_labels.shape)"
      ],
      "execution_count": null,
      "outputs": [
        {
          "output_type": "stream",
          "text": [
            "(60000, 28, 28)\n",
            "(60000,)\n",
            "(10000, 28, 28)\n",
            "(10000,)\n"
          ],
          "name": "stdout"
        }
      ]
    },
    {
      "cell_type": "markdown",
      "metadata": {
        "id": "tZjF59CPq60r",
        "colab_type": "text"
      },
      "source": [
        "# Creating and pretraining a simple MLP model"
      ]
    },
    {
      "cell_type": "code",
      "metadata": {
        "id": "V7nTY4DKrAcb",
        "colab_type": "code",
        "colab": {}
      },
      "source": [
        "def create_mlp_model(input_shape=(28, 28), layer_dims=[256,128,64,32,10],output_activation=\"softmax\",hidden_activation=\"relu\"):\n",
        "  model = keras.Sequential([keras.layers.Flatten(input_shape=input_shape)])\n",
        "  #Loop till penultimate layer that is the penultimate decoder\n",
        "  for i in range (len(layer_dims)-1):\n",
        "    model.add(tf.keras.layers.Dense(units=layer_dims[i],activation=hidden_activation))\n",
        "  \n",
        "  #Add the output at end\n",
        "  model.add(tf.keras.layers.Dense(units=layer_dims[-1],activation=output_activation)) \n",
        "  return model;"
      ],
      "execution_count": null,
      "outputs": []
    },
    {
      "cell_type": "code",
      "metadata": {
        "id": "SMtjgl16rQSi",
        "colab_type": "code",
        "colab": {}
      },
      "source": [
        "mlp_model = create_mlp_model()"
      ],
      "execution_count": null,
      "outputs": []
    },
    {
      "cell_type": "code",
      "metadata": {
        "id": "K1RBQ4FbrQVY",
        "colab_type": "code",
        "colab": {
          "base_uri": "https://localhost:8080/",
          "height": 372
        },
        "outputId": "bdf8ca03-c5e4-40b4-d9da-c013cd55e19c"
      },
      "source": [
        "mlp_model.summary()"
      ],
      "execution_count": null,
      "outputs": [
        {
          "output_type": "stream",
          "text": [
            "Model: \"sequential\"\n",
            "_________________________________________________________________\n",
            "Layer (type)                 Output Shape              Param #   \n",
            "=================================================================\n",
            "flatten (Flatten)            (None, 784)               0         \n",
            "_________________________________________________________________\n",
            "dense (Dense)                (None, 256)               200960    \n",
            "_________________________________________________________________\n",
            "dense_1 (Dense)              (None, 128)               32896     \n",
            "_________________________________________________________________\n",
            "dense_2 (Dense)              (None, 64)                8256      \n",
            "_________________________________________________________________\n",
            "dense_3 (Dense)              (None, 32)                2080      \n",
            "_________________________________________________________________\n",
            "dense_4 (Dense)              (None, 10)                330       \n",
            "=================================================================\n",
            "Total params: 244,522\n",
            "Trainable params: 244,522\n",
            "Non-trainable params: 0\n",
            "_________________________________________________________________\n"
          ],
          "name": "stdout"
        }
      ]
    },
    {
      "cell_type": "code",
      "metadata": {
        "id": "IpsuiiPTr4FV",
        "colab_type": "code",
        "colab": {}
      },
      "source": [
        "def compile_mlp_model(model,loss=\"CCE\", metrics=[\"accuracy\"], optimizer = \"adam\"):\n",
        "  if(loss == \"MAE\"):\n",
        "    model.compile(optimizer=optimizer, loss=tf.keras.losses.MAE, metrics=metrics)\n",
        "  elif (loss == \"MSQE\"):\n",
        "    model.compile(optimizer=optimizer, loss=tf.keras.losses.mean_squared_error, metrics=metrics)\n",
        "  elif (loss == \"BCE\"):\n",
        "    model.compile(optimizer=optimizer, loss=tf.keras.losses.binary_crossentropy, metrics=metrics)\n",
        "  elif(loss == \"CCE\"):\n",
        "    model.compile(optimizer=optimizer, loss=tf.keras.losses.sparse_categorical_crossentropy, metrics=metrics)"
      ],
      "execution_count": null,
      "outputs": []
    },
    {
      "cell_type": "code",
      "metadata": {
        "id": "0Vzjn--er4IS",
        "colab_type": "code",
        "colab": {}
      },
      "source": [
        "compile_mlp_model(mlp_model,loss=\"CCE\")"
      ],
      "execution_count": null,
      "outputs": []
    },
    {
      "cell_type": "code",
      "metadata": {
        "id": "o68NMItsr4Pd",
        "colab_type": "code",
        "colab": {
          "base_uri": "https://localhost:8080/",
          "height": 283
        },
        "outputId": "37df7726-4f9e-478b-d78b-5325329442e7"
      },
      "source": [
        "mlp_model.fit(train_images, train_labels,  epochs=7, batch_size=128, validation_data= (test_images, test_labels))"
      ],
      "execution_count": null,
      "outputs": [
        {
          "output_type": "stream",
          "text": [
            "Epoch 1/7\n",
            "469/469 [==============================] - 3s 7ms/step - loss: 1.1659 - accuracy: 0.8289 - val_loss: 0.2792 - val_accuracy: 0.9292\n",
            "Epoch 2/7\n",
            "469/469 [==============================] - 3s 6ms/step - loss: 0.2252 - accuracy: 0.9390 - val_loss: 0.2079 - val_accuracy: 0.9463\n",
            "Epoch 3/7\n",
            "469/469 [==============================] - 3s 7ms/step - loss: 0.1485 - accuracy: 0.9573 - val_loss: 0.1632 - val_accuracy: 0.9578\n",
            "Epoch 4/7\n",
            "469/469 [==============================] - 3s 7ms/step - loss: 0.1142 - accuracy: 0.9669 - val_loss: 0.1544 - val_accuracy: 0.9589\n",
            "Epoch 5/7\n",
            "469/469 [==============================] - 3s 7ms/step - loss: 0.0929 - accuracy: 0.9718 - val_loss: 0.1417 - val_accuracy: 0.9649\n",
            "Epoch 6/7\n",
            "469/469 [==============================] - 3s 6ms/step - loss: 0.0810 - accuracy: 0.9758 - val_loss: 0.1508 - val_accuracy: 0.9651\n",
            "Epoch 7/7\n",
            "469/469 [==============================] - 3s 6ms/step - loss: 0.0767 - accuracy: 0.9771 - val_loss: 0.1384 - val_accuracy: 0.9657\n"
          ],
          "name": "stdout"
        },
        {
          "output_type": "execute_result",
          "data": {
            "text/plain": [
              "<tensorflow.python.keras.callbacks.History at 0x7f1bc9cb79b0>"
            ]
          },
          "metadata": {
            "tags": []
          },
          "execution_count": 20
        }
      ]
    },
    {
      "cell_type": "markdown",
      "metadata": {
        "id": "8Y41tY3itxPW",
        "colab_type": "text"
      },
      "source": [
        "# Creating Adverserial Examples\n",
        "\n",
        "1) **Untargeted attack:** We performed untargeted attack using categorical crossentropy and mean squared error loss. We also tried three types of attack just multplying, unit vactor, gradient sign.\n",
        "\n",
        "**Learnings:** Decision boundaries between different labels are really simple and not complex as assumed earlier, even some carefully constructed perturbations can cause label to flip. \n",
        "\n",
        "This is compounded by the fact that while training we cannot cover every type of image. Even random noise would be classified as some digit albeit with very less probability. \n",
        "\n",
        "Hence we also need to have a separate garbage class to atleast capture some these garbage noisy images. \n",
        "\n",
        "However image space is huge with around 786^255 combinations hence all this space cannot be covered.\n",
        "\n",
        "2) **Targeted attack:** We performed targeted attack too and tried to convert images to value 2. \n",
        "\n",
        "**Learnings:** even though we got okayish images we can see the potential of making every image classify as 2. \n",
        "\n",
        "This is done by adding additional term to loss function which aims to take difference between target and source image and tries to minimize it.\n",
        "\n",
        "\n",
        "**Black Box attacks:** Attacking the model without having access to its gradients or output distributions(gives only one label as output or some labels with rank/confidence values and not probabilities) or limited query setting(cannot run for huge batches to emulate the gradient of network).\n",
        "\n",
        "**Access to gradient:** This is possible but time consuming, send huge batches of training data to original model and get the predictions back.\n",
        "\n",
        "Use this predictions in your new model and optimize your network weights according to predictions of original model. We end up with a model which is almost duplicate of ours and we can create adverserial examples on our own.\n",
        "\n",
        "**Hampered Output distributions:** Use a sampling algorithm like montecarlo to create a proxy for softmax output. For example:\n",
        "First send image + noise --> record output rank/confidence, image + 2*noise --> record output ranks/confidence, image + 3* noise --> record output ranks/confidence, run this experiment and finally use montecarlo with some approximation formulaes to arrive to approximate output distribution for class label\n",
        "\n",
        "**Black-box Adversarial Attacks with Limited Queries and Information** https://arxiv.org/pdf/1804.08598.pdf\n",
        "\n",
        "**Do adversarial attacks actually pose a threat to DL-systems in the real-world?**\n",
        "\n",
        "Yes,  adverserial attacks along with relative inexplainablity of Depp neural networks would inhibit its deployment in mission critical applications that may impact humans directly such as medical/self driving cars/financial institutions/government offices. But it still can be used where errors made don't significantly impact human life directly such as search engines, nlp"
      ]
    },
    {
      "cell_type": "markdown",
      "metadata": {
        "id": "muiftUN3_D4g",
        "colab_type": "text"
      },
      "source": [
        "Untargeted attack"
      ]
    },
    {
      "cell_type": "code",
      "metadata": {
        "id": "wgixDrrRt5MT",
        "colab_type": "code",
        "colab": {
          "base_uri": "https://localhost:8080/",
          "height": 82
        },
        "outputId": "bc8e3d7e-7f38-4f7a-9b09-2f6db429ad05"
      },
      "source": [
        "adverserial_training_images_batch = tf.convert_to_tensor(train_images[0:1024, :, :], dtype=tf.float32)\n",
        "adverserial_test_images_batch = tf.convert_to_tensor(test_images[0:1024, :, :], dtype=tf.float32)\n",
        "adverserial_training_labels_batch = tf.convert_to_tensor(train_labels[0:1024], dtype=tf.float32)\n",
        "adverserial_test_labels_batch = tf.convert_to_tensor(test_labels[0:1024], dtype=tf.float32)\n",
        "print(adverserial_training_images_batch.shape)\n",
        "print(adverserial_test_images_batch.shape)\n",
        "print(adverserial_training_labels_batch.shape)\n",
        "print(adverserial_test_labels_batch.shape)"
      ],
      "execution_count": null,
      "outputs": [
        {
          "output_type": "stream",
          "text": [
            "(1024, 28, 28)\n",
            "(1024, 28, 28)\n",
            "(1024,)\n",
            "(1024,)\n"
          ],
          "name": "stdout"
        }
      ]
    },
    {
      "cell_type": "code",
      "metadata": {
        "id": "hDF4rE0InSLw",
        "colab_type": "code",
        "colab": {
          "base_uri": "https://localhost:8080/",
          "height": 34
        },
        "outputId": "c1697b7d-f993-454c-cb75-9ce16e438fa3"
      },
      "source": [
        "adverserial_test_labels_batch"
      ],
      "execution_count": null,
      "outputs": [
        {
          "output_type": "execute_result",
          "data": {
            "text/plain": [
              "<tf.Tensor: shape=(1024,), dtype=float32, numpy=array([7., 2., 1., ..., 7., 5., 4.], dtype=float32)>"
            ]
          },
          "metadata": {
            "tags": []
          },
          "execution_count": 205
        }
      ]
    },
    {
      "cell_type": "code",
      "metadata": {
        "id": "B7O6zfNPmSc6",
        "colab_type": "code",
        "colab": {
          "base_uri": "https://localhost:8080/",
          "height": 176
        },
        "outputId": "3f9b8130-1d8f-4250-ced9-a692551ec70b"
      },
      "source": [
        "test_onehot = tf.one_hot(indices = tf.cast(adverserial_test_labels_batch, dtype=tf.dtypes.int64), depth=10)\n",
        "print(test_onehot)\n",
        "test_onehot.shape"
      ],
      "execution_count": null,
      "outputs": [
        {
          "output_type": "stream",
          "text": [
            "tf.Tensor(\n",
            "[[0. 0. 0. ... 1. 0. 0.]\n",
            " [0. 0. 1. ... 0. 0. 0.]\n",
            " [0. 1. 0. ... 0. 0. 0.]\n",
            " ...\n",
            " [0. 0. 0. ... 1. 0. 0.]\n",
            " [0. 0. 0. ... 0. 0. 0.]\n",
            " [0. 0. 0. ... 0. 0. 0.]], shape=(1024, 10), dtype=float32)\n"
          ],
          "name": "stdout"
        },
        {
          "output_type": "execute_result",
          "data": {
            "text/plain": [
              "TensorShape([1024, 10])"
            ]
          },
          "metadata": {
            "tags": []
          },
          "execution_count": 208
        }
      ]
    },
    {
      "cell_type": "code",
      "metadata": {
        "id": "b_4X31WPt5RY",
        "colab_type": "code",
        "colab": {}
      },
      "source": [
        "def create_adversarial_pattern(adverserial_training_images_batch, adverserial_training_labels_batch, perturbation_type=\"multiply\", \n",
        "                               attack_type = \"untargeted\", targeted_attack_images = None, loss_fnc = \"CCE\", lmbda = 0.05, multiply_factor=1000000):\n",
        "  with tf.GradientTape() as tape:\n",
        "    tape.watch(adverserial_training_images_batch)\n",
        "    prediction = mlp_model(adverserial_training_images_batch)\n",
        "\n",
        "    #Two loss functions for targeted and untargeted\n",
        "    if(attack_type == \"untargeted\" and loss_fnc == \"CCE\"):\n",
        "      loss = tf.keras.losses.sparse_categorical_crossentropy(adverserial_training_labels_batch, prediction)\n",
        "    elif(attack_type == \"untargeted\" and loss_fnc == \"MSE\"):\n",
        "      one_hot_test_labels = tf.one_hot(indices = tf.cast(adverserial_training_labels_batch, dtype=tf.dtypes.int64), depth=10)\n",
        "      loss = tf.keras.losses.mean_squared_error(one_hot_test_labels, prediction)\n",
        "    elif(attack_type == \"targeted\" and loss_fnc == \"MSE\"):\n",
        "      one_hot_test_labels = tf.one_hot(indices = tf.cast(adverserial_training_labels_batch, dtype=tf.dtypes.int64), depth=10)\n",
        "      #print(one_hot_test_labels.shape)\n",
        "      #print(prediction.shape)\n",
        "      #print(adverserial_training_images_batch.shape)\n",
        "      #print(targeted_attack_images.shape)\n",
        "      y_loss = lmbda * tf.keras.losses.mean_squared_error(adverserial_training_images_batch, targeted_attack_images)\n",
        "      #print(y_loss.shape)\n",
        "      targeting_image_loss = tf.reduce_sum(y_loss,axis = 1)\n",
        "      #print(targeting_image_loss.shape)\n",
        "      loss = tf.keras.losses.mean_squared_error(one_hot_test_labels, prediction) + targeting_image_loss\n",
        "    else:\n",
        "      print(\"Only two types of attacks are possible untargeted and targeted, you have given {}. Aborting\".format(attack_type))\n",
        "      return [None, None]\n",
        "\n",
        "  # Get the gradients of the loss w.r.t to the input image.\n",
        "  gradient = tape.gradient(loss, adverserial_training_images_batch)\n",
        "  # Get the sign of the gradients to create the perturbation\n",
        "  #signed_grad = tf.sign(gradient)\n",
        "  if(perturbation_type == \"multiply\"):\n",
        "    perturbations = multiply_factor * gradient\n",
        "  elif(perturbation_type == \"unit_vector\"):\n",
        "    z = gradient\n",
        "    norm = tf.sqrt(tf.reduce_sum(tf.square(z), axis=[-1,-2], keepdims=True))\n",
        "    perturbations = z/norm\n",
        "  elif(perturbation_type == \"gradient_sign\"):\n",
        "    perturbations = tf.sign(gradient)\n",
        "  else:\n",
        "    perturbations = gradient\n",
        "  return [gradient, perturbations];"
      ],
      "execution_count": null,
      "outputs": []
    },
    {
      "cell_type": "code",
      "metadata": {
        "id": "ZyW4gI9vt5Xo",
        "colab_type": "code",
        "colab": {
          "base_uri": "https://localhost:8080/",
          "height": 34
        },
        "outputId": "a4ea4f92-0c70-4074-9cc4-428c15a5a839"
      },
      "source": [
        "gradient, perturbations = create_adversarial_pattern(adverserial_training_images_batch, adverserial_training_labels_batch)"
      ],
      "execution_count": null,
      "outputs": [
        {
          "output_type": "stream",
          "text": [
            "(1024, 10)\n"
          ],
          "name": "stdout"
        }
      ]
    },
    {
      "cell_type": "code",
      "metadata": {
        "id": "nyQoIQM3t5VE",
        "colab_type": "code",
        "colab": {
          "base_uri": "https://localhost:8080/",
          "height": 34
        },
        "outputId": "0fceccf4-e0e8-4588-cb64-2b8f11935431"
      },
      "source": [
        "perturbations.shape"
      ],
      "execution_count": null,
      "outputs": [
        {
          "output_type": "execute_result",
          "data": {
            "text/plain": [
              "TensorShape([1024, 28, 28])"
            ]
          },
          "metadata": {
            "tags": []
          },
          "execution_count": 75
        }
      ]
    },
    {
      "cell_type": "code",
      "metadata": {
        "id": "bDifs3oOt5QI",
        "colab_type": "code",
        "colab": {
          "base_uri": "https://localhost:8080/",
          "height": 282
        },
        "outputId": "0f0f8fd1-1502-48d7-d144-3739efd8cb5b"
      },
      "source": [
        "plt.imshow(perturbations[0,:,:], cmap=plt.cm.binary)"
      ],
      "execution_count": null,
      "outputs": [
        {
          "output_type": "execute_result",
          "data": {
            "text/plain": [
              "<matplotlib.image.AxesImage at 0x7f1bc530f1d0>"
            ]
          },
          "metadata": {
            "tags": []
          },
          "execution_count": 76
        },
        {
          "output_type": "display_data",
          "data": {
            "image/png": "[encoded data removed]",
            "text/plain": [
              "<Figure size 432x288 with 1 Axes>"
            ]
          },
          "metadata": {
            "tags": [],
            "needs_background": "light"
          }
        }
      ]
    },
    {
      "cell_type": "code",
      "metadata": {
        "id": "8DlZ0c_e5MSb",
        "colab_type": "code",
        "colab": {
          "base_uri": "https://localhost:8080/",
          "height": 282
        },
        "outputId": "f665ef57-0d26-482f-d17a-401821dc3e87"
      },
      "source": [
        "plt.imshow(perturbations[3,:,:], cmap=plt.cm.binary)"
      ],
      "execution_count": null,
      "outputs": [
        {
          "output_type": "execute_result",
          "data": {
            "text/plain": [
              "<matplotlib.image.AxesImage at 0x7f1bc600dd30>"
            ]
          },
          "metadata": {
            "tags": []
          },
          "execution_count": 77
        },
        {
          "output_type": "display_data",
          "data": {
            "image/png": "[encoded data removed]",
            "text/plain": [
              "<Figure size 432x288 with 1 Axes>"
            ]
          },
          "metadata": {
            "tags": [],
            "needs_background": "light"
          }
        }
      ]
    },
    {
      "cell_type": "code",
      "metadata": {
        "id": "KREfkjoR5Yk2",
        "colab_type": "code",
        "colab": {}
      },
      "source": [
        "print(perturbations[3,:,:])\n",
        "print(gradient[3:, :, :])"
      ],
      "execution_count": null,
      "outputs": []
    },
    {
      "cell_type": "code",
      "metadata": {
        "id": "bwR3lEkm58Yw",
        "colab_type": "code",
        "colab": {}
      },
      "source": [
        "adverserial_training_images_batch_modified = tf.add(adverserial_training_images_batch, perturbations)"
      ],
      "execution_count": null,
      "outputs": []
    },
    {
      "cell_type": "code",
      "metadata": {
        "id": "iynAxFRD6GpP",
        "colab_type": "code",
        "colab": {
          "base_uri": "https://localhost:8080/",
          "height": 282
        },
        "outputId": "680c7edc-f4de-4032-f859-b97b2acb8edf"
      },
      "source": [
        "plt.imshow(adverserial_training_images_batch_modified[0,:,:], cmap = plt.cm.binary)"
      ],
      "execution_count": null,
      "outputs": [
        {
          "output_type": "execute_result",
          "data": {
            "text/plain": [
              "<matplotlib.image.AxesImage at 0x7f1bc67372e8>"
            ]
          },
          "metadata": {
            "tags": []
          },
          "execution_count": 37
        },
        {
          "output_type": "display_data",
          "data": {
            "image/png": "[encoded data removed]",
            "text/plain": [
              "<Figure size 432x288 with 1 Axes>"
            ]
          },
          "metadata": {
            "tags": [],
            "needs_background": "light"
          }
        }
      ]
    },
    {
      "cell_type": "code",
      "metadata": {
        "id": "9pIyZRRn6SAc",
        "colab_type": "code",
        "colab": {
          "base_uri": "https://localhost:8080/",
          "height": 281
        },
        "outputId": "b913dc30-ddc0-49aa-ca74-021f102e26d8"
      },
      "source": [
        "plt.imshow(adverserial_training_images_batch[2,:,:], cmap = plt.cm.binary)"
      ],
      "execution_count": null,
      "outputs": [
        {
          "output_type": "execute_result",
          "data": {
            "text/plain": [
              "<matplotlib.image.AxesImage at 0x7f083fdca860>"
            ]
          },
          "metadata": {
            "tags": []
          },
          "execution_count": 48
        },
        {
          "output_type": "display_data",
          "data": {
            "image/png": "[encoded data removed]",
            "text/plain": [
              "<Figure size 432x288 with 1 Axes>"
            ]
          },
          "metadata": {
            "tags": [],
            "needs_background": "light"
          }
        }
      ]
    },
    {
      "cell_type": "code",
      "metadata": {
        "id": "AaXlKRuV6ZRE",
        "colab_type": "code",
        "colab": {}
      },
      "source": [
        "modified_predictions = mlp_model(adverserial_training_images_batch_modified)"
      ],
      "execution_count": null,
      "outputs": []
    },
    {
      "cell_type": "code",
      "metadata": {
        "id": "apzvBqym6gHa",
        "colab_type": "code",
        "colab": {
          "base_uri": "https://localhost:8080/",
          "height": 34
        },
        "outputId": "77fc34ef-78b1-464f-9d01-e8a47bdfd886"
      },
      "source": [
        "tf.argmax(modified_predictions, axis=1)"
      ],
      "execution_count": null,
      "outputs": [
        {
          "output_type": "execute_result",
          "data": {
            "text/plain": [
              "<tf.Tensor: shape=(1024,), dtype=int64, numpy=array([5, 0, 4, ..., 3, 7, 7])>"
            ]
          },
          "metadata": {
            "tags": []
          },
          "execution_count": 44
        }
      ]
    },
    {
      "cell_type": "code",
      "metadata": {
        "id": "mHEIhSBCAEbg",
        "colab_type": "code",
        "colab": {
          "base_uri": "https://localhost:8080/",
          "height": 34
        },
        "outputId": "fe6a8101-c720-472c-8c09-dd78624d7393"
      },
      "source": [
        "x = tf.equal(adverserial_training_labels_batch, tf.cast(tf.argmax(modified_predictions, axis=1),  dtype=tf.dtypes.float32))\n",
        "tf.reduce_sum(tf.cast(x, tf.int32))"
      ],
      "execution_count": null,
      "outputs": [
        {
          "output_type": "execute_result",
          "data": {
            "text/plain": [
              "<tf.Tensor: shape=(), dtype=int32, numpy=1004>"
            ]
          },
          "metadata": {
            "tags": []
          },
          "execution_count": 51
        }
      ]
    },
    {
      "cell_type": "code",
      "metadata": {
        "id": "Yq6_oawf6to1",
        "colab_type": "code",
        "colab": {}
      },
      "source": [
        "def untargeted_attack(adverserial_training_images_batch, adverserial_training_labels_batch,  perturbation_type=\"multiply\", index_of_num=2,\n",
        "                      attack_type = \"untargeted\", targeted_attack_images = None, loss_fnc = \"CCE\"):\n",
        "  \n",
        "  plt.figure(figsize=(10,10))\n",
        "  for i in range(25):\n",
        "    plt.subplot(5,5,i+1)\n",
        "    plt.xticks([])\n",
        "    plt.yticks([])\n",
        "    plt.grid(False)\n",
        "    \n",
        "    #Get the weighted gradient/maximum change of the individual image pixel wrt output prediction. weighted by 0.071\n",
        "    if(i == 0):\n",
        "      gradient, perturbations = create_adversarial_pattern(adverserial_training_images_batch, adverserial_training_labels_batch, perturbation_type, attack_type, loss_fnc=loss_fnc)\n",
        "    else:\n",
        "      gradient, perturbations = create_adversarial_pattern(adverserial_training_images_batch_modified, modified_predictions_2, perturbation_type, attack_type, loss_fnc=loss_fnc)\n",
        "\n",
        "    #Add the gradient instead of subtracting it as we are trying to maximize the loss and moving in opposite direction of convex optimization hill.\n",
        "    adverserial_training_images_batch_modified = tf.add(adverserial_training_images_batch, 1 * perturbations)\n",
        "\n",
        "    #Get the new predictions for each change\n",
        "    modified_predictions = mlp_model(adverserial_training_images_batch_modified)\n",
        "    modified_predictions_2 =  tf.cast(tf.argmax(modified_predictions, axis=1),  dtype=tf.dtypes.float32)\n",
        "\n",
        "    #Get the number of correct classifications to monitor misclassifications and see gradual changes\n",
        "    x = tf.equal(adverserial_training_labels_batch, modified_predictions_2)\n",
        "    print(\"Number of correct classifications, prediction of first image and counter are: {}, {} and {}\".format(tf.reduce_sum(tf.cast(x, tf.int32)), modified_predictions_2[index_of_num], i))\n",
        "    #print(\"Prediction of first image is : {}\".format(modified_predictions_2[0]))\n",
        "    plt.imshow(adverserial_training_images_batch_modified[index_of_num], cmap=plt.cm.binary)\n",
        "  \n",
        "  return;"
      ],
      "execution_count": null,
      "outputs": []
    },
    {
      "cell_type": "code",
      "metadata": {
        "id": "Po-hvwdrEIvX",
        "colab_type": "code",
        "colab": {
          "base_uri": "https://localhost:8080/",
          "height": 1000
        },
        "outputId": "3739b037-99e6-4ccf-890a-726a2fc0ec83"
      },
      "source": [
        "untargeted_attack(adverserial_training_images_batch, adverserial_training_labels_batch,  perturbation_type=\"multiply\")"
      ],
      "execution_count": null,
      "outputs": [
        {
          "output_type": "stream",
          "text": [
            "Number of correct classifications, prediction of first image and counter are: 781, 4.0 and 0\n",
            "Number of correct classifications, prediction of first image and counter are: 830, 4.0 and 1\n",
            "Number of correct classifications, prediction of first image and counter are: 804, 4.0 and 2\n",
            "Number of correct classifications, prediction of first image and counter are: 857, 4.0 and 3\n",
            "Number of correct classifications, prediction of first image and counter are: 743, 9.0 and 4\n",
            "Number of correct classifications, prediction of first image and counter are: 921, 4.0 and 5\n",
            "Number of correct classifications, prediction of first image and counter are: 747, 4.0 and 6\n",
            "Number of correct classifications, prediction of first image and counter are: 840, 4.0 and 7\n",
            "Number of correct classifications, prediction of first image and counter are: 825, 4.0 and 8\n",
            "Number of correct classifications, prediction of first image and counter are: 859, 4.0 and 9\n",
            "Number of correct classifications, prediction of first image and counter are: 703, 4.0 and 10\n",
            "Number of correct classifications, prediction of first image and counter are: 968, 9.0 and 11\n",
            "Number of correct classifications, prediction of first image and counter are: 756, 4.0 and 12\n",
            "Number of correct classifications, prediction of first image and counter are: 798, 4.0 and 13\n",
            "Number of correct classifications, prediction of first image and counter are: 826, 4.0 and 14\n",
            "Number of correct classifications, prediction of first image and counter are: 881, 4.0 and 15\n",
            "Number of correct classifications, prediction of first image and counter are: 746, 4.0 and 16\n",
            "Number of correct classifications, prediction of first image and counter are: 906, 4.0 and 17\n",
            "Number of correct classifications, prediction of first image and counter are: 710, 9.0 and 18\n",
            "Number of correct classifications, prediction of first image and counter are: 872, 4.0 and 19\n",
            "Number of correct classifications, prediction of first image and counter are: 851, 4.0 and 20\n",
            "Number of correct classifications, prediction of first image and counter are: 851, 4.0 and 21\n",
            "Number of correct classifications, prediction of first image and counter are: 679, 4.0 and 22\n",
            "Number of correct classifications, prediction of first image and counter are: 951, 4.0 and 23\n",
            "Number of correct classifications, prediction of first image and counter are: 788, 4.0 and 24\n"
          ],
          "name": "stdout"
        },
        {
          "output_type": "display_data",
          "data": {
            "image/png": "[encoded data removed]",
            "text/plain": [
              "<Figure size 720x720 with 25 Axes>"
            ]
          },
          "metadata": {
            "tags": []
          }
        }
      ]
    },
    {
      "cell_type": "code",
      "metadata": {
        "id": "yom9kWnjjQ7H",
        "colab_type": "code",
        "colab": {
          "base_uri": "https://localhost:8080/",
          "height": 1000
        },
        "outputId": "85d79b0c-2b64-46ea-be35-289fbef55acd"
      },
      "source": [
        "untargeted_attack(adverserial_training_images_batch, adverserial_training_labels_batch,  perturbation_type=\"multiply\", loss_fnc = \"MSE\", index_of_num=25 )"
      ],
      "execution_count": null,
      "outputs": [
        {
          "output_type": "stream",
          "text": [
            "Inside MSE loss\n",
            "Number of correct classifications, prediction of first image and counter are: 941, 8.0 and 0\n",
            "Inside MSE loss\n",
            "Number of correct classifications, prediction of first image and counter are: 970, 2.0 and 1\n",
            "Inside MSE loss\n",
            "Number of correct classifications, prediction of first image and counter are: 953, 8.0 and 2\n",
            "Inside MSE loss\n",
            "Number of correct classifications, prediction of first image and counter are: 971, 2.0 and 3\n",
            "Inside MSE loss\n",
            "Number of correct classifications, prediction of first image and counter are: 944, 8.0 and 4\n",
            "Inside MSE loss\n",
            "Number of correct classifications, prediction of first image and counter are: 982, 2.0 and 5\n",
            "Inside MSE loss\n",
            "Number of correct classifications, prediction of first image and counter are: 944, 8.0 and 6\n",
            "Inside MSE loss\n",
            "Number of correct classifications, prediction of first image and counter are: 975, 2.0 and 7\n",
            "Inside MSE loss\n",
            "Number of correct classifications, prediction of first image and counter are: 963, 8.0 and 8\n",
            "Inside MSE loss\n",
            "Number of correct classifications, prediction of first image and counter are: 964, 2.0 and 9\n",
            "Inside MSE loss\n",
            "Number of correct classifications, prediction of first image and counter are: 934, 8.0 and 10\n",
            "Inside MSE loss\n",
            "Number of correct classifications, prediction of first image and counter are: 997, 2.0 and 11\n",
            "Inside MSE loss\n",
            "Number of correct classifications, prediction of first image and counter are: 944, 8.0 and 12\n",
            "Inside MSE loss\n",
            "Number of correct classifications, prediction of first image and counter are: 969, 2.0 and 13\n",
            "Inside MSE loss\n",
            "Number of correct classifications, prediction of first image and counter are: 952, 8.0 and 14\n",
            "Inside MSE loss\n",
            "Number of correct classifications, prediction of first image and counter are: 976, 2.0 and 15\n",
            "Inside MSE loss\n",
            "Number of correct classifications, prediction of first image and counter are: 944, 8.0 and 16\n",
            "Inside MSE loss\n",
            "Number of correct classifications, prediction of first image and counter are: 985, 2.0 and 17\n",
            "Inside MSE loss\n",
            "Number of correct classifications, prediction of first image and counter are: 931, 8.0 and 18\n",
            "Inside MSE loss\n",
            "Number of correct classifications, prediction of first image and counter are: 976, 2.0 and 19\n",
            "Inside MSE loss\n",
            "Number of correct classifications, prediction of first image and counter are: 966, 8.0 and 20\n",
            "Inside MSE loss\n",
            "Number of correct classifications, prediction of first image and counter are: 965, 2.0 and 21\n",
            "Inside MSE loss\n",
            "Number of correct classifications, prediction of first image and counter are: 933, 8.0 and 22\n",
            "Inside MSE loss\n",
            "Number of correct classifications, prediction of first image and counter are: 997, 2.0 and 23\n",
            "Inside MSE loss\n",
            "Number of correct classifications, prediction of first image and counter are: 953, 8.0 and 24\n"
          ],
          "name": "stdout"
        },
        {
          "output_type": "display_data",
          "data": {
            "image/png": "[encoded data removed]",
            "text/plain": [
              "<Figure size 720x720 with 25 Axes>"
            ]
          },
          "metadata": {
            "tags": []
          }
        }
      ]
    },
    {
      "cell_type": "code",
      "metadata": {
        "id": "UBYi2FTgTIqX",
        "colab_type": "code",
        "colab": {
          "base_uri": "https://localhost:8080/",
          "height": 1000
        },
        "outputId": "036706c5-a87c-4059-c8d9-8234cf4f0e0a"
      },
      "source": [
        "untargeted_attack(adverserial_training_images_batch, adverserial_training_labels_batch,  perturbation_type=\"gradient_sign\", index_of_num=25)"
      ],
      "execution_count": null,
      "outputs": [
        {
          "output_type": "stream",
          "text": [
            "Number of correct classifications, prediction of first image and counter are: 977, 8.0 and 0\n",
            "Number of correct classifications, prediction of first image and counter are: 1009, 2.0 and 1\n",
            "Number of correct classifications, prediction of first image and counter are: 983, 8.0 and 2\n",
            "Number of correct classifications, prediction of first image and counter are: 1008, 2.0 and 3\n",
            "Number of correct classifications, prediction of first image and counter are: 979, 8.0 and 4\n",
            "Number of correct classifications, prediction of first image and counter are: 1012, 2.0 and 5\n",
            "Number of correct classifications, prediction of first image and counter are: 978, 8.0 and 6\n",
            "Number of correct classifications, prediction of first image and counter are: 1011, 2.0 and 7\n",
            "Number of correct classifications, prediction of first image and counter are: 982, 8.0 and 8\n",
            "Number of correct classifications, prediction of first image and counter are: 1006, 2.0 and 9\n",
            "Number of correct classifications, prediction of first image and counter are: 981, 8.0 and 10\n",
            "Number of correct classifications, prediction of first image and counter are: 1013, 2.0 and 11\n",
            "Number of correct classifications, prediction of first image and counter are: 977, 8.0 and 12\n",
            "Number of correct classifications, prediction of first image and counter are: 1008, 2.0 and 13\n",
            "Number of correct classifications, prediction of first image and counter are: 984, 8.0 and 14\n",
            "Number of correct classifications, prediction of first image and counter are: 1008, 2.0 and 15\n",
            "Number of correct classifications, prediction of first image and counter are: 981, 8.0 and 16\n",
            "Number of correct classifications, prediction of first image and counter are: 1010, 2.0 and 17\n",
            "Number of correct classifications, prediction of first image and counter are: 978, 8.0 and 18\n",
            "Number of correct classifications, prediction of first image and counter are: 1012, 2.0 and 19\n",
            "Number of correct classifications, prediction of first image and counter are: 981, 8.0 and 20\n",
            "Number of correct classifications, prediction of first image and counter are: 1006, 2.0 and 21\n",
            "Number of correct classifications, prediction of first image and counter are: 981, 8.0 and 22\n",
            "Number of correct classifications, prediction of first image and counter are: 1013, 2.0 and 23\n",
            "Number of correct classifications, prediction of first image and counter are: 977, 8.0 and 24\n"
          ],
          "name": "stdout"
        },
        {
          "output_type": "display_data",
          "data": {
            "image/png": "[encoded data removed]",
            "text/plain": [
              "<Figure size 720x720 with 25 Axes>"
            ]
          },
          "metadata": {
            "tags": []
          }
        }
      ]
    },
    {
      "cell_type": "code",
      "metadata": {
        "id": "CeQ8XObZpvgA",
        "colab_type": "code",
        "colab": {
          "base_uri": "https://localhost:8080/",
          "height": 1000
        },
        "outputId": "afc52135-5163-4f34-e04e-9dca85a1096e"
      },
      "source": [
        "untargeted_attack(adverserial_training_images_batch, adverserial_training_labels_batch,  perturbation_type=\"gradient_sign\", loss_fnc = \"MSE\", index_of_num=25 )"
      ],
      "execution_count": null,
      "outputs": [
        {
          "output_type": "stream",
          "text": [
            "Inside MSE loss\n",
            "Number of correct classifications, prediction of first image and counter are: 977, 8.0 and 0\n",
            "Inside MSE loss\n",
            "Number of correct classifications, prediction of first image and counter are: 1009, 2.0 and 1\n",
            "Inside MSE loss\n",
            "Number of correct classifications, prediction of first image and counter are: 983, 8.0 and 2\n",
            "Inside MSE loss\n",
            "Number of correct classifications, prediction of first image and counter are: 1006, 2.0 and 3\n",
            "Inside MSE loss\n",
            "Number of correct classifications, prediction of first image and counter are: 981, 8.0 and 4\n",
            "Inside MSE loss\n",
            "Number of correct classifications, prediction of first image and counter are: 1011, 2.0 and 5\n",
            "Inside MSE loss\n",
            "Number of correct classifications, prediction of first image and counter are: 979, 8.0 and 6\n",
            "Inside MSE loss\n",
            "Number of correct classifications, prediction of first image and counter are: 1009, 2.0 and 7\n",
            "Inside MSE loss\n",
            "Number of correct classifications, prediction of first image and counter are: 982, 8.0 and 8\n",
            "Inside MSE loss\n",
            "Number of correct classifications, prediction of first image and counter are: 1007, 2.0 and 9\n",
            "Inside MSE loss\n",
            "Number of correct classifications, prediction of first image and counter are: 981, 8.0 and 10\n",
            "Inside MSE loss\n",
            "Number of correct classifications, prediction of first image and counter are: 1011, 2.0 and 11\n",
            "Inside MSE loss\n",
            "Number of correct classifications, prediction of first image and counter are: 979, 8.0 and 12\n",
            "Inside MSE loss\n",
            "Number of correct classifications, prediction of first image and counter are: 1007, 2.0 and 13\n",
            "Inside MSE loss\n",
            "Number of correct classifications, prediction of first image and counter are: 984, 8.0 and 14\n",
            "Inside MSE loss\n",
            "Number of correct classifications, prediction of first image and counter are: 1008, 2.0 and 15\n",
            "Inside MSE loss\n",
            "Number of correct classifications, prediction of first image and counter are: 979, 8.0 and 16\n",
            "Inside MSE loss\n",
            "Number of correct classifications, prediction of first image and counter are: 1011, 2.0 and 17\n",
            "Inside MSE loss\n",
            "Number of correct classifications, prediction of first image and counter are: 979, 8.0 and 18\n",
            "Inside MSE loss\n",
            "Number of correct classifications, prediction of first image and counter are: 1009, 2.0 and 19\n",
            "Inside MSE loss\n",
            "Number of correct classifications, prediction of first image and counter are: 983, 8.0 and 20\n",
            "Inside MSE loss\n",
            "Number of correct classifications, prediction of first image and counter are: 1006, 2.0 and 21\n",
            "Inside MSE loss\n",
            "Number of correct classifications, prediction of first image and counter are: 981, 8.0 and 22\n",
            "Inside MSE loss\n",
            "Number of correct classifications, prediction of first image and counter are: 1011, 2.0 and 23\n",
            "Inside MSE loss\n",
            "Number of correct classifications, prediction of first image and counter are: 979, 8.0 and 24\n"
          ],
          "name": "stdout"
        },
        {
          "output_type": "display_data",
          "data": {
            "image/png": "[encoded data removed]",
            "text/plain": [
              "<Figure size 720x720 with 25 Axes>"
            ]
          },
          "metadata": {
            "tags": []
          }
        }
      ]
    },
    {
      "cell_type": "code",
      "metadata": {
        "id": "J6AQqrvDWDiZ",
        "colab_type": "code",
        "colab": {
          "base_uri": "https://localhost:8080/",
          "height": 1000
        },
        "outputId": "3f67e846-62a1-49a8-f4ff-a7a3acc9eb78"
      },
      "source": [
        "untargeted_attack(adverserial_training_images_batch, adverserial_training_labels_batch,  perturbation_type=\"unit_vector\", index_of_num=1)"
      ],
      "execution_count": null,
      "outputs": [
        {
          "output_type": "stream",
          "text": [
            "Number of correct classifications, prediction of first image and counter are: 884, 0.0 and 0\n",
            "Number of correct classifications, prediction of first image and counter are: 887, 0.0 and 1\n",
            "Number of correct classifications, prediction of first image and counter are: 884, 0.0 and 2\n",
            "Number of correct classifications, prediction of first image and counter are: 887, 0.0 and 3\n",
            "Number of correct classifications, prediction of first image and counter are: 884, 0.0 and 4\n",
            "Number of correct classifications, prediction of first image and counter are: 887, 0.0 and 5\n",
            "Number of correct classifications, prediction of first image and counter are: 884, 0.0 and 6\n",
            "Number of correct classifications, prediction of first image and counter are: 887, 0.0 and 7\n",
            "Number of correct classifications, prediction of first image and counter are: 884, 0.0 and 8\n",
            "Number of correct classifications, prediction of first image and counter are: 887, 0.0 and 9\n",
            "Number of correct classifications, prediction of first image and counter are: 884, 0.0 and 10\n",
            "Number of correct classifications, prediction of first image and counter are: 887, 0.0 and 11\n",
            "Number of correct classifications, prediction of first image and counter are: 884, 0.0 and 12\n",
            "Number of correct classifications, prediction of first image and counter are: 887, 0.0 and 13\n",
            "Number of correct classifications, prediction of first image and counter are: 884, 0.0 and 14\n",
            "Number of correct classifications, prediction of first image and counter are: 887, 0.0 and 15\n",
            "Number of correct classifications, prediction of first image and counter are: 884, 0.0 and 16\n",
            "Number of correct classifications, prediction of first image and counter are: 887, 0.0 and 17\n",
            "Number of correct classifications, prediction of first image and counter are: 884, 0.0 and 18\n",
            "Number of correct classifications, prediction of first image and counter are: 887, 0.0 and 19\n",
            "Number of correct classifications, prediction of first image and counter are: 884, 0.0 and 20\n",
            "Number of correct classifications, prediction of first image and counter are: 887, 0.0 and 21\n",
            "Number of correct classifications, prediction of first image and counter are: 884, 0.0 and 22\n",
            "Number of correct classifications, prediction of first image and counter are: 887, 0.0 and 23\n",
            "Number of correct classifications, prediction of first image and counter are: 884, 0.0 and 24\n"
          ],
          "name": "stdout"
        },
        {
          "output_type": "stream",
          "text": [
            "/usr/local/lib/python3.6/dist-packages/matplotlib/image.py:452: UserWarning: Warning: converting a masked element to nan.\n",
            "  dv = np.float64(self.norm.vmax) - np.float64(self.norm.vmin)\n",
            "/usr/local/lib/python3.6/dist-packages/matplotlib/image.py:459: UserWarning: Warning: converting a masked element to nan.\n",
            "  a_min = np.float64(newmin)\n",
            "/usr/local/lib/python3.6/dist-packages/matplotlib/image.py:464: UserWarning: Warning: converting a masked element to nan.\n",
            "  a_max = np.float64(newmax)\n",
            "<string>:6: UserWarning: Warning: converting a masked element to nan.\n",
            "/usr/local/lib/python3.6/dist-packages/numpy/core/_asarray.py:85: UserWarning: Warning: converting a masked element to nan.\n",
            "  return array(a, dtype, copy=False, order=order)\n"
          ],
          "name": "stderr"
        },
        {
          "output_type": "display_data",
          "data": {
            "image/png": "[encoded data removed]",
            "text/plain": [
              "<Figure size 720x720 with 25 Axes>"
            ]
          },
          "metadata": {
            "tags": []
          }
        }
      ]
    },
    {
      "cell_type": "code",
      "metadata": {
        "id": "Qv2YVxeqp9A2",
        "colab_type": "code",
        "colab": {
          "base_uri": "https://localhost:8080/",
          "height": 1000
        },
        "outputId": "9975fd6a-4776-46f6-c518-c9a080f57259"
      },
      "source": [
        "untargeted_attack(adverserial_training_images_batch, adverserial_training_labels_batch,  perturbation_type=\"unit_vector\", index_of_num=1, loss_fnc = \"MSE\" )"
      ],
      "execution_count": null,
      "outputs": [
        {
          "output_type": "stream",
          "text": [
            "Inside MSE loss\n",
            "Number of correct classifications, prediction of first image and counter are: 946, 0.0 and 0\n",
            "Inside MSE loss\n",
            "Number of correct classifications, prediction of first image and counter are: 949, 0.0 and 1\n",
            "Inside MSE loss\n",
            "Number of correct classifications, prediction of first image and counter are: 946, 0.0 and 2\n",
            "Inside MSE loss\n",
            "Number of correct classifications, prediction of first image and counter are: 949, 0.0 and 3\n",
            "Inside MSE loss\n",
            "Number of correct classifications, prediction of first image and counter are: 946, 0.0 and 4\n",
            "Inside MSE loss\n",
            "Number of correct classifications, prediction of first image and counter are: 949, 0.0 and 5\n",
            "Inside MSE loss\n",
            "Number of correct classifications, prediction of first image and counter are: 946, 0.0 and 6\n",
            "Inside MSE loss\n",
            "Number of correct classifications, prediction of first image and counter are: 949, 0.0 and 7\n",
            "Inside MSE loss\n",
            "Number of correct classifications, prediction of first image and counter are: 946, 0.0 and 8\n",
            "Inside MSE loss\n",
            "Number of correct classifications, prediction of first image and counter are: 949, 0.0 and 9\n",
            "Inside MSE loss\n",
            "Number of correct classifications, prediction of first image and counter are: 946, 0.0 and 10\n",
            "Inside MSE loss\n",
            "Number of correct classifications, prediction of first image and counter are: 949, 0.0 and 11\n",
            "Inside MSE loss\n",
            "Number of correct classifications, prediction of first image and counter are: 946, 0.0 and 12\n",
            "Inside MSE loss\n",
            "Number of correct classifications, prediction of first image and counter are: 949, 0.0 and 13\n",
            "Inside MSE loss\n",
            "Number of correct classifications, prediction of first image and counter are: 946, 0.0 and 14\n",
            "Inside MSE loss\n",
            "Number of correct classifications, prediction of first image and counter are: 949, 0.0 and 15\n",
            "Inside MSE loss\n",
            "Number of correct classifications, prediction of first image and counter are: 946, 0.0 and 16\n",
            "Inside MSE loss\n",
            "Number of correct classifications, prediction of first image and counter are: 949, 0.0 and 17\n",
            "Inside MSE loss\n",
            "Number of correct classifications, prediction of first image and counter are: 946, 0.0 and 18\n",
            "Inside MSE loss\n",
            "Number of correct classifications, prediction of first image and counter are: 949, 0.0 and 19\n",
            "Inside MSE loss\n",
            "Number of correct classifications, prediction of first image and counter are: 946, 0.0 and 20\n",
            "Inside MSE loss\n",
            "Number of correct classifications, prediction of first image and counter are: 949, 0.0 and 21\n",
            "Inside MSE loss\n",
            "Number of correct classifications, prediction of first image and counter are: 946, 0.0 and 22\n",
            "Inside MSE loss\n",
            "Number of correct classifications, prediction of first image and counter are: 949, 0.0 and 23\n",
            "Inside MSE loss\n",
            "Number of correct classifications, prediction of first image and counter are: 946, 0.0 and 24\n"
          ],
          "name": "stdout"
        },
        {
          "output_type": "stream",
          "text": [
            "/usr/local/lib/python3.6/dist-packages/matplotlib/image.py:452: UserWarning: Warning: converting a masked element to nan.\n",
            "  dv = np.float64(self.norm.vmax) - np.float64(self.norm.vmin)\n",
            "/usr/local/lib/python3.6/dist-packages/matplotlib/image.py:459: UserWarning: Warning: converting a masked element to nan.\n",
            "  a_min = np.float64(newmin)\n",
            "/usr/local/lib/python3.6/dist-packages/matplotlib/image.py:464: UserWarning: Warning: converting a masked element to nan.\n",
            "  a_max = np.float64(newmax)\n",
            "<string>:6: UserWarning: Warning: converting a masked element to nan.\n",
            "/usr/local/lib/python3.6/dist-packages/numpy/core/_asarray.py:85: UserWarning: Warning: converting a masked element to nan.\n",
            "  return array(a, dtype, copy=False, order=order)\n"
          ],
          "name": "stderr"
        },
        {
          "output_type": "display_data",
          "data": {
            "image/png": "[encoded data removed]",
            "text/plain": [
              "<Figure size 720x720 with 25 Axes>"
            ]
          },
          "metadata": {
            "tags": []
          }
        }
      ]
    },
    {
      "cell_type": "markdown",
      "metadata": {
        "id": "mSZWYHNnc2AR",
        "colab_type": "text"
      },
      "source": [
        "**Targeted Attack: Cost Function**\n",
        "\n",
        "We are trying to change the prediction and also making the source image more similar to target image. Lambda is a hyper parameter\n",
        "\n",
        "![image.png](data:image/png;base64,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)"
      ]
    },
    {
      "cell_type": "code",
      "metadata": {
        "id": "M98CKJYGv3kE",
        "colab_type": "code",
        "colab": {
          "base_uri": "https://localhost:8080/",
          "height": 301
        },
        "outputId": "da8277d0-31f1-4120-dd23-bf1ef7ca4fb6"
      },
      "source": [
        "tmp_stack = tf.concat(values = [tf.expand_dims(adverserial_training_images_batch[25, :, :], axis = 0), \n",
        "                               tf.expand_dims(adverserial_training_images_batch[25, :, :], axis = 0 )] , axis = 0)\n",
        "tmp_stack"
      ],
      "execution_count": null,
      "outputs": [
        {
          "output_type": "execute_result",
          "data": {
            "text/plain": [
              "<tf.Tensor: shape=(2, 28, 28), dtype=float32, numpy=\n",
              "array([[[0., 0., 0., ..., 0., 0., 0.],\n",
              "        [0., 0., 0., ..., 0., 0., 0.],\n",
              "        [0., 0., 0., ..., 0., 0., 0.],\n",
              "        ...,\n",
              "        [0., 0., 0., ..., 0., 0., 0.],\n",
              "        [0., 0., 0., ..., 0., 0., 0.],\n",
              "        [0., 0., 0., ..., 0., 0., 0.]],\n",
              "\n",
              "       [[0., 0., 0., ..., 0., 0., 0.],\n",
              "        [0., 0., 0., ..., 0., 0., 0.],\n",
              "        [0., 0., 0., ..., 0., 0., 0.],\n",
              "        ...,\n",
              "        [0., 0., 0., ..., 0., 0., 0.],\n",
              "        [0., 0., 0., ..., 0., 0., 0.],\n",
              "        [0., 0., 0., ..., 0., 0., 0.]]], dtype=float32)>"
            ]
          },
          "metadata": {
            "tags": []
          },
          "execution_count": 254
        }
      ]
    },
    {
      "cell_type": "code",
      "metadata": {
        "id": "M5Wdu_NeyE_W",
        "colab_type": "code",
        "colab": {
          "base_uri": "https://localhost:8080/",
          "height": 33
        },
        "outputId": "3b2d1dcd-f853-44f0-f842-04e3c3e66391"
      },
      "source": [
        "\n",
        "targeted_attack_images = tf.repeat(tf.expand_dims(adverserial_training_images_batch[25, :, :], axis = 0), repeats=512, axis=0, name=None)\n",
        "targeted_attack_images.shape\n"
      ],
      "execution_count": null,
      "outputs": [
        {
          "output_type": "execute_result",
          "data": {
            "text/plain": [
              "TensorShape([512, 28, 28])"
            ]
          },
          "metadata": {
            "tags": []
          },
          "execution_count": 37
        }
      ]
    },
    {
      "cell_type": "code",
      "metadata": {
        "id": "MAe9JIZyyc2B",
        "colab_type": "code",
        "colab": {
          "base_uri": "https://localhost:8080/",
          "height": 282
        },
        "outputId": "6b0bf7a2-00da-4430-8b11-8eba8131598d"
      },
      "source": [
        "plt.imshow(targeted_attack_images[25,:,:], cmap=plt.cm.binary)"
      ],
      "execution_count": null,
      "outputs": [
        {
          "output_type": "execute_result",
          "data": {
            "text/plain": [
              "<matplotlib.image.AxesImage at 0x7f1bc62cf898>"
            ]
          },
          "metadata": {
            "tags": []
          },
          "execution_count": 261
        },
        {
          "output_type": "display_data",
          "data": {
            "image/png": "[encoded data removed]",
            "text/plain": [
              "<Figure size 432x288 with 1 Axes>"
            ]
          },
          "metadata": {
            "tags": [],
            "needs_background": "light"
          }
        }
      ]
    },
    {
      "cell_type": "code",
      "metadata": {
        "id": "MudABBs2yf1O",
        "colab_type": "code",
        "colab": {
          "base_uri": "https://localhost:8080/",
          "height": 282
        },
        "outputId": "e77edf74-6411-431b-dea7-c9aa2e159842"
      },
      "source": [
        "plt.imshow(targeted_attack_images[1,:,:], cmap=plt.cm.binary)"
      ],
      "execution_count": null,
      "outputs": [
        {
          "output_type": "execute_result",
          "data": {
            "text/plain": [
              "<matplotlib.image.AxesImage at 0x7f1bc50442b0>"
            ]
          },
          "metadata": {
            "tags": []
          },
          "execution_count": 262
        },
        {
          "output_type": "display_data",
          "data": {
            "image/png": "[encoded data removed]",
            "text/plain": [
              "<Figure size 432x288 with 1 Axes>"
            ]
          },
          "metadata": {
            "tags": [],
            "needs_background": "light"
          }
        }
      ]
    },
    {
      "cell_type": "code",
      "metadata": {
        "id": "e0f7FSAhYus_",
        "colab_type": "code",
        "colab": {}
      },
      "source": [
        "def targeted_attack(adverserial_training_images_batch, adverserial_training_labels_batch,  perturbation_type=\"multiply\", index_of_num=2,\n",
        "                     attack_type = \"targeted\", targeted_attack_images = targeted_attack_images, loss_fnc = \"CCE\", lmbda = 0.05, multiply_factor= 100000):\n",
        "\n",
        "  plt.figure(figsize=(10,10))\n",
        "  for i in range(25):\n",
        "    plt.subplot(5,5,i+1)\n",
        "    plt.xticks([])\n",
        "    plt.yticks([])\n",
        "    plt.grid(False)\n",
        "    \n",
        "    #Get the weighted gradient/maximum change of the individual image pixel wrt output prediction. weighted by 0.071\n",
        "    if(i == 0):\n",
        "      gradient, perturbations = create_adversarial_pattern(adverserial_training_images_batch, adverserial_training_labels_batch, perturbation_type, attack_type = \"targeted\", targeted_attack_images = targeted_attack_images, loss_fnc = \"MSE\", lmbda=lmbda, multiply_factor= multiply_factor)\n",
        "    else:\n",
        "      gradient, perturbations = create_adversarial_pattern(adverserial_training_images_batch_modified, modified_predictions_2, perturbation_type, attack_type = \"targeted\", targeted_attack_images = targeted_attack_images, loss_fnc = \"MSE\", lmbda = lmbda, multiply_factor=multiply_factor)\n",
        "\n",
        "    #Add the gradient instead of subtracting it as we are trying to maximize the loss and moving in opposite direction of convex optimization hill.\n",
        "    adverserial_training_images_batch_modified = tf.subtract(adverserial_training_images_batch, 1 * perturbations)\n",
        "\n",
        "    #Get the new predictions for each change\n",
        "    modified_predictions = mlp_model(adverserial_training_images_batch_modified)\n",
        "    modified_predictions_2 =  tf.cast(tf.argmax(modified_predictions, axis=1),  dtype=tf.dtypes.float32)\n",
        "\n",
        "    #Get the number of correct classifications to monitor misclassifications and see gradual changes\n",
        "    x = tf.equal(adverserial_training_labels_batch, modified_predictions_2)\n",
        "    print(\"Number of correct classifications, prediction of first image and counter are: {}, {} and {}\".format(tf.reduce_sum(tf.cast(x, tf.int32)), modified_predictions_2[index_of_num], i))\n",
        "    #print(\"Prediction of first image is : {}\".format(modified_predictions_2[0]))\n",
        "    plt.imshow(adverserial_training_images_batch_modified[index_of_num], cmap=plt.cm.binary)\n",
        "  \n",
        "  return;"
      ],
      "execution_count": null,
      "outputs": []
    },
    {
      "cell_type": "code",
      "metadata": {
        "id": "Kbs5o-Lc0F4Y",
        "colab_type": "code",
        "colab": {
          "base_uri": "https://localhost:8080/",
          "height": 1000
        },
        "outputId": "a7dbdaf2-f717-4045-ec19-09e26ae87dc2"
      },
      "source": [
        "targeted_attack(adverserial_training_images_batch, adverserial_training_labels_batch,  perturbation_type=\"multiply\", index_of_num=0)"
      ],
      "execution_count": null,
      "outputs": [
        {
          "output_type": "stream",
          "text": [
            "Number of correct classifications, prediction of first image and counter are: 79, 2.0 and 0\n",
            "Number of correct classifications, prediction of first image and counter are: 362, 7.0 and 1\n",
            "Number of correct classifications, prediction of first image and counter are: 79, 2.0 and 2\n",
            "Number of correct classifications, prediction of first image and counter are: 362, 7.0 and 3\n",
            "Number of correct classifications, prediction of first image and counter are: 79, 2.0 and 4\n",
            "Number of correct classifications, prediction of first image and counter are: 362, 7.0 and 5\n",
            "Number of correct classifications, prediction of first image and counter are: 79, 2.0 and 6\n",
            "Number of correct classifications, prediction of first image and counter are: 362, 7.0 and 7\n",
            "Number of correct classifications, prediction of first image and counter are: 79, 2.0 and 8\n",
            "Number of correct classifications, prediction of first image and counter are: 362, 7.0 and 9\n",
            "Number of correct classifications, prediction of first image and counter are: 79, 2.0 and 10\n",
            "Number of correct classifications, prediction of first image and counter are: 362, 7.0 and 11\n",
            "Number of correct classifications, prediction of first image and counter are: 79, 2.0 and 12\n",
            "Number of correct classifications, prediction of first image and counter are: 104, 0.0 and 13\n",
            "Number of correct classifications, prediction of first image and counter are: 101, 0.0 and 14\n",
            "Number of correct classifications, prediction of first image and counter are: 100, 0.0 and 15\n",
            "Number of correct classifications, prediction of first image and counter are: 100, 0.0 and 16\n",
            "Number of correct classifications, prediction of first image and counter are: 100, 0.0 and 17\n",
            "Number of correct classifications, prediction of first image and counter are: 100, 0.0 and 18\n",
            "Number of correct classifications, prediction of first image and counter are: 100, 0.0 and 19\n",
            "Number of correct classifications, prediction of first image and counter are: 100, 0.0 and 20\n",
            "Number of correct classifications, prediction of first image and counter are: 100, 0.0 and 21\n",
            "Number of correct classifications, prediction of first image and counter are: 100, 0.0 and 22\n",
            "Number of correct classifications, prediction of first image and counter are: 100, 0.0 and 23\n",
            "Number of correct classifications, prediction of first image and counter are: 100, 0.0 and 24\n"
          ],
          "name": "stdout"
        },
        {
          "output_type": "stream",
          "text": [
            "/usr/local/lib/python3.6/dist-packages/matplotlib/image.py:452: UserWarning: Warning: converting a masked element to nan.\n",
            "  dv = np.float64(self.norm.vmax) - np.float64(self.norm.vmin)\n",
            "/usr/local/lib/python3.6/dist-packages/matplotlib/image.py:459: UserWarning: Warning: converting a masked element to nan.\n",
            "  a_min = np.float64(newmin)\n",
            "/usr/local/lib/python3.6/dist-packages/matplotlib/image.py:464: UserWarning: Warning: converting a masked element to nan.\n",
            "  a_max = np.float64(newmax)\n",
            "<string>:6: UserWarning: Warning: converting a masked element to nan.\n",
            "/usr/local/lib/python3.6/dist-packages/numpy/core/_asarray.py:85: UserWarning: Warning: converting a masked element to nan.\n",
            "  return array(a, dtype, copy=False, order=order)\n"
          ],
          "name": "stderr"
        },
        {
          "output_type": "display_data",
          "data": {
            "image/png": "[encoded data removed]",
            "text/plain": [
              "<Figure size 720x720 with 25 Axes>"
            ]
          },
          "metadata": {
            "tags": []
          }
        }
      ]
    },
    {
      "cell_type": "code",
      "metadata": {
        "id": "4AfuzXdp3I-C",
        "colab_type": "code",
        "colab": {
          "base_uri": "https://localhost:8080/",
          "height": 1000
        },
        "outputId": "a01aad62-1210-4791-f78b-8af1e1706e98"
      },
      "source": [
        "targeted_attack(adverserial_training_images_batch, adverserial_training_labels_batch,  perturbation_type=\"multiply\", index_of_num=100, lmbda=0.9, multiply_factor=10)"
      ],
      "execution_count": null,
      "outputs": [
        {
          "output_type": "stream",
          "text": [
            "Number of correct classifications, prediction of first image and counter are: 213, 2.0 and 0\n",
            "Number of correct classifications, prediction of first image and counter are: 700, 5.0 and 1\n",
            "Number of correct classifications, prediction of first image and counter are: 279, 2.0 and 2\n",
            "Number of correct classifications, prediction of first image and counter are: 457, 8.0 and 3\n",
            "Number of correct classifications, prediction of first image and counter are: 323, 2.0 and 4\n",
            "Number of correct classifications, prediction of first image and counter are: 405, 8.0 and 5\n",
            "Number of correct classifications, prediction of first image and counter are: 348, 2.0 and 6\n",
            "Number of correct classifications, prediction of first image and counter are: 379, 2.0 and 7\n",
            "Number of correct classifications, prediction of first image and counter are: 360, 2.0 and 8\n",
            "Number of correct classifications, prediction of first image and counter are: 372, 2.0 and 9\n",
            "Number of correct classifications, prediction of first image and counter are: 365, 2.0 and 10\n",
            "Number of correct classifications, prediction of first image and counter are: 370, 2.0 and 11\n",
            "Number of correct classifications, prediction of first image and counter are: 365, 2.0 and 12\n",
            "Number of correct classifications, prediction of first image and counter are: 369, 2.0 and 13\n",
            "Number of correct classifications, prediction of first image and counter are: 367, 2.0 and 14\n",
            "Number of correct classifications, prediction of first image and counter are: 367, 2.0 and 15\n",
            "Number of correct classifications, prediction of first image and counter are: 367, 2.0 and 16\n",
            "Number of correct classifications, prediction of first image and counter are: 367, 2.0 and 17\n",
            "Number of correct classifications, prediction of first image and counter are: 367, 2.0 and 18\n",
            "Number of correct classifications, prediction of first image and counter are: 367, 2.0 and 19\n",
            "Number of correct classifications, prediction of first image and counter are: 367, 2.0 and 20\n",
            "Number of correct classifications, prediction of first image and counter are: 367, 2.0 and 21\n",
            "Number of correct classifications, prediction of first image and counter are: 367, 2.0 and 22\n",
            "Number of correct classifications, prediction of first image and counter are: 367, 2.0 and 23\n",
            "Number of correct classifications, prediction of first image and counter are: 367, 2.0 and 24\n"
          ],
          "name": "stdout"
        },
        {
          "output_type": "display_data",
          "data": {
            "image/png": "[encoded data removed]",
            "text/plain": [
              "<Figure size 720x720 with 25 Axes>"
            ]
          },
          "metadata": {
            "tags": []
          }
        }
      ]
    },
    {
      "cell_type": "code",
      "metadata": {
        "id": "Zxsq0snFN7_i",
        "colab_type": "code",
        "colab": {
          "base_uri": "https://localhost:8080/",
          "height": 1000
        },
        "outputId": "cc283777-8bf8-4d75-e5c7-03c773d922f7"
      },
      "source": [
        "z = perturbations\n",
        "print(z.shape)\n",
        "z"
      ],
      "execution_count": null,
      "outputs": [
        {
          "output_type": "stream",
          "text": [
            "(1024, 28, 28)\n"
          ],
          "name": "stdout"
        },
        {
          "output_type": "execute_result",
          "data": {
            "text/plain": [
              "<tf.Tensor: shape=(1024, 28, 28), dtype=float32, numpy=\n",
              "array([[[-2.74132378e-03,  5.38331503e-03,  1.75640627e-03, ...,\n",
              "          5.08194882e-03, -5.70606953e-03,  6.00808859e-03],\n",
              "        [ 4.00201697e-03,  7.72786268e-04,  2.05669855e-03, ...,\n",
              "         -2.12434819e-03,  1.67488563e-03,  9.70114139e-04],\n",
              "        [-5.48428250e-03, -1.08808596e-02, -3.58962570e-03, ...,\n",
              "          6.02121931e-03,  1.15031498e-02,  4.24643559e-03],\n",
              "        ...,\n",
              "        [ 2.13877647e-03, -6.29829895e-03, -5.30824240e-04, ...,\n",
              "          4.05702798e-04, -1.52578782e-02, -4.49750340e-03],\n",
              "        [ 2.23302958e-03,  1.18627714e-03,  7.17322051e-04, ...,\n",
              "         -6.94958353e-03,  2.42668879e-03,  1.06545351e-02],\n",
              "        [-5.17683744e-04, -1.24431332e-03, -3.75148980e-03, ...,\n",
              "         -1.66693842e-03,  1.21957378e-03,  7.77785014e-03]],\n",
              "\n",
              "       [[ 0.00000000e+00,  0.00000000e+00,  0.00000000e+00, ...,\n",
              "          0.00000000e+00,  0.00000000e+00,  0.00000000e+00],\n",
              "        [ 0.00000000e+00,  0.00000000e+00,  0.00000000e+00, ...,\n",
              "          0.00000000e+00,  0.00000000e+00,  0.00000000e+00],\n",
              "        [ 0.00000000e+00,  0.00000000e+00,  0.00000000e+00, ...,\n",
              "          0.00000000e+00,  0.00000000e+00,  0.00000000e+00],\n",
              "        ...,\n",
              "        [ 0.00000000e+00,  0.00000000e+00,  0.00000000e+00, ...,\n",
              "          0.00000000e+00,  0.00000000e+00,  0.00000000e+00],\n",
              "        [ 0.00000000e+00,  0.00000000e+00,  0.00000000e+00, ...,\n",
              "          0.00000000e+00,  0.00000000e+00,  0.00000000e+00],\n",
              "        [ 0.00000000e+00,  0.00000000e+00,  0.00000000e+00, ...,\n",
              "          0.00000000e+00,  0.00000000e+00,  0.00000000e+00]],\n",
              "\n",
              "       [[ 2.86694784e-02,  8.30002315e-03, -2.14457186e-03, ...,\n",
              "          1.40213259e-02, -4.01497266e-04,  2.21366230e-02],\n",
              "        [-6.56952802e-03,  6.47759764e-03,  2.64606625e-02, ...,\n",
              "         -4.68110712e-03, -7.28929648e-03, -2.93081366e-02],\n",
              "        [-2.69703232e-02, -3.23556177e-02, -7.47883739e-03, ...,\n",
              "         -7.80315883e-03,  1.65290777e-02, -6.43479312e-03],\n",
              "        ...,\n",
              "        [-9.26968455e-03,  3.45683098e-03,  2.63394043e-02, ...,\n",
              "          2.07754504e-02, -5.11887530e-03,  3.27804387e-02],\n",
              "        [-5.84082585e-03, -7.57347047e-03,  5.90051012e-03, ...,\n",
              "         -1.08197667e-02, -4.21168879e-02, -1.41193653e-02],\n",
              "        [ 3.83950747e-03,  5.59102977e-03, -3.56857218e-02, ...,\n",
              "          1.13689164e-02, -1.09148398e-03, -1.27417818e-02]],\n",
              "\n",
              "       ...,\n",
              "\n",
              "       [[ 8.32543716e+01, -1.06180588e+02, -6.51392670e+01, ...,\n",
              "         -1.48162003e+02,  1.97352448e+02, -1.11813400e+02],\n",
              "        [ 1.10483376e+02, -3.91740036e+01, -5.13382416e+01, ...,\n",
              "          4.18856392e+01, -4.43634071e+01,  4.58997536e+01],\n",
              "        [ 1.15970627e+02,  1.12582977e+02,  1.38223328e+02, ...,\n",
              "         -3.78271866e+01, -6.43658829e+01, -3.46621971e+01],\n",
              "        ...,\n",
              "        [-5.02760353e+01,  8.03810043e+01, -2.14017429e+01, ...,\n",
              "          1.60632462e+02,  1.47957230e+02,  2.31711578e+01],\n",
              "        [-6.36687279e+01,  3.33522072e+01, -3.20594482e+01, ...,\n",
              "         -7.80952759e+01, -8.04767303e+01, -2.32119583e+02],\n",
              "        [-7.70271072e+01,  9.62944698e+00,  2.18227024e+01, ...,\n",
              "          1.47291746e+01,  3.31128464e+01,  9.38298702e+00]],\n",
              "\n",
              "       [[-2.75940020e-02,  9.12887603e-02,  3.03619821e-02, ...,\n",
              "         -5.29782593e-01,  4.38918054e-01, -1.50866598e-01],\n",
              "        [-3.51659000e-01, -1.31937861e-01, -1.97340384e-01, ...,\n",
              "         -1.50772557e-01,  7.15208650e-02, -3.96388292e-01],\n",
              "        [ 9.64260697e-02,  7.42396116e-02, -3.36678177e-02, ...,\n",
              "          9.24675539e-02,  1.87605806e-02, -2.02660725e-01],\n",
              "        ...,\n",
              "        [ 2.02292874e-02, -6.23837896e-02,  4.46060687e-01, ...,\n",
              "          2.11802013e-02,  4.30281669e-01,  1.19931132e-01],\n",
              "        [-9.84863266e-02,  2.61851281e-01, -1.42809942e-01, ...,\n",
              "         -1.00953184e-01,  2.60440052e-01,  2.63400286e-01],\n",
              "        [ 2.12693378e-01, -4.64329720e-02,  4.90035743e-01, ...,\n",
              "          2.86862582e-01,  7.08476901e-02,  2.15376556e-01]],\n",
              "\n",
              "       [[ 2.22107716e+01,  1.11252754e+02,  2.12514038e+01, ...,\n",
              "         -1.08084602e+01, -3.19701004e+01,  1.29755354e+01],\n",
              "        [-4.93856430e+01, -4.04166842e+00,  2.29528885e+01, ...,\n",
              "         -2.94529896e+01,  5.05783005e+01, -1.38358826e+02],\n",
              "        [ 8.56364517e+01,  5.37878265e+01, -1.11569397e+02, ...,\n",
              "          4.24866409e+01,  1.49322388e+02, -5.31659622e+01],\n",
              "        ...,\n",
              "        [ 1.70712643e+01, -3.58484573e+01,  1.53156006e+02, ...,\n",
              "         -8.50876465e+01, -3.57767701e+00,  3.79230843e+01],\n",
              "        [-4.92166557e+01, -8.65814667e+01, -4.30416260e+01, ...,\n",
              "         -2.97273219e-01,  8.88209820e+00,  7.86272888e+01],\n",
              "        [-1.24074837e+02,  1.03797241e+02,  1.10372868e+01, ...,\n",
              "         -1.30318283e+02,  3.85010834e+01, -2.12097206e+01]]],\n",
              "      dtype=float32)>"
            ]
          },
          "metadata": {
            "tags": []
          },
          "execution_count": 123
        }
      ]
    },
    {
      "cell_type": "code",
      "metadata": {
        "id": "QX8xanV1Pwe_",
        "colab_type": "code",
        "colab": {
          "base_uri": "https://localhost:8080/",
          "height": 265
        },
        "outputId": "674f09fa-e84e-4b1a-94a0-c1bcd037865c"
      },
      "source": [
        "\n",
        "norm = tf.sqrt(tf.reduce_sum(tf.square(perturbations), axis=[-1,-2], keepdims=True))\n",
        "print(norm)\n",
        "#assert norm.shape == [100, 1]\n",
        "\n",
        "res = z / norm"
      ],
      "execution_count": null,
      "outputs": [
        {
          "output_type": "stream",
          "text": [
            "tf.Tensor(\n",
            "[[[1.7896293e-01]]\n",
            "\n",
            " [[0.0000000e+00]]\n",
            "\n",
            " [[7.0211840e-01]]\n",
            "\n",
            " ...\n",
            "\n",
            " [[3.2751392e+03]]\n",
            "\n",
            " [[7.7128544e+00]]\n",
            "\n",
            " [[2.4571011e+03]]], shape=(1024, 1, 1), dtype=float32)\n"
          ],
          "name": "stdout"
        }
      ]
    },
    {
      "cell_type": "code",
      "metadata": {
        "id": "1CEE6xVuP43K",
        "colab_type": "code",
        "colab": {
          "base_uri": "https://localhost:8080/",
          "height": 1000
        },
        "outputId": "3bbe0e1e-0d41-4a8f-a038-1958d4b241cb"
      },
      "source": [
        "res"
      ],
      "execution_count": null,
      "outputs": [
        {
          "output_type": "execute_result",
          "data": {
            "text/plain": [
              "<tf.Tensor: shape=(1024, 28, 28), dtype=float32, numpy=\n",
              "array([[[-0.01531783,  0.03008061,  0.00981436, ...,  0.02839666,\n",
              "         -0.03188409,  0.03357169],\n",
              "        [ 0.02236227,  0.00431814,  0.01149232, ..., -0.01187033,\n",
              "          0.00935884,  0.00542075],\n",
              "        [-0.0306448 , -0.06079952, -0.02005793, ...,  0.03364506,\n",
              "          0.06427672,  0.02372802],\n",
              "        ...,\n",
              "        [ 0.01195095, -0.03519332, -0.00296611, ...,  0.00226697,\n",
              "         -0.0852572 , -0.02513092],\n",
              "        [ 0.01247761,  0.00662862,  0.00400822, ..., -0.03883253,\n",
              "          0.01355973,  0.05953487],\n",
              "        [-0.00289269, -0.00695291, -0.02096239, ..., -0.00931443,\n",
              "          0.00681467,  0.04346068]],\n",
              "\n",
              "       [[        nan,         nan,         nan, ...,         nan,\n",
              "                 nan,         nan],\n",
              "        [        nan,         nan,         nan, ...,         nan,\n",
              "                 nan,         nan],\n",
              "        [        nan,         nan,         nan, ...,         nan,\n",
              "                 nan,         nan],\n",
              "        ...,\n",
              "        [        nan,         nan,         nan, ...,         nan,\n",
              "                 nan,         nan],\n",
              "        [        nan,         nan,         nan, ...,         nan,\n",
              "                 nan,         nan],\n",
              "        [        nan,         nan,         nan, ...,         nan,\n",
              "                 nan,         nan]],\n",
              "\n",
              "       [[ 0.04083283,  0.0118214 , -0.00305443, ...,  0.01997003,\n",
              "         -0.00057184,  0.03152834],\n",
              "        [-0.00935672,  0.00922579,  0.0376869 , ..., -0.00666712,\n",
              "         -0.01038186, -0.04174244],\n",
              "        [-0.03841279, -0.04608285, -0.01065182, ..., -0.01111374,\n",
              "          0.02354172, -0.00916483],\n",
              "        ...,\n",
              "        [-0.01320245,  0.00492343,  0.03751419, ...,  0.02958967,\n",
              "         -0.00729062,  0.04668791],\n",
              "        [-0.00831886, -0.0107866 ,  0.00840387, ..., -0.01541017,\n",
              "         -0.05998545, -0.02010966],\n",
              "        [ 0.00546846,  0.00796309, -0.05082579, ...,  0.01619231,\n",
              "         -0.00155456, -0.01814763]],\n",
              "\n",
              "       ...,\n",
              "\n",
              "       [[ 0.0254201 , -0.03242018, -0.01988901, ..., -0.04523838,\n",
              "          0.06025773, -0.03414005],\n",
              "        [ 0.03373395, -0.01196102, -0.01567513, ...,  0.01278896,\n",
              "         -0.0135455 ,  0.0140146 ],\n",
              "        [ 0.03540937,  0.03437502,  0.0422038 , ..., -0.0115498 ,\n",
              "         -0.01965287, -0.01058343],\n",
              "        ...,\n",
              "        [-0.01535081,  0.02454278, -0.00653461, ...,  0.04904599,\n",
              "          0.04517586,  0.00707486],\n",
              "        [-0.01944001,  0.01018345, -0.00978873, ..., -0.02384487,\n",
              "         -0.024572  , -0.07087319],\n",
              "        [-0.02351873,  0.00294016,  0.00666314, ...,  0.00449727,\n",
              "          0.01011036,  0.00286491]],\n",
              "\n",
              "       [[-0.00357766,  0.01183592,  0.00393654, ..., -0.06868827,\n",
              "          0.05690734, -0.01956041],\n",
              "        [-0.04559388, -0.01710623, -0.02558591, ..., -0.01954822,\n",
              "          0.00927294, -0.0513932 ],\n",
              "        [ 0.012502  ,  0.00962544, -0.00436516, ...,  0.01198876,\n",
              "          0.00243238, -0.02627571],\n",
              "        ...,\n",
              "        [ 0.0026228 , -0.00808829,  0.05783341, ...,  0.00274609,\n",
              "          0.0557876 ,  0.01554951],\n",
              "        [-0.01276912,  0.03394998, -0.01851583, ..., -0.01308895,\n",
              "          0.03376701,  0.03415082],\n",
              "        [ 0.02757648, -0.00602021,  0.06353494, ...,  0.03719279,\n",
              "          0.00918566,  0.02792436]],\n",
              "\n",
              "       [[ 0.00903942,  0.04527805,  0.00864897, ..., -0.00439887,\n",
              "         -0.01301131,  0.00528083],\n",
              "        [-0.02009915, -0.00164489,  0.00934145, ..., -0.01198689,\n",
              "          0.02058454, -0.05630978],\n",
              "        [ 0.03485264,  0.02189077, -0.04540692, ...,  0.01729137,\n",
              "          0.06077177, -0.02163768],\n",
              "        ...,\n",
              "        [ 0.00694773, -0.01458974,  0.06233199, ..., -0.03462928,\n",
              "         -0.00145606,  0.01543408],\n",
              "        [-0.02003038, -0.03523724, -0.01751724, ..., -0.00012099,\n",
              "          0.00361487,  0.03200002],\n",
              "        [-0.05049643,  0.04224378,  0.004492  , ..., -0.05303741,\n",
              "          0.01566931, -0.00863201]]], dtype=float32)>"
            ]
          },
          "metadata": {
            "tags": []
          },
          "execution_count": 125
        }
      ]
    },
    {
      "cell_type": "code",
      "metadata": {
        "id": "90TieqwLP5kd",
        "colab_type": "code",
        "colab": {
          "base_uri": "https://localhost:8080/",
          "height": 34
        },
        "outputId": "2a7ae573-2cc4-419a-ee22-02a411cbc736"
      },
      "source": [
        "mlp_model.save(\"/content/mlp_model\")"
      ],
      "execution_count": null,
      "outputs": [
        {
          "output_type": "stream",
          "text": [
            "INFO:tensorflow:Assets written to: /content/mlp_model/assets\n"
          ],
          "name": "stdout"
        }
      ]
    },
    {
      "cell_type": "code",
      "metadata": {
        "id": "aKh8KPGw_9dP",
        "colab_type": "code",
        "colab": {
          "base_uri": "https://localhost:8080/",
          "height": 123
        },
        "outputId": "08ce02d6-19ed-4d5b-a322-93d1ae2bb1b2"
      },
      "source": [
        "!zip -r /content/mlp_model.zip /content/mlp_model"
      ],
      "execution_count": null,
      "outputs": [
        {
          "output_type": "stream",
          "text": [
            "  adding: content/mlp_model/ (stored 0%)\n",
            "  adding: content/mlp_model/variables/ (stored 0%)\n",
            "  adding: content/mlp_model/variables/variables.data-00000-of-00001 (deflated 13%)\n",
            "  adding: content/mlp_model/variables/variables.index (deflated 65%)\n",
            "  adding: content/mlp_model/assets/ (stored 0%)\n",
            "  adding: content/mlp_model/saved_model.pb (deflated 88%)\n"
          ],
          "name": "stdout"
        }
      ]
    },
    {
      "cell_type": "markdown",
      "metadata": {
        "id": "eCWlwpc92EWb",
        "colab_type": "text"
      },
      "source": [
        "# Activation Maximization\n",
        "\n",
        "**Reference:** https://www.sicara.ai/blog/2019-08-28-interpretability-deep-learning-tensorflow\n",
        "\n",
        "We see from the activation maximization, that differene between original and updated image, the pixels that maximally activate 5(in color black) and not activate 5(in white)\n",
        "\n",
        "**Possible attack of another type: Greedy attack**\n",
        "\n",
        "We take inspiration from one pixel attack, but instead of implementing the difficult algorithm, We first take and image and find ts maximally active pixel positions. \n",
        "\n",
        "After that we are going to start blanking out these positions one by one and see hown many pixels does it take for missclassification"
      ]
    },
    {
      "cell_type": "code",
      "metadata": {
        "id": "CIEvIsHlEC5i",
        "colab_type": "code",
        "colab": {}
      },
      "source": [
        "# Initiate random noise\n",
        "input_img_data = np.random.random((1, 28, 28))\n",
        "input_img_data = (input_img_data - 0.5) * 20 + 128.\n",
        "epochs = 10000\n",
        "step_size = 1.\n",
        "filter_index = 0"
      ],
      "execution_count": null,
      "outputs": []
    },
    {
      "cell_type": "code",
      "metadata": {
        "id": "_74kZ3vqLOh_",
        "colab_type": "code",
        "colab": {
          "base_uri": "https://localhost:8080/",
          "height": 281
        },
        "outputId": "4cbb70e6-75e9-41a4-928b-31394b4bf3b6"
      },
      "source": [
        "plt.imshow(adverserial_training_images_batch[0,:,:])"
      ],
      "execution_count": null,
      "outputs": [
        {
          "output_type": "execute_result",
          "data": {
            "text/plain": [
              "<matplotlib.image.AxesImage at 0x7f083f9ffe48>"
            ]
          },
          "metadata": {
            "tags": []
          },
          "execution_count": 73
        },
        {
          "output_type": "display_data",
          "data": {
            "image/png": "[encoded data removed]",
            "text/plain": [
              "<Figure size 432x288 with 1 Axes>"
            ]
          },
          "metadata": {
            "tags": [],
            "needs_background": "light"
          }
        }
      ]
    },
    {
      "cell_type": "code",
      "metadata": {
        "id": "pF_1rNzD2lLL",
        "colab_type": "code",
        "colab": {
          "base_uri": "https://localhost:8080/",
          "height": 443
        },
        "outputId": "0f926538-1f9a-48d3-bce5-3116aa1354c1"
      },
      "source": [
        "# Cast random noise from np.float64 to tf.float32 Variable\n",
        "input_img_data = tf.Variable(tf.cast(tf.expand_dims(adverserial_training_images_batch[0,:,:], axis=0), tf.float32))\n",
        "plt.figure(figsize=(7,7))\n",
        "\n",
        "# Iterate gradient ascents\n",
        "for i in range(epochs):\n",
        "  \n",
        "  with tf.GradientTape() as tape:\n",
        "      outputs = mlp_model(input_img_data)\n",
        "      loss_value = tf.reduce_mean(outputs)\n",
        "  grads = tape.gradient(loss_value, input_img_data)\n",
        "  normalized_grads = grads / (tf.sqrt(tf.reduce_mean(tf.square(grads))) + 1e-5)\n",
        "  input_img_data.assign_add(normalized_grads * 2)\n",
        "  #print(input_img_data)\n",
        "  \"\"\"\n",
        "  plt.subplot(12,12,i+1)\n",
        "  plt.xticks([])\n",
        "  plt.yticks([])\n",
        "  plt.grid(False)\n",
        "  plt.imshow(tf.convert_to_tensor(input_img_data[0,:,:], dtype=tf.dtypes.float32), cmap=plt.cm.binary)\n",
        "  \"\"\"\n",
        "plt.imshow(tf.convert_to_tensor(input_img_data[0,:,:], dtype=tf.dtypes.float32), cmap=plt.cm.binary)"
      ],
      "execution_count": null,
      "outputs": [
        {
          "output_type": "execute_result",
          "data": {
            "text/plain": [
              "<matplotlib.image.AxesImage at 0x7f083a6aa8d0>"
            ]
          },
          "metadata": {
            "tags": []
          },
          "execution_count": 85
        },
        {
          "output_type": "display_data",
          "data": {
            "image/png": "[encoded data removed]",
            "text/plain": [
              "<Figure size 504x504 with 1 Axes>"
            ]
          },
          "metadata": {
            "tags": [],
            "needs_background": "light"
          }
        }
      ]
    },
    {
      "cell_type": "code",
      "metadata": {
        "id": "J282W5tD2lGx",
        "colab_type": "code",
        "colab": {
          "base_uri": "https://localhost:8080/",
          "height": 281
        },
        "outputId": "8ff504d8-9fba-4584-814c-5140268312cc"
      },
      "source": [
        "x = tf.subtract(input_img_data, tf.Variable(tf.cast(tf.expand_dims(adverserial_training_images_batch[0,:,:], axis=0), tf.float32)))\n",
        "plt.imshow(tf.convert_to_tensor(x[0,:,:], dtype=tf.dtypes.float32) , cmap=plt.cm.binary)"
      ],
      "execution_count": null,
      "outputs": [
        {
          "output_type": "execute_result",
          "data": {
            "text/plain": [
              "<matplotlib.image.AxesImage at 0x7f083a687748>"
            ]
          },
          "metadata": {
            "tags": []
          },
          "execution_count": 86
        },
        {
          "output_type": "display_data",
          "data": {
            "image/png": "[encoded data removed]",
            "text/plain": [
              "<Figure size 432x288 with 1 Axes>"
            ]
          },
          "metadata": {
            "tags": [],
            "needs_background": "light"
          }
        }
      ]
    },
    {
      "cell_type": "code",
      "metadata": {
        "id": "aDpcGUkLMvKQ",
        "colab_type": "code",
        "colab": {
          "base_uri": "https://localhost:8080/",
          "height": 443
        },
        "outputId": "24c8a76f-d081-492e-e3da-56d28c1ff5fe"
      },
      "source": [
        "plt.figure(figsize=(7,7))\n",
        "plt.imshow(tf.convert_to_tensor(x[0,:,:], dtype=tf.dtypes.float32) , cmap=plt.cm.binary)"
      ],
      "execution_count": null,
      "outputs": [
        {
          "output_type": "execute_result",
          "data": {
            "text/plain": [
              "<matplotlib.image.AxesImage at 0x7f083a5bcb00>"
            ]
          },
          "metadata": {
            "tags": []
          },
          "execution_count": 88
        },
        {
          "output_type": "display_data",
          "data": {
            "image/png": "[encoded data removed]",
            "text/plain": [
              "<Figure size 504x504 with 1 Axes>"
            ]
          },
          "metadata": {
            "tags": [],
            "needs_background": "light"
          }
        }
      ]
    },
    {
      "cell_type": "markdown",
      "metadata": {
        "id": "LjrZGVVq_bo9",
        "colab_type": "text"
      },
      "source": [
        "# Adverserial Training\n",
        "\n",
        "Integrate the adversarial example procedure in the model’s training loop. That is, at each step, run the current batch through the model and use it to create a batch of adversarial examples. Also run this batch through the model and compute the loss. You can now update your network on this “double batch” of normal and adversarial examples (you could even try training using only adversarial examples). - **Yes we trained only using adverserial examples**\n",
        "\n",
        "\n",
        "Test the network on some new adversarial examples, created using the same method that was used during training. It should now be much less susceptible than without adversarial training. Ideally, compare accuracies over a large “test set” of adversarial examples. - **Yes we recieved around 80% test accuracy on an average, as we can see the image at index 2 has some noise which could have been classified as something else, now netwrk is classifying it as 7, the images at index 3,4 are anyway gibberish so its output doesn't matter much**\n",
        "\n",
        "Also, does adversarial training affect performance on the original data? - **In our current example it seems to be not the case, but a paper provided in the reference link suggests otherwise**\n",
        "\n",
        "**Bonus:** See if the adversarially trained network is also robust to other methods of attack (if you came up with any), or e.g. using multiple gradient steps to create the examples as proposed further above. - **Yes we tested the targeted adverserial examples on the model which was trained on untargeted example, as we can see that before the image was classified as 2 which is the target class, after pretraining with untartgeted adverserial example, the same image is classified more as 8 and less as 2, but errors still exists. This suggest that training on one adverserial example might help for other cases, but not completely, We can see that from targeted adverserial example, the source image 5 is being morphed to target image 2, but interestingky we don't get 2 as output in most cases. But still we won't get 5 too, we are getting 8. This does tell us that one type of adverserial example will partially succeed in breaking model which is trained on another type of adverserial example**\n",
        "\n",
        "Yes we tried predicting for the greedy adverserial examples on the network that has been trained for untargeted attacks.\n",
        "\n"
      ]
    },
    {
      "cell_type": "code",
      "metadata": {
        "id": "iLNCLmmCaCee",
        "colab_type": "code",
        "colab": {
          "base_uri": "https://localhost:8080/",
          "height": 131
        },
        "outputId": "8042ef6a-7fe5-499b-e3a6-3a7315d98863"
      },
      "source": [
        "!unzip \"/content/mlp_model_adverserial_networks.zip\""
      ],
      "execution_count": null,
      "outputs": [
        {
          "output_type": "stream",
          "text": [
            "Archive:  /content/mlp_model_adverserial_networks.zip\n",
            "   creating: content/mlp_model/\n",
            "   creating: content/mlp_model/variables/\n",
            "  inflating: content/mlp_model/variables/variables.data-00000-of-00001  \n",
            "  inflating: content/mlp_model/variables/variables.index  \n",
            "   creating: content/mlp_model/assets/\n",
            "  inflating: content/mlp_model/saved_model.pb  \n"
          ],
          "name": "stdout"
        }
      ]
    },
    {
      "cell_type": "code",
      "metadata": {
        "id": "YkdmyH1-aCkk",
        "colab_type": "code",
        "colab": {
          "base_uri": "https://localhost:8080/",
          "height": 82
        },
        "outputId": "3b3f24d4-b86a-4016-d695-c3f8dcbfe826"
      },
      "source": [
        "adverserial_training_images_batch = tf.convert_to_tensor(train_images[0:1024, :, :], dtype=tf.float32)\n",
        "adverserial_training_images_batch2 = tf.convert_to_tensor(train_images[1024:4096, :, :], dtype=tf.float32)\n",
        "adverserial_test_images_batch = tf.convert_to_tensor(test_images[0:1024, :, :], dtype=tf.float32)\n",
        "adverserial_training_labels_batch = tf.convert_to_tensor(train_labels[0:1024], dtype=tf.float32)\n",
        "adverserial_training_labels_batch2 = tf.convert_to_tensor(train_labels[1024:4096], dtype=tf.float32)\n",
        "adverserial_test_labels_batch = tf.convert_to_tensor(test_labels[0:1024], dtype=tf.float32)\n",
        "complete_training_labels = tf.convert_to_tensor(train_labels, dtype=tf.float32)\n",
        "complete_training_images = tf.convert_to_tensor(train_images, dtype=tf.float32)\n",
        "complete_test_labels = tf.convert_to_tensor(test_labels, dtype=tf.float32)\n",
        "complete_test_images = tf.convert_to_tensor(test_images, dtype=tf.float32)\n",
        "print(adverserial_training_images_batch.shape)\n",
        "print(adverserial_test_images_batch.shape)\n",
        "print(adverserial_training_labels_batch.shape)\n",
        "print(adverserial_test_labels_batch.shape)"
      ],
      "execution_count": null,
      "outputs": [
        {
          "output_type": "stream",
          "text": [
            "(1024, 28, 28)\n",
            "(1024, 28, 28)\n",
            "(1024,)\n",
            "(1024,)\n"
          ],
          "name": "stdout"
        }
      ]
    },
    {
      "cell_type": "code",
      "metadata": {
        "id": "5CWtPFyZaCiT",
        "colab_type": "code",
        "colab": {
          "base_uri": "https://localhost:8080/",
          "height": 163
        },
        "outputId": "78061604-0054-4ae2-aad7-5befc298b060"
      },
      "source": [
        "test_onehot = tf.one_hot(indices = tf.cast(adverserial_test_labels_batch, dtype=tf.dtypes.int64), depth=10)\n",
        "print(test_onehot)\n",
        "test_onehot.shape"
      ],
      "execution_count": null,
      "outputs": [
        {
          "output_type": "stream",
          "text": [
            "tf.Tensor(\n",
            "[[0. 0. 0. ... 1. 0. 0.]\n",
            " [0. 0. 1. ... 0. 0. 0.]\n",
            " [0. 1. 0. ... 0. 0. 0.]\n",
            " ...\n",
            " [0. 0. 0. ... 1. 0. 0.]\n",
            " [0. 0. 0. ... 0. 0. 0.]\n",
            " [0. 0. 0. ... 0. 0. 0.]], shape=(1024, 10), dtype=float32)\n"
          ],
          "name": "stdout"
        },
        {
          "output_type": "execute_result",
          "data": {
            "text/plain": [
              "TensorShape([1024, 10])"
            ]
          },
          "metadata": {
            "tags": []
          },
          "execution_count": 8
        }
      ]
    },
    {
      "cell_type": "code",
      "metadata": {
        "id": "RtOySUsjez52",
        "colab_type": "code",
        "colab": {}
      },
      "source": [
        "mlp_model = tf.keras.models.load_model(\"/content/content/mlp_model\")"
      ],
      "execution_count": null,
      "outputs": []
    },
    {
      "cell_type": "code",
      "metadata": {
        "id": "hbo97t9efCIr",
        "colab_type": "code",
        "colab": {
          "base_uri": "https://localhost:8080/",
          "height": 342
        },
        "outputId": "64c21279-bc90-432e-fd30-ff2d072d47e8"
      },
      "source": [
        "mlp_model.summary()"
      ],
      "execution_count": null,
      "outputs": [
        {
          "output_type": "stream",
          "text": [
            "Model: \"sequential\"\n",
            "_________________________________________________________________\n",
            "Layer (type)                 Output Shape              Param #   \n",
            "=================================================================\n",
            "flatten (Flatten)            (None, 784)               0         \n",
            "_________________________________________________________________\n",
            "dense (Dense)                (None, 256)               200960    \n",
            "_________________________________________________________________\n",
            "dense_1 (Dense)              (None, 128)               32896     \n",
            "_________________________________________________________________\n",
            "dense_2 (Dense)              (None, 64)                8256      \n",
            "_________________________________________________________________\n",
            "dense_3 (Dense)              (None, 32)                2080      \n",
            "_________________________________________________________________\n",
            "dense_4 (Dense)              (None, 10)                330       \n",
            "=================================================================\n",
            "Total params: 244,522\n",
            "Trainable params: 244,522\n",
            "Non-trainable params: 0\n",
            "_________________________________________________________________\n"
          ],
          "name": "stdout"
        }
      ]
    },
    {
      "cell_type": "code",
      "metadata": {
        "id": "iZZ9iIoqaCcb",
        "colab_type": "code",
        "colab": {}
      },
      "source": [
        "def create_adversarial_pattern(adverserial_training_images_batch, adverserial_training_labels_batch, perturbation_type=\"multiply\", \n",
        "                               attack_type = \"untargeted\", targeted_attack_images = None, loss_fnc = \"CCE\", lmbda = 0.05, multiply_factor=1000000):\n",
        "  with tf.GradientTape() as tape:\n",
        "    tape.watch(adverserial_training_images_batch)\n",
        "    prediction = mlp_model(adverserial_training_images_batch)\n",
        "\n",
        "    #Two loss functions for targeted and untargeted\n",
        "    if(attack_type == \"untargeted\" and loss_fnc == \"CCE\"):\n",
        "      loss = tf.keras.losses.sparse_categorical_crossentropy(adverserial_training_labels_batch, prediction)\n",
        "    elif(attack_type == \"untargeted\" and loss_fnc == \"MSE\"):\n",
        "      one_hot_test_labels = tf.one_hot(indices = tf.cast(adverserial_training_labels_batch, dtype=tf.dtypes.int64), depth=10)\n",
        "      loss = tf.keras.losses.mean_squared_error(one_hot_test_labels, prediction)\n",
        "    elif(attack_type == \"targeted\" and loss_fnc == \"MSE\"):\n",
        "      one_hot_test_labels = tf.one_hot(indices = tf.cast(adverserial_training_labels_batch, dtype=tf.dtypes.int64), depth=10)\n",
        "      #print(one_hot_test_labels.shape)\n",
        "      #print(prediction.shape)\n",
        "      #print(adverserial_training_images_batch.shape)\n",
        "      #print(targeted_attack_images.shape)\n",
        "      y_loss = lmbda * tf.keras.losses.mean_squared_error(adverserial_training_images_batch, targeted_attack_images)\n",
        "      #print(y_loss.shape)\n",
        "      targeting_image_loss = tf.reduce_sum(y_loss,axis = 1)\n",
        "      #print(targeting_image_loss.shape)\n",
        "      loss = tf.keras.losses.mean_squared_error(one_hot_test_labels, prediction) + targeting_image_loss\n",
        "    else:\n",
        "      print(\"Only two types of attacks are possible untargeted and targeted, you have given {}. Aborting\".format(attack_type))\n",
        "      return [None, None]\n",
        "\n",
        "  # Get the gradients of the loss w.r.t to the input image.\n",
        "  gradient = tape.gradient(loss, adverserial_training_images_batch)\n",
        "  # Get the sign of the gradients to create the perturbation\n",
        "  #signed_grad = tf.sign(gradient)\n",
        "  if(perturbation_type == \"multiply\"):\n",
        "    perturbations = multiply_factor * gradient\n",
        "  elif(perturbation_type == \"unit_vector\"):\n",
        "    z = gradient\n",
        "\n",
        "    #In our implementation we forggot to add a small constant like 1*e-10, if number is less then tf.square will make it nan, hence gradiens will be NaN\n",
        "    norm = tf.sqrt(tf.reduce_sum(tf.square(z), axis=[-1,-2], keepdims=True))\n",
        "    perturbations = z/norm\n",
        "  elif(perturbation_type == \"gradient_sign\"):\n",
        "    perturbations = tf.sign(gradient)\n",
        "  else:\n",
        "    perturbations = gradient\n",
        "  return [gradient, perturbations];"
      ],
      "execution_count": null,
      "outputs": []
    },
    {
      "cell_type": "code",
      "metadata": {
        "id": "nnEOZGJHaCZy",
        "colab_type": "code",
        "colab": {}
      },
      "source": [
        "def untargeted_attack(adverserial_training_images_batch, adverserial_training_labels_batch,  perturbation_type=\"multiply\", index_of_num=2,\n",
        "                      attack_type = \"untargeted\", targeted_attack_images = None, loss_fnc = \"CCE\"):\n",
        "  \n",
        "  plt.figure(figsize=(10,10))\n",
        "  adverserial_training_images_modified_list = []\n",
        "  adverserial_training_predictions_list = []\n",
        "  actual_training_labels_list = []\n",
        "\n",
        "  for i in range(25):\n",
        "    plt.subplot(5,5,i+1)\n",
        "    plt.xticks([])\n",
        "    plt.yticks([])\n",
        "    plt.grid(False)\n",
        "    \n",
        "    #Get the weighted gradient/maximum change of the individual image pixel wrt output prediction. weighted by 0.071\n",
        "    if(i == 0):\n",
        "      gradient, perturbations = create_adversarial_pattern(adverserial_training_images_batch, adverserial_training_labels_batch, perturbation_type, attack_type, loss_fnc=loss_fnc)\n",
        "    else:\n",
        "      gradient, perturbations = create_adversarial_pattern(adverserial_training_images_batch_modified, modified_predictions_2, perturbation_type, attack_type, loss_fnc=loss_fnc)\n",
        "\n",
        "    #Add the gradient instead of subtracting it as we are trying to maximize the loss and moving in opposite direction of convex optimization hill.\n",
        "    adverserial_training_images_batch_modified = tf.add(adverserial_training_images_batch, 1 * perturbations)\n",
        "    \n",
        "\n",
        "    #Get the new predictions for each change\n",
        "    modified_predictions = mlp_model(adverserial_training_images_batch_modified)\n",
        "    modified_predictions_2 =  tf.cast(tf.argmax(modified_predictions, axis=1),  dtype=tf.dtypes.float32)\n",
        "\n",
        "    #append the examples and predictions to list that would be used later to integrate in training loop\n",
        "    adverserial_training_images_modified_list.append(adverserial_training_images_batch_modified)\n",
        "    adverserial_training_predictions_list.append(modified_predictions)\n",
        "    actual_training_labels_list.append(adverserial_training_labels_batch)\n",
        "\n",
        "\n",
        "    #Get the number of correct classifications to monitor misclassifications and see gradual changes\n",
        "    x = tf.equal(adverserial_training_labels_batch, modified_predictions_2)\n",
        "    print(\"Number of correct classifications, prediction of first image and counter are: {}, {} and {}\".format(tf.reduce_sum(tf.cast(x, tf.int32)), modified_predictions_2[index_of_num], i))\n",
        "    #print(\"Prediction of first image is : {}\".format(modified_predictions_2[0]))\n",
        "    plt.imshow(adverserial_training_images_batch_modified[index_of_num], cmap=plt.cm.binary)\n",
        "  \n",
        "  return [adverserial_training_images_modified_list, adverserial_training_predictions_list, actual_training_labels_list];"
      ],
      "execution_count": null,
      "outputs": []
    },
    {
      "cell_type": "code",
      "metadata": {
        "id": "qYXbPcXremOI",
        "colab_type": "code",
        "colab": {
          "base_uri": "https://localhost:8080/",
          "height": 983
        },
        "outputId": "de808f59-d72c-4aa9-c2c3-918b433f5a3d"
      },
      "source": [
        "adverserial_training_images_modified_list, adverserial_training_predictions_list, actual_training_labels_list = untargeted_attack(adverserial_training_images_batch, adverserial_training_labels_batch,  perturbation_type=\"multiply\")"
      ],
      "execution_count": null,
      "outputs": [
        {
          "output_type": "stream",
          "text": [
            "Number of correct classifications, prediction of first image and counter are: 781, 4.0 and 0\n",
            "Number of correct classifications, prediction of first image and counter are: 830, 4.0 and 1\n",
            "Number of correct classifications, prediction of first image and counter are: 804, 4.0 and 2\n",
            "Number of correct classifications, prediction of first image and counter are: 857, 4.0 and 3\n",
            "Number of correct classifications, prediction of first image and counter are: 743, 9.0 and 4\n",
            "Number of correct classifications, prediction of first image and counter are: 921, 4.0 and 5\n",
            "Number of correct classifications, prediction of first image and counter are: 747, 4.0 and 6\n",
            "Number of correct classifications, prediction of first image and counter are: 840, 4.0 and 7\n",
            "Number of correct classifications, prediction of first image and counter are: 825, 4.0 and 8\n",
            "Number of correct classifications, prediction of first image and counter are: 859, 4.0 and 9\n",
            "Number of correct classifications, prediction of first image and counter are: 703, 4.0 and 10\n",
            "Number of correct classifications, prediction of first image and counter are: 968, 9.0 and 11\n",
            "Number of correct classifications, prediction of first image and counter are: 756, 4.0 and 12\n",
            "Number of correct classifications, prediction of first image and counter are: 798, 4.0 and 13\n",
            "Number of correct classifications, prediction of first image and counter are: 826, 4.0 and 14\n",
            "Number of correct classifications, prediction of first image and counter are: 881, 4.0 and 15\n",
            "Number of correct classifications, prediction of first image and counter are: 746, 4.0 and 16\n",
            "Number of correct classifications, prediction of first image and counter are: 906, 4.0 and 17\n",
            "Number of correct classifications, prediction of first image and counter are: 710, 9.0 and 18\n",
            "Number of correct classifications, prediction of first image and counter are: 872, 4.0 and 19\n",
            "Number of correct classifications, prediction of first image and counter are: 851, 4.0 and 20\n",
            "Number of correct classifications, prediction of first image and counter are: 851, 4.0 and 21\n",
            "Number of correct classifications, prediction of first image and counter are: 679, 4.0 and 22\n",
            "Number of correct classifications, prediction of first image and counter are: 951, 4.0 and 23\n",
            "Number of correct classifications, prediction of first image and counter are: 788, 4.0 and 24\n"
          ],
          "name": "stdout"
        },
        {
          "output_type": "display_data",
          "data": {
            "image/png": "[encoded data removed]",
            "text/plain": [
              "<Figure size 720x720 with 25 Axes>"
            ]
          },
          "metadata": {
            "tags": []
          }
        }
      ]
    },
    {
      "cell_type": "code",
      "metadata": {
        "id": "XBt9ajsAuyFf",
        "colab_type": "code",
        "colab": {
          "base_uri": "https://localhost:8080/",
          "height": 983
        },
        "outputId": "28174e6e-e9fb-4a07-aced-8e2a05492b81"
      },
      "source": [
        "complete_adverserial_training_images_modified_list, complete_adverserial_training_predictions_list, complete_actual_training_labels_list = untargeted_attack(complete_training_images, complete_training_labels,  perturbation_type=\"multiply\")"
      ],
      "execution_count": null,
      "outputs": [
        {
          "output_type": "stream",
          "text": [
            "Number of correct classifications, prediction of first image and counter are: 46074, 4.0 and 0\n",
            "Number of correct classifications, prediction of first image and counter are: 47917, 4.0 and 1\n",
            "Number of correct classifications, prediction of first image and counter are: 46995, 4.0 and 2\n",
            "Number of correct classifications, prediction of first image and counter are: 50053, 4.0 and 3\n",
            "Number of correct classifications, prediction of first image and counter are: 43564, 9.0 and 4\n",
            "Number of correct classifications, prediction of first image and counter are: 53310, 4.0 and 5\n",
            "Number of correct classifications, prediction of first image and counter are: 43548, 4.0 and 6\n",
            "Number of correct classifications, prediction of first image and counter are: 48799, 4.0 and 7\n",
            "Number of correct classifications, prediction of first image and counter are: 48841, 4.0 and 8\n",
            "Number of correct classifications, prediction of first image and counter are: 49487, 4.0 and 9\n",
            "Number of correct classifications, prediction of first image and counter are: 40670, 4.0 and 10\n",
            "Number of correct classifications, prediction of first image and counter are: 56295, 9.0 and 11\n",
            "Number of correct classifications, prediction of first image and counter are: 44678, 4.0 and 12\n",
            "Number of correct classifications, prediction of first image and counter are: 45876, 4.0 and 13\n",
            "Number of correct classifications, prediction of first image and counter are: 48261, 4.0 and 14\n",
            "Number of correct classifications, prediction of first image and counter are: 51296, 4.0 and 15\n",
            "Number of correct classifications, prediction of first image and counter are: 43305, 4.0 and 16\n",
            "Number of correct classifications, prediction of first image and counter are: 53231, 4.0 and 17\n",
            "Number of correct classifications, prediction of first image and counter are: 41411, 9.0 and 18\n",
            "Number of correct classifications, prediction of first image and counter are: 50075, 4.0 and 19\n",
            "Number of correct classifications, prediction of first image and counter are: 50632, 4.0 and 20\n",
            "Number of correct classifications, prediction of first image and counter are: 48863, 4.0 and 21\n",
            "Number of correct classifications, prediction of first image and counter are: 39195, 4.0 and 22\n",
            "Number of correct classifications, prediction of first image and counter are: 55331, 4.0 and 23\n",
            "Number of correct classifications, prediction of first image and counter are: 46803, 4.0 and 24\n"
          ],
          "name": "stdout"
        },
        {
          "output_type": "display_data",
          "data": {
            "image/png": "[encoded data removed]",
            "text/plain": [
              "<Figure size 720x720 with 25 Axes>"
            ]
          },
          "metadata": {
            "tags": []
          }
        }
      ]
    },
    {
      "cell_type": "code",
      "metadata": {
        "id": "HN3040bGemTX",
        "colab_type": "code",
        "colab": {}
      },
      "source": [
        "def compile_mlp_model(model,loss=\"CCE\", metrics=[\"accuracy\"], optimizer = \"adam\"):\n",
        "  if(loss == \"MAE\"):\n",
        "    model.compile(optimizer=optimizer, loss=tf.keras.losses.MAE, metrics=metrics)\n",
        "  elif (loss == \"MSQE\"):\n",
        "    model.compile(optimizer=optimizer, loss=tf.keras.losses.mean_squared_error, metrics=metrics)\n",
        "  elif (loss == \"BCE\"):\n",
        "    model.compile(optimizer=optimizer, loss=tf.keras.losses.binary_crossentropy, metrics=metrics)\n",
        "  elif(loss == \"CCE\"):\n",
        "    model.compile(optimizer=optimizer, loss=tf.keras.losses.sparse_categorical_crossentropy, metrics=metrics)"
      ],
      "execution_count": null,
      "outputs": []
    },
    {
      "cell_type": "code",
      "metadata": {
        "id": "Bdvw1LnQemZm",
        "colab_type": "code",
        "colab": {}
      },
      "source": [
        "compile_mlp_model(mlp_model,loss=\"CCE\")"
      ],
      "execution_count": null,
      "outputs": []
    },
    {
      "cell_type": "code",
      "metadata": {
        "id": "Y2Mh-90msEXP",
        "colab_type": "code",
        "colab": {}
      },
      "source": [
        "def adverserial_test_loop(adverserial_training_images_modified_list, actual_training_labels_list, test_images, test_labels, training_loops_lst= [3,4,5,6,10,11,12,13], epochs=3):\n",
        "  for i in training_loops_lst:\n",
        "    print(\"Starting loop for index: {}\".format(i))\n",
        "    mlp_model.fit(adverserial_training_images_modified_list[i], actual_training_labels_list[i],  epochs=epochs, batch_size=32, validation_data= (test_images, test_labels))\n",
        "  \n",
        "    "
      ],
      "execution_count": null,
      "outputs": []
    },
    {
      "cell_type": "code",
      "metadata": {
        "id": "7NxtiPpziwBo",
        "colab_type": "code",
        "colab": {
          "base_uri": "https://localhost:8080/",
          "height": 927
        },
        "outputId": "09869ce6-0a09-4a3b-dc5e-b1eaa3e11292"
      },
      "source": [
        "adverserial_test_loop(complete_adverserial_training_images_modified_list, complete_actual_training_labels_list,  test_images, test_labels, epochs=3)"
      ],
      "execution_count": null,
      "outputs": [
        {
          "output_type": "stream",
          "text": [
            "Starting loop for index: 3\n",
            "Epoch 1/3\n",
            "1875/1875 [==============================] - 6s 3ms/step - loss: 0.9732 - accuracy: 0.8347 - val_loss: 0.1893 - val_accuracy: 0.9494\n",
            "Epoch 2/3\n",
            "1875/1875 [==============================] - 6s 3ms/step - loss: 0.3681 - accuracy: 0.8824 - val_loss: 0.1723 - val_accuracy: 0.9531\n",
            "Epoch 3/3\n",
            "1875/1875 [==============================] - 6s 3ms/step - loss: 0.2927 - accuracy: 0.9036 - val_loss: 0.1554 - val_accuracy: 0.9527\n",
            "Starting loop for index: 4\n",
            "Epoch 1/3\n",
            "1875/1875 [==============================] - 6s 3ms/step - loss: 0.5819 - accuracy: 0.7982 - val_loss: 0.2539 - val_accuracy: 0.9232\n",
            "Epoch 2/3\n",
            "1875/1875 [==============================] - 6s 3ms/step - loss: 0.5329 - accuracy: 0.8076 - val_loss: 0.1920 - val_accuracy: 0.9554\n",
            "Epoch 3/3\n",
            "1875/1875 [==============================] - 6s 3ms/step - loss: 0.5291 - accuracy: 0.8131 - val_loss: 0.2494 - val_accuracy: 0.9403\n",
            "Starting loop for index: 5\n",
            "Epoch 1/3\n",
            "1875/1875 [==============================] - 6s 3ms/step - loss: 0.2034 - accuracy: 0.9391 - val_loss: 0.1122 - val_accuracy: 0.9690\n",
            "Epoch 2/3\n",
            "1875/1875 [==============================] - 6s 3ms/step - loss: 0.1676 - accuracy: 0.9471 - val_loss: 0.1281 - val_accuracy: 0.9690\n",
            "Epoch 3/3\n",
            "1875/1875 [==============================] - 6s 3ms/step - loss: 0.1563 - accuracy: 0.9513 - val_loss: 0.1091 - val_accuracy: 0.9711\n",
            "Starting loop for index: 6\n",
            "Epoch 1/3\n",
            "1875/1875 [==============================] - 6s 3ms/step - loss: 0.3969 - accuracy: 0.8594 - val_loss: 0.1399 - val_accuracy: 0.9658\n",
            "Epoch 2/3\n",
            "1875/1875 [==============================] - 6s 3ms/step - loss: 0.3829 - accuracy: 0.8669 - val_loss: 0.1470 - val_accuracy: 0.9660\n",
            "Epoch 3/3\n",
            "1875/1875 [==============================] - 6s 3ms/step - loss: 0.3811 - accuracy: 0.8683 - val_loss: 0.1399 - val_accuracy: 0.9662\n",
            "Starting loop for index: 10\n",
            "Epoch 1/3\n",
            "1875/1875 [==============================] - 6s 3ms/step - loss: 0.6079 - accuracy: 0.7800 - val_loss: 0.1551 - val_accuracy: 0.9648\n",
            "Epoch 2/3\n",
            "1875/1875 [==============================] - 6s 3ms/step - loss: 0.5971 - accuracy: 0.7848 - val_loss: 0.1621 - val_accuracy: 0.9637\n",
            "Epoch 3/3\n",
            "1875/1875 [==============================] - 7s 4ms/step - loss: 0.5852 - accuracy: 0.7898 - val_loss: 0.2027 - val_accuracy: 0.9616\n",
            "Starting loop for index: 11\n",
            "Epoch 1/3\n",
            "1875/1875 [==============================] - 7s 4ms/step - loss: 0.1362 - accuracy: 0.9646 - val_loss: 0.0993 - val_accuracy: 0.9732\n",
            "Epoch 2/3\n",
            "1875/1875 [==============================] - 6s 3ms/step - loss: 0.0938 - accuracy: 0.9731 - val_loss: 0.1099 - val_accuracy: 0.9723\n",
            "Epoch 3/3\n",
            "1875/1875 [==============================] - 6s 3ms/step - loss: 0.0925 - accuracy: 0.9747 - val_loss: 0.1320 - val_accuracy: 0.9701\n",
            "Starting loop for index: 12\n",
            "Epoch 1/3\n",
            "1875/1875 [==============================] - 6s 3ms/step - loss: 0.2570 - accuracy: 0.9151 - val_loss: 0.1639 - val_accuracy: 0.9659\n",
            "Epoch 2/3\n",
            "1875/1875 [==============================] - 6s 3ms/step - loss: 0.2426 - accuracy: 0.9178 - val_loss: 0.2033 - val_accuracy: 0.9688\n",
            "Epoch 3/3\n",
            "1875/1875 [==============================] - 6s 3ms/step - loss: 0.2497 - accuracy: 0.9151 - val_loss: 0.1388 - val_accuracy: 0.9727\n",
            "Starting loop for index: 13\n",
            "Epoch 1/3\n",
            "1875/1875 [==============================] - 6s 3ms/step - loss: 0.4271 - accuracy: 0.8529 - val_loss: 0.1106 - val_accuracy: 0.9728\n",
            "Epoch 2/3\n",
            "1875/1875 [==============================] - 6s 3ms/step - loss: 0.3920 - accuracy: 0.8637 - val_loss: 0.1378 - val_accuracy: 0.9752\n",
            "Epoch 3/3\n",
            "1875/1875 [==============================] - 6s 3ms/step - loss: 0.3810 - accuracy: 0.8683 - val_loss: 0.1255 - val_accuracy: 0.9735\n"
          ],
          "name": "stdout"
        }
      ]
    },
    {
      "cell_type": "code",
      "metadata": {
        "id": "aG3FfzOW1JNA",
        "colab_type": "code",
        "colab": {
          "base_uri": "https://localhost:8080/",
          "height": 102
        },
        "outputId": "4ba2aa96-f54d-4bad-a639-27a2f8a80843"
      },
      "source": [
        "mlp_model.save(\"/content/mlp_model_2\")"
      ],
      "execution_count": null,
      "outputs": [
        {
          "output_type": "stream",
          "text": [
            "WARNING:tensorflow:From /usr/local/lib/python3.6/dist-packages/tensorflow/python/ops/resource_variable_ops.py:1817: calling BaseResourceVariable.__init__ (from tensorflow.python.ops.resource_variable_ops) with constraint is deprecated and will be removed in a future version.\n",
            "Instructions for updating:\n",
            "If using Keras pass *_constraint arguments to layers.\n",
            "INFO:tensorflow:Assets written to: /content/mlp_model_2/assets\n"
          ],
          "name": "stdout"
        }
      ]
    },
    {
      "cell_type": "code",
      "metadata": {
        "id": "fBQvEcxH1aL3",
        "colab_type": "code",
        "colab": {
          "base_uri": "https://localhost:8080/"
        },
        "outputId": "0a98a29a-8cdd-4d9a-fa35-357a8e777af2"
      },
      "source": [
        "!zip -r \"/content/mlp_model_2.zip\" \"/content/mlp_model_2\""
      ],
      "execution_count": null,
      "outputs": [
        {
          "output_type": "stream",
          "text": [
            "  adding: content/mlp_model_2/ (stored 0%)\n",
            "  adding: content/mlp_model_2/saved_model.pb (deflated 89%)\n",
            "  adding: content/mlp_model_2/variables/ (stored 0%)\n",
            "  adding: content/mlp_model_2/variables/variables.data-00000-of-00002 (deflated 81%)\n",
            "  adding: content/mlp_model_2/variables/variables.index (deflated 66%)\n",
            "  adding: content/mlp_model_2/variables/variables.data-00001-of-00002 (deflated 8%)\n",
            "  adding: content/mlp_model_2/assets/ (stored 0%)\n"
          ],
          "name": "stdout"
        }
      ]
    },
    {
      "cell_type": "code",
      "metadata": {
        "id": "pCqw4ZgbiwiL",
        "colab_type": "code",
        "colab": {
          "base_uri": "https://localhost:8080/"
        },
        "outputId": "2db1ce38-0c84-4d21-fb75-e0ca7cdb76ac"
      },
      "source": [
        "complete_adverserial_testing_images_modified_list, complete_adverserial_testing_predictions_list, complete_actual_testing_labels_list = untargeted_attack( complete_test_images, complete_test_labels,  index_of_num=17,perturbation_type=\"multiply\")"
      ],
      "execution_count": null,
      "outputs": [
        {
          "output_type": "stream",
          "text": [
            "Number of correct classifications, prediction of first image and counter are: 7675, 7.0 and 0\n",
            "Number of correct classifications, prediction of first image and counter are: 7800, 7.0 and 1\n",
            "Number of correct classifications, prediction of first image and counter are: 7803, 3.0 and 2\n",
            "Number of correct classifications, prediction of first image and counter are: 8259, 8.0 and 3\n",
            "Number of correct classifications, prediction of first image and counter are: 7106, 7.0 and 4\n",
            "Number of correct classifications, prediction of first image and counter are: 8799, 7.0 and 5\n",
            "Number of correct classifications, prediction of first image and counter are: 7156, 7.0 and 6\n",
            "Number of correct classifications, prediction of first image and counter are: 8000, 3.0 and 7\n",
            "Number of correct classifications, prediction of first image and counter are: 8125, 8.0 and 8\n",
            "Number of correct classifications, prediction of first image and counter are: 8149, 7.0 and 9\n",
            "Number of correct classifications, prediction of first image and counter are: 6608, 7.0 and 10\n",
            "Number of correct classifications, prediction of first image and counter are: 9336, 7.0 and 11\n",
            "Number of correct classifications, prediction of first image and counter are: 7366, 3.0 and 12\n",
            "Number of correct classifications, prediction of first image and counter are: 7461, 8.0 and 13\n",
            "Number of correct classifications, prediction of first image and counter are: 8006, 7.0 and 14\n",
            "Number of correct classifications, prediction of first image and counter are: 8455, 7.0 and 15\n",
            "Number of correct classifications, prediction of first image and counter are: 7081, 7.0 and 16\n",
            "Number of correct classifications, prediction of first image and counter are: 8815, 3.0 and 17\n",
            "Number of correct classifications, prediction of first image and counter are: 6801, 8.0 and 18\n",
            "Number of correct classifications, prediction of first image and counter are: 8178, 7.0 and 19\n",
            "Number of correct classifications, prediction of first image and counter are: 8439, 7.0 and 20\n",
            "Number of correct classifications, prediction of first image and counter are: 8020, 7.0 and 21\n",
            "Number of correct classifications, prediction of first image and counter are: 6326, 3.0 and 22\n",
            "Number of correct classifications, prediction of first image and counter are: 9180, 8.0 and 23\n",
            "Number of correct classifications, prediction of first image and counter are: 7762, 7.0 and 24\n"
          ],
          "name": "stdout"
        },
        {
          "output_type": "display_data",
          "data": {
            "image/png": "[encoded data removed]",
            "text/plain": [
              "<Figure size 720x720 with 25 Axes>"
            ]
          },
          "metadata": {
            "tags": []
          }
        }
      ]
    },
    {
      "cell_type": "code",
      "metadata": {
        "id": "dI3iZfW94Tam",
        "colab_type": "code",
        "colab": {}
      },
      "source": [
        "targeted_attack_images = tf.repeat(tf.expand_dims(adverserial_training_images_batch[25, :, :], axis = 0), repeats=60000, axis=0, name=None)"
      ],
      "execution_count": null,
      "outputs": []
    },
    {
      "cell_type": "code",
      "metadata": {
        "id": "ltJnNpmriwmx",
        "colab_type": "code",
        "colab": {}
      },
      "source": [
        "def targeted_attack(adverserial_training_images_batch, adverserial_training_labels_batch,  perturbation_type=\"multiply\", index_of_num=2,\n",
        "                     attack_type = \"targeted\", targeted_attack_images = targeted_attack_images, loss_fnc = \"CCE\", lmbda = 0.05, multiply_factor= 100000):\n",
        "\n",
        "  plt.figure(figsize=(10,10))\n",
        "  adverserial_training_images_modified_list = []\n",
        "  adverserial_training_predictions_list = []\n",
        "  actual_training_labels_list = []\n",
        "  for i in range(25):\n",
        "    plt.subplot(5,5,i+1)\n",
        "    plt.xticks([])\n",
        "    plt.yticks([])\n",
        "    plt.grid(False)\n",
        "    \n",
        "    #Get the weighted gradient/maximum change of the individual image pixel wrt output prediction. weighted by 0.071\n",
        "    if(i == 0):\n",
        "      gradient, perturbations = create_adversarial_pattern(adverserial_training_images_batch, adverserial_training_labels_batch, perturbation_type, attack_type = \"targeted\", targeted_attack_images = targeted_attack_images, loss_fnc = \"MSE\", lmbda=lmbda, multiply_factor= multiply_factor)\n",
        "    else:\n",
        "      gradient, perturbations = create_adversarial_pattern(adverserial_training_images_batch_modified, modified_predictions_2, perturbation_type, attack_type = \"targeted\", targeted_attack_images = targeted_attack_images, loss_fnc = \"MSE\", lmbda = lmbda, multiply_factor=multiply_factor)\n",
        "\n",
        "    #Add the gradient instead of subtracting it as we are trying to maximize the loss and moving in opposite direction of convex optimization hill.\n",
        "    adverserial_training_images_batch_modified = tf.subtract(adverserial_training_images_batch, 1 * perturbations)\n",
        "\n",
        "    #Get the new predictions for each change\n",
        "    modified_predictions = mlp_model(adverserial_training_images_batch_modified)\n",
        "    modified_predictions_2 =  tf.cast(tf.argmax(modified_predictions, axis=1),  dtype=tf.dtypes.float32)\n",
        "\n",
        "    adverserial_training_images_modified_list.append(adverserial_training_images_batch_modified)\n",
        "    adverserial_training_predictions_list.append(modified_predictions)\n",
        "    actual_training_labels_list.append(adverserial_training_labels_batch)\n",
        "    #Get the number of correct classifications to monitor misclassifications and see gradual changes\n",
        "    x = tf.equal(adverserial_training_labels_batch, modified_predictions_2)\n",
        "    print(\"Number of correct classifications, prediction of first image and counter are: {}, {} and {}\".format(tf.reduce_sum(tf.cast(x, tf.int32)), modified_predictions_2[index_of_num], i))\n",
        "    #print(\"Prediction of first image is : {}\".format(modified_predictions_2[0]))\n",
        "    plt.imshow(adverserial_training_images_batch_modified[index_of_num], cmap=plt.cm.binary)\n",
        "  \n",
        "  return [adverserial_training_images_modified_list, adverserial_training_predictions_list, actual_training_labels_list];"
      ],
      "execution_count": null,
      "outputs": []
    },
    {
      "cell_type": "markdown",
      "metadata": {
        "id": "0tnqSHU28fSx",
        "colab_type": "text"
      },
      "source": [
        "We can see that from targeted adverserial example, the source image 5 is being morphed to target image 2, but interestingky we don't get 2 as output in most cases. But still we won't get 5 too, we are getting 8. This does tell us that one type of adverserial example will partially succeed in breaking model which is trained on another type of adverserial example"
      ]
    },
    {
      "cell_type": "code",
      "metadata": {
        "id": "yUPLjYN92t9i",
        "colab_type": "code",
        "colab": {
          "base_uri": "https://localhost:8080/"
        },
        "outputId": "297b494b-2fa6-4202-fc8f-e19b82636779"
      },
      "source": [
        "at1, al1, aal1 = targeted_attack(complete_training_images, complete_training_labels,  perturbation_type=\"multiply\", index_of_num=100, lmbda=0.9, multiply_factor=10)"
      ],
      "execution_count": null,
      "outputs": [
        {
          "output_type": "stream",
          "text": [
            "Number of correct classifications, prediction of first image and counter are: 13059, 2.0 and 0\n",
            "Number of correct classifications, prediction of first image and counter are: 41455, 8.0 and 1\n",
            "Number of correct classifications, prediction of first image and counter are: 17615, 2.0 and 2\n",
            "Number of correct classifications, prediction of first image and counter are: 27958, 8.0 and 3\n",
            "Number of correct classifications, prediction of first image and counter are: 20255, 8.0 and 4\n",
            "Number of correct classifications, prediction of first image and counter are: 24553, 8.0 and 5\n",
            "Number of correct classifications, prediction of first image and counter are: 21613, 8.0 and 6\n",
            "Number of correct classifications, prediction of first image and counter are: 23398, 8.0 and 7\n",
            "Number of correct classifications, prediction of first image and counter are: 22188, 8.0 and 8\n",
            "Number of correct classifications, prediction of first image and counter are: 22954, 8.0 and 9\n",
            "Number of correct classifications, prediction of first image and counter are: 22487, 8.0 and 10\n",
            "Number of correct classifications, prediction of first image and counter are: 22795, 8.0 and 11\n",
            "Number of correct classifications, prediction of first image and counter are: 22614, 8.0 and 12\n",
            "Number of correct classifications, prediction of first image and counter are: 22736, 8.0 and 13\n",
            "Number of correct classifications, prediction of first image and counter are: 22668, 8.0 and 14\n",
            "Number of correct classifications, prediction of first image and counter are: 22705, 8.0 and 15\n"
          ],
          "name": "stdout"
        },
        {
          "output_type": "error",
          "ename": "ResourceExhaustedError",
          "evalue": "ignored",
          "traceback": [
            "\u001b[0;31m---------------------------------------------------------------------------\u001b[0m",
            "\u001b[0;31mResourceExhaustedError\u001b[0m                    Traceback (most recent call last)",
            "\u001b[0;32m<ipython-input-41-63f952fd1864>\u001b[0m in \u001b[0;36m<module>\u001b[0;34m()\u001b[0m\n\u001b[0;32m----> 1\u001b[0;31m \u001b[0mat1\u001b[0m\u001b[0;34m,\u001b[0m \u001b[0mal1\u001b[0m\u001b[0;34m,\u001b[0m \u001b[0maal1\u001b[0m \u001b[0;34m=\u001b[0m \u001b[0mtargeted_attack\u001b[0m\u001b[0;34m(\u001b[0m\u001b[0mcomplete_training_images\u001b[0m\u001b[0;34m,\u001b[0m \u001b[0mcomplete_training_labels\u001b[0m\u001b[0;34m,\u001b[0m  \u001b[0mperturbation_type\u001b[0m\u001b[0;34m=\u001b[0m\u001b[0;34m\"multiply\"\u001b[0m\u001b[0;34m,\u001b[0m \u001b[0mindex_of_num\u001b[0m\u001b[0;34m=\u001b[0m\u001b[0;36m100\u001b[0m\u001b[0;34m,\u001b[0m \u001b[0mlmbda\u001b[0m\u001b[0;34m=\u001b[0m\u001b[0;36m0.9\u001b[0m\u001b[0;34m,\u001b[0m \u001b[0mmultiply_factor\u001b[0m\u001b[0;34m=\u001b[0m\u001b[0;36m10\u001b[0m\u001b[0;34m)\u001b[0m\u001b[0;34m\u001b[0m\u001b[0;34m\u001b[0m\u001b[0m\n\u001b[0m",
            "\u001b[0;32m<ipython-input-39-5ac067795674>\u001b[0m in \u001b[0;36mtargeted_attack\u001b[0;34m(adverserial_training_images_batch, adverserial_training_labels_batch, perturbation_type, index_of_num, attack_type, targeted_attack_images, loss_fnc, lmbda, multiply_factor)\u001b[0m\n\u001b[1;32m     16\u001b[0m       \u001b[0mgradient\u001b[0m\u001b[0;34m,\u001b[0m \u001b[0mperturbations\u001b[0m \u001b[0;34m=\u001b[0m \u001b[0mcreate_adversarial_pattern\u001b[0m\u001b[0;34m(\u001b[0m\u001b[0madverserial_training_images_batch\u001b[0m\u001b[0;34m,\u001b[0m \u001b[0madverserial_training_labels_batch\u001b[0m\u001b[0;34m,\u001b[0m \u001b[0mperturbation_type\u001b[0m\u001b[0;34m,\u001b[0m \u001b[0mattack_type\u001b[0m \u001b[0;34m=\u001b[0m \u001b[0;34m\"targeted\"\u001b[0m\u001b[0;34m,\u001b[0m \u001b[0mtargeted_attack_images\u001b[0m \u001b[0;34m=\u001b[0m \u001b[0mtargeted_attack_images\u001b[0m\u001b[0;34m,\u001b[0m \u001b[0mloss_fnc\u001b[0m \u001b[0;34m=\u001b[0m \u001b[0;34m\"MSE\"\u001b[0m\u001b[0;34m,\u001b[0m \u001b[0mlmbda\u001b[0m\u001b[0;34m=\u001b[0m\u001b[0mlmbda\u001b[0m\u001b[0;34m,\u001b[0m \u001b[0mmultiply_factor\u001b[0m\u001b[0;34m=\u001b[0m \u001b[0mmultiply_factor\u001b[0m\u001b[0;34m)\u001b[0m\u001b[0;34m\u001b[0m\u001b[0;34m\u001b[0m\u001b[0m\n\u001b[1;32m     17\u001b[0m     \u001b[0;32melse\u001b[0m\u001b[0;34m:\u001b[0m\u001b[0;34m\u001b[0m\u001b[0;34m\u001b[0m\u001b[0m\n\u001b[0;32m---> 18\u001b[0;31m       \u001b[0mgradient\u001b[0m\u001b[0;34m,\u001b[0m \u001b[0mperturbations\u001b[0m \u001b[0;34m=\u001b[0m \u001b[0mcreate_adversarial_pattern\u001b[0m\u001b[0;34m(\u001b[0m\u001b[0madverserial_training_images_batch_modified\u001b[0m\u001b[0;34m,\u001b[0m \u001b[0mmodified_predictions_2\u001b[0m\u001b[0;34m,\u001b[0m \u001b[0mperturbation_type\u001b[0m\u001b[0;34m,\u001b[0m \u001b[0mattack_type\u001b[0m \u001b[0;34m=\u001b[0m \u001b[0;34m\"targeted\"\u001b[0m\u001b[0;34m,\u001b[0m \u001b[0mtargeted_attack_images\u001b[0m \u001b[0;34m=\u001b[0m \u001b[0mtargeted_attack_images\u001b[0m\u001b[0;34m,\u001b[0m \u001b[0mloss_fnc\u001b[0m \u001b[0;34m=\u001b[0m \u001b[0;34m\"MSE\"\u001b[0m\u001b[0;34m,\u001b[0m \u001b[0mlmbda\u001b[0m \u001b[0;34m=\u001b[0m \u001b[0mlmbda\u001b[0m\u001b[0;34m,\u001b[0m \u001b[0mmultiply_factor\u001b[0m\u001b[0;34m=\u001b[0m\u001b[0mmultiply_factor\u001b[0m\u001b[0;34m)\u001b[0m\u001b[0;34m\u001b[0m\u001b[0;34m\u001b[0m\u001b[0m\n\u001b[0m\u001b[1;32m     19\u001b[0m \u001b[0;34m\u001b[0m\u001b[0m\n\u001b[1;32m     20\u001b[0m     \u001b[0;31m#Add the gradient instead of subtracting it as we are trying to maximize the loss and moving in opposite direction of convex optimization hill.\u001b[0m\u001b[0;34m\u001b[0m\u001b[0;34m\u001b[0m\u001b[0;34m\u001b[0m\u001b[0m\n",
            "\u001b[0;32m<ipython-input-11-51daa8aff7c3>\u001b[0m in \u001b[0;36mcreate_adversarial_pattern\u001b[0;34m(adverserial_training_images_batch, adverserial_training_labels_batch, perturbation_type, attack_type, targeted_attack_images, loss_fnc, lmbda, multiply_factor)\u001b[0m\n\u001b[1;32m     27\u001b[0m \u001b[0;34m\u001b[0m\u001b[0m\n\u001b[1;32m     28\u001b[0m   \u001b[0;31m# Get the gradients of the loss w.r.t to the input image.\u001b[0m\u001b[0;34m\u001b[0m\u001b[0;34m\u001b[0m\u001b[0;34m\u001b[0m\u001b[0m\n\u001b[0;32m---> 29\u001b[0;31m   \u001b[0mgradient\u001b[0m \u001b[0;34m=\u001b[0m \u001b[0mtape\u001b[0m\u001b[0;34m.\u001b[0m\u001b[0mgradient\u001b[0m\u001b[0;34m(\u001b[0m\u001b[0mloss\u001b[0m\u001b[0;34m,\u001b[0m \u001b[0madverserial_training_images_batch\u001b[0m\u001b[0;34m)\u001b[0m\u001b[0;34m\u001b[0m\u001b[0;34m\u001b[0m\u001b[0m\n\u001b[0m\u001b[1;32m     30\u001b[0m   \u001b[0;31m# Get the sign of the gradients to create the perturbation\u001b[0m\u001b[0;34m\u001b[0m\u001b[0;34m\u001b[0m\u001b[0;34m\u001b[0m\u001b[0m\n\u001b[1;32m     31\u001b[0m   \u001b[0;31m#signed_grad = tf.sign(gradient)\u001b[0m\u001b[0;34m\u001b[0m\u001b[0;34m\u001b[0m\u001b[0;34m\u001b[0m\u001b[0m\n",
            "\u001b[0;32m/usr/local/lib/python3.6/dist-packages/tensorflow/python/eager/backprop.py\u001b[0m in \u001b[0;36mgradient\u001b[0;34m(self, target, sources, output_gradients, unconnected_gradients)\u001b[0m\n\u001b[1;32m   1046\u001b[0m         \u001b[0moutput_gradients\u001b[0m\u001b[0;34m=\u001b[0m\u001b[0moutput_gradients\u001b[0m\u001b[0;34m,\u001b[0m\u001b[0;34m\u001b[0m\u001b[0;34m\u001b[0m\u001b[0m\n\u001b[1;32m   1047\u001b[0m         \u001b[0msources_raw\u001b[0m\u001b[0;34m=\u001b[0m\u001b[0mflat_sources_raw\u001b[0m\u001b[0;34m,\u001b[0m\u001b[0;34m\u001b[0m\u001b[0;34m\u001b[0m\u001b[0m\n\u001b[0;32m-> 1048\u001b[0;31m         unconnected_gradients=unconnected_gradients)\n\u001b[0m\u001b[1;32m   1049\u001b[0m \u001b[0;34m\u001b[0m\u001b[0m\n\u001b[1;32m   1050\u001b[0m     \u001b[0;32mif\u001b[0m \u001b[0;32mnot\u001b[0m \u001b[0mself\u001b[0m\u001b[0;34m.\u001b[0m\u001b[0m_persistent\u001b[0m\u001b[0;34m:\u001b[0m\u001b[0;34m\u001b[0m\u001b[0;34m\u001b[0m\u001b[0m\n",
            "\u001b[0;32m/usr/local/lib/python3.6/dist-packages/tensorflow/python/eager/imperative_grad.py\u001b[0m in \u001b[0;36mimperative_grad\u001b[0;34m(tape, target, sources, output_gradients, sources_raw, unconnected_gradients)\u001b[0m\n\u001b[1;32m     75\u001b[0m       \u001b[0moutput_gradients\u001b[0m\u001b[0;34m,\u001b[0m\u001b[0;34m\u001b[0m\u001b[0;34m\u001b[0m\u001b[0m\n\u001b[1;32m     76\u001b[0m       \u001b[0msources_raw\u001b[0m\u001b[0;34m,\u001b[0m\u001b[0;34m\u001b[0m\u001b[0;34m\u001b[0m\u001b[0m\n\u001b[0;32m---> 77\u001b[0;31m       compat.as_str(unconnected_gradients.value))\n\u001b[0m",
            "\u001b[0;32m/usr/local/lib/python3.6/dist-packages/tensorflow/python/eager/backprop.py\u001b[0m in \u001b[0;36m_gradient_function\u001b[0;34m(op_name, attr_tuple, num_inputs, inputs, outputs, out_grads, skip_input_indices, forward_pass_name_scope)\u001b[0m\n\u001b[1;32m    155\u001b[0m       \u001b[0mgradient_name_scope\u001b[0m \u001b[0;34m=\u001b[0m \u001b[0;34m\"gradient_tape/\"\u001b[0m\u001b[0;34m\u001b[0m\u001b[0;34m\u001b[0m\u001b[0m\n\u001b[1;32m    156\u001b[0m     \u001b[0;32mwith\u001b[0m \u001b[0mops\u001b[0m\u001b[0;34m.\u001b[0m\u001b[0mname_scope\u001b[0m\u001b[0;34m(\u001b[0m\u001b[0mgradient_name_scope\u001b[0m\u001b[0;34m)\u001b[0m\u001b[0;34m:\u001b[0m\u001b[0;34m\u001b[0m\u001b[0;34m\u001b[0m\u001b[0m\n\u001b[0;32m--> 157\u001b[0;31m       \u001b[0;32mreturn\u001b[0m \u001b[0mgrad_fn\u001b[0m\u001b[0;34m(\u001b[0m\u001b[0mmock_op\u001b[0m\u001b[0;34m,\u001b[0m \u001b[0;34m*\u001b[0m\u001b[0mout_grads\u001b[0m\u001b[0;34m)\u001b[0m\u001b[0;34m\u001b[0m\u001b[0;34m\u001b[0m\u001b[0m\n\u001b[0m\u001b[1;32m    158\u001b[0m   \u001b[0;32melse\u001b[0m\u001b[0;34m:\u001b[0m\u001b[0;34m\u001b[0m\u001b[0;34m\u001b[0m\u001b[0m\n\u001b[1;32m    159\u001b[0m     \u001b[0;32mreturn\u001b[0m \u001b[0mgrad_fn\u001b[0m\u001b[0;34m(\u001b[0m\u001b[0mmock_op\u001b[0m\u001b[0;34m,\u001b[0m \u001b[0;34m*\u001b[0m\u001b[0mout_grads\u001b[0m\u001b[0;34m)\u001b[0m\u001b[0;34m\u001b[0m\u001b[0;34m\u001b[0m\u001b[0m\n",
            "\u001b[0;32m/usr/local/lib/python3.6/dist-packages/tensorflow/python/ops/math_grad.py\u001b[0m in \u001b[0;36m_SquaredDifferenceGrad\u001b[0;34m(op, grad)\u001b[0m\n\u001b[1;32m   1563\u001b[0m     \u001b[0;31m# The parens ensure that if grad is IndexedSlices, it'll get multiplied by\u001b[0m\u001b[0;34m\u001b[0m\u001b[0;34m\u001b[0m\u001b[0;34m\u001b[0m\u001b[0m\n\u001b[1;32m   1564\u001b[0m     \u001b[0;31m# Tensor (not a number like 2.0) which causes it to convert to Tensor.\u001b[0m\u001b[0;34m\u001b[0m\u001b[0;34m\u001b[0m\u001b[0;34m\u001b[0m\u001b[0m\n\u001b[0;32m-> 1565\u001b[0;31m     \u001b[0mx_grad\u001b[0m \u001b[0;34m=\u001b[0m \u001b[0mmath_ops\u001b[0m\u001b[0;34m.\u001b[0m\u001b[0mscalar_mul\u001b[0m\u001b[0;34m(\u001b[0m\u001b[0;36m2.0\u001b[0m\u001b[0;34m,\u001b[0m \u001b[0mgrad\u001b[0m\u001b[0;34m)\u001b[0m \u001b[0;34m*\u001b[0m \u001b[0;34m(\u001b[0m\u001b[0mx\u001b[0m \u001b[0;34m-\u001b[0m \u001b[0my\u001b[0m\u001b[0;34m)\u001b[0m\u001b[0;34m\u001b[0m\u001b[0;34m\u001b[0m\u001b[0m\n\u001b[0m\u001b[1;32m   1566\u001b[0m \u001b[0;34m\u001b[0m\u001b[0m\n\u001b[1;32m   1567\u001b[0m   if (isinstance(grad, ops.Tensor) and\n",
            "\u001b[0;32m/usr/local/lib/python3.6/dist-packages/tensorflow/python/ops/math_ops.py\u001b[0m in \u001b[0;36mbinary_op_wrapper\u001b[0;34m(x, y)\u001b[0m\n\u001b[1;32m    982\u001b[0m     \u001b[0;32mwith\u001b[0m \u001b[0mops\u001b[0m\u001b[0;34m.\u001b[0m\u001b[0mname_scope\u001b[0m\u001b[0;34m(\u001b[0m\u001b[0;32mNone\u001b[0m\u001b[0;34m,\u001b[0m \u001b[0mop_name\u001b[0m\u001b[0;34m,\u001b[0m \u001b[0;34m[\u001b[0m\u001b[0mx\u001b[0m\u001b[0;34m,\u001b[0m \u001b[0my\u001b[0m\u001b[0;34m]\u001b[0m\u001b[0;34m)\u001b[0m \u001b[0;32mas\u001b[0m \u001b[0mname\u001b[0m\u001b[0;34m:\u001b[0m\u001b[0;34m\u001b[0m\u001b[0;34m\u001b[0m\u001b[0m\n\u001b[1;32m    983\u001b[0m       \u001b[0;32mif\u001b[0m \u001b[0misinstance\u001b[0m\u001b[0;34m(\u001b[0m\u001b[0mx\u001b[0m\u001b[0;34m,\u001b[0m \u001b[0mops\u001b[0m\u001b[0;34m.\u001b[0m\u001b[0mTensor\u001b[0m\u001b[0;34m)\u001b[0m \u001b[0;32mand\u001b[0m \u001b[0misinstance\u001b[0m\u001b[0;34m(\u001b[0m\u001b[0my\u001b[0m\u001b[0;34m,\u001b[0m \u001b[0mops\u001b[0m\u001b[0;34m.\u001b[0m\u001b[0mTensor\u001b[0m\u001b[0;34m)\u001b[0m\u001b[0;34m:\u001b[0m\u001b[0;34m\u001b[0m\u001b[0;34m\u001b[0m\u001b[0m\n\u001b[0;32m--> 984\u001b[0;31m         \u001b[0;32mreturn\u001b[0m \u001b[0mfunc\u001b[0m\u001b[0;34m(\u001b[0m\u001b[0mx\u001b[0m\u001b[0;34m,\u001b[0m \u001b[0my\u001b[0m\u001b[0;34m,\u001b[0m \u001b[0mname\u001b[0m\u001b[0;34m=\u001b[0m\u001b[0mname\u001b[0m\u001b[0;34m)\u001b[0m\u001b[0;34m\u001b[0m\u001b[0;34m\u001b[0m\u001b[0m\n\u001b[0m\u001b[1;32m    985\u001b[0m       \u001b[0;32melif\u001b[0m \u001b[0;32mnot\u001b[0m \u001b[0misinstance\u001b[0m\u001b[0;34m(\u001b[0m\u001b[0my\u001b[0m\u001b[0;34m,\u001b[0m \u001b[0msparse_tensor\u001b[0m\u001b[0;34m.\u001b[0m\u001b[0mSparseTensor\u001b[0m\u001b[0;34m)\u001b[0m\u001b[0;34m:\u001b[0m\u001b[0;34m\u001b[0m\u001b[0;34m\u001b[0m\u001b[0m\n\u001b[1;32m    986\u001b[0m         \u001b[0;32mtry\u001b[0m\u001b[0;34m:\u001b[0m\u001b[0;34m\u001b[0m\u001b[0;34m\u001b[0m\u001b[0m\n",
            "\u001b[0;32m/usr/local/lib/python3.6/dist-packages/tensorflow/python/ops/math_ops.py\u001b[0m in \u001b[0;36m_mul_dispatch\u001b[0;34m(x, y, name)\u001b[0m\n\u001b[1;32m   1281\u001b[0m   \u001b[0mis_tensor_y\u001b[0m \u001b[0;34m=\u001b[0m \u001b[0misinstance\u001b[0m\u001b[0;34m(\u001b[0m\u001b[0my\u001b[0m\u001b[0;34m,\u001b[0m \u001b[0mops\u001b[0m\u001b[0;34m.\u001b[0m\u001b[0mTensor\u001b[0m\u001b[0;34m)\u001b[0m\u001b[0;34m\u001b[0m\u001b[0;34m\u001b[0m\u001b[0m\n\u001b[1;32m   1282\u001b[0m   \u001b[0;32mif\u001b[0m \u001b[0mis_tensor_y\u001b[0m\u001b[0;34m:\u001b[0m\u001b[0;34m\u001b[0m\u001b[0;34m\u001b[0m\u001b[0m\n\u001b[0;32m-> 1283\u001b[0;31m     \u001b[0;32mreturn\u001b[0m \u001b[0mgen_math_ops\u001b[0m\u001b[0;34m.\u001b[0m\u001b[0mmul\u001b[0m\u001b[0;34m(\u001b[0m\u001b[0mx\u001b[0m\u001b[0;34m,\u001b[0m \u001b[0my\u001b[0m\u001b[0;34m,\u001b[0m \u001b[0mname\u001b[0m\u001b[0;34m=\u001b[0m\u001b[0mname\u001b[0m\u001b[0;34m)\u001b[0m\u001b[0;34m\u001b[0m\u001b[0;34m\u001b[0m\u001b[0m\n\u001b[0m\u001b[1;32m   1284\u001b[0m   \u001b[0;32melse\u001b[0m\u001b[0;34m:\u001b[0m\u001b[0;34m\u001b[0m\u001b[0;34m\u001b[0m\u001b[0m\n\u001b[1;32m   1285\u001b[0m     \u001b[0;32massert\u001b[0m \u001b[0misinstance\u001b[0m\u001b[0;34m(\u001b[0m\u001b[0my\u001b[0m\u001b[0;34m,\u001b[0m \u001b[0msparse_tensor\u001b[0m\u001b[0;34m.\u001b[0m\u001b[0mSparseTensor\u001b[0m\u001b[0;34m)\u001b[0m  \u001b[0;31m# Case: Dense * Sparse.\u001b[0m\u001b[0;34m\u001b[0m\u001b[0;34m\u001b[0m\u001b[0m\n",
            "\u001b[0;32m/usr/local/lib/python3.6/dist-packages/tensorflow/python/ops/gen_math_ops.py\u001b[0m in \u001b[0;36mmul\u001b[0;34m(x, y, name)\u001b[0m\n\u001b[1;32m   6087\u001b[0m         \u001b[0;32mpass\u001b[0m  \u001b[0;31m# Add nodes to the TensorFlow graph.\u001b[0m\u001b[0;34m\u001b[0m\u001b[0;34m\u001b[0m\u001b[0m\n\u001b[1;32m   6088\u001b[0m     \u001b[0;32mexcept\u001b[0m \u001b[0m_core\u001b[0m\u001b[0;34m.\u001b[0m\u001b[0m_NotOkStatusException\u001b[0m \u001b[0;32mas\u001b[0m \u001b[0me\u001b[0m\u001b[0;34m:\u001b[0m\u001b[0;34m\u001b[0m\u001b[0;34m\u001b[0m\u001b[0m\n\u001b[0;32m-> 6089\u001b[0;31m       \u001b[0m_ops\u001b[0m\u001b[0;34m.\u001b[0m\u001b[0mraise_from_not_ok_status\u001b[0m\u001b[0;34m(\u001b[0m\u001b[0me\u001b[0m\u001b[0;34m,\u001b[0m \u001b[0mname\u001b[0m\u001b[0;34m)\u001b[0m\u001b[0;34m\u001b[0m\u001b[0;34m\u001b[0m\u001b[0m\n\u001b[0m\u001b[1;32m   6090\u001b[0m   \u001b[0;31m# Add nodes to the TensorFlow graph.\u001b[0m\u001b[0;34m\u001b[0m\u001b[0;34m\u001b[0m\u001b[0;34m\u001b[0m\u001b[0m\n\u001b[1;32m   6091\u001b[0m   _, _, _op, _outputs = _op_def_library._apply_op_helper(\n",
            "\u001b[0;32m/usr/local/lib/python3.6/dist-packages/tensorflow/python/framework/ops.py\u001b[0m in \u001b[0;36mraise_from_not_ok_status\u001b[0;34m(e, name)\u001b[0m\n\u001b[1;32m   6651\u001b[0m   \u001b[0mmessage\u001b[0m \u001b[0;34m=\u001b[0m \u001b[0me\u001b[0m\u001b[0;34m.\u001b[0m\u001b[0mmessage\u001b[0m \u001b[0;34m+\u001b[0m \u001b[0;34m(\u001b[0m\u001b[0;34m\" name: \"\u001b[0m \u001b[0;34m+\u001b[0m \u001b[0mname\u001b[0m \u001b[0;32mif\u001b[0m \u001b[0mname\u001b[0m \u001b[0;32mis\u001b[0m \u001b[0;32mnot\u001b[0m \u001b[0;32mNone\u001b[0m \u001b[0;32melse\u001b[0m \u001b[0;34m\"\"\u001b[0m\u001b[0;34m)\u001b[0m\u001b[0;34m\u001b[0m\u001b[0;34m\u001b[0m\u001b[0m\n\u001b[1;32m   6652\u001b[0m   \u001b[0;31m# pylint: disable=protected-access\u001b[0m\u001b[0;34m\u001b[0m\u001b[0;34m\u001b[0m\u001b[0;34m\u001b[0m\u001b[0m\n\u001b[0;32m-> 6653\u001b[0;31m   \u001b[0msix\u001b[0m\u001b[0;34m.\u001b[0m\u001b[0mraise_from\u001b[0m\u001b[0;34m(\u001b[0m\u001b[0mcore\u001b[0m\u001b[0;34m.\u001b[0m\u001b[0m_status_to_exception\u001b[0m\u001b[0;34m(\u001b[0m\u001b[0me\u001b[0m\u001b[0;34m.\u001b[0m\u001b[0mcode\u001b[0m\u001b[0;34m,\u001b[0m \u001b[0mmessage\u001b[0m\u001b[0;34m)\u001b[0m\u001b[0;34m,\u001b[0m \u001b[0;32mNone\u001b[0m\u001b[0;34m)\u001b[0m\u001b[0;34m\u001b[0m\u001b[0;34m\u001b[0m\u001b[0m\n\u001b[0m\u001b[1;32m   6654\u001b[0m   \u001b[0;31m# pylint: enable=protected-access\u001b[0m\u001b[0;34m\u001b[0m\u001b[0;34m\u001b[0m\u001b[0;34m\u001b[0m\u001b[0m\n\u001b[1;32m   6655\u001b[0m \u001b[0;34m\u001b[0m\u001b[0m\n",
            "\u001b[0;32m/usr/local/lib/python3.6/dist-packages/six.py\u001b[0m in \u001b[0;36mraise_from\u001b[0;34m(value, from_value)\u001b[0m\n",
            "\u001b[0;31mResourceExhaustedError\u001b[0m: OOM when allocating tensor with shape[60000,28,28] and type float on /job:localhost/replica:0/task:0/device:GPU:0 by allocator GPU_0_bfc [Op:Mul]"
          ]
        },
        {
          "output_type": "display_data",
          "data": {
            "image/png": "[encoded data removed]",
            "text/plain": [
              "<Figure size 720x720 with 17 Axes>"
            ]
          },
          "metadata": {
            "tags": []
          }
        }
      ]
    },
    {
      "cell_type": "markdown",
      "metadata": {
        "id": "8-KqXuQ38Yzq",
        "colab_type": "text"
      },
      "source": [
        "As we can see our current model is unaffected by adverserial training"
      ]
    },
    {
      "cell_type": "code",
      "metadata": {
        "id": "US9qc7PE2t59",
        "colab_type": "code",
        "colab": {
          "base_uri": "https://localhost:8080/",
          "height": 50
        },
        "outputId": "988196c0-26b1-4b73-81b4-90620ddf9cd2"
      },
      "source": [
        "mlp_model.evaluate(complete_training_images, complete_training_labels,return_dict=True)"
      ],
      "execution_count": null,
      "outputs": [
        {
          "output_type": "stream",
          "text": [
            "1875/1875 [==============================] - 4s 2ms/step - loss: 0.0593 - accuracy: 0.9850\n"
          ],
          "name": "stdout"
        },
        {
          "output_type": "execute_result",
          "data": {
            "text/plain": [
              "{'accuracy': 0.9850000143051147, 'loss': 0.059324733912944794}"
            ]
          },
          "metadata": {
            "tags": []
          },
          "execution_count": 42
        }
      ]
    },
    {
      "cell_type": "code",
      "metadata": {
        "id": "n2R7W7-A2t3Y",
        "colab_type": "code",
        "colab": {
          "base_uri": "https://localhost:8080/"
        },
        "outputId": "09631fe9-ad4f-4492-c28f-7b17489a0686"
      },
      "source": [
        "mlp_model.evaluate(complete_test_images, complete_test_labels,return_dict=True)"
      ],
      "execution_count": null,
      "outputs": [
        {
          "output_type": "stream",
          "text": [
            "313/313 [==============================] - 1s 3ms/step - loss: 0.1255 - accuracy: 0.9735\n"
          ],
          "name": "stdout"
        },
        {
          "output_type": "execute_result",
          "data": {
            "text/plain": [
              "{'accuracy': 0.9735000133514404, 'loss': 0.12545140087604523}"
            ]
          },
          "metadata": {
            "tags": []
          },
          "execution_count": 43
        }
      ]
    }
  ]
}