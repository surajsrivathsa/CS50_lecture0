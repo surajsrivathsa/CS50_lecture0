{
  "nbformat": 4,
  "nbformat_minor": 0,
  "metadata": {
    "colab": {
      "name": "BERT fine-tuning for classification.ipynb",
      "provenance": [],
      "collapsed_sections": [
        "pslNivH_yria",
        "M7MR_0z9yxa_",
        "j-mjpzTgsG8p"
      ],
      "authorship_tag": "ABX9TyOGa/2iXbXGAo5amXUFAeLE",
      "include_colab_link": true
    },
    "kernelspec": {
      "name": "python3",
      "display_name": "Python 3"
    },
    "accelerator": "GPU"
  },
  "cells": [
    {
      "cell_type": "markdown",
      "metadata": {
        "id": "view-in-github",
        "colab_type": "text"
      },
      "source": [
        "<a href=\"https://colab.research.google.com/github/surajsrivathsa/ovgu_deeplearning/blob/master/BERT_fine_tuning_for_classification.ipynb\" target=\"_parent\"><img src=\"https://colab.research.google.com/assets/colab-badge.svg\" alt=\"Open In Colab\"/></a>"
      ]
    },
    {
      "cell_type": "markdown",
      "metadata": {
        "id": "by_s6NUuru9i",
        "colab_type": "text"
      },
      "source": [
        "Deep Learning project assignment\n",
        "\n",
        "**Task 6:** BERT fine-tuning for classification\n",
        "\n",
        "**Team members:**\n",
        "1. Sanjeeth Busnur Indushekar: 224133 : sanjeeth.busnur@st.ovgu.de\n",
        "2. Suraj Shashidhar: 230052 : suraj.shashidhar@st.ovgu.de"
      ]
    },
    {
      "cell_type": "markdown",
      "metadata": {
        "id": "nYkBC_s9r-bu",
        "colab_type": "text"
      },
      "source": [
        "**Tutorial content and Adaptations**\n",
        "\n",
        "The tutorial data set GLUE MRPC is classifying sentence pairs.\n",
        "In the assignment, please use a data set to classify single sentences.\n",
        "For example, GLUE itself has such data sets, like COLA or SST2, which are provided as TFDS.\n",
        "\n",
        "You need to adapt the data preprocessing to be used for this task.\n",
        "The suggested building of the model with bert.bert_models.classifier_model() is a very high-level abstraction.\n",
        "\n",
        "Instead of using this function, take a pre-trained BERT encoder and connect it to a classification model yourself.\n",
        "This way, you can understand better how the information flow from input through encoder to classifier.\n",
        "\n",
        "With those adaptations, follow the tutorial and fine-tune a pre-trained BERT on classification.\n",
        "In addition to the evaluation based on training/evaluation set, run queries you made yourself to test generalization of the classifier.\n",
        "\n",
        "**Comment:** I think there is a bug in result = tf.argmax(result).numpy() - the argmax should be over axis=1. (try processing more than 2 sequences)\n",
        "\n",
        "**Yes, it should have axis = 1 as an argument**\n",
        "\n",
        "Here are a few questions for you to check how well you understood the tutorial.\n",
        "Please answer them (briefly) in your solution!\n",
        "\n",
        "- What is the tutorial classifying when using the GLUE MRPC data set?\n",
        "\n",
        "**Whether two sentences are semantically similar or not**\n",
        "\n",
        "- In addition to the input itself, the tutorial feeds two binary tensors for input mask and input type to the model. Is this necessary for the data set single sentence classification?\n",
        "\n",
        "**Theoretically both of them might not be necessary especially for single sentence as encoder can learn where actual sequence starts and padding begins instead of input mask. For input word ids, since we have only one single sentence it is waste to again differentiate inside the sequence. But practically, when tried out on tensorflow, it gave an error due to encoder architecture, Hence we added both of them during our pretraining. Maybe its possible in other libraries**\n",
        "\n",
        "- How does the tokenization in BERT differ from the one in the previous Task 5?\n",
        "\n",
        "**Sequence is split by whitespace, punctuations and then BPT is used to further split a single word to multiple managable pieces, unlike NMT where each word is a token hence should be present in vocab.**\n",
        "\n",
        "- What is a [CLS] token and what is it used for?\n",
        "\n",
        "**[CLS] Token denotes start of the sentence or sequence. It could be used for classification too at the linear layer**\n",
        "\n",
        "- Which part of the BERT encoding is used for the classification?\n",
        "\n",
        "**[CLS] token is used for classification, although i bieleive you can modify the architecture to use any token embedding as encoder can see both past and future and there are 12 layers + multiheads so lots of context would be encoded in the embeddings anyway. I saw a Lambda layer which makes use of particular tokens in the sequence of last attention head(photo of this is present inside the code). this lambda l;ayer could theoretically be changed.**\n",
        "\n",
        "- Does your answer match the output shape of the encoder?\n",
        "\n",
        "**Shape of the my answer doesn't match shape of output of encoder as encoder just outputs embeddings. On the other hand, Classifiers output matched my answer.** \n",
        "\n",
        "- Are the BERT encoder weights also fine-tuned to the task?\n",
        "\n",
        "**Yes, weights of encoder are finetuned while pretraining. But i suppose we can freeze some bottom layers and include only some top layers in pretraining. Saw this techniques for other libraries.**\n"
      ]
    },
    {
      "cell_type": "markdown",
      "metadata": {
        "id": "n8-Nt9jyr-f7",
        "colab_type": "text"
      },
      "source": [
        "**Tasks to be done**\n",
        "\n",
        "**MRPC**\n",
        "\n",
        "- Learn about MRPC and Run the tutorial as is first and check what it is classifying(answer to 1st question) \n",
        "- note down how the tokenization is done(question 3) ?\n",
        "- whether bert weights are fine tuned during training or not(question 7) . Plot weight distributions if possible(before vs after)?\n",
        "- Check about the binary tensors that are fed along with data and what happens without them(question 2)?\n",
        "\n",
        "**Connecting our own pretrained BERT**\n",
        "- After running above experiments connect a pretrained bert model to classifier and make it work on MRPC.\n",
        "\n",
        "**Done in COLA**\n",
        "\n",
        "- See how the information is being exchanged between BERT and classifier?\n",
        "\n",
        "**Pooled output or single embedding is taken and used for classification**\n",
        "\n",
        "**SST2**\n",
        "\n",
        "- Change to SST2 as we have larger data than COLA and do sentiment classification. Build the system such that you can give your own text later?\n",
        "- Create tricky movie reviews that are difficult for computers and check for generalization.?\n",
        "\n",
        "**Generalized OK, but was not great. Cannot clssify some sarcastic movie reviews.**\n",
        "\n",
        "- Check about the binary tensors that are fed along with data and what happens without them(question 2)?\n",
        "\n",
        "**Checked and wrote up in COLA summary.**\n",
        "\n",
        "\n",
        "**COLA**\n",
        "\n",
        "- **Build manual Encoder + classifier for COLA and test it out**\n",
        "\n",
        "\n",
        "\n"
      ]
    },
    {
      "cell_type": "markdown",
      "metadata": {
        "colab_type": "text",
        "id": "5R_MOG40tP6E"
      },
      "source": [
        "![image.png](data:image/png;base64,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)"
      ]
    },
    {
      "cell_type": "markdown",
      "metadata": {
        "colab_type": "text",
        "id": "sJmXLR9ttP6F"
      },
      "source": [
        "**It seems like The lambda layer is extracting information from last encoder layer output. Also it seems like it being picked from a single token 0:1 slicing.**\n",
        "\n",
        "**The pooler layer is just a dense layer with Tanh activation on embedding from lambda layer.** **bold text**"
      ]
    },
    {
      "cell_type": "markdown",
      "metadata": {
        "id": "zkIbhbB4r-kV",
        "colab_type": "text"
      },
      "source": [
        "**Summary**\n",
        "\n"
      ]
    },
    {
      "cell_type": "code",
      "metadata": {
        "id": "t_2ZfvNGc0dK",
        "colab_type": "code",
        "colab": {
          "base_uri": "https://localhost:8080/",
          "height": 230
        },
        "outputId": "5f56b92a-438d-431c-a394-810b89b5f03b"
      },
      "source": [
        "!pip install -q tf-nightly\n",
        "!pip install -q tf-models-nightly\n"
      ],
      "execution_count": 1,
      "outputs": [
        {
          "output_type": "stream",
          "text": [
            "\u001b[K     |████████████████████████████████| 323.7MB 48kB/s \n",
            "\u001b[K     |████████████████████████████████| 460kB 55.2MB/s \n",
            "\u001b[K     |████████████████████████████████| 6.7MB 54.7MB/s \n",
            "\u001b[K     |████████████████████████████████| 880kB 4.7MB/s \n",
            "\u001b[K     |████████████████████████████████| 174kB 23.6MB/s \n",
            "\u001b[K     |████████████████████████████████| 1.1MB 20.2MB/s \n",
            "\u001b[K     |████████████████████████████████| 358kB 27.8MB/s \n",
            "\u001b[K     |████████████████████████████████| 102kB 12.5MB/s \n",
            "\u001b[K     |████████████████████████████████| 36.4MB 84kB/s \n",
            "\u001b[K     |████████████████████████████████| 296kB 52.4MB/s \n",
            "\u001b[?25h  Building wheel for seqeval (setup.py) ... \u001b[?25l\u001b[?25hdone\n",
            "  Building wheel for py-cpuinfo (setup.py) ... \u001b[?25l\u001b[?25hdone\n"
          ],
          "name": "stdout"
        }
      ]
    },
    {
      "cell_type": "code",
      "metadata": {
        "id": "-Tfqz1ZQstI6",
        "colab_type": "code",
        "colab": {
          "base_uri": "https://localhost:8080/",
          "height": 694
        },
        "outputId": "e0d1d78e-8978-4079-a78b-72a5ce27f554"
      },
      "source": [
        "!pip install tf-nightly"
      ],
      "execution_count": 2,
      "outputs": [
        {
          "output_type": "stream",
          "text": [
            "Requirement already satisfied: tf-nightly in /usr/local/lib/python3.6/dist-packages (2.4.0.dev20200731)\n",
            "Requirement already satisfied: google-pasta>=0.1.8 in /usr/local/lib/python3.6/dist-packages (from tf-nightly) (0.2.0)\n",
            "Requirement already satisfied: tb-nightly<3.0.0a0,>=2.4.0a0 in /usr/local/lib/python3.6/dist-packages (from tf-nightly) (2.4.0a20200730)\n",
            "Requirement already satisfied: tf-estimator-nightly in /usr/local/lib/python3.6/dist-packages (from tf-nightly) (2.4.0.dev2020073101)\n",
            "Requirement already satisfied: termcolor>=1.1.0 in /usr/local/lib/python3.6/dist-packages (from tf-nightly) (1.1.0)\n",
            "Requirement already satisfied: wrapt>=1.11.1 in /usr/local/lib/python3.6/dist-packages (from tf-nightly) (1.12.1)\n",
            "Requirement already satisfied: opt-einsum>=2.3.2 in /usr/local/lib/python3.6/dist-packages (from tf-nightly) (3.3.0)\n",
            "Requirement already satisfied: protobuf>=3.9.2 in /usr/local/lib/python3.6/dist-packages (from tf-nightly) (3.12.2)\n",
            "Requirement already satisfied: astunparse==1.6.3 in /usr/local/lib/python3.6/dist-packages (from tf-nightly) (1.6.3)\n",
            "Requirement already satisfied: absl-py>=0.7.0 in /usr/local/lib/python3.6/dist-packages (from tf-nightly) (0.9.0)\n",
            "Requirement already satisfied: numpy<1.19.0,>=1.16.0 in /usr/local/lib/python3.6/dist-packages (from tf-nightly) (1.18.5)\n",
            "Requirement already satisfied: flatbuffers>=1.12 in /usr/local/lib/python3.6/dist-packages (from tf-nightly) (1.12)\n",
            "Requirement already satisfied: wheel>=0.26 in /usr/local/lib/python3.6/dist-packages (from tf-nightly) (0.34.2)\n",
            "Requirement already satisfied: grpcio>=1.8.6 in /usr/local/lib/python3.6/dist-packages (from tf-nightly) (1.30.0)\n",
            "Requirement already satisfied: h5py<2.11.0,>=2.10.0 in /usr/local/lib/python3.6/dist-packages (from tf-nightly) (2.10.0)\n",
            "Requirement already satisfied: six>=1.12.0 in /usr/local/lib/python3.6/dist-packages (from tf-nightly) (1.15.0)\n",
            "Requirement already satisfied: keras-preprocessing<1.2,>=1.1.1 in /usr/local/lib/python3.6/dist-packages (from tf-nightly) (1.1.2)\n",
            "Requirement already satisfied: gast==0.3.3 in /usr/local/lib/python3.6/dist-packages (from tf-nightly) (0.3.3)\n",
            "Requirement already satisfied: requests<3,>=2.21.0 in /usr/local/lib/python3.6/dist-packages (from tb-nightly<3.0.0a0,>=2.4.0a0->tf-nightly) (2.23.0)\n",
            "Requirement already satisfied: google-auth<2,>=1.6.3 in /usr/local/lib/python3.6/dist-packages (from tb-nightly<3.0.0a0,>=2.4.0a0->tf-nightly) (1.17.2)\n",
            "Requirement already satisfied: google-auth-oauthlib<0.5,>=0.4.1 in /usr/local/lib/python3.6/dist-packages (from tb-nightly<3.0.0a0,>=2.4.0a0->tf-nightly) (0.4.1)\n",
            "Requirement already satisfied: setuptools>=41.0.0 in /usr/local/lib/python3.6/dist-packages (from tb-nightly<3.0.0a0,>=2.4.0a0->tf-nightly) (49.2.0)\n",
            "Requirement already satisfied: markdown>=2.6.8 in /usr/local/lib/python3.6/dist-packages (from tb-nightly<3.0.0a0,>=2.4.0a0->tf-nightly) (3.2.2)\n",
            "Requirement already satisfied: werkzeug>=0.11.15 in /usr/local/lib/python3.6/dist-packages (from tb-nightly<3.0.0a0,>=2.4.0a0->tf-nightly) (1.0.1)\n",
            "Requirement already satisfied: tensorboard-plugin-wit>=1.6.0 in /usr/local/lib/python3.6/dist-packages (from tb-nightly<3.0.0a0,>=2.4.0a0->tf-nightly) (1.7.0)\n",
            "Requirement already satisfied: certifi>=2017.4.17 in /usr/local/lib/python3.6/dist-packages (from requests<3,>=2.21.0->tb-nightly<3.0.0a0,>=2.4.0a0->tf-nightly) (2020.6.20)\n",
            "Requirement already satisfied: idna<3,>=2.5 in /usr/local/lib/python3.6/dist-packages (from requests<3,>=2.21.0->tb-nightly<3.0.0a0,>=2.4.0a0->tf-nightly) (2.10)\n",
            "Requirement already satisfied: urllib3!=1.25.0,!=1.25.1,<1.26,>=1.21.1 in /usr/local/lib/python3.6/dist-packages (from requests<3,>=2.21.0->tb-nightly<3.0.0a0,>=2.4.0a0->tf-nightly) (1.24.3)\n",
            "Requirement already satisfied: chardet<4,>=3.0.2 in /usr/local/lib/python3.6/dist-packages (from requests<3,>=2.21.0->tb-nightly<3.0.0a0,>=2.4.0a0->tf-nightly) (3.0.4)\n",
            "Requirement already satisfied: cachetools<5.0,>=2.0.0 in /usr/local/lib/python3.6/dist-packages (from google-auth<2,>=1.6.3->tb-nightly<3.0.0a0,>=2.4.0a0->tf-nightly) (4.1.1)\n",
            "Requirement already satisfied: pyasn1-modules>=0.2.1 in /usr/local/lib/python3.6/dist-packages (from google-auth<2,>=1.6.3->tb-nightly<3.0.0a0,>=2.4.0a0->tf-nightly) (0.2.8)\n",
            "Requirement already satisfied: rsa<5,>=3.1.4; python_version >= \"3\" in /usr/local/lib/python3.6/dist-packages (from google-auth<2,>=1.6.3->tb-nightly<3.0.0a0,>=2.4.0a0->tf-nightly) (4.6)\n",
            "Requirement already satisfied: requests-oauthlib>=0.7.0 in /usr/local/lib/python3.6/dist-packages (from google-auth-oauthlib<0.5,>=0.4.1->tb-nightly<3.0.0a0,>=2.4.0a0->tf-nightly) (1.3.0)\n",
            "Requirement already satisfied: importlib-metadata; python_version < \"3.8\" in /usr/local/lib/python3.6/dist-packages (from markdown>=2.6.8->tb-nightly<3.0.0a0,>=2.4.0a0->tf-nightly) (1.7.0)\n",
            "Requirement already satisfied: pyasn1<0.5.0,>=0.4.6 in /usr/local/lib/python3.6/dist-packages (from pyasn1-modules>=0.2.1->google-auth<2,>=1.6.3->tb-nightly<3.0.0a0,>=2.4.0a0->tf-nightly) (0.4.8)\n",
            "Requirement already satisfied: oauthlib>=3.0.0 in /usr/local/lib/python3.6/dist-packages (from requests-oauthlib>=0.7.0->google-auth-oauthlib<0.5,>=0.4.1->tb-nightly<3.0.0a0,>=2.4.0a0->tf-nightly) (3.1.0)\n",
            "Requirement already satisfied: zipp>=0.5 in /usr/local/lib/python3.6/dist-packages (from importlib-metadata; python_version < \"3.8\"->markdown>=2.6.8->tb-nightly<3.0.0a0,>=2.4.0a0->tf-nightly) (3.1.0)\n"
          ],
          "name": "stdout"
        }
      ]
    },
    {
      "cell_type": "code",
      "metadata": {
        "id": "qZRlGhvbpw1u",
        "colab_type": "code",
        "colab": {
          "base_uri": "https://localhost:8080/",
          "height": 34
        },
        "outputId": "993798e8-7545-46f2-8a34-eb26b5c49f60"
      },
      "source": [
        "import os\n",
        "\n",
        "import numpy as np\n",
        "import matplotlib.pyplot as plt\n",
        "\n",
        "import tensorflow as tf\n",
        "print(tf.__version__)\n",
        "import tensorflow_hub as hub\n",
        "import tensorflow_datasets as tfds\n",
        "tfds.disable_progress_bar()\n",
        "\n",
        "import tensorflow.keras.layers.experimental\n",
        "\n",
        "from official.modeling import tf_utils\n",
        "from official import nlp\n",
        "from official.nlp import bert\n",
        "import official.nlp.bert.bert_models\n",
        "# Load the required submodules\n",
        "import official.nlp.optimization\n",
        "\n",
        "import official.nlp.bert.configs\n",
        "\n",
        "import official.nlp.data.classifier_data_lib\n",
        "import official.nlp.modeling.losses\n",
        "import official.nlp.modeling.models\n",
        "import official.nlp.modeling.networks\n",
        "import official.nlp.bert.bert_models\n",
        "import official.nlp.bert.run_classifier\n",
        "import official.nlp.bert.tokenization"
      ],
      "execution_count": 3,
      "outputs": [
        {
          "output_type": "stream",
          "text": [
            "2.4.0-dev20200731\n"
          ],
          "name": "stdout"
        }
      ]
    },
    {
      "cell_type": "markdown",
      "metadata": {
        "id": "pslNivH_yria",
        "colab_type": "text"
      },
      "source": [
        "# Vanilla MRPC load - For testing (Used higher level abstraction)"
      ]
    },
    {
      "cell_type": "code",
      "metadata": {
        "id": "JopE4hLChH8X",
        "colab_type": "code",
        "colab": {
          "base_uri": "https://localhost:8080/",
          "height": 87
        },
        "outputId": "ad1adb17-d10a-49b4-f80e-a475132bcb89"
      },
      "source": [
        "gs_folder_bert = \"gs://cloud-tpu-checkpoints/bert/keras_bert/uncased_L-12_H-768_A-12\"\n",
        "tf.io.gfile.listdir(gs_folder_bert)"
      ],
      "execution_count": null,
      "outputs": [
        {
          "output_type": "execute_result",
          "data": {
            "text/plain": [
              "['bert_config.json',\n",
              " 'bert_model.ckpt.data-00000-of-00001',\n",
              " 'bert_model.ckpt.index',\n",
              " 'vocab.txt']"
            ]
          },
          "metadata": {
            "tags": []
          },
          "execution_count": 4
        }
      ]
    },
    {
      "cell_type": "code",
      "metadata": {
        "id": "Z5eez3k_hLbk",
        "colab_type": "code",
        "colab": {}
      },
      "source": [
        "hub_url_bert = \"https://tfhub.dev/tensorflow/bert_en_uncased_L-12_H-768_A-12/2\""
      ],
      "execution_count": null,
      "outputs": []
    },
    {
      "cell_type": "code",
      "metadata": {
        "id": "cZ2dNrCahONJ",
        "colab_type": "code",
        "colab": {
          "base_uri": "https://localhost:8080/",
          "height": 232
        },
        "outputId": "fbf86a17-ffdc-4e7d-9ec8-c4a2d5d3f882"
      },
      "source": [
        "glue, info = tfds.load('glue/mrpc', with_info=True,\n",
        "                       # It's small, load the whole dataset\n",
        "                       batch_size=-1)"
      ],
      "execution_count": null,
      "outputs": [
        {
          "output_type": "stream",
          "text": [
            "\u001b[1mDownloading and preparing dataset glue/mrpc/1.0.0 (download: 1.43 MiB, generated: Unknown size, total: 1.43 MiB) to /root/tensorflow_datasets/glue/mrpc/1.0.0...\u001b[0m\n"
          ],
          "name": "stdout"
        },
        {
          "output_type": "stream",
          "text": [
            "/usr/local/lib/python3.6/dist-packages/urllib3/connectionpool.py:847: InsecureRequestWarning: Unverified HTTPS request is being made. Adding certificate verification is strongly advised. See: https://urllib3.readthedocs.io/en/latest/advanced-usage.html#ssl-warnings\n",
            "  InsecureRequestWarning)\n",
            "/usr/local/lib/python3.6/dist-packages/urllib3/connectionpool.py:847: InsecureRequestWarning: Unverified HTTPS request is being made. Adding certificate verification is strongly advised. See: https://urllib3.readthedocs.io/en/latest/advanced-usage.html#ssl-warnings\n",
            "  InsecureRequestWarning)\n",
            "/usr/local/lib/python3.6/dist-packages/urllib3/connectionpool.py:847: InsecureRequestWarning: Unverified HTTPS request is being made. Adding certificate verification is strongly advised. See: https://urllib3.readthedocs.io/en/latest/advanced-usage.html#ssl-warnings\n",
            "  InsecureRequestWarning)\n"
          ],
          "name": "stderr"
        },
        {
          "output_type": "stream",
          "text": [
            "Shuffling and writing examples to /root/tensorflow_datasets/glue/mrpc/1.0.0.incompleteOY6K74/glue-train.tfrecord\n",
            "Shuffling and writing examples to /root/tensorflow_datasets/glue/mrpc/1.0.0.incompleteOY6K74/glue-validation.tfrecord\n",
            "Shuffling and writing examples to /root/tensorflow_datasets/glue/mrpc/1.0.0.incompleteOY6K74/glue-test.tfrecord\n",
            "\u001b[1mDataset glue downloaded and prepared to /root/tensorflow_datasets/glue/mrpc/1.0.0. Subsequent calls will reuse this data.\u001b[0m\n"
          ],
          "name": "stdout"
        }
      ]
    },
    {
      "cell_type": "code",
      "metadata": {
        "id": "_50ELyrEhVlG",
        "colab_type": "code",
        "colab": {
          "base_uri": "https://localhost:8080/",
          "height": 34
        },
        "outputId": "84066023-0789-4abf-d8b2-12dbc7544bd0"
      },
      "source": [
        "\n",
        "list(glue.keys())"
      ],
      "execution_count": null,
      "outputs": [
        {
          "output_type": "execute_result",
          "data": {
            "text/plain": [
              "['test', 'train', 'validation']"
            ]
          },
          "metadata": {
            "tags": []
          },
          "execution_count": 7
        }
      ]
    },
    {
      "cell_type": "code",
      "metadata": {
        "id": "Ik15jd6ohecq",
        "colab_type": "code",
        "colab": {
          "base_uri": "https://localhost:8080/",
          "height": 123
        },
        "outputId": "087fb2ab-11a2-45ab-8640-29f1d84ff58a"
      },
      "source": [
        "info.features"
      ],
      "execution_count": null,
      "outputs": [
        {
          "output_type": "execute_result",
          "data": {
            "text/plain": [
              "FeaturesDict({\n",
              "    'idx': tf.int32,\n",
              "    'label': ClassLabel(shape=(), dtype=tf.int64, num_classes=2),\n",
              "    'sentence1': Text(shape=(), dtype=tf.string),\n",
              "    'sentence2': Text(shape=(), dtype=tf.string),\n",
              "})"
            ]
          },
          "metadata": {
            "tags": []
          },
          "execution_count": 8
        }
      ]
    },
    {
      "cell_type": "code",
      "metadata": {
        "id": "kD5aiV33hg5c",
        "colab_type": "code",
        "colab": {
          "base_uri": "https://localhost:8080/",
          "height": 34
        },
        "outputId": "c05578ee-2ef1-4ae0-b35b-4ac5a5d50fc9"
      },
      "source": [
        "info.features['label'].names"
      ],
      "execution_count": null,
      "outputs": [
        {
          "output_type": "execute_result",
          "data": {
            "text/plain": [
              "['not_equivalent', 'equivalent']"
            ]
          },
          "metadata": {
            "tags": []
          },
          "execution_count": 9
        }
      ]
    },
    {
      "cell_type": "code",
      "metadata": {
        "id": "7_IE_p_5hjPs",
        "colab_type": "code",
        "colab": {
          "base_uri": "https://localhost:8080/",
          "height": 87
        },
        "outputId": "0a2c9ec4-b62c-4c35-8ecb-1b40a693d526"
      },
      "source": [
        "glue_train = glue['train']\n",
        "\n",
        "for key, value in glue_train.items():\n",
        "  print(f\"{key:9s}: {value[0].numpy()}\")"
      ],
      "execution_count": null,
      "outputs": [
        {
          "output_type": "stream",
          "text": [
            "idx      : 1680\n",
            "label    : 0\n",
            "sentence1: b'The identical rovers will act as robotic geologists , searching for evidence of past water .'\n",
            "sentence2: b'The rovers act as robotic geologists , moving on six wheels .'\n"
          ],
          "name": "stdout"
        }
      ]
    },
    {
      "cell_type": "markdown",
      "metadata": {
        "id": "FWMegGQ7r_Hp",
        "colab_type": "text"
      },
      "source": [
        "glue_train, glue_test and validation contains keys index, label, sentence1, sentence2 and a list of values attached to each keys.\n",
        "There are around 3.6 k values"
      ]
    },
    {
      "cell_type": "code",
      "metadata": {
        "id": "uhI07tcerewq",
        "colab_type": "code",
        "colab": {
          "base_uri": "https://localhost:8080/",
          "height": 34
        },
        "outputId": "770189f0-a1e9-4ad4-c381-7e71a373d68a"
      },
      "source": [
        "glue_train.keys()"
      ],
      "execution_count": null,
      "outputs": [
        {
          "output_type": "execute_result",
          "data": {
            "text/plain": [
              "dict_keys(['idx', 'label', 'sentence1', 'sentence2'])"
            ]
          },
          "metadata": {
            "tags": []
          },
          "execution_count": 14
        }
      ]
    },
    {
      "cell_type": "code",
      "metadata": {
        "id": "uUfwWddWruVg",
        "colab_type": "code",
        "colab": {
          "base_uri": "https://localhost:8080/",
          "height": 196
        },
        "outputId": "085f2ee8-3c5e-491c-9c01-990588754a0a"
      },
      "source": [
        "glue_train[\"idx\"]\n",
        "glue_train[\"sentence2\"]"
      ],
      "execution_count": null,
      "outputs": [
        {
          "output_type": "execute_result",
          "data": {
            "text/plain": [
              "<tf.Tensor: shape=(3668,), dtype=string, numpy=\n",
              "array([b'The rovers act as robotic geologists , moving on six wheels .',\n",
              "       b\"Less than 20 percent of Boise 's sales would come from making lumber and paper after the OfficeMax purchase is complete , assuming those businesses aren 't sold .\",\n",
              "       b'Spider-Man , rated PG-13 , snatched $ 114.7 million in its first weekend and went on to take in $ 403.7 million .',\n",
              "       ...,\n",
              "       b'Stack testified that he was not asked to do any work for Triumph until June 1999 , after a grand jury investigating Silvester subpoenaed Triumph .',\n",
              "       b'The rock was first observed by the Lincoln Near Earth Asteroid Research Program , also known as LINEAR .',\n",
              "       b'U.S. Attorney Jeffrey Collins also said two of his assistants will consult with state police during the investigation and determine if any federal laws were broken .'],\n",
              "      dtype=object)>"
            ]
          },
          "metadata": {
            "tags": []
          },
          "execution_count": 20
        }
      ]
    },
    {
      "cell_type": "markdown",
      "metadata": {
        "id": "ky6HaDWZw3Q-",
        "colab_type": "text"
      },
      "source": [
        "We need to use the same tokenizer as we had used during training(May cause probems for multilingual corpus)\n",
        "\n",
        "\n",
        "- https://juditacs.github.io/2019/02/19/bert-tokenization-stats.html"
      ]
    },
    {
      "cell_type": "markdown",
      "metadata": {
        "id": "p_x2z4pvyhXz",
        "colab_type": "text"
      },
      "source": [
        "All tokens are being converted to lowercase and also split along the punctuations.\n",
        "Greedy longest match algorithm is used(check Class and methods wordpiecetokenizer and method tokenize).\n",
        "\n",
        "Non-word-initial units are prefixed with ## as a continuation symbol \n",
        "\n",
        "can take upto 400 chars pr word --> wordpiece toeknizer, Uses [UNK] token for unknown\n",
        "\n",
        "whitespace tokenizer consists of tabs, newline and carriage return too\n",
        "\n",
        "Unused tokens should be replaced by our own vocab: https://stackoverflow.com/questions/62452271/understanding-bert-vocab-unusedxxx-tokens\n",
        "\n",
        "keys are the tokens or the cutoff tokens and values are just the counter value\n",
        "\n"
      ]
    },
    {
      "cell_type": "code",
      "metadata": {
        "id": "uNi_DOUfhnTA",
        "colab_type": "code",
        "colab": {
          "base_uri": "https://localhost:8080/",
          "height": 34
        },
        "outputId": "29b007b8-cd4f-4d19-cf35-da1175852648"
      },
      "source": [
        "# Set up tokenizer to generate Tensorflow dataset\n",
        "tokenizer = bert.tokenization.FullTokenizer(\n",
        "    vocab_file=os.path.join(gs_folder_bert, \"vocab.txt\"),\n",
        "     do_lower_case=True)\n",
        "\n",
        "print(\"Vocab size:\", len(tokenizer.vocab))"
      ],
      "execution_count": null,
      "outputs": [
        {
          "output_type": "stream",
          "text": [
            "Vocab size: 30522\n"
          ],
          "name": "stdout"
        }
      ]
    },
    {
      "cell_type": "code",
      "metadata": {
        "id": "kNT7ig4Etsru",
        "colab_type": "code",
        "colab": {
          "base_uri": "https://localhost:8080/",
          "height": 176
        },
        "outputId": "ee052ab2-904a-4d6d-d0a1-ba07354b32b3"
      },
      "source": [
        "start = 500\n",
        "counter = 0\n",
        "end = 510\n",
        "for key,val in tokenizer.vocab.items():\n",
        "  if(counter > start and counter < end):\n",
        "    print(\"key: {} | value: {}\".format(key,val))\n",
        "  counter = counter + 1\n",
        "  if(counter  > end):\n",
        "    break;"
      ],
      "execution_count": null,
      "outputs": [
        {
          "output_type": "stream",
          "text": [
            "key: [unused496] | value: 501\n",
            "key: [unused497] | value: 502\n",
            "key: [unused498] | value: 503\n",
            "key: [unused499] | value: 504\n",
            "key: [unused500] | value: 505\n",
            "key: [unused501] | value: 506\n",
            "key: [unused502] | value: 507\n",
            "key: [unused503] | value: 508\n",
            "key: [unused504] | value: 509\n"
          ],
          "name": "stdout"
        }
      ]
    },
    {
      "cell_type": "code",
      "metadata": {
        "id": "x3OZSlm214w8",
        "colab_type": "code",
        "colab": {
          "base_uri": "https://localhost:8080/",
          "height": 87
        },
        "outputId": "99f2825d-5fb3-4e77-d951-f33dcc22eb26"
      },
      "source": [
        "start = 1000\n",
        "counter = 0\n",
        "end = 1005\n",
        "for key,val in tokenizer.vocab.items():\n",
        "  if(counter > start and counter < end):\n",
        "    print(\"key: {} | value: {}\".format(key,val))\n",
        "  counter = counter + 1\n",
        "  if(counter  > end):\n",
        "    break;"
      ],
      "execution_count": null,
      "outputs": [
        {
          "output_type": "stream",
          "text": [
            "key: # | value: 1001\n",
            "key: $ | value: 1002\n",
            "key: % | value: 1003\n",
            "key: & | value: 1004\n"
          ],
          "name": "stdout"
        }
      ]
    },
    {
      "cell_type": "code",
      "metadata": {
        "id": "06D1zzkN0ryH",
        "colab_type": "code",
        "colab": {
          "base_uri": "https://localhost:8080/",
          "height": 354
        },
        "outputId": "66d19ed8-f054-4fc0-d933-b2edacd07bae"
      },
      "source": [
        "start = 5000\n",
        "counter = 0\n",
        "end = 5020\n",
        "for key,val in tokenizer.vocab.items():\n",
        "  if(counter > start and counter < end):\n",
        "    print(\"key: {} | value: {}\".format(key,val))\n",
        "  counter = counter + 1\n",
        "  if(counter  > end):\n",
        "    break;"
      ],
      "execution_count": null,
      "outputs": [
        {
          "output_type": "stream",
          "text": [
            "key: lap | value: 5001\n",
            "key: survey | value: 5002\n",
            "key: ma | value: 5003\n",
            "key: ##ow | value: 5004\n",
            "key: noise | value: 5005\n",
            "key: billy | value: 5006\n",
            "key: ##ium | value: 5007\n",
            "key: shooting | value: 5008\n",
            "key: guide | value: 5009\n",
            "key: bedroom | value: 5010\n",
            "key: priest | value: 5011\n",
            "key: resistance | value: 5012\n",
            "key: motor | value: 5013\n",
            "key: homes | value: 5014\n",
            "key: sounded | value: 5015\n",
            "key: giant | value: 5016\n",
            "key: ##mer | value: 5017\n",
            "key: 150 | value: 5018\n",
            "key: scenes | value: 5019\n"
          ],
          "name": "stdout"
        }
      ]
    },
    {
      "cell_type": "markdown",
      "metadata": {
        "id": "Esee3P7VyRA6",
        "colab_type": "text"
      },
      "source": [
        "As we can see from the tokenization process, we get unknown tokens from tokenization"
      ]
    },
    {
      "cell_type": "code",
      "metadata": {
        "id": "lEBXevG6huap",
        "colab_type": "code",
        "colab": {
          "base_uri": "https://localhost:8080/",
          "height": 72
        },
        "outputId": "e2ffb3d9-572e-4586-8017-ee623a10f720"
      },
      "source": [
        "tokens = tokenizer.tokenize(\"Hello TensorFlow! My name is suraj dark Knightley hztwqrep $lol$$lol$$. 詹姆士约翰.\")\n",
        "print(tokens)\n",
        "ids = tokenizer.convert_tokens_to_ids(tokens)\n",
        "print(ids)"
      ],
      "execution_count": null,
      "outputs": [
        {
          "output_type": "stream",
          "text": [
            "['hello', 'tensor', '##flow', '!', 'my', 'name', 'is', 'sur', '##aj', 'dark', 'knight', '##ley', 'hz', '##t', '##w', '##q', '##re', '##p', '$', 'lo', '##l', '$', '$', 'lo', '##l', '$', '$', '.', '[UNK]', '[UNK]', '士', '[UNK]', '[UNK]', '.']\n",
            "[7592, 23435, 12314, 999, 2026, 2171, 2003, 7505, 13006, 2601, 5000, 3051, 22100, 2102, 2860, 4160, 2890, 2361, 1002, 8840, 2140, 1002, 1002, 8840, 2140, 1002, 1002, 1012, 100, 100, 1807, 100, 100, 1012]\n"
          ],
          "name": "stdout"
        }
      ]
    },
    {
      "cell_type": "code",
      "metadata": {
        "id": "6FPWT9mqhyiJ",
        "colab_type": "code",
        "colab": {
          "base_uri": "https://localhost:8080/",
          "height": 34
        },
        "outputId": "26912f3f-7305-409a-9335-04ae336d2eff"
      },
      "source": [
        "tokenizer.convert_tokens_to_ids(['[CLS]', '[SEP]'])"
      ],
      "execution_count": null,
      "outputs": [
        {
          "output_type": "execute_result",
          "data": {
            "text/plain": [
              "[101, 102]"
            ]
          },
          "metadata": {
            "tags": []
          },
          "execution_count": 31
        }
      ]
    },
    {
      "cell_type": "markdown",
      "metadata": {
        "id": "a9IR8mfk3Sfi",
        "colab_type": "text"
      },
      "source": [
        "calls convert_by_vocab which adds the tokens to vocabulary . **Vocabulary is a ordered dict**"
      ]
    },
    {
      "cell_type": "code",
      "metadata": {
        "id": "6x5V96z0h1EJ",
        "colab_type": "code",
        "colab": {}
      },
      "source": [
        "def encode_sentence(s):\n",
        "   tokens = list(tokenizer.tokenize(s.numpy()))\n",
        "   tokens.append('[SEP]')\n",
        "   return tokenizer.convert_tokens_to_ids(tokens)\n",
        "\n",
        "sentence1 = tf.ragged.constant([\n",
        "    encode_sentence(s) for s in glue_train[\"sentence1\"]])\n",
        "sentence2 = tf.ragged.constant([\n",
        "    encode_sentence(s) for s in glue_train[\"sentence2\"]])"
      ],
      "execution_count": null,
      "outputs": []
    },
    {
      "cell_type": "markdown",
      "metadata": {
        "id": "hek22Ko-4JSa",
        "colab_type": "text"
      },
      "source": [
        "Adds a separator at the end of the sentence encoding\n",
        "\n",
        "**sentence 1 encoding [SEP]**\n",
        "\n",
        "**sentence 2 encoding [SEP]**"
      ]
    },
    {
      "cell_type": "code",
      "metadata": {
        "id": "0hwe6MeT3tBU",
        "colab_type": "code",
        "colab": {
          "base_uri": "https://localhost:8080/",
          "height": 196
        },
        "outputId": "11115dac-7c34-4559-9e5c-7ab8679bef00"
      },
      "source": [
        "print(glue_train[\"sentence1\"])\n",
        "print(len(glue_train[\"sentence1\"]))"
      ],
      "execution_count": null,
      "outputs": [
        {
          "output_type": "stream",
          "text": [
            "tf.Tensor(\n",
            "[b'The identical rovers will act as robotic geologists , searching for evidence of past water .'\n",
            " b\"Less than 20 percent of Boise 's sales would come from making lumber and paper after the OfficeMax purchase is completed .\"\n",
            " b'Spider-Man snatched $ 114.7 million in its debut last year and went on to capture $ 403.7 million .'\n",
            " ...\n",
            " b'Stack said he did no work for Triumph until 1999 , when a grand jury began investigating Silvester .'\n",
            " b'The giant rock was first observed on August 24 by Lincoln Near-Earth Asteroid Research Program , based in Socorro , New Mexico .'\n",
            " b\"Two of Collins ' top assistants will consult with state police during the investigation and determine if any federal laws were violated , he said Friday .\"], shape=(3668,), dtype=string)\n",
            "3668\n"
          ],
          "name": "stdout"
        }
      ]
    },
    {
      "cell_type": "markdown",
      "metadata": {
        "id": "9geB1hBZkg-T",
        "colab_type": "text"
      },
      "source": [
        "3668 sentences in each bucket.\n",
        "\n",
        "Check similarity between sentencces of same index with different buckets"
      ]
    },
    {
      "cell_type": "code",
      "metadata": {
        "id": "NFr8Nybph5RT",
        "colab_type": "code",
        "colab": {
          "base_uri": "https://localhost:8080/",
          "height": 52
        },
        "outputId": "f71363b3-0617-48f1-8aec-ae55636de3b9"
      },
      "source": [
        "print(\"Sentence1 shape:\", sentence1.shape.as_list())\n",
        "print(\"Sentence2 shape:\", sentence2.shape.as_list())"
      ],
      "execution_count": null,
      "outputs": [
        {
          "output_type": "stream",
          "text": [
            "Sentence1 shape: [3668, None]\n",
            "Sentence2 shape: [3668, None]\n"
          ],
          "name": "stdout"
        }
      ]
    },
    {
      "cell_type": "markdown",
      "metadata": {
        "id": "i6hkSY9d4jwm",
        "colab_type": "text"
      },
      "source": [
        "Add CLS token to the sentence and append two sentences.\n",
        "We need to change here for SST2 data. We just need one sentence and not two sentences.\n",
        "\n",
        "generate [CLS] token for all sentences in bucket and concat them to the each sentence in each bucket.\n",
        "\n",
        "**[CLS]Sentence 1 encoding [SEP] Sentence 2 encoding [SEP]**"
      ]
    },
    {
      "cell_type": "code",
      "metadata": {
        "id": "uqL03k2Nh7dc",
        "colab_type": "code",
        "colab": {
          "base_uri": "https://localhost:8080/",
          "height": 302
        },
        "outputId": "c0cccfa4-2407-44a1-ef63-e79db724022a"
      },
      "source": [
        "cls = [tokenizer.convert_tokens_to_ids(['[CLS]'])]*sentence1.shape[0]\n",
        "print(cls)\n",
        "input_word_ids = tf.concat([cls, sentence1, sentence2], axis=-1)\n",
        "_ = plt.pcolormesh(input_word_ids.to_tensor())"
      ],
      "execution_count": null,
      "outputs": [
        {
          "output_type": "stream",
          "text": [
            "[[101], [101], [101], [101], [101], [101], [101], [101], [101], [101], [101], [101], [101], [101], [101], [101], [101], [101], [101], [101], [101], [101], [101], [101], [101], [101], [101], [101], [101], [101], [101], [101], [101], [101], [101], [101], [101], [101], [101], [101], [101], [101], [101], [101], [101], [101], [101], [101], [101], [101], [101], [101], [101], [101], [101], [101], [101], [101], [101], [101], [101], [101], [101], [101], [101], [101], [101], [101], [101], [101], [101], [101], [101], [101], [101], [101], [101], [101], [101], [101], [101], [101], [101], [101], [101], [101], [101], [101], [101], [101], [101], [101], [101], [101], [101], [101], [101], [101], [101], [101], [101], [101], [101], [101], [101], [101], [101], [101], [101], [101], [101], [101], [101], [101], [101], [101], [101], [101], [101], [101], [101], [101], [101], [101], [101], [101], [101], [101], [101], [101], [101], [101], [101], [101], [101], [101], [101], [101], [101], [101], [101], [101], [101], [101], [101], [101], [101], [101], [101], [101], [101], [101], [101], [101], [101], [101], [101], [101], [101], [101], [101], [101], [101], [101], [101], [101], [101], [101], [101], [101], [101], [101], [101], [101], [101], [101], [101], [101], [101], [101], [101], [101], [101], [101], [101], [101], [101], [101], [101], [101], [101], [101], [101], [101], [101], [101], [101], [101], [101], [101], [101], [101], [101], [101], [101], [101], [101], [101], [101], [101], [101], [101], [101], [101], [101], [101], [101], [101], [101], [101], [101], [101], [101], [101], [101], [101], [101], [101], [101], [101], [101], [101], [101], [101], [101], [101], [101], [101], [101], [101], [101], [101], [101], [101], [101], [101], [101], [101], [101], [101], [101], [101], [101], [101], [101], [101], [101], [101], [101], [101], [101], [101], [101], [101], [101], [101], [101], [101], [101], [101], [101], [101], [101], [101], [101], [101], [101], [101], [101], [101], [101], [101], [101], [101], [101], [101], [101], [101], [101], [101], [101], [101], [101], [101], [101], [101], [101], [101], [101], [101], [101], [101], [101], [101], [101], [101], [101], [101], [101], [101], [101], [101], [101], [101], [101], [101], [101], [101], [101], [101], [101], [101], [101], [101], [101], [101], [101], [101], [101], [101], [101], [101], [101], [101], [101], [101], [101], [101], [101], [101], [101], [101], [101], [101], [101], [101], [101], [101], [101], [101], [101], [101], [101], [101], [101], [101], [101], [101], [101], [101], [101], [101], [101], [101], [101], [101], [101], [101], [101], [101], [101], [101], [101], [101], [101], [101], [101], [101], [101], [101], [101], [101], [101], [101], [101], [101], [101], [101], [101], [101], [101], [101], [101], [101], [101], [101], [101], [101], [101], [101], [101], [101], [101], [101], [101], [101], [101], [101], [101], [101], [101], [101], [101], [101], [101], [101], [101], [101], [101], [101], [101], [101], [101], [101], [101], [101], [101], [101], [101], [101], [101], [101], [101], [101], [101], [101], [101], [101], [101], [101], [101], [101], [101], [101], [101], [101], [101], [101], [101], [101], [101], [101], [101], [101], [101], [101], [101], [101], [101], [101], [101], [101], [101], [101], [101], [101], [101], [101], [101], [101], [101], [101], [101], [101], [101], [101], [101], [101], [101], [101], [101], [101], [101], [101], [101], [101], [101], [101], [101], [101], [101], [101], [101], [101], [101], [101], [101], [101], [101], [101], [101], [101], [101], [101], [101], [101], [101], [101], [101], [101], [101], [101], [101], [101], [101], [101], [101], [101], [101], [101], [101], [101], [101], [101], [101], [101], [101], [101], [101], [101], [101], [101], [101], [101], [101], [101], [101], [101], [101], [101], [101], [101], [101], [101], [101], [101], [101], [101], [101], [101], [101], [101], [101], [101], [101], [101], [101], [101], [101], [101], [101], [101], [101], [101], [101], [101], [101], [101], [101], [101], [101], [101], [101], [101], [101], [101], [101], [101], [101], [101], [101], [101], [101], [101], [101], [101], [101], [101], [101], [101], [101], [101], [101], [101], [101], [101], [101], [101], [101], [101], [101], [101], [101], [101], [101], [101], [101], [101], [101], [101], [101], [101], [101], [101], [101], [101], [101], [101], [101], [101], [101], [101], [101], [101], [101], [101], [101], [101], [101], [101], [101], [101], [101], [101], [101], [101], [101], [101], [101], [101], [101], [101], [101], [101], [101], [101], [101], [101], [101], [101], [101], [101], [101], [101], [101], [101], [101], [101], [101], [101], [101], [101], [101], [101], [101], [101], [101], [101], [101], [101], [101], [101], [101], [101], [101], [101], [101], [101], [101], [101], [101], [101], [101], [101], [101], [101], [101], [101], [101], [101], [101], [101], [101], [101], [101], [101], [101], [101], [101], [101], [101], [101], [101], [101], [101], [101], [101], [101], [101], [101], [101], [101], [101], [101], [101], [101], [101], [101], [101], [101], [101], [101], [101], [101], [101], [101], [101], [101], [101], [101], [101], [101], [101], [101], [101], [101], [101], [101], [101], [101], [101], [101], [101], [101], [101], [101], [101], [101], [101], [101], [101], [101], [101], [101], [101], [101], [101], [101], [101], [101], [101], [101], [101], [101], [101], [101], [101], [101], [101], [101], [101], [101], [101], [101], [101], [101], [101], [101], [101], [101], [101], [101], [101], [101], [101], [101], [101], [101], [101], [101], [101], [101], [101], [101], [101], [101], [101], [101], [101], [101], [101], [101], [101], [101], [101], [101], [101], [101], [101], [101], [101], [101], [101], [101], [101], [101], [101], [101], [101], [101], [101], [101], [101], [101], [101], [101], [101], [101], [101], [101], [101], [101], [101], [101], [101], [101], [101], [101], [101], [101], [101], [101], [101], [101], [101], [101], [101], [101], [101], [101], [101], [101], [101], [101], [101], [101], [101], [101], [101], [101], [101], [101], [101], [101], [101], [101], [101], [101], [101], [101], [101], [101], [101], [101], [101], [101], [101], [101], [101], [101], [101], [101], [101], [101], [101], [101], [101], [101], [101], [101], [101], [101], [101], [101], [101], [101], [101], [101], [101], [101], [101], [101], [101], [101], [101], [101], [101], [101], [101], [101], [101], [101], [101], [101], [101], [101], [101], [101], [101], [101], [101], [101], [101], [101], [101], [101], [101], [101], [101], [101], [101], [101], [101], [101], [101], [101], [101], [101], [101], [101], [101], [101], [101], [101], [101], [101], [101], [101], [101], [101], [101], [101], [101], [101], [101], [101], [101], [101], [101], [101], [101], [101], [101], [101], [101], [101], [101], [101], [101], [101], [101], [101], [101], [101], [101], [101], [101], [101], [101], [101], [101], [101], [101], [101], [101], [101], [101], [101], [101], [101], [101], [101], [101], [101], [101], [101], [101], [101], [101], [101], [101], [101], [101], [101], [101], [101], [101], [101], [101], [101], [101], [101], [101], [101], [101], [101], [101], [101], [101], [101], [101], [101], [101], [101], [101], [101], [101], [101], [101], [101], [101], [101], [101], [101], [101], [101], [101], [101], [101], [101], [101], [101], [101], [101], [101], [101], [101], [101], [101], [101], [101], [101], [101], [101], [101], [101], [101], [101], [101], [101], [101], [101], [101], [101], [101], [101], [101], [101], [101], [101], [101], [101], [101], [101], [101], [101], [101], [101], [101], [101], [101], [101], [101], [101], [101], [101], [101], [101], [101], [101], [101], [101], [101], [101], [101], [101], [101], [101], [101], [101], [101], [101], [101], [101], [101], [101], [101], [101], [101], [101], [101], [101], [101], [101], [101], [101], [101], [101], [101], [101], [101], [101], [101], [101], [101], [101], [101], [101], [101], [101], [101], [101], [101], [101], [101], [101], [101], [101], [101], [101], [101], [101], [101], [101], [101], [101], [101], [101], [101], [101], [101], [101], [101], [101], [101], [101], [101], [101], [101], [101], [101], [101], [101], [101], [101], [101], [101], [101], [101], [101], [101], [101], [101], [101], [101], [101], [101], [101], [101], [101], [101], [101], [101], [101], [101], [101], [101], [101], [101], [101], [101], [101], [101], [101], [101], [101], [101], [101], [101], [101], [101], [101], [101], [101], [101], [101], [101], [101], [101], [101], [101], [101], [101], [101], [101], [101], [101], [101], [101], [101], [101], [101], [101], [101], [101], [101], [101], [101], [101], [101], [101], [101], [101], [101], [101], [101], [101], [101], [101], [101], [101], [101], [101], [101], [101], [101], [101], [101], [101], [101], [101], [101], [101], [101], [101], [101], [101], [101], [101], [101], [101], [101], [101], [101], [101], [101], [101], [101], [101], [101], [101], [101], [101], [101], [101], [101], [101], [101], [101], [101], [101], [101], [101], [101], [101], [101], [101], [101], [101], [101], [101], [101], [101], [101], [101], [101], [101], [101], [101], [101], [101], [101], [101], [101], [101], [101], [101], [101], [101], [101], [101], [101], [101], [101], [101], [101], [101], [101], [101], [101], [101], [101], [101], [101], [101], [101], [101], [101], [101], [101], [101], [101], [101], [101], [101], [101], [101], [101], [101], [101], [101], [101], [101], [101], [101], [101], [101], [101], [101], [101], [101], [101], [101], [101], [101], [101], [101], [101], [101], [101], [101], [101], [101], [101], [101], [101], [101], [101], [101], [101], [101], [101], [101], [101], [101], [101], [101], [101], [101], [101], [101], [101], [101], [101], [101], [101], [101], [101], [101], [101], [101], [101], [101], [101], [101], [101], [101], [101], [101], [101], [101], [101], [101], [101], [101], [101], [101], [101], [101], [101], [101], [101], [101], [101], [101], [101], [101], [101], [101], [101], [101], [101], [101], [101], [101], [101], [101], [101], [101], [101], [101], [101], [101], [101], [101], [101], [101], [101], [101], [101], [101], [101], [101], [101], [101], [101], [101], [101], [101], [101], [101], [101], [101], [101], [101], [101], [101], [101], [101], [101], [101], [101], [101], [101], [101], [101], [101], [101], [101], [101], [101], [101], [101], [101], [101], [101], [101], [101], [101], [101], [101], [101], [101], [101], [101], [101], [101], [101], [101], [101], [101], [101], [101], [101], [101], [101], [101], [101], [101], [101], [101], [101], [101], [101], [101], [101], [101], [101], [101], [101], [101], [101], [101], [101], [101], [101], [101], [101], [101], [101], [101], [101], [101], [101], [101], [101], [101], [101], [101], [101], [101], [101], [101], [101], [101], [101], [101], [101], [101], [101], [101], [101], [101], [101], [101], [101], [101], [101], [101], [101], [101], [101], [101], [101], [101], [101], [101], [101], [101], [101], [101], [101], [101], [101], [101], [101], [101], [101], [101], [101], [101], [101], [101], [101], [101], [101], [101], [101], [101], [101], [101], [101], [101], [101], [101], [101], [101], [101], [101], [101], [101], [101], [101], [101], [101], [101], [101], [101], [101], [101], [101], [101], [101], [101], [101], [101], [101], [101], [101], [101], [101], [101], [101], [101], [101], [101], [101], [101], [101], [101], [101], [101], [101], [101], [101], [101], [101], [101], [101], [101], [101], [101], [101], [101], [101], [101], [101], [101], [101], [101], [101], [101], [101], [101], [101], [101], [101], [101], [101], [101], [101], [101], [101], [101], [101], [101], [101], [101], [101], [101], [101], [101], [101], [101], [101], [101], [101], [101], [101], [101], [101], [101], [101], [101], [101], [101], [101], [101], [101], [101], [101], [101], [101], [101], [101], [101], [101], [101], [101], [101], [101], [101], [101], [101], [101], [101], [101], [101], [101], [101], [101], [101], [101], [101], [101], [101], [101], [101], [101], [101], [101], [101], [101], [101], [101], [101], [101], [101], [101], [101], [101], [101], [101], [101], [101], [101], [101], [101], [101], [101], [101], [101], [101], [101], [101], [101], [101], [101], [101], [101], [101], [101], [101], [101], [101], [101], [101], [101], [101], [101], [101], [101], [101], [101], [101], [101], [101], [101], [101], [101], [101], [101], [101], [101], [101], [101], [101], [101], [101], [101], [101], [101], [101], [101], [101], [101], [101], [101], [101], [101], [101], [101], [101], [101], [101], [101], [101], [101], [101], [101], [101], [101], [101], [101], [101], [101], [101], [101], [101], [101], [101], [101], [101], [101], [101], [101], [101], [101], [101], [101], [101], [101], [101], [101], [101], [101], [101], [101], [101], [101], [101], [101], [101], [101], [101], [101], [101], [101], [101], [101], [101], [101], [101], [101], [101], [101], [101], [101], [101], [101], [101], [101], [101], [101], [101], [101], [101], [101], [101], [101], [101], [101], [101], [101], [101], [101], [101], [101], [101], [101], [101], [101], [101], [101], [101], [101], [101], [101], [101], [101], [101], [101], [101], [101], [101], [101], [101], [101], [101], [101], [101], [101], [101], [101], [101], [101], [101], [101], [101], [101], [101], [101], [101], [101], [101], [101], [101], [101], [101], [101], [101], [101], [101], [101], [101], [101], [101], [101], [101], [101], [101], [101], [101], [101], [101], [101], [101], [101], [101], [101], [101], [101], [101], [101], [101], [101], [101], [101], [101], [101], [101], [101], [101], [101], [101], [101], [101], [101], [101], [101], [101], [101], [101], [101], [101], [101], [101], [101], [101], [101], [101], [101], [101], [101], [101], [101], [101], [101], [101], [101], [101], [101], [101], [101], [101], [101], [101], [101], [101], [101], [101], [101], [101], [101], [101], [101], [101], [101], [101], [101], [101], [101], [101], [101], [101], [101], [101], [101], [101], [101], [101], [101], [101], [101], [101], [101], [101], [101], [101], [101], [101], [101], [101], [101], [101], [101], [101], [101], [101], [101], [101], [101], [101], [101], [101], [101], [101], [101], [101], [101], [101], [101], [101], [101], [101], [101], [101], [101], [101], [101], [101], [101], [101], [101], [101], [101], [101], [101], [101], [101], [101], [101], [101], [101], [101], [101], [101], [101], [101], [101], [101], [101], [101], [101], [101], [101], [101], [101], [101], [101], [101], [101], [101], [101], [101], [101], [101], [101], [101], [101], [101], [101], [101], [101], [101], [101], [101], [101], [101], [101], [101], [101], [101], [101], [101], [101], [101], [101], [101], [101], [101], [101], [101], [101], [101], [101], [101], [101], [101], [101], [101], [101], [101], [101], [101], [101], [101], [101], [101], [101], [101], [101], [101], [101], [101], [101], [101], [101], [101], [101], [101], [101], [101], [101], [101], [101], [101], [101], [101], [101], [101], [101], [101], [101], [101], [101], [101], [101], [101], [101], [101], [101], [101], [101], [101], [101], [101], [101], [101], [101], [101], [101], [101], [101], [101], [101], [101], [101], [101], [101], [101], [101], [101], [101], [101], [101], [101], [101], [101], [101], [101], [101], [101], [101], [101], [101], [101], [101], [101], [101], [101], [101], [101], [101], [101], [101], [101], [101], [101], [101], [101], [101], [101], [101], [101], [101], [101], [101], [101], [101], [101], [101], [101], [101], [101], [101], [101], [101], [101], [101], [101], [101], [101], [101], [101], [101], [101], [101], [101], [101], [101], [101], [101], [101], [101], [101], [101], [101], [101], [101], [101], [101], [101], [101], [101], [101], [101], [101], [101], [101], [101], [101], [101], [101], [101], [101], [101], [101], [101], [101], [101], [101], [101], [101], [101], [101], [101], [101], [101], [101], [101], [101], [101], [101], [101], [101], [101], [101], [101], [101], [101], [101], [101], [101], [101], [101], [101], [101], [101], [101], [101], [101], [101], [101], [101], [101], [101], [101], [101], [101], [101], [101], [101], [101], [101], [101], [101], [101], [101], [101], [101], [101], [101], [101], [101], [101], [101], [101], [101], [101], [101], [101], [101], [101], [101], [101], [101], [101], [101], [101], [101], [101], [101], [101], [101], [101], [101], [101], [101], [101], [101], [101], [101], [101], [101], [101], [101], [101], [101], [101], [101], [101], [101], [101], [101], [101], [101], [101], [101], [101], [101], [101], [101], [101], [101], [101], [101], [101], [101], [101], [101], [101], [101], [101], [101], [101], [101], [101], [101], [101], [101], [101], [101], [101], [101], [101], [101], [101], [101], [101], [101], [101], [101], [101], [101], [101], [101], [101], [101], [101], [101], [101], [101], [101], [101], [101], [101], [101], [101], [101], [101], [101], [101], [101], [101], [101], [101], [101], [101], [101], [101], [101], [101], [101], [101], [101], [101], [101], [101], [101], [101], [101], [101], [101], [101], [101], [101], [101], [101], [101], [101], [101], [101], [101], [101], [101], [101], [101], [101], [101], [101], [101], [101], [101], [101], [101], [101], [101], [101], [101], [101], [101], [101], [101], [101], [101], [101], [101], [101], [101], [101], [101], [101], [101], [101], [101], [101], [101], [101], [101], [101], [101], [101], [101], [101], [101], [101], [101], [101], [101], [101], [101], [101], [101], [101], [101], [101], [101], [101], [101], [101], [101], [101], [101], [101], [101], [101], [101], [101], [101], [101], [101], [101], [101], [101], [101], [101], [101], [101], [101], [101], [101], [101], [101], [101], [101], [101], [101], [101], [101], [101], [101], [101], [101], [101], [101], [101], [101], [101], [101], [101], [101], [101], [101], [101], [101], [101], [101], [101], [101], [101], [101], [101], [101], [101], [101], [101], [101], [101], [101], [101], [101], [101], [101], [101], [101], [101], [101], [101], [101], [101], [101], [101], [101], [101], [101], [101], [101], [101], [101], [101], [101], [101], [101], [101], [101], [101], [101], [101], [101], [101], [101], [101], [101], [101], [101], [101], [101], [101], [101], [101], [101], [101], [101], [101], [101], [101], [101], [101], [101], [101], [101], [101], [101], [101], [101], [101], [101], [101], [101], [101], [101], [101], [101], [101], [101], [101], [101], [101], [101], [101], [101], [101], [101], [101], [101], [101], [101], [101], [101], [101], [101], [101], [101], [101], [101], [101], [101], [101], [101], [101], [101], [101], [101], [101], [101], [101], [101], [101], [101], [101], [101], [101], [101], [101], [101], [101], [101], [101], [101], [101], [101], [101], [101], [101], [101], [101], [101], [101], [101], [101], [101], [101], [101], [101], [101], [101], [101], [101], [101], [101], [101], [101], [101], [101], [101], [101], [101], [101], [101], [101], [101], [101], [101], [101], [101], [101], [101], [101], [101], [101], [101], [101], [101], [101], [101], [101], [101], [101], [101], [101], [101], [101], [101], [101], [101], [101], [101], [101], [101], [101], [101], [101], [101], [101], [101], [101], [101], [101], [101], [101], [101], [101], [101], [101], [101], [101], [101], [101], [101], [101], [101], [101], [101], [101], [101], [101], [101], [101], [101], [101], [101], [101], [101], [101], [101], [101], [101], [101], [101], [101], [101], [101], [101], [101], [101], [101], [101], [101], [101], [101], [101], [101], [101], [101], [101], [101], [101], [101], [101], [101], [101], [101], [101], [101], [101], [101], [101], [101], [101], [101], [101], [101], [101], [101], [101], [101], [101], [101], [101], [101], [101], [101], [101], [101], [101], [101], [101], [101], [101], [101], [101], [101], [101], [101], [101], [101], [101], [101], [101], [101], [101], [101], [101], [101], [101], [101], [101], [101], [101], [101], [101], [101], [101], [101], [101], [101], [101], [101], [101], [101], [101], [101], [101], [101], [101], [101], [101], [101], [101], [101], [101], [101], [101], [101], [101], [101], [101], [101], [101], [101], [101], [101], [101], [101], [101], [101], [101], [101], [101], [101], [101], [101], [101], [101], [101], [101], [101], [101], [101], [101], [101], [101], [101], [101], [101], [101], [101], [101], [101], [101], [101], [101], [101], [101], [101], [101], [101], [101], [101], [101], [101], [101], [101], [101], [101], [101], [101], [101], [101], [101], [101], [101], [101], [101], [101], [101], [101], [101], [101], [101], [101], [101], [101], [101], [101], [101], [101], [101], [101], [101], [101], [101], [101], [101], [101], [101], [101], [101], [101], [101], [101], [101], [101], [101], [101], [101], [101], [101], [101], [101], [101], [101], [101], [101], [101], [101], [101], [101], [101], [101], [101], [101], [101], [101], [101], [101], [101], [101], [101], [101], [101], [101], [101], [101], [101], [101], [101], [101], [101], [101], [101], [101], [101], [101], [101], [101], [101], [101], [101], [101], [101], [101], [101], [101], [101], [101], [101], [101], [101], [101], [101], [101], [101], [101], [101], [101], [101], [101], [101], [101], [101], [101], [101], [101], [101], [101], [101], [101], [101], [101], [101], [101], [101], [101], [101], [101], [101], [101], [101], [101], [101], [101], [101], [101], [101], [101], [101], [101], [101], [101], [101], [101], [101], [101], [101], [101], [101], [101], [101], [101], [101], [101], [101], [101], [101], [101], [101], [101], [101], [101], [101], [101], [101], [101], [101], [101], [101], [101], [101], [101], [101], [101], [101], [101], [101], [101], [101], [101], [101], [101], [101], [101], [101], [101], [101], [101], [101], [101], [101], [101], [101], [101], [101], [101], [101], [101], [101], [101], [101], [101], [101], [101], [101], [101], [101], [101], [101], [101], [101], [101], [101], [101], [101], [101], [101], [101], [101], [101], [101], [101], [101], [101], [101], [101], [101], [101], [101], [101], [101], [101], [101], [101], [101], [101], [101], [101], [101], [101], [101], [101], [101], [101], [101], [101], [101], [101], [101], [101], [101], [101], [101], [101], [101], [101], [101], [101], [101], [101], [101], [101], [101], [101], [101], [101], [101], [101], [101], [101], [101], [101], [101], [101], [101], [101], [101], [101], [101], [101], [101], [101], [101], [101], [101], [101], [101], [101], [101], [101], [101], [101], [101], [101], [101], [101], [101], [101], [101], [101], [101], [101], [101], [101], [101], [101], [101], [101], [101], [101], [101], [101], [101], [101], [101], [101], [101], [101], [101], [101], [101], [101], [101], [101], [101], [101], [101], [101], [101], [101], [101], [101], [101], [101], [101], [101], [101], [101], [101], [101], [101], [101], [101], [101], [101], [101], [101], [101], [101], [101], [101], [101], [101], [101], [101], [101], [101], [101], [101], [101], [101], [101], [101], [101], [101], [101], [101], [101], [101], [101], [101], [101], [101], [101], [101], [101], [101], [101], [101], [101], [101], [101], [101], [101], [101], [101], [101], [101], [101], [101], [101], [101], [101], [101], [101], [101], [101], [101], [101], [101], [101], [101], [101], [101], [101], [101], [101], [101], [101], [101], [101], [101], [101], [101], [101], [101], [101], [101], [101], [101], [101], [101], [101], [101], [101], [101], [101], [101], [101], [101], [101], [101], [101], [101], [101], [101], [101], [101], [101], [101], [101], [101], [101], [101], [101], [101], [101], [101], [101], [101], [101], [101], [101], [101], [101], [101], [101], [101], [101], [101], [101], [101], [101], [101], [101], [101], [101], [101], [101], [101], [101], [101], [101], [101], [101], [101], [101], [101], [101], [101], [101], [101], [101], [101], [101], [101], [101], [101], [101], [101], [101], [101], [101], [101], [101], [101], [101], [101], [101], [101], [101], [101], [101], [101], [101], [101], [101], [101], [101], [101], [101], [101], [101], [101], [101], [101], [101], [101], [101], [101], [101], [101], [101], [101], [101], [101], [101], [101], [101], [101], [101], [101], [101], [101], [101], [101], [101], [101], [101], [101], [101], [101], [101], [101], [101], [101], [101], [101], [101], [101], [101], [101], [101], [101], [101], [101], [101], [101], [101], [101], [101], [101], [101], [101], [101], [101], [101], [101], [101], [101], [101], [101], [101], [101], [101], [101], [101], [101], [101], [101], [101], [101], [101], [101], [101], [101], [101], [101], [101], [101], [101], [101], [101], [101], [101], [101], [101], [101], [101], [101], [101], [101], [101], [101], [101], [101], [101], [101], [101], [101], [101], [101], [101], [101], [101], [101], [101], [101], [101], [101], [101], [101], [101], [101], [101], [101], [101], [101], [101], [101], [101], [101], [101], [101], [101], [101], [101], [101], [101], [101], [101], [101], [101], [101], [101], [101], [101], [101], [101], [101], [101], [101], [101], [101], [101], [101], [101], [101], [101], [101], [101], [101], [101], [101], [101], [101], [101], [101], [101], [101], [101], [101], [101], [101], [101], [101], [101], [101], [101], [101], [101], [101], [101], [101], [101], [101], [101], [101], [101], [101], [101], [101], [101], [101], [101], [101], [101], [101], [101], [101], [101], [101], [101], [101], [101], [101], [101], [101], [101], [101], [101], [101], [101], [101], [101], [101], [101], [101], [101], [101], [101], [101], [101], [101], [101], [101], [101], [101], [101], [101], [101], [101], [101], [101], [101], [101], [101], [101], [101], [101], [101], [101], [101], [101], [101], [101], [101], [101], [101], [101], [101], [101], [101], [101], [101], [101], [101], [101], [101], [101], [101], [101], [101], [101], [101], [101], [101], [101], [101]]\n"
          ],
          "name": "stdout"
        },
        {
          "output_type": "display_data",
          "data": {
            "image/png": "[encoded data removed]",
            "text/plain": [
              "<Figure size 432x288 with 1 Axes>"
            ]
          },
          "metadata": {
            "tags": [],
            "needs_background": "light"
          }
        }
      ]
    },
    {
      "cell_type": "markdown",
      "metadata": {
        "id": "I_4kVN4LpdVx",
        "colab_type": "text"
      },
      "source": [
        "Now prepend a [CLS] token, and concatenate the ragged tensors to form a single input_word_ids tensor for each example. RaggedTensor.to_tensor() zero pads to the longest sequence.\n",
        "\n",
        "We can see the CLS token 101 at the start, then we have all the ids at the middleand zero padding ids at the end to make all length same"
      ]
    },
    {
      "cell_type": "code",
      "metadata": {
        "id": "5sZwbzPvox4Z",
        "colab_type": "code",
        "colab": {
          "base_uri": "https://localhost:8080/",
          "height": 692
        },
        "outputId": "cb98f72c-a9fb-4aa2-8c45-f7ce9cb512e3"
      },
      "source": [
        "print(input_word_ids.to_tensor().shape)\n",
        "tmp_iwi = input_word_ids.to_tensor()\n",
        "\n",
        "print(tmp_iwi[0:4,:])"
      ],
      "execution_count": null,
      "outputs": [
        {
          "output_type": "stream",
          "text": [
            "(3668, 103)\n",
            "tf.Tensor(\n",
            "[[  101  1996  7235  9819  2097  2552  2004 20478 21334  2015  1010  6575\n",
            "   2005  3350  1997  2627  2300  1012   102  1996  9819  2552  2004 20478\n",
            "  21334  2015  1010  3048  2006  2416  7787  1012   102     0     0     0\n",
            "      0     0     0     0     0     0     0     0     0     0     0     0\n",
            "      0     0     0     0     0     0     0     0     0     0     0     0\n",
            "      0     0     0     0     0     0     0     0     0     0     0     0\n",
            "      0     0     0     0     0     0     0     0     0     0     0     0\n",
            "      0     0     0     0     0     0     0     0     0     0     0     0\n",
            "      0     0     0     0     0     0     0]\n",
            " [  101  2625  2084  2322  3867  1997 23193  1005  1055  4341  2052  2272\n",
            "   2013  2437 13891  1998  3259  2044  1996  2436 17848  5309  2003  2949\n",
            "   1012   102  2625  2084  2322  3867  1997 23193  1005  1055  4341  2052\n",
            "   2272  2013  2437 13891  1998  3259  2044  1996  2436 17848  5309  2003\n",
            "   3143  1010 10262  2216  5661  4995  1005  1056  2853  1012   102     0\n",
            "      0     0     0     0     0     0     0     0     0     0     0     0\n",
            "      0     0     0     0     0     0     0     0     0     0     0     0\n",
            "      0     0     0     0     0     0     0     0     0     0     0     0\n",
            "      0     0     0     0     0     0     0]\n",
            " [  101  6804  1011  2158 14177  1002 12457  1012  1021  2454  1999  2049\n",
            "   2834  2197  2095  1998  2253  2006  2000  5425  1002 28203  1012  1021\n",
            "   2454  1012   102  6804  1011  2158  1010  6758 18720  1011  2410  1010\n",
            "  14177  1002 12457  1012  1021  2454  1999  2049  2034  5353  1998  2253\n",
            "   2006  2000  2202  1999  1002 28203  1012  1021  2454  1012   102     0\n",
            "      0     0     0     0     0     0     0     0     0     0     0     0\n",
            "      0     0     0     0     0     0     0     0     0     0     0     0\n",
            "      0     0     0     0     0     0     0     0     0     0     0     0\n",
            "      0     0     0     0     0     0     0]\n",
            " [  101  1996  2526  2117  4284  3463  2123  1005  1056  2421  4481  2013\n",
            "   2256  2814  2012  4012  4502  4160  1012   102  1996  2095  1011  3283\n",
            "   3616  2079  2025  2421  4481  2013  4012  4502  4160  3274  1012   102\n",
            "      0     0     0     0     0     0     0     0     0     0     0     0\n",
            "      0     0     0     0     0     0     0     0     0     0     0     0\n",
            "      0     0     0     0     0     0     0     0     0     0     0     0\n",
            "      0     0     0     0     0     0     0     0     0     0     0     0\n",
            "      0     0     0     0     0     0     0     0     0     0     0     0\n",
            "      0     0     0     0     0     0     0]], shape=(4, 103), dtype=int32)\n"
          ],
          "name": "stdout"
        }
      ]
    },
    {
      "cell_type": "code",
      "metadata": {
        "id": "qyXCuE3Ph-Mz",
        "colab_type": "code",
        "colab": {
          "base_uri": "https://localhost:8080/",
          "height": 282
        },
        "outputId": "5f92801f-19f0-4a0a-8996-599e4a3287ac"
      },
      "source": [
        "input_mask = tf.ones_like(input_word_ids).to_tensor()\n",
        "\n",
        "plt.pcolormesh(input_mask)"
      ],
      "execution_count": null,
      "outputs": [
        {
          "output_type": "execute_result",
          "data": {
            "text/plain": [
              "<matplotlib.collections.QuadMesh at 0x7f15daa66828>"
            ]
          },
          "metadata": {
            "tags": []
          },
          "execution_count": 22
        },
        {
          "output_type": "display_data",
          "data": {
            "image/png": "[encoded data removed]",
            "text/plain": [
              "<Figure size 432x288 with 1 Axes>"
            ]
          },
          "metadata": {
            "tags": [],
            "needs_background": "light"
          }
        }
      ]
    },
    {
      "cell_type": "markdown",
      "metadata": {
        "id": "gFOx2MCH5G6t",
        "colab_type": "text"
      },
      "source": [
        "What is this doing?"
      ]
    },
    {
      "cell_type": "code",
      "metadata": {
        "id": "g6cxUl7piCA3",
        "colab_type": "code",
        "colab": {}
      },
      "source": [
        "type_cls = tf.zeros_like(cls)\n",
        "type_s1 = tf.zeros_like(sentence1)\n",
        "type_s2 = tf.ones_like(sentence2)\n",
        "input_type_ids = tf.concat([type_cls, type_s1, type_s2], axis=-1).to_tensor()\n",
        "\n"
      ],
      "execution_count": null,
      "outputs": []
    },
    {
      "cell_type": "code",
      "metadata": {
        "id": "5tNNuvWpnwoc",
        "colab_type": "code",
        "colab": {
          "base_uri": "https://localhost:8080/",
          "height": 282
        },
        "outputId": "fc3c2ed2-4750-4347-9cf0-48e0f7689d76"
      },
      "source": [
        "plt.pcolormesh(type_cls,cmap = \"plasma\")"
      ],
      "execution_count": null,
      "outputs": [
        {
          "output_type": "execute_result",
          "data": {
            "text/plain": [
              "<matplotlib.collections.QuadMesh at 0x7f15da41cb70>"
            ]
          },
          "metadata": {
            "tags": []
          },
          "execution_count": 28
        },
        {
          "output_type": "display_data",
          "data": {
            "image/png": "[encoded data removed]",
            "text/plain": [
              "<Figure size 432x288 with 1 Axes>"
            ]
          },
          "metadata": {
            "tags": [],
            "needs_background": "light"
          }
        }
      ]
    },
    {
      "cell_type": "code",
      "metadata": {
        "id": "yMsVI4aTn0f-",
        "colab_type": "code",
        "colab": {
          "base_uri": "https://localhost:8080/",
          "height": 282
        },
        "outputId": "a5a8a5e8-ab51-46c4-c476-3ae59c208c3f"
      },
      "source": [
        "plt.pcolormesh(tf.ones_like(sentence1).to_tensor(),cmap = \"plasma\")"
      ],
      "execution_count": null,
      "outputs": [
        {
          "output_type": "execute_result",
          "data": {
            "text/plain": [
              "<matplotlib.collections.QuadMesh at 0x7f15da404048>"
            ]
          },
          "metadata": {
            "tags": []
          },
          "execution_count": 29
        },
        {
          "output_type": "display_data",
          "data": {
            "image/png": "[encoded data removed]",
            "text/plain": [
              "<Figure size 432x288 with 1 Axes>"
            ]
          },
          "metadata": {
            "tags": [],
            "needs_background": "light"
          }
        }
      ]
    },
    {
      "cell_type": "code",
      "metadata": {
        "id": "YuTBZDpPoH9C",
        "colab_type": "code",
        "colab": {
          "base_uri": "https://localhost:8080/",
          "height": 282
        },
        "outputId": "82e9ee3c-2adf-499e-ac6d-d5c886be9679"
      },
      "source": [
        "plt.pcolormesh(type_s2.to_tensor(),cmap = \"plasma\")"
      ],
      "execution_count": null,
      "outputs": [
        {
          "output_type": "execute_result",
          "data": {
            "text/plain": [
              "<matplotlib.collections.QuadMesh at 0x7f15da35b6d8>"
            ]
          },
          "metadata": {
            "tags": []
          },
          "execution_count": 30
        },
        {
          "output_type": "display_data",
          "data": {
            "image/png": "[encoded data removed]",
            "text/plain": [
              "<Figure size 432x288 with 1 Axes>"
            ]
          },
          "metadata": {
            "tags": [],
            "needs_background": "light"
          }
        }
      ]
    },
    {
      "cell_type": "code",
      "metadata": {
        "id": "uFNwMgZErUxy",
        "colab_type": "code",
        "colab": {
          "base_uri": "https://localhost:8080/",
          "height": 141
        },
        "outputId": "187b8d5f-c7a6-4daa-d595-dfbb5e89f24d"
      },
      "source": [
        "print(input_type_ids[2:4,:])"
      ],
      "execution_count": null,
      "outputs": [
        {
          "output_type": "stream",
          "text": [
            "tf.Tensor(\n",
            "[[0 0 0 0 0 0 0 0 0 0 0 0 0 0 0 0 0 0 0 0 0 0 0 0 0 0 0 1 1 1 1 1 1 1 1 1\n",
            "  1 1 1 1 1 1 1 1 1 1 1 1 1 1 1 1 1 1 1 1 1 1 1 0 0 0 0 0 0 0 0 0 0 0 0 0\n",
            "  0 0 0 0 0 0 0 0 0 0 0 0 0 0 0 0 0 0 0 0 0 0 0 0 0 0 0 0 0 0 0]\n",
            " [0 0 0 0 0 0 0 0 0 0 0 0 0 0 0 0 0 0 0 0 1 1 1 1 1 1 1 1 1 1 1 1 1 1 1 1\n",
            "  0 0 0 0 0 0 0 0 0 0 0 0 0 0 0 0 0 0 0 0 0 0 0 0 0 0 0 0 0 0 0 0 0 0 0 0\n",
            "  0 0 0 0 0 0 0 0 0 0 0 0 0 0 0 0 0 0 0 0 0 0 0 0 0 0 0 0 0 0 0]], shape=(2, 103), dtype=int32)\n"
          ],
          "name": "stdout"
        }
      ]
    },
    {
      "cell_type": "code",
      "metadata": {
        "id": "syUDqeyVnKIk",
        "colab_type": "code",
        "colab": {
          "base_uri": "https://localhost:8080/",
          "height": 282
        },
        "outputId": "d408130f-766f-4a9f-a88d-d5c5ff9d4b29"
      },
      "source": [
        "plt.pcolormesh(input_type_ids,cmap = \"binary\")"
      ],
      "execution_count": null,
      "outputs": [
        {
          "output_type": "execute_result",
          "data": {
            "text/plain": [
              "<matplotlib.collections.QuadMesh at 0x7f15da3dc5c0>"
            ]
          },
          "metadata": {
            "tags": []
          },
          "execution_count": 32
        },
        {
          "output_type": "display_data",
          "data": {
            "image/png": "[encoded data removed]",
            "text/plain": [
              "<Figure size 432x288 with 1 Axes>"
            ]
          },
          "metadata": {
            "tags": [],
            "needs_background": "light"
          }
        }
      ]
    },
    {
      "cell_type": "markdown",
      "metadata": {
        "id": "yIhLRQPbuBg3",
        "colab_type": "text"
      },
      "source": [
        "This is just repeated encode_sentence method as of above(don't get confused)\n",
        "\n"
      ]
    },
    {
      "cell_type": "code",
      "metadata": {
        "id": "gJ9f09IQiCDr",
        "colab_type": "code",
        "colab": {}
      },
      "source": [
        "def encode_sentence(s, tokenizer):\n",
        "   tokens = list(tokenizer.tokenize(s))\n",
        "   tokens.append('[SEP]')\n",
        "   return tokenizer.convert_tokens_to_ids(tokens)\n",
        "\n",
        "def bert_encode(glue_dict, tokenizer):\n",
        "  num_examples = len(glue_dict[\"sentence1\"])\n",
        "  \n",
        "  sentence1 = tf.ragged.constant([\n",
        "      encode_sentence(s, tokenizer)\n",
        "      for s in np.array(glue_dict[\"sentence1\"])])\n",
        "  \n",
        "  #Don't need below for SST2 data as we have only one sentence\n",
        "  sentence2 = tf.ragged.constant([\n",
        "      encode_sentence(s, tokenizer)\n",
        "       for s in np.array(glue_dict[\"sentence2\"])])\n",
        "\n",
        "  #Increase lst size of CLS from 1 to length of sentence1/2\n",
        "  cls = [tokenizer.convert_tokens_to_ids(['[CLS]'])]*sentence1.shape[0]\n",
        "\n",
        "  #We may need to change here for SST2 data as we don't have two sentences\n",
        "  input_word_ids = tf.concat([cls, sentence1, sentence2], axis=-1)\n",
        "\n",
        "  input_mask = tf.ones_like(input_word_ids).to_tensor()\n",
        "\n",
        "  type_cls = tf.zeros_like(cls)\n",
        "  type_s1 = tf.zeros_like(sentence1)\n",
        "  type_s2 = tf.ones_like(sentence2)\n",
        "  input_type_ids = tf.concat(\n",
        "      [type_cls, type_s1, type_s2], axis=-1).to_tensor()\n",
        "\n",
        "  inputs = {\n",
        "      'input_word_ids': input_word_ids.to_tensor(),\n",
        "      'input_mask': input_mask,\n",
        "      'input_type_ids': input_type_ids}\n",
        "\n",
        "  return inputs"
      ],
      "execution_count": null,
      "outputs": []
    },
    {
      "cell_type": "code",
      "metadata": {
        "id": "fnmQd-rNiGFu",
        "colab_type": "code",
        "colab": {}
      },
      "source": [
        "glue_train = bert_encode(glue['train'], tokenizer)\n",
        "glue_train_labels = glue['train']['label']\n",
        "\n",
        "glue_validation = bert_encode(glue['validation'], tokenizer)\n",
        "glue_validation_labels = glue['validation']['label']\n",
        "\n",
        "glue_test = bert_encode(glue['test'], tokenizer)\n",
        "glue_test_labels  = glue['test']['label']"
      ],
      "execution_count": null,
      "outputs": []
    },
    {
      "cell_type": "code",
      "metadata": {
        "id": "lUyH4R-MvYIF",
        "colab_type": "code",
        "colab": {
          "base_uri": "https://localhost:8080/",
          "height": 34
        },
        "outputId": "e567f5cb-7544-47b8-fd05-4dead1c7ea71"
      },
      "source": [
        "glue_test.keys()"
      ],
      "execution_count": null,
      "outputs": [
        {
          "output_type": "execute_result",
          "data": {
            "text/plain": [
              "dict_keys(['input_word_ids', 'input_mask', 'input_type_ids'])"
            ]
          },
          "metadata": {
            "tags": []
          },
          "execution_count": 35
        }
      ]
    },
    {
      "cell_type": "code",
      "metadata": {
        "id": "VR264FFKvenX",
        "colab_type": "code",
        "colab": {
          "base_uri": "https://localhost:8080/",
          "height": 158
        },
        "outputId": "04cf83fc-6c9f-41eb-bda3-d376695b8f0f"
      },
      "source": [
        "glue_test[\"input_type_ids\"]"
      ],
      "execution_count": null,
      "outputs": [
        {
          "output_type": "execute_result",
          "data": {
            "text/plain": [
              "<tf.Tensor: shape=(1725, 104), dtype=int32, numpy=\n",
              "array([[0, 0, 0, ..., 0, 0, 0],\n",
              "       [0, 0, 0, ..., 0, 0, 0],\n",
              "       [0, 0, 0, ..., 0, 0, 0],\n",
              "       ...,\n",
              "       [0, 0, 0, ..., 0, 0, 0],\n",
              "       [0, 0, 0, ..., 0, 0, 0],\n",
              "       [0, 0, 0, ..., 0, 0, 0]], dtype=int32)>"
            ]
          },
          "metadata": {
            "tags": []
          },
          "execution_count": 38
        }
      ]
    },
    {
      "cell_type": "markdown",
      "metadata": {
        "id": "GE0gbYDgwLzy",
        "colab_type": "text"
      },
      "source": [
        "The \"input type\" also has the same shape, but inside the non-padded region, contains a 0 or a 1 indicating which sentence the token is a part of.\n",
        "\n",
        "The mask allows the model to cleanly differentiate between the content and the padding. The mask has the same shape as the input_word_ids, and contains a 1 anywhere the input_word_ids is not padding."
      ]
    },
    {
      "cell_type": "code",
      "metadata": {
        "id": "19K2Vk2kiGLW",
        "colab_type": "code",
        "colab": {
          "base_uri": "https://localhost:8080/",
          "height": 87
        },
        "outputId": "1417001b-0a18-4a8b-87b9-c0ed059b4e4f"
      },
      "source": [
        "for key, value in glue_train.items():\n",
        "  print(f'{key:15s} shape: {value.shape}')\n",
        "\n",
        "print(f'glue_train_labels shape: {glue_train_labels.shape}')"
      ],
      "execution_count": null,
      "outputs": [
        {
          "output_type": "stream",
          "text": [
            "input_word_ids  shape: (3668, 103)\n",
            "input_mask      shape: (3668, 103)\n",
            "input_type_ids  shape: (3668, 103)\n",
            "glue_train_labels shape: (3668,)\n"
          ],
          "name": "stdout"
        }
      ]
    },
    {
      "cell_type": "code",
      "metadata": {
        "id": "V54TeX2TiGI0",
        "colab_type": "code",
        "colab": {
          "base_uri": "https://localhost:8080/",
          "height": 212
        },
        "outputId": "3dc96130-3ba8-4890-9d30-c2abaef83e5b"
      },
      "source": [
        "import json\n",
        "\n",
        "bert_config_file = os.path.join(gs_folder_bert, \"bert_config.json\")\n",
        "config_dict = json.loads(tf.io.gfile.GFile(bert_config_file).read())\n",
        "\n",
        "bert_config = bert.configs.BertConfig.from_dict(config_dict)\n",
        "\n",
        "config_dict"
      ],
      "execution_count": null,
      "outputs": [
        {
          "output_type": "execute_result",
          "data": {
            "text/plain": [
              "{'attention_probs_dropout_prob': 0.1,\n",
              " 'hidden_act': 'gelu',\n",
              " 'hidden_dropout_prob': 0.1,\n",
              " 'hidden_size': 768,\n",
              " 'initializer_range': 0.02,\n",
              " 'intermediate_size': 3072,\n",
              " 'max_position_embeddings': 512,\n",
              " 'num_attention_heads': 12,\n",
              " 'num_hidden_layers': 12,\n",
              " 'type_vocab_size': 2,\n",
              " 'vocab_size': 30522}"
            ]
          },
          "metadata": {
            "tags": []
          },
          "execution_count": 40
        }
      ]
    },
    {
      "cell_type": "markdown",
      "metadata": {
        "id": "sfq9ATXmw3Ga",
        "colab_type": "text"
      },
      "source": [
        "![image.png](data:image/png;base64,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)"
      ]
    },
    {
      "cell_type": "markdown",
      "metadata": {
        "id": "UfUA2Svew8Gb",
        "colab_type": "text"
      },
      "source": [
        "Gelu activation was introdi=ucted in 2016 helps in vanishing gradient problems and especially blemnds well for transformers. A combinaltion if some hyperbolic functions like tanh and sech"
      ]
    },
    {
      "cell_type": "markdown",
      "metadata": {
        "id": "0IzRdAQ7xTHR",
        "colab_type": "text"
      },
      "source": [
        "If we have more labels(categorical classification and maybe POS tag) then change the number of labels here"
      ]
    },
    {
      "cell_type": "code",
      "metadata": {
        "id": "nOnhmk9niQy1",
        "colab_type": "code",
        "colab": {}
      },
      "source": [
        "bert_classifier, bert_encoder = bert.bert_models.classifier_model(\n",
        "    bert_config, num_labels=2)"
      ],
      "execution_count": null,
      "outputs": []
    },
    {
      "cell_type": "code",
      "metadata": {
        "id": "0xrFp-0BiQ14",
        "colab_type": "code",
        "colab": {
          "base_uri": "https://localhost:8080/",
          "height": 220
        },
        "outputId": "5db6cfa4-7d1e-49c2-ea0e-c4697d02d472"
      },
      "source": [
        "tf.keras.utils.plot_model(bert_classifier, show_shapes=True, dpi=48)"
      ],
      "execution_count": null,
      "outputs": [
        {
          "output_type": "execute_result",
          "data": {
            "image/png": "[encoded data removed]",
            "text/plain": [
              "<IPython.core.display.Image object>"
            ]
          },
          "metadata": {
            "tags": []
          },
          "execution_count": 38
        }
      ]
    },
    {
      "cell_type": "markdown",
      "metadata": {
        "id": "IRcpOloPxiN-",
        "colab_type": "text"
      },
      "source": [
        "Testing the waters by forward propping first 10 mrpc datasets sentences through transformers"
      ]
    },
    {
      "cell_type": "code",
      "metadata": {
        "id": "4LOl5E_yiCHS",
        "colab_type": "code",
        "colab": {
          "base_uri": "https://localhost:8080/",
          "height": 194
        },
        "outputId": "94d6450b-35a3-4f20-866e-ff5b28481b54"
      },
      "source": [
        "glue_batch = {key: val[:10] for key, val in glue_train.items()}\n",
        "\n",
        "bert_classifier(\n",
        "    glue_batch, training=True\n",
        ").numpy()"
      ],
      "execution_count": null,
      "outputs": [
        {
          "output_type": "execute_result",
          "data": {
            "text/plain": [
              "array([[ 0.02412436,  0.00360811],\n",
              "       [-0.09358159,  0.0623569 ],\n",
              "       [ 0.12486266, -0.00710532],\n",
              "       [ 0.0351173 ,  0.19746545],\n",
              "       [ 0.1333697 ,  0.10854093],\n",
              "       [ 0.15708321,  0.07135809],\n",
              "       [ 0.05616707, -0.10923967],\n",
              "       [ 0.02609804,  0.00597663],\n",
              "       [ 0.17377159,  0.15389977],\n",
              "       [ 0.07027418, -0.06320365]], dtype=float32)"
            ]
          },
          "metadata": {
            "tags": []
          },
          "execution_count": 39
        }
      ]
    },
    {
      "cell_type": "code",
      "metadata": {
        "id": "_okn6PZx-BKX",
        "colab_type": "code",
        "colab": {
          "base_uri": "https://localhost:8080/",
          "height": 1000
        },
        "outputId": "9b486f96-e11c-45ad-bffe-4c7b0a40f20b"
      },
      "source": [
        "tf.keras.utils.plot_model(bert_encoder, show_shapes=True, dpi=48)"
      ],
      "execution_count": null,
      "outputs": [
        {
          "output_type": "execute_result",
          "data": {
            "image/png": "[encoded data removed]",
            "text/plain": [
              "<IPython.core.display.Image object>"
            ]
          },
          "metadata": {
            "tags": []
          },
          "execution_count": 40
        }
      ]
    },
    {
      "cell_type": "code",
      "metadata": {
        "id": "tpS3JeUA-BQK",
        "colab_type": "code",
        "colab": {
          "base_uri": "https://localhost:8080/",
          "height": 34
        },
        "outputId": "d8e015cc-35cd-4179-df8b-af696b093e1f"
      },
      "source": [
        "checkpoint = tf.train.Checkpoint(model=bert_encoder)\n",
        "checkpoint.restore(\n",
        "    os.path.join(gs_folder_bert, 'bert_model.ckpt')).assert_consumed()"
      ],
      "execution_count": null,
      "outputs": [
        {
          "output_type": "execute_result",
          "data": {
            "text/plain": [
              "<tensorflow.python.training.tracking.util.CheckpointLoadStatus at 0x7f15d9766e10>"
            ]
          },
          "metadata": {
            "tags": []
          },
          "execution_count": 41
        }
      ]
    },
    {
      "cell_type": "code",
      "metadata": {
        "id": "MSGkKiKA-BUf",
        "colab_type": "code",
        "colab": {}
      },
      "source": [
        "# Set up epochs and steps\n",
        "epochs = 3\n",
        "batch_size = 32\n",
        "eval_batch_size = 32\n",
        "\n",
        "train_data_size = len(glue_train_labels)\n",
        "steps_per_epoch = int(train_data_size / batch_size)\n",
        "num_train_steps = steps_per_epoch * epochs\n",
        "warmup_steps = int(epochs * train_data_size * 0.1 / batch_size)\n",
        "\n",
        "# creates an optimizer with learning rate schedule\n",
        "optimizer = nlp.optimization.create_optimizer(\n",
        "    2e-5, num_train_steps=num_train_steps, num_warmup_steps=warmup_steps)"
      ],
      "execution_count": null,
      "outputs": []
    },
    {
      "cell_type": "code",
      "metadata": {
        "id": "ZrHiEotk-BNW",
        "colab_type": "code",
        "colab": {
          "base_uri": "https://localhost:8080/",
          "height": 34
        },
        "outputId": "1ec17118-2ef3-4ce1-d760-a9147dca4c2c"
      },
      "source": [
        "type(optimizer)"
      ],
      "execution_count": null,
      "outputs": [
        {
          "output_type": "execute_result",
          "data": {
            "text/plain": [
              "official.nlp.optimization.AdamWeightDecay"
            ]
          },
          "metadata": {
            "tags": []
          },
          "execution_count": 43
        }
      ]
    },
    {
      "cell_type": "code",
      "metadata": {
        "id": "5csURKVn-g3I",
        "colab_type": "code",
        "colab": {
          "base_uri": "https://localhost:8080/",
          "height": 141
        },
        "outputId": "fb3f6fc2-fbed-4b51-9391-1d7d290c62e6"
      },
      "source": [
        "metrics = [tf.keras.metrics.SparseCategoricalAccuracy('accuracy', dtype=tf.float32)]\n",
        "loss = tf.keras.losses.SparseCategoricalCrossentropy(from_logits=True)\n",
        "\n",
        "bert_classifier.compile(\n",
        "    optimizer=optimizer,\n",
        "    loss=loss,\n",
        "    metrics=metrics)\n",
        "\n",
        "bert_classifier.fit(\n",
        "      glue_train, glue_train_labels,\n",
        "      validation_data=(glue_validation, glue_validation_labels),\n",
        "      batch_size=32,\n",
        "      epochs=epochs)"
      ],
      "execution_count": null,
      "outputs": [
        {
          "output_type": "stream",
          "text": [
            "Epoch 1/3\n",
            "115/115 [==============================] - 155s 1s/step - loss: 0.6405 - accuracy: 0.6629 - val_loss: 0.5185 - val_accuracy: 0.7500\n",
            "Epoch 2/3\n",
            "115/115 [==============================] - 139s 1s/step - loss: 0.4710 - accuracy: 0.7965 - val_loss: 0.4095 - val_accuracy: 0.8113\n",
            "Epoch 3/3\n",
            "115/115 [==============================] - 139s 1s/step - loss: 0.3056 - accuracy: 0.8933 - val_loss: 0.4013 - val_accuracy: 0.8162\n"
          ],
          "name": "stdout"
        },
        {
          "output_type": "execute_result",
          "data": {
            "text/plain": [
              "<tensorflow.python.keras.callbacks.History at 0x7f15d97becc0>"
            ]
          },
          "metadata": {
            "tags": []
          },
          "execution_count": 44
        }
      ]
    },
    {
      "cell_type": "code",
      "metadata": {
        "id": "ficZ7yCw-g-2",
        "colab_type": "code",
        "colab": {}
      },
      "source": [
        "my_examples = bert_encode(\n",
        "    glue_dict = {\n",
        "        'sentence1':[\n",
        "            'The rain in Spain falls mainly on the plain.',\n",
        "            'Look I fine tuned BERT.',\n",
        "            \"!What the heck are you doing?\",\n",
        "            \"The movie was unique, uniquely shit.\"],\n",
        "        'sentence2':[\n",
        "            'It mostly rains on the flat lands of Spain.',\n",
        "            'Is it working? This does not match ber.',\n",
        "            \"What the hell are you doing\",\n",
        "            \"The movie was consistent, consistently crap.\"]\n",
        "    },\n",
        "    tokenizer=tokenizer)"
      ],
      "execution_count": null,
      "outputs": []
    },
    {
      "cell_type": "markdown",
      "metadata": {
        "id": "f15SGVLvvpj3",
        "colab_type": "text"
      },
      "source": [
        "As told in the assignment page, we need to add axis = 1 without which we won't get correct answer**(gives across rows instead of across sentences)**"
      ]
    },
    {
      "cell_type": "code",
      "metadata": {
        "id": "fT671CQ9vIoN",
        "colab_type": "code",
        "colab": {
          "base_uri": "https://localhost:8080/",
          "height": 123
        },
        "outputId": "c997ee02-f834-41b7-9f27-8051a6f80bd8"
      },
      "source": [
        "result = bert_classifier(my_examples, training=False)\n",
        "print(result)\n",
        "result = tf.argmax(result).numpy()\n",
        "result"
      ],
      "execution_count": null,
      "outputs": [
        {
          "output_type": "stream",
          "text": [
            "tf.Tensor(\n",
            "[[-1.032946    0.8873828 ]\n",
            " [ 0.13587931 -0.29506785]\n",
            " [-0.6031818   0.6768846 ]\n",
            " [-0.8445115   0.49967706]], shape=(4, 2), dtype=float32)\n"
          ],
          "name": "stdout"
        },
        {
          "output_type": "execute_result",
          "data": {
            "text/plain": [
              "array([1, 0])"
            ]
          },
          "metadata": {
            "tags": []
          },
          "execution_count": 47
        }
      ]
    },
    {
      "cell_type": "code",
      "metadata": {
        "id": "S6Y6LMqq-hC-",
        "colab_type": "code",
        "colab": {
          "base_uri": "https://localhost:8080/",
          "height": 123
        },
        "outputId": "65d133e6-190e-4c90-f98c-68e8a3d520e7"
      },
      "source": [
        "result = bert_classifier(my_examples, training=False)\n",
        "print(result)\n",
        "result = tf.argmax(result, axis = 1).numpy()\n",
        "result"
      ],
      "execution_count": null,
      "outputs": [
        {
          "output_type": "stream",
          "text": [
            "tf.Tensor(\n",
            "[[-1.032946    0.8873828 ]\n",
            " [ 0.13587931 -0.29506785]\n",
            " [-0.6031818   0.6768846 ]\n",
            " [-0.8445115   0.49967706]], shape=(4, 2), dtype=float32)\n"
          ],
          "name": "stdout"
        },
        {
          "output_type": "execute_result",
          "data": {
            "text/plain": [
              "array([1, 0, 1, 1])"
            ]
          },
          "metadata": {
            "tags": []
          },
          "execution_count": 48
        }
      ]
    },
    {
      "cell_type": "code",
      "metadata": {
        "id": "7yMR2uCP-g6g",
        "colab_type": "code",
        "colab": {
          "base_uri": "https://localhost:8080/",
          "height": 52
        },
        "outputId": "31bff5a1-51f5-404d-929d-9c5ad7887921"
      },
      "source": [
        "np.array(info.features['label'].names)[result]"
      ],
      "execution_count": null,
      "outputs": [
        {
          "output_type": "execute_result",
          "data": {
            "text/plain": [
              "array(['equivalent', 'not_equivalent', 'equivalent', 'equivalent'],\n",
              "      dtype='<U14')"
            ]
          },
          "metadata": {
            "tags": []
          },
          "execution_count": 49
        }
      ]
    },
    {
      "cell_type": "code",
      "metadata": {
        "id": "kTXl2TbcwD3H",
        "colab_type": "code",
        "colab": {
          "base_uri": "https://localhost:8080/",
          "height": 285
        },
        "outputId": "fe7b6ee5-4128-4fb6-f199-b648974108e6"
      },
      "source": [
        "export_dir='./saved_model'\n",
        "tf.saved_model.save(bert_classifier, export_dir=export_dir)"
      ],
      "execution_count": null,
      "outputs": [
        {
          "output_type": "stream",
          "text": [
            "WARNING:tensorflow:From /usr/local/lib/python3.6/dist-packages/tensorflow/python/training/tracking/tracking.py:111: Model.state_updates (from tensorflow.python.keras.engine.training) is deprecated and will be removed in a future version.\n",
            "Instructions for updating:\n",
            "This property should not be used in TensorFlow 2.0, as updates are applied automatically.\n"
          ],
          "name": "stdout"
        },
        {
          "output_type": "stream",
          "text": [
            "WARNING:tensorflow:From /usr/local/lib/python3.6/dist-packages/tensorflow/python/training/tracking/tracking.py:111: Model.state_updates (from tensorflow.python.keras.engine.training) is deprecated and will be removed in a future version.\n",
            "Instructions for updating:\n",
            "This property should not be used in TensorFlow 2.0, as updates are applied automatically.\n"
          ],
          "name": "stderr"
        },
        {
          "output_type": "stream",
          "text": [
            "WARNING:tensorflow:From /usr/local/lib/python3.6/dist-packages/tensorflow/python/training/tracking/tracking.py:111: Layer.updates (from tensorflow.python.keras.engine.base_layer) is deprecated and will be removed in a future version.\n",
            "Instructions for updating:\n",
            "This property should not be used in TensorFlow 2.0, as updates are applied automatically.\n"
          ],
          "name": "stdout"
        },
        {
          "output_type": "stream",
          "text": [
            "WARNING:tensorflow:From /usr/local/lib/python3.6/dist-packages/tensorflow/python/training/tracking/tracking.py:111: Layer.updates (from tensorflow.python.keras.engine.base_layer) is deprecated and will be removed in a future version.\n",
            "Instructions for updating:\n",
            "This property should not be used in TensorFlow 2.0, as updates are applied automatically.\n"
          ],
          "name": "stderr"
        },
        {
          "output_type": "stream",
          "text": [
            "INFO:tensorflow:Assets written to: ./saved_model/assets\n"
          ],
          "name": "stdout"
        },
        {
          "output_type": "stream",
          "text": [
            "INFO:tensorflow:Assets written to: ./saved_model/assets\n"
          ],
          "name": "stderr"
        }
      ]
    },
    {
      "cell_type": "code",
      "metadata": {
        "id": "ITpqD1gbwD0P",
        "colab_type": "code",
        "colab": {
          "base_uri": "https://localhost:8080/",
          "height": 123
        },
        "outputId": "2144febd-911b-4f63-8db1-0f33e440c84c"
      },
      "source": [
        "!zip -r bert_sentence_similarity_classifier_model.zip /content/saved_model\n"
      ],
      "execution_count": null,
      "outputs": [
        {
          "output_type": "stream",
          "text": [
            "  adding: content/saved_model/ (stored 0%)\n",
            "  adding: content/saved_model/assets/ (stored 0%)\n",
            "  adding: content/saved_model/saved_model.pb (deflated 92%)\n",
            "  adding: content/saved_model/variables/ (stored 0%)\n",
            "  adding: content/saved_model/variables/variables.index (deflated 76%)\n",
            "  adding: content/saved_model/variables/variables.data-00000-of-00001 (deflated 7%)\n"
          ],
          "name": "stdout"
        }
      ]
    },
    {
      "cell_type": "code",
      "metadata": {
        "id": "pHyfVVALwWTA",
        "colab_type": "code",
        "colab": {}
      },
      "source": [
        ""
      ],
      "execution_count": null,
      "outputs": []
    },
    {
      "cell_type": "code",
      "metadata": {
        "id": "6tS9YVTqywpw",
        "colab_type": "code",
        "colab": {}
      },
      "source": [
        ""
      ],
      "execution_count": null,
      "outputs": []
    },
    {
      "cell_type": "markdown",
      "metadata": {
        "id": "M7MR_0z9yxa_",
        "colab_type": "text"
      },
      "source": [
        "# SST2 data transformers - For Testing(Used higer level abstraction)"
      ]
    },
    {
      "cell_type": "markdown",
      "metadata": {
        "id": "leD7xf6PzKq4",
        "colab_type": "text"
      },
      "source": [
        "![image.png](data:image/png;base64,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)"
      ]
    },
    {
      "cell_type": "code",
      "metadata": {
        "id": "whFMYU4uy2RC",
        "colab_type": "code",
        "colab": {
          "base_uri": "https://localhost:8080/",
          "height": 161
        },
        "outputId": "d6e6c942-2d7e-4472-a537-60a4861e87e5"
      },
      "source": [
        "glue_sst2, info_sst2 = tfds.load('glue/sst2', with_info=True, batch_size=-1)"
      ],
      "execution_count": null,
      "outputs": [
        {
          "output_type": "stream",
          "text": [
            "\u001b[1mDownloading and preparing dataset glue/sst2/1.0.0 (download: 7.09 MiB, generated: Unknown size, total: 7.09 MiB) to /root/tensorflow_datasets/glue/sst2/1.0.0...\u001b[0m\n"
          ],
          "name": "stdout"
        },
        {
          "output_type": "stream",
          "text": [
            "/usr/local/lib/python3.6/dist-packages/urllib3/connectionpool.py:847: InsecureRequestWarning: Unverified HTTPS request is being made. Adding certificate verification is strongly advised. See: https://urllib3.readthedocs.io/en/latest/advanced-usage.html#ssl-warnings\n",
            "  InsecureRequestWarning)\n"
          ],
          "name": "stderr"
        },
        {
          "output_type": "stream",
          "text": [
            "Shuffling and writing examples to /root/tensorflow_datasets/glue/sst2/1.0.0.incompletePFZUVB/glue-train.tfrecord\n",
            "Shuffling and writing examples to /root/tensorflow_datasets/glue/sst2/1.0.0.incompletePFZUVB/glue-validation.tfrecord\n",
            "Shuffling and writing examples to /root/tensorflow_datasets/glue/sst2/1.0.0.incompletePFZUVB/glue-test.tfrecord\n",
            "\u001b[1mDataset glue downloaded and prepared to /root/tensorflow_datasets/glue/sst2/1.0.0. Subsequent calls will reuse this data.\u001b[0m\n"
          ],
          "name": "stdout"
        }
      ]
    },
    {
      "cell_type": "code",
      "metadata": {
        "id": "t2SdZN8xy2Zt",
        "colab_type": "code",
        "colab": {
          "base_uri": "https://localhost:8080/",
          "height": 34
        },
        "outputId": "d7e2b481-e348-4d89-ae00-591a0de1f264"
      },
      "source": [
        "list(glue_sst2.keys())"
      ],
      "execution_count": null,
      "outputs": [
        {
          "output_type": "execute_result",
          "data": {
            "text/plain": [
              "['test', 'train', 'validation']"
            ]
          },
          "metadata": {
            "tags": []
          },
          "execution_count": 44
        }
      ]
    },
    {
      "cell_type": "code",
      "metadata": {
        "id": "_ar_C-kiy2rj",
        "colab_type": "code",
        "colab": {
          "base_uri": "https://localhost:8080/",
          "height": 105
        },
        "outputId": "7a46468b-5a7b-4e90-bb1c-adc8afa897c2"
      },
      "source": [
        "info_sst2.features"
      ],
      "execution_count": null,
      "outputs": [
        {
          "output_type": "execute_result",
          "data": {
            "text/plain": [
              "FeaturesDict({\n",
              "    'idx': tf.int32,\n",
              "    'label': ClassLabel(shape=(), dtype=tf.int64, num_classes=2),\n",
              "    'sentence': Text(shape=(), dtype=tf.string),\n",
              "})"
            ]
          },
          "metadata": {
            "tags": []
          },
          "execution_count": 45
        }
      ]
    },
    {
      "cell_type": "code",
      "metadata": {
        "id": "AzHUM5z_y20S",
        "colab_type": "code",
        "colab": {
          "base_uri": "https://localhost:8080/",
          "height": 34
        },
        "outputId": "fd997d61-0a50-459f-e9d8-843afe0f5d36"
      },
      "source": [
        "info_sst2.features['label'].names"
      ],
      "execution_count": null,
      "outputs": [
        {
          "output_type": "execute_result",
          "data": {
            "text/plain": [
              "['negative', 'positive']"
            ]
          },
          "metadata": {
            "tags": []
          },
          "execution_count": 46
        }
      ]
    },
    {
      "cell_type": "code",
      "metadata": {
        "id": "NXIMcuT5y3RK",
        "colab_type": "code",
        "colab": {
          "base_uri": "https://localhost:8080/",
          "height": 90
        },
        "outputId": "3aca67ec-ac62-4b12-e959-23a8627128b8"
      },
      "source": [
        "glue_train_sst2 = glue_sst2['train']\n",
        "glue_test_sst2 = glue_sst2[\"test\"]\n",
        "glue_validation_sst2 = glue_sst2[\"validation\"]\n",
        "\n",
        "for key, value in glue_train.items():\n",
        "  print(f\"{key:9s}: {value[3].numpy()}\")"
      ],
      "execution_count": null,
      "outputs": [
        {
          "output_type": "stream",
          "text": [
            "idx      : 17307\n",
            "label    : 1\n",
            "sentence : b\"'s no surprise that as a director washington demands and receives excellent performances , from himself and from newcomer derek luke \"\n"
          ],
          "name": "stdout"
        }
      ]
    },
    {
      "cell_type": "markdown",
      "metadata": {
        "id": "CyjYyPP20JFn",
        "colab_type": "text"
      },
      "source": [
        "Vocabulary stays constant even though dataset changes as we are having english reviews not Mandarin or some other language."
      ]
    },
    {
      "cell_type": "code",
      "metadata": {
        "id": "C7iDTcM-y3Xu",
        "colab_type": "code",
        "colab": {
          "base_uri": "https://localhost:8080/",
          "height": 34
        },
        "outputId": "b772e87d-7076-4072-fdcb-e4bacef8f30a"
      },
      "source": [
        "# Set up tokenizer to generate Tensorflow dataset\n",
        "tokenizer = bert.tokenization.FullTokenizer(\n",
        "    vocab_file=os.path.join(gs_folder_bert, \"vocab.txt\"),\n",
        "     do_lower_case=True)\n",
        "\n",
        "print(\"Vocab size:\", len(tokenizer.vocab))"
      ],
      "execution_count": null,
      "outputs": [
        {
          "output_type": "stream",
          "text": [
            "Vocab size: 30522\n"
          ],
          "name": "stdout"
        }
      ]
    },
    {
      "cell_type": "code",
      "metadata": {
        "id": "sY4ho4V4y3f5",
        "colab_type": "code",
        "colab": {
          "base_uri": "https://localhost:8080/",
          "height": 52
        },
        "outputId": "0ccd6a9d-9e51-4647-ba4c-ee882ac7db35"
      },
      "source": [
        "tokens = tokenizer.tokenize(\"Hello TensorFlow!\")\n",
        "print(tokens)\n",
        "ids = tokenizer.convert_tokens_to_ids(tokens)\n",
        "print(ids)"
      ],
      "execution_count": null,
      "outputs": [
        {
          "output_type": "stream",
          "text": [
            "['hello', 'tensor', '##flow', '!']\n",
            "[7592, 23435, 12314, 999]\n"
          ],
          "name": "stdout"
        }
      ]
    },
    {
      "cell_type": "code",
      "metadata": {
        "id": "lsMIuszk0RgN",
        "colab_type": "code",
        "colab": {
          "base_uri": "https://localhost:8080/",
          "height": 34
        },
        "outputId": "e3a3158e-4550-400c-959a-d5a495e08088"
      },
      "source": [
        "tokenizer.convert_tokens_to_ids(['[CLS]', '[SEP]'])"
      ],
      "execution_count": null,
      "outputs": [
        {
          "output_type": "execute_result",
          "data": {
            "text/plain": [
              "[101, 102]"
            ]
          },
          "metadata": {
            "tags": []
          },
          "execution_count": 53
        }
      ]
    },
    {
      "cell_type": "code",
      "metadata": {
        "id": "DLUQOSge0Rns",
        "colab_type": "code",
        "colab": {}
      },
      "source": [
        "def encode_sentence(s):\n",
        "   tokens = list(tokenizer.tokenize(s.numpy()))\n",
        "   tokens.append('[SEP]')\n",
        "   return tokenizer.convert_tokens_to_ids(tokens)\n",
        "\n"
      ],
      "execution_count": null,
      "outputs": []
    },
    {
      "cell_type": "code",
      "metadata": {
        "id": "84hZu6tQ1lU5",
        "colab_type": "code",
        "colab": {
          "base_uri": "https://localhost:8080/",
          "height": 34
        },
        "outputId": "d5dd30d5-a525-4197-9a65-c61086458762"
      },
      "source": [
        "tokenizer.convert_tokens_to_ids(['[CLS]', '[SEP]'])"
      ],
      "execution_count": null,
      "outputs": [
        {
          "output_type": "execute_result",
          "data": {
            "text/plain": [
              "[101, 102]"
            ]
          },
          "metadata": {
            "tags": []
          },
          "execution_count": 62
        }
      ]
    },
    {
      "cell_type": "code",
      "metadata": {
        "id": "hHpIFAZh0tDI",
        "colab_type": "code",
        "colab": {}
      },
      "source": [
        "sentence = tf.ragged.constant([encode_sentence(s) for s in glue_train_sst2[\"sentence\"]])\n"
      ],
      "execution_count": null,
      "outputs": []
    },
    {
      "cell_type": "code",
      "metadata": {
        "id": "7GrlccwL0RmD",
        "colab_type": "code",
        "colab": {
          "base_uri": "https://localhost:8080/",
          "height": 34
        },
        "outputId": "e37f571d-cfad-4078-ea25-04edd8488232"
      },
      "source": [
        "print(\"Sentence shape:\", sentence.shape.as_list())"
      ],
      "execution_count": null,
      "outputs": [
        {
          "output_type": "stream",
          "text": [
            "Sentence shape: [67349, None]\n"
          ],
          "name": "stdout"
        }
      ]
    },
    {
      "cell_type": "code",
      "metadata": {
        "id": "RrX2XMca0RjQ",
        "colab_type": "code",
        "colab": {
          "base_uri": "https://localhost:8080/",
          "height": 264
        },
        "outputId": "93c193d6-2ef7-4b06-f176-25b41746dc59"
      },
      "source": [
        "cls_sst2 = [tokenizer.convert_tokens_to_ids(['[CLS]'])]*sentence.shape[0]\n",
        "\n",
        "input_word_ids_sst2 = tf.concat([cls_sst2, sentence], axis=-1)\n",
        "\n",
        "_ = plt.pcolormesh(input_word_ids_sst2.to_tensor())"
      ],
      "execution_count": null,
      "outputs": [
        {
          "output_type": "display_data",
          "data": {
            "image/png": "[encoded data removed]",
            "text/plain": [
              "<Figure size 432x288 with 1 Axes>"
            ]
          },
          "metadata": {
            "tags": [],
            "needs_background": "light"
          }
        }
      ]
    },
    {
      "cell_type": "code",
      "metadata": {
        "id": "gHzLKioiy3nx",
        "colab_type": "code",
        "colab": {
          "base_uri": "https://localhost:8080/",
          "height": 282
        },
        "outputId": "a0cda38f-9607-4c5b-bbe0-837b389c516f"
      },
      "source": [
        "input_mask_sst2 = tf.ones_like(input_word_ids_sst2).to_tensor()\n",
        "\n",
        "plt.pcolormesh(input_mask_sst2)"
      ],
      "execution_count": null,
      "outputs": [
        {
          "output_type": "execute_result",
          "data": {
            "text/plain": [
              "<matplotlib.collections.QuadMesh at 0x7fdaf8930b70>"
            ]
          },
          "metadata": {
            "tags": []
          },
          "execution_count": 64
        },
        {
          "output_type": "display_data",
          "data": {
            "image/png": "[encoded data removed]",
            "text/plain": [
              "<Figure size 432x288 with 1 Axes>"
            ]
          },
          "metadata": {
            "tags": [],
            "needs_background": "light"
          }
        }
      ]
    },
    {
      "cell_type": "code",
      "metadata": {
        "id": "2RoRBqx-y3c_",
        "colab_type": "code",
        "colab": {
          "base_uri": "https://localhost:8080/",
          "height": 282
        },
        "outputId": "f7dfa0a4-74f3-424b-9e68-d6bdc48afe37"
      },
      "source": [
        "type_cls_sst2 = tf.zeros_like(cls_sst2)\n",
        "type_s = tf.ones_like(sentence)\n",
        "\n",
        "input_type_ids_sst2 = tf.concat([type_cls_sst2, type_s], axis=-1).to_tensor()\n",
        "\n",
        "plt.pcolormesh(input_type_ids_sst2)"
      ],
      "execution_count": null,
      "outputs": [
        {
          "output_type": "execute_result",
          "data": {
            "text/plain": [
              "<matplotlib.collections.QuadMesh at 0x7fdaf8983320>"
            ]
          },
          "metadata": {
            "tags": []
          },
          "execution_count": 66
        },
        {
          "output_type": "display_data",
          "data": {
            "image/png": "[encoded data removed]",
            "text/plain": [
              "<Figure size 432x288 with 1 Axes>"
            ]
          },
          "metadata": {
            "tags": [],
            "needs_background": "light"
          }
        }
      ]
    },
    {
      "cell_type": "code",
      "metadata": {
        "id": "EGCUp0L0y3Vl",
        "colab_type": "code",
        "colab": {}
      },
      "source": [
        "\n",
        "def encode_sentence_sst2(s, tokenizer):\n",
        "   tokens = list(tokenizer.tokenize(s))\n",
        "   tokens.append('[SEP]')\n",
        "   return tokenizer.convert_tokens_to_ids(tokens)\n",
        "\n",
        "def bert_encode_sst2(glue_dict, tokenizer):\n",
        "  num_examples = len(glue_dict[\"sentence\"])\n",
        "  \n",
        "  sentence = tf.ragged.constant([\n",
        "      encode_sentence_sst2(s, tokenizer)\n",
        "      for s in np.array(glue_dict[\"sentence\"])])\n",
        "\n",
        "  cls = [tokenizer.convert_tokens_to_ids(['[CLS]'])]*sentence.shape[0]\n",
        "\n",
        "  input_word_ids = tf.concat([cls, sentence], axis=-1)\n",
        "\n",
        "  input_mask = tf.ones_like(input_word_ids).to_tensor()\n",
        "\n",
        "  type_cls = tf.ones_like(cls)\n",
        "  type_s = tf.ones_like(sentence)\n",
        "  input_type_ids = tf.concat(\n",
        "      [type_cls, type_s], axis=-1).to_tensor()\n",
        "\n",
        "  inputs = {\n",
        "      'input_word_ids': input_word_ids.to_tensor(),\n",
        "      'input_mask': input_mask,\n",
        "      'input_type_ids': input_type_ids}\n",
        "\n",
        "  return inputs\n"
      ],
      "execution_count": null,
      "outputs": []
    },
    {
      "cell_type": "code",
      "metadata": {
        "id": "N97Bavloy2yd",
        "colab_type": "code",
        "colab": {}
      },
      "source": [
        "glue_train_sst2 = bert_encode_sst2(glue_sst2['train'], tokenizer)\n",
        "glue_train_sst2_labels = glue_sst2['train']['label']\n",
        "\n",
        "glue_validation_sst2 = bert_encode_sst2(glue_sst2['validation'], tokenizer)\n",
        "glue_validation_sst2_labels = glue_sst2['validation']['label']\n",
        "\n",
        "glue_test_sst2 = bert_encode_sst2(glue_sst2['test'], tokenizer)\n",
        "glue_test_sst2_labels  = glue_sst2['test']['label']"
      ],
      "execution_count": null,
      "outputs": []
    },
    {
      "cell_type": "code",
      "metadata": {
        "id": "Y0CygTriy2oe",
        "colab_type": "code",
        "colab": {
          "base_uri": "https://localhost:8080/",
          "height": 87
        },
        "outputId": "78bf85a5-3a2f-46f3-82ea-f559ff3add01"
      },
      "source": [
        "for key, value in glue_train_sst2.items():\n",
        "  print(f'{key:15s} shape: {value.shape}')\n",
        "\n",
        "print(f'glue_train_labels shape: {glue_train_sst2_labels.shape}')"
      ],
      "execution_count": null,
      "outputs": [
        {
          "output_type": "stream",
          "text": [
            "input_word_ids  shape: (67349, 66)\n",
            "input_mask      shape: (67349, 66)\n",
            "input_type_ids  shape: (67349, 66)\n",
            "glue_train_labels shape: (67349,)\n"
          ],
          "name": "stdout"
        }
      ]
    },
    {
      "cell_type": "code",
      "metadata": {
        "id": "M57kd2vUy2mA",
        "colab_type": "code",
        "colab": {
          "base_uri": "https://localhost:8080/",
          "height": 212
        },
        "outputId": "b993f4b5-67b2-4988-b67b-941e0bf505c7"
      },
      "source": [
        "import json\n",
        "\n",
        "bert_config_file = os.path.join(gs_folder_bert, \"bert_config.json\")\n",
        "config_dict = json.loads(tf.io.gfile.GFile(bert_config_file).read())\n",
        "\n",
        "bert_config = bert.configs.BertConfig.from_dict(config_dict)\n",
        "\n",
        "config_dict"
      ],
      "execution_count": null,
      "outputs": [
        {
          "output_type": "execute_result",
          "data": {
            "text/plain": [
              "{'attention_probs_dropout_prob': 0.1,\n",
              " 'hidden_act': 'gelu',\n",
              " 'hidden_dropout_prob': 0.1,\n",
              " 'hidden_size': 768,\n",
              " 'initializer_range': 0.02,\n",
              " 'intermediate_size': 3072,\n",
              " 'max_position_embeddings': 512,\n",
              " 'num_attention_heads': 12,\n",
              " 'num_hidden_layers': 12,\n",
              " 'type_vocab_size': 2,\n",
              " 'vocab_size': 30522}"
            ]
          },
          "metadata": {
            "tags": []
          },
          "execution_count": 73
        }
      ]
    },
    {
      "cell_type": "code",
      "metadata": {
        "id": "Y5r5w69ny2hb",
        "colab_type": "code",
        "colab": {
          "base_uri": "https://localhost:8080/",
          "height": 194
        },
        "outputId": "d22d3c6a-0e3d-4a98-a3cb-f593adcac671"
      },
      "source": [
        "glue_batch_sst2 = {key: val[:10] for key, val in glue_train_sst2.items()}\n",
        "\n",
        "bert_classifier(glue_batch_sst2, training=True).numpy()"
      ],
      "execution_count": null,
      "outputs": [
        {
          "output_type": "execute_result",
          "data": {
            "text/plain": [
              "array([[ 0.13329169, -0.11979671],\n",
              "       [ 0.21844661, -0.03019841],\n",
              "       [ 0.23231071, -0.06961063],\n",
              "       [ 0.07338411,  0.05414863],\n",
              "       [ 0.3655791 , -0.08618423],\n",
              "       [ 0.07139898, -0.12047008],\n",
              "       [ 0.32631668, -0.10422374],\n",
              "       [ 0.08241622,  0.08850386],\n",
              "       [ 0.07363332, -0.0142684 ],\n",
              "       [ 0.15034994,  0.03869385]], dtype=float32)"
            ]
          },
          "metadata": {
            "tags": []
          },
          "execution_count": 74
        }
      ]
    },
    {
      "cell_type": "code",
      "metadata": {
        "id": "q3-4VIQZy2em",
        "colab_type": "code",
        "colab": {}
      },
      "source": [
        "bert_classifier, bert_encoder = bert.bert_models.classifier_model(\n",
        "    bert_config, num_labels=2)"
      ],
      "execution_count": null,
      "outputs": []
    },
    {
      "cell_type": "code",
      "metadata": {
        "id": "IXmFAgwhy2XG",
        "colab_type": "code",
        "colab": {
          "base_uri": "https://localhost:8080/",
          "height": 220
        },
        "outputId": "e80d8289-61a9-4de0-f021-67e97b4c17ef"
      },
      "source": [
        "tf.keras.utils.plot_model(bert_classifier, show_shapes=True, dpi=48)"
      ],
      "execution_count": null,
      "outputs": [
        {
          "output_type": "execute_result",
          "data": {
            "image/png": "[encoded data removed]",
            "text/plain": [
              "<IPython.core.display.Image object>"
            ]
          },
          "metadata": {
            "tags": []
          },
          "execution_count": 76
        }
      ]
    },
    {
      "cell_type": "code",
      "metadata": {
        "id": "SmJKwcyGCAPz",
        "colab_type": "code",
        "colab": {
          "base_uri": "https://localhost:8080/",
          "height": 194
        },
        "outputId": "26222671-92d3-4e1a-9e99-a18ea3aa3618"
      },
      "source": [
        "glue_batch_sst2 = {key: val[:10] for key, val in glue_train_sst2.items()}\n",
        "\n",
        "bert_classifier(\n",
        "    glue_batch_sst2, training=True\n",
        ").numpy()"
      ],
      "execution_count": null,
      "outputs": [
        {
          "output_type": "execute_result",
          "data": {
            "text/plain": [
              "array([[-0.09874091,  0.37971368],\n",
              "       [-0.1994424 ,  0.51934296],\n",
              "       [-0.0297375 ,  0.12908526],\n",
              "       [-0.23186666,  0.38288194],\n",
              "       [ 0.0012027 ,  0.4720629 ],\n",
              "       [ 0.02461315,  0.37804434],\n",
              "       [-0.37308824,  0.4951066 ],\n",
              "       [-0.19299322,  0.47721907],\n",
              "       [-0.3990406 ,  0.4820495 ],\n",
              "       [-0.25461993,  0.27948502]], dtype=float32)"
            ]
          },
          "metadata": {
            "tags": []
          },
          "execution_count": 77
        }
      ]
    },
    {
      "cell_type": "code",
      "metadata": {
        "id": "_76msRP8CANY",
        "colab_type": "code",
        "colab": {
          "base_uri": "https://localhost:8080/",
          "height": 34
        },
        "outputId": "05ab6e07-2ee4-41e7-c4c6-5ff7f7edc513"
      },
      "source": [
        "checkpoint = tf.train.Checkpoint(model=bert_encoder)\n",
        "checkpoint.restore(\n",
        "    os.path.join(gs_folder_bert, 'bert_model.ckpt')).assert_consumed()"
      ],
      "execution_count": null,
      "outputs": [
        {
          "output_type": "execute_result",
          "data": {
            "text/plain": [
              "<tensorflow.python.training.tracking.util.CheckpointLoadStatus at 0x7fdaf6bb6978>"
            ]
          },
          "metadata": {
            "tags": []
          },
          "execution_count": 78
        }
      ]
    },
    {
      "cell_type": "code",
      "metadata": {
        "id": "CYhS36SqCSc5",
        "colab_type": "code",
        "colab": {}
      },
      "source": [
        "# Set up epochs and steps\n",
        "epochs = 3\n",
        "batch_size = 32\n",
        "eval_batch_size = 32\n",
        "\n",
        "train_data_size = len(glue_train_sst2_labels)\n",
        "steps_per_epoch = int(train_data_size / batch_size)\n",
        "num_train_steps = steps_per_epoch * epochs\n",
        "warmup_steps = int(epochs * train_data_size * 0.1 / batch_size)\n",
        "\n",
        "# creates an optimizer with learning rate schedule\n",
        "optimizer = nlp.optimization.create_optimizer(\n",
        "    2e-5, num_train_steps=num_train_steps, num_warmup_steps=warmup_steps)"
      ],
      "execution_count": null,
      "outputs": []
    },
    {
      "cell_type": "code",
      "metadata": {
        "id": "FxdY21AuCSiT",
        "colab_type": "code",
        "colab": {
          "base_uri": "https://localhost:8080/",
          "height": 34
        },
        "outputId": "773f00b7-e333-4778-8cf6-81051b613b1b"
      },
      "source": [
        "type(optimizer)"
      ],
      "execution_count": null,
      "outputs": [
        {
          "output_type": "execute_result",
          "data": {
            "text/plain": [
              "official.nlp.optimization.AdamWeightDecay"
            ]
          },
          "metadata": {
            "tags": []
          },
          "execution_count": 82
        }
      ]
    },
    {
      "cell_type": "code",
      "metadata": {
        "id": "_rSvwIqJCSgA",
        "colab_type": "code",
        "colab": {
          "base_uri": "https://localhost:8080/",
          "height": 141
        },
        "outputId": "80542e5f-c5d2-4009-8870-c54cbd1b1028"
      },
      "source": [
        "metrics = [tf.keras.metrics.SparseCategoricalAccuracy('accuracy', dtype=tf.float32)]\n",
        "loss = tf.keras.losses.SparseCategoricalCrossentropy(from_logits=True)\n",
        "\n",
        "bert_classifier.compile(\n",
        "    optimizer=optimizer,\n",
        "    loss=loss,\n",
        "    metrics=metrics)\n",
        "\n",
        "bert_classifier.fit(\n",
        "      glue_train_sst2, glue_train_sst2_labels,\n",
        "      validation_data=(glue_validation_sst2, glue_validation_sst2_labels),\n",
        "      batch_size=32,\n",
        "      epochs=epochs)"
      ],
      "execution_count": null,
      "outputs": [
        {
          "output_type": "stream",
          "text": [
            "Epoch 1/3\n",
            "2105/2105 [==============================] - 1696s 806ms/step - loss: 0.3781 - accuracy: 0.8104 - val_loss: 0.2251 - val_accuracy: 0.9186\n",
            "Epoch 2/3\n",
            "2105/2105 [==============================] - 1681s 799ms/step - loss: 0.1092 - accuracy: 0.9615 - val_loss: 0.2418 - val_accuracy: 0.9174\n",
            "Epoch 3/3\n",
            "2105/2105 [==============================] - 1681s 799ms/step - loss: 0.0665 - accuracy: 0.9789 - val_loss: 0.2671 - val_accuracy: 0.9232\n"
          ],
          "name": "stdout"
        },
        {
          "output_type": "execute_result",
          "data": {
            "text/plain": [
              "<tensorflow.python.keras.callbacks.History at 0x7fdaf3de1dd8>"
            ]
          },
          "metadata": {
            "tags": []
          },
          "execution_count": 86
        }
      ]
    },
    {
      "cell_type": "markdown",
      "metadata": {
        "id": "3bVTrbXKInx0",
        "colab_type": "text"
      },
      "source": [
        "steve justin biebere"
      ]
    },
    {
      "cell_type": "code",
      "metadata": {
        "id": "rfKP48UcWx8s",
        "colab_type": "code",
        "colab": {}
      },
      "source": [
        "my_examples_sst2 = bert_encode_sst2(\n",
        "    glue_dict = {\n",
        "        'sentence':[\n",
        "            'The rain in Spain falls mainly on the plain.',\n",
        "            'Look I fine tuned BERT.', 'It mostly rains on the flat lands of Spain.',\n",
        "            'Is it working? This does not match.']\n",
        "    },\n",
        "    tokenizer=tokenizer)"
      ],
      "execution_count": null,
      "outputs": []
    },
    {
      "cell_type": "code",
      "metadata": {
        "id": "a3m5NwC_WyJW",
        "colab_type": "code",
        "colab": {
          "base_uri": "https://localhost:8080/",
          "height": 34
        },
        "outputId": "bb643691-8ebd-447c-874d-1e974dc22300"
      },
      "source": [
        "result = bert_classifier(my_examples_sst2, training=False)\n",
        "\n",
        "result = tf.argmax(result, axis = 1).numpy()\n",
        "result"
      ],
      "execution_count": null,
      "outputs": [
        {
          "output_type": "execute_result",
          "data": {
            "text/plain": [
              "array([0, 1, 1, 0])"
            ]
          },
          "metadata": {
            "tags": []
          },
          "execution_count": 89
        }
      ]
    },
    {
      "cell_type": "code",
      "metadata": {
        "id": "00y6QMg8WyGv",
        "colab_type": "code",
        "colab": {
          "base_uri": "https://localhost:8080/",
          "height": 52
        },
        "outputId": "3dd8e277-8b43-4c79-e053-3d0d05e6af36"
      },
      "source": [
        "np.array(info.features['label'].names)[result]"
      ],
      "execution_count": null,
      "outputs": [
        {
          "output_type": "execute_result",
          "data": {
            "text/plain": [
              "array(['not_equivalent', 'equivalent', 'equivalent', 'not_equivalent'],\n",
              "      dtype='<U14')"
            ]
          },
          "metadata": {
            "tags": []
          },
          "execution_count": 90
        }
      ]
    },
    {
      "cell_type": "code",
      "metadata": {
        "id": "-MloFzB4WyDq",
        "colab_type": "code",
        "colab": {
          "base_uri": "https://localhost:8080/",
          "height": 285
        },
        "outputId": "7c08a9b6-efe0-4a80-efd2-b4a6276f0289"
      },
      "source": [
        "export_dir='./saved_model_bert_sst2'\n",
        "tf.saved_model.save(bert_classifier, export_dir=export_dir)"
      ],
      "execution_count": null,
      "outputs": [
        {
          "output_type": "stream",
          "text": [
            "WARNING:tensorflow:From /usr/local/lib/python3.6/dist-packages/tensorflow/python/training/tracking/tracking.py:111: Model.state_updates (from tensorflow.python.keras.engine.training) is deprecated and will be removed in a future version.\n",
            "Instructions for updating:\n",
            "This property should not be used in TensorFlow 2.0, as updates are applied automatically.\n"
          ],
          "name": "stdout"
        },
        {
          "output_type": "stream",
          "text": [
            "WARNING:tensorflow:From /usr/local/lib/python3.6/dist-packages/tensorflow/python/training/tracking/tracking.py:111: Model.state_updates (from tensorflow.python.keras.engine.training) is deprecated and will be removed in a future version.\n",
            "Instructions for updating:\n",
            "This property should not be used in TensorFlow 2.0, as updates are applied automatically.\n"
          ],
          "name": "stderr"
        },
        {
          "output_type": "stream",
          "text": [
            "WARNING:tensorflow:From /usr/local/lib/python3.6/dist-packages/tensorflow/python/training/tracking/tracking.py:111: Layer.updates (from tensorflow.python.keras.engine.base_layer) is deprecated and will be removed in a future version.\n",
            "Instructions for updating:\n",
            "This property should not be used in TensorFlow 2.0, as updates are applied automatically.\n"
          ],
          "name": "stdout"
        },
        {
          "output_type": "stream",
          "text": [
            "WARNING:tensorflow:From /usr/local/lib/python3.6/dist-packages/tensorflow/python/training/tracking/tracking.py:111: Layer.updates (from tensorflow.python.keras.engine.base_layer) is deprecated and will be removed in a future version.\n",
            "Instructions for updating:\n",
            "This property should not be used in TensorFlow 2.0, as updates are applied automatically.\n"
          ],
          "name": "stderr"
        },
        {
          "output_type": "stream",
          "text": [
            "INFO:tensorflow:Assets written to: ./saved_model_bert_sst2/assets\n"
          ],
          "name": "stdout"
        },
        {
          "output_type": "stream",
          "text": [
            "INFO:tensorflow:Assets written to: ./saved_model_bert_sst2/assets\n"
          ],
          "name": "stderr"
        }
      ]
    },
    {
      "cell_type": "code",
      "metadata": {
        "id": "QFffWKa9WyBn",
        "colab_type": "code",
        "colab": {
          "base_uri": "https://localhost:8080/",
          "height": 123
        },
        "outputId": "274493bb-9643-4958-c7b6-577973fbfaaf"
      },
      "source": [
        "!zip -r bert_sst2_sentiment_classifier_model.zip /content/saved_model_bert_sst2"
      ],
      "execution_count": null,
      "outputs": [
        {
          "output_type": "stream",
          "text": [
            "  adding: content/saved_model_bert_sst2/ (stored 0%)\n",
            "  adding: content/saved_model_bert_sst2/assets/ (stored 0%)\n",
            "  adding: content/saved_model_bert_sst2/saved_model.pb (deflated 93%)\n",
            "  adding: content/saved_model_bert_sst2/variables/ (stored 0%)\n",
            "  adding: content/saved_model_bert_sst2/variables/variables.index (deflated 76%)\n",
            "  adding: content/saved_model_bert_sst2/variables/variables.data-00000-of-00001 (deflated 7%)\n"
          ],
          "name": "stdout"
        }
      ]
    },
    {
      "cell_type": "code",
      "metadata": {
        "id": "jIxh0USKWx58",
        "colab_type": "code",
        "colab": {}
      },
      "source": [
        ""
      ],
      "execution_count": null,
      "outputs": []
    },
    {
      "cell_type": "code",
      "metadata": {
        "id": "TOGZIimWy2VS",
        "colab_type": "code",
        "colab": {}
      },
      "source": [
        "# Build the rest of the classifier \n",
        "dense = tf.keras.layers.Dense(256, activation='gelu')\n",
        "pred = tf.keras.layers.Dense(1, activation='sigmoid')"
      ],
      "execution_count": null,
      "outputs": []
    },
    {
      "cell_type": "markdown",
      "metadata": {
        "id": "j-mjpzTgsG8p",
        "colab_type": "text"
      },
      "source": [
        "# Cola BERT Model (Manual attachment of encoder and classifier)\n",
        "\n",
        "**Summary**\n",
        "\n",
        "1. Load the pretrained encoder from tf hub and restore its weights from checkpoints. If you change the architecture like key and value sizes etc, you may need to pretrain model from scratch else weights can be restored.\n",
        "\n",
        "2. Download and preprocess the input dataset, During preprocessing use punctuation, space and wordpiece tokenizer. \n",
        "\n",
        "3. Download the pretrained vocabulary file which has word id to token mapping. This also has unknown tokens, special symbols etc. For chinese or non-english charatcers download separate vocabulary. \n",
        "\n",
        "4. You can also pretrain the vocabulary or make your own vocabulary file based on your domain and language.\n",
        "\n",
        "5. BPT tokenizer will split each word to separate tokens greedily, Add ## to let know that this token is a part of another word and not a word in itself. Each token is assigned a word id according to the vocabulary\n",
        "\n",
        "6. During encoding apply two types of masks, one to know where sequence stops and padding starts and another to differentiate between the sentences in the paddings(two sentence similarity classifier). \n",
        "\n",
        "7. Theoretically we may still need mask to know where input sequence stops and padding starts and we can don't need input_word_ids mask for single sentences, but when tried to encode this way we will get failure due to the architecture. So we need to include the mask.\n",
        "\n",
        "8. Create a manual classifier wrapping the transformer encoder, which has linear layer with vocab size as output options.\n",
        "\n",
        "9. Pretrain the entire architecture where transformer weights would be tuned very finely (much smaller than pretraining) and also classifier.\n",
        "\n",
        "10. Test on our random data\n"
      ]
    },
    {
      "cell_type": "code",
      "metadata": {
        "id": "ziKnCP8hE00-",
        "colab_type": "code",
        "colab": {
          "base_uri": "https://localhost:8080/",
          "height": 87
        },
        "outputId": "718711e1-164a-4fe8-f9b6-9bf34a24b68d"
      },
      "source": [
        "gs_folder_bert = \"gs://cloud-tpu-checkpoints/bert/keras_bert/uncased_L-12_H-768_A-12\"\n",
        "tf.io.gfile.listdir(gs_folder_bert)"
      ],
      "execution_count": 4,
      "outputs": [
        {
          "output_type": "execute_result",
          "data": {
            "text/plain": [
              "['bert_config.json',\n",
              " 'bert_model.ckpt.data-00000-of-00001',\n",
              " 'bert_model.ckpt.index',\n",
              " 'vocab.txt']"
            ]
          },
          "metadata": {
            "tags": []
          },
          "execution_count": 4
        }
      ]
    },
    {
      "cell_type": "code",
      "metadata": {
        "id": "MEONEGEEE07g",
        "colab_type": "code",
        "colab": {}
      },
      "source": [
        "hub_url_bert = \"https://tfhub.dev/tensorflow/bert_en_uncased_L-12_H-768_A-12/2\""
      ],
      "execution_count": 5,
      "outputs": []
    },
    {
      "cell_type": "code",
      "metadata": {
        "id": "PgnakxCXE1An",
        "colab_type": "code",
        "colab": {
          "base_uri": "https://localhost:8080/",
          "height": 161
        },
        "outputId": "88cb26ab-4b0b-4eda-b954-675c6995eea3"
      },
      "source": [
        "glue, info = tfds.load('glue/cola', with_info=True,\n",
        "                       # It's small, load the whole dataset\n",
        "                       batch_size=-1)"
      ],
      "execution_count": 6,
      "outputs": [
        {
          "output_type": "stream",
          "text": [
            "\u001b[1mDownloading and preparing dataset glue/cola/1.0.0 (download: 368.14 KiB, generated: Unknown size, total: 368.14 KiB) to /root/tensorflow_datasets/glue/cola/1.0.0...\u001b[0m\n"
          ],
          "name": "stdout"
        },
        {
          "output_type": "stream",
          "text": [
            "/usr/local/lib/python3.6/dist-packages/urllib3/connectionpool.py:847: InsecureRequestWarning: Unverified HTTPS request is being made. Adding certificate verification is strongly advised. See: https://urllib3.readthedocs.io/en/latest/advanced-usage.html#ssl-warnings\n",
            "  InsecureRequestWarning)\n"
          ],
          "name": "stderr"
        },
        {
          "output_type": "stream",
          "text": [
            "Shuffling and writing examples to /root/tensorflow_datasets/glue/cola/1.0.0.incompleteOKN1KI/glue-train.tfrecord\n",
            "Shuffling and writing examples to /root/tensorflow_datasets/glue/cola/1.0.0.incompleteOKN1KI/glue-validation.tfrecord\n",
            "Shuffling and writing examples to /root/tensorflow_datasets/glue/cola/1.0.0.incompleteOKN1KI/glue-test.tfrecord\n",
            "\u001b[1mDataset glue downloaded and prepared to /root/tensorflow_datasets/glue/cola/1.0.0. Subsequent calls will reuse this data.\u001b[0m\n"
          ],
          "name": "stdout"
        }
      ]
    },
    {
      "cell_type": "code",
      "metadata": {
        "id": "Jb_SSGVjE0-y",
        "colab_type": "code",
        "colab": {
          "base_uri": "https://localhost:8080/",
          "height": 34
        },
        "outputId": "12a854be-692d-4b23-a7db-ce46e53c8027"
      },
      "source": [
        "list(glue.keys())"
      ],
      "execution_count": 7,
      "outputs": [
        {
          "output_type": "execute_result",
          "data": {
            "text/plain": [
              "['test', 'train', 'validation']"
            ]
          },
          "metadata": {
            "tags": []
          },
          "execution_count": 7
        }
      ]
    },
    {
      "cell_type": "code",
      "metadata": {
        "id": "55H6dXevE04x",
        "colab_type": "code",
        "colab": {
          "base_uri": "https://localhost:8080/",
          "height": 105
        },
        "outputId": "f77eafec-330a-486f-c252-83db77a271c7"
      },
      "source": [
        "info.features"
      ],
      "execution_count": 8,
      "outputs": [
        {
          "output_type": "execute_result",
          "data": {
            "text/plain": [
              "FeaturesDict({\n",
              "    'idx': tf.int32,\n",
              "    'label': ClassLabel(shape=(), dtype=tf.int64, num_classes=2),\n",
              "    'sentence': Text(shape=(), dtype=tf.string),\n",
              "})"
            ]
          },
          "metadata": {
            "tags": []
          },
          "execution_count": 8
        }
      ]
    },
    {
      "cell_type": "code",
      "metadata": {
        "id": "NxSCAC6dGdKr",
        "colab_type": "code",
        "colab": {
          "base_uri": "https://localhost:8080/",
          "height": 34
        },
        "outputId": "c0197af9-04e6-447d-88eb-1471a921509c"
      },
      "source": [
        "info.features['label'].names"
      ],
      "execution_count": 9,
      "outputs": [
        {
          "output_type": "execute_result",
          "data": {
            "text/plain": [
              "['unacceptable', 'acceptable']"
            ]
          },
          "metadata": {
            "tags": []
          },
          "execution_count": 9
        }
      ]
    },
    {
      "cell_type": "code",
      "metadata": {
        "id": "dDrsyT14GdNt",
        "colab_type": "code",
        "colab": {
          "base_uri": "https://localhost:8080/",
          "height": 70
        },
        "outputId": "d937228a-ead0-4bbb-93af-9f3a19b8a442"
      },
      "source": [
        "glue_train = glue['train']\n",
        "\n",
        "for key, value in glue_train.items():\n",
        "  print(f\"{key:9s}: {value[0].numpy()}\")"
      ],
      "execution_count": 10,
      "outputs": [
        {
          "output_type": "stream",
          "text": [
            "idx      : 1680\n",
            "label    : 1\n",
            "sentence : b'It is this hat that it is certain that he was wearing.'\n"
          ],
          "name": "stdout"
        }
      ]
    },
    {
      "cell_type": "code",
      "metadata": {
        "id": "PNsjZ6WaGh3A",
        "colab_type": "code",
        "colab": {
          "base_uri": "https://localhost:8080/",
          "height": 34
        },
        "outputId": "5dac5112-2592-420b-8125-a4a79990fd28"
      },
      "source": [
        "# Set up tokenizer to generate Tensorflow dataset\n",
        "tokenizer = bert.tokenization.FullTokenizer(\n",
        "    vocab_file=os.path.join(gs_folder_bert, \"vocab.txt\"),\n",
        "     do_lower_case=True)\n",
        "\n",
        "print(\"Vocab size:\", len(tokenizer.vocab))"
      ],
      "execution_count": 11,
      "outputs": [
        {
          "output_type": "stream",
          "text": [
            "Vocab size: 30522\n"
          ],
          "name": "stdout"
        }
      ]
    },
    {
      "cell_type": "code",
      "metadata": {
        "id": "IzoZbzWdGh5y",
        "colab_type": "code",
        "colab": {
          "base_uri": "https://localhost:8080/",
          "height": 52
        },
        "outputId": "2fea0073-f755-44bf-9951-c7260003b7a3"
      },
      "source": [
        "tokens = tokenizer.tokenize(\"Hello TensorFlow!\")\n",
        "print(tokens)\n",
        "ids = tokenizer.convert_tokens_to_ids(tokens)\n",
        "print(ids)"
      ],
      "execution_count": 12,
      "outputs": [
        {
          "output_type": "stream",
          "text": [
            "['hello', 'tensor', '##flow', '!']\n",
            "[7592, 23435, 12314, 999]\n"
          ],
          "name": "stdout"
        }
      ]
    },
    {
      "cell_type": "code",
      "metadata": {
        "id": "sGlQGDKIGh_H",
        "colab_type": "code",
        "colab": {
          "base_uri": "https://localhost:8080/",
          "height": 34
        },
        "outputId": "10cbe3fc-a184-4dfd-9b27-ad15fd127e51"
      },
      "source": [
        "tokenizer.convert_tokens_to_ids(['[CLS]', '[SEP]'])"
      ],
      "execution_count": 13,
      "outputs": [
        {
          "output_type": "execute_result",
          "data": {
            "text/plain": [
              "[101, 102]"
            ]
          },
          "metadata": {
            "tags": []
          },
          "execution_count": 13
        }
      ]
    },
    {
      "cell_type": "code",
      "metadata": {
        "id": "BKV151t6Gh9y",
        "colab_type": "code",
        "colab": {}
      },
      "source": [
        "def encode_sentence(s):\n",
        "   tokens = list(tokenizer.tokenize(s.numpy()))\n",
        "   tokens.append('[SEP]')\n",
        "   return tokenizer.convert_tokens_to_ids(tokens)\n",
        "\n",
        "sentence = tf.ragged.constant([\n",
        "    encode_sentence(s) for s in glue_train[\"sentence\"]])"
      ],
      "execution_count": 14,
      "outputs": []
    },
    {
      "cell_type": "code",
      "metadata": {
        "id": "1nUBqDQQGdVG",
        "colab_type": "code",
        "colab": {
          "base_uri": "https://localhost:8080/",
          "height": 34
        },
        "outputId": "ab9d0440-f58a-4408-a27a-fdcf0cb675d4"
      },
      "source": [
        "print(\"Sentence shape:\", sentence.shape.as_list())\n"
      ],
      "execution_count": 15,
      "outputs": [
        {
          "output_type": "stream",
          "text": [
            "Sentence shape: [8551, None]\n"
          ],
          "name": "stdout"
        }
      ]
    },
    {
      "cell_type": "code",
      "metadata": {
        "id": "33bFCq1TG1fo",
        "colab_type": "code",
        "colab": {
          "base_uri": "https://localhost:8080/",
          "height": 264
        },
        "outputId": "858904c6-d6ef-4145-96c9-67341a10d0ae"
      },
      "source": [
        "cls = [tokenizer.convert_tokens_to_ids(['[CLS]'])]*sentence.shape[0]\n",
        "input_word_ids = tf.concat([cls, sentence], axis=-1)\n",
        "_ = plt.pcolormesh(input_word_ids.to_tensor())\n"
      ],
      "execution_count": 16,
      "outputs": [
        {
          "output_type": "display_data",
          "data": {
            "image/png": "[encoded data removed]",
            "text/plain": [
              "<Figure size 432x288 with 1 Axes>"
            ]
          },
          "metadata": {
            "tags": [],
            "needs_background": "light"
          }
        }
      ]
    },
    {
      "cell_type": "code",
      "metadata": {
        "id": "ige-lLixG1lJ",
        "colab_type": "code",
        "colab": {
          "base_uri": "https://localhost:8080/",
          "height": 282
        },
        "outputId": "2286d96e-5811-482c-baab-43173552a376"
      },
      "source": [
        "input_mask = tf.ones_like(input_word_ids).to_tensor()\n",
        "\n",
        "plt.pcolormesh(input_mask)"
      ],
      "execution_count": 17,
      "outputs": [
        {
          "output_type": "execute_result",
          "data": {
            "text/plain": [
              "<matplotlib.collections.QuadMesh at 0x7f806debf208>"
            ]
          },
          "metadata": {
            "tags": []
          },
          "execution_count": 17
        },
        {
          "output_type": "display_data",
          "data": {
            "image/png": "[encoded data removed]",
            "text/plain": [
              "<Figure size 432x288 with 1 Axes>"
            ]
          },
          "metadata": {
            "tags": [],
            "needs_background": "light"
          }
        }
      ]
    },
    {
      "cell_type": "code",
      "metadata": {
        "id": "xMteNvJ1HFVB",
        "colab_type": "code",
        "colab": {
          "base_uri": "https://localhost:8080/",
          "height": 282
        },
        "outputId": "e603e648-842e-4d78-e3e9-bcfa1d7175bb"
      },
      "source": [
        "type_cls = tf.ones_like(cls)\n",
        "type_s = tf.ones_like(sentence)\n",
        "input_type_ids = tf.concat([type_cls, type_s], axis=-1).to_tensor()\n",
        "\n",
        "plt.pcolormesh(input_type_ids)"
      ],
      "execution_count": 19,
      "outputs": [
        {
          "output_type": "execute_result",
          "data": {
            "text/plain": [
              "<matplotlib.collections.QuadMesh at 0x7f806df92d68>"
            ]
          },
          "metadata": {
            "tags": []
          },
          "execution_count": 19
        },
        {
          "output_type": "display_data",
          "data": {
            "image/png": "[encoded data removed]",
            "text/plain": [
              "<Figure size 432x288 with 1 Axes>"
            ]
          },
          "metadata": {
            "tags": [],
            "needs_background": "light"
          }
        }
      ]
    },
    {
      "cell_type": "code",
      "metadata": {
        "id": "YExAewcNHFYp",
        "colab_type": "code",
        "colab": {}
      },
      "source": [
        "def encode_sentence(s, tokenizer):\n",
        "   tokens = list(tokenizer.tokenize(s))\n",
        "   tokens.append('[SEP]')\n",
        "   return tokenizer.convert_tokens_to_ids(tokens)\n",
        "\n",
        "def bert_encode(glue_dict, tokenizer):\n",
        "  num_examples = len(glue_dict[\"sentence\"])\n",
        "  \n",
        "  sentence = tf.ragged.constant([\n",
        "      encode_sentence(s, tokenizer)\n",
        "      for s in np.array(glue_dict[\"sentence\"])])\n",
        "\n",
        "  cls = [tokenizer.convert_tokens_to_ids(['[CLS]'])]*sentence.shape[0]\n",
        "  input_word_ids = tf.concat([cls, sentence], axis=-1)\n",
        "\n",
        "  input_mask = tf.ones_like(input_word_ids).to_tensor()\n",
        "\n",
        "  \n",
        "  type_cls = tf.ones_like(cls)\n",
        "  type_s = tf.ones_like(sentence)\n",
        "  input_type_ids = tf.concat(\n",
        "      [type_cls, type_s], axis=-1).to_tensor()\n",
        "  \n",
        "  \n",
        "  inputs = {\n",
        "      'input_word_ids': input_word_ids.to_tensor(),\n",
        "      'input_mask': input_mask,\n",
        "      'input_type_ids': input_type_ids}\n",
        "\n",
        "  return inputs"
      ],
      "execution_count": 50,
      "outputs": []
    },
    {
      "cell_type": "code",
      "metadata": {
        "id": "nvA0Xz9aG1if",
        "colab_type": "code",
        "colab": {}
      },
      "source": [
        "glue_train = bert_encode(glue['train'], tokenizer)\n",
        "glue_train_labels = glue['train']['label']\n",
        "\n",
        "glue_validation = bert_encode(glue['validation'], tokenizer)\n",
        "glue_validation_labels = glue['validation']['label']\n",
        "\n",
        "glue_test = bert_encode(glue['test'], tokenizer)\n",
        "glue_test_labels  = glue['test']['label']"
      ],
      "execution_count": 43,
      "outputs": []
    },
    {
      "cell_type": "code",
      "metadata": {
        "id": "PLQr-esRHrqD",
        "colab_type": "code",
        "colab": {
          "base_uri": "https://localhost:8080/",
          "height": 87
        },
        "outputId": "5e33645a-a03c-449e-a85f-db3be9a7ea83"
      },
      "source": [
        "for key, value in glue_train.items():\n",
        "  print(f'{key:15s} shape: {value.shape}')\n",
        "\n",
        "print(f'glue_train_labels shape: {glue_train_labels.shape}')"
      ],
      "execution_count": 44,
      "outputs": [
        {
          "output_type": "stream",
          "text": [
            "input_word_ids  shape: (8551, 47)\n",
            "input_mask      shape: (8551, 47)\n",
            "input_type_ids  shape: (8551, 47)\n",
            "glue_train_labels shape: (8551,)\n"
          ],
          "name": "stdout"
        }
      ]
    },
    {
      "cell_type": "code",
      "metadata": {
        "id": "Dxyn_xGtI5YU",
        "colab_type": "code",
        "colab": {
          "base_uri": "https://localhost:8080/",
          "height": 212
        },
        "outputId": "5db79eff-8fde-4b79-f005-11f272b31696"
      },
      "source": [
        "import json\n",
        "\n",
        "bert_config_file = os.path.join(gs_folder_bert, \"bert_config.json\")\n",
        "config_dict = json.loads(tf.io.gfile.GFile(bert_config_file).read())\n",
        "\n",
        "bert_config = bert.configs.BertConfig.from_dict(config_dict)\n",
        "\n",
        "config_dict"
      ],
      "execution_count": 24,
      "outputs": [
        {
          "output_type": "execute_result",
          "data": {
            "text/plain": [
              "{'attention_probs_dropout_prob': 0.1,\n",
              " 'hidden_act': 'gelu',\n",
              " 'hidden_dropout_prob': 0.1,\n",
              " 'hidden_size': 768,\n",
              " 'initializer_range': 0.02,\n",
              " 'intermediate_size': 3072,\n",
              " 'max_position_embeddings': 512,\n",
              " 'num_attention_heads': 12,\n",
              " 'num_hidden_layers': 12,\n",
              " 'type_vocab_size': 2,\n",
              " 'vocab_size': 30522}"
            ]
          },
          "metadata": {
            "tags": []
          },
          "execution_count": 24
        }
      ]
    },
    {
      "cell_type": "code",
      "metadata": {
        "id": "4easEBkqHrtG",
        "colab_type": "code",
        "colab": {
          "base_uri": "https://localhost:8080/",
          "height": 212
        },
        "outputId": "e94bf158-fec5-41fc-f69e-9ca009cd2a69"
      },
      "source": [
        "transformer_config = config_dict.copy()\n",
        "\n",
        "# You need to rename a few fields to make this work:\n",
        "transformer_config['attention_dropout_rate'] = transformer_config.pop('attention_probs_dropout_prob')\n",
        "transformer_config['activation'] = tf_utils.get_activation(transformer_config.pop('hidden_act'))\n",
        "transformer_config['dropout_rate'] = transformer_config.pop('hidden_dropout_prob')\n",
        "transformer_config['initializer'] = tf.keras.initializers.TruncatedNormal(\n",
        "          stddev=transformer_config.pop('initializer_range'))\n",
        "transformer_config['max_sequence_length'] = transformer_config.pop('max_position_embeddings')\n",
        "transformer_config['num_layers'] = transformer_config.pop('num_hidden_layers')\n",
        "\n",
        "transformer_config"
      ],
      "execution_count": 25,
      "outputs": [
        {
          "output_type": "execute_result",
          "data": {
            "text/plain": [
              "{'activation': <function official.modeling.activations.gelu.gelu>,\n",
              " 'attention_dropout_rate': 0.1,\n",
              " 'dropout_rate': 0.1,\n",
              " 'hidden_size': 768,\n",
              " 'initializer': <tensorflow.python.keras.initializers.initializers_v2.TruncatedNormal at 0x7f806dfec208>,\n",
              " 'intermediate_size': 3072,\n",
              " 'max_sequence_length': 512,\n",
              " 'num_attention_heads': 12,\n",
              " 'num_layers': 12,\n",
              " 'type_vocab_size': 2,\n",
              " 'vocab_size': 30522}"
            ]
          },
          "metadata": {
            "tags": []
          },
          "execution_count": 25
        }
      ]
    },
    {
      "cell_type": "markdown",
      "metadata": {
        "id": "rCjT_fznrx2L",
        "colab_type": "text"
      },
      "source": [
        "![image.png](data:image/png;base64,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)"
      ]
    },
    {
      "cell_type": "markdown",
      "metadata": {
        "id": "dpi4HNzur0MQ",
        "colab_type": "text"
      },
      "source": [
        "**It seems like The lambda layer is extracting information from last encoder layer output. Also it seems like it being picked from a single attention head 0:1 slicing.**\n",
        "\n",
        "**The pooler layer is just a dense layer with Tanh activation on embedding from lambda layer.** **bold text**"
      ]
    },
    {
      "cell_type": "code",
      "metadata": {
        "id": "rlAbXf2oGdTZ",
        "colab_type": "code",
        "colab": {}
      },
      "source": [
        "manual_encoder = nlp.modeling.networks.TransformerEncoder(**transformer_config)"
      ],
      "execution_count": 26,
      "outputs": []
    },
    {
      "cell_type": "code",
      "metadata": {
        "id": "cx6EDDDdJFad",
        "colab_type": "code",
        "colab": {
          "base_uri": "https://localhost:8080/",
          "height": 34
        },
        "outputId": "241c1c38-da7d-4931-e57f-5bc31ac1a3c4"
      },
      "source": [
        "checkpoint = tf.train.Checkpoint(model=manual_encoder)\n",
        "checkpoint.restore(\n",
        "    os.path.join(gs_folder_bert, 'bert_model.ckpt')).assert_consumed()"
      ],
      "execution_count": 27,
      "outputs": [
        {
          "output_type": "execute_result",
          "data": {
            "text/plain": [
              "<tensorflow.python.training.tracking.util.CheckpointLoadStatus at 0x7f80dc98ca20>"
            ]
          },
          "metadata": {
            "tags": []
          },
          "execution_count": 27
        }
      ]
    },
    {
      "cell_type": "code",
      "metadata": {
        "id": "yCzgdbKrg463",
        "colab_type": "code",
        "colab": {
          "base_uri": "https://localhost:8080/",
          "height": 1000
        },
        "outputId": "d7925109-8719-4abe-a197-efd25df04566"
      },
      "source": [
        "manual_encoder.trainable_weights[21]"
      ],
      "execution_count": 110,
      "outputs": [
        {
          "output_type": "execute_result",
          "data": {
            "text/plain": [
              "<tf.Variable 'transformer/layer_1/self_attention/query/kernel:0' shape=(768, 12, 64) dtype=float32, numpy=\n",
              "array([[[ 0.03111691, -0.01362056, -0.07754646, ..., -0.04953363,\n",
              "         -0.01315064,  0.00493741],\n",
              "        [ 0.02049251,  0.04187879, -0.02212523, ...,  0.05867812,\n",
              "          0.15358211,  0.02076852],\n",
              "        [ 0.12322471,  0.03100824, -0.03068102, ..., -0.00852323,\n",
              "          0.05456061, -0.04423812],\n",
              "        ...,\n",
              "        [-0.05035662,  0.02771335, -0.03543352, ...,  0.02434521,\n",
              "          0.06291904, -0.06429093],\n",
              "        [ 0.03714303, -0.01758298,  0.01077895, ..., -0.02780365,\n",
              "          0.04491649, -0.02780394],\n",
              "        [ 0.00094853, -0.0263502 , -0.06482668, ...,  0.05963622,\n",
              "          0.00648222, -0.01244497]],\n",
              "\n",
              "       [[-0.02652482, -0.02519243, -0.05023147, ..., -0.04022506,\n",
              "         -0.07214471, -0.0311933 ],\n",
              "        [-0.01719973, -0.01337474, -0.02746766, ...,  0.04178743,\n",
              "          0.00329675,  0.03051708],\n",
              "        [ 0.02388339,  0.09261566,  0.04020307, ..., -0.11452886,\n",
              "          0.0098722 , -0.01801846],\n",
              "        ...,\n",
              "        [-0.02408614,  0.01449887,  0.02375197, ..., -0.08102578,\n",
              "         -0.09552595,  0.03908557],\n",
              "        [-0.00276119, -0.01114371,  0.02989946, ..., -0.08135079,\n",
              "          0.0382063 ,  0.04377875],\n",
              "        [ 0.03458717, -0.02864675,  0.00452263, ..., -0.0219635 ,\n",
              "         -0.01063648, -0.01176907]],\n",
              "\n",
              "       [[ 0.00455845, -0.02835423, -0.00879396, ...,  0.01379515,\n",
              "         -0.0060841 ,  0.06518131],\n",
              "        [ 0.01384888, -0.07408091, -0.00144418, ..., -0.02201555,\n",
              "         -0.01264717,  0.13696875],\n",
              "        [-0.03555767,  0.00455442, -0.03173738, ..., -0.07947158,\n",
              "         -0.00821324,  0.08981619],\n",
              "        ...,\n",
              "        [ 0.00212179, -0.02721709, -0.10574932, ...,  0.03954868,\n",
              "         -0.00788662, -0.07786632],\n",
              "        [-0.01637548, -0.04588656,  0.03621249, ..., -0.02108285,\n",
              "          0.00567049,  0.01247828],\n",
              "        [-0.05906413, -0.05407932,  0.03799299, ..., -0.03513176,\n",
              "         -0.00515054,  0.05531666]],\n",
              "\n",
              "       ...,\n",
              "\n",
              "       [[-0.03403516, -0.03523619,  0.01827315, ...,  0.05906365,\n",
              "         -0.02303937, -0.05303749],\n",
              "        [ 0.03250909, -0.01440772,  0.02900247, ...,  0.0196781 ,\n",
              "          0.03815403,  0.03216262],\n",
              "        [ 0.06700397,  0.0784319 ,  0.03058418, ...,  0.0320124 ,\n",
              "         -0.02073192,  0.01885118],\n",
              "        ...,\n",
              "        [ 0.00258342, -0.05396384,  0.02577013, ...,  0.05289067,\n",
              "         -0.00898334, -0.03457964],\n",
              "        [-0.0361236 ,  0.02948074,  0.00252616, ..., -0.04060473,\n",
              "         -0.04390584, -0.05373334],\n",
              "        [ 0.05205066,  0.03841095, -0.00854903, ...,  0.00752534,\n",
              "         -0.00347659,  0.10436213]],\n",
              "\n",
              "       [[-0.05932054,  0.05200861,  0.01158195, ...,  0.04370786,\n",
              "          0.00403937, -0.02766143],\n",
              "        [ 0.0089046 ,  0.02311945,  0.05833581, ..., -0.07514606,\n",
              "         -0.01051658,  0.02820243],\n",
              "        [ 0.03946994, -0.1058841 ,  0.01462637, ...,  0.0938238 ,\n",
              "         -0.01241225,  0.02413294],\n",
              "        ...,\n",
              "        [ 0.02458278,  0.01651199,  0.03971702, ...,  0.00037928,\n",
              "          0.01005286, -0.06900538],\n",
              "        [-0.03870172,  0.02985956, -0.02530233, ...,  0.01676359,\n",
              "          0.04986447,  0.05599654],\n",
              "        [-0.01881618, -0.0767019 ,  0.0009005 , ...,  0.0101634 ,\n",
              "          0.02462459, -0.05735328]],\n",
              "\n",
              "       [[ 0.06502078,  0.05005472, -0.04751962, ...,  0.04634751,\n",
              "          0.02600908, -0.02961266],\n",
              "        [ 0.01265311, -0.01331975, -0.02766852, ..., -0.03254051,\n",
              "          0.00906287, -0.05372033],\n",
              "        [ 0.03078497, -0.05039761,  0.03044803, ...,  0.03381754,\n",
              "          0.0683547 , -0.03309716],\n",
              "        ...,\n",
              "        [ 0.02016908,  0.05031526, -0.00638587, ..., -0.02620442,\n",
              "         -0.04961153, -0.02744842],\n",
              "        [ 0.0041144 ,  0.02551712,  0.01552503, ..., -0.01498533,\n",
              "          0.02756469,  0.00753877],\n",
              "        [-0.03003995,  0.01412739,  0.04736445, ..., -0.02780961,\n",
              "         -0.05916804,  0.02370745]]], dtype=float32)>"
            ]
          },
          "metadata": {
            "tags": []
          },
          "execution_count": 110
        }
      ]
    },
    {
      "cell_type": "code",
      "metadata": {
        "id": "ObkIO6-SkFed",
        "colab_type": "code",
        "colab": {}
      },
      "source": [
        "tme = manual_encoder.trainable_weights[21][:, 9, :]"
      ],
      "execution_count": 129,
      "outputs": []
    },
    {
      "cell_type": "code",
      "metadata": {
        "id": "6YRt_yhUjAdF",
        "colab_type": "code",
        "colab": {
          "base_uri": "https://localhost:8080/",
          "height": 286
        },
        "outputId": "b2ca1f48-a4fa-4fd8-c65b-447edef49008"
      },
      "source": [
        "plt.imshow(tme )"
      ],
      "execution_count": 130,
      "outputs": [
        {
          "output_type": "execute_result",
          "data": {
            "text/plain": [
              "<matplotlib.image.AxesImage at 0x7f80543fea90>"
            ]
          },
          "metadata": {
            "tags": []
          },
          "execution_count": 130
        },
        {
          "output_type": "display_data",
          "data": {
            "image/png": "[encoded data removed]",
            "text/plain": [
              "<Figure size 432x288 with 1 Axes>"
            ]
          },
          "metadata": {
            "tags": [],
            "needs_background": "light"
          }
        }
      ]
    },
    {
      "cell_type": "code",
      "metadata": {
        "id": "MKDwuV9QJPW_",
        "colab_type": "code",
        "colab": {}
      },
      "source": [
        "my_examples = bert_encode(\n",
        "    glue_dict = {\n",
        "        'sentence':[\n",
        "            'The rain in Spain falls mainly on the plain.',\n",
        "            'Look I fine tuned BERT.']},\n",
        "    tokenizer=tokenizer)"
      ],
      "execution_count": 48,
      "outputs": []
    },
    {
      "cell_type": "code",
      "metadata": {
        "id": "HZd5KbLlJFh8",
        "colab_type": "code",
        "colab": {
          "base_uri": "https://localhost:8080/",
          "height": 388
        },
        "outputId": "6ae5eab9-2db8-47e0-f5b3-d699fba9d3f5"
      },
      "source": [
        "result = manual_encoder(my_examples, training=False)\n",
        "\n",
        "print(\"Sequence output shape:\", result[0].shape)\n",
        "print(\"Pooled output shape:\", result[1].shape)"
      ],
      "execution_count": 49,
      "outputs": [
        {
          "output_type": "error",
          "ename": "AssertionError",
          "evalue": "ignored",
          "traceback": [
            "\u001b[0;31m---------------------------------------------------------------------------\u001b[0m",
            "\u001b[0;31mAssertionError\u001b[0m                            Traceback (most recent call last)",
            "\u001b[0;32m<ipython-input-49-130a614b6841>\u001b[0m in \u001b[0;36m<module>\u001b[0;34m()\u001b[0m\n\u001b[0;32m----> 1\u001b[0;31m \u001b[0mresult\u001b[0m \u001b[0;34m=\u001b[0m \u001b[0mmanual_encoder\u001b[0m\u001b[0;34m(\u001b[0m\u001b[0mmy_examples\u001b[0m\u001b[0;34m,\u001b[0m \u001b[0mtraining\u001b[0m\u001b[0;34m=\u001b[0m\u001b[0;32mFalse\u001b[0m\u001b[0;34m)\u001b[0m\u001b[0;34m\u001b[0m\u001b[0;34m\u001b[0m\u001b[0m\n\u001b[0m\u001b[1;32m      2\u001b[0m \u001b[0;34m\u001b[0m\u001b[0m\n\u001b[1;32m      3\u001b[0m \u001b[0mprint\u001b[0m\u001b[0;34m(\u001b[0m\u001b[0;34m\"Sequence output shape:\"\u001b[0m\u001b[0;34m,\u001b[0m \u001b[0mresult\u001b[0m\u001b[0;34m[\u001b[0m\u001b[0;36m0\u001b[0m\u001b[0;34m]\u001b[0m\u001b[0;34m.\u001b[0m\u001b[0mshape\u001b[0m\u001b[0;34m)\u001b[0m\u001b[0;34m\u001b[0m\u001b[0;34m\u001b[0m\u001b[0m\n\u001b[1;32m      4\u001b[0m \u001b[0mprint\u001b[0m\u001b[0;34m(\u001b[0m\u001b[0;34m\"Pooled output shape:\"\u001b[0m\u001b[0;34m,\u001b[0m \u001b[0mresult\u001b[0m\u001b[0;34m[\u001b[0m\u001b[0;36m1\u001b[0m\u001b[0;34m]\u001b[0m\u001b[0;34m.\u001b[0m\u001b[0mshape\u001b[0m\u001b[0;34m)\u001b[0m\u001b[0;34m\u001b[0m\u001b[0;34m\u001b[0m\u001b[0m\n",
            "\u001b[0;32m/usr/local/lib/python3.6/dist-packages/tensorflow/python/keras/engine/base_layer.py\u001b[0m in \u001b[0;36m__call__\u001b[0;34m(self, *args, **kwargs)\u001b[0m\n\u001b[1;32m    985\u001b[0m \u001b[0;34m\u001b[0m\u001b[0m\n\u001b[1;32m    986\u001b[0m         \u001b[0;32mwith\u001b[0m \u001b[0mops\u001b[0m\u001b[0;34m.\u001b[0m\u001b[0menable_auto_cast_variables\u001b[0m\u001b[0;34m(\u001b[0m\u001b[0mself\u001b[0m\u001b[0;34m.\u001b[0m\u001b[0m_compute_dtype_object\u001b[0m\u001b[0;34m)\u001b[0m\u001b[0;34m:\u001b[0m\u001b[0;34m\u001b[0m\u001b[0;34m\u001b[0m\u001b[0m\n\u001b[0;32m--> 987\u001b[0;31m           \u001b[0moutputs\u001b[0m \u001b[0;34m=\u001b[0m \u001b[0mcall_fn\u001b[0m\u001b[0;34m(\u001b[0m\u001b[0minputs\u001b[0m\u001b[0;34m,\u001b[0m \u001b[0;34m*\u001b[0m\u001b[0margs\u001b[0m\u001b[0;34m,\u001b[0m \u001b[0;34m**\u001b[0m\u001b[0mkwargs\u001b[0m\u001b[0;34m)\u001b[0m\u001b[0;34m\u001b[0m\u001b[0;34m\u001b[0m\u001b[0m\n\u001b[0m\u001b[1;32m    988\u001b[0m \u001b[0;34m\u001b[0m\u001b[0m\n\u001b[1;32m    989\u001b[0m         \u001b[0;32mif\u001b[0m \u001b[0mself\u001b[0m\u001b[0;34m.\u001b[0m\u001b[0m_activity_regularizer\u001b[0m\u001b[0;34m:\u001b[0m\u001b[0;34m\u001b[0m\u001b[0;34m\u001b[0m\u001b[0m\n",
            "\u001b[0;32m/usr/local/lib/python3.6/dist-packages/tensorflow/python/keras/engine/functional.py\u001b[0m in \u001b[0;36mcall\u001b[0;34m(self, inputs, training, mask)\u001b[0m\n\u001b[1;32m    380\u001b[0m     \"\"\"\n\u001b[1;32m    381\u001b[0m     return self._run_internal_graph(\n\u001b[0;32m--> 382\u001b[0;31m         inputs, training=training, mask=mask)\n\u001b[0m\u001b[1;32m    383\u001b[0m \u001b[0;34m\u001b[0m\u001b[0m\n\u001b[1;32m    384\u001b[0m   \u001b[0;32mdef\u001b[0m \u001b[0mcompute_output_shape\u001b[0m\u001b[0;34m(\u001b[0m\u001b[0mself\u001b[0m\u001b[0;34m,\u001b[0m \u001b[0minput_shape\u001b[0m\u001b[0;34m)\u001b[0m\u001b[0;34m:\u001b[0m\u001b[0;34m\u001b[0m\u001b[0;34m\u001b[0m\u001b[0m\n",
            "\u001b[0;32m/usr/local/lib/python3.6/dist-packages/tensorflow/python/keras/engine/functional.py\u001b[0m in \u001b[0;36m_run_internal_graph\u001b[0;34m(self, inputs, training, mask)\u001b[0m\n\u001b[1;32m    511\u001b[0m     \u001b[0;32mfor\u001b[0m \u001b[0mx\u001b[0m \u001b[0;32min\u001b[0m \u001b[0mself\u001b[0m\u001b[0;34m.\u001b[0m\u001b[0moutputs\u001b[0m\u001b[0;34m:\u001b[0m\u001b[0;34m\u001b[0m\u001b[0;34m\u001b[0m\u001b[0m\n\u001b[1;32m    512\u001b[0m       \u001b[0mx_id\u001b[0m \u001b[0;34m=\u001b[0m \u001b[0mstr\u001b[0m\u001b[0;34m(\u001b[0m\u001b[0mid\u001b[0m\u001b[0;34m(\u001b[0m\u001b[0mx\u001b[0m\u001b[0;34m)\u001b[0m\u001b[0;34m)\u001b[0m\u001b[0;34m\u001b[0m\u001b[0;34m\u001b[0m\u001b[0m\n\u001b[0;32m--> 513\u001b[0;31m       \u001b[0;32massert\u001b[0m \u001b[0mx_id\u001b[0m \u001b[0;32min\u001b[0m \u001b[0mtensor_dict\u001b[0m\u001b[0;34m,\u001b[0m \u001b[0;34m'Could not compute output '\u001b[0m \u001b[0;34m+\u001b[0m \u001b[0mstr\u001b[0m\u001b[0;34m(\u001b[0m\u001b[0mx\u001b[0m\u001b[0;34m)\u001b[0m\u001b[0;34m\u001b[0m\u001b[0;34m\u001b[0m\u001b[0m\n\u001b[0m\u001b[1;32m    514\u001b[0m       \u001b[0moutput_tensors\u001b[0m\u001b[0;34m.\u001b[0m\u001b[0mappend\u001b[0m\u001b[0;34m(\u001b[0m\u001b[0mtensor_dict\u001b[0m\u001b[0;34m[\u001b[0m\u001b[0mx_id\u001b[0m\u001b[0;34m]\u001b[0m\u001b[0;34m.\u001b[0m\u001b[0mpop\u001b[0m\u001b[0;34m(\u001b[0m\u001b[0;34m)\u001b[0m\u001b[0;34m)\u001b[0m\u001b[0;34m\u001b[0m\u001b[0;34m\u001b[0m\u001b[0m\n\u001b[1;32m    515\u001b[0m \u001b[0;34m\u001b[0m\u001b[0m\n",
            "\u001b[0;31mAssertionError\u001b[0m: Could not compute output KerasTensor(type_spec=TensorSpec(shape=(None, None, 768), dtype=tf.float32, name=None), name='transformer/layer_11/output_layer_norm/batchnorm/add_1:0', description=\"Symbolic value 0 from symbolic call 0 of layer 'transformer/layer_11'\")"
          ]
        }
      ]
    },
    {
      "cell_type": "code",
      "metadata": {
        "id": "FMPpzRwfJFnM",
        "colab_type": "code",
        "colab": {}
      },
      "source": [
        "my_examples = bert_encode(\n",
        "    glue_dict = {\n",
        "        'sentence':[\n",
        "            'The rain in Spain falls mainly on the plain.',\n",
        "            'I saw that gas can explode.']},\n",
        "    tokenizer=tokenizer)"
      ],
      "execution_count": 51,
      "outputs": []
    },
    {
      "cell_type": "code",
      "metadata": {
        "id": "Oih_3K4PJFel",
        "colab_type": "code",
        "colab": {
          "base_uri": "https://localhost:8080/",
          "height": 34
        },
        "outputId": "0b18a97a-9997-49a7-f16c-21b489e7bde4"
      },
      "source": [
        "len(result)"
      ],
      "execution_count": 54,
      "outputs": [
        {
          "output_type": "execute_result",
          "data": {
            "text/plain": [
              "2"
            ]
          },
          "metadata": {
            "tags": []
          },
          "execution_count": 54
        }
      ]
    },
    {
      "cell_type": "code",
      "metadata": {
        "id": "Yfi6gM1xJFgS",
        "colab_type": "code",
        "colab": {
          "base_uri": "https://localhost:8080/",
          "height": 52
        },
        "outputId": "b19bb890-b8fa-4bff-c632-fd7fa55fea6b"
      },
      "source": [
        "result = manual_encoder(my_examples, training=False)\n",
        "\n",
        "print(\"Sequence output shape:\", result[0].shape)\n",
        "print(\"Pooled output shape:\", result[1].shape)"
      ],
      "execution_count": 52,
      "outputs": [
        {
          "output_type": "stream",
          "text": [
            "Sequence output shape: (2, 12, 768)\n",
            "Pooled output shape: (2, 768)\n"
          ],
          "name": "stdout"
        }
      ]
    },
    {
      "cell_type": "code",
      "metadata": {
        "id": "xKITloPZnOVy",
        "colab_type": "code",
        "colab": {
          "base_uri": "https://localhost:8080/",
          "height": 1000
        },
        "outputId": "e688ee60-849e-427b-e66d-bf4e757ca85d"
      },
      "source": [
        "tf.keras.utils.plot_model(manual_encoder, show_shapes=True, dpi=64)\n"
      ],
      "execution_count": 132,
      "outputs": [
        {
          "output_type": "execute_result",
          "data": {
            "image/png": "[encoded data removed]",
            "text/plain": [
              "<IPython.core.display.Image object>"
            ]
          },
          "metadata": {
            "tags": []
          },
          "execution_count": 132
        }
      ]
    },
    {
      "cell_type": "code",
      "metadata": {
        "id": "FQ-qA0ouRQNX",
        "colab_type": "code",
        "colab": {}
      },
      "source": [
        "manual_classifier = nlp.modeling.models.BertClassifier(\n",
        "        manual_encoder,\n",
        "        num_classes=2,\n",
        "        dropout_rate=transformer_config['dropout_rate'],\n",
        "        initializer=tf.keras.initializers.TruncatedNormal(\n",
        "          stddev=bert_config.initializer_range))"
      ],
      "execution_count": 56,
      "outputs": []
    },
    {
      "cell_type": "code",
      "metadata": {
        "id": "FdXIwmg_RQRN",
        "colab_type": "code",
        "colab": {
          "base_uri": "https://localhost:8080/",
          "height": 52
        },
        "outputId": "6d19ae6a-4915-413e-916d-47cc6412ef13"
      },
      "source": [
        "manual_classifier(my_examples, training=True).numpy()"
      ],
      "execution_count": 57,
      "outputs": [
        {
          "output_type": "execute_result",
          "data": {
            "text/plain": [
              "array([[-0.52409387,  0.31285107],\n",
              "       [-0.30057865,  0.38749963]], dtype=float32)"
            ]
          },
          "metadata": {
            "tags": []
          },
          "execution_count": 57
        }
      ]
    },
    {
      "cell_type": "code",
      "metadata": {
        "id": "EBPZt_-UndUA",
        "colab_type": "code",
        "colab": {
          "base_uri": "https://localhost:8080/",
          "height": 286
        },
        "outputId": "4e001291-44cd-4aab-ae06-4e3dd84850df"
      },
      "source": [
        "tf.keras.utils.plot_model(manual_classifier, show_shapes=True, dpi=64)"
      ],
      "execution_count": 133,
      "outputs": [
        {
          "output_type": "execute_result",
          "data": {
            "image/png": "[encoded data removed]",
            "text/plain": [
              "<IPython.core.display.Image object>"
            ]
          },
          "metadata": {
            "tags": []
          },
          "execution_count": 133
        }
      ]
    },
    {
      "cell_type": "code",
      "metadata": {
        "id": "HwiEwz6bSKxd",
        "colab_type": "code",
        "colab": {}
      },
      "source": [
        "# Set up epochs and steps\n",
        "epochs = 5\n",
        "batch_size = 32\n",
        "eval_batch_size = 32\n",
        "\n",
        "train_data_size = len(glue_train_labels)\n",
        "steps_per_epoch = int(train_data_size / batch_size)\n",
        "num_train_steps = steps_per_epoch * epochs\n",
        "warmup_steps = int(epochs * train_data_size * 0.1 / batch_size)\n",
        "\n",
        "# creates an optimizer with learning rate schedule\n",
        "optimizer = nlp.optimization.create_optimizer(\n",
        "    2e-5, num_train_steps=num_train_steps, num_warmup_steps=warmup_steps)"
      ],
      "execution_count": 60,
      "outputs": []
    },
    {
      "cell_type": "code",
      "metadata": {
        "id": "3SgNCqxgRQWU",
        "colab_type": "code",
        "colab": {}
      },
      "source": [
        "optimizer = nlp.optimization.create_optimizer(\n",
        "    2e-5, num_train_steps=num_train_steps, num_warmup_steps=warmup_steps)"
      ],
      "execution_count": 61,
      "outputs": []
    },
    {
      "cell_type": "code",
      "metadata": {
        "id": "ekb2wS8zSQIG",
        "colab_type": "code",
        "colab": {}
      },
      "source": [
        "epochs = 5\n",
        "batch_size = 32\n",
        "eval_batch_size = 16\n",
        "\n",
        "train_data_size = len(glue_train_labels)\n",
        "steps_per_epoch = int(train_data_size / batch_size)\n",
        "num_train_steps = steps_per_epoch * epochs"
      ],
      "execution_count": 62,
      "outputs": []
    },
    {
      "cell_type": "code",
      "metadata": {
        "id": "dPleensiSQNk",
        "colab_type": "code",
        "colab": {
          "base_uri": "https://localhost:8080/",
          "height": 293
        },
        "outputId": "381603da-7c79-4107-d2ea-846b33f2985a"
      },
      "source": [
        "decay_schedule = tf.keras.optimizers.schedules.PolynomialDecay(\n",
        "      initial_learning_rate=2e-5,\n",
        "      decay_steps=num_train_steps,\n",
        "      end_learning_rate=0)\n",
        "\n",
        "plt.plot([decay_schedule(n) for n in range(num_train_steps)])"
      ],
      "execution_count": 63,
      "outputs": [
        {
          "output_type": "execute_result",
          "data": {
            "text/plain": [
              "[<matplotlib.lines.Line2D at 0x7f806c1d8ac8>]"
            ]
          },
          "metadata": {
            "tags": []
          },
          "execution_count": 63
        },
        {
          "output_type": "display_data",
          "data": {
            "image/png": "[encoded data removed]",
            "text/plain": [
              "<Figure size 432x288 with 1 Axes>"
            ]
          },
          "metadata": {
            "tags": [],
            "needs_background": "light"
          }
        }
      ]
    },
    {
      "cell_type": "code",
      "metadata": {
        "id": "f7lCUIo_SQR5",
        "colab_type": "code",
        "colab": {
          "base_uri": "https://localhost:8080/",
          "height": 293
        },
        "outputId": "f5ea6650-6ba8-4ac5-a13f-d02bbe3edb57"
      },
      "source": [
        "warmup_steps = num_train_steps * 0.1\n",
        "\n",
        "warmup_schedule = nlp.optimization.WarmUp(\n",
        "        initial_learning_rate=2e-5,\n",
        "        decay_schedule_fn=decay_schedule,\n",
        "        warmup_steps=warmup_steps)\n",
        "\n",
        "# The warmup overshoots, because it warms up to the `initial_learning_rate`\n",
        "# following the original implementation. You can set\n",
        "# `initial_learning_rate=decay_schedule(warmup_steps)` if you don't like the\n",
        "# overshoot.\n",
        "plt.plot([warmup_schedule(n) for n in range(num_train_steps)])"
      ],
      "execution_count": 64,
      "outputs": [
        {
          "output_type": "execute_result",
          "data": {
            "text/plain": [
              "[<matplotlib.lines.Line2D at 0x7f806c148128>]"
            ]
          },
          "metadata": {
            "tags": []
          },
          "execution_count": 64
        },
        {
          "output_type": "display_data",
          "data": {
            "image/png": "[encoded data removed]",
            "text/plain": [
              "<Figure size 432x288 with 1 Axes>"
            ]
          },
          "metadata": {
            "tags": [],
            "needs_background": "light"
          }
        }
      ]
    },
    {
      "cell_type": "code",
      "metadata": {
        "id": "CRwWjKHZSQK5",
        "colab_type": "code",
        "colab": {}
      },
      "source": [
        "optimizer = nlp.optimization.AdamWeightDecay(\n",
        "        learning_rate=warmup_schedule,\n",
        "        weight_decay_rate=0.01,\n",
        "        epsilon=1e-6,\n",
        "        exclude_from_weight_decay=['LayerNorm', 'layer_norm', 'bias'])"
      ],
      "execution_count": 66,
      "outputs": []
    },
    {
      "cell_type": "code",
      "metadata": {
        "id": "BCP9f5nhSxjL",
        "colab_type": "code",
        "colab": {
          "base_uri": "https://localhost:8080/",
          "height": 212
        },
        "outputId": "107acfd2-83c1-4e3d-dc56-4ababb7e035c"
      },
      "source": [
        "metrics = [tf.keras.metrics.SparseCategoricalAccuracy('accuracy', dtype=tf.float32)]\n",
        "loss = tf.keras.losses.SparseCategoricalCrossentropy(from_logits=True)\n",
        "\n",
        "manual_classifier.compile(\n",
        "    optimizer=optimizer,\n",
        "    loss=loss,\n",
        "    metrics=metrics)\n",
        "\n",
        "manual_classifier.fit(\n",
        "      glue_train, glue_train_labels,\n",
        "      validation_data=(glue_validation, glue_validation_labels),\n",
        "      batch_size=32,\n",
        "      epochs=epochs)"
      ],
      "execution_count": 67,
      "outputs": [
        {
          "output_type": "stream",
          "text": [
            "Epoch 1/5\n",
            "268/268 [==============================] - 107s 399ms/step - loss: 0.5813 - accuracy: 0.7197 - val_loss: 0.4324 - val_accuracy: 0.8130\n",
            "Epoch 2/5\n",
            "268/268 [==============================] - 95s 356ms/step - loss: 0.3415 - accuracy: 0.8566 - val_loss: 0.4814 - val_accuracy: 0.7977\n",
            "Epoch 3/5\n",
            "268/268 [==============================] - 95s 354ms/step - loss: 0.1913 - accuracy: 0.9335 - val_loss: 0.5046 - val_accuracy: 0.8284\n",
            "Epoch 4/5\n",
            "268/268 [==============================] - 95s 354ms/step - loss: 0.1165 - accuracy: 0.9619 - val_loss: 0.5644 - val_accuracy: 0.8341\n",
            "Epoch 5/5\n",
            "268/268 [==============================] - 95s 354ms/step - loss: 0.0903 - accuracy: 0.9711 - val_loss: 0.5926 - val_accuracy: 0.8437\n"
          ],
          "name": "stdout"
        },
        {
          "output_type": "execute_result",
          "data": {
            "text/plain": [
              "<tensorflow.python.keras.callbacks.History at 0x7f806c10b5c0>"
            ]
          },
          "metadata": {
            "tags": []
          },
          "execution_count": 67
        }
      ]
    },
    {
      "cell_type": "markdown",
      "metadata": {
        "id": "zSBXmROpYsxj",
        "colab_type": "text"
      },
      "source": [
        "Corpus Sample\n",
        "\n",
        "\n",
        "clc95\t0\t*\tIn which way is Sandy very anxious to see if the students will be able to solve the homework problem?\n",
        "\n",
        "c-05\t1\t\tThe book was written by John.\n",
        "\n",
        "c-05\t0\t*\tBooks were sent to each other by the students.\n",
        "\n",
        "swb04\t1\t\tShe voted for herself.\n",
        "\n",
        "swb04\t1\t\tI saw that gas can explode."
      ]
    },
    {
      "cell_type": "code",
      "metadata": {
        "id": "24xi6UwtZQq2",
        "colab_type": "code",
        "colab": {
          "base_uri": "https://localhost:8080/",
          "height": 34
        },
        "outputId": "ef9613c6-90e8-42d3-d32a-0bf210f7a8f4"
      },
      "source": [
        "info.features['label'].names"
      ],
      "execution_count": 71,
      "outputs": [
        {
          "output_type": "execute_result",
          "data": {
            "text/plain": [
              "['unacceptable', 'acceptable']"
            ]
          },
          "metadata": {
            "tags": []
          },
          "execution_count": 71
        }
      ]
    },
    {
      "cell_type": "code",
      "metadata": {
        "id": "8dq-MfclYrD4",
        "colab_type": "code",
        "colab": {}
      },
      "source": [
        "my_examples = bert_encode(\n",
        "    glue_dict = {\n",
        "        'sentence':[\n",
        "            'The rain in Spain falls mainly on the plain.',\n",
        "            'I saw that gas can explode.', \"What's the time now?\", \"I can make do without mayo.\",\n",
        "            \"I saw that gas can explode.\", \"She voted for herself.\", \"Books were sent to each other by the students.\", \"The book was written by John.\",\n",
        "            \"In which way is Sandy very anxious to see if the students will be able to solve the homework problem?\", \"In jungle the lived tarzan a.\"]},\n",
        "    tokenizer=tokenizer)"
      ],
      "execution_count": 77,
      "outputs": []
    },
    {
      "cell_type": "code",
      "metadata": {
        "id": "hLSPPBgDSxo2",
        "colab_type": "code",
        "colab": {
          "base_uri": "https://localhost:8080/",
          "height": 194
        },
        "outputId": "1f11e4e1-c309-40eb-91bb-ef92a07e40f6"
      },
      "source": [
        "results = manual_classifier(my_examples, training=False).numpy()\n",
        "results"
      ],
      "execution_count": 78,
      "outputs": [
        {
          "output_type": "execute_result",
          "data": {
            "text/plain": [
              "array([[-2.0503287,  2.2647827],\n",
              "       [-2.2913558,  2.4469733],\n",
              "       [-2.3154979,  2.40252  ],\n",
              "       [-2.322591 ,  2.671986 ],\n",
              "       [-2.2913558,  2.4469733],\n",
              "       [-2.0857754,  2.4675007],\n",
              "       [-2.5427437,  2.9134598],\n",
              "       [-2.3438401,  2.9095745],\n",
              "       [-1.7903519,  1.9692929],\n",
              "       [ 1.595684 , -1.8879359]], dtype=float32)"
            ]
          },
          "metadata": {
            "tags": []
          },
          "execution_count": 78
        }
      ]
    },
    {
      "cell_type": "code",
      "metadata": {
        "id": "EO_6suKCSxu2",
        "colab_type": "code",
        "colab": {
          "base_uri": "https://localhost:8080/",
          "height": 34
        },
        "outputId": "eaf829d3-51f7-429f-e88a-468fd2186772"
      },
      "source": [
        "results = tf.argmax(results, axis = 1).numpy()\n",
        "results"
      ],
      "execution_count": 79,
      "outputs": [
        {
          "output_type": "execute_result",
          "data": {
            "text/plain": [
              "array([1, 1, 1, 1, 1, 1, 1, 1, 1, 0])"
            ]
          },
          "metadata": {
            "tags": []
          },
          "execution_count": 79
        }
      ]
    },
    {
      "cell_type": "code",
      "metadata": {
        "id": "0EqBd2ixSxtX",
        "colab_type": "code",
        "colab": {
          "base_uri": "https://localhost:8080/",
          "height": 285
        },
        "outputId": "df250d01-6278-4b34-d0a7-2d554e049d94"
      },
      "source": [
        "export_dir='./saved_model_bert_cola'\n",
        "tf.saved_model.save(manual_classifier, export_dir=export_dir)"
      ],
      "execution_count": 81,
      "outputs": [
        {
          "output_type": "stream",
          "text": [
            "WARNING:tensorflow:From /usr/local/lib/python3.6/dist-packages/tensorflow/python/training/tracking/tracking.py:111: Model.state_updates (from tensorflow.python.keras.engine.training) is deprecated and will be removed in a future version.\n",
            "Instructions for updating:\n",
            "This property should not be used in TensorFlow 2.0, as updates are applied automatically.\n"
          ],
          "name": "stdout"
        },
        {
          "output_type": "stream",
          "text": [
            "WARNING:tensorflow:From /usr/local/lib/python3.6/dist-packages/tensorflow/python/training/tracking/tracking.py:111: Model.state_updates (from tensorflow.python.keras.engine.training) is deprecated and will be removed in a future version.\n",
            "Instructions for updating:\n",
            "This property should not be used in TensorFlow 2.0, as updates are applied automatically.\n"
          ],
          "name": "stderr"
        },
        {
          "output_type": "stream",
          "text": [
            "WARNING:tensorflow:From /usr/local/lib/python3.6/dist-packages/tensorflow/python/training/tracking/tracking.py:111: Layer.updates (from tensorflow.python.keras.engine.base_layer) is deprecated and will be removed in a future version.\n",
            "Instructions for updating:\n",
            "This property should not be used in TensorFlow 2.0, as updates are applied automatically.\n"
          ],
          "name": "stdout"
        },
        {
          "output_type": "stream",
          "text": [
            "WARNING:tensorflow:From /usr/local/lib/python3.6/dist-packages/tensorflow/python/training/tracking/tracking.py:111: Layer.updates (from tensorflow.python.keras.engine.base_layer) is deprecated and will be removed in a future version.\n",
            "Instructions for updating:\n",
            "This property should not be used in TensorFlow 2.0, as updates are applied automatically.\n"
          ],
          "name": "stderr"
        },
        {
          "output_type": "stream",
          "text": [
            "INFO:tensorflow:Assets written to: ./saved_model_bert_cola/assets\n"
          ],
          "name": "stdout"
        },
        {
          "output_type": "stream",
          "text": [
            "INFO:tensorflow:Assets written to: ./saved_model_bert_cola/assets\n"
          ],
          "name": "stderr"
        }
      ]
    },
    {
      "cell_type": "code",
      "metadata": {
        "id": "isM9qF-LSxmX",
        "colab_type": "code",
        "colab": {
          "base_uri": "https://localhost:8080/",
          "height": 123
        },
        "outputId": "079f9cb9-8521-4576-bcb0-4eb0c858d38b"
      },
      "source": [
        "!zip -r saved_model_bert_cola.zip /content/saved_model_bert_cola/"
      ],
      "execution_count": 82,
      "outputs": [
        {
          "output_type": "stream",
          "text": [
            "  adding: content/saved_model_bert_cola/ (stored 0%)\n",
            "  adding: content/saved_model_bert_cola/saved_model.pb (deflated 93%)\n",
            "  adding: content/saved_model_bert_cola/variables/ (stored 0%)\n",
            "  adding: content/saved_model_bert_cola/variables/variables.data-00000-of-00001 (deflated 7%)\n",
            "  adding: content/saved_model_bert_cola/variables/variables.index (deflated 76%)\n",
            "  adding: content/saved_model_bert_cola/assets/ (stored 0%)\n"
          ],
          "name": "stdout"
        }
      ]
    }
  ]
}